{
 "cells": [
  {
   "cell_type": "markdown",
   "id": "41d48206",
   "metadata": {},
   "source": [
    "### 컴퓨터 비전(Computer Vision)\n",
    "\n",
    "+ 이미지에서 의미 있는 정보를 추출하는 분야로 주로 실시간 응용문제를 다룬다. \n",
    "+ 응용 예 \n",
    "    - 산업 현장에서 자동으로 제품의 결함을 검사\n",
    "    - 스캐너 또는 카메라 캡처 영상에서 문자 인식, 얼굴 인식, 지문 인식, 사람 도는 자동차 등과 같은 움직이는 물체 검출 및 물체 추적 등. \n",
    "\n",
    "\n",
    "+ 입력 영상의 화질 개선, 잡음 제거, 영역 분할 등의 전처리 또는 저수준처리 \n",
    "\n",
    "+ 영상 분선, 추적, 인식 등의 후처리 또는 고수준 처리\n",
    "\n",
    "## Open CV \n",
    "\n",
    "+ 영상 처리, 컴퓨터 비전, 비디오 처리, 기계 학습등을 포함한 라이브러리 \n",
    "+ BSD 라이센스 \n",
    "+ 초창기에는 C언어로 작성되었고 현재는 C++로 개발되고 있다."
   ]
  },
  {
   "cell_type": "code",
   "execution_count": 4,
   "id": "2b837f09",
   "metadata": {},
   "outputs": [],
   "source": [
    "import cv2"
   ]
  },
  {
   "cell_type": "code",
   "execution_count": 5,
   "id": "7db17f26",
   "metadata": {},
   "outputs": [
    {
     "data": {
      "text/plain": [
       "True"
      ]
     },
     "execution_count": 5,
     "metadata": {},
     "output_type": "execute_result"
    }
   ],
   "source": [
    "img_file = 'face1.jpg'\n",
    "\n",
    "# 사진을 흑백으로 \n",
    "img1 = cv2.imread(img_file,cv2.IMREAD_GRAYSCALE)\n",
    "cv2.imwrite('face1=1.jpg',img1)\n"
   ]
  },
  {
   "cell_type": "code",
   "execution_count": 9,
   "id": "cfbedfa3",
   "metadata": {},
   "outputs": [
    {
     "name": "stdout",
     "output_type": "stream",
     "text": [
      "[[402 479 354 354]]\n"
     ]
    }
   ],
   "source": [
    "img_file = 'face1.jpg'\n",
    "img1 = cv2.imread(img_file)\n",
    "\n",
    "cascade_file = 'C:\\\\ProgramData\\\\Anaconda3\\\\Lib\\\\site-packages\\\\cv2\\\\data\\\\haarcascade_frontalface_alt.xml'\n",
    "\n",
    "cascade = cv2.CascadeClassifier(cascade_file)\n",
    "face_list=cascade.detectMultiScale(img1,scaleFactor=1.1,minNeighbors=1,minSize=(150,150))\n",
    "\n",
    "if len(face_list) > 0:\n",
    "    print(face_list)\n",
    "    for face in face_list:\n",
    "        x,y,w,h = face\n",
    "        cv2.rectangle(img1,(x,y),(x+w,y+h),(0,0,255),thickness=8)\n",
    "    cv2.imwrite('face1_2.jpg',img1)\n",
    "else:\n",
    "    print('no face')"
   ]
  },
  {
   "cell_type": "code",
   "execution_count": 10,
   "id": "5c7904be",
   "metadata": {},
   "outputs": [
    {
     "name": "stdout",
     "output_type": "stream",
     "text": [
      "[[598 480 207 207]\n",
      " [293 142 239 239]]\n"
     ]
    }
   ],
   "source": [
    "img_file = 'face2.jpg'\n",
    "img1 = cv2.imread(img_file)\n",
    "# 성능이 별로 안좋음. \n",
    "\n",
    "cascade_file = 'C:\\\\ProgramData\\\\Anaconda3\\\\Lib\\\\site-packages\\\\cv2\\\\data\\\\haarcascade_frontalface_alt.xml'\n",
    "\n",
    "cascade = cv2.CascadeClassifier(cascade_file)\n",
    "face_list=cascade.detectMultiScale(img1,scaleFactor=1.1,minNeighbors=1,minSize=(150,150))\n",
    "\n",
    "if len(face_list) > 0:\n",
    "    print(face_list)\n",
    "    for face in face_list:\n",
    "        x,y,w,h = face\n",
    "        cv2.rectangle(img1,(x,y),(x+w,y+h),(0,0,255),thickness=8)\n",
    "    cv2.imwrite('face2_1.jpg',img1)\n",
    "else:\n",
    "    print('no face')"
   ]
  },
  {
   "cell_type": "code",
   "execution_count": 12,
   "id": "735585a6",
   "metadata": {},
   "outputs": [
    {
     "name": "stdout",
     "output_type": "stream",
     "text": [
      "[[402 479 354 354]]\n"
     ]
    }
   ],
   "source": [
    "# 이미지를 흑백으로 변환한 뒤 처리 \n",
    "\n",
    "img_file = 'face1.jpg'\n",
    "img1 = cv2.imread(img_file)\n",
    "img1_gs = cv2.cvtColor(img1,cv2.COLOR_BGR2GRAY)\n",
    "\n",
    "cascade_file = 'C:\\\\ProgramData\\\\Anaconda3\\\\Lib\\\\site-packages\\\\cv2\\\\data\\\\haarcascade_frontalface_alt.xml'\n",
    "\n",
    "cascade = cv2.CascadeClassifier(cascade_file)\n",
    "face_list=cascade.detectMultiScale(img1_gs,scaleFactor=1.1,minNeighbors=1,minSize=(150,150))\n",
    "\n",
    "if len(face_list) > 0:\n",
    "    print(face_list)\n",
    "    for face in face_list:\n",
    "        x,y,w,h = face\n",
    "        cv2.rectangle(img1,(x,y),(x+w,y+h),(0,0,255),thickness=8) # 빨간 선\n",
    "    cv2.imwrite('face1_3.jpg',img1)\n",
    "else:\n",
    "    print('no face')"
   ]
  },
  {
   "cell_type": "code",
   "execution_count": 15,
   "id": "9cc8e553",
   "metadata": {},
   "outputs": [
    {
     "name": "stdout",
     "output_type": "stream",
     "text": [
      "[[402 479 354 354]]\n"
     ]
    }
   ],
   "source": [
    "# 모자이크 처뤼~\n",
    "img_file = 'face1.jpg'\n",
    "img1 = cv2.imread(img_file)\n",
    "img1_gs = cv2.cvtColor(img1,cv2.COLOR_BGR2GRAY)\n",
    "\n",
    "cascade_file = 'C:\\\\ProgramData\\\\Anaconda3\\\\Lib\\\\site-packages\\\\cv2\\\\data\\\\haarcascade_frontalface_alt.xml'\n",
    "\n",
    "cascade = cv2.CascadeClassifier(cascade_file)\n",
    "face_list=cascade.detectMultiScale(img1_gs,scaleFactor=1.1,minNeighbors=1,minSize=(150,150))\n",
    "\n",
    "if len(face_list) > 0:\n",
    "    print(face_list)\n",
    "    for face in face_list:\n",
    "        x,y,w,h = face\n",
    "        \n",
    "        face_img = img1[y:y+h,x:x+w]\n",
    "        face_img = cv2.resize(face_img, (w//30,h//30))\n",
    "        face_img = cv2.resize(face_img, (w,h),interpolation=cv2.INTER_AREA) # 원래크기로 되돌려놓음\n",
    "        img1[y:y+h,x:x+w] = face_img\n",
    "        \n",
    "        \n",
    "    cv2.imwrite('face1_4.jpg',img1)\n",
    "else:\n",
    "    print('no face')"
   ]
  },
  {
   "cell_type": "code",
   "execution_count": null,
   "id": "b1f8b463",
   "metadata": {},
   "outputs": [],
   "source": []
  },
  {
   "cell_type": "code",
   "execution_count": null,
   "id": "1f39c987",
   "metadata": {},
   "outputs": [],
   "source": []
  },
  {
   "cell_type": "code",
   "execution_count": null,
   "id": "3e02a674",
   "metadata": {},
   "outputs": [],
   "source": []
  },
  {
   "cell_type": "code",
   "execution_count": null,
   "id": "67c84a93",
   "metadata": {},
   "outputs": [],
   "source": []
  },
  {
   "cell_type": "code",
   "execution_count": null,
   "id": "923c20ee",
   "metadata": {},
   "outputs": [],
   "source": []
  },
  {
   "cell_type": "code",
   "execution_count": null,
   "id": "1c838799",
   "metadata": {},
   "outputs": [],
   "source": []
  },
  {
   "cell_type": "code",
   "execution_count": null,
   "id": "453bc496",
   "metadata": {},
   "outputs": [],
   "source": []
  },
  {
   "cell_type": "code",
   "execution_count": null,
   "id": "2fe17e45",
   "metadata": {},
   "outputs": [],
   "source": []
  },
  {
   "cell_type": "code",
   "execution_count": null,
   "id": "f0054201",
   "metadata": {},
   "outputs": [],
   "source": []
  },
  {
   "cell_type": "code",
   "execution_count": null,
   "id": "1c21484d",
   "metadata": {},
   "outputs": [],
   "source": []
  },
  {
   "cell_type": "code",
   "execution_count": null,
   "id": "a7350a66",
   "metadata": {},
   "outputs": [],
   "source": []
  },
  {
   "cell_type": "code",
   "execution_count": null,
   "id": "b02f80a9",
   "metadata": {},
   "outputs": [],
   "source": []
  },
  {
   "cell_type": "code",
   "execution_count": null,
   "id": "743cf392",
   "metadata": {},
   "outputs": [],
   "source": []
  },
  {
   "cell_type": "code",
   "execution_count": null,
   "id": "996ba744",
   "metadata": {},
   "outputs": [],
   "source": []
  },
  {
   "cell_type": "code",
   "execution_count": null,
   "id": "dc470e8e",
   "metadata": {},
   "outputs": [],
   "source": []
  },
  {
   "cell_type": "code",
   "execution_count": null,
   "id": "8f28a071",
   "metadata": {},
   "outputs": [],
   "source": []
  },
  {
   "cell_type": "code",
   "execution_count": null,
   "id": "333c13d5",
   "metadata": {},
   "outputs": [],
   "source": []
  },
  {
   "cell_type": "code",
   "execution_count": null,
   "id": "09a33587",
   "metadata": {},
   "outputs": [],
   "source": []
  },
  {
   "cell_type": "code",
   "execution_count": null,
   "id": "2baefb75",
   "metadata": {},
   "outputs": [],
   "source": []
  },
  {
   "cell_type": "code",
   "execution_count": null,
   "id": "884f95a5",
   "metadata": {},
   "outputs": [],
   "source": []
  },
  {
   "cell_type": "code",
   "execution_count": null,
   "id": "2b47a0c1",
   "metadata": {},
   "outputs": [],
   "source": []
  },
  {
   "cell_type": "code",
   "execution_count": null,
   "id": "7bdb4dbd",
   "metadata": {},
   "outputs": [],
   "source": []
  },
  {
   "cell_type": "code",
   "execution_count": null,
   "id": "2a04c385",
   "metadata": {},
   "outputs": [],
   "source": []
  },
  {
   "cell_type": "code",
   "execution_count": null,
   "id": "3ca63720",
   "metadata": {},
   "outputs": [],
   "source": []
  },
  {
   "cell_type": "code",
   "execution_count": null,
   "id": "e9d8ae0e",
   "metadata": {},
   "outputs": [],
   "source": []
  },
  {
   "cell_type": "code",
   "execution_count": null,
   "id": "30c55c87",
   "metadata": {},
   "outputs": [],
   "source": []
  }
 ],
 "metadata": {
  "kernelspec": {
   "display_name": "Python 3",
   "language": "python",
   "name": "python3"
  },
  "language_info": {
   "codemirror_mode": {
    "name": "ipython",
    "version": 3
   },
   "file_extension": ".py",
   "mimetype": "text/x-python",
   "name": "python",
   "nbconvert_exporter": "python",
   "pygments_lexer": "ipython3",
   "version": "3.8.8"
  }
 },
 "nbformat": 4,
 "nbformat_minor": 5
}
