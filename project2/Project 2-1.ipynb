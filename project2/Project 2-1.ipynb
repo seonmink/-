{
 "cells": [
  {
   "cell_type": "markdown",
   "id": "f9ee9038",
   "metadata": {},
   "source": [
    "## 1. Data 소개 \n",
    "\n",
    "+ Oxford Pet Dataset \n",
    "+ https://www.robots.ox.ac.uk/~vgg/data/pets/\n",
    "---\n",
    "+ 37가지 종류의 개와 고양이 \n",
    "+ 각 클래스 마다 대략 200개씩의 이미지가 있다. \n",
    "+ 모든 이미지들은 head ROI, pixel level, trimap seefmentation의 정보를  가지고 있다. \n",
    "---\n",
    "+ trimaps/\n",
    "    - Segmentation 에 대한 정보 \n",
    "    - 1 : foreground, 2: background, 3: 1과 2가 아닌 정보들 \n",
    "\n",
    "+ list.txt\n",
    "    - Classification 에 사용할 수 있는 데이터들이 labeling 되어 있다.\n",
    "    \n",
    "---\n",
    "\n",
    "*. openCV  설치 \n",
    "     pip install opencv-python"
   ]
  },
  {
   "cell_type": "markdown",
   "id": "45947837",
   "metadata": {},
   "source": [
    "## 2.EDA"
   ]
  },
  {
   "cell_type": "code",
   "execution_count": 1,
   "id": "dc60fcbb",
   "metadata": {},
   "outputs": [],
   "source": [
    "import pandas as pd\n",
    "import seaborn as sns\n",
    "import matplotlib.pyplot as plt\n",
    "\n",
    "sns.set_style('whitegrid')"
   ]
  },
  {
   "cell_type": "code",
   "execution_count": 2,
   "id": "706d2648",
   "metadata": {},
   "outputs": [
    {
     "data": {
      "text/html": [
       "<div>\n",
       "<style scoped>\n",
       "    .dataframe tbody tr th:only-of-type {\n",
       "        vertical-align: middle;\n",
       "    }\n",
       "\n",
       "    .dataframe tbody tr th {\n",
       "        vertical-align: top;\n",
       "    }\n",
       "\n",
       "    .dataframe thead th {\n",
       "        text-align: right;\n",
       "    }\n",
       "</style>\n",
       "<table border=\"1\" class=\"dataframe\">\n",
       "  <thead>\n",
       "    <tr style=\"text-align: right;\">\n",
       "      <th></th>\n",
       "      <th>file_name</th>\n",
       "      <th>id</th>\n",
       "      <th>species</th>\n",
       "      <th>breed</th>\n",
       "    </tr>\n",
       "  </thead>\n",
       "  <tbody>\n",
       "    <tr>\n",
       "      <th>0</th>\n",
       "      <td>Abyssinian_100</td>\n",
       "      <td>1</td>\n",
       "      <td>1</td>\n",
       "      <td>1</td>\n",
       "    </tr>\n",
       "    <tr>\n",
       "      <th>1</th>\n",
       "      <td>Abyssinian_101</td>\n",
       "      <td>1</td>\n",
       "      <td>1</td>\n",
       "      <td>1</td>\n",
       "    </tr>\n",
       "    <tr>\n",
       "      <th>2</th>\n",
       "      <td>Abyssinian_102</td>\n",
       "      <td>1</td>\n",
       "      <td>1</td>\n",
       "      <td>1</td>\n",
       "    </tr>\n",
       "    <tr>\n",
       "      <th>3</th>\n",
       "      <td>Abyssinian_103</td>\n",
       "      <td>1</td>\n",
       "      <td>1</td>\n",
       "      <td>1</td>\n",
       "    </tr>\n",
       "    <tr>\n",
       "      <th>4</th>\n",
       "      <td>Abyssinian_104</td>\n",
       "      <td>1</td>\n",
       "      <td>1</td>\n",
       "      <td>1</td>\n",
       "    </tr>\n",
       "    <tr>\n",
       "      <th>...</th>\n",
       "      <td>...</td>\n",
       "      <td>...</td>\n",
       "      <td>...</td>\n",
       "      <td>...</td>\n",
       "    </tr>\n",
       "    <tr>\n",
       "      <th>7344</th>\n",
       "      <td>yorkshire_terrier_96</td>\n",
       "      <td>37</td>\n",
       "      <td>2</td>\n",
       "      <td>25</td>\n",
       "    </tr>\n",
       "    <tr>\n",
       "      <th>7345</th>\n",
       "      <td>yorkshire_terrier_97</td>\n",
       "      <td>37</td>\n",
       "      <td>2</td>\n",
       "      <td>25</td>\n",
       "    </tr>\n",
       "    <tr>\n",
       "      <th>7346</th>\n",
       "      <td>yorkshire_terrier_98</td>\n",
       "      <td>37</td>\n",
       "      <td>2</td>\n",
       "      <td>25</td>\n",
       "    </tr>\n",
       "    <tr>\n",
       "      <th>7347</th>\n",
       "      <td>yorkshire_terrier_99</td>\n",
       "      <td>37</td>\n",
       "      <td>2</td>\n",
       "      <td>25</td>\n",
       "    </tr>\n",
       "    <tr>\n",
       "      <th>7348</th>\n",
       "      <td>yorkshire_terrier_9</td>\n",
       "      <td>37</td>\n",
       "      <td>2</td>\n",
       "      <td>25</td>\n",
       "    </tr>\n",
       "  </tbody>\n",
       "</table>\n",
       "<p>7349 rows × 4 columns</p>\n",
       "</div>"
      ],
      "text/plain": [
       "                 file_name  id  species  breed\n",
       "0           Abyssinian_100   1        1      1\n",
       "1           Abyssinian_101   1        1      1\n",
       "2           Abyssinian_102   1        1      1\n",
       "3           Abyssinian_103   1        1      1\n",
       "4           Abyssinian_104   1        1      1\n",
       "...                    ...  ..      ...    ...\n",
       "7344  yorkshire_terrier_96  37        2     25\n",
       "7345  yorkshire_terrier_97  37        2     25\n",
       "7346  yorkshire_terrier_98  37        2     25\n",
       "7347  yorkshire_terrier_99  37        2     25\n",
       "7348   yorkshire_terrier_9  37        2     25\n",
       "\n",
       "[7349 rows x 4 columns]"
      ]
     },
     "execution_count": 2,
     "metadata": {},
     "output_type": "execute_result"
    }
   ],
   "source": [
    "df = pd.read_csv('../data/annotations/list.txt',delimiter=' ',header=None,skiprows=6)# 정보도 같이 있기 때문에 몇줄 스킵해야함.\n",
    "df.columns = ['file_name','id','species','breed']\n",
    "df"
   ]
  },
  {
   "cell_type": "code",
   "execution_count": 3,
   "id": "26fe63b2",
   "metadata": {},
   "outputs": [
    {
     "name": "stdout",
     "output_type": "stream",
     "text": [
      "1    2371\n",
      "2    4978\n",
      "Name: species, dtype: int64\n"
     ]
    }
   ],
   "source": [
    "# 고양이와 강아지는 각각 몇마리씩인가? \n",
    "print(df['species'].value_counts().sort_index())"
   ]
  },
  {
   "cell_type": "code",
   "execution_count": 4,
   "id": "7a9947d6",
   "metadata": {},
   "outputs": [
    {
     "data": {
      "text/plain": [
       "([<matplotlib.axis.XTick at 0x1985f5674c0>,\n",
       "  <matplotlib.axis.XTick at 0x1985f567490>],\n",
       " [Text(0, 0, '1'), Text(1, 0, '2')])"
      ]
     },
     "execution_count": 4,
     "metadata": {},
     "output_type": "execute_result"
    },
    {
     "data": {
      "image/png": "[encoded data removed]",
      "text/plain": [
       "<Figure size 432x288 with 1 Axes>"
      ]
     },
     "metadata": {},
     "output_type": "display_data"
    }
   ],
   "source": [
    "# 개와 고양이 이미지가 몇장씩 있나.\n",
    "val_cnt=df['species'].value_counts().sort_index()\n",
    "plt.bar(range(len(val_cnt)),val_cnt.values)\n",
    "plt.xticks(range(len(val_cnt)),val_cnt.index.values)"
   ]
  },
  {
   "cell_type": "code",
   "execution_count": 5,
   "id": "52ce5764",
   "metadata": {},
   "outputs": [
    {
     "data": {
      "image/png": "[encoded data removed]",
      "text/plain": [
       "<Figure size 432x288 with 1 Axes>"
      ]
     },
     "metadata": {},
     "output_type": "display_data"
    }
   ],
   "source": [
    "##### id 별 갯수 확인\n",
    "val_id=df['id'].value_counts().sort_index()\n",
    "plt.bar(range(len(val_id)),val_id.values)\n",
    "plt.xticks(range(len(val_id)),val_id.index.values)\n",
    "\n",
    "plt.tight_layout()"
   ]
  },
  {
   "cell_type": "code",
   "execution_count": 6,
   "id": "89a5bfa9",
   "metadata": {},
   "outputs": [
    {
     "data": {
      "image/png": "[encoded data removed]",
      "text/plain": [
       "<Figure size 432x288 with 1 Axes>"
      ]
     },
     "metadata": {},
     "output_type": "display_data"
    }
   ],
   "source": [
    "##### 고양이에 해당하는 breed 확인 \n",
    "val_breed1=df[df['species']==1]['breed'].value_counts().sort_index()\n",
    "plt.bar(range(len(val_breed1)),val_breed1.values)\n",
    "plt.xticks(range(len(val_breed1)),val_breed1.index.values)\n",
    "\n",
    "plt.tight_layout()"
   ]
  },
  {
   "cell_type": "code",
   "execution_count": 7,
   "id": "71b7e528",
   "metadata": {},
   "outputs": [
    {
     "data": {
      "image/png": "[encoded data removed]",
      "text/plain": [
       "<Figure size 432x288 with 1 Axes>"
      ]
     },
     "metadata": {},
     "output_type": "display_data"
    }
   ],
   "source": [
    "##### 강아지에 해당하는 breed 확인 \n",
    "val_breed2=df[df['species']==2]['breed'].value_counts().sort_index()\n",
    "plt.bar(range(len(val_breed2)),val_breed2.values)\n",
    "plt.xticks(range(len(val_breed2)),val_breed2.index.values)\n",
    "\n",
    "plt.tight_layout()"
   ]
  },
  {
   "cell_type": "code",
   "execution_count": 8,
   "id": "8e8eb9bd",
   "metadata": {},
   "outputs": [],
   "source": [
    "##### 바운딩 박스 확인 \n",
    "import os \n",
    "from glob import glob # 파일 이름만 가져다가 그 이름에 해당하는 것을 파일을 가져오는 \n",
    "image_dir = '../data/images/'\n",
    "bbox_dir = './/data/annotations/xmls/'\n",
    "seg_dir = '../data/annotations/trimaps/'"
   ]
  },
  {
   "cell_type": "code",
   "execution_count": 24,
   "id": "c2acb77d",
   "metadata": {},
   "outputs": [
    {
     "data": {
      "text/plain": [
       "0"
      ]
     },
     "execution_count": 24,
     "metadata": {},
     "output_type": "execute_result"
    }
   ],
   "source": [
    "image_files = glob(image_dir + '*.jpg')\n",
    "len(image_files)"
   ]
  },
  {
   "cell_type": "code",
   "execution_count": 25,
   "id": "327d7e4b",
   "metadata": {},
   "outputs": [
    {
     "data": {
      "text/plain": [
       "[]"
      ]
     },
     "execution_count": 25,
     "metadata": {},
     "output_type": "execute_result"
    }
   ],
   "source": [
    "image_files[:10]"
   ]
  },
  {
   "cell_type": "code",
   "execution_count": 26,
   "id": "e7655d35",
   "metadata": {},
   "outputs": [
    {
     "data": {
      "text/plain": [
       "0"
      ]
     },
     "execution_count": 26,
     "metadata": {},
     "output_type": "execute_result"
    }
   ],
   "source": [
    "seg_files = glob(seg_dir + '*.png')\n",
    "len(seg_files)"
   ]
  },
  {
   "cell_type": "code",
   "execution_count": null,
   "id": "ad3be233",
   "metadata": {},
   "outputs": [],
   "source": [
    "seg_files[:10]"
   ]
  },
  {
   "cell_type": "code",
   "execution_count": 27,
   "id": "274a78a9",
   "metadata": {},
   "outputs": [
    {
     "data": {
      "text/plain": [
       "0"
      ]
     },
     "execution_count": 27,
     "metadata": {},
     "output_type": "execute_result"
    }
   ],
   "source": [
    "bbox_files = glob(bbox_dir + '*.xml')\n",
    "len(bbox_files)"
   ]
  },
  {
   "cell_type": "code",
   "execution_count": null,
   "id": "6ec525b4",
   "metadata": {},
   "outputs": [],
   "source": [
    "# annotation의 xmls 폴더의 파일을 복사해서 images폴에서 붙여넣기 "
   ]
  },
  {
   "cell_type": "code",
   "execution_count": 28,
   "id": "1c45aaf9",
   "metadata": {},
   "outputs": [],
   "source": [
    "##### Head ROI 를 시각화  --> 빨간 박스 \n",
    "\n",
    "import cv2\n",
    "import xml.etree.ElementTree as et\n",
    "from matplotlib.patches import Rectangle\n",
    "\n",
    "\n"
   ]
  },
  {
   "cell_type": "code",
   "execution_count": 31,
   "id": "0f3ec728",
   "metadata": {},
   "outputs": [
    {
     "ename": "IndexError",
     "evalue": "list index out of range",
     "output_type": "error",
     "traceback": [
      "\u001b[1;31m---------------------------------------------------------------------------\u001b[0m",
      "\u001b[1;31mIndexError\u001b[0m                                Traceback (most recent call last)",
      "\u001b[1;32m<ipython-input-31-cd281fcfd90b>\u001b[0m in \u001b[0;36m<module>\u001b[1;34m\u001b[0m\n\u001b[1;32m----> 1\u001b[1;33m \u001b[0mimage_path\u001b[0m \u001b[1;33m=\u001b[0m \u001b[0mimage_files\u001b[0m\u001b[1;33m[\u001b[0m\u001b[1;36m7\u001b[0m\u001b[1;33m]\u001b[0m\u001b[1;33m\u001b[0m\u001b[1;33m\u001b[0m\u001b[0m\n\u001b[0m\u001b[0;32m      2\u001b[0m \u001b[0mbbox_path\u001b[0m \u001b[1;33m=\u001b[0m \u001b[0mimage_path\u001b[0m\u001b[1;33m.\u001b[0m\u001b[0mreplace\u001b[0m\u001b[1;33m(\u001b[0m\u001b[0mimage_dir\u001b[0m\u001b[1;33m,\u001b[0m\u001b[0mbbox_dir\u001b[0m\u001b[1;33m)\u001b[0m\u001b[1;33m.\u001b[0m\u001b[0mreplace\u001b[0m\u001b[1;33m(\u001b[0m\u001b[1;34m'jpg'\u001b[0m\u001b[1;33m,\u001b[0m\u001b[1;34m'xml'\u001b[0m\u001b[1;33m)\u001b[0m\u001b[1;33m\u001b[0m\u001b[1;33m\u001b[0m\u001b[0m\n\u001b[0;32m      3\u001b[0m \u001b[0mprint\u001b[0m\u001b[1;33m(\u001b[0m\u001b[0mbbox_path\u001b[0m\u001b[1;33m)\u001b[0m\u001b[1;33m\u001b[0m\u001b[1;33m\u001b[0m\u001b[0m\n",
      "\u001b[1;31mIndexError\u001b[0m: list index out of range"
     ]
    }
   ],
   "source": [
    "image_path = image_files[4]\n",
    "bbox_path = image_path.replace(image_dir, bbox_dir).replace(\"jpg\", \"xml\")\n",
    "\n",
    "image = cv2.imread(image_path)\n",
    "#open cv는 BGR로 저장하기에 원본 사진 색상이랑 다름. 바꿔 줘야함. \n",
    "image = cv2.cvtColor(image,cv2.COLOR_BGR2RGB)\n",
    "\n",
    "tree = et.parse(bbox_path)\n",
    "\n",
    "xmin = float(tree.find(\"./object/bndbox/xmin\").text)\n",
    "xmax = float(tree.find(\"./object/bndbox/xmax\").text)\n",
    "ymin = float(tree.find(\"./object/bndbox/ymin\").text)\n",
    "ymax = float(tree.find(\"./object/bndbox/ymax\").text)\n",
    "\n",
    "rect_x = xmin\n",
    "rect_y = ymin\n",
    "rect_w = xmax - xmin\n",
    "rect_h = ymax - ymin\n",
    "\n",
    "rect = Rectangle((rect_x, rect_y), rect_w, rect_h, fill=False, color='red')\n",
    "plt.axes().add_patch(rect)\n",
    "plt.imshow(image)"
   ]
  },
  {
   "cell_type": "code",
   "execution_count": 9,
   "id": "26d6089d",
   "metadata": {},
   "outputs": [],
   "source": [
    "##### 데이터 나누기\n",
    "\n",
    "from sklearn.model_selection import KFold\n"
   ]
  },
  {
   "cell_type": "code",
   "execution_count": 11,
   "id": "f2362528",
   "metadata": {},
   "outputs": [
    {
     "name": "stdout",
     "output_type": "stream",
     "text": [
      "[   1    2    3 ... 7346 7347 7348] [   0    8   14 ... 7339 7341 7345] 1470\n",
      "[   0    1    2 ... 7346 7347 7348] [  12   15   26 ... 7340 7342 7344] 1470\n",
      "[   0    1    2 ... 7345 7346 7348] [   6    7   18 ... 7333 7343 7347] 1470\n",
      "[   0    3    4 ... 7345 7347 7348] [   1    2   10 ... 7335 7336 7346] 1470\n",
      "[   0    1    2 ... 7345 7346 7347] [   3    4    5 ... 7334 7338 7348] 1469\n"
     ]
    }
   ],
   "source": [
    "kf=KFold(n_splits=5,shuffle=True,random_state=42)\n",
    "\n",
    "df['fold']= -1\n",
    "for idx, (t,v) in enumerate(kf.split(df),1):\n",
    "    print(t,v,len(v))\n",
    "    df.loc[v,'fold']=idx"
   ]
  },
  {
   "cell_type": "code",
   "execution_count": 12,
   "id": "22f8d73c",
   "metadata": {},
   "outputs": [
    {
     "data": {
      "text/html": [
       "<div>\n",
       "<style scoped>\n",
       "    .dataframe tbody tr th:only-of-type {\n",
       "        vertical-align: middle;\n",
       "    }\n",
       "\n",
       "    .dataframe tbody tr th {\n",
       "        vertical-align: top;\n",
       "    }\n",
       "\n",
       "    .dataframe thead th {\n",
       "        text-align: right;\n",
       "    }\n",
       "</style>\n",
       "<table border=\"1\" class=\"dataframe\">\n",
       "  <thead>\n",
       "    <tr style=\"text-align: right;\">\n",
       "      <th></th>\n",
       "      <th>file_name</th>\n",
       "      <th>id</th>\n",
       "      <th>species</th>\n",
       "      <th>breed</th>\n",
       "      <th>fold</th>\n",
       "    </tr>\n",
       "  </thead>\n",
       "  <tbody>\n",
       "    <tr>\n",
       "      <th>0</th>\n",
       "      <td>Abyssinian_100</td>\n",
       "      <td>1</td>\n",
       "      <td>1</td>\n",
       "      <td>1</td>\n",
       "      <td>1</td>\n",
       "    </tr>\n",
       "    <tr>\n",
       "      <th>1</th>\n",
       "      <td>Abyssinian_101</td>\n",
       "      <td>1</td>\n",
       "      <td>1</td>\n",
       "      <td>1</td>\n",
       "      <td>4</td>\n",
       "    </tr>\n",
       "    <tr>\n",
       "      <th>2</th>\n",
       "      <td>Abyssinian_102</td>\n",
       "      <td>1</td>\n",
       "      <td>1</td>\n",
       "      <td>1</td>\n",
       "      <td>4</td>\n",
       "    </tr>\n",
       "    <tr>\n",
       "      <th>3</th>\n",
       "      <td>Abyssinian_103</td>\n",
       "      <td>1</td>\n",
       "      <td>1</td>\n",
       "      <td>1</td>\n",
       "      <td>5</td>\n",
       "    </tr>\n",
       "    <tr>\n",
       "      <th>4</th>\n",
       "      <td>Abyssinian_104</td>\n",
       "      <td>1</td>\n",
       "      <td>1</td>\n",
       "      <td>1</td>\n",
       "      <td>5</td>\n",
       "    </tr>\n",
       "    <tr>\n",
       "      <th>...</th>\n",
       "      <td>...</td>\n",
       "      <td>...</td>\n",
       "      <td>...</td>\n",
       "      <td>...</td>\n",
       "      <td>...</td>\n",
       "    </tr>\n",
       "    <tr>\n",
       "      <th>7344</th>\n",
       "      <td>yorkshire_terrier_96</td>\n",
       "      <td>37</td>\n",
       "      <td>2</td>\n",
       "      <td>25</td>\n",
       "      <td>2</td>\n",
       "    </tr>\n",
       "    <tr>\n",
       "      <th>7345</th>\n",
       "      <td>yorkshire_terrier_97</td>\n",
       "      <td>37</td>\n",
       "      <td>2</td>\n",
       "      <td>25</td>\n",
       "      <td>1</td>\n",
       "    </tr>\n",
       "    <tr>\n",
       "      <th>7346</th>\n",
       "      <td>yorkshire_terrier_98</td>\n",
       "      <td>37</td>\n",
       "      <td>2</td>\n",
       "      <td>25</td>\n",
       "      <td>4</td>\n",
       "    </tr>\n",
       "    <tr>\n",
       "      <th>7347</th>\n",
       "      <td>yorkshire_terrier_99</td>\n",
       "      <td>37</td>\n",
       "      <td>2</td>\n",
       "      <td>25</td>\n",
       "      <td>3</td>\n",
       "    </tr>\n",
       "    <tr>\n",
       "      <th>7348</th>\n",
       "      <td>yorkshire_terrier_9</td>\n",
       "      <td>37</td>\n",
       "      <td>2</td>\n",
       "      <td>25</td>\n",
       "      <td>5</td>\n",
       "    </tr>\n",
       "  </tbody>\n",
       "</table>\n",
       "<p>7349 rows × 5 columns</p>\n",
       "</div>"
      ],
      "text/plain": [
       "                 file_name  id  species  breed  fold\n",
       "0           Abyssinian_100   1        1      1     1\n",
       "1           Abyssinian_101   1        1      1     4\n",
       "2           Abyssinian_102   1        1      1     4\n",
       "3           Abyssinian_103   1        1      1     5\n",
       "4           Abyssinian_104   1        1      1     5\n",
       "...                    ...  ..      ...    ...   ...\n",
       "7344  yorkshire_terrier_96  37        2     25     2\n",
       "7345  yorkshire_terrier_97  37        2     25     1\n",
       "7346  yorkshire_terrier_98  37        2     25     4\n",
       "7347  yorkshire_terrier_99  37        2     25     3\n",
       "7348   yorkshire_terrier_9  37        2     25     5\n",
       "\n",
       "[7349 rows x 5 columns]"
      ]
     },
     "execution_count": 12,
     "metadata": {},
     "output_type": "execute_result"
    }
   ],
   "source": [
    "df\n"
   ]
  },
  {
   "cell_type": "code",
   "execution_count": 13,
   "id": "1cf86c93",
   "metadata": {},
   "outputs": [],
   "source": [
    "# annotation의 trimaps 폴더의 파일을 복사해서 images폴에서 붙여넣기 "
   ]
  },
  {
   "cell_type": "code",
   "execution_count": null,
   "id": "d61221c9",
   "metadata": {},
   "outputs": [],
   "source": [
    "##### Segmentation 시각화\n",
    "\n",
    "image_path = image_files[4]\n",
    "seg_path = image_path.replace('jpg','png')\n",
    "\n",
    "image = cv2.imread(image_path)\n",
    "#open cv는 BGR로 저장하기에 원본 사진 색상이랑 다름. 바꿔 줘야함. \n",
    "image = cv2.cvtColor(image,cv2.COLOR_BGR2RGB)\n",
    "\n",
    "seg_map = cv2.imread(seg_path,cv2.IMREAD_GRAYSCALE)\n",
    "\n",
    "plt.figure(figsize=(15,15))\n",
    "\n",
    "plt.subplot(1,2,1)\n",
    "plt.imshow(image)\n",
    "\n",
    "plt.subplot(1,2,2)\n",
    "plt.imshow(seg_map)"
   ]
  },
  {
   "cell_type": "code",
   "execution_count": null,
   "id": "3b02a9dc",
   "metadata": {},
   "outputs": [],
   "source": [
    "##### 데이터 나누기 \n",
    "from sklearn.model_selection import KFold\n"
   ]
  },
  {
   "cell_type": "code",
   "execution_count": null,
   "id": "84e4f23b",
   "metadata": {},
   "outputs": [],
   "source": [
    "kf=KFold(n_splits=5,shuffle=True,random_state=42)\n",
    "\n",
    "df['fold']= -1\n",
    "for idx, (t,v) in enumerate(kf.split(df),1):\n",
    "    print(t,v,len(v))\n",
    "    df.loc[v,'fold']=idx"
   ]
  },
  {
   "cell_type": "code",
   "execution_count": 21,
   "id": "59019611",
   "metadata": {},
   "outputs": [
    {
     "data": {
      "image/png": "[encoded data removed]",
      "text/plain": [
       "<Figure size 432x288 with 1 Axes>"
      ]
     },
     "metadata": {},
     "output_type": "display_data"
    }
   ],
   "source": [
    "val_cnt=df[df['fold'] !=1]['id'].value_counts().sort_index()\n",
    "plt.bar(range(len(val_cnt)),val_cnt.values)\n",
    "plt.xticks(range(len(val_cnt)),val_cnt.index.values)\n",
    "\n",
    "plt.tight_layout()"
   ]
  },
  {
   "cell_type": "code",
   "execution_count": 24,
   "id": "e6eb7009",
   "metadata": {},
   "outputs": [],
   "source": [
    "##### 고르게 분포시키기 위햄!!!!!!!!!!!!!!!!!!!!!!\n",
    "\n",
    "from sklearn.model_selection import StratifiedKFold"
   ]
  },
  {
   "cell_type": "code",
   "execution_count": 23,
   "id": "b4b21232",
   "metadata": {},
   "outputs": [],
   "source": [
    "?train_test_split\n",
    "# stratify=None --> 이게 뭐냐하면 "
   ]
  },
  {
   "cell_type": "code",
   "execution_count": 28,
   "id": "516cd461",
   "metadata": {},
   "outputs": [
    {
     "name": "stdout",
     "output_type": "stream",
     "text": [
      "[   0    1    3 ... 7346 7347 7348] [   2    7    8 ... 7326 7337 7345] 1470\n",
      "[   1    2    3 ... 7346 7347 7348] [   0   12   13 ... 7323 7335 7339] 1470\n",
      "[   0    2    3 ... 7345 7347 7348] [   1   14   19 ... 7341 7343 7346] 1470\n",
      "[   0    1    2 ... 7346 7347 7348] [   3    4    5 ... 7334 7338 7342] 1470\n",
      "[   0    1    2 ... 7343 7345 7346] [   9   21   23 ... 7344 7347 7348] 1469\n"
     ]
    }
   ],
   "source": [
    "skf=StratifiedKFold(n_splits=5,shuffle=True,random_state=42)\n",
    "\n",
    "df['fold']= -1\n",
    "for idx, (t,v) in enumerate(skf.split(df,df['id']),1):\n",
    "    print(t,v,len(v))\n",
    "    df.loc[v,'fold']=idx"
   ]
  },
  {
   "cell_type": "code",
   "execution_count": 29,
   "id": "aab1ae0f",
   "metadata": {},
   "outputs": [
    {
     "data": {
      "text/html": [
       "<div>\n",
       "<style scoped>\n",
       "    .dataframe tbody tr th:only-of-type {\n",
       "        vertical-align: middle;\n",
       "    }\n",
       "\n",
       "    .dataframe tbody tr th {\n",
       "        vertical-align: top;\n",
       "    }\n",
       "\n",
       "    .dataframe thead th {\n",
       "        text-align: right;\n",
       "    }\n",
       "</style>\n",
       "<table border=\"1\" class=\"dataframe\">\n",
       "  <thead>\n",
       "    <tr style=\"text-align: right;\">\n",
       "      <th></th>\n",
       "      <th>file_name</th>\n",
       "      <th>id</th>\n",
       "      <th>species</th>\n",
       "      <th>breed</th>\n",
       "      <th>fold</th>\n",
       "    </tr>\n",
       "  </thead>\n",
       "  <tbody>\n",
       "    <tr>\n",
       "      <th>0</th>\n",
       "      <td>Abyssinian_100</td>\n",
       "      <td>1</td>\n",
       "      <td>1</td>\n",
       "      <td>1</td>\n",
       "      <td>2</td>\n",
       "    </tr>\n",
       "    <tr>\n",
       "      <th>1</th>\n",
       "      <td>Abyssinian_101</td>\n",
       "      <td>1</td>\n",
       "      <td>1</td>\n",
       "      <td>1</td>\n",
       "      <td>3</td>\n",
       "    </tr>\n",
       "    <tr>\n",
       "      <th>2</th>\n",
       "      <td>Abyssinian_102</td>\n",
       "      <td>1</td>\n",
       "      <td>1</td>\n",
       "      <td>1</td>\n",
       "      <td>1</td>\n",
       "    </tr>\n",
       "    <tr>\n",
       "      <th>3</th>\n",
       "      <td>Abyssinian_103</td>\n",
       "      <td>1</td>\n",
       "      <td>1</td>\n",
       "      <td>1</td>\n",
       "      <td>4</td>\n",
       "    </tr>\n",
       "    <tr>\n",
       "      <th>4</th>\n",
       "      <td>Abyssinian_104</td>\n",
       "      <td>1</td>\n",
       "      <td>1</td>\n",
       "      <td>1</td>\n",
       "      <td>4</td>\n",
       "    </tr>\n",
       "    <tr>\n",
       "      <th>...</th>\n",
       "      <td>...</td>\n",
       "      <td>...</td>\n",
       "      <td>...</td>\n",
       "      <td>...</td>\n",
       "      <td>...</td>\n",
       "    </tr>\n",
       "    <tr>\n",
       "      <th>7344</th>\n",
       "      <td>yorkshire_terrier_96</td>\n",
       "      <td>37</td>\n",
       "      <td>2</td>\n",
       "      <td>25</td>\n",
       "      <td>5</td>\n",
       "    </tr>\n",
       "    <tr>\n",
       "      <th>7345</th>\n",
       "      <td>yorkshire_terrier_97</td>\n",
       "      <td>37</td>\n",
       "      <td>2</td>\n",
       "      <td>25</td>\n",
       "      <td>1</td>\n",
       "    </tr>\n",
       "    <tr>\n",
       "      <th>7346</th>\n",
       "      <td>yorkshire_terrier_98</td>\n",
       "      <td>37</td>\n",
       "      <td>2</td>\n",
       "      <td>25</td>\n",
       "      <td>3</td>\n",
       "    </tr>\n",
       "    <tr>\n",
       "      <th>7347</th>\n",
       "      <td>yorkshire_terrier_99</td>\n",
       "      <td>37</td>\n",
       "      <td>2</td>\n",
       "      <td>25</td>\n",
       "      <td>5</td>\n",
       "    </tr>\n",
       "    <tr>\n",
       "      <th>7348</th>\n",
       "      <td>yorkshire_terrier_9</td>\n",
       "      <td>37</td>\n",
       "      <td>2</td>\n",
       "      <td>25</td>\n",
       "      <td>5</td>\n",
       "    </tr>\n",
       "  </tbody>\n",
       "</table>\n",
       "<p>7349 rows × 5 columns</p>\n",
       "</div>"
      ],
      "text/plain": [
       "                 file_name  id  species  breed  fold\n",
       "0           Abyssinian_100   1        1      1     2\n",
       "1           Abyssinian_101   1        1      1     3\n",
       "2           Abyssinian_102   1        1      1     1\n",
       "3           Abyssinian_103   1        1      1     4\n",
       "4           Abyssinian_104   1        1      1     4\n",
       "...                    ...  ..      ...    ...   ...\n",
       "7344  yorkshire_terrier_96  37        2     25     5\n",
       "7345  yorkshire_terrier_97  37        2     25     1\n",
       "7346  yorkshire_terrier_98  37        2     25     3\n",
       "7347  yorkshire_terrier_99  37        2     25     5\n",
       "7348   yorkshire_terrier_9  37        2     25     5\n",
       "\n",
       "[7349 rows x 5 columns]"
      ]
     },
     "execution_count": 29,
     "metadata": {},
     "output_type": "execute_result"
    }
   ],
   "source": [
    "df"
   ]
  },
  {
   "cell_type": "code",
   "execution_count": 32,
   "id": "37768078",
   "metadata": {},
   "outputs": [
    {
     "data": {
      "image/png": "[encoded data removed]",
      "text/plain": [
       "<Figure size 432x288 with 1 Axes>"
      ]
     },
     "metadata": {},
     "output_type": "display_data"
    }
   ],
   "source": [
    "val_cnt=df[df['fold'] !=4]['id'].value_counts().sort_index()\n",
    "plt.bar(range(len(val_cnt)),val_cnt.values)\n",
    "plt.xticks(range(len(val_cnt)),val_cnt.index.values)\n",
    "\n",
    "plt.tight_layout()"
   ]
  },
  {
   "cell_type": "code",
   "execution_count": null,
   "id": "21139c1f",
   "metadata": {},
   "outputs": [],
   "source": [
    "df.to_csv('../data/kfolds.csv',index=False)"
   ]
  },
  {
   "cell_type": "code",
   "execution_count": null,
   "id": "95b94432",
   "metadata": {},
   "outputs": [],
   "source": []
  },
  {
   "cell_type": "code",
   "execution_count": null,
   "id": "4383ca9d",
   "metadata": {},
   "outputs": [],
   "source": []
  },
  {
   "cell_type": "code",
   "execution_count": null,
   "id": "7832d739",
   "metadata": {},
   "outputs": [],
   "source": []
  },
  {
   "cell_type": "code",
   "execution_count": null,
   "id": "991e401e",
   "metadata": {},
   "outputs": [],
   "source": []
  },
  {
   "cell_type": "code",
   "execution_count": null,
   "id": "a355a664",
   "metadata": {},
   "outputs": [],
   "source": []
  },
  {
   "cell_type": "code",
   "execution_count": null,
   "id": "2e5a1710",
   "metadata": {},
   "outputs": [],
   "source": []
  },
  {
   "cell_type": "code",
   "execution_count": null,
   "id": "1e6a8694",
   "metadata": {},
   "outputs": [],
   "source": []
  },
  {
   "cell_type": "code",
   "execution_count": null,
   "id": "5d4dff98",
   "metadata": {},
   "outputs": [],
   "source": []
  },
  {
   "cell_type": "code",
   "execution_count": null,
   "id": "47612bae",
   "metadata": {},
   "outputs": [],
   "source": []
  },
  {
   "cell_type": "code",
   "execution_count": null,
   "id": "bc14d207",
   "metadata": {},
   "outputs": [],
   "source": []
  },
  {
   "cell_type": "code",
   "execution_count": null,
   "id": "3d8e856e",
   "metadata": {},
   "outputs": [],
   "source": []
  },
  {
   "cell_type": "code",
   "execution_count": null,
   "id": "52817532",
   "metadata": {},
   "outputs": [],
   "source": []
  },
  {
   "cell_type": "code",
   "execution_count": null,
   "id": "0683e944",
   "metadata": {},
   "outputs": [],
   "source": []
  },
  {
   "cell_type": "code",
   "execution_count": null,
   "id": "e825c358",
   "metadata": {},
   "outputs": [],
   "source": []
  },
  {
   "cell_type": "code",
   "execution_count": null,
   "id": "66d99444",
   "metadata": {},
   "outputs": [],
   "source": []
  },
  {
   "cell_type": "code",
   "execution_count": null,
   "id": "5a9272e1",
   "metadata": {},
   "outputs": [],
   "source": []
  },
  {
   "cell_type": "code",
   "execution_count": null,
   "id": "ede0d7ba",
   "metadata": {},
   "outputs": [],
   "source": []
  },
  {
   "cell_type": "code",
   "execution_count": null,
   "id": "f39a66a7",
   "metadata": {},
   "outputs": [],
   "source": []
  },
  {
   "cell_type": "code",
   "execution_count": null,
   "id": "75a1930a",
   "metadata": {},
   "outputs": [],
   "source": []
  },
  {
   "cell_type": "code",
   "execution_count": null,
   "id": "18856543",
   "metadata": {},
   "outputs": [],
   "source": []
  },
  {
   "cell_type": "code",
   "execution_count": null,
   "id": "47accdf9",
   "metadata": {},
   "outputs": [],
   "source": []
  },
  {
   "cell_type": "code",
   "execution_count": null,
   "id": "3f66807e",
   "metadata": {},
   "outputs": [],
   "source": []
  }
 ],
 "metadata": {
  "kernelspec": {
   "display_name": "Python 3",
   "language": "python",
   "name": "python3"
  },
  "language_info": {
   "codemirror_mode": {
    "name": "ipython",
    "version": 3
   },
   "file_extension": ".py",
   "mimetype": "text/x-python",
   "name": "python",
   "nbconvert_exporter": "python",
   "pygments_lexer": "ipython3",
   "version": "3.8.8"
  }
 },
 "nbformat": 4,
 "nbformat_minor": 5
}
