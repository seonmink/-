{
 "cells": [
  {
   "cell_type": "markdown",
   "id": "8922b97a",
   "metadata": {},
   "source": [
    "## Sequential\n",
    "\n",
    "+ 가장 간단하게 모델을 구현하는 방법\n",
    "+ 하나의 input과 하나의 output을 가지는 모델을 구현\n",
    "+ https://www.tensorflow.org/guide/keras/sequential_model\n"
   ]
  },
  {
   "cell_type": "code",
   "execution_count": 1,
   "id": "0eac1fc7",
   "metadata": {},
   "outputs": [],
   "source": [
    "from tensorflow import keras\n",
    "from tensorflow.keras import layers\n",
    "from tensorflow.keras import activations\n",
    "\n",
    "import os "
   ]
  },
  {
   "cell_type": "code",
   "execution_count": null,
   "id": "b7243e3b",
   "metadata": {},
   "outputs": [],
   "source": [
    "model = keras.Sequential(\n",
    "    [ \n",
    "        layers.Input((256,256, 3)),\n",
    "        \n",
    "        layers.Conv2D(64,3,strides=1,activation='relu',padding = 'same'),\n",
    "        layers.Conv2D(64,3,strides=1,activation='relu',padding = 'same').\n",
    "        layers.MaxPool2D(),\n",
    "        layers.BatchNormalization(),\n",
    "        layers.Dropout(0,5),\n",
    "        \n",
    "        layers.Conv2D(128,3,strides=1,activation='relu',padding = 'same'),\n",
    "        layers.Conv2D(64,3,strides=1,activation='relu',padding = 'same').\n",
    "        layers.MaxPool2D(),\n",
    "        layers.BatchNormalization(),\n",
    "        layers.Dropout(0,5),\n",
    "    ]\n",
    "\n",
    ")"
   ]
  },
  {
   "cell_type": "code",
   "execution_count": null,
   "id": "785612b1",
   "metadata": {},
   "outputs": [],
   "source": []
  },
  {
   "cell_type": "markdown",
   "id": "79a17e0a",
   "metadata": {},
   "source": [
    "## Model\n",
    "\n",
    "+ Function API를 사용하는 방법\n",
    "+ Multi Input과 Multi Output 또는 Layer Sharing 등 모든 일반적인 경우를 제약없이 구분한다. "
   ]
  },
  {
   "cell_type": "markdown",
   "id": "8f20cf90",
   "metadata": {},
   "source": [
    "---\n",
    "\n",
    "## Model Subclassing\n",
    "\n",
    "+ fit(),evaluate(),predict() 오버라이딩 \n"
   ]
  },
  {
   "cell_type": "code",
   "execution_count": null,
   "id": "a96c5ef2",
   "metadata": {},
   "outputs": [],
   "source": [
    "class"
   ]
  },
  {
   "cell_type": "code",
   "execution_count": null,
   "id": "26e2ab30",
   "metadata": {},
   "outputs": [],
   "source": [
    "깃 허브 보고 다시 하기 "
   ]
  },
  {
   "cell_type": "code",
   "execution_count": null,
   "id": "e706097d",
   "metadata": {},
   "outputs": [],
   "source": []
  },
  {
   "cell_type": "code",
   "execution_count": null,
   "id": "3ae12e84",
   "metadata": {},
   "outputs": [],
   "source": []
  },
  {
   "cell_type": "code",
   "execution_count": null,
   "id": "4c61411d",
   "metadata": {},
   "outputs": [],
   "source": []
  },
  {
   "cell_type": "code",
   "execution_count": null,
   "id": "89a41c19",
   "metadata": {},
   "outputs": [],
   "source": []
  },
  {
   "cell_type": "code",
   "execution_count": null,
   "id": "ef5bb503",
   "metadata": {},
   "outputs": [],
   "source": []
  },
  {
   "cell_type": "code",
   "execution_count": null,
   "id": "6a7bbaac",
   "metadata": {},
   "outputs": [],
   "source": []
  },
  {
   "cell_type": "code",
   "execution_count": null,
   "id": "8cf94f59",
   "metadata": {},
   "outputs": [],
   "source": []
  },
  {
   "cell_type": "code",
   "execution_count": null,
   "id": "f9edc176",
   "metadata": {},
   "outputs": [],
   "source": []
  },
  {
   "cell_type": "code",
   "execution_count": null,
   "id": "30468689",
   "metadata": {},
   "outputs": [],
   "source": []
  },
  {
   "cell_type": "code",
   "execution_count": null,
   "id": "8658b78d",
   "metadata": {},
   "outputs": [],
   "source": []
  },
  {
   "cell_type": "code",
   "execution_count": null,
   "id": "3d3382f1",
   "metadata": {},
   "outputs": [],
   "source": []
  },
  {
   "cell_type": "code",
   "execution_count": null,
   "id": "34e5204e",
   "metadata": {},
   "outputs": [],
   "source": []
  },
  {
   "cell_type": "code",
   "execution_count": null,
   "id": "0b9511a8",
   "metadata": {},
   "outputs": [],
   "source": []
  },
  {
   "cell_type": "code",
   "execution_count": null,
   "id": "46bb5ca7",
   "metadata": {},
   "outputs": [],
   "source": []
  },
  {
   "cell_type": "code",
   "execution_count": null,
   "id": "30062e60",
   "metadata": {},
   "outputs": [],
   "source": []
  },
  {
   "cell_type": "code",
   "execution_count": null,
   "id": "44dccf70",
   "metadata": {},
   "outputs": [],
   "source": []
  },
  {
   "cell_type": "code",
   "execution_count": null,
   "id": "9d456a80",
   "metadata": {},
   "outputs": [],
   "source": []
  },
  {
   "cell_type": "code",
   "execution_count": null,
   "id": "369ec10d",
   "metadata": {},
   "outputs": [],
   "source": []
  },
  {
   "cell_type": "code",
   "execution_count": null,
   "id": "1387658f",
   "metadata": {},
   "outputs": [],
   "source": []
  }
 ],
 "metadata": {
  "kernelspec": {
   "display_name": "Python 3",
   "language": "python",
   "name": "python3"
  },
  "language_info": {
   "codemirror_mode": {
    "name": "ipython",
    "version": 3
   },
   "file_extension": ".py",
   "mimetype": "text/x-python",
   "name": "python",
   "nbconvert_exporter": "python",
   "pygments_lexer": "ipython3",
   "version": "3.8.8"
  }
 },
 "nbformat": 4,
 "nbformat_minor": 5
}
