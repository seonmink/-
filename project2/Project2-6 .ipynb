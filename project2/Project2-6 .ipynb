{
 "cells": [
  {
   "cell_type": "markdown",
   "id": "523e8fde",
   "metadata": {},
   "source": [
    "## Transfer Learning \n",
    "\n",
    "+ 특정 분야에서 학습된 모델을 유사하거나 혹은 완전히 새로운 곳에서 사용 \n",
    "+ 데이터 수가 적을 때에도 매우 효과적이다. "
   ]
  }
 ],
 "metadata": {
  "kernelspec": {
   "display_name": "Python 3",
   "language": "python",
   "name": "python3"
  },
  "language_info": {
   "codemirror_mode": {
    "name": "ipython",
    "version": 3
   },
   "file_extension": ".py",
   "mimetype": "text/x-python",
   "name": "python",
   "nbconvert_exporter": "python",
   "pygments_lexer": "ipython3",
   "version": "3.8.8"
  }
 },
 "nbformat": 4,
 "nbformat_minor": 5
}
