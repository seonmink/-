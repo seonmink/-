{
 "cells": [
  {
   "cell_type": "code",
   "execution_count": 1,
   "id": "99547b8b",
   "metadata": {},
   "outputs": [],
   "source": [
    "import tensorflow as tf"
   ]
  },
  {
   "cell_type": "code",
   "execution_count": 2,
   "id": "7e975a75",
   "metadata": {
    "scrolled": true
   },
   "outputs": [
    {
     "name": "stdout",
     "output_type": "stream",
     "text": [
      "2.7.0\n"
     ]
    }
   ],
   "source": [
    "print(tf.__version__)"
   ]
  },
  {
   "cell_type": "code",
   "execution_count": 2,
   "id": "1a2ebdc8",
   "metadata": {},
   "outputs": [
    {
     "ename": "ImportError",
     "evalue": "cannot import name 'RMSprop' from 'keras.optimizers' (C:\\ProgramData\\Anaconda3\\lib\\site-packages\\keras\\optimizers.py)",
     "output_type": "error",
     "traceback": [
      "\u001b[1;31m---------------------------------------------------------------------------\u001b[0m",
      "\u001b[1;31mImportError\u001b[0m                               Traceback (most recent call last)",
      "\u001b[1;32m<ipython-input-2-bd1639d8a1de>\u001b[0m in \u001b[0;36m<module>\u001b[1;34m\u001b[0m\n\u001b[0;32m     28\u001b[0m \u001b[1;32mfrom\u001b[0m \u001b[0mkeras\u001b[0m\u001b[1;33m.\u001b[0m\u001b[0mmodels\u001b[0m \u001b[1;32mimport\u001b[0m \u001b[0mSequential\u001b[0m\u001b[1;33m,\u001b[0m \u001b[0mload_model\u001b[0m\u001b[1;33m\u001b[0m\u001b[1;33m\u001b[0m\u001b[0m\n\u001b[0;32m     29\u001b[0m \u001b[1;32mfrom\u001b[0m \u001b[0mkeras\u001b[0m\u001b[1;33m.\u001b[0m\u001b[0mlayers\u001b[0m\u001b[1;33m.\u001b[0m\u001b[0mcore\u001b[0m \u001b[1;32mimport\u001b[0m \u001b[0mDense\u001b[0m\u001b[1;33m\u001b[0m\u001b[1;33m\u001b[0m\u001b[0m\n\u001b[1;32m---> 30\u001b[1;33m \u001b[1;32mfrom\u001b[0m \u001b[0mkeras\u001b[0m\u001b[1;33m.\u001b[0m\u001b[0moptimizers\u001b[0m \u001b[1;32mimport\u001b[0m \u001b[0mRMSprop\u001b[0m\u001b[1;33m,\u001b[0m \u001b[0mAdam\u001b[0m\u001b[1;33m,\u001b[0m\u001b[0mSGD\u001b[0m\u001b[1;33m\u001b[0m\u001b[1;33m\u001b[0m\u001b[0m\n\u001b[0m\u001b[0;32m     31\u001b[0m \u001b[1;32mfrom\u001b[0m \u001b[0mkeras\u001b[0m\u001b[1;33m.\u001b[0m\u001b[0mcallbacks\u001b[0m \u001b[1;32mimport\u001b[0m \u001b[0mEarlyStopping\u001b[0m\u001b[1;33m\u001b[0m\u001b[1;33m\u001b[0m\u001b[0m\n\u001b[0;32m     32\u001b[0m \u001b[1;32mfrom\u001b[0m \u001b[0mkeras\u001b[0m\u001b[1;33m.\u001b[0m\u001b[0mutils\u001b[0m \u001b[1;32mimport\u001b[0m \u001b[0mnp_utils\u001b[0m\u001b[1;33m\u001b[0m\u001b[1;33m\u001b[0m\u001b[0m\n",
      "\u001b[1;31mImportError\u001b[0m: cannot import name 'RMSprop' from 'keras.optimizers' (C:\\ProgramData\\Anaconda3\\lib\\site-packages\\keras\\optimizers.py)"
     ]
    }
   ],
   "source": [
    "import pandas as pd\n",
    "import numpy as np\n",
    "#실제 그래프를 그릴 수 있는 서브 함수\n",
    "import matplotlib.pyplot as plt\n",
    "import seaborn as sns\n",
    "\n",
    "#경고표시 생략(일시적으로 생략하는게 좋음) \n",
    "import warnings\n",
    "warnings.filterwarnings(action='ignore')\n",
    "\n",
    "#한글폰트 지정 \n",
    "import matplotlib.font_manager as fm\n",
    "font_name= fm.FontProperties(fname=\"C:/Windows/Fonts/malgun.ttf\").get_name()\n",
    "plt.rc(\"font\",family=font_name)\n",
    "\n",
    "import matplotlib as mpl\n",
    "mpl.rcParams['axes.unicode_minus']=False\n",
    "\n",
    "# 머신러닝을 위한 모듈 \n",
    "from sklearn.model_selection import train_test_split\n",
    "\n",
    "import tensorflow as tf\n",
    "\n",
    "import warnings\n",
    "warnings.filterwarnings(action='ignore')\n",
    "\n",
    "import keras\n",
    "from keras.models import Sequential, load_model\n",
    "from keras.layers.core import Dense\n",
    "from keras.optimizers import RMSprop, Adam,SGD\n",
    "from keras.callbacks import EarlyStopping\n",
    "from keras.utils import np_utils"
   ]
  },
  {
   "cell_type": "markdown",
   "id": "d0aff885",
   "metadata": {},
   "source": [
    "## 1. 특징 \n",
    "\n",
    "+ keras 와 즉시 실행(eager execution)을 이용한 쉬운 모델 작성\n",
    "+ 어떤 플랫폼에서든 튼튼한(robust) 모델을 배포\n",
    "+ 연구를 위한 강력한 실험법\n",
    "+ deprcated된 API를 정리하거 중복을 둘여 API를 단순화"
   ]
  },
  {
   "cell_type": "markdown",
   "id": "7994eb8e",
   "metadata": {},
   "source": [
    "### 2. API"
   ]
  },
  {
   "cell_type": "code",
   "execution_count": 5,
   "id": "0bacc981",
   "metadata": {},
   "outputs": [
    {
     "name": "stdout",
     "output_type": "stream",
     "text": [
      "tf.Tensor(10, shape=(), dtype=int32)\n",
      "tf.Tensor(15, shape=(), dtype=int32)\n",
      "15\n"
     ]
    }
   ],
   "source": [
    "t1= tf.constant(10)\n",
    "print(t1)\n",
    "\n",
    "t2 = t1+5\n",
    "print(t2)\n",
    "\n",
    "print(t2.numpy()) # 값만 꺼내올 수 있음. "
   ]
  },
  {
   "cell_type": "code",
   "execution_count": 4,
   "id": "a18a1dc8",
   "metadata": {
    "scrolled": true
   },
   "outputs": [
    {
     "name": "stdout",
     "output_type": "stream",
     "text": [
      "tf.Tensor([2. 4. 5.], shape=(3,), dtype=float32)\n",
      "[2. 4. 5.]\n"
     ]
    }
   ],
   "source": [
    "t1 = tf.constant([2.,4.,5]) # 리스트지만 텐서형태로 저장\n",
    "print(t1)\n",
    "print(t1.numpy())# 값만 추출"
   ]
  },
  {
   "cell_type": "code",
   "execution_count": 11,
   "id": "2d04a07b",
   "metadata": {},
   "outputs": [
    {
     "name": "stdout",
     "output_type": "stream",
     "text": [
      "tf.Tensor(b'hello world', shape=(), dtype=string)\n",
      "b'hello world'\n",
      "tf.Tensor(b'\\xec\\x95\\x88\\xeb\\x85\\x95\\xed\\x95\\x98\\xec\\x84\\xb8\\xec\\x9a\\x94', shape=(), dtype=string)\n",
      "안녕하세요\n"
     ]
    }
   ],
   "source": [
    "t1 = tf.constant('hello world')\n",
    "print(t1)\n",
    "print(t1.numpy())\n",
    "\n",
    "t2 = tf.constant('안녕하세요')\n",
    "print(t2)\n",
    "print(t2.numpy().decode('utf-8'))"
   ]
  },
  {
   "cell_type": "code",
   "execution_count": 12,
   "id": "2fb49849",
   "metadata": {},
   "outputs": [
    {
     "ename": "InvalidArgumentError",
     "evalue": "cannot compute AddV2 as input #1(zero-based) was expected to be a int32 tensor but is a float tensor [Op:AddV2]",
     "output_type": "error",
     "traceback": [
      "\u001b[1;31m---------------------------------------------------------------------------\u001b[0m",
      "\u001b[1;31mInvalidArgumentError\u001b[0m                      Traceback (most recent call last)",
      "\u001b[1;32m<ipython-input-12-c353f496bde0>\u001b[0m in \u001b[0;36m<module>\u001b[1;34m\u001b[0m\n\u001b[0;32m      5\u001b[0m \u001b[0mb\u001b[0m \u001b[1;33m=\u001b[0m \u001b[0mtf\u001b[0m\u001b[1;33m.\u001b[0m\u001b[0mVariable\u001b[0m\u001b[1;33m(\u001b[0m\u001b[1;36m4.5\u001b[0m\u001b[1;33m)\u001b[0m\u001b[1;33m\u001b[0m\u001b[1;33m\u001b[0m\u001b[0m\n\u001b[0;32m      6\u001b[0m \u001b[1;33m\u001b[0m\u001b[0m\n\u001b[1;32m----> 7\u001b[1;33m \u001b[0mprint\u001b[0m\u001b[1;33m(\u001b[0m\u001b[0ma\u001b[0m\u001b[1;33m+\u001b[0m\u001b[0mb\u001b[0m \u001b[1;33m)\u001b[0m\u001b[1;33m\u001b[0m\u001b[1;33m\u001b[0m\u001b[0m\n\u001b[0m",
      "\u001b[1;32mC:\\ProgramData\\Anaconda3\\lib\\site-packages\\tensorflow\\python\\ops\\variables.py\u001b[0m in \u001b[0;36m_run_op\u001b[1;34m(a, *args, **kwargs)\u001b[0m\n\u001b[0;32m   1076\u001b[0m     \u001b[1;32mdef\u001b[0m \u001b[0m_run_op\u001b[0m\u001b[1;33m(\u001b[0m\u001b[0ma\u001b[0m\u001b[1;33m,\u001b[0m \u001b[1;33m*\u001b[0m\u001b[0margs\u001b[0m\u001b[1;33m,\u001b[0m \u001b[1;33m**\u001b[0m\u001b[0mkwargs\u001b[0m\u001b[1;33m)\u001b[0m\u001b[1;33m:\u001b[0m\u001b[1;33m\u001b[0m\u001b[1;33m\u001b[0m\u001b[0m\n\u001b[0;32m   1077\u001b[0m       \u001b[1;31m# pylint: disable=protected-access\u001b[0m\u001b[1;33m\u001b[0m\u001b[1;33m\u001b[0m\u001b[1;33m\u001b[0m\u001b[0m\n\u001b[1;32m-> 1078\u001b[1;33m       \u001b[1;32mreturn\u001b[0m \u001b[0mtensor_oper\u001b[0m\u001b[1;33m(\u001b[0m\u001b[0ma\u001b[0m\u001b[1;33m.\u001b[0m\u001b[0mvalue\u001b[0m\u001b[1;33m(\u001b[0m\u001b[1;33m)\u001b[0m\u001b[1;33m,\u001b[0m \u001b[1;33m*\u001b[0m\u001b[0margs\u001b[0m\u001b[1;33m,\u001b[0m \u001b[1;33m**\u001b[0m\u001b[0mkwargs\u001b[0m\u001b[1;33m)\u001b[0m\u001b[1;33m\u001b[0m\u001b[1;33m\u001b[0m\u001b[0m\n\u001b[0m\u001b[0;32m   1079\u001b[0m \u001b[1;33m\u001b[0m\u001b[0m\n\u001b[0;32m   1080\u001b[0m     \u001b[0mfunctools\u001b[0m\u001b[1;33m.\u001b[0m\u001b[0mupdate_wrapper\u001b[0m\u001b[1;33m(\u001b[0m\u001b[0m_run_op\u001b[0m\u001b[1;33m,\u001b[0m \u001b[0mtensor_oper\u001b[0m\u001b[1;33m)\u001b[0m\u001b[1;33m\u001b[0m\u001b[1;33m\u001b[0m\u001b[0m\n",
      "\u001b[1;32mC:\\ProgramData\\Anaconda3\\lib\\site-packages\\tensorflow\\python\\util\\traceback_utils.py\u001b[0m in \u001b[0;36merror_handler\u001b[1;34m(*args, **kwargs)\u001b[0m\n\u001b[0;32m    151\u001b[0m     \u001b[1;32mexcept\u001b[0m \u001b[0mException\u001b[0m \u001b[1;32mas\u001b[0m \u001b[0me\u001b[0m\u001b[1;33m:\u001b[0m\u001b[1;33m\u001b[0m\u001b[1;33m\u001b[0m\u001b[0m\n\u001b[0;32m    152\u001b[0m       \u001b[0mfiltered_tb\u001b[0m \u001b[1;33m=\u001b[0m \u001b[0m_process_traceback_frames\u001b[0m\u001b[1;33m(\u001b[0m\u001b[0me\u001b[0m\u001b[1;33m.\u001b[0m\u001b[0m__traceback__\u001b[0m\u001b[1;33m)\u001b[0m\u001b[1;33m\u001b[0m\u001b[1;33m\u001b[0m\u001b[0m\n\u001b[1;32m--> 153\u001b[1;33m       \u001b[1;32mraise\u001b[0m \u001b[0me\u001b[0m\u001b[1;33m.\u001b[0m\u001b[0mwith_traceback\u001b[0m\u001b[1;33m(\u001b[0m\u001b[0mfiltered_tb\u001b[0m\u001b[1;33m)\u001b[0m \u001b[1;32mfrom\u001b[0m \u001b[1;32mNone\u001b[0m\u001b[1;33m\u001b[0m\u001b[1;33m\u001b[0m\u001b[0m\n\u001b[0m\u001b[0;32m    154\u001b[0m     \u001b[1;32mfinally\u001b[0m\u001b[1;33m:\u001b[0m\u001b[1;33m\u001b[0m\u001b[1;33m\u001b[0m\u001b[0m\n\u001b[0;32m    155\u001b[0m       \u001b[1;32mdel\u001b[0m \u001b[0mfiltered_tb\u001b[0m\u001b[1;33m\u001b[0m\u001b[1;33m\u001b[0m\u001b[0m\n",
      "\u001b[1;32mC:\\ProgramData\\Anaconda3\\lib\\site-packages\\tensorflow\\python\\framework\\ops.py\u001b[0m in \u001b[0;36mraise_from_not_ok_status\u001b[1;34m(e, name)\u001b[0m\n\u001b[0;32m   7105\u001b[0m \u001b[1;32mdef\u001b[0m \u001b[0mraise_from_not_ok_status\u001b[0m\u001b[1;33m(\u001b[0m\u001b[0me\u001b[0m\u001b[1;33m,\u001b[0m \u001b[0mname\u001b[0m\u001b[1;33m)\u001b[0m\u001b[1;33m:\u001b[0m\u001b[1;33m\u001b[0m\u001b[1;33m\u001b[0m\u001b[0m\n\u001b[0;32m   7106\u001b[0m   \u001b[0me\u001b[0m\u001b[1;33m.\u001b[0m\u001b[0mmessage\u001b[0m \u001b[1;33m+=\u001b[0m \u001b[1;33m(\u001b[0m\u001b[1;34m\" name: \"\u001b[0m \u001b[1;33m+\u001b[0m \u001b[0mname\u001b[0m \u001b[1;32mif\u001b[0m \u001b[0mname\u001b[0m \u001b[1;32mis\u001b[0m \u001b[1;32mnot\u001b[0m \u001b[1;32mNone\u001b[0m \u001b[1;32melse\u001b[0m \u001b[1;34m\"\"\u001b[0m\u001b[1;33m)\u001b[0m\u001b[1;33m\u001b[0m\u001b[1;33m\u001b[0m\u001b[0m\n\u001b[1;32m-> 7107\u001b[1;33m   \u001b[1;32mraise\u001b[0m \u001b[0mcore\u001b[0m\u001b[1;33m.\u001b[0m\u001b[0m_status_to_exception\u001b[0m\u001b[1;33m(\u001b[0m\u001b[0me\u001b[0m\u001b[1;33m)\u001b[0m \u001b[1;32mfrom\u001b[0m \u001b[1;32mNone\u001b[0m  \u001b[1;31m# pylint: disable=protected-access\u001b[0m\u001b[1;33m\u001b[0m\u001b[1;33m\u001b[0m\u001b[0m\n\u001b[0m\u001b[0;32m   7108\u001b[0m \u001b[1;33m\u001b[0m\u001b[0m\n\u001b[0;32m   7109\u001b[0m \u001b[1;33m\u001b[0m\u001b[0m\n",
      "\u001b[1;31mInvalidArgumentError\u001b[0m: cannot compute AddV2 as input #1(zero-based) was expected to be a int32 tensor but is a float tensor [Op:AddV2]"
     ]
    }
   ],
   "source": [
    "##### tensorflow2 --> placeholder --> 지원 x \n",
    "# 그럼 어떻게??\n",
    "\n",
    "a = tf.Variable(3)\n",
    "b = tf.Variable(4.5)\n",
    "\n",
    "print(a+b) # 정수형 실수형 계산 안됨. 맞춰 줘야함\n"
   ]
  },
  {
   "cell_type": "code",
   "execution_count": 13,
   "id": "d60efeaf",
   "metadata": {},
   "outputs": [
    {
     "name": "stdout",
     "output_type": "stream",
     "text": [
      "tf.Tensor(7.5, shape=(), dtype=float32)\n",
      "7.5\n"
     ]
    }
   ],
   "source": [
    "a = tf.Variable(tf.cast(3,dtype=float))\n",
    "b = tf.Variable(4.5)\n",
    "\n",
    "print(a+b) # 정수형 실수형 계산 안됨. \n",
    "print(a.numpy()+b.numpy())"
   ]
  },
  {
   "cell_type": "code",
   "execution_count": 19,
   "id": "1a6598f1",
   "metadata": {},
   "outputs": [
    {
     "name": "stdout",
     "output_type": "stream",
     "text": [
      "tf.Tensor(0.0, shape=(), dtype=float32)\n",
      "tf.Tensor(7.5, shape=(), dtype=float32)\n",
      "[3. 7.]\n"
     ]
    }
   ],
   "source": [
    "# 초기화 - placeholder 와 동일한 기능 \n",
    "a= tf.Variable(tf.zeros(shape=()))\n",
    "b= tf.Variable(tf.zeros(shape=()))\n",
    "print(a+b)\n",
    "\n",
    "@tf.function\n",
    "def add(x):\n",
    "    return(a+x[0])+(b+x[1])\n",
    "\n",
    "print(add([3,4.5]))# tensor 그대로 가져오기\n",
    "print(add([[1,3],[2,4]]).numpy()) # 값만 가져오기"
   ]
  },
  {
   "cell_type": "code",
   "execution_count": 20,
   "id": "37a7ebe7",
   "metadata": {},
   "outputs": [],
   "source": [
    "#실제 모델을 바탕으로 연습"
   ]
  },
  {
   "cell_type": "markdown",
   "id": "73953f1f",
   "metadata": {},
   "source": [
    "### (1) 선형회귀 모델"
   ]
  },
  {
   "cell_type": "code",
   "execution_count": 22,
   "id": "ee01045b",
   "metadata": {},
   "outputs": [],
   "source": [
    "# 옛날 스타일 \n",
    "x_train = [1,2,3]\n",
    "y_train = [1,2,3]\n",
    "\n",
    "W = tf.Variable(tf.random.normal([1]),dtype=tf.float32)"
   ]
  },
  {
   "cell_type": "code",
   "execution_count": null,
   "id": "b46c3ea6",
   "metadata": {},
   "outputs": [],
   "source": [
    "##### Session 도 지원 X \n",
    "\n",
    "##### 데이터 준비 \n",
    "x_train = [1,2,3] \n",
    "y_train = [1,2,3]\n",
    "W =tf.Variable(tf.random_normal([1]),dtype =tf.float32)\n",
    "b =tf.Variable(tf.random_normal([1]),dtype =tf.float32)\n",
    "\n",
    "##### 가설 준비 (y=Wx) --> W 의 값을 알아내기 단순해서 이미 알고있음 \n",
    "hypot = W *x_train\n",
    "\n",
    "##### 비용이 얼마나 들지 - 비용 공식  MSE \n",
    "cost = tf.reduce_mean(tf.square(hypot-y_train))\n",
    "\n",
    "##### 최저 비용학습을 위한 경사하강 알고리즘(Gradient Descent)\n",
    "gradient = tf.reduce_mean((hypot-y_train)*x_train)\n",
    "learning_rate = 0.01 # 알파값 \n",
    "descent = W -(learning_rate * gradient)\n",
    "update=W.assign(descent)\n",
    "\n",
    "#--------------- 그래프 완성 -----------------# \n",
    "\n",
    "sess = tf.Session()\n",
    "sess.run(tf.global_variables_initializer())\n",
    "\n",
    "for step in range(100): # 훈련 횟수 \n",
    "    _, weight,c=sess.run([update,W,cost]) # 실험이 잘되고 있나 모니터링 하기 위해 \n",
    "    print(step,weight,c)\n",
    "    \n",
    "sess.close()\n"
   ]
  },
  {
   "cell_type": "code",
   "execution_count": 23,
   "id": "6a2363d2",
   "metadata": {
    "collapsed": true
   },
   "outputs": [
    {
     "name": "stdout",
     "output_type": "stream",
     "text": [
      "Epoch 1/50\n",
      "1/1 [==============================] - 0s 313ms/step - loss: 29.8523\n",
      "Epoch 2/50\n",
      "1/1 [==============================] - 0s 3ms/step - loss: 23.6222\n",
      "Epoch 3/50\n",
      "1/1 [==============================] - 0s 5ms/step - loss: 18.6975\n",
      "Epoch 4/50\n",
      "1/1 [==============================] - 0s 4ms/step - loss: 14.8046\n",
      "Epoch 5/50\n",
      "1/1 [==============================] - 0s 3ms/step - loss: 11.7274\n",
      "Epoch 6/50\n",
      "1/1 [==============================] - 0s 9ms/step - loss: 9.2949\n",
      "Epoch 7/50\n",
      "1/1 [==============================] - 0s 17ms/step - loss: 7.3721\n",
      "Epoch 8/50\n",
      "1/1 [==============================] - 0s 12ms/step - loss: 5.8520\n",
      "Epoch 9/50\n",
      "1/1 [==============================] - 0s 12ms/step - loss: 4.6504\n",
      "Epoch 10/50\n",
      "1/1 [==============================] - 0s 7ms/step - loss: 3.7005\n",
      "Epoch 11/50\n",
      "1/1 [==============================] - 0s 3ms/step - loss: 2.9495\n",
      "Epoch 12/50\n",
      "1/1 [==============================] - 0s 5ms/step - loss: 2.3557\n",
      "Epoch 13/50\n",
      "1/1 [==============================] - 0s 6ms/step - loss: 1.8863\n",
      "Epoch 14/50\n",
      "1/1 [==============================] - 0s 4ms/step - loss: 1.5151\n",
      "Epoch 15/50\n",
      "1/1 [==============================] - 0s 6ms/step - loss: 1.2216\n",
      "Epoch 16/50\n",
      "1/1 [==============================] - 0s 8ms/step - loss: 0.9895\n",
      "Epoch 17/50\n",
      "1/1 [==============================] - 0s 6ms/step - loss: 0.8059\n",
      "Epoch 18/50\n",
      "1/1 [==============================] - 0s 5ms/step - loss: 0.6606\n",
      "Epoch 19/50\n",
      "1/1 [==============================] - 0s 4ms/step - loss: 0.5457\n",
      "Epoch 20/50\n",
      "1/1 [==============================] - 0s 7ms/step - loss: 0.4548\n",
      "Epoch 21/50\n",
      "1/1 [==============================] - 0s 6ms/step - loss: 0.3828\n",
      "Epoch 22/50\n",
      "1/1 [==============================] - 0s 6ms/step - loss: 0.3257\n",
      "Epoch 23/50\n",
      "1/1 [==============================] - 0s 5ms/step - loss: 0.2805\n",
      "Epoch 24/50\n",
      "1/1 [==============================] - 0s 4ms/step - loss: 0.2447\n",
      "Epoch 25/50\n",
      "1/1 [==============================] - 0s 7ms/step - loss: 0.2163\n",
      "Epoch 26/50\n",
      "1/1 [==============================] - 0s 4ms/step - loss: 0.1937\n",
      "Epoch 27/50\n",
      "1/1 [==============================] - 0s 16ms/step - loss: 0.1757\n",
      "Epoch 28/50\n",
      "1/1 [==============================] - 0s 15ms/step - loss: 0.1614\n",
      "Epoch 29/50\n",
      "1/1 [==============================] - 0s 5ms/step - loss: 0.1500\n",
      "Epoch 30/50\n",
      "1/1 [==============================] - 0s 5ms/step - loss: 0.1409\n",
      "Epoch 31/50\n",
      "1/1 [==============================] - 0s 4ms/step - loss: 0.1336\n",
      "Epoch 32/50\n",
      "1/1 [==============================] - 0s 4ms/step - loss: 0.1277\n",
      "Epoch 33/50\n",
      "1/1 [==============================] - 0s 3ms/step - loss: 0.1229\n",
      "Epoch 34/50\n",
      "1/1 [==============================] - 0s 3ms/step - loss: 0.1190\n",
      "Epoch 35/50\n",
      "1/1 [==============================] - 0s 10ms/step - loss: 0.1159\n",
      "Epoch 36/50\n",
      "1/1 [==============================] - 0s 6ms/step - loss: 0.1133\n",
      "Epoch 37/50\n",
      "1/1 [==============================] - 0s 3ms/step - loss: 0.1111\n",
      "Epoch 38/50\n",
      "1/1 [==============================] - 0s 8ms/step - loss: 0.1093\n",
      "Epoch 39/50\n",
      "1/1 [==============================] - 0s 4ms/step - loss: 0.1077\n",
      "Epoch 40/50\n",
      "1/1 [==============================] - 0s 5ms/step - loss: 0.1064\n",
      "Epoch 41/50\n",
      "1/1 [==============================] - 0s 7ms/step - loss: 0.1053\n",
      "Epoch 42/50\n",
      "1/1 [==============================] - 0s 3ms/step - loss: 0.1043\n",
      "Epoch 43/50\n",
      "1/1 [==============================] - 0s 3ms/step - loss: 0.1034\n",
      "Epoch 44/50\n",
      "1/1 [==============================] - 0s 4ms/step - loss: 0.1026\n",
      "Epoch 45/50\n",
      "1/1 [==============================] - 0s 7ms/step - loss: 0.1018\n",
      "Epoch 46/50\n",
      "1/1 [==============================] - 0s 4ms/step - loss: 0.1011\n",
      "Epoch 47/50\n",
      "1/1 [==============================] - 0s 4ms/step - loss: 0.1005\n",
      "Epoch 48/50\n",
      "1/1 [==============================] - 0s 4ms/step - loss: 0.0999\n",
      "Epoch 49/50\n",
      "1/1 [==============================] - 0s 5ms/step - loss: 0.0993\n",
      "Epoch 50/50\n",
      "1/1 [==============================] - 0s 8ms/step - loss: 0.0988\n"
     ]
    },
    {
     "data": {
      "text/plain": [
       "<keras.callbacks.History at 0x1bfb639f670>"
      ]
     },
     "execution_count": 23,
     "metadata": {},
     "output_type": "execute_result"
    }
   ],
   "source": [
    "# keras\n",
    "x_train = [1,2,3] \n",
    "y_train = [1,2,3]\n",
    "\n",
    "model = tf.keras.models.Sequential()\n",
    "\n",
    "model.add(tf.keras.layers.Dense(1,input_dim=1)) # input_shape=(1,)\n",
    "model.compile(loss='mse',optimizer=tf.keras.optimizers.SGD(lr=0.01))\n",
    "model.fit(x_train,y_train,epochs=50)"
   ]
  },
  {
   "cell_type": "code",
   "execution_count": null,
   "id": "86092d06",
   "metadata": {},
   "outputs": [],
   "source": [
    "git.sttus\n",
    "git add."
   ]
  },
  {
   "cell_type": "code",
   "execution_count": 25,
   "id": "9e308fc1",
   "metadata": {},
   "outputs": [
    {
     "data": {
      "text/html": [
       "<div>\n",
       "<style scoped>\n",
       "    .dataframe tbody tr th:only-of-type {\n",
       "        vertical-align: middle;\n",
       "    }\n",
       "\n",
       "    .dataframe tbody tr th {\n",
       "        vertical-align: top;\n",
       "    }\n",
       "\n",
       "    .dataframe thead th {\n",
       "        text-align: right;\n",
       "    }\n",
       "</style>\n",
       "<table border=\"1\" class=\"dataframe\">\n",
       "  <thead>\n",
       "    <tr style=\"text-align: right;\">\n",
       "      <th></th>\n",
       "      <th>Unnamed: 0</th>\n",
       "      <th>가게링크</th>\n",
       "      <th>가게이름</th>\n",
       "      <th>가게주소</th>\n",
       "      <th>구 이름</th>\n",
       "      <th>별점</th>\n",
       "    </tr>\n",
       "  </thead>\n",
       "  <tbody>\n",
       "    <tr>\n",
       "      <th>0</th>\n",
       "      <td>0</td>\n",
       "      <td>https://place.map.kakao.com/16990385</td>\n",
       "      <td>쟝블랑제리</td>\n",
       "      <td>서울 관악구 낙성대역길 8</td>\n",
       "      <td>관악구</td>\n",
       "      <td>3.7</td>\n",
       "    </tr>\n",
       "    <tr>\n",
       "      <th>1</th>\n",
       "      <td>1</td>\n",
       "      <td>https://place.map.kakao.com/768850911</td>\n",
       "      <td>월화고기 보라매직영점</td>\n",
       "      <td>서울 관악구 보라매로3길 16</td>\n",
       "      <td>관악구</td>\n",
       "      <td>4.2</td>\n",
       "    </tr>\n",
       "    <tr>\n",
       "      <th>2</th>\n",
       "      <td>2</td>\n",
       "      <td>https://place.map.kakao.com/15317417</td>\n",
       "      <td>원조민속순대타운</td>\n",
       "      <td>서울 관악구 신림로59길 14</td>\n",
       "      <td>관악구</td>\n",
       "      <td>3.0</td>\n",
       "    </tr>\n",
       "    <tr>\n",
       "      <th>3</th>\n",
       "      <td>3</td>\n",
       "      <td>https://place.map.kakao.com/10122642</td>\n",
       "      <td>강강술래 신림점</td>\n",
       "      <td>서울 관악구 남부순환로 1660</td>\n",
       "      <td>관악구</td>\n",
       "      <td>2.4</td>\n",
       "    </tr>\n",
       "    <tr>\n",
       "      <th>4</th>\n",
       "      <td>4</td>\n",
       "      <td>https://place.map.kakao.com/1099251112</td>\n",
       "      <td>디자이너리카페</td>\n",
       "      <td>서울 관악구 관천로 71-1 4층</td>\n",
       "      <td>관악구</td>\n",
       "      <td>3.8</td>\n",
       "    </tr>\n",
       "    <tr>\n",
       "      <th>...</th>\n",
       "      <td>...</td>\n",
       "      <td>...</td>\n",
       "      <td>...</td>\n",
       "      <td>...</td>\n",
       "      <td>...</td>\n",
       "      <td>...</td>\n",
       "    </tr>\n",
       "    <tr>\n",
       "      <th>2502</th>\n",
       "      <td>2502</td>\n",
       "      <td>https://place.map.kakao.com/1699144433</td>\n",
       "      <td>조개깡패연구소 발산역마곡점</td>\n",
       "      <td>서울 강서구 공항대로 269-15 마곡힐스테이트에코오피스텔 1층 113호</td>\n",
       "      <td>강서구</td>\n",
       "      <td>2.0</td>\n",
       "    </tr>\n",
       "    <tr>\n",
       "      <th>2503</th>\n",
       "      <td>2503</td>\n",
       "      <td>https://place.map.kakao.com/1279093277</td>\n",
       "      <td>교촌치킨 마곡역점</td>\n",
       "      <td>서울 강서구 공항대로 209</td>\n",
       "      <td>강서구</td>\n",
       "      <td>4.5</td>\n",
       "    </tr>\n",
       "    <tr>\n",
       "      <th>2504</th>\n",
       "      <td>2504</td>\n",
       "      <td>https://place.map.kakao.com/1810605778</td>\n",
       "      <td>바삭하게</td>\n",
       "      <td>서울 강서구 공항대로 237</td>\n",
       "      <td>강서구</td>\n",
       "      <td>4.1</td>\n",
       "    </tr>\n",
       "    <tr>\n",
       "      <th>2505</th>\n",
       "      <td>2505</td>\n",
       "      <td>https://place.map.kakao.com/1785400276</td>\n",
       "      <td>동래순훠궈</td>\n",
       "      <td>서울 강서구 마곡중앙6로 93 열린프라자 3층 307호</td>\n",
       "      <td>강서구</td>\n",
       "      <td>4.8</td>\n",
       "    </tr>\n",
       "    <tr>\n",
       "      <th>2506</th>\n",
       "      <td>2506</td>\n",
       "      <td>https://place.map.kakao.com/1823221194</td>\n",
       "      <td>등촌정육식당</td>\n",
       "      <td>서울 강서구 공항대로59길 75 나동 1~2층</td>\n",
       "      <td>강서구</td>\n",
       "      <td>3.4</td>\n",
       "    </tr>\n",
       "  </tbody>\n",
       "</table>\n",
       "<p>2507 rows × 6 columns</p>\n",
       "</div>"
      ],
      "text/plain": [
       "      Unnamed: 0                                    가게링크            가게이름  \\\n",
       "0              0    https://place.map.kakao.com/16990385           쟝블랑제리   \n",
       "1              1   https://place.map.kakao.com/768850911     월화고기 보라매직영점   \n",
       "2              2    https://place.map.kakao.com/15317417        원조민속순대타운   \n",
       "3              3    https://place.map.kakao.com/10122642        강강술래 신림점   \n",
       "4              4  https://place.map.kakao.com/1099251112         디자이너리카페   \n",
       "...          ...                                     ...             ...   \n",
       "2502        2502  https://place.map.kakao.com/1699144433  조개깡패연구소 발산역마곡점   \n",
       "2503        2503  https://place.map.kakao.com/1279093277       교촌치킨 마곡역점   \n",
       "2504        2504  https://place.map.kakao.com/1810605778            바삭하게   \n",
       "2505        2505  https://place.map.kakao.com/1785400276           동래순훠궈   \n",
       "2506        2506  https://place.map.kakao.com/1823221194          등촌정육식당   \n",
       "\n",
       "                                          가게주소 구 이름   별점  \n",
       "0                               서울 관악구 낙성대역길 8  관악구  3.7  \n",
       "1                             서울 관악구 보라매로3길 16  관악구  4.2  \n",
       "2                             서울 관악구 신림로59길 14  관악구  3.0  \n",
       "3                            서울 관악구 남부순환로 1660  관악구  2.4  \n",
       "4                           서울 관악구 관천로 71-1 4층  관악구  3.8  \n",
       "...                                        ...  ...  ...  \n",
       "2502  서울 강서구 공항대로 269-15 마곡힐스테이트에코오피스텔 1층 113호  강서구  2.0  \n",
       "2503                           서울 강서구 공항대로 209  강서구  4.5  \n",
       "2504                           서울 강서구 공항대로 237  강서구  4.1  \n",
       "2505            서울 강서구 마곡중앙6로 93 열린프라자 3층 307호  강서구  4.8  \n",
       "2506                 서울 강서구 공항대로59길 75 나동 1~2층  강서구  3.4  \n",
       "\n",
       "[2507 rows x 6 columns]"
      ]
     },
     "execution_count": 25,
     "metadata": {},
     "output_type": "execute_result"
    }
   ],
   "source": [
    "df = pd.read_csv('C:\\\\Users\\\\Administrator\\\\Desktop\\\\seonmin\\\\pythonwork\\\\analysis\\\\kakao_store.csv')\n",
    "df"
   ]
  },
  {
   "cell_type": "code",
   "execution_count": null,
   "id": "92b52909",
   "metadata": {},
   "outputs": [],
   "source": []
  },
  {
   "cell_type": "code",
   "execution_count": null,
   "id": "f5ea50e1",
   "metadata": {},
   "outputs": [],
   "source": []
  },
  {
   "cell_type": "code",
   "execution_count": null,
   "id": "b5c79592",
   "metadata": {},
   "outputs": [],
   "source": []
  },
  {
   "cell_type": "code",
   "execution_count": null,
   "id": "603ecc1d",
   "metadata": {},
   "outputs": [],
   "source": []
  },
  {
   "cell_type": "code",
   "execution_count": null,
   "id": "77b1fc8c",
   "metadata": {},
   "outputs": [],
   "source": []
  },
  {
   "cell_type": "code",
   "execution_count": null,
   "id": "6c501c8e",
   "metadata": {},
   "outputs": [],
   "source": []
  },
  {
   "cell_type": "code",
   "execution_count": null,
   "id": "fbefc556",
   "metadata": {},
   "outputs": [],
   "source": []
  },
  {
   "cell_type": "code",
   "execution_count": null,
   "id": "cf05938d",
   "metadata": {},
   "outputs": [],
   "source": []
  },
  {
   "cell_type": "code",
   "execution_count": null,
   "id": "aa74b286",
   "metadata": {},
   "outputs": [],
   "source": []
  },
  {
   "cell_type": "code",
   "execution_count": null,
   "id": "d8bf6f8d",
   "metadata": {},
   "outputs": [],
   "source": []
  },
  {
   "cell_type": "code",
   "execution_count": null,
   "id": "b1b0c0de",
   "metadata": {},
   "outputs": [],
   "source": []
  },
  {
   "cell_type": "code",
   "execution_count": null,
   "id": "87e37403",
   "metadata": {},
   "outputs": [],
   "source": []
  },
  {
   "cell_type": "code",
   "execution_count": null,
   "id": "4978ed74",
   "metadata": {},
   "outputs": [],
   "source": []
  },
  {
   "cell_type": "code",
   "execution_count": null,
   "id": "7b1b0b74",
   "metadata": {},
   "outputs": [],
   "source": []
  },
  {
   "cell_type": "code",
   "execution_count": null,
   "id": "2bf373d4",
   "metadata": {},
   "outputs": [],
   "source": []
  },
  {
   "cell_type": "code",
   "execution_count": null,
   "id": "5548d428",
   "metadata": {},
   "outputs": [],
   "source": []
  },
  {
   "cell_type": "code",
   "execution_count": null,
   "id": "79876b46",
   "metadata": {},
   "outputs": [],
   "source": []
  },
  {
   "cell_type": "code",
   "execution_count": null,
   "id": "7edea385",
   "metadata": {},
   "outputs": [],
   "source": []
  },
  {
   "cell_type": "code",
   "execution_count": null,
   "id": "ab3fb179",
   "metadata": {},
   "outputs": [],
   "source": []
  },
  {
   "cell_type": "code",
   "execution_count": null,
   "id": "11523e92",
   "metadata": {},
   "outputs": [],
   "source": []
  },
  {
   "cell_type": "code",
   "execution_count": null,
   "id": "0ef0eb20",
   "metadata": {},
   "outputs": [],
   "source": []
  },
  {
   "cell_type": "code",
   "execution_count": null,
   "id": "d387e1e1",
   "metadata": {},
   "outputs": [],
   "source": []
  },
  {
   "cell_type": "code",
   "execution_count": null,
   "id": "84d7d84e",
   "metadata": {},
   "outputs": [],
   "source": []
  },
  {
   "cell_type": "code",
   "execution_count": null,
   "id": "58b0c6dd",
   "metadata": {},
   "outputs": [],
   "source": []
  },
  {
   "cell_type": "code",
   "execution_count": null,
   "id": "b6374ad6",
   "metadata": {},
   "outputs": [],
   "source": []
  },
  {
   "cell_type": "code",
   "execution_count": null,
   "id": "8869a282",
   "metadata": {},
   "outputs": [],
   "source": []
  },
  {
   "cell_type": "code",
   "execution_count": null,
   "id": "1e96ffb6",
   "metadata": {},
   "outputs": [],
   "source": []
  },
  {
   "cell_type": "code",
   "execution_count": null,
   "id": "d3f5a968",
   "metadata": {},
   "outputs": [],
   "source": []
  },
  {
   "cell_type": "code",
   "execution_count": null,
   "id": "12eb2a2c",
   "metadata": {},
   "outputs": [],
   "source": []
  },
  {
   "cell_type": "code",
   "execution_count": null,
   "id": "33344397",
   "metadata": {},
   "outputs": [],
   "source": []
  },
  {
   "cell_type": "code",
   "execution_count": null,
   "id": "a899b0ba",
   "metadata": {},
   "outputs": [],
   "source": []
  },
  {
   "cell_type": "code",
   "execution_count": null,
   "id": "20ff1014",
   "metadata": {},
   "outputs": [],
   "source": []
  },
  {
   "cell_type": "code",
   "execution_count": null,
   "id": "1e1e8137",
   "metadata": {},
   "outputs": [],
   "source": []
  },
  {
   "cell_type": "code",
   "execution_count": null,
   "id": "26f3c257",
   "metadata": {},
   "outputs": [],
   "source": []
  },
  {
   "cell_type": "code",
   "execution_count": null,
   "id": "6c673736",
   "metadata": {},
   "outputs": [],
   "source": []
  },
  {
   "cell_type": "code",
   "execution_count": null,
   "id": "738a83ad",
   "metadata": {},
   "outputs": [],
   "source": []
  },
  {
   "cell_type": "code",
   "execution_count": null,
   "id": "3449ba77",
   "metadata": {},
   "outputs": [],
   "source": []
  },
  {
   "cell_type": "code",
   "execution_count": null,
   "id": "9c00999e",
   "metadata": {},
   "outputs": [],
   "source": []
  },
  {
   "cell_type": "code",
   "execution_count": null,
   "id": "44134c65",
   "metadata": {},
   "outputs": [],
   "source": []
  },
  {
   "cell_type": "code",
   "execution_count": null,
   "id": "d501e957",
   "metadata": {},
   "outputs": [],
   "source": []
  },
  {
   "cell_type": "code",
   "execution_count": null,
   "id": "2ed9a4bf",
   "metadata": {},
   "outputs": [],
   "source": []
  },
  {
   "cell_type": "code",
   "execution_count": null,
   "id": "de588e62",
   "metadata": {},
   "outputs": [],
   "source": []
  },
  {
   "cell_type": "code",
   "execution_count": null,
   "id": "1238e0ee",
   "metadata": {},
   "outputs": [],
   "source": []
  },
  {
   "cell_type": "code",
   "execution_count": null,
   "id": "7891d7b1",
   "metadata": {},
   "outputs": [],
   "source": []
  },
  {
   "cell_type": "code",
   "execution_count": null,
   "id": "4c153e61",
   "metadata": {},
   "outputs": [],
   "source": []
  },
  {
   "cell_type": "code",
   "execution_count": null,
   "id": "2ac58e37",
   "metadata": {},
   "outputs": [],
   "source": []
  },
  {
   "cell_type": "code",
   "execution_count": null,
   "id": "ad654558",
   "metadata": {},
   "outputs": [],
   "source": []
  },
  {
   "cell_type": "code",
   "execution_count": null,
   "id": "49ad6db2",
   "metadata": {},
   "outputs": [],
   "source": []
  },
  {
   "cell_type": "code",
   "execution_count": null,
   "id": "79d28ffd",
   "metadata": {},
   "outputs": [],
   "source": []
  },
  {
   "cell_type": "code",
   "execution_count": null,
   "id": "0b6d8ca3",
   "metadata": {},
   "outputs": [],
   "source": []
  },
  {
   "cell_type": "code",
   "execution_count": null,
   "id": "0332fa18",
   "metadata": {},
   "outputs": [],
   "source": []
  },
  {
   "cell_type": "code",
   "execution_count": null,
   "id": "5be97c6a",
   "metadata": {},
   "outputs": [],
   "source": []
  },
  {
   "cell_type": "code",
   "execution_count": null,
   "id": "42c0ebe7",
   "metadata": {},
   "outputs": [],
   "source": []
  },
  {
   "cell_type": "code",
   "execution_count": null,
   "id": "d582d9d6",
   "metadata": {},
   "outputs": [],
   "source": []
  },
  {
   "cell_type": "code",
   "execution_count": null,
   "id": "fb390148",
   "metadata": {},
   "outputs": [],
   "source": []
  }
 ],
 "metadata": {
  "kernelspec": {
   "display_name": "Python 3",
   "language": "python",
   "name": "python3"
  },
  "language_info": {
   "codemirror_mode": {
    "name": "ipython",
    "version": 3
   },
   "file_extension": ".py",
   "mimetype": "text/x-python",
   "name": "python",
   "nbconvert_exporter": "python",
   "pygments_lexer": "ipython3",
   "version": "3.8.8"
  }
 },
 "nbformat": 4,
 "nbformat_minor": 5
}
