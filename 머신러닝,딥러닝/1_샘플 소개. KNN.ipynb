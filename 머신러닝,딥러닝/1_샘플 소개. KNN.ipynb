{
 "cells": [
  {
   "cell_type": "markdown",
   "id": "ecdad8f8",
   "metadata": {},
   "source": [
    " 1.  개요\n",
    " ============\n",
    "    \n",
    "    (1) AI\n",
    "    - 머신러닝, 컴퓨터 버젼, 자연어 처리, 관련된 모든 주제를 포함는 개념 \n",
    "        \n",
    "    (2) Machine Learning(머신러닝)\n",
    "    - 머신러닝은 노람이 코드를 만들어 줘야 했지만, 머신러닝은 알아서 만들어줌\n",
    "    - 더 많은 데이터 축적을 통해 성능을 개선할 수 있도록 다양한 알고리즘과 방법론\n",
    "    - 데이터를 기반으로 모델을 자동으로 생성하는 기술\n",
    "    - 실세계의 복잡한 데이터로부터 규칙과 패턴을 발견하여 미래를 예측하는 기술\n",
    "    - 입출력 데이터로부터 프로그램(알고리즘)을 자동으로 생성하는 기술\n",
    "       \n",
    "      - '환경(E) 과의 상호작용을 통해서 축적되는 경험적인 데이터(D)를 바탕으로 지식 즉 모델(M)을 자동적으로 구축하고 스스로 성능(P)을 향상시키는 시스템 : Tom Mitchell\n",
    "     \n",
    "     (3) Machine Learning 과 Data Mining\n",
    "         - 머신러닝은 훈련 데이터를 통해 학습된 알려진 속성을 기반으로 한 예측에 중점\n",
    "         - 데이터 마이닝은 데이터의 미처 몰랐던 속성을 발견하는 것에 집중\n",
    "         - 데이터 마이닝에서는 머신러닝이 필수가 아니지만, 머신러닝에서는 데이터 마이닝이 필수임\n",
    "    \n",
    "     기계가 학습하는데 어떤 방식으로 하냐?\n",
    "\n",
    "2. 머신러닝의 종류 \n",
    "----------------------\n",
    "    \n",
    "    (1) 지도학습(교사학습: Supervisor Learning) \n",
    "    \n",
    "        - 답을 알려주면서 학습을 시킴--> 학습시키기 쉬움, 수월,데이터가 많이 필요 없음), 답은 라벨 \n",
    "        \n",
    "        1). 회귀(Regression) --> 결과값이 연속 데이터로 나와야 할 경우 \n",
    "            \n",
    "            - 선형회귀(단일, 다중, 다항 회귀 등)\n",
    "            - 릿지 회귀, 라쏘 회쉬, 엘라스틱넷 회귀\n",
    "                        \n",
    "        \n",
    "        \n",
    "        2). 분류(Classification) --> 좀 더 신경을 많이 써야하고, 주로 쓰임.\n",
    "        \n",
    "                - Logistic Regression : 독립변수와 종속변수의 선형 관계성을 기반으로 하는 알고리즘 \n",
    "                - KNN : 근접 거리를 기준으로 하는 최소 근접 알고리즘\n",
    "                - Decision Tree : 데이터의 균일도에 따른 규칙 기반 알고리즘 \n",
    "                    - Random Forest\n",
    "                    - GBM: XGBoost, LightGBM\n",
    "                - SVM : 개별 클래스간의 최대 분류 마진을 효율적으로 찾아주는 알고리즘 \n",
    "                - Naive Bayes : 베이즈 통계와 생성모델을 기반으로 하는 알고리즘 \n",
    "                - Neural Network : 심층 연결 기반의 신경망 --> 딥러닝 \n",
    "                \n",
    "        \n",
    "    (2) 비지도 학습(비교사 학습: Unsupervisor Learning)\n",
    "    \n",
    "        - 답을 알려주지 않음) 스스로  패턴을 찾게끔함 --> 어려움, 많은 양의 데이터 필요, 진정한 머신러닝\n",
    "        \n",
    "        1) 군집(Clustering) - 분류와 비슷하나 군집은 답이 없음\n",
    "             - K Means\n",
    "             - DBSCAN\n",
    "             - 이상치 탐지, 특이치 탐지 \n",
    "         \n",
    "        2) 시각화, 차원 축소 \n",
    "            -PCA(주성분 분석) --> 변수가 많을 때 줄여줌 \n",
    "            \n",
    "        3) 연관 규칙 학습(Association Rule Learning\n",
    "            - 대량의 데이터 틍성간의 흥미로운 관계를 찾는 방식\n",
    "            \n",
    "        4) 피처 추출(Feature Extraction)\n",
    "    \n",
    "    (3) 강화 학습(반지도학습--> 지도와 비지도의 절충) : Reinforce Learning\n",
    "        - 완전한 답은 제공하지는 않음.\n",
    "        - 보상 시스템 적용\n",
    "        - 대표적인 예: 알파고 \n",
    "        \n",
    "3. Tensorflow\n",
    "    - http://www.tensorflow.org\n",
    "    - http://hunkim.github.io/ml\n",
    "\n",
    "(0) 프레임워크 \n",
    "    - Tensorflow\n",
    "    - Theano\n",
    "    - Pytorch\n",
    "    - Caffe\n",
    "    - Keras\n",
    "    - ...\n",
    "\n",
    "1). 특징 \n",
    "    - 구글에서 만든 오픈 소스 머신러닝 프레임워크 \n",
    "    - 다양한 언어를 제공하며 그중에서 파이썬이 가장 많이 사용됨 \n",
    "    - 기본적으로 텐서를 활용한 그래프 수치 연산을 하는 도구\n",
    "\n",
    "2). 가상환경    \n",
    "(1) 가상환경 준비 \n",
    "    conda info --envs --> 가상환경 확인\n",
    "    \n",
    "    - 가상환경 만들기 --> conda create -n tf1 python = 3.7 anaconda\n",
    "   \n",
    "(2)  가상환경 전환 \n",
    "    activate 가장환경 이름\n",
    "    다시 돌아가고 싶을때는: conda deactivate\n",
    "\n",
    "(3) 삭제 \n",
    "    conda remove --name 가상환경이름 --all\n",
    "        \n",
    "3).텐서플로우 설치 \n",
    "    (1). tf1으로 가상환경 전환 --> activate 가장환경 이름\n",
    "    (2). pip install tensorflow --> 이렇게 하면 최신버전 설치됨 2점대\n",
    "         pip install tensorflow==1.15.0"
   ]
  },
  {
   "cell_type": "code",
   "execution_count": 8,
   "id": "dd329751",
   "metadata": {},
   "outputs": [],
   "source": [
    "import pandas as pd\n",
    "import numpy as np\n",
    "#실제 그래프를 그릴 수 있는 서브 함수\n",
    "import matplotlib.pyplot as plt\n",
    "import seaborn as sns\n",
    "\n",
    "#경고표시 생략(일시적으로 생략하는게 좋음) \n",
    "import warnings\n",
    "warnings.filterwarnings(action='ignore')\n",
    "\n",
    "#한글폰트 지정 \n",
    "import matplotlib.font_manager as fm\n",
    "font_name= fm.FontProperties(fname=\"C:/Windows/Fonts/malgun.ttf\").get_name()\n",
    "plt.rc(\"font\",family=font_name)\n",
    "\n",
    "import matplotlib as mpl\n",
    "mpl.rcParams['axes.unicode_minus']=False\n",
    "\n",
    "# 머신러닝을 위한 모듈 \n",
    "from sklearn.model_selection import train_test_split\n",
    "\n",
    "# 나머지는 그때 그때 불러오기로 "
   ]
  },
  {
   "cell_type": "markdown",
   "id": "bb684eb7",
   "metadata": {},
   "source": [
    "## 1. 샘플 소개"
   ]
  },
  {
   "cell_type": "code",
   "execution_count": 9,
   "id": "ccaca630",
   "metadata": {},
   "outputs": [],
   "source": [
    "# pip install mglearn --> 다양한 예제가 있음 \n",
    "import mglearn\n",
    "\n",
    "# 아무데이터나 쓰는게 아님 이 알고리즘에 맞는 데이터를 써야함.\n",
    "\n",
    "from sklearn.datasets import load_breast_cancer, load_boston"
   ]
  },
  {
   "cell_type": "code",
   "execution_count": 7,
   "id": "d48f6a57",
   "metadata": {},
   "outputs": [
    {
     "name": "stdout",
     "output_type": "stream",
     "text": [
      "[[ 9.96346605  4.59676542]\n",
      " [11.0329545  -0.16816717]\n",
      " [11.54155807  5.21116083]\n",
      " [ 8.69289001  1.54322016]\n",
      " [ 8.1062269   4.28695977]\n",
      " [ 8.30988863  4.80623966]\n",
      " [11.93027136  4.64866327]\n",
      " [ 9.67284681 -0.20283165]\n",
      " [ 8.34810316  5.13415623]\n",
      " [ 8.67494727  4.47573059]\n",
      " [ 9.17748385  5.09283177]\n",
      " [10.24028948  2.45544401]\n",
      " [ 8.68937095  1.48709629]\n",
      " [ 8.92229526 -0.63993225]\n",
      " [ 9.49123469  4.33224792]\n",
      " [ 9.25694192  5.13284858]\n",
      " [ 7.99815287  4.8525051 ]\n",
      " [ 8.18378052  1.29564214]\n",
      " [ 8.7337095   2.49162431]\n",
      " [ 9.32298256  5.09840649]\n",
      " [10.06393839  0.99078055]\n",
      " [ 9.50048972 -0.26430318]\n",
      " [ 8.34468785  1.63824349]\n",
      " [ 9.50169345  1.93824624]\n",
      " [ 9.15072323  5.49832246]\n",
      " [11.563957    1.3389402 ]]\n",
      "[1 0 1 0 0 1 1 0 1 1 1 1 0 0 1 1 1 0 0 1 0 0 0 0 1 0]\n"
     ]
    },
    {
     "data": {
      "text/plain": [
       "Text(0, 0.5, '두 번째 특성')"
      ]
     },
     "execution_count": 7,
     "metadata": {},
     "output_type": "execute_result"
    },
    {
     "data": {
      "image/png": "[encoded data removed]",
      "text/plain": [
       "<Figure size 432x288 with 1 Axes>"
      ]
     },
     "metadata": {
      "needs_background": "light"
     },
     "output_type": "display_data"
    }
   ],
   "source": [
    "# 이진 분류용 데이터 셋\n",
    "#알고리즘을 확인하기 위한 \n",
    "X,y=mglearn.datasets.make_forge()\n",
    "print(X)\n",
    "print(y) # X의 값이 입력 되면 답 y이다\n",
    "\n",
    "#숫자로 보면 알기 어려우니까 그래프로 그려보자 mglearn에서 그래프도 제공\n",
    "mglearn.discrete_scatter(X[:,0],X[:,1],y) # 0,1 인지 구분 해줌 \n",
    "plt.legend(['클래스 0','클래스 1'],loc=4)\n",
    "plt.xlabel('첫 번째 특성')\n",
    "plt.ylabel('두 번째 특성')"
   ]
  },
  {
   "cell_type": "code",
   "execution_count": 8,
   "id": "91f9be6d",
   "metadata": {},
   "outputs": [
    {
     "name": "stdout",
     "output_type": "stream",
     "text": [
      "[[-0.75275929]\n",
      " [ 2.70428584]\n",
      " [ 1.39196365]\n",
      " [ 0.59195091]\n",
      " [-2.06388816]\n",
      " [-2.06403288]\n",
      " [-2.65149833]\n",
      " [ 2.19705687]\n",
      " [ 0.60669007]\n",
      " [ 1.24843547]\n",
      " [-2.87649303]\n",
      " [ 2.81945911]\n",
      " [ 1.99465584]\n",
      " [-1.72596534]\n",
      " [-1.9090502 ]\n",
      " [-1.89957294]\n",
      " [-1.17454654]\n",
      " [ 0.14853859]\n",
      " [-0.40832989]\n",
      " [-1.25262516]\n",
      " [ 0.67111737]\n",
      " [-2.16303684]\n",
      " [-1.24713211]\n",
      " [-0.80182894]\n",
      " [-0.26358009]\n",
      " [ 1.71105577]\n",
      " [-1.80195731]\n",
      " [ 0.08540663]\n",
      " [ 0.55448741]\n",
      " [-2.72129752]\n",
      " [ 0.64526911]\n",
      " [-1.97685526]\n",
      " [-2.60969044]\n",
      " [ 2.69331322]\n",
      " [ 2.7937922 ]\n",
      " [ 1.85038409]\n",
      " [-1.17231738]\n",
      " [-2.41396732]\n",
      " [ 1.10539816]\n",
      " [-0.35908504]]\n",
      "[-0.44822073  0.33122576  0.77932073  0.03497884 -1.38773632 -2.47196233\n",
      " -1.52730805  1.49417157  1.00032374  0.22956153 -1.05979555  0.7789638\n",
      "  0.75418806 -1.51369739 -1.67303415 -0.90496988  0.08448544 -0.52734666\n",
      " -0.54114599 -0.3409073   0.21778193 -1.12469096  0.37299129  0.09756349\n",
      " -0.98618122  0.96695428 -1.13455014  0.69798591  0.43655826 -0.95652133\n",
      "  0.03527881 -2.08581717 -0.47411033  1.53708251  0.86893293  1.87664889\n",
      "  0.0945257  -1.41502356  0.25438895  0.09398858]\n"
     ]
    },
    {
     "data": {
      "text/plain": [
       "Text(0, 0.5, '타겟')"
      ]
     },
     "execution_count": 8,
     "metadata": {},
     "output_type": "execute_result"
    },
    {
     "data": {
      "image/png": "[encoded data removed]",
      "text/plain": [
       "<Figure size 432x288 with 1 Axes>"
      ]
     },
     "metadata": {
      "needs_background": "light"
     },
     "output_type": "display_data"
    }
   ],
   "source": [
    "##### 선형 회귀용 샘플 \n",
    "X,y = mglearn.datasets.make_wave(n_samples=40) # 난수로 만들어짐 \n",
    "print(X)\n",
    "print(y) # x에 대한 정답이라고 보면 됨. \n",
    "\n",
    "plt.plot(X,y,'o')\n",
    "plt.xlabel('특성')\n",
    "plt.ylabel('타겟')"
   ]
  },
  {
   "cell_type": "code",
   "execution_count": 9,
   "id": "3e189390",
   "metadata": {},
   "outputs": [
    {
     "name": "stdout",
     "output_type": "stream",
     "text": [
      "[[1.799e+01 1.038e+01 1.228e+02 ... 2.654e-01 4.601e-01 1.189e-01]\n",
      " [2.057e+01 1.777e+01 1.329e+02 ... 1.860e-01 2.750e-01 8.902e-02]\n",
      " [1.969e+01 2.125e+01 1.300e+02 ... 2.430e-01 3.613e-01 8.758e-02]\n",
      " ...\n",
      " [1.660e+01 2.808e+01 1.083e+02 ... 1.418e-01 2.218e-01 7.820e-02]\n",
      " [2.060e+01 2.933e+01 1.401e+02 ... 2.650e-01 4.087e-01 1.240e-01]\n",
      " [7.760e+00 2.454e+01 4.792e+01 ... 0.000e+00 2.871e-01 7.039e-02]]\n"
     ]
    }
   ],
   "source": [
    "cancer = load_breast_cancer()\n",
    "# print(cancer) # dict 형으로 되어 있음 \n",
    "# key로 접근해야함 \n",
    "# print(cancer.keys())\n",
    "print(cancer.data) # 배열 \n",
    "# print(cancer.target)\n",
    "# print(cancer.DESCR)# 설명 \n",
    "# print(type(cancer))\n",
    "# print(cancer.data.shape)"
   ]
  },
  {
   "cell_type": "code",
   "execution_count": 10,
   "id": "b46069da",
   "metadata": {},
   "outputs": [
    {
     "data": {
      "text/plain": [
       "array(['CRIM', 'ZN', 'INDUS', 'CHAS', 'NOX', 'RM', 'AGE', 'DIS', 'RAD',\n",
       "       'TAX', 'PTRATIO', 'B', 'LSTAT'], dtype='<U7')"
      ]
     },
     "execution_count": 10,
     "metadata": {},
     "output_type": "execute_result"
    }
   ],
   "source": [
    "boston = load_boston()\n",
    "boston.data.shape\n",
    "boston.feature_names # x 변수들, y 변두는 target으로 따로 되어 있음. \n"
   ]
  },
  {
   "cell_type": "markdown",
   "id": "1368ff22",
   "metadata": {},
   "source": [
    "---\n",
    "## 2. 용어 정리 \n",
    "\n",
    "- 머신러닝은 data : 훈련용, target : 정답 으로 나뉘어져 있음. \n",
    "\n",
    "### (1) 과대적합\n",
    "    - 훈련용 데이터는 훈련을 기가맥히게 잘받아서 잘 맞추는데 다른 데이터들어오면 맞추질 못함, 훈련을 너무 과하게 받아서 훈련용만 잘 맞추는 것임, 훈련에만 강하고 실전에 약한 스타일이라고 이해하면 댐 \n",
    "    - 훈련 데이터셋의 각 샘플에 너무 가깝게 맞추어져 있어서 복잡한 모델을 만드는 것/\n",
    "    - 과대적합(overfitting)은 모델이 훈련 데이터에 너무 잘 맞지만 일반성이 떨어진다는 의미\n",
    "    - 좋은 성능을 내기 위해서는 과적합을 해결해야함.\n",
    "    - 훈련 샘플과 테스트 샘플간의 테스트 갭차이 --> 이를 줄이기 위해서 가장 좋은 방법은 데이터 추가확보, 두번째 하이퍼파라미터(알고리즘에 따라 달라짐 )\n",
    "    --> 과적합을 막기 위해 교차 검증을 해야 함 \n",
    "        - KFold\n",
    "        - Stratidied KFold\n",
    "        - GridsearchCV - 교차검증과 최적하이퍼 파라미터 튜닝을 한번에 \n",
    "        - cross_val_score()\n",
    "\n",
    "### (2) 과소적합\n",
    "    - 너무 간단한 모델이 선택되는 것. 자주 발생되지 않음, 과대적합이 더 문제임. \n",
    "    - 훈련용 데이타에서 잘 맞추지 못함. \n",
    "\n",
    "### (3) 일반화 \n",
    "    + 처음 보는 데이터에 대해서 정확하게 예측할 수 있는 것/.\n",
    "    + 가장 바람직한 것 \n",
    "    \n",
    "### (4) 거리측정 : L1 norm, L2 norm\n",
    "\n",
    "+ L1 norm \n",
    "    - 단순한 절대값의 거리 합 \n",
    "    - 맨허튼 거리\n",
    "    \n",
    "+ L2 norm\n",
    "    - 거리의 절대값의 합에 루트 적용\n",
    "    - 피타고라스 정리, 유클리드 거리 --> 최단 거리"
   ]
  },
  {
   "cell_type": "markdown",
   "id": "500ac987",
   "metadata": {},
   "source": [
    "---\n",
    "\n",
    "## 3. KNN(k-nearest neighbors)\n",
    "\n",
    " + 지도 학습 - 답을 알려주면서 훈련 \n",
    " + 분류 알고리즘 - 관계있는 것끼리 나눠주는 것. --> 분류하면 기본이 이진 분류(둘 중 하나)\n",
    " + 둘로 나눌때 여러 기준이 있을 테지, 나누는 기준이 있을 테지 이를 --> measure - 대부분은 거리가 측정 도구 \n",
    " + 가까운지 먼지 --> 거리 구하는 방법들도 다양하게 있음 \n",
    " \n",
    " + KNN 알고리즘은 가장 가까운 것들끼리 묶어 주는 것\n",
    " \n",
    " ### (1) 특징\n",
    " \n",
    " + 이해하기 쉽고 직관적인 모델 \n",
    " + 더 복잡한 알고리즘을 적용하기 전에 시도해볼 수 있는 알고리즘.\n",
    " + 단점 : 훈련 셋이 너무 많으면 예측이 느려진다. \n",
    " \n",
    " ### (2) 하이퍼 파라미터\n",
    " \n",
    " + 이웃의 갯수(K) ---> 이것에 따라 성능이 달라짐\n",
    " + 데이터 사이의 거리를 측정: L2 norm"
   ]
  },
  {
   "cell_type": "code",
   "execution_count": 11,
   "id": "f6ce90eb",
   "metadata": {
    "scrolled": true
   },
   "outputs": [
    {
     "data": {
      "image/png": "[encoded data removed]",
      "text/plain": [
       "<Figure size 432x288 with 1 Axes>"
      ]
     },
     "metadata": {
      "needs_background": "light"
     },
     "output_type": "display_data"
    }
   ],
   "source": [
    "# 예세 셋이라고 보면 됨. \n",
    "mglearn.plots.plot_knn_classification(n_neighbors=5)\n",
    "# 3개를 봤는데 가장 가까운 3개 뽑았는데 삼각형이 2개고 원이 1개면 삼각형으로 구분\n",
    "# 가장 가까운 이웃이 몇개인가 보고 결정 - 다수결 "
   ]
  },
  {
   "cell_type": "markdown",
   "id": "c8dee7ff",
   "metadata": {},
   "source": [
    "## 그럼 무엇을 신경써야 하나? \n",
    "\n",
    "### 그 거리를 어떻게 측정했나? 이것에 신경써야함.\n",
    "+ 머신러닝에서 거리 측정은 크게 2가지 \n",
    "+ L1 norm, : Manhattan distance, 여러가지 있을 수 있음. 돌아가는 것이라 생각하면 쉬움, '모든 거리의 합'\n",
    "+ L2 norm : 가장 최단 거리, Euclidean distance, 빠르고 성능이 좋음, 딱 하나의 경우만 존재 , '모든 거리의 합'의 루트 쓴 값\n",
    "+ 그럼 어떤거 쓰는데? knn은 기본적으로 L2 norm으로 거리를 계산함 -> 가장 가까운 것으로 훈련을 시키는 것 \n"
   ]
  },
  {
   "cell_type": "markdown",
   "id": "686a55ab",
   "metadata": {},
   "source": [
    "### (2). L1 norm, L2 norm\n",
    " -  어떨때 L1 norm, 어떨때 L2 norm ? "
   ]
  },
  {
   "cell_type": "code",
   "execution_count": 12,
   "id": "56657fb6",
   "metadata": {},
   "outputs": [
    {
     "data": {
      "text/html": [
       "<div>\n",
       "<style scoped>\n",
       "    .dataframe tbody tr th:only-of-type {\n",
       "        vertical-align: middle;\n",
       "    }\n",
       "\n",
       "    .dataframe tbody tr th {\n",
       "        vertical-align: top;\n",
       "    }\n",
       "\n",
       "    .dataframe thead th {\n",
       "        text-align: right;\n",
       "    }\n",
       "</style>\n",
       "<table border=\"1\" class=\"dataframe\">\n",
       "  <thead>\n",
       "    <tr style=\"text-align: right;\">\n",
       "      <th></th>\n",
       "      <th>x</th>\n",
       "      <th>y</th>\n",
       "    </tr>\n",
       "  </thead>\n",
       "  <tbody>\n",
       "    <tr>\n",
       "      <th>0</th>\n",
       "      <td>2</td>\n",
       "      <td>6</td>\n",
       "    </tr>\n",
       "    <tr>\n",
       "      <th>1</th>\n",
       "      <td>7</td>\n",
       "      <td>3</td>\n",
       "    </tr>\n",
       "    <tr>\n",
       "      <th>2</th>\n",
       "      <td>4</td>\n",
       "      <td>6</td>\n",
       "    </tr>\n",
       "  </tbody>\n",
       "</table>\n",
       "</div>"
      ],
      "text/plain": [
       "   x  y\n",
       "0  2  6\n",
       "1  7  3\n",
       "2  4  6"
      ]
     },
     "execution_count": 12,
     "metadata": {},
     "output_type": "execute_result"
    }
   ],
   "source": [
    "df = pd.DataFrame(np.random.randint(low=1,high=10,size=(3,2)))\n",
    "df.columns = ['x','y']\n",
    "df\n",
    "\n"
   ]
  },
  {
   "cell_type": "code",
   "execution_count": 13,
   "id": "32d39bff",
   "metadata": {},
   "outputs": [
    {
     "data": {
      "text/plain": [
       "<seaborn.axisgrid.FacetGrid at 0x1f7627db5b0>"
      ]
     },
     "execution_count": 13,
     "metadata": {},
     "output_type": "execute_result"
    },
    {
     "data": {
      "image/png": "[encoded data removed]",
      "text/plain": [
       "<Figure size 360x360 with 1 Axes>"
      ]
     },
     "metadata": {
      "needs_background": "light"
     },
     "output_type": "display_data"
    }
   ],
   "source": [
    "sns.lmplot('x','y',data=df,fit_reg=False,scatter_kws={'s':200}) # scatter_kws={'s':200} 점크기 조절\n",
    "# 어느 점이 가장 가까운지 알아볼 때 어떤것을 써야할까? "
   ]
  },
  {
   "cell_type": "code",
   "execution_count": 14,
   "id": "f1b31558",
   "metadata": {},
   "outputs": [
    {
     "data": {
      "text/plain": [
       "array([6.32455532, 7.61577311, 7.21110255])"
      ]
     },
     "execution_count": 14,
     "metadata": {},
     "output_type": "execute_result"
    }
   ],
   "source": [
    "#### (0,0)으로 부터 어디가 제일 가까울까?? 어떤 거리 측정 방식을 써야할까?\n",
    "# L2 norm 을 사용해야함.--> 데이터의 최단 거리를 구하는 것이기 때문에 \n",
    "from numpy import linalg # 선형 계수를 가지고 있는여러가지 객체\n",
    "\n",
    "val = df.values # 배열로 바꿔주는 것.\n",
    "val\n",
    "\n",
    "linalg.norm(val, ord=2, axis=1) #ord =1 : L1 norm, ord=2 : L2 norm\n",
    "# 결과 값을 보면 첫 번째 값이 가장 가깝다고 나옴 "
   ]
  },
  {
   "cell_type": "code",
   "execution_count": 15,
   "id": "e43bee86",
   "metadata": {},
   "outputs": [
    {
     "data": {
      "text/html": [
       "<div>\n",
       "<style scoped>\n",
       "    .dataframe tbody tr th:only-of-type {\n",
       "        vertical-align: middle;\n",
       "    }\n",
       "\n",
       "    .dataframe tbody tr th {\n",
       "        vertical-align: top;\n",
       "    }\n",
       "\n",
       "    .dataframe thead th {\n",
       "        text-align: right;\n",
       "    }\n",
       "</style>\n",
       "<table border=\"1\" class=\"dataframe\">\n",
       "  <thead>\n",
       "    <tr style=\"text-align: right;\">\n",
       "      <th></th>\n",
       "      <th>move1</th>\n",
       "      <th>move2</th>\n",
       "      <th>move3</th>\n",
       "    </tr>\n",
       "  </thead>\n",
       "  <tbody>\n",
       "    <tr>\n",
       "      <th>0</th>\n",
       "      <td>-3</td>\n",
       "      <td>-1</td>\n",
       "      <td>2</td>\n",
       "    </tr>\n",
       "    <tr>\n",
       "      <th>1</th>\n",
       "      <td>-3</td>\n",
       "      <td>2</td>\n",
       "      <td>1</td>\n",
       "    </tr>\n",
       "    <tr>\n",
       "      <th>2</th>\n",
       "      <td>0</td>\n",
       "      <td>-2</td>\n",
       "      <td>1</td>\n",
       "    </tr>\n",
       "  </tbody>\n",
       "</table>\n",
       "</div>"
      ],
      "text/plain": [
       "   move1  move2  move3\n",
       "0     -3     -1      2\n",
       "1     -3      2      1\n",
       "2      0     -2      1"
      ]
     },
     "execution_count": 15,
     "metadata": {},
     "output_type": "execute_result"
    }
   ],
   "source": [
    "##### 3명이서 주사위를 각 3번을 던진 후 걸음 수 측정 \n",
    "\n",
    "df= pd.DataFrame(np.random.randint(low=-3,high=3,size=(3,3)))\n",
    "df.columns=['move1','move2','move3']\n",
    "df"
   ]
  },
  {
   "cell_type": "code",
   "execution_count": 16,
   "id": "183cf48d",
   "metadata": {},
   "outputs": [
    {
     "data": {
      "text/plain": [
       "array([6., 6., 3.])"
      ]
     },
     "execution_count": 16,
     "metadata": {},
     "output_type": "execute_result"
    }
   ],
   "source": [
    "##### 누가 가장 많이 걸었을까? --> 합을 구하는 것이니까 L1 norm \n",
    "val = df.values\n",
    "linalg.norm(val,ord=1,axis=1)\n"
   ]
  },
  {
   "cell_type": "markdown",
   "id": "124b3e4b",
   "metadata": {},
   "source": [
    "### (3) KNN구현\n"
   ]
  },
  {
   "cell_type": "code",
   "execution_count": 40,
   "id": "db7b9345",
   "metadata": {},
   "outputs": [
    {
     "name": "stdout",
     "output_type": "stream",
     "text": [
      "(26, 2)\n",
      "(26,)\n",
      "(19, 2) (7, 2) (19,) (7,)\n"
     ]
    }
   ],
   "source": [
    "X,y = mglearn.datasets.make_forge()\n",
    "print(X.shape) # 데이터 갯수를 확인해 보쟈\n",
    "print(y.shape)\n",
    "\n",
    "#훈련용, 테스트 데이터 나누는 것은 보통 7:3 그러나 이것을 나누기도 귀찮다 \n",
    "#from sklearn.model_selection import train_test_split 자동으로 나눠줌 \n",
    "X_train,X_test,y_train,y_test=train_test_split(X,y,random_state=0)#random_state=seed 난수 고정\n",
    "print(X_train.shape,X_test.shape,y_train.shape,y_test.shape)"
   ]
  },
  {
   "cell_type": "code",
   "execution_count": 41,
   "id": "cdde9b91",
   "metadata": {},
   "outputs": [],
   "source": [
    "?train_test_split"
   ]
  },
  {
   "cell_type": "code",
   "execution_count": 42,
   "id": "6051bf24",
   "metadata": {},
   "outputs": [
    {
     "data": {
      "text/plain": [
       "KNeighborsClassifier(n_neighbors=7)"
      ]
     },
     "execution_count": 42,
     "metadata": {},
     "output_type": "execute_result"
    }
   ],
   "source": [
    "from sklearn.neighbors import KNeighborsClassifier\n",
    "\n",
    "clf=KNeighborsClassifier(n_neighbors=7) # 이웃의 갯수는 홀수개로 지정, 이웃의 개수에 따라 성능이 달라짐\n",
    "\n",
    "#이제 훈련을 시켜보자 fit\n",
    "clf.fit(X_train,y_train)"
   ]
  },
  {
   "cell_type": "code",
   "execution_count": 43,
   "id": "4e51b3b2",
   "metadata": {},
   "outputs": [
    {
     "data": {
      "text/plain": [
       "array([0, 0, 1, 1, 0, 1, 0, 1, 1, 1, 1, 1, 0, 0, 0, 1, 0, 1, 0])"
      ]
     },
     "execution_count": 43,
     "metadata": {},
     "output_type": "execute_result"
    }
   ],
   "source": [
    "#훈련 끝나고 자체적으로 검증을 해보는 것이 좋음. \n",
    "clf.predict(X_train) # 새로운 데이터 줄테니 분류해봐라 predict, 훈련 데리터를 예측시키는 것은 반칙임 이미 훈련시킨거잖아 이러면 안됨.\n",
    "# x 값을 줬을 때 y값을 예측 "
   ]
  },
  {
   "cell_type": "code",
   "execution_count": 44,
   "id": "3a8445a2",
   "metadata": {},
   "outputs": [
    {
     "name": "stdout",
     "output_type": "stream",
     "text": [
      "[0 0 1 1 0 1 0 1 1 1 0 1 0 0 0 1 0 1 0]\n"
     ]
    }
   ],
   "source": [
    "print(y_train)"
   ]
  },
  {
   "cell_type": "code",
   "execution_count": 45,
   "id": "4fa3bbf5",
   "metadata": {},
   "outputs": [
    {
     "data": {
      "text/plain": [
       "0.9473684210526315"
      ]
     },
     "execution_count": 45,
     "metadata": {},
     "output_type": "execute_result"
    }
   ],
   "source": [
    "# 채점해서 결과를 알려주는 함수 \n",
    "clf.score(X_train,y_train) # 94% 정답"
   ]
  },
  {
   "cell_type": "code",
   "execution_count": 46,
   "id": "487fcfbe",
   "metadata": {
    "scrolled": false
   },
   "outputs": [
    {
     "data": {
      "text/plain": [
       "array([1, 0, 1, 0, 1, 0, 0])"
      ]
     },
     "execution_count": 46,
     "metadata": {},
     "output_type": "execute_result"
    }
   ],
   "source": [
    "# 테스트용 데이터로 예측 \n",
    "clf.predict(X_test)"
   ]
  },
  {
   "cell_type": "code",
   "execution_count": 47,
   "id": "e3fbfdb5",
   "metadata": {},
   "outputs": [
    {
     "name": "stdout",
     "output_type": "stream",
     "text": [
      "[1 0 1 0 1 1 0]\n"
     ]
    }
   ],
   "source": [
    "print(y_test)"
   ]
  },
  {
   "cell_type": "code",
   "execution_count": 48,
   "id": "16e000f4",
   "metadata": {},
   "outputs": [
    {
     "data": {
      "text/plain": [
       "0.8571428571428571"
      ]
     },
     "execution_count": 48,
     "metadata": {},
     "output_type": "execute_result"
    }
   ],
   "source": [
    "clf.score(X_test,y_test) \n",
    "# 훈련은 94% , 테스트는 85% --> 과대적합, 훈련만 잘되있는것임, 일반화가 안되자나."
   ]
  },
  {
   "cell_type": "code",
   "execution_count": 50,
   "id": "18ae7e11",
   "metadata": {},
   "outputs": [
    {
     "name": "stdout",
     "output_type": "stream",
     "text": [
      "훈련결과 테스트 :  0.9473684210526315\n",
      "테스트 정확도:  0.8571428571428571\n"
     ]
    }
   ],
   "source": [
    "X,y = mglearn.datasets.make_forge()\n",
    "X_train,X_test,y_train,y_test=train_test_split(X,y,random_state=0)\n",
    "from sklearn.neighbors import KNeighborsClassifier\n",
    "clf=KNeighborsClassifier(n_neighbors=3).fit(X_train,y_train)\n",
    "\n",
    "\n",
    "print('훈련결과 테스트 : ',clf.score(X_train,y_train))\n",
    "print('테스트 정확도: ',clf.score(X_test,y_test))"
   ]
  },
  {
   "cell_type": "markdown",
   "id": "e997d931",
   "metadata": {},
   "source": [
    "#### 더 많은 양의 데이터를 주면 좋겠지만 그게 안되니까\n",
    "#### 성능을 올리기 위해 튜닝을 해줌 --> KNN에서는 주로 이웃의 인자값을 조정해주는 것 - 성능향상을 위한 파라미터--> 하이퍼 파라미터"
   ]
  },
  {
   "cell_type": "markdown",
   "id": "f2873d11",
   "metadata": {},
   "source": [
    "### (4). KNN 분석"
   ]
  },
  {
   "cell_type": "code",
   "execution_count": 193,
   "id": "2a8bcdd7",
   "metadata": {},
   "outputs": [
    {
     "data": {
      "image/png": "[encoded data removed]",
      "text/plain": [
       "<Figure size 720x216 with 3 Axes>"
      ]
     },
     "metadata": {},
     "output_type": "display_data"
    }
   ],
   "source": [
    "# 이웃의 갯수가 어떻게 영향을 미치는지\n",
    "fig,axes=plt.subplots(1,3,figsize=(10,3)) # 그래프 틀 만들기\n",
    "# 전체 데이터를 가지고\n",
    "clf=KNeighborsClassifier(n_neighbors=1).fit(X,y)\n",
    "# 그래프 중 \n",
    "mglearn.discrete_scatter(X[:,0],X[:,1],y,ax=axes[0])\n",
    "\n",
    "#훈련시킨것을 그래프로 그려봐야겠지?\n",
    "mglearn.plots.plot_2d_separator(clf,X,ax=axes[0],fill=True) #---> 첫번째 그래프\n",
    "# 모두의 데이터 하나하나 다보려고 하는 복잡한성을 띔. \n",
    "# 두번째\n",
    "clf=KNeighborsClassifier(n_neighbors=3).fit(X,y)\n",
    "mglearn.discrete_scatter(X[:,0],X[:,1],y,ax=axes[1])\n",
    "mglearn.plots.plot_2d_separator(clf,X,ax=axes[1],fill=True)\n",
    "\n",
    "#새번째\n",
    "clf=KNeighborsClassifier(n_neighbors=9).fit(X,y)\n",
    "mglearn.discrete_scatter(X[:,0],X[:,1],y,ax=axes[2])\n",
    "mglearn.plots.plot_2d_separator(clf,X,ax=axes[2],fill=True)\n",
    "\n",
    "# 이웃의 갯수가 많아질수록 과대적합 위험 --> 많이한다고 좋은게 아님 그럼 이웃이 몇개 있어야 정확한지 파악해야함."
   ]
  },
  {
   "cell_type": "code",
   "execution_count": 194,
   "id": "de66282d",
   "metadata": {
    "scrolled": true
   },
   "outputs": [],
   "source": [
    "# 하나로 합쳐서 너타내기 \n",
    "for n, ax in zip([1, 3, 9], axes):\n",
    "    clf = KNeighborsClassifier(n_neighbors=n).fit(X, y)\n",
    "    mglearn.discrete_scatter(X[:, 0], X[:, 1], y, ax=ax)\n",
    "    mglearn.plots.plot_2d_separator(clf, X, ax=ax, fill=True)"
   ]
  },
  {
   "cell_type": "markdown",
   "id": "16748fa6",
   "metadata": {},
   "source": [
    "### 1). 유방암으로 확인하기 - 실제 데이터로 확인 "
   ]
  },
  {
   "cell_type": "code",
   "execution_count": 25,
   "id": "e7fa6378",
   "metadata": {},
   "outputs": [
    {
     "name": "stdout",
     "output_type": "stream",
     "text": [
      "(426, 30) (143, 30) (426,) (143,)\n"
     ]
    }
   ],
   "source": [
    "cancer = load_breast_cancer()\n",
    "\n",
    "X_train,X_test,y_train,y_test=train_test_split(cancer.data,cancer.target,random_state=1)\n",
    "print(X_train.shape,X_test.shape,y_train.shape,y_test.shape)"
   ]
  },
  {
   "cell_type": "code",
   "execution_count": 26,
   "id": "eadf0b46",
   "metadata": {},
   "outputs": [],
   "source": [
    "clf=KNeighborsClassifier(n_neighbors=1).fit(X_train,y_train) # 객체 생성"
   ]
  },
  {
   "cell_type": "code",
   "execution_count": 27,
   "id": "8cb5116c",
   "metadata": {},
   "outputs": [
    {
     "data": {
      "text/plain": [
       "1.0"
      ]
     },
     "execution_count": 27,
     "metadata": {},
     "output_type": "execute_result"
    }
   ],
   "source": [
    "clf.score(X_train,y_train) # 훈련 점수와"
   ]
  },
  {
   "cell_type": "code",
   "execution_count": 28,
   "id": "da9aafa6",
   "metadata": {},
   "outputs": [
    {
     "data": {
      "text/plain": [
       "0.9230769230769231"
      ]
     },
     "execution_count": 28,
     "metadata": {},
     "output_type": "execute_result"
    }
   ],
   "source": [
    "clf.score(X_test,y_test) # 다른 데이로 확인했을떄의 점수차가 크면 안좋은것(과적합 또는 과소적합)"
   ]
  },
  {
   "cell_type": "code",
   "execution_count": 30,
   "id": "21ecfe18",
   "metadata": {},
   "outputs": [
    {
     "name": "stdout",
     "output_type": "stream",
     "text": [
      "0.931924882629108\n",
      "0.9300699300699301\n"
     ]
    }
   ],
   "source": [
    "# 과적합을 해결하기 위해 이웃의 갯수 늘리거나 줄이면 됨 .\n",
    "clf=KNeighborsClassifier(n_neighbors=7).fit(X_train,y_train)\n",
    "print(clf.score(X_train,y_train))\n",
    "print(clf.score(X_test,y_test)) # 얼추 비슷해 졌지? 7까지는 적절함. "
   ]
  },
  {
   "cell_type": "markdown",
   "id": "d43aa8c8",
   "metadata": {},
   "source": [
    "#### 2). 가장 적절한 하이퍼파라미터 선정 \n"
   ]
  },
  {
   "cell_type": "code",
   "execution_count": 31,
   "id": "1c0d0178",
   "metadata": {},
   "outputs": [],
   "source": [
    "# 반복문 돌려가며 계산해보는 것. \n",
    "# 훈련한 결과를 저장하기 위한 것과, 테스트한 것을 저장하기 위한 것을 만들어줌 \n",
    "train_acc=[]\n",
    "test_acc=[]\n",
    "for n in range(1,11):\n",
    "    clf=KNeighborsClassifier(n_neighbors=n).fit(X_train,y_train)\n",
    "    \n",
    "    train_acc.append(clf.score(X_train,y_train))\n",
    "    test_acc.append(clf.score(X_test,y_test))"
   ]
  },
  {
   "cell_type": "code",
   "execution_count": 32,
   "id": "412df51a",
   "metadata": {},
   "outputs": [
    {
     "data": {
      "text/plain": [
       "[1.0,\n",
       " 0.9530516431924883,\n",
       " 0.9460093896713615,\n",
       " 0.9413145539906104,\n",
       " 0.9389671361502347,\n",
       " 0.9366197183098591,\n",
       " 0.931924882629108,\n",
       " 0.931924882629108,\n",
       " 0.9366197183098591,\n",
       " 0.9389671361502347]"
      ]
     },
     "execution_count": 32,
     "metadata": {},
     "output_type": "execute_result"
    }
   ],
   "source": [
    "train_acc"
   ]
  },
  {
   "cell_type": "code",
   "execution_count": 33,
   "id": "f256ee86",
   "metadata": {},
   "outputs": [
    {
     "data": {
      "text/plain": [
       "[0.9230769230769231,\n",
       " 0.9090909090909091,\n",
       " 0.9230769230769231,\n",
       " 0.9020979020979021,\n",
       " 0.9370629370629371,\n",
       " 0.9370629370629371,\n",
       " 0.9300699300699301,\n",
       " 0.9370629370629371,\n",
       " 0.9230769230769231,\n",
       " 0.9230769230769231]"
      ]
     },
     "execution_count": 33,
     "metadata": {},
     "output_type": "execute_result"
    }
   ],
   "source": [
    "test_acc"
   ]
  },
  {
   "cell_type": "code",
   "execution_count": 34,
   "id": "8f427f56",
   "metadata": {},
   "outputs": [
    {
     "data": {
      "text/plain": [
       "<matplotlib.legend.Legend at 0x1f7627f1d90>"
      ]
     },
     "execution_count": 34,
     "metadata": {},
     "output_type": "execute_result"
    },
    {
     "data": {
      "image/png": "[encoded data removed]",
      "text/plain": [
       "<Figure size 432x288 with 1 Axes>"
      ]
     },
     "metadata": {
      "needs_background": "light"
     },
     "output_type": "display_data"
    }
   ],
   "source": [
    "# 그래프로 확인 \n",
    "plt.plot(range(1,11),train_acc,label='훈련정확도')\n",
    "plt.plot(range(1,11),test_acc,label='테스트정확도')\n",
    "plt.ylabel('정확도')\n",
    "plt.xlabel('이웃의 갯수')\n",
    "plt.legend()"
   ]
  },
  {
   "cell_type": "code",
   "execution_count": 204,
   "id": "d6324f61",
   "metadata": {},
   "outputs": [],
   "source": [
    "# 분류를 회귀방식으로 풀때도 있음 별로 많이 쓰지 않음. 분류는 분류로 푸는게 가장 좋음.\n"
   ]
  },
  {
   "cell_type": "markdown",
   "id": "84b4246a",
   "metadata": {},
   "source": [
    "### (5) 회귀분석을 위한 KNN"
   ]
  },
  {
   "cell_type": "code",
   "execution_count": 205,
   "id": "1e589801",
   "metadata": {},
   "outputs": [
    {
     "data": {
      "image/png": "[encoded data removed]",
      "text/plain": [
       "<Figure size 720x432 with 1 Axes>"
      ]
     },
     "metadata": {
      "needs_background": "light"
     },
     "output_type": "display_data"
    }
   ],
   "source": [
    "mglearn.plots.plot_knn_regression(n_neighbors=3) # 예제 그래프 \n",
    "# 회귀에 적합한 데이터네\n",
    "\n",
    "# 회귀라면 회귀선에 가장 가까운 쪽에 있는 데이터로 예측 그러나 knn은 가장 가까운 이웃으로 분류"
   ]
  },
  {
   "cell_type": "code",
   "execution_count": 206,
   "id": "69b4c901",
   "metadata": {},
   "outputs": [
    {
     "name": "stdout",
     "output_type": "stream",
     "text": [
      "(30, 1) (10, 1) (30,) (10,)\n"
     ]
    }
   ],
   "source": [
    "# 코드로 한번 그래프 해보자 \n",
    "\n",
    "X,y = mglearn.datasets.make_wave(n_samples=40)\n",
    "X_train,X_test,y_train,y_test=train_test_split(X,y,random_state=0,test_size=.25)\n",
    "print(X_train.shape,X_test.shape,y_train.shape,y_test.shape)"
   ]
  },
  {
   "cell_type": "code",
   "execution_count": 207,
   "id": "464e11d2",
   "metadata": {},
   "outputs": [],
   "source": [
    "from sklearn.neighbors import KNeighborsRegressor\n",
    "\n",
    "reg = KNeighborsRegressor(n_neighbors=3).fit(X_train,y_train)"
   ]
  },
  {
   "cell_type": "code",
   "execution_count": 208,
   "id": "8ed2a951",
   "metadata": {},
   "outputs": [
    {
     "name": "stdout",
     "output_type": "stream",
     "text": [
      "설명계수(R^2) :  0.8194343929538755\n",
      "설명계수(R^2) :  0.8344172446249605\n"
     ]
    }
   ],
   "source": [
    "# 정확도가 아니라 설명계수를 봐야함\n",
    "print('설명계수(R^2) : ',reg.score(X_train,y_train))\n",
    "print('설명계수(R^2) : ',reg.score(X_test,y_test))"
   ]
  },
  {
   "cell_type": "code",
   "execution_count": 209,
   "id": "887e3ea1",
   "metadata": {
    "scrolled": true
   },
   "outputs": [
    {
     "data": {
      "text/plain": [
       "(array([[-1.24713211],\n",
       "        [ 0.67111737],\n",
       "        [ 1.71105577],\n",
       "        [-2.06388816],\n",
       "        [-2.87649303],\n",
       "        [-1.89957294],\n",
       "        [ 0.55448741],\n",
       "        [ 2.81945911],\n",
       "        [-0.40832989],\n",
       "        [-2.72129752]]),\n",
       " array([ 0.37299129,  0.21778193,  0.96695428, -1.38773632, -1.05979555,\n",
       "        -0.90496988,  0.43655826,  0.7789638 , -0.54114599, -0.95652133]))"
      ]
     },
     "execution_count": 209,
     "metadata": {},
     "output_type": "execute_result"
    }
   ],
   "source": [
    "X_test,y_test"
   ]
  },
  {
   "cell_type": "code",
   "execution_count": 37,
   "id": "4680de35",
   "metadata": {},
   "outputs": [
    {
     "name": "stdout",
     "output_type": "stream",
     "text": [
      "[-0.05396539  0.35686046  1.13671923 -1.89415682 -1.13881398 -1.63113382\n",
      "  0.35686046  0.91241374 -0.44680446 -1.13881398]\n",
      "설명계수(R^2) :  0.8194343929538755\n",
      "설명계수(R^2) :  0.8344172446249605\n"
     ]
    }
   ],
   "source": [
    "from sklearn.neighbors import KNeighborsRegressor\n",
    "X,y = mglearn.datasets.make_wave(n_samples=40)\n",
    "X_train,X_test,y_train,y_test=train_test_split(X,y,random_state=0,test_size=.25)\n",
    "rnn = KNeighborsRegressor(n_neighbors=3).fit(X_train,y_train)\n",
    "\n",
    "#테스트용 데이터로 예측\n",
    "print(rnn.predict(X_test))\n",
    "\n",
    "#설명계수의 결과 출력\n",
    "print('설명계수(R^2) : ',rnn.score(X_train,y_train))\n",
    "print('설명계수(R^2) : ',rnn.score(X_test,y_test))"
   ]
  },
  {
   "cell_type": "code",
   "execution_count": 210,
   "id": "10a99e5e",
   "metadata": {},
   "outputs": [
    {
     "data": {
      "text/plain": [
       "array([-0.05396539])"
      ]
     },
     "execution_count": 210,
     "metadata": {},
     "output_type": "execute_result"
    }
   ],
   "source": [
    "reg.predict([[-1.24713211]]) \n",
    "# 0.37299129 가 답인데 차이가 많이 남 "
   ]
  },
  {
   "cell_type": "code",
   "execution_count": 211,
   "id": "6c570598",
   "metadata": {},
   "outputs": [
    {
     "data": {
      "text/plain": [
       "array([0.35686046])"
      ]
     },
     "execution_count": 211,
     "metadata": {},
     "output_type": "execute_result"
    }
   ],
   "source": [
    "reg.predict([[0.67111737]]) "
   ]
  },
  {
   "cell_type": "code",
   "execution_count": 212,
   "id": "4f46024c",
   "metadata": {},
   "outputs": [
    {
     "data": {
      "text/plain": [
       "array([1.13671923])"
      ]
     },
     "execution_count": 212,
     "metadata": {},
     "output_type": "execute_result"
    }
   ],
   "source": [
    "reg.predict([[1.71105577]]) "
   ]
  },
  {
   "cell_type": "code",
   "execution_count": 213,
   "id": "8432ad53",
   "metadata": {},
   "outputs": [
    {
     "data": {
      "text/plain": [
       "array([-0.05396539,  0.35686046,  1.13671923, -1.89415682, -1.13881398,\n",
       "       -1.63113382,  0.35686046,  0.91241374, -0.44680446, -1.13881398])"
      ]
     },
     "execution_count": 213,
     "metadata": {},
     "output_type": "execute_result"
    }
   ],
   "source": [
    "reg.predict(X_test)"
   ]
  },
  {
   "cell_type": "code",
   "execution_count": 214,
   "id": "90fc1f46",
   "metadata": {},
   "outputs": [
    {
     "data": {
      "text/plain": [
       "array([ 0.37299129,  0.21778193,  0.96695428, -1.38773632, -1.05979555,\n",
       "       -0.90496988,  0.43655826,  0.7789638 , -0.54114599, -0.95652133])"
      ]
     },
     "execution_count": 214,
     "metadata": {},
     "output_type": "execute_result"
    }
   ],
   "source": [
    "# 내가 예측한 것을 정답과 비교해보자\n",
    "y_test # 뭐 거의 비슷하네, 분류 회귀 알고리즘이라고 해도 좀 괜찮네?"
   ]
  },
  {
   "cell_type": "code",
   "execution_count": 215,
   "id": "262c9ba7",
   "metadata": {
    "scrolled": true
   },
   "outputs": [
    {
     "data": {
      "image/png": "[encoded data removed]",
      "text/plain": [
       "<Figure size 720x216 with 3 Axes>"
      ]
     },
     "metadata": {
      "needs_background": "light"
     },
     "output_type": "display_data"
    }
   ],
   "source": [
    "# 지금까지는 입력값(x값)은 2차원 정답(y값)은 1차원 배열\n",
    "\n",
    "fig,axes=plt.subplots(1,3,figsize=(10,3))\n",
    "# np.linspace 함수는 숫자로된 시퀀스를 생성하는 함수 np.array로 구성된 균등한 간격을 둔 시퀀스 생성\n",
    "# 시작점과 종점을 정하고, 해당 간격내의 브레이크포인트의 총갯수 넣어주면 \n",
    "#브레이크 포인트의 수만큼 시퀀스 반환\n",
    "line= np.linspace(-3,3,1000).reshape(-1,1)\n",
    "line\n",
    "for n,ax in zip([1,3,9],axes):\n",
    "    reg=KNeighborsRegressor(n_neighbors=n).fit(X_train,y_train)\n",
    "    # 선그래프\n",
    "    ax.plot(line,reg.predict(line)) # 이웃의 갯수가 적으면 모든 값을 다 따라다니면서 예측\n",
    "    # 훈련용 데이터 찍어 보기 \n",
    "    ax.plot(X_train,y_train,'^',c=mglearn.cm2(0),markersize=8)\n",
    "    # 이웃의 갯수가 늘어갈 수록 훈련용 데이터를 따라가지 않음(일반화가 되어 가고 있음)\n",
    "    \n",
    "    ax.plot(X_test,y_test,'v',c=mglearn.cm2(1),markersize=8)# 테스트 데이터 나타내기"
   ]
  },
  {
   "cell_type": "markdown",
   "id": "a8e37929",
   "metadata": {},
   "source": [
    "### (6). 응용 예제 1: 붓꽃 데이터\n",
    "\n",
    "+ 특성에 따라 품종을 분류하는"
   ]
  },
  {
   "cell_type": "code",
   "execution_count": 10,
   "id": "6f626726",
   "metadata": {},
   "outputs": [
    {
     "name": "stdout",
     "output_type": "stream",
     "text": [
      "dict_keys(['data', 'target', 'frame', 'target_names', 'DESCR', 'feature_names', 'filename'])\n",
      "['setosa' 'versicolor' 'virginica']\n",
      "['sepal length (cm)', 'sepal width (cm)', 'petal length (cm)', 'petal width (cm)']\n"
     ]
    }
   ],
   "source": [
    "from sklearn.datasets import load_iris\n",
    "\n",
    "iris = load_iris()\n",
    "print(iris.keys())\n",
    "print(iris.target_names) # y\n",
    "print(iris.feature_names) # x\n",
    "\n",
    "# 특성을 입력하면 무슨 품종인지 맞춰봐 "
   ]
  },
  {
   "cell_type": "code",
   "execution_count": 11,
   "id": "bb0a5474",
   "metadata": {},
   "outputs": [
    {
     "name": "stdout",
     "output_type": "stream",
     "text": [
      "(112, 4) (38, 4) (112,) (38,)\n"
     ]
    }
   ],
   "source": [
    "X_train,X_test,y_train,y_test=train_test_split(iris.data,iris.target,random_state=0,test_size=.25)\n",
    "print(X_train.shape,X_test.shape,y_train.shape,y_test.shape)"
   ]
  },
  {
   "cell_type": "code",
   "execution_count": 12,
   "id": "4f008c54",
   "metadata": {},
   "outputs": [
    {
     "data": {
      "text/plain": [
       "array([[<AxesSubplot:xlabel='sepal length (cm)', ylabel='sepal length (cm)'>,\n",
       "        <AxesSubplot:xlabel='sepal width (cm)', ylabel='sepal length (cm)'>,\n",
       "        <AxesSubplot:xlabel='petal length (cm)', ylabel='sepal length (cm)'>,\n",
       "        <AxesSubplot:xlabel='petal width (cm)', ylabel='sepal length (cm)'>],\n",
       "       [<AxesSubplot:xlabel='sepal length (cm)', ylabel='sepal width (cm)'>,\n",
       "        <AxesSubplot:xlabel='sepal width (cm)', ylabel='sepal width (cm)'>,\n",
       "        <AxesSubplot:xlabel='petal length (cm)', ylabel='sepal width (cm)'>,\n",
       "        <AxesSubplot:xlabel='petal width (cm)', ylabel='sepal width (cm)'>],\n",
       "       [<AxesSubplot:xlabel='sepal length (cm)', ylabel='petal length (cm)'>,\n",
       "        <AxesSubplot:xlabel='sepal width (cm)', ylabel='petal length (cm)'>,\n",
       "        <AxesSubplot:xlabel='petal length (cm)', ylabel='petal length (cm)'>,\n",
       "        <AxesSubplot:xlabel='petal width (cm)', ylabel='petal length (cm)'>],\n",
       "       [<AxesSubplot:xlabel='sepal length (cm)', ylabel='petal width (cm)'>,\n",
       "        <AxesSubplot:xlabel='sepal width (cm)', ylabel='petal width (cm)'>,\n",
       "        <AxesSubplot:xlabel='petal length (cm)', ylabel='petal width (cm)'>,\n",
       "        <AxesSubplot:xlabel='petal width (cm)', ylabel='petal width (cm)'>]],\n",
       "      dtype=object)"
      ]
     },
     "execution_count": 12,
     "metadata": {},
     "output_type": "execute_result"
    },
    {
     "data": {
      "image/png": "[encoded data removed]",
      "text/plain": [
       "<Figure size 1080x1080 with 16 Axes>"
      ]
     },
     "metadata": {
      "needs_background": "light"
     },
     "output_type": "display_data"
    }
   ],
   "source": [
    "##### 그래프로 시각화 \n",
    "# 일단 데이터 프레임으로 만들어줌 \n",
    "iris_df= pd.DataFrame(X_train,columns=iris.feature_names)\n",
    "iris_df\n",
    "\n",
    "# 색상, 품종별 색상, 점의 사이즈도 조절 가능, 점의 모양도 ,투명도도 조절 가능 \n",
    "pd.plotting.scatter_matrix(iris_df,figsize=(15,15),c=y_train, \n",
    "                           cmap=mglearn.cm3,s=50,marker='o', alpha=.8)\n"
   ]
  },
  {
   "cell_type": "code",
   "execution_count": 13,
   "id": "043d1701",
   "metadata": {},
   "outputs": [
    {
     "data": {
      "text/plain": [
       "array([[<AxesSubplot:xlabel='sepal length (cm)', ylabel='sepal length (cm)'>,\n",
       "        <AxesSubplot:xlabel='sepal width (cm)', ylabel='sepal length (cm)'>,\n",
       "        <AxesSubplot:xlabel='petal length (cm)', ylabel='sepal length (cm)'>,\n",
       "        <AxesSubplot:xlabel='petal width (cm)', ylabel='sepal length (cm)'>],\n",
       "       [<AxesSubplot:xlabel='sepal length (cm)', ylabel='sepal width (cm)'>,\n",
       "        <AxesSubplot:xlabel='sepal width (cm)', ylabel='sepal width (cm)'>,\n",
       "        <AxesSubplot:xlabel='petal length (cm)', ylabel='sepal width (cm)'>,\n",
       "        <AxesSubplot:xlabel='petal width (cm)', ylabel='sepal width (cm)'>],\n",
       "       [<AxesSubplot:xlabel='sepal length (cm)', ylabel='petal length (cm)'>,\n",
       "        <AxesSubplot:xlabel='sepal width (cm)', ylabel='petal length (cm)'>,\n",
       "        <AxesSubplot:xlabel='petal length (cm)', ylabel='petal length (cm)'>,\n",
       "        <AxesSubplot:xlabel='petal width (cm)', ylabel='petal length (cm)'>],\n",
       "       [<AxesSubplot:xlabel='sepal length (cm)', ylabel='petal width (cm)'>,\n",
       "        <AxesSubplot:xlabel='sepal width (cm)', ylabel='petal width (cm)'>,\n",
       "        <AxesSubplot:xlabel='petal length (cm)', ylabel='petal width (cm)'>,\n",
       "        <AxesSubplot:xlabel='petal width (cm)', ylabel='petal width (cm)'>]],\n",
       "      dtype=object)"
      ]
     },
     "execution_count": 13,
     "metadata": {},
     "output_type": "execute_result"
    },
    {
     "data": {
      "image/png": "[encoded data removed]",
      "text/plain": [
       "<Figure size 1080x1080 with 16 Axes>"
      ]
     },
     "metadata": {
      "needs_background": "light"
     },
     "output_type": "display_data"
    }
   ],
   "source": [
    "# 히스토그램의 빈도수도 조절할 수 있음 \n",
    "pd.plotting.scatter_matrix(iris_df,figsize=(15,15),c=y_train, \n",
    "                           cmap=mglearn.cm3,s=50,marker='o', alpha=.8,hist_kwds={'bins':20})\n",
    "\n",
    "# 너무 붙어 있으면 분류 잘 못함."
   ]
  },
  {
   "cell_type": "code",
   "execution_count": 14,
   "id": "1ba8b866",
   "metadata": {},
   "outputs": [],
   "source": [
    "#### 훈련을 시켜 보자 \n",
    "\n",
    "from sklearn.neighbors import KNeighborsClassifier\n",
    "\n",
    "knn = KNeighborsClassifier(n_neighbors=3).fit(X_train,y_train)"
   ]
  },
  {
   "cell_type": "code",
   "execution_count": 15,
   "id": "4dbd960b",
   "metadata": {},
   "outputs": [
    {
     "data": {
      "text/plain": [
       "0.9736842105263158"
      ]
     },
     "execution_count": 15,
     "metadata": {},
     "output_type": "execute_result"
    }
   ],
   "source": [
    "### 훈련을 시켰으면 성능을 확인해 보자 \n",
    "knn.score(X_test,y_test)"
   ]
  },
  {
   "cell_type": "code",
   "execution_count": 16,
   "id": "10684fdf",
   "metadata": {},
   "outputs": [
    {
     "data": {
      "text/plain": [
       "0.9642857142857143"
      ]
     },
     "execution_count": 16,
     "metadata": {},
     "output_type": "execute_result"
    }
   ],
   "source": [
    "knn.score(X_train,y_train)"
   ]
  },
  {
   "cell_type": "code",
   "execution_count": 17,
   "id": "59242d83",
   "metadata": {},
   "outputs": [
    {
     "name": "stdout",
     "output_type": "stream",
     "text": [
      "0.9736842105263158\n"
     ]
    }
   ],
   "source": [
    "# 실제로 어떤 값이 들어왔을 때 예측 하는 것, 몇번 품종인지 예측\n",
    "pred=knn.predict(X_test)\n",
    "# 그렇다면 실제로 맞는지 확인해봐야지? 그걸 평균 내\n",
    "print(np.mean(pred==y_test)) #--> 이게 결국 score 함수쓴 값 "
   ]
  },
  {
   "cell_type": "code",
   "execution_count": 18,
   "id": "2500e88f",
   "metadata": {},
   "outputs": [
    {
     "name": "stdout",
     "output_type": "stream",
     "text": [
      "붓꽃의 품종은  ['setosa']\n"
     ]
    }
   ],
   "source": [
    "# 꽃받침(Sepal)의 길이가 5 cm, 폭은 2.9 cm , 꽃잎(Petal의 길이는 1cm, 폭은 0.2cm 인 붓꽃의 이름은?\n",
    "\n",
    "s_h = 5.0\n",
    "s_w = 2.9\n",
    "p_h = 1.0\n",
    "p_w = 0.2\n",
    "\n",
    "# 입력할 때 형식은 2차원 \n",
    "pred = knn.predict([[s_h,s_w,p_h,p_w]])\n",
    "pred\n",
    "print('붓꽃의 품종은 ', iris.target_names[pred])"
   ]
  },
  {
   "cell_type": "markdown",
   "id": "b4fe8887",
   "metadata": {},
   "source": [
    "### (7) 응용 예제 2: 영화 분류 프로그램\n",
    "- 직접 knn을 만들어 보쟈 \n"
   ]
  },
  {
   "cell_type": "code",
   "execution_count": 225,
   "id": "a4f8b757",
   "metadata": {},
   "outputs": [],
   "source": [
    "### 데이터 준비\n",
    "import operator\n",
    "def createDataSet():\n",
    "    group = np.array([[1.0,2.0],[1.0,4.0],[4.0,1.0],[4.0,2.0]])\n",
    "    label = ['Action','Action','Romance','Romance']\n",
    "    return group, label \n",
    "\n",
    "\n",
    "\n",
    "# 거리측정 함수 만들기 \n",
    "def calcDistance(X_new,data):\n",
    "    \n",
    "#     dataSize = len(data)\n",
    "    dataSize = data.shape[0]\n",
    "    \n",
    "    # 새로 입력된 데이터와 기존 데이터의 차이 \n",
    "    # 반복 행렬 만들어 주는 tile\n",
    "    diffMat=np.tile(X_new,(dataSize,1)) - data\n",
    "    \n",
    "    #  L2 norm 계산\n",
    "    sqDiffMat = diffMat**2\n",
    "    distance=(sqDiffMat.sum(axis=1))**0.5\n",
    "    return distance.argsort()\n",
    "\n",
    "def findMajorityClass(sortedDistance, target, k):\n",
    "    classCount = {}\n",
    "    \n",
    "    for i in range(k):\n",
    "        voteLabel=target[sortedDistance[i]]\n",
    "        classCount[voteLabel]=classCount.get(voteLabel,0)+1\n",
    "    \n",
    "    # 정열이 안됨 딕트형식이니까 # 정렬 가능하게끔 해주는 모듈이 있음 operator\n",
    "    return sorted(classCount.items(),key=operator.itemgetter(1),reverse=True)\n",
    "    \n",
    "\n",
    "\n",
    "\n",
    "# 분류해주는 함수 만들기 새로운 데이터와 기존데이터의 거리를 계산하기 위해 그리고 정답, 이웃의 개수 \n",
    "def classify(X_new,data,target, k):\n",
    "    # 거리 측정 - 가장 가까운것\n",
    "    sortedDistance=calcDistance(X_new,data)\n",
    "    \n",
    "    # 이웃의 갯수 묶어서 해당 클래스로 분류\n",
    "    result=findMajorityClass(sortedDistance, target, k)\n",
    "    return result "
   ]
  },
  {
   "cell_type": "code",
   "execution_count": 226,
   "id": "b3854844",
   "metadata": {},
   "outputs": [
    {
     "name": "stdout",
     "output_type": "stream",
     "text": [
      "[[1. 2.]\n",
      " [1. 4.]\n",
      " [4. 1.]\n",
      " [4. 2.]] ['Action', 'Action', 'Romance', 'Romance']\n",
      "결과는 [('Action', 2), ('Romance', 1)] 영화이다.\n"
     ]
    }
   ],
   "source": [
    "X,y = createDataSet()\n",
    "print(X, y)\n",
    "\n",
    "result=classify([2.0,3.0],X,y,3)\n",
    "print('결과는 {} 영화이다.'.format(result))"
   ]
  },
  {
   "cell_type": "code",
   "execution_count": 227,
   "id": "47c6c454",
   "metadata": {},
   "outputs": [
    {
     "data": {
      "text/plain": [
       "array([[0, 1, 0, 1, 0, 1],\n",
       "       [0, 1, 0, 1, 0, 1]])"
      ]
     },
     "execution_count": 227,
     "metadata": {},
     "output_type": "execute_result"
    }
   ],
   "source": [
    "np.tile(1,3) # 1을 3번 반복해서 쓰겠다. \n",
    "np.tile(1,(2,3)) # 1이라는 것을 2행 3열로 반복하겠다. \n",
    "np.tile(np.array([0,1]),(2,3))# 0,1을 2행 3열로 반복 "
   ]
  },
  {
   "cell_type": "markdown",
   "id": "76a969fc",
   "metadata": {},
   "source": [
    "------\n",
    "## 3. 검증(Validation)\n",
    "\n",
    "### (1) 훈련용(학습용) 데이터와 테스트용 데이터의 분리"
   ]
  },
  {
   "cell_type": "code",
   "execution_count": 228,
   "id": "4ab742ec",
   "metadata": {},
   "outputs": [],
   "source": [
    "#### 수작업으로 한다면\n",
    "from sklearn.datasets import load_iris\n",
    "iris=load_iris()"
   ]
  },
  {
   "cell_type": "code",
   "execution_count": 229,
   "id": "65f2168e",
   "metadata": {},
   "outputs": [
    {
     "name": "stdout",
     "output_type": "stream",
     "text": [
      "(120, 4) (120,)\n",
      "(30, 4) (30,)\n"
     ]
    }
   ],
   "source": [
    "# 훈련용 데이터 분리\n",
    "X_train = iris.data[: -30]\n",
    "y_train = iris.target[:-30]\n",
    "print(X_train.shape,y_train.shape)\n",
    "\n",
    "# 테스트용 데이터 분리 \n",
    "X_test = iris.data[-30 :]\n",
    "y_test=iris.target[-30 :]\n",
    "print(X_test.shape,y_test.shape)           "
   ]
  },
  {
   "cell_type": "code",
   "execution_count": 230,
   "id": "c6ab48b3",
   "metadata": {
    "scrolled": true
   },
   "outputs": [
    {
     "data": {
      "text/plain": [
       "array([2, 2, 2, 2, 2, 2, 2, 2, 2, 2, 2, 2, 2, 2, 2, 2, 2, 2, 2, 2, 2, 2,\n",
       "       2, 2, 2, 2, 2, 2, 2, 2])"
      ]
     },
     "execution_count": 230,
     "metadata": {},
     "output_type": "execute_result"
    }
   ],
   "source": [
    "y_test # 하나의 품종만 가져왔어, 원래 모든 품종을 동일한 수 만큼 가져와야함. --> 그래서 랜덤하게 뽑아서 가져와야함. "
   ]
  },
  {
   "cell_type": "code",
   "execution_count": 231,
   "id": "2d98109a",
   "metadata": {},
   "outputs": [
    {
     "name": "stdout",
     "output_type": "stream",
     "text": [
      "(105, 4) (45, 4) (105,) (45,)\n"
     ]
    }
   ],
   "source": [
    "from sklearn.model_selection import train_test_split\n",
    "\n",
    "\"\"\"\n",
    "test_size : 디폴트가 0.25\n",
    "train_size: 학습용 데이터를 샘플링\n",
    "shuffle : 데이터를 섞어준다. 디폴트로 \n",
    "random_state : 난수값 고정\n",
    "\n",
    "\"\"\"\n",
    "X_train,X_test,y_train,y_test=train_test_split(iris.data,iris.target,random_state=0,\n",
    "                                              test_size=.3,shuffle=True)\n",
    "print(X_train.shape,X_test.shape,y_train.shape,y_test.shape)"
   ]
  },
  {
   "cell_type": "code",
   "execution_count": 232,
   "id": "96fb9015",
   "metadata": {},
   "outputs": [
    {
     "data": {
      "text/plain": [
       "array([2, 1, 0, 2, 0, 2, 0, 1, 1, 1, 2, 1, 1, 1, 1, 0, 1, 1, 0, 0, 2, 1,\n",
       "       0, 0, 2, 0, 0, 1, 1, 0, 2, 1, 0, 2, 2, 1, 0, 1, 1, 1, 2, 0, 2, 0,\n",
       "       0])"
      ]
     },
     "execution_count": 232,
     "metadata": {},
     "output_type": "execute_result"
    }
   ],
   "source": [
    "y_test"
   ]
  },
  {
   "cell_type": "markdown",
   "id": "f902da6f",
   "metadata": {},
   "source": [
    "### (2) Cross Validation\n",
    "\n",
    "-  Kfold 방식\n",
    "- 자체적으로 훈련하고 테스트하고 하기 때문에 성능이 좋아질 수 있음 \n",
    "- 단 데이터가 많을시 시간이 오래걸릴 수 있음."
   ]
  },
  {
   "cell_type": "code",
   "execution_count": 244,
   "id": "7ac8212b",
   "metadata": {},
   "outputs": [],
   "source": [
    "#test 는 1번만 써야함 근데 시험을 1번만 끝내는거는 아쉽지 않나? 자체적으로 모든것들을 시험하는 \n",
    "\n",
    "from sklearn.model_selection import KFold  "
   ]
  },
  {
   "cell_type": "code",
   "execution_count": 245,
   "id": "8e364810",
   "metadata": {},
   "outputs": [
    {
     "data": {
      "text/plain": [
       "[(array([ 30,  31,  32,  33,  34,  35,  36,  37,  38,  39,  40,  41,  42,\n",
       "          43,  44,  45,  46,  47,  48,  49,  50,  51,  52,  53,  54,  55,\n",
       "          56,  57,  58,  59,  60,  61,  62,  63,  64,  65,  66,  67,  68,\n",
       "          69,  70,  71,  72,  73,  74,  75,  76,  77,  78,  79,  80,  81,\n",
       "          82,  83,  84,  85,  86,  87,  88,  89,  90,  91,  92,  93,  94,\n",
       "          95,  96,  97,  98,  99, 100, 101, 102, 103, 104, 105, 106, 107,\n",
       "         108, 109, 110, 111, 112, 113, 114, 115, 116, 117, 118, 119, 120,\n",
       "         121, 122, 123, 124, 125, 126, 127, 128, 129, 130, 131, 132, 133,\n",
       "         134, 135, 136, 137, 138, 139, 140, 141, 142, 143, 144, 145, 146,\n",
       "         147, 148, 149]),\n",
       "  array([ 0,  1,  2,  3,  4,  5,  6,  7,  8,  9, 10, 11, 12, 13, 14, 15, 16,\n",
       "         17, 18, 19, 20, 21, 22, 23, 24, 25, 26, 27, 28, 29])),\n",
       " (array([  0,   1,   2,   3,   4,   5,   6,   7,   8,   9,  10,  11,  12,\n",
       "          13,  14,  15,  16,  17,  18,  19,  20,  21,  22,  23,  24,  25,\n",
       "          26,  27,  28,  29,  60,  61,  62,  63,  64,  65,  66,  67,  68,\n",
       "          69,  70,  71,  72,  73,  74,  75,  76,  77,  78,  79,  80,  81,\n",
       "          82,  83,  84,  85,  86,  87,  88,  89,  90,  91,  92,  93,  94,\n",
       "          95,  96,  97,  98,  99, 100, 101, 102, 103, 104, 105, 106, 107,\n",
       "         108, 109, 110, 111, 112, 113, 114, 115, 116, 117, 118, 119, 120,\n",
       "         121, 122, 123, 124, 125, 126, 127, 128, 129, 130, 131, 132, 133,\n",
       "         134, 135, 136, 137, 138, 139, 140, 141, 142, 143, 144, 145, 146,\n",
       "         147, 148, 149]),\n",
       "  array([30, 31, 32, 33, 34, 35, 36, 37, 38, 39, 40, 41, 42, 43, 44, 45, 46,\n",
       "         47, 48, 49, 50, 51, 52, 53, 54, 55, 56, 57, 58, 59])),\n",
       " (array([  0,   1,   2,   3,   4,   5,   6,   7,   8,   9,  10,  11,  12,\n",
       "          13,  14,  15,  16,  17,  18,  19,  20,  21,  22,  23,  24,  25,\n",
       "          26,  27,  28,  29,  30,  31,  32,  33,  34,  35,  36,  37,  38,\n",
       "          39,  40,  41,  42,  43,  44,  45,  46,  47,  48,  49,  50,  51,\n",
       "          52,  53,  54,  55,  56,  57,  58,  59,  90,  91,  92,  93,  94,\n",
       "          95,  96,  97,  98,  99, 100, 101, 102, 103, 104, 105, 106, 107,\n",
       "         108, 109, 110, 111, 112, 113, 114, 115, 116, 117, 118, 119, 120,\n",
       "         121, 122, 123, 124, 125, 126, 127, 128, 129, 130, 131, 132, 133,\n",
       "         134, 135, 136, 137, 138, 139, 140, 141, 142, 143, 144, 145, 146,\n",
       "         147, 148, 149]),\n",
       "  array([60, 61, 62, 63, 64, 65, 66, 67, 68, 69, 70, 71, 72, 73, 74, 75, 76,\n",
       "         77, 78, 79, 80, 81, 82, 83, 84, 85, 86, 87, 88, 89])),\n",
       " (array([  0,   1,   2,   3,   4,   5,   6,   7,   8,   9,  10,  11,  12,\n",
       "          13,  14,  15,  16,  17,  18,  19,  20,  21,  22,  23,  24,  25,\n",
       "          26,  27,  28,  29,  30,  31,  32,  33,  34,  35,  36,  37,  38,\n",
       "          39,  40,  41,  42,  43,  44,  45,  46,  47,  48,  49,  50,  51,\n",
       "          52,  53,  54,  55,  56,  57,  58,  59,  60,  61,  62,  63,  64,\n",
       "          65,  66,  67,  68,  69,  70,  71,  72,  73,  74,  75,  76,  77,\n",
       "          78,  79,  80,  81,  82,  83,  84,  85,  86,  87,  88,  89, 120,\n",
       "         121, 122, 123, 124, 125, 126, 127, 128, 129, 130, 131, 132, 133,\n",
       "         134, 135, 136, 137, 138, 139, 140, 141, 142, 143, 144, 145, 146,\n",
       "         147, 148, 149]),\n",
       "  array([ 90,  91,  92,  93,  94,  95,  96,  97,  98,  99, 100, 101, 102,\n",
       "         103, 104, 105, 106, 107, 108, 109, 110, 111, 112, 113, 114, 115,\n",
       "         116, 117, 118, 119])),\n",
       " (array([  0,   1,   2,   3,   4,   5,   6,   7,   8,   9,  10,  11,  12,\n",
       "          13,  14,  15,  16,  17,  18,  19,  20,  21,  22,  23,  24,  25,\n",
       "          26,  27,  28,  29,  30,  31,  32,  33,  34,  35,  36,  37,  38,\n",
       "          39,  40,  41,  42,  43,  44,  45,  46,  47,  48,  49,  50,  51,\n",
       "          52,  53,  54,  55,  56,  57,  58,  59,  60,  61,  62,  63,  64,\n",
       "          65,  66,  67,  68,  69,  70,  71,  72,  73,  74,  75,  76,  77,\n",
       "          78,  79,  80,  81,  82,  83,  84,  85,  86,  87,  88,  89,  90,\n",
       "          91,  92,  93,  94,  95,  96,  97,  98,  99, 100, 101, 102, 103,\n",
       "         104, 105, 106, 107, 108, 109, 110, 111, 112, 113, 114, 115, 116,\n",
       "         117, 118, 119]),\n",
       "  array([120, 121, 122, 123, 124, 125, 126, 127, 128, 129, 130, 131, 132,\n",
       "         133, 134, 135, 136, 137, 138, 139, 140, 141, 142, 143, 144, 145,\n",
       "         146, 147, 148, 149]))]"
      ]
     },
     "execution_count": 245,
     "metadata": {},
     "output_type": "execute_result"
    }
   ],
   "source": [
    "kfold=KFold(n_splits=5) # 첫번째 테스트용 나머지 훈련용 ,두번째가 테스트 나머지가 훈련 이렇게 5번 반복\n",
    "# 5개로 나눠서 하나는 테스트로 나머지는 학습으로 \n",
    "list(kfold.split(iris.data)) "
   ]
  },
  {
   "cell_type": "code",
   "execution_count": 246,
   "id": "e9ab16c0",
   "metadata": {},
   "outputs": [
    {
     "name": "stdout",
     "output_type": "stream",
     "text": [
      "훈련용 [ 30  31  32  33  34  35  36  37  38  39  40  41  42  43  44  45  46  47\n",
      "  48  49  50  51  52  53  54  55  56  57  58  59  60  61  62  63  64  65\n",
      "  66  67  68  69  70  71  72  73  74  75  76  77  78  79  80  81  82  83\n",
      "  84  85  86  87  88  89  90  91  92  93  94  95  96  97  98  99 100 101\n",
      " 102 103 104 105 106 107 108 109 110 111 112 113 114 115 116 117 118 119\n",
      " 120 121 122 123 124 125 126 127 128 129 130 131 132 133 134 135 136 137\n",
      " 138 139 140 141 142 143 144 145 146 147 148 149]\n",
      "테스트용 [ 0  1  2  3  4  5  6  7  8  9 10 11 12 13 14 15 16 17 18 19 20 21 22 23\n",
      " 24 25 26 27 28 29]\n",
      "훈련용 [  0   1   2   3   4   5   6   7   8   9  10  11  12  13  14  15  16  17\n",
      "  18  19  20  21  22  23  24  25  26  27  28  29  60  61  62  63  64  65\n",
      "  66  67  68  69  70  71  72  73  74  75  76  77  78  79  80  81  82  83\n",
      "  84  85  86  87  88  89  90  91  92  93  94  95  96  97  98  99 100 101\n",
      " 102 103 104 105 106 107 108 109 110 111 112 113 114 115 116 117 118 119\n",
      " 120 121 122 123 124 125 126 127 128 129 130 131 132 133 134 135 136 137\n",
      " 138 139 140 141 142 143 144 145 146 147 148 149]\n",
      "테스트용 [30 31 32 33 34 35 36 37 38 39 40 41 42 43 44 45 46 47 48 49 50 51 52 53\n",
      " 54 55 56 57 58 59]\n",
      "훈련용 [  0   1   2   3   4   5   6   7   8   9  10  11  12  13  14  15  16  17\n",
      "  18  19  20  21  22  23  24  25  26  27  28  29  30  31  32  33  34  35\n",
      "  36  37  38  39  40  41  42  43  44  45  46  47  48  49  50  51  52  53\n",
      "  54  55  56  57  58  59  90  91  92  93  94  95  96  97  98  99 100 101\n",
      " 102 103 104 105 106 107 108 109 110 111 112 113 114 115 116 117 118 119\n",
      " 120 121 122 123 124 125 126 127 128 129 130 131 132 133 134 135 136 137\n",
      " 138 139 140 141 142 143 144 145 146 147 148 149]\n",
      "테스트용 [60 61 62 63 64 65 66 67 68 69 70 71 72 73 74 75 76 77 78 79 80 81 82 83\n",
      " 84 85 86 87 88 89]\n",
      "훈련용 [  0   1   2   3   4   5   6   7   8   9  10  11  12  13  14  15  16  17\n",
      "  18  19  20  21  22  23  24  25  26  27  28  29  30  31  32  33  34  35\n",
      "  36  37  38  39  40  41  42  43  44  45  46  47  48  49  50  51  52  53\n",
      "  54  55  56  57  58  59  60  61  62  63  64  65  66  67  68  69  70  71\n",
      "  72  73  74  75  76  77  78  79  80  81  82  83  84  85  86  87  88  89\n",
      " 120 121 122 123 124 125 126 127 128 129 130 131 132 133 134 135 136 137\n",
      " 138 139 140 141 142 143 144 145 146 147 148 149]\n",
      "테스트용 [ 90  91  92  93  94  95  96  97  98  99 100 101 102 103 104 105 106 107\n",
      " 108 109 110 111 112 113 114 115 116 117 118 119]\n",
      "훈련용 [  0   1   2   3   4   5   6   7   8   9  10  11  12  13  14  15  16  17\n",
      "  18  19  20  21  22  23  24  25  26  27  28  29  30  31  32  33  34  35\n",
      "  36  37  38  39  40  41  42  43  44  45  46  47  48  49  50  51  52  53\n",
      "  54  55  56  57  58  59  60  61  62  63  64  65  66  67  68  69  70  71\n",
      "  72  73  74  75  76  77  78  79  80  81  82  83  84  85  86  87  88  89\n",
      "  90  91  92  93  94  95  96  97  98  99 100 101 102 103 104 105 106 107\n",
      " 108 109 110 111 112 113 114 115 116 117 118 119]\n",
      "테스트용 [120 121 122 123 124 125 126 127 128 129 130 131 132 133 134 135 136 137\n",
      " 138 139 140 141 142 143 144 145 146 147 148 149]\n"
     ]
    }
   ],
   "source": [
    "from sklearn.neighbors import KNeighborsClassifier\n",
    "from sklearn.metrics import accuracy_score\n",
    "\n",
    "clf= KNeighborsClassifier(n_neighbors=3)\n",
    "\n",
    "cv_accuracy=[]\n",
    "cnt=[]\n",
    "\n",
    "for train_index,test_index in kfold.split(iris.data):\n",
    "    print('훈련용',train_index)\n",
    "    print('테스트용',test_index)"
   ]
  },
  {
   "cell_type": "code",
   "execution_count": 247,
   "id": "7a3032d8",
   "metadata": {},
   "outputs": [
    {
     "ename": "ValueError",
     "evalue": "Found input variables with inconsistent numbers of samples: [50, 30]",
     "output_type": "error",
     "traceback": [
      "\u001b[1;31m---------------------------------------------------------------------------\u001b[0m",
      "\u001b[1;31mValueError\u001b[0m                                Traceback (most recent call last)",
      "\u001b[1;32m<ipython-input-247-79955baa6e9e>\u001b[0m in \u001b[0;36m<module>\u001b[1;34m\u001b[0m\n\u001b[0;32m     13\u001b[0m \u001b[1;33m\u001b[0m\u001b[0m\n\u001b[0;32m     14\u001b[0m     \u001b[1;31m# 정확도 측정\u001b[0m\u001b[1;33m\u001b[0m\u001b[1;33m\u001b[0m\u001b[1;33m\u001b[0m\u001b[0m\n\u001b[1;32m---> 15\u001b[1;33m     \u001b[0maccuracy\u001b[0m\u001b[1;33m=\u001b[0m\u001b[0mnp\u001b[0m\u001b[1;33m.\u001b[0m\u001b[0mround\u001b[0m\u001b[1;33m(\u001b[0m\u001b[0maccuracy_score\u001b[0m\u001b[1;33m(\u001b[0m\u001b[0my_test\u001b[0m\u001b[1;33m,\u001b[0m\u001b[0mpred\u001b[0m\u001b[1;33m)\u001b[0m\u001b[1;33m,\u001b[0m \u001b[1;36m4\u001b[0m\u001b[1;33m)\u001b[0m\u001b[1;33m\u001b[0m\u001b[1;33m\u001b[0m\u001b[0m\n\u001b[0m\u001b[0;32m     16\u001b[0m     print(\"{}회 검증-정확도 : {}, 학급 데이터 크기: {} \".format(cnt,\n\u001b[0;32m     17\u001b[0m                                                  accuracy,X_tarin.shape[0],X_test.shape[0]))\n",
      "\u001b[1;32mC:\\ProgramData\\Anaconda3\\lib\\site-packages\\sklearn\\utils\\validation.py\u001b[0m in \u001b[0;36minner_f\u001b[1;34m(*args, **kwargs)\u001b[0m\n\u001b[0;32m     61\u001b[0m             \u001b[0mextra_args\u001b[0m \u001b[1;33m=\u001b[0m \u001b[0mlen\u001b[0m\u001b[1;33m(\u001b[0m\u001b[0margs\u001b[0m\u001b[1;33m)\u001b[0m \u001b[1;33m-\u001b[0m \u001b[0mlen\u001b[0m\u001b[1;33m(\u001b[0m\u001b[0mall_args\u001b[0m\u001b[1;33m)\u001b[0m\u001b[1;33m\u001b[0m\u001b[1;33m\u001b[0m\u001b[0m\n\u001b[0;32m     62\u001b[0m             \u001b[1;32mif\u001b[0m \u001b[0mextra_args\u001b[0m \u001b[1;33m<=\u001b[0m \u001b[1;36m0\u001b[0m\u001b[1;33m:\u001b[0m\u001b[1;33m\u001b[0m\u001b[1;33m\u001b[0m\u001b[0m\n\u001b[1;32m---> 63\u001b[1;33m                 \u001b[1;32mreturn\u001b[0m \u001b[0mf\u001b[0m\u001b[1;33m(\u001b[0m\u001b[1;33m*\u001b[0m\u001b[0margs\u001b[0m\u001b[1;33m,\u001b[0m \u001b[1;33m**\u001b[0m\u001b[0mkwargs\u001b[0m\u001b[1;33m)\u001b[0m\u001b[1;33m\u001b[0m\u001b[1;33m\u001b[0m\u001b[0m\n\u001b[0m\u001b[0;32m     64\u001b[0m \u001b[1;33m\u001b[0m\u001b[0m\n\u001b[0;32m     65\u001b[0m             \u001b[1;31m# extra_args > 0\u001b[0m\u001b[1;33m\u001b[0m\u001b[1;33m\u001b[0m\u001b[1;33m\u001b[0m\u001b[0m\n",
      "\u001b[1;32mC:\\ProgramData\\Anaconda3\\lib\\site-packages\\sklearn\\metrics\\_classification.py\u001b[0m in \u001b[0;36maccuracy_score\u001b[1;34m(y_true, y_pred, normalize, sample_weight)\u001b[0m\n\u001b[0;32m    200\u001b[0m \u001b[1;33m\u001b[0m\u001b[0m\n\u001b[0;32m    201\u001b[0m     \u001b[1;31m# Compute accuracy for each possible representation\u001b[0m\u001b[1;33m\u001b[0m\u001b[1;33m\u001b[0m\u001b[1;33m\u001b[0m\u001b[0m\n\u001b[1;32m--> 202\u001b[1;33m     \u001b[0my_type\u001b[0m\u001b[1;33m,\u001b[0m \u001b[0my_true\u001b[0m\u001b[1;33m,\u001b[0m \u001b[0my_pred\u001b[0m \u001b[1;33m=\u001b[0m \u001b[0m_check_targets\u001b[0m\u001b[1;33m(\u001b[0m\u001b[0my_true\u001b[0m\u001b[1;33m,\u001b[0m \u001b[0my_pred\u001b[0m\u001b[1;33m)\u001b[0m\u001b[1;33m\u001b[0m\u001b[1;33m\u001b[0m\u001b[0m\n\u001b[0m\u001b[0;32m    203\u001b[0m     \u001b[0mcheck_consistent_length\u001b[0m\u001b[1;33m(\u001b[0m\u001b[0my_true\u001b[0m\u001b[1;33m,\u001b[0m \u001b[0my_pred\u001b[0m\u001b[1;33m,\u001b[0m \u001b[0msample_weight\u001b[0m\u001b[1;33m)\u001b[0m\u001b[1;33m\u001b[0m\u001b[1;33m\u001b[0m\u001b[0m\n\u001b[0;32m    204\u001b[0m     \u001b[1;32mif\u001b[0m \u001b[0my_type\u001b[0m\u001b[1;33m.\u001b[0m\u001b[0mstartswith\u001b[0m\u001b[1;33m(\u001b[0m\u001b[1;34m'multilabel'\u001b[0m\u001b[1;33m)\u001b[0m\u001b[1;33m:\u001b[0m\u001b[1;33m\u001b[0m\u001b[1;33m\u001b[0m\u001b[0m\n",
      "\u001b[1;32mC:\\ProgramData\\Anaconda3\\lib\\site-packages\\sklearn\\metrics\\_classification.py\u001b[0m in \u001b[0;36m_check_targets\u001b[1;34m(y_true, y_pred)\u001b[0m\n\u001b[0;32m     81\u001b[0m     \u001b[0my_pred\u001b[0m \u001b[1;33m:\u001b[0m \u001b[0marray\u001b[0m \u001b[1;32mor\u001b[0m \u001b[0mindicator\u001b[0m \u001b[0mmatrix\u001b[0m\u001b[1;33m\u001b[0m\u001b[1;33m\u001b[0m\u001b[0m\n\u001b[0;32m     82\u001b[0m     \"\"\"\n\u001b[1;32m---> 83\u001b[1;33m     \u001b[0mcheck_consistent_length\u001b[0m\u001b[1;33m(\u001b[0m\u001b[0my_true\u001b[0m\u001b[1;33m,\u001b[0m \u001b[0my_pred\u001b[0m\u001b[1;33m)\u001b[0m\u001b[1;33m\u001b[0m\u001b[1;33m\u001b[0m\u001b[0m\n\u001b[0m\u001b[0;32m     84\u001b[0m     \u001b[0mtype_true\u001b[0m \u001b[1;33m=\u001b[0m \u001b[0mtype_of_target\u001b[0m\u001b[1;33m(\u001b[0m\u001b[0my_true\u001b[0m\u001b[1;33m)\u001b[0m\u001b[1;33m\u001b[0m\u001b[1;33m\u001b[0m\u001b[0m\n\u001b[0;32m     85\u001b[0m     \u001b[0mtype_pred\u001b[0m \u001b[1;33m=\u001b[0m \u001b[0mtype_of_target\u001b[0m\u001b[1;33m(\u001b[0m\u001b[0my_pred\u001b[0m\u001b[1;33m)\u001b[0m\u001b[1;33m\u001b[0m\u001b[1;33m\u001b[0m\u001b[0m\n",
      "\u001b[1;32mC:\\ProgramData\\Anaconda3\\lib\\site-packages\\sklearn\\utils\\validation.py\u001b[0m in \u001b[0;36mcheck_consistent_length\u001b[1;34m(*arrays)\u001b[0m\n\u001b[0;32m    260\u001b[0m     \u001b[0muniques\u001b[0m \u001b[1;33m=\u001b[0m \u001b[0mnp\u001b[0m\u001b[1;33m.\u001b[0m\u001b[0munique\u001b[0m\u001b[1;33m(\u001b[0m\u001b[0mlengths\u001b[0m\u001b[1;33m)\u001b[0m\u001b[1;33m\u001b[0m\u001b[1;33m\u001b[0m\u001b[0m\n\u001b[0;32m    261\u001b[0m     \u001b[1;32mif\u001b[0m \u001b[0mlen\u001b[0m\u001b[1;33m(\u001b[0m\u001b[0muniques\u001b[0m\u001b[1;33m)\u001b[0m \u001b[1;33m>\u001b[0m \u001b[1;36m1\u001b[0m\u001b[1;33m:\u001b[0m\u001b[1;33m\u001b[0m\u001b[1;33m\u001b[0m\u001b[0m\n\u001b[1;32m--> 262\u001b[1;33m         raise ValueError(\"Found input variables with inconsistent numbers of\"\n\u001b[0m\u001b[0;32m    263\u001b[0m                          \" samples: %r\" % [int(l) for l in lengths])\n\u001b[0;32m    264\u001b[0m \u001b[1;33m\u001b[0m\u001b[0m\n",
      "\u001b[1;31mValueError\u001b[0m: Found input variables with inconsistent numbers of samples: [50, 30]"
     ]
    }
   ],
   "source": [
    "cv_accuracy=[]\n",
    "cnt=0\n",
    "clf= KNeighborsClassifier(n_neighbors=3)\n",
    "for train_index,test_index in kfold.split(iris.data):\n",
    "    X_train,X_text = iris.data[train_index],iris.data[test_index]\n",
    "    y_train,y_text = iris.target[train_index],iris.target[test_index]\n",
    "    #print(X_train.shape,X_test.shape,y_train.shape,y_test.shape)\n",
    "    \n",
    "    # 학습 및 예측 테스트\n",
    "    clf.fit(X_train,y_train)\n",
    "    pred = clf.predict(X_text)\n",
    "    cnt = cnt+1\n",
    "    \n",
    "    # 정확도 측정 \n",
    "    accuracy=np.round(accuracy_score(y_test,pred), 4)\n",
    "    print(\"{}회 검증-정확도 : {}, 학급 데이터 크기: {} \".format(cnt,\n",
    "                                                 accuracy,X_tarin.shape[0],X_test.shape[0]))\n",
    "    cv_accuracy.append(accuracy)\n",
    "\n",
    "print('\\n\\n 평균 검증 정확도 :', np.mean(cv_accuracy))"
   ]
  },
  {
   "cell_type": "code",
   "execution_count": 248,
   "id": "3deba3e2",
   "metadata": {},
   "outputs": [
    {
     "name": "stdout",
     "output_type": "stream",
     "text": [
      "1회 검증 -  정확도 : 1.0, 학습 데이터 크기 : 120, 검증 데이터 크기 : 30\n",
      "2회 검증 -  정확도 : 1.0, 학습 데이터 크기 : 120, 검증 데이터 크기 : 30\n",
      "3회 검증 -  정확도 : 0.8333, 학습 데이터 크기 : 120, 검증 데이터 크기 : 30\n",
      "4회 검증 -  정확도 : 0.9333, 학습 데이터 크기 : 120, 검증 데이터 크기 : 30\n",
      "5회 검증 -  정확도 : 0.7667, 학습 데이터 크기 : 120, 검증 데이터 크기 : 30\n",
      "\n",
      "\n",
      " 평균 검증 정확도 :  0.9066599999999999\n"
     ]
    }
   ],
   "source": [
    "\n",
    "from sklearn.neighbors import KNeighborsClassifier\n",
    "from sklearn.metrics import accuracy_score\n",
    "\n",
    "clf = KNeighborsClassifier(n_neighbors=3)\n",
    "\n",
    "cv_accuracy = []\n",
    "cnt = 0\n",
    "\n",
    "for train_index, test_index in kfold.split(iris.data):\n",
    "    #print(\"훈련용:\", train_index)\n",
    "    #print(\"테스트용:\", test_index)\n",
    "    X_train, X_test = iris.data[train_index], iris.data[test_index]\n",
    "    y_train, y_test = iris.target[train_index], iris.target[test_index]\n",
    "    #print(X_train.shape, X_test.shape, y_train.shape, y_test.shape)\n",
    "    \n",
    "    # 학습 및 예측 테스트\n",
    "    clf.fit(X_train, y_train)\n",
    "    pred = clf.predict(X_test)\n",
    "    cnt = cnt + 1\n",
    "    \n",
    "    # 정확도 측정\n",
    "    accuracy = np.round(accuracy_score(y_test, pred), 4)\n",
    "    print(\"{}회 검증 -  정확도 : {}, 학습 데이터 크기 : {}, 검증 데이터 크기 : {}\".format(cnt,\n",
    "                                                                     accuracy, X_train.shape[0],\n",
    "                                                                     X_test.shape[0]))\n",
    "    cv_accuracy.append(accuracy)\n",
    "    \n",
    "print(\"\\n\\n 평균 검증 정확도 : \", np.mean(cv_accuracy))"
   ]
  },
  {
   "cell_type": "markdown",
   "id": "e501cbfb",
   "metadata": {},
   "source": [
    "+ Stratified K폴드  --> 분포가 서로 불균형 할때 \n",
    "    - e.g. 품종 데이터 a : 100, b : 30, c : 20 \n",
    "    - 회귀 알고리즘에서는 사용할 수 없음.\n",
    "    - 분류에서만 사용 가능 "
   ]
  },
  {
   "cell_type": "code",
   "execution_count": 249,
   "id": "fc7f591c",
   "metadata": {},
   "outputs": [
    {
     "data": {
      "text/html": [
       "<div>\n",
       "<style scoped>\n",
       "    .dataframe tbody tr th:only-of-type {\n",
       "        vertical-align: middle;\n",
       "    }\n",
       "\n",
       "    .dataframe tbody tr th {\n",
       "        vertical-align: top;\n",
       "    }\n",
       "\n",
       "    .dataframe thead th {\n",
       "        text-align: right;\n",
       "    }\n",
       "</style>\n",
       "<table border=\"1\" class=\"dataframe\">\n",
       "  <thead>\n",
       "    <tr style=\"text-align: right;\">\n",
       "      <th></th>\n",
       "      <th>sepal length (cm)</th>\n",
       "      <th>sepal width (cm)</th>\n",
       "      <th>petal length (cm)</th>\n",
       "      <th>petal width (cm)</th>\n",
       "    </tr>\n",
       "  </thead>\n",
       "  <tbody>\n",
       "    <tr>\n",
       "      <th>0</th>\n",
       "      <td>5.1</td>\n",
       "      <td>3.5</td>\n",
       "      <td>1.4</td>\n",
       "      <td>0.2</td>\n",
       "    </tr>\n",
       "    <tr>\n",
       "      <th>1</th>\n",
       "      <td>4.9</td>\n",
       "      <td>3.0</td>\n",
       "      <td>1.4</td>\n",
       "      <td>0.2</td>\n",
       "    </tr>\n",
       "    <tr>\n",
       "      <th>2</th>\n",
       "      <td>4.7</td>\n",
       "      <td>3.2</td>\n",
       "      <td>1.3</td>\n",
       "      <td>0.2</td>\n",
       "    </tr>\n",
       "    <tr>\n",
       "      <th>3</th>\n",
       "      <td>4.6</td>\n",
       "      <td>3.1</td>\n",
       "      <td>1.5</td>\n",
       "      <td>0.2</td>\n",
       "    </tr>\n",
       "    <tr>\n",
       "      <th>4</th>\n",
       "      <td>5.0</td>\n",
       "      <td>3.6</td>\n",
       "      <td>1.4</td>\n",
       "      <td>0.2</td>\n",
       "    </tr>\n",
       "    <tr>\n",
       "      <th>...</th>\n",
       "      <td>...</td>\n",
       "      <td>...</td>\n",
       "      <td>...</td>\n",
       "      <td>...</td>\n",
       "    </tr>\n",
       "    <tr>\n",
       "      <th>145</th>\n",
       "      <td>6.7</td>\n",
       "      <td>3.0</td>\n",
       "      <td>5.2</td>\n",
       "      <td>2.3</td>\n",
       "    </tr>\n",
       "    <tr>\n",
       "      <th>146</th>\n",
       "      <td>6.3</td>\n",
       "      <td>2.5</td>\n",
       "      <td>5.0</td>\n",
       "      <td>1.9</td>\n",
       "    </tr>\n",
       "    <tr>\n",
       "      <th>147</th>\n",
       "      <td>6.5</td>\n",
       "      <td>3.0</td>\n",
       "      <td>5.2</td>\n",
       "      <td>2.0</td>\n",
       "    </tr>\n",
       "    <tr>\n",
       "      <th>148</th>\n",
       "      <td>6.2</td>\n",
       "      <td>3.4</td>\n",
       "      <td>5.4</td>\n",
       "      <td>2.3</td>\n",
       "    </tr>\n",
       "    <tr>\n",
       "      <th>149</th>\n",
       "      <td>5.9</td>\n",
       "      <td>3.0</td>\n",
       "      <td>5.1</td>\n",
       "      <td>1.8</td>\n",
       "    </tr>\n",
       "  </tbody>\n",
       "</table>\n",
       "<p>150 rows × 4 columns</p>\n",
       "</div>"
      ],
      "text/plain": [
       "     sepal length (cm)  sepal width (cm)  petal length (cm)  petal width (cm)\n",
       "0                  5.1               3.5                1.4               0.2\n",
       "1                  4.9               3.0                1.4               0.2\n",
       "2                  4.7               3.2                1.3               0.2\n",
       "3                  4.6               3.1                1.5               0.2\n",
       "4                  5.0               3.6                1.4               0.2\n",
       "..                 ...               ...                ...               ...\n",
       "145                6.7               3.0                5.2               2.3\n",
       "146                6.3               2.5                5.0               1.9\n",
       "147                6.5               3.0                5.2               2.0\n",
       "148                6.2               3.4                5.4               2.3\n",
       "149                5.9               3.0                5.1               1.8\n",
       "\n",
       "[150 rows x 4 columns]"
      ]
     },
     "execution_count": 249,
     "metadata": {},
     "output_type": "execute_result"
    }
   ],
   "source": [
    "iris_df= pd.DataFrame(iris.data,columns=iris.feature_names)\n",
    "iris_df"
   ]
  },
  {
   "cell_type": "code",
   "execution_count": 250,
   "id": "1d2eb4c0",
   "metadata": {},
   "outputs": [
    {
     "data": {
      "text/html": [
       "<div>\n",
       "<style scoped>\n",
       "    .dataframe tbody tr th:only-of-type {\n",
       "        vertical-align: middle;\n",
       "    }\n",
       "\n",
       "    .dataframe tbody tr th {\n",
       "        vertical-align: top;\n",
       "    }\n",
       "\n",
       "    .dataframe thead th {\n",
       "        text-align: right;\n",
       "    }\n",
       "</style>\n",
       "<table border=\"1\" class=\"dataframe\">\n",
       "  <thead>\n",
       "    <tr style=\"text-align: right;\">\n",
       "      <th></th>\n",
       "      <th>sepal length (cm)</th>\n",
       "      <th>sepal width (cm)</th>\n",
       "      <th>petal length (cm)</th>\n",
       "      <th>petal width (cm)</th>\n",
       "      <th>label</th>\n",
       "    </tr>\n",
       "  </thead>\n",
       "  <tbody>\n",
       "    <tr>\n",
       "      <th>0</th>\n",
       "      <td>5.1</td>\n",
       "      <td>3.5</td>\n",
       "      <td>1.4</td>\n",
       "      <td>0.2</td>\n",
       "      <td>0</td>\n",
       "    </tr>\n",
       "    <tr>\n",
       "      <th>1</th>\n",
       "      <td>4.9</td>\n",
       "      <td>3.0</td>\n",
       "      <td>1.4</td>\n",
       "      <td>0.2</td>\n",
       "      <td>0</td>\n",
       "    </tr>\n",
       "    <tr>\n",
       "      <th>2</th>\n",
       "      <td>4.7</td>\n",
       "      <td>3.2</td>\n",
       "      <td>1.3</td>\n",
       "      <td>0.2</td>\n",
       "      <td>0</td>\n",
       "    </tr>\n",
       "    <tr>\n",
       "      <th>3</th>\n",
       "      <td>4.6</td>\n",
       "      <td>3.1</td>\n",
       "      <td>1.5</td>\n",
       "      <td>0.2</td>\n",
       "      <td>0</td>\n",
       "    </tr>\n",
       "    <tr>\n",
       "      <th>4</th>\n",
       "      <td>5.0</td>\n",
       "      <td>3.6</td>\n",
       "      <td>1.4</td>\n",
       "      <td>0.2</td>\n",
       "      <td>0</td>\n",
       "    </tr>\n",
       "  </tbody>\n",
       "</table>\n",
       "</div>"
      ],
      "text/plain": [
       "   sepal length (cm)  sepal width (cm)  petal length (cm)  petal width (cm)  \\\n",
       "0                5.1               3.5                1.4               0.2   \n",
       "1                4.9               3.0                1.4               0.2   \n",
       "2                4.7               3.2                1.3               0.2   \n",
       "3                4.6               3.1                1.5               0.2   \n",
       "4                5.0               3.6                1.4               0.2   \n",
       "\n",
       "   label  \n",
       "0      0  \n",
       "1      0  \n",
       "2      0  \n",
       "3      0  \n",
       "4      0  "
      ]
     },
     "execution_count": 250,
     "metadata": {},
     "output_type": "execute_result"
    }
   ],
   "source": [
    "# feature 에 target 파생변수 추가\n",
    "iris_df['label'] = iris.target\n",
    "iris_df.head()"
   ]
  },
  {
   "cell_type": "code",
   "execution_count": 251,
   "id": "4c5a2ff0",
   "metadata": {},
   "outputs": [
    {
     "data": {
      "text/plain": [
       "0    50\n",
       "1    50\n",
       "2    50\n",
       "Name: label, dtype: int64"
      ]
     },
     "execution_count": 251,
     "metadata": {},
     "output_type": "execute_result"
    }
   ],
   "source": [
    "iris_df['label'].value_counts()"
   ]
  },
  {
   "cell_type": "code",
   "execution_count": 252,
   "id": "3e8f1327",
   "metadata": {},
   "outputs": [
    {
     "name": "stdout",
     "output_type": "stream",
     "text": [
      "1회 검증 : \n",
      "학습 데이터 분포 : \n",
      " 1    50\n",
      "2    50\n",
      "Name: label, dtype: int64\n",
      "테스트 데이터 분포 : \n",
      " 0    50\n",
      "Name: label, dtype: int64\n",
      "2회 검증 : \n",
      "학습 데이터 분포 : \n",
      " 0    50\n",
      "2    50\n",
      "Name: label, dtype: int64\n",
      "테스트 데이터 분포 : \n",
      " 1    50\n",
      "Name: label, dtype: int64\n",
      "3회 검증 : \n",
      "학습 데이터 분포 : \n",
      " 0    50\n",
      "1    50\n",
      "Name: label, dtype: int64\n",
      "테스트 데이터 분포 : \n",
      " 2    50\n",
      "Name: label, dtype: int64\n"
     ]
    }
   ],
   "source": [
    "kfold = KFold(n_splits=3) # 3등분 할 거고\n",
    "cnt = 0\n",
    "\n",
    "for train_index, test_index in kfold.split(iris_df): \n",
    "    cnt += 1 \n",
    "    label_train=iris_df['label'].iloc[train_index]\n",
    "    label_test=iris_df['label'].iloc[test_index]\n",
    "    \n",
    "    print('{}회 검증 : '.format(cnt))\n",
    "    print('학습 데이터 분포 : \\n',label_train.value_counts())\n",
    "    print('테스트 데이터 분포 : \\n',label_test.value_counts())"
   ]
  },
  {
   "cell_type": "code",
   "execution_count": 255,
   "id": "919d8973",
   "metadata": {},
   "outputs": [
    {
     "name": "stdout",
     "output_type": "stream",
     "text": [
      "1회 검증 : \n",
      "학습 데이터 분포 : \n",
      " 2    34\n",
      "0    33\n",
      "1    33\n",
      "Name: label, dtype: int64\n",
      "테스트 데이터 분포 : \n",
      " 0    17\n",
      "1    17\n",
      "2    16\n",
      "Name: label, dtype: int64\n",
      "2회 검증 : \n",
      "학습 데이터 분포 : \n",
      " 1    34\n",
      "0    33\n",
      "2    33\n",
      "Name: label, dtype: int64\n",
      "테스트 데이터 분포 : \n",
      " 0    17\n",
      "2    17\n",
      "1    16\n",
      "Name: label, dtype: int64\n",
      "3회 검증 : \n",
      "학습 데이터 분포 : \n",
      " 0    34\n",
      "1    33\n",
      "2    33\n",
      "Name: label, dtype: int64\n",
      "테스트 데이터 분포 : \n",
      " 1    17\n",
      "2    17\n",
      "0    16\n",
      "Name: label, dtype: int64\n"
     ]
    }
   ],
   "source": [
    "## 훈련을 골고루 받게끔 해줌 \n",
    "from sklearn.model_selection import StratifiedKFold\n",
    "\n",
    "kfold = StratifiedKFold(n_splits=3) # 훈련용반 따로 받음 \n",
    "cnt = 0\n",
    "\n",
    "for train_index, test_index in kfold.split(iris_df,iris_df['label']): \n",
    "    cnt += 1 \n",
    "    label_train=iris_df['label'].iloc[train_index]\n",
    "    label_test=iris_df['label'].iloc[test_index]\n",
    "    \n",
    "    print('{}회 검증 : '.format(cnt))\n",
    "    print('학습 데이터 분포 : \\n',label_train.value_counts())\n",
    "    print('테스트 데이터 분포 : \\n',label_test.value_counts())"
   ]
  },
  {
   "cell_type": "markdown",
   "id": "bde9d4ed",
   "metadata": {},
   "source": [
    "---\n",
    "\n",
    "+ cross_val_score(): 교차 검증을 훨씬 간단하게 구현, 시험까지 해주겠다 이거임\n",
    "    - 훨씬 간단\n",
    "    \n",
    "+ cross_validate(): 는 평가지표를 다양하게 볼 수 있음. cross_val_score는 한개 밖에 못봄. "
   ]
  },
  {
   "cell_type": "code",
   "execution_count": 258,
   "id": "a308ca16",
   "metadata": {},
   "outputs": [
    {
     "name": "stdout",
     "output_type": "stream",
     "text": [
      "교차 검증별 정확도 : [0.9667 0.9667 0.9333 0.9667 1.    ]\n",
      "평균 검증별 정확도 : 0.9667\n"
     ]
    }
   ],
   "source": [
    "from sklearn.model_selection import cross_val_score\n",
    "\n",
    "knn = KNeighborsClassifier(n_neighbors=3)\n",
    "scores=cross_val_score(knn,iris.data,iris.target, scoring='accuracy',cv=5) \n",
    "# 훈련부터 시작해서 시험까지 논스톱으로 해주는 함수 ,scoring=''어떻게 채점해줄까?,cv = 몇등분으로 해줄까?\n",
    "\n",
    "print('교차 검증별 정확도 :', np.round(scores,4)) # cross_val_score()는 셔플 기본값 트루임 \n",
    "print('평균 검증별 정확도 :', np.round(np.mean(scores),4))"
   ]
  },
  {
   "cell_type": "markdown",
   "id": "7c070148",
   "metadata": {},
   "source": [
    " ### (3) GridSearchCV\n",
    "  + knn에서 튜닝은 이웃의 갯주 조절하거나, 거리측정 방법을 변경 이웃 수 조절을 많이 씀.\n",
    "  \n",
    "  + 자동으로 반복을 돌면서 파라미터를 변경해가면서 어떤것이 가장 좋은 파라미터인지 검사해주는 함수\n",
    "    - 교차검증, 최적의 하이퍼 파라미터 튜닝을 한번에 처리\n",
    "        - 교차검증은 속도가 느려서 데이터가 많을 때는 다 쓰진 않음\n",
    "        \n",
    "        \n",
    "  -----------------------------\n",
    "  + 파라미터 \n",
    "      - estimator : 예측기- 알고리즘을 말함, classifier, regressor, pipeline\n",
    "      - param_grid : key + 리스트값을 가지는 dict\n",
    "      - scoring: 평가 지표( 분류에서는 정확도 - 정확도만 가지고는 부족할 수 있음, 맞췄냐만 볼게 아니라 어느것을 틀렸냐도 중요할 수 있음), 정밀도, 재현율 --> 한쪽이 너무 많은 경우 이 둘을 써야 함)\n",
    "      - cv : 교차 검증을 위해 분할되는 학습/테스트 셋의 갯수를 지정\n",
    "      - refit: 디폴트가 true, 최적의 하이퍼 파라미터를 찾은 뒤 재학습 여부 지정\n",
    "   "
   ]
  },
  {
   "cell_type": "code",
   "execution_count": 1,
   "id": "cc3e3376",
   "metadata": {},
   "outputs": [],
   "source": [
    "from sklearn.model_selection import GridSearchCV\n",
    "from sklearn.neighbors import KNeighborsClassifier\n",
    "? GridSearchCV"
   ]
  },
  {
   "cell_type": "code",
   "execution_count": 6,
   "id": "f1ed7d03",
   "metadata": {},
   "outputs": [],
   "source": [
    "from sklearn.datasets import load_iris\n",
    "iris = load_iris()\n",
    "\n",
    "X_train,X_test,y_train,y_test=train_test_split(iris.data,iris.target,\n",
    "                                              random_state=121,test_size=.2)\n",
    "knn = KNeighborsClassifier()"
   ]
  },
  {
   "cell_type": "code",
   "execution_count": 11,
   "id": "e22cdce9",
   "metadata": {},
   "outputs": [
    {
     "data": {
      "text/plain": [
       "GridSearchCV(cv=3, estimator=KNeighborsClassifier(),\n",
       "             param_grid={'n_neighbors': [1, 3, 5, 7, 9, 11, 13]})"
      ]
     },
     "execution_count": 11,
     "metadata": {},
     "output_type": "execute_result"
    }
   ],
   "source": [
    "params = {'n_neighbors':[n for n in range(1,15) if n %2 != 0]}\n",
    "grid_knn=GridSearchCV(knn,param_grid=params,cv=3) # 여기서 fit을 쓸 수 있음\n",
    "grid_knn.fit(X_train,y_train)"
   ]
  },
  {
   "cell_type": "code",
   "execution_count": 7,
   "id": "98d5f039",
   "metadata": {},
   "outputs": [
    {
     "data": {
      "text/plain": [
       "{'n_neighbors': [1, 3, 5, 7, 9, 11, 13]}"
      ]
     },
     "execution_count": 7,
     "metadata": {},
     "output_type": "execute_result"
    }
   ],
   "source": [
    "params = {'n_neighbors':[n for n in range(1,15) if n %2 != 0]}\n",
    "params"
   ]
  },
  {
   "cell_type": "code",
   "execution_count": 16,
   "id": "4cf69b7c",
   "metadata": {},
   "outputs": [
    {
     "data": {
      "text/html": [
       "<div>\n",
       "<style scoped>\n",
       "    .dataframe tbody tr th:only-of-type {\n",
       "        vertical-align: middle;\n",
       "    }\n",
       "\n",
       "    .dataframe tbody tr th {\n",
       "        vertical-align: top;\n",
       "    }\n",
       "\n",
       "    .dataframe thead th {\n",
       "        text-align: right;\n",
       "    }\n",
       "</style>\n",
       "<table border=\"1\" class=\"dataframe\">\n",
       "  <thead>\n",
       "    <tr style=\"text-align: right;\">\n",
       "      <th></th>\n",
       "      <th>params</th>\n",
       "      <th>mean_test_score</th>\n",
       "      <th>rank_test_score</th>\n",
       "      <th>split0_test_score</th>\n",
       "      <th>split1_test_score</th>\n",
       "      <th>split2_test_score</th>\n",
       "      <th>std_test_score</th>\n",
       "    </tr>\n",
       "  </thead>\n",
       "  <tbody>\n",
       "    <tr>\n",
       "      <th>0</th>\n",
       "      <td>{'n_neighbors': 1}</td>\n",
       "      <td>0.966667</td>\n",
       "      <td>5</td>\n",
       "      <td>0.95</td>\n",
       "      <td>1.000</td>\n",
       "      <td>0.950</td>\n",
       "      <td>0.023570</td>\n",
       "    </tr>\n",
       "    <tr>\n",
       "      <th>1</th>\n",
       "      <td>{'n_neighbors': 3}</td>\n",
       "      <td>0.966667</td>\n",
       "      <td>5</td>\n",
       "      <td>0.95</td>\n",
       "      <td>1.000</td>\n",
       "      <td>0.950</td>\n",
       "      <td>0.023570</td>\n",
       "    </tr>\n",
       "    <tr>\n",
       "      <th>2</th>\n",
       "      <td>{'n_neighbors': 5}</td>\n",
       "      <td>0.975000</td>\n",
       "      <td>1</td>\n",
       "      <td>0.95</td>\n",
       "      <td>1.000</td>\n",
       "      <td>0.975</td>\n",
       "      <td>0.020412</td>\n",
       "    </tr>\n",
       "    <tr>\n",
       "      <th>3</th>\n",
       "      <td>{'n_neighbors': 7}</td>\n",
       "      <td>0.975000</td>\n",
       "      <td>1</td>\n",
       "      <td>0.95</td>\n",
       "      <td>1.000</td>\n",
       "      <td>0.975</td>\n",
       "      <td>0.020412</td>\n",
       "    </tr>\n",
       "    <tr>\n",
       "      <th>4</th>\n",
       "      <td>{'n_neighbors': 9}</td>\n",
       "      <td>0.966667</td>\n",
       "      <td>5</td>\n",
       "      <td>0.95</td>\n",
       "      <td>0.975</td>\n",
       "      <td>0.975</td>\n",
       "      <td>0.011785</td>\n",
       "    </tr>\n",
       "    <tr>\n",
       "      <th>5</th>\n",
       "      <td>{'n_neighbors': 11}</td>\n",
       "      <td>0.975000</td>\n",
       "      <td>1</td>\n",
       "      <td>0.95</td>\n",
       "      <td>1.000</td>\n",
       "      <td>0.975</td>\n",
       "      <td>0.020412</td>\n",
       "    </tr>\n",
       "    <tr>\n",
       "      <th>6</th>\n",
       "      <td>{'n_neighbors': 13}</td>\n",
       "      <td>0.975000</td>\n",
       "      <td>1</td>\n",
       "      <td>0.95</td>\n",
       "      <td>1.000</td>\n",
       "      <td>0.975</td>\n",
       "      <td>0.020412</td>\n",
       "    </tr>\n",
       "  </tbody>\n",
       "</table>\n",
       "</div>"
      ],
      "text/plain": [
       "                params  mean_test_score  rank_test_score  split0_test_score  \\\n",
       "0   {'n_neighbors': 1}         0.966667                5               0.95   \n",
       "1   {'n_neighbors': 3}         0.966667                5               0.95   \n",
       "2   {'n_neighbors': 5}         0.975000                1               0.95   \n",
       "3   {'n_neighbors': 7}         0.975000                1               0.95   \n",
       "4   {'n_neighbors': 9}         0.966667                5               0.95   \n",
       "5  {'n_neighbors': 11}         0.975000                1               0.95   \n",
       "6  {'n_neighbors': 13}         0.975000                1               0.95   \n",
       "\n",
       "   split1_test_score  split2_test_score  std_test_score  \n",
       "0              1.000              0.950        0.023570  \n",
       "1              1.000              0.950        0.023570  \n",
       "2              1.000              0.975        0.020412  \n",
       "3              1.000              0.975        0.020412  \n",
       "4              0.975              0.975        0.011785  \n",
       "5              1.000              0.975        0.020412  \n",
       "6              1.000              0.975        0.020412  "
      ]
     },
     "execution_count": 16,
     "metadata": {},
     "output_type": "execute_result"
    }
   ],
   "source": [
    "# 테스트를 해봐야지\n",
    "scores_df = pd.DataFrame(grid_knn.cv_results_)\n",
    "scores_df[['params','mean_test_score','rank_test_score','split0_test_score',\n",
    "          'split1_test_score','split2_test_score','std_test_score']]\n",
    "# 평균 정확도, 등수, cv "
   ]
  },
  {
   "cell_type": "code",
   "execution_count": 15,
   "id": "7c7c5369",
   "metadata": {},
   "outputs": [
    {
     "data": {
      "text/plain": [
       "{'mean_fit_time': array([0.00133077, 0.00033259, 0.00066511, 0.00033013, 0.00033251,\n",
       "        0.00033251, 0.00066415]),\n",
       " 'std_fit_time': array([0.00046924, 0.00047036, 0.0004703 , 0.00046687, 0.00047025,\n",
       "        0.00047025, 0.00046963]),\n",
       " 'mean_score_time': array([0.04362679, 0.00200574, 0.00133077, 0.00167473, 0.00198388,\n",
       "        0.00202719, 0.00166337]),\n",
       " 'std_score_time': array([5.81750284e-02, 1.59060913e-05, 4.69574671e-04, 4.75413435e-04,\n",
       "        1.48369678e-05, 3.59653107e-06, 4.69796912e-04]),\n",
       " 'param_n_neighbors': masked_array(data=[1, 3, 5, 7, 9, 11, 13],\n",
       "              mask=[False, False, False, False, False, False, False],\n",
       "        fill_value='?',\n",
       "             dtype=object),\n",
       " 'params': [{'n_neighbors': 1},\n",
       "  {'n_neighbors': 3},\n",
       "  {'n_neighbors': 5},\n",
       "  {'n_neighbors': 7},\n",
       "  {'n_neighbors': 9},\n",
       "  {'n_neighbors': 11},\n",
       "  {'n_neighbors': 13}],\n",
       " 'split0_test_score': array([0.95, 0.95, 0.95, 0.95, 0.95, 0.95, 0.95]),\n",
       " 'split1_test_score': array([1.   , 1.   , 1.   , 1.   , 0.975, 1.   , 1.   ]),\n",
       " 'split2_test_score': array([0.95 , 0.95 , 0.975, 0.975, 0.975, 0.975, 0.975]),\n",
       " 'mean_test_score': array([0.96666667, 0.96666667, 0.975     , 0.975     , 0.96666667,\n",
       "        0.975     , 0.975     ]),\n",
       " 'std_test_score': array([0.02357023, 0.02357023, 0.02041241, 0.02041241, 0.01178511,\n",
       "        0.02041241, 0.02041241]),\n",
       " 'rank_test_score': array([5, 5, 1, 1, 5, 1, 1])}"
      ]
     },
     "execution_count": 15,
     "metadata": {},
     "output_type": "execute_result"
    }
   ],
   "source": [
    "grid_knn.cv_results_"
   ]
  },
  {
   "cell_type": "code",
   "execution_count": 17,
   "id": "958ebbf9",
   "metadata": {},
   "outputs": [
    {
     "name": "stdout",
     "output_type": "stream",
     "text": [
      "최적의 파라미터 :  {'n_neighbors': 5}\n",
      "최고 정확도 :  0.975\n"
     ]
    }
   ],
   "source": [
    "print('최적의 파라미터 : ',grid_knn.best_params_)\n",
    "print('최고 정확도 : ',grid_knn.best_score_) \n",
    "# 이 정확도를 동네 방네 소문낼 수 있을까? nope 이것은 훈련 성적 --> test를 봐야함. "
   ]
  },
  {
   "cell_type": "code",
   "execution_count": 18,
   "id": "7d8f91fb",
   "metadata": {},
   "outputs": [
    {
     "name": "stdout",
     "output_type": "stream",
     "text": [
      "테스트 정확도:  0.9666666666666667\n"
     ]
    }
   ],
   "source": [
    "from sklearn.metrics import accuracy_score\n",
    "pred= grid_knn.predict(X_test)\n",
    "print('테스트 정확도: ',accuracy_score(y_test,pred))"
   ]
  },
  {
   "cell_type": "markdown",
   "id": "d493cfaf",
   "metadata": {},
   "source": [
    "----\n",
    "## 4. 전처리\n",
    "\n",
    "+ 결측치 허용 안됨.\n",
    "+ 데이터는 무조건 숫자로 되어 있어야 함. "
   ]
  },
  {
   "cell_type": "markdown",
   "id": "0eca98ef",
   "metadata": {},
   "source": [
    "### (1) 문자열 해결을 위한 데이터 인코딩\n",
    "+ 레이블 인코딩\n",
    "+ 원-핫 인코딩(더미)"
   ]
  },
  {
   "cell_type": "markdown",
   "id": "75f96b84",
   "metadata": {},
   "source": [
    "#### 1) 레이블 인코딩"
   ]
  },
  {
   "cell_type": "code",
   "execution_count": 21,
   "id": "33e82539",
   "metadata": {},
   "outputs": [
    {
     "name": "stdout",
     "output_type": "stream",
     "text": [
      "인코딩 변환값 : [0 1 4 5 3 3 2 2]\n",
      "인코딩 클래스 : ['TV' '냉장고' '믹서' '선풍기' '전자렌지' '컴퓨터']\n",
      "디코딩 원본값 : ['TV' '냉장고' '전자렌지' '컴퓨터' '선풍기' '선풍기' '믹서' '믹서']\n"
     ]
    }
   ],
   "source": [
    "from sklearn.preprocessing import LabelEncoder\n",
    "items= ['TV','냉장고','전자렌지','컴퓨터','선풍기','선풍기','믹서','믹서']\n",
    "encoder = LabelEncoder()\n",
    "encoder.fit(items)\n",
    "labels = encoder.transform(items)\n",
    "print('인코딩 변환값 :',labels)\n",
    "print('인코딩 클래스 :',encoder.classes_) # 순서대로 0,1,2,3,4,5\n",
    "\n",
    "# 인코딩한 값을 원래의 문자열로 알고 싶을 때\n",
    "print('디코딩 원본값 :',encoder.inverse_transform([0, 1, 4, 5, 3, 3, 2, 2]))\n",
    "# 숫자로만 바꾸면 숫자에 대한 가중치(e.g.순위)가 붙을 수 있음 그래서 0,1로 바꿔줌(원핫 인코딩)"
   ]
  },
  {
   "cell_type": "markdown",
   "id": "d3530a34",
   "metadata": {},
   "source": [
    "#### 2) 원 핫 인코딩\n",
    "\n",
    "+ 새로운 피처를 추가해 고유값에 해당하는 컬럼에만 1을 표시하고 나머지는 0으로 표시\n",
    "+ 사전에 반드시 숫자로 변환이 되어 있어야 한다. \n",
    "+ 값을 입력시에 2차원 데이터가 필요하다."
   ]
  },
  {
   "cell_type": "code",
   "execution_count": 22,
   "id": "1643a4cc",
   "metadata": {},
   "outputs": [],
   "source": [
    "from sklearn.preprocessing import OneHotEncoder\n"
   ]
  },
  {
   "cell_type": "code",
   "execution_count": 23,
   "id": "26d6b798",
   "metadata": {
    "scrolled": false
   },
   "outputs": [
    {
     "ename": "ValueError",
     "evalue": "Expected 2D array, got 1D array instead:\narray=[0 1 4 5 3 3 2 2].\nReshape your data either using array.reshape(-1, 1) if your data has a single feature or array.reshape(1, -1) if it contains a single sample.",
     "output_type": "error",
     "traceback": [
      "\u001b[1;31m---------------------------------------------------------------------------\u001b[0m",
      "\u001b[1;31mValueError\u001b[0m                                Traceback (most recent call last)",
      "\u001b[1;32m<ipython-input-23-b992d5838eee>\u001b[0m in \u001b[0;36m<module>\u001b[1;34m\u001b[0m\n\u001b[0;32m      5\u001b[0m \u001b[1;33m\u001b[0m\u001b[0m\n\u001b[0;32m      6\u001b[0m \u001b[0mone\u001b[0m\u001b[1;33m=\u001b[0m\u001b[0mOneHotEncoder\u001b[0m\u001b[1;33m(\u001b[0m\u001b[1;33m)\u001b[0m\u001b[1;33m\u001b[0m\u001b[1;33m\u001b[0m\u001b[0m\n\u001b[1;32m----> 7\u001b[1;33m \u001b[0mone\u001b[0m\u001b[1;33m.\u001b[0m\u001b[0mfit\u001b[0m\u001b[1;33m(\u001b[0m\u001b[0mlabels\u001b[0m\u001b[1;33m)\u001b[0m\u001b[1;33m\u001b[0m\u001b[1;33m\u001b[0m\u001b[0m\n\u001b[0m",
      "\u001b[1;32mC:\\ProgramData\\Anaconda3\\lib\\site-packages\\sklearn\\preprocessing\\_encoders.py\u001b[0m in \u001b[0;36mfit\u001b[1;34m(self, X, y)\u001b[0m\n\u001b[0;32m    415\u001b[0m         \"\"\"\n\u001b[0;32m    416\u001b[0m         \u001b[0mself\u001b[0m\u001b[1;33m.\u001b[0m\u001b[0m_validate_keywords\u001b[0m\u001b[1;33m(\u001b[0m\u001b[1;33m)\u001b[0m\u001b[1;33m\u001b[0m\u001b[1;33m\u001b[0m\u001b[0m\n\u001b[1;32m--> 417\u001b[1;33m         self._fit(X, handle_unknown=self.handle_unknown,\n\u001b[0m\u001b[0;32m    418\u001b[0m                   force_all_finite='allow-nan')\n\u001b[0;32m    419\u001b[0m         \u001b[0mself\u001b[0m\u001b[1;33m.\u001b[0m\u001b[0mdrop_idx_\u001b[0m \u001b[1;33m=\u001b[0m \u001b[0mself\u001b[0m\u001b[1;33m.\u001b[0m\u001b[0m_compute_drop_idx\u001b[0m\u001b[1;33m(\u001b[0m\u001b[1;33m)\u001b[0m\u001b[1;33m\u001b[0m\u001b[1;33m\u001b[0m\u001b[0m\n",
      "\u001b[1;32mC:\\ProgramData\\Anaconda3\\lib\\site-packages\\sklearn\\preprocessing\\_encoders.py\u001b[0m in \u001b[0;36m_fit\u001b[1;34m(self, X, handle_unknown, force_all_finite)\u001b[0m\n\u001b[0;32m     75\u001b[0m \u001b[1;33m\u001b[0m\u001b[0m\n\u001b[0;32m     76\u001b[0m     \u001b[1;32mdef\u001b[0m \u001b[0m_fit\u001b[0m\u001b[1;33m(\u001b[0m\u001b[0mself\u001b[0m\u001b[1;33m,\u001b[0m \u001b[0mX\u001b[0m\u001b[1;33m,\u001b[0m \u001b[0mhandle_unknown\u001b[0m\u001b[1;33m=\u001b[0m\u001b[1;34m'error'\u001b[0m\u001b[1;33m,\u001b[0m \u001b[0mforce_all_finite\u001b[0m\u001b[1;33m=\u001b[0m\u001b[1;32mTrue\u001b[0m\u001b[1;33m)\u001b[0m\u001b[1;33m:\u001b[0m\u001b[1;33m\u001b[0m\u001b[1;33m\u001b[0m\u001b[0m\n\u001b[1;32m---> 77\u001b[1;33m         X_list, n_samples, n_features = self._check_X(\n\u001b[0m\u001b[0;32m     78\u001b[0m             X, force_all_finite=force_all_finite)\n\u001b[0;32m     79\u001b[0m \u001b[1;33m\u001b[0m\u001b[0m\n",
      "\u001b[1;32mC:\\ProgramData\\Anaconda3\\lib\\site-packages\\sklearn\\preprocessing\\_encoders.py\u001b[0m in \u001b[0;36m_check_X\u001b[1;34m(self, X, force_all_finite)\u001b[0m\n\u001b[0;32m     42\u001b[0m         \u001b[1;32mif\u001b[0m \u001b[1;32mnot\u001b[0m \u001b[1;33m(\u001b[0m\u001b[0mhasattr\u001b[0m\u001b[1;33m(\u001b[0m\u001b[0mX\u001b[0m\u001b[1;33m,\u001b[0m \u001b[1;34m'iloc'\u001b[0m\u001b[1;33m)\u001b[0m \u001b[1;32mand\u001b[0m \u001b[0mgetattr\u001b[0m\u001b[1;33m(\u001b[0m\u001b[0mX\u001b[0m\u001b[1;33m,\u001b[0m \u001b[1;34m'ndim'\u001b[0m\u001b[1;33m,\u001b[0m \u001b[1;36m0\u001b[0m\u001b[1;33m)\u001b[0m \u001b[1;33m==\u001b[0m \u001b[1;36m2\u001b[0m\u001b[1;33m)\u001b[0m\u001b[1;33m:\u001b[0m\u001b[1;33m\u001b[0m\u001b[1;33m\u001b[0m\u001b[0m\n\u001b[0;32m     43\u001b[0m             \u001b[1;31m# if not a dataframe, do normal check_array validation\u001b[0m\u001b[1;33m\u001b[0m\u001b[1;33m\u001b[0m\u001b[1;33m\u001b[0m\u001b[0m\n\u001b[1;32m---> 44\u001b[1;33m             X_temp = check_array(X, dtype=None,\n\u001b[0m\u001b[0;32m     45\u001b[0m                                  force_all_finite=force_all_finite)\n\u001b[0;32m     46\u001b[0m             if (not hasattr(X, 'dtype')\n",
      "\u001b[1;32mC:\\ProgramData\\Anaconda3\\lib\\site-packages\\sklearn\\utils\\validation.py\u001b[0m in \u001b[0;36minner_f\u001b[1;34m(*args, **kwargs)\u001b[0m\n\u001b[0;32m     61\u001b[0m             \u001b[0mextra_args\u001b[0m \u001b[1;33m=\u001b[0m \u001b[0mlen\u001b[0m\u001b[1;33m(\u001b[0m\u001b[0margs\u001b[0m\u001b[1;33m)\u001b[0m \u001b[1;33m-\u001b[0m \u001b[0mlen\u001b[0m\u001b[1;33m(\u001b[0m\u001b[0mall_args\u001b[0m\u001b[1;33m)\u001b[0m\u001b[1;33m\u001b[0m\u001b[1;33m\u001b[0m\u001b[0m\n\u001b[0;32m     62\u001b[0m             \u001b[1;32mif\u001b[0m \u001b[0mextra_args\u001b[0m \u001b[1;33m<=\u001b[0m \u001b[1;36m0\u001b[0m\u001b[1;33m:\u001b[0m\u001b[1;33m\u001b[0m\u001b[1;33m\u001b[0m\u001b[0m\n\u001b[1;32m---> 63\u001b[1;33m                 \u001b[1;32mreturn\u001b[0m \u001b[0mf\u001b[0m\u001b[1;33m(\u001b[0m\u001b[1;33m*\u001b[0m\u001b[0margs\u001b[0m\u001b[1;33m,\u001b[0m \u001b[1;33m**\u001b[0m\u001b[0mkwargs\u001b[0m\u001b[1;33m)\u001b[0m\u001b[1;33m\u001b[0m\u001b[1;33m\u001b[0m\u001b[0m\n\u001b[0m\u001b[0;32m     64\u001b[0m \u001b[1;33m\u001b[0m\u001b[0m\n\u001b[0;32m     65\u001b[0m             \u001b[1;31m# extra_args > 0\u001b[0m\u001b[1;33m\u001b[0m\u001b[1;33m\u001b[0m\u001b[1;33m\u001b[0m\u001b[0m\n",
      "\u001b[1;32mC:\\ProgramData\\Anaconda3\\lib\\site-packages\\sklearn\\utils\\validation.py\u001b[0m in \u001b[0;36mcheck_array\u001b[1;34m(array, accept_sparse, accept_large_sparse, dtype, order, copy, force_all_finite, ensure_2d, allow_nd, ensure_min_samples, ensure_min_features, estimator)\u001b[0m\n\u001b[0;32m    635\u001b[0m             \u001b[1;31m# If input is 1D raise error\u001b[0m\u001b[1;33m\u001b[0m\u001b[1;33m\u001b[0m\u001b[1;33m\u001b[0m\u001b[0m\n\u001b[0;32m    636\u001b[0m             \u001b[1;32mif\u001b[0m \u001b[0marray\u001b[0m\u001b[1;33m.\u001b[0m\u001b[0mndim\u001b[0m \u001b[1;33m==\u001b[0m \u001b[1;36m1\u001b[0m\u001b[1;33m:\u001b[0m\u001b[1;33m\u001b[0m\u001b[1;33m\u001b[0m\u001b[0m\n\u001b[1;32m--> 637\u001b[1;33m                 raise ValueError(\n\u001b[0m\u001b[0;32m    638\u001b[0m                     \u001b[1;34m\"Expected 2D array, got 1D array instead:\\narray={}.\\n\"\u001b[0m\u001b[1;33m\u001b[0m\u001b[1;33m\u001b[0m\u001b[0m\n\u001b[0;32m    639\u001b[0m                     \u001b[1;34m\"Reshape your data either using array.reshape(-1, 1) if \"\u001b[0m\u001b[1;33m\u001b[0m\u001b[1;33m\u001b[0m\u001b[0m\n",
      "\u001b[1;31mValueError\u001b[0m: Expected 2D array, got 1D array instead:\narray=[0 1 4 5 3 3 2 2].\nReshape your data either using array.reshape(-1, 1) if your data has a single feature or array.reshape(1, -1) if it contains a single sample."
     ]
    }
   ],
   "source": [
    "items= ['TV','냉장고','전자렌지','컴퓨터','선풍기','선풍기','믹서','믹서']\n",
    "encoder = LabelEncoder()\n",
    "encoder.fit(items)\n",
    "labels = encoder.transform(items)\n",
    "\n",
    "one=OneHotEncoder()\n",
    "one.fit(labels) # 이렇게 만 하면 에러- 2차원 기대했는데 1차원이라"
   ]
  },
  {
   "cell_type": "code",
   "execution_count": 25,
   "id": "bf1080de",
   "metadata": {},
   "outputs": [
    {
     "name": "stdout",
     "output_type": "stream",
     "text": [
      "인코딩 변환값 : [[0]\n",
      " [1]\n",
      " [4]\n",
      " [5]\n",
      " [3]\n",
      " [3]\n",
      " [2]\n",
      " [2]]\n"
     ]
    }
   ],
   "source": [
    "print('인코딩 변환값 :',labels)"
   ]
  },
  {
   "cell_type": "code",
   "execution_count": 24,
   "id": "a7540f14",
   "metadata": {},
   "outputs": [
    {
     "name": "stdout",
     "output_type": "stream",
     "text": [
      "원-핫 인코딩 데이터\n",
      "[[1. 0. 0. 0. 0. 0.]\n",
      " [0. 1. 0. 0. 0. 0.]\n",
      " [0. 0. 0. 0. 1. 0.]\n",
      " [0. 0. 0. 0. 0. 1.]\n",
      " [0. 0. 0. 1. 0. 0.]\n",
      " [0. 0. 0. 1. 0. 0.]\n",
      " [0. 0. 1. 0. 0. 0.]\n",
      " [0. 0. 1. 0. 0. 0.]]\n",
      "크기 : (8, 6)\n"
     ]
    }
   ],
   "source": [
    "items= ['TV','냉장고','전자렌지','컴퓨터','선풍기','선풍기','믹서','믹서']\n",
    "encoder = LabelEncoder()\n",
    "encoder.fit(items)\n",
    "labels = encoder.transform(items)\n",
    "\n",
    "# 2차원 배열로 변환\n",
    "labels= labels.reshape(-1,1)\n",
    "\n",
    "one=OneHotEncoder()\n",
    "one.fit(labels)\n",
    "ot= one.transform(labels)\n",
    "\n",
    "print('원-핫 인코딩 데이터')\n",
    "print(ot.toarray())\n",
    "# 1의 위치를 알려주는 값\n",
    "#'TV':0 ,'냉장고':1,'전자렌지':4,'컴퓨터':5,'선풍기':3,'선풍기':3,'믹서':2,'믹서':2\n",
    "print('크기 :',ot.shape)"
   ]
  },
  {
   "cell_type": "markdown",
   "id": "f347b382",
   "metadata": {},
   "source": [
    "#### 3).get.dummies()\n",
    "- 판다스에서 원핫 인코딩\n",
    "- 데이터 프레임에 맞게끔 사용할 수 있는 더미"
   ]
  },
  {
   "cell_type": "code",
   "execution_count": 27,
   "id": "01799302",
   "metadata": {},
   "outputs": [
    {
     "data": {
      "text/html": [
       "<div>\n",
       "<style scoped>\n",
       "    .dataframe tbody tr th:only-of-type {\n",
       "        vertical-align: middle;\n",
       "    }\n",
       "\n",
       "    .dataframe tbody tr th {\n",
       "        vertical-align: top;\n",
       "    }\n",
       "\n",
       "    .dataframe thead th {\n",
       "        text-align: right;\n",
       "    }\n",
       "</style>\n",
       "<table border=\"1\" class=\"dataframe\">\n",
       "  <thead>\n",
       "    <tr style=\"text-align: right;\">\n",
       "      <th></th>\n",
       "      <th>item_TV</th>\n",
       "      <th>item_냉장고</th>\n",
       "      <th>item_믹서</th>\n",
       "      <th>item_선풍기</th>\n",
       "      <th>item_전자렌지</th>\n",
       "      <th>item_컴퓨터</th>\n",
       "    </tr>\n",
       "  </thead>\n",
       "  <tbody>\n",
       "    <tr>\n",
       "      <th>0</th>\n",
       "      <td>1</td>\n",
       "      <td>0</td>\n",
       "      <td>0</td>\n",
       "      <td>0</td>\n",
       "      <td>0</td>\n",
       "      <td>0</td>\n",
       "    </tr>\n",
       "    <tr>\n",
       "      <th>1</th>\n",
       "      <td>0</td>\n",
       "      <td>1</td>\n",
       "      <td>0</td>\n",
       "      <td>0</td>\n",
       "      <td>0</td>\n",
       "      <td>0</td>\n",
       "    </tr>\n",
       "    <tr>\n",
       "      <th>2</th>\n",
       "      <td>0</td>\n",
       "      <td>0</td>\n",
       "      <td>0</td>\n",
       "      <td>0</td>\n",
       "      <td>1</td>\n",
       "      <td>0</td>\n",
       "    </tr>\n",
       "    <tr>\n",
       "      <th>3</th>\n",
       "      <td>0</td>\n",
       "      <td>0</td>\n",
       "      <td>0</td>\n",
       "      <td>0</td>\n",
       "      <td>0</td>\n",
       "      <td>1</td>\n",
       "    </tr>\n",
       "    <tr>\n",
       "      <th>4</th>\n",
       "      <td>0</td>\n",
       "      <td>0</td>\n",
       "      <td>0</td>\n",
       "      <td>1</td>\n",
       "      <td>0</td>\n",
       "      <td>0</td>\n",
       "    </tr>\n",
       "    <tr>\n",
       "      <th>5</th>\n",
       "      <td>0</td>\n",
       "      <td>0</td>\n",
       "      <td>0</td>\n",
       "      <td>1</td>\n",
       "      <td>0</td>\n",
       "      <td>0</td>\n",
       "    </tr>\n",
       "    <tr>\n",
       "      <th>6</th>\n",
       "      <td>0</td>\n",
       "      <td>0</td>\n",
       "      <td>1</td>\n",
       "      <td>0</td>\n",
       "      <td>0</td>\n",
       "      <td>0</td>\n",
       "    </tr>\n",
       "    <tr>\n",
       "      <th>7</th>\n",
       "      <td>0</td>\n",
       "      <td>0</td>\n",
       "      <td>1</td>\n",
       "      <td>0</td>\n",
       "      <td>0</td>\n",
       "      <td>0</td>\n",
       "    </tr>\n",
       "  </tbody>\n",
       "</table>\n",
       "</div>"
      ],
      "text/plain": [
       "   item_TV  item_냉장고  item_믹서  item_선풍기  item_전자렌지  item_컴퓨터\n",
       "0        1         0        0         0          0         0\n",
       "1        0         1        0         0          0         0\n",
       "2        0         0        0         0          1         0\n",
       "3        0         0        0         0          0         1\n",
       "4        0         0        0         1          0         0\n",
       "5        0         0        0         1          0         0\n",
       "6        0         0        1         0          0         0\n",
       "7        0         0        1         0          0         0"
      ]
     },
     "execution_count": 27,
     "metadata": {},
     "output_type": "execute_result"
    }
   ],
   "source": [
    "df = pd.DataFrame({'item':['TV','냉장고','전자렌지','컴퓨터','선풍기','선풍기','믹서','믹서']})\n",
    "df\n",
    "\n",
    "pd.get_dummies(df) # 칼럼을 새로 만들어줌 "
   ]
  },
  {
   "cell_type": "markdown",
   "id": "6bb9148d",
   "metadata": {},
   "source": [
    "### (2) Feature Scaling\n",
    "+ 알고리즘을 했을 썼는데 성능이 나오지 않는다 이때 써 볼 수 있음\n",
    "+ 단위가 맞지 않을때\n",
    "+ 표준화 : (Xi - mean(X)) / sd(X)  --> 오차를 표준편차로 나눠준값\n",
    "+ 정규화 : (Xi - mead(x)) / (max(X) - min(X)) --> 최댓값 최솟값으로 오차를 나눠주는\n"
   ]
  },
  {
   "cell_type": "markdown",
   "id": "eecc5470",
   "metadata": {},
   "source": [
    "#### 1). StandardScaler"
   ]
  },
  {
   "cell_type": "code",
   "execution_count": 28,
   "id": "332aadc7",
   "metadata": {},
   "outputs": [
    {
     "data": {
      "text/html": [
       "<div>\n",
       "<style scoped>\n",
       "    .dataframe tbody tr th:only-of-type {\n",
       "        vertical-align: middle;\n",
       "    }\n",
       "\n",
       "    .dataframe tbody tr th {\n",
       "        vertical-align: top;\n",
       "    }\n",
       "\n",
       "    .dataframe thead th {\n",
       "        text-align: right;\n",
       "    }\n",
       "</style>\n",
       "<table border=\"1\" class=\"dataframe\">\n",
       "  <thead>\n",
       "    <tr style=\"text-align: right;\">\n",
       "      <th></th>\n",
       "      <th>sepal length (cm)</th>\n",
       "      <th>sepal width (cm)</th>\n",
       "      <th>petal length (cm)</th>\n",
       "      <th>petal width (cm)</th>\n",
       "    </tr>\n",
       "  </thead>\n",
       "  <tbody>\n",
       "    <tr>\n",
       "      <th>0</th>\n",
       "      <td>5.1</td>\n",
       "      <td>3.5</td>\n",
       "      <td>1.4</td>\n",
       "      <td>0.2</td>\n",
       "    </tr>\n",
       "    <tr>\n",
       "      <th>1</th>\n",
       "      <td>4.9</td>\n",
       "      <td>3.0</td>\n",
       "      <td>1.4</td>\n",
       "      <td>0.2</td>\n",
       "    </tr>\n",
       "    <tr>\n",
       "      <th>2</th>\n",
       "      <td>4.7</td>\n",
       "      <td>3.2</td>\n",
       "      <td>1.3</td>\n",
       "      <td>0.2</td>\n",
       "    </tr>\n",
       "    <tr>\n",
       "      <th>3</th>\n",
       "      <td>4.6</td>\n",
       "      <td>3.1</td>\n",
       "      <td>1.5</td>\n",
       "      <td>0.2</td>\n",
       "    </tr>\n",
       "    <tr>\n",
       "      <th>4</th>\n",
       "      <td>5.0</td>\n",
       "      <td>3.6</td>\n",
       "      <td>1.4</td>\n",
       "      <td>0.2</td>\n",
       "    </tr>\n",
       "    <tr>\n",
       "      <th>...</th>\n",
       "      <td>...</td>\n",
       "      <td>...</td>\n",
       "      <td>...</td>\n",
       "      <td>...</td>\n",
       "    </tr>\n",
       "    <tr>\n",
       "      <th>145</th>\n",
       "      <td>6.7</td>\n",
       "      <td>3.0</td>\n",
       "      <td>5.2</td>\n",
       "      <td>2.3</td>\n",
       "    </tr>\n",
       "    <tr>\n",
       "      <th>146</th>\n",
       "      <td>6.3</td>\n",
       "      <td>2.5</td>\n",
       "      <td>5.0</td>\n",
       "      <td>1.9</td>\n",
       "    </tr>\n",
       "    <tr>\n",
       "      <th>147</th>\n",
       "      <td>6.5</td>\n",
       "      <td>3.0</td>\n",
       "      <td>5.2</td>\n",
       "      <td>2.0</td>\n",
       "    </tr>\n",
       "    <tr>\n",
       "      <th>148</th>\n",
       "      <td>6.2</td>\n",
       "      <td>3.4</td>\n",
       "      <td>5.4</td>\n",
       "      <td>2.3</td>\n",
       "    </tr>\n",
       "    <tr>\n",
       "      <th>149</th>\n",
       "      <td>5.9</td>\n",
       "      <td>3.0</td>\n",
       "      <td>5.1</td>\n",
       "      <td>1.8</td>\n",
       "    </tr>\n",
       "  </tbody>\n",
       "</table>\n",
       "<p>150 rows × 4 columns</p>\n",
       "</div>"
      ],
      "text/plain": [
       "     sepal length (cm)  sepal width (cm)  petal length (cm)  petal width (cm)\n",
       "0                  5.1               3.5                1.4               0.2\n",
       "1                  4.9               3.0                1.4               0.2\n",
       "2                  4.7               3.2                1.3               0.2\n",
       "3                  4.6               3.1                1.5               0.2\n",
       "4                  5.0               3.6                1.4               0.2\n",
       "..                 ...               ...                ...               ...\n",
       "145                6.7               3.0                5.2               2.3\n",
       "146                6.3               2.5                5.0               1.9\n",
       "147                6.5               3.0                5.2               2.0\n",
       "148                6.2               3.4                5.4               2.3\n",
       "149                5.9               3.0                5.1               1.8\n",
       "\n",
       "[150 rows x 4 columns]"
      ]
     },
     "execution_count": 28,
     "metadata": {},
     "output_type": "execute_result"
    }
   ],
   "source": [
    "iris = load_iris()\n",
    "df = pd.DataFrame(data=iris.data,columns=iris.feature_names)\n",
    "df"
   ]
  },
  {
   "cell_type": "code",
   "execution_count": 30,
   "id": "b5111939",
   "metadata": {},
   "outputs": [
    {
     "name": "stdout",
     "output_type": "stream",
     "text": [
      "feature들의 평균: \n",
      " sepal length (cm)    5.843333\n",
      "sepal width (cm)     3.057333\n",
      "petal length (cm)    3.758000\n",
      "petal width (cm)     1.199333\n",
      "dtype: float64\n",
      "-------------------------------\n",
      "feature들의 분산: \n",
      " sepal length (cm)    0.685694\n",
      "sepal width (cm)     0.189979\n",
      "petal length (cm)    3.116278\n",
      "petal width (cm)     0.581006\n",
      "dtype: float64\n"
     ]
    }
   ],
   "source": [
    "print('feature들의 평균: \\n',df.mean())\n",
    "print('-------------------------------')\n",
    "print('feature들의 분산: \\n',df.var())"
   ]
  },
  {
   "cell_type": "code",
   "execution_count": 31,
   "id": "bd541141",
   "metadata": {},
   "outputs": [],
   "source": [
    "from sklearn.preprocessing import StandardScaler\n"
   ]
  },
  {
   "cell_type": "code",
   "execution_count": 34,
   "id": "36a2b6fb",
   "metadata": {},
   "outputs": [],
   "source": [
    "scaler = StandardScaler()\n",
    "scaler.fit(df)\n",
    "iris_scaled= scaler.transform(df)"
   ]
  },
  {
   "cell_type": "code",
   "execution_count": 35,
   "id": "475436ec",
   "metadata": {},
   "outputs": [
    {
     "data": {
      "text/plain": [
       "array([[-9.00681170e-01,  1.01900435e+00, -1.34022653e+00,\n",
       "        -1.31544430e+00],\n",
       "       [-1.14301691e+00, -1.31979479e-01, -1.34022653e+00,\n",
       "        -1.31544430e+00],\n",
       "       [-1.38535265e+00,  3.28414053e-01, -1.39706395e+00,\n",
       "        -1.31544430e+00],\n",
       "       [-1.50652052e+00,  9.82172869e-02, -1.28338910e+00,\n",
       "        -1.31544430e+00],\n",
       "       [-1.02184904e+00,  1.24920112e+00, -1.34022653e+00,\n",
       "        -1.31544430e+00],\n",
       "       [-5.37177559e-01,  1.93979142e+00, -1.16971425e+00,\n",
       "        -1.05217993e+00],\n",
       "       [-1.50652052e+00,  7.88807586e-01, -1.34022653e+00,\n",
       "        -1.18381211e+00],\n",
       "       [-1.02184904e+00,  7.88807586e-01, -1.28338910e+00,\n",
       "        -1.31544430e+00],\n",
       "       [-1.74885626e+00, -3.62176246e-01, -1.34022653e+00,\n",
       "        -1.31544430e+00],\n",
       "       [-1.14301691e+00,  9.82172869e-02, -1.28338910e+00,\n",
       "        -1.44707648e+00],\n",
       "       [-5.37177559e-01,  1.47939788e+00, -1.28338910e+00,\n",
       "        -1.31544430e+00],\n",
       "       [-1.26418478e+00,  7.88807586e-01, -1.22655167e+00,\n",
       "        -1.31544430e+00],\n",
       "       [-1.26418478e+00, -1.31979479e-01, -1.34022653e+00,\n",
       "        -1.44707648e+00],\n",
       "       [-1.87002413e+00, -1.31979479e-01, -1.51073881e+00,\n",
       "        -1.44707648e+00],\n",
       "       [-5.25060772e-02,  2.16998818e+00, -1.45390138e+00,\n",
       "        -1.31544430e+00],\n",
       "       [-1.73673948e-01,  3.09077525e+00, -1.28338910e+00,\n",
       "        -1.05217993e+00],\n",
       "       [-5.37177559e-01,  1.93979142e+00, -1.39706395e+00,\n",
       "        -1.05217993e+00],\n",
       "       [-9.00681170e-01,  1.01900435e+00, -1.34022653e+00,\n",
       "        -1.18381211e+00],\n",
       "       [-1.73673948e-01,  1.70959465e+00, -1.16971425e+00,\n",
       "        -1.18381211e+00],\n",
       "       [-9.00681170e-01,  1.70959465e+00, -1.28338910e+00,\n",
       "        -1.18381211e+00],\n",
       "       [-5.37177559e-01,  7.88807586e-01, -1.16971425e+00,\n",
       "        -1.31544430e+00],\n",
       "       [-9.00681170e-01,  1.47939788e+00, -1.28338910e+00,\n",
       "        -1.05217993e+00],\n",
       "       [-1.50652052e+00,  1.24920112e+00, -1.56757623e+00,\n",
       "        -1.31544430e+00],\n",
       "       [-9.00681170e-01,  5.58610819e-01, -1.16971425e+00,\n",
       "        -9.20547742e-01],\n",
       "       [-1.26418478e+00,  7.88807586e-01, -1.05603939e+00,\n",
       "        -1.31544430e+00],\n",
       "       [-1.02184904e+00, -1.31979479e-01, -1.22655167e+00,\n",
       "        -1.31544430e+00],\n",
       "       [-1.02184904e+00,  7.88807586e-01, -1.22655167e+00,\n",
       "        -1.05217993e+00],\n",
       "       [-7.79513300e-01,  1.01900435e+00, -1.28338910e+00,\n",
       "        -1.31544430e+00],\n",
       "       [-7.79513300e-01,  7.88807586e-01, -1.34022653e+00,\n",
       "        -1.31544430e+00],\n",
       "       [-1.38535265e+00,  3.28414053e-01, -1.22655167e+00,\n",
       "        -1.31544430e+00],\n",
       "       [-1.26418478e+00,  9.82172869e-02, -1.22655167e+00,\n",
       "        -1.31544430e+00],\n",
       "       [-5.37177559e-01,  7.88807586e-01, -1.28338910e+00,\n",
       "        -1.05217993e+00],\n",
       "       [-7.79513300e-01,  2.40018495e+00, -1.28338910e+00,\n",
       "        -1.44707648e+00],\n",
       "       [-4.16009689e-01,  2.63038172e+00, -1.34022653e+00,\n",
       "        -1.31544430e+00],\n",
       "       [-1.14301691e+00,  9.82172869e-02, -1.28338910e+00,\n",
       "        -1.31544430e+00],\n",
       "       [-1.02184904e+00,  3.28414053e-01, -1.45390138e+00,\n",
       "        -1.31544430e+00],\n",
       "       [-4.16009689e-01,  1.01900435e+00, -1.39706395e+00,\n",
       "        -1.31544430e+00],\n",
       "       [-1.14301691e+00,  1.24920112e+00, -1.34022653e+00,\n",
       "        -1.44707648e+00],\n",
       "       [-1.74885626e+00, -1.31979479e-01, -1.39706395e+00,\n",
       "        -1.31544430e+00],\n",
       "       [-9.00681170e-01,  7.88807586e-01, -1.28338910e+00,\n",
       "        -1.31544430e+00],\n",
       "       [-1.02184904e+00,  1.01900435e+00, -1.39706395e+00,\n",
       "        -1.18381211e+00],\n",
       "       [-1.62768839e+00, -1.74335684e+00, -1.39706395e+00,\n",
       "        -1.18381211e+00],\n",
       "       [-1.74885626e+00,  3.28414053e-01, -1.39706395e+00,\n",
       "        -1.31544430e+00],\n",
       "       [-1.02184904e+00,  1.01900435e+00, -1.22655167e+00,\n",
       "        -7.88915558e-01],\n",
       "       [-9.00681170e-01,  1.70959465e+00, -1.05603939e+00,\n",
       "        -1.05217993e+00],\n",
       "       [-1.26418478e+00, -1.31979479e-01, -1.34022653e+00,\n",
       "        -1.18381211e+00],\n",
       "       [-9.00681170e-01,  1.70959465e+00, -1.22655167e+00,\n",
       "        -1.31544430e+00],\n",
       "       [-1.50652052e+00,  3.28414053e-01, -1.34022653e+00,\n",
       "        -1.31544430e+00],\n",
       "       [-6.58345429e-01,  1.47939788e+00, -1.28338910e+00,\n",
       "        -1.31544430e+00],\n",
       "       [-1.02184904e+00,  5.58610819e-01, -1.34022653e+00,\n",
       "        -1.31544430e+00],\n",
       "       [ 1.40150837e+00,  3.28414053e-01,  5.35408562e-01,\n",
       "         2.64141916e-01],\n",
       "       [ 6.74501145e-01,  3.28414053e-01,  4.21733708e-01,\n",
       "         3.95774101e-01],\n",
       "       [ 1.28034050e+00,  9.82172869e-02,  6.49083415e-01,\n",
       "         3.95774101e-01],\n",
       "       [-4.16009689e-01, -1.74335684e+00,  1.37546573e-01,\n",
       "         1.32509732e-01],\n",
       "       [ 7.95669016e-01, -5.92373012e-01,  4.78571135e-01,\n",
       "         3.95774101e-01],\n",
       "       [-1.73673948e-01, -5.92373012e-01,  4.21733708e-01,\n",
       "         1.32509732e-01],\n",
       "       [ 5.53333275e-01,  5.58610819e-01,  5.35408562e-01,\n",
       "         5.27406285e-01],\n",
       "       [-1.14301691e+00, -1.51316008e+00, -2.60315415e-01,\n",
       "        -2.62386821e-01],\n",
       "       [ 9.16836886e-01, -3.62176246e-01,  4.78571135e-01,\n",
       "         1.32509732e-01],\n",
       "       [-7.79513300e-01, -8.22569778e-01,  8.07091462e-02,\n",
       "         2.64141916e-01],\n",
       "       [-1.02184904e+00, -2.43394714e+00, -1.46640561e-01,\n",
       "        -2.62386821e-01],\n",
       "       [ 6.86617933e-02, -1.31979479e-01,  2.51221427e-01,\n",
       "         3.95774101e-01],\n",
       "       [ 1.89829664e-01, -1.97355361e+00,  1.37546573e-01,\n",
       "        -2.62386821e-01],\n",
       "       [ 3.10997534e-01, -3.62176246e-01,  5.35408562e-01,\n",
       "         2.64141916e-01],\n",
       "       [-2.94841818e-01, -3.62176246e-01, -8.98031345e-02,\n",
       "         1.32509732e-01],\n",
       "       [ 1.03800476e+00,  9.82172869e-02,  3.64896281e-01,\n",
       "         2.64141916e-01],\n",
       "       [-2.94841818e-01, -1.31979479e-01,  4.21733708e-01,\n",
       "         3.95774101e-01],\n",
       "       [-5.25060772e-02, -8.22569778e-01,  1.94384000e-01,\n",
       "        -2.62386821e-01],\n",
       "       [ 4.32165405e-01, -1.97355361e+00,  4.21733708e-01,\n",
       "         3.95774101e-01],\n",
       "       [-2.94841818e-01, -1.28296331e+00,  8.07091462e-02,\n",
       "        -1.30754636e-01],\n",
       "       [ 6.86617933e-02,  3.28414053e-01,  5.92245988e-01,\n",
       "         7.90670654e-01],\n",
       "       [ 3.10997534e-01, -5.92373012e-01,  1.37546573e-01,\n",
       "         1.32509732e-01],\n",
       "       [ 5.53333275e-01, -1.28296331e+00,  6.49083415e-01,\n",
       "         3.95774101e-01],\n",
       "       [ 3.10997534e-01, -5.92373012e-01,  5.35408562e-01,\n",
       "         8.77547895e-04],\n",
       "       [ 6.74501145e-01, -3.62176246e-01,  3.08058854e-01,\n",
       "         1.32509732e-01],\n",
       "       [ 9.16836886e-01, -1.31979479e-01,  3.64896281e-01,\n",
       "         2.64141916e-01],\n",
       "       [ 1.15917263e+00, -5.92373012e-01,  5.92245988e-01,\n",
       "         2.64141916e-01],\n",
       "       [ 1.03800476e+00, -1.31979479e-01,  7.05920842e-01,\n",
       "         6.59038469e-01],\n",
       "       [ 1.89829664e-01, -3.62176246e-01,  4.21733708e-01,\n",
       "         3.95774101e-01],\n",
       "       [-1.73673948e-01, -1.05276654e+00, -1.46640561e-01,\n",
       "        -2.62386821e-01],\n",
       "       [-4.16009689e-01, -1.51316008e+00,  2.38717193e-02,\n",
       "        -1.30754636e-01],\n",
       "       [-4.16009689e-01, -1.51316008e+00, -3.29657076e-02,\n",
       "        -2.62386821e-01],\n",
       "       [-5.25060772e-02, -8.22569778e-01,  8.07091462e-02,\n",
       "         8.77547895e-04],\n",
       "       [ 1.89829664e-01, -8.22569778e-01,  7.62758269e-01,\n",
       "         5.27406285e-01],\n",
       "       [-5.37177559e-01, -1.31979479e-01,  4.21733708e-01,\n",
       "         3.95774101e-01],\n",
       "       [ 1.89829664e-01,  7.88807586e-01,  4.21733708e-01,\n",
       "         5.27406285e-01],\n",
       "       [ 1.03800476e+00,  9.82172869e-02,  5.35408562e-01,\n",
       "         3.95774101e-01],\n",
       "       [ 5.53333275e-01, -1.74335684e+00,  3.64896281e-01,\n",
       "         1.32509732e-01],\n",
       "       [-2.94841818e-01, -1.31979479e-01,  1.94384000e-01,\n",
       "         1.32509732e-01],\n",
       "       [-4.16009689e-01, -1.28296331e+00,  1.37546573e-01,\n",
       "         1.32509732e-01],\n",
       "       [-4.16009689e-01, -1.05276654e+00,  3.64896281e-01,\n",
       "         8.77547895e-04],\n",
       "       [ 3.10997534e-01, -1.31979479e-01,  4.78571135e-01,\n",
       "         2.64141916e-01],\n",
       "       [-5.25060772e-02, -1.05276654e+00,  1.37546573e-01,\n",
       "         8.77547895e-04],\n",
       "       [-1.02184904e+00, -1.74335684e+00, -2.60315415e-01,\n",
       "        -2.62386821e-01],\n",
       "       [-2.94841818e-01, -8.22569778e-01,  2.51221427e-01,\n",
       "         1.32509732e-01],\n",
       "       [-1.73673948e-01, -1.31979479e-01,  2.51221427e-01,\n",
       "         8.77547895e-04],\n",
       "       [-1.73673948e-01, -3.62176246e-01,  2.51221427e-01,\n",
       "         1.32509732e-01],\n",
       "       [ 4.32165405e-01, -3.62176246e-01,  3.08058854e-01,\n",
       "         1.32509732e-01],\n",
       "       [-9.00681170e-01, -1.28296331e+00, -4.30827696e-01,\n",
       "        -1.30754636e-01],\n",
       "       [-1.73673948e-01, -5.92373012e-01,  1.94384000e-01,\n",
       "         1.32509732e-01],\n",
       "       [ 5.53333275e-01,  5.58610819e-01,  1.27429511e+00,\n",
       "         1.71209594e+00],\n",
       "       [-5.25060772e-02, -8.22569778e-01,  7.62758269e-01,\n",
       "         9.22302838e-01],\n",
       "       [ 1.52267624e+00, -1.31979479e-01,  1.21745768e+00,\n",
       "         1.18556721e+00],\n",
       "       [ 5.53333275e-01, -3.62176246e-01,  1.04694540e+00,\n",
       "         7.90670654e-01],\n",
       "       [ 7.95669016e-01, -1.31979479e-01,  1.16062026e+00,\n",
       "         1.31719939e+00],\n",
       "       [ 2.12851559e+00, -1.31979479e-01,  1.61531967e+00,\n",
       "         1.18556721e+00],\n",
       "       [-1.14301691e+00, -1.28296331e+00,  4.21733708e-01,\n",
       "         6.59038469e-01],\n",
       "       [ 1.76501198e+00, -3.62176246e-01,  1.44480739e+00,\n",
       "         7.90670654e-01],\n",
       "       [ 1.03800476e+00, -1.28296331e+00,  1.16062026e+00,\n",
       "         7.90670654e-01],\n",
       "       [ 1.64384411e+00,  1.24920112e+00,  1.33113254e+00,\n",
       "         1.71209594e+00],\n",
       "       [ 7.95669016e-01,  3.28414053e-01,  7.62758269e-01,\n",
       "         1.05393502e+00],\n",
       "       [ 6.74501145e-01, -8.22569778e-01,  8.76433123e-01,\n",
       "         9.22302838e-01],\n",
       "       [ 1.15917263e+00, -1.31979479e-01,  9.90107977e-01,\n",
       "         1.18556721e+00],\n",
       "       [-1.73673948e-01, -1.28296331e+00,  7.05920842e-01,\n",
       "         1.05393502e+00],\n",
       "       [-5.25060772e-02, -5.92373012e-01,  7.62758269e-01,\n",
       "         1.58046376e+00],\n",
       "       [ 6.74501145e-01,  3.28414053e-01,  8.76433123e-01,\n",
       "         1.44883158e+00],\n",
       "       [ 7.95669016e-01, -1.31979479e-01,  9.90107977e-01,\n",
       "         7.90670654e-01],\n",
       "       [ 2.24968346e+00,  1.70959465e+00,  1.67215710e+00,\n",
       "         1.31719939e+00],\n",
       "       [ 2.24968346e+00, -1.05276654e+00,  1.78583195e+00,\n",
       "         1.44883158e+00],\n",
       "       [ 1.89829664e-01, -1.97355361e+00,  7.05920842e-01,\n",
       "         3.95774101e-01],\n",
       "       [ 1.28034050e+00,  3.28414053e-01,  1.10378283e+00,\n",
       "         1.44883158e+00],\n",
       "       [-2.94841818e-01, -5.92373012e-01,  6.49083415e-01,\n",
       "         1.05393502e+00],\n",
       "       [ 2.24968346e+00, -5.92373012e-01,  1.67215710e+00,\n",
       "         1.05393502e+00],\n",
       "       [ 5.53333275e-01, -8.22569778e-01,  6.49083415e-01,\n",
       "         7.90670654e-01],\n",
       "       [ 1.03800476e+00,  5.58610819e-01,  1.10378283e+00,\n",
       "         1.18556721e+00],\n",
       "       [ 1.64384411e+00,  3.28414053e-01,  1.27429511e+00,\n",
       "         7.90670654e-01],\n",
       "       [ 4.32165405e-01, -5.92373012e-01,  5.92245988e-01,\n",
       "         7.90670654e-01],\n",
       "       [ 3.10997534e-01, -1.31979479e-01,  6.49083415e-01,\n",
       "         7.90670654e-01],\n",
       "       [ 6.74501145e-01, -5.92373012e-01,  1.04694540e+00,\n",
       "         1.18556721e+00],\n",
       "       [ 1.64384411e+00, -1.31979479e-01,  1.16062026e+00,\n",
       "         5.27406285e-01],\n",
       "       [ 1.88617985e+00, -5.92373012e-01,  1.33113254e+00,\n",
       "         9.22302838e-01],\n",
       "       [ 2.49201920e+00,  1.70959465e+00,  1.50164482e+00,\n",
       "         1.05393502e+00],\n",
       "       [ 6.74501145e-01, -5.92373012e-01,  1.04694540e+00,\n",
       "         1.31719939e+00],\n",
       "       [ 5.53333275e-01, -5.92373012e-01,  7.62758269e-01,\n",
       "         3.95774101e-01],\n",
       "       [ 3.10997534e-01, -1.05276654e+00,  1.04694540e+00,\n",
       "         2.64141916e-01],\n",
       "       [ 2.24968346e+00, -1.31979479e-01,  1.33113254e+00,\n",
       "         1.44883158e+00],\n",
       "       [ 5.53333275e-01,  7.88807586e-01,  1.04694540e+00,\n",
       "         1.58046376e+00],\n",
       "       [ 6.74501145e-01,  9.82172869e-02,  9.90107977e-01,\n",
       "         7.90670654e-01],\n",
       "       [ 1.89829664e-01, -1.31979479e-01,  5.92245988e-01,\n",
       "         7.90670654e-01],\n",
       "       [ 1.28034050e+00,  9.82172869e-02,  9.33270550e-01,\n",
       "         1.18556721e+00],\n",
       "       [ 1.03800476e+00,  9.82172869e-02,  1.04694540e+00,\n",
       "         1.58046376e+00],\n",
       "       [ 1.28034050e+00,  9.82172869e-02,  7.62758269e-01,\n",
       "         1.44883158e+00],\n",
       "       [-5.25060772e-02, -8.22569778e-01,  7.62758269e-01,\n",
       "         9.22302838e-01],\n",
       "       [ 1.15917263e+00,  3.28414053e-01,  1.21745768e+00,\n",
       "         1.44883158e+00],\n",
       "       [ 1.03800476e+00,  5.58610819e-01,  1.10378283e+00,\n",
       "         1.71209594e+00],\n",
       "       [ 1.03800476e+00, -1.31979479e-01,  8.19595696e-01,\n",
       "         1.44883158e+00],\n",
       "       [ 5.53333275e-01, -1.28296331e+00,  7.05920842e-01,\n",
       "         9.22302838e-01],\n",
       "       [ 7.95669016e-01, -1.31979479e-01,  8.19595696e-01,\n",
       "         1.05393502e+00],\n",
       "       [ 4.32165405e-01,  7.88807586e-01,  9.33270550e-01,\n",
       "         1.44883158e+00],\n",
       "       [ 6.86617933e-02, -1.31979479e-01,  7.62758269e-01,\n",
       "         7.90670654e-01]])"
      ]
     },
     "execution_count": 35,
     "metadata": {},
     "output_type": "execute_result"
    }
   ],
   "source": [
    "iris_scaled"
   ]
  },
  {
   "cell_type": "code",
   "execution_count": 37,
   "id": "9f588063",
   "metadata": {},
   "outputs": [
    {
     "name": "stdout",
     "output_type": "stream",
     "text": [
      "feature들의 평균: \n",
      " sepal length (cm)   -1.690315e-15\n",
      "sepal width (cm)    -1.842970e-15\n",
      "petal length (cm)   -1.698641e-15\n",
      "petal width (cm)    -1.409243e-15\n",
      "dtype: float64\n",
      "-------------------------------\n",
      "feature들의 분산: \n",
      " sepal length (cm)    1.006711\n",
      "sepal width (cm)     1.006711\n",
      "petal length (cm)    1.006711\n",
      "petal width (cm)     1.006711\n",
      "dtype: float64\n"
     ]
    }
   ],
   "source": [
    "df_scaled = pd.DataFrame(data=iris_scaled, columns=iris.feature_names)\n",
    "print('feature들의 평균: \\n',df_scaled.mean())\n",
    "print('-------------------------------')\n",
    "print('feature들의 분산: \\n',df_scaled.var())"
   ]
  },
  {
   "cell_type": "markdown",
   "id": "6dacd198",
   "metadata": {},
   "source": [
    "#### 2) MinMaxScaler"
   ]
  },
  {
   "cell_type": "code",
   "execution_count": 38,
   "id": "7813386e",
   "metadata": {},
   "outputs": [],
   "source": [
    "from sklearn.preprocessing import MinMaxScaler\n"
   ]
  },
  {
   "cell_type": "code",
   "execution_count": 39,
   "id": "cc4d0549",
   "metadata": {},
   "outputs": [],
   "source": [
    "scaler = MinMaxScaler()\n",
    "scaler.fit(df)\n",
    "iris_scaled= scaler.transform(df)"
   ]
  },
  {
   "cell_type": "code",
   "execution_count": 40,
   "id": "31d69ca0",
   "metadata": {},
   "outputs": [
    {
     "name": "stdout",
     "output_type": "stream",
     "text": [
      "feature들의 최소값: \n",
      " sepal length (cm)    0.0\n",
      "sepal width (cm)     0.0\n",
      "petal length (cm)    0.0\n",
      "petal width (cm)     0.0\n",
      "dtype: float64\n",
      "-------------------------------\n",
      "feature들의 최대값: \n",
      " sepal length (cm)    1.0\n",
      "sepal width (cm)     1.0\n",
      "petal length (cm)    1.0\n",
      "petal width (cm)     1.0\n",
      "dtype: float64\n"
     ]
    }
   ],
   "source": [
    "df_scaled = pd.DataFrame(data=iris_scaled, columns=iris.feature_names)\n",
    "print('feature들의 최소값: \\n',df_scaled.min())\n",
    "print('-------------------------------')\n",
    "print('feature들의 최대값: \\n',df_scaled.max())"
   ]
  },
  {
   "cell_type": "markdown",
   "id": "950b3268",
   "metadata": {},
   "source": [
    "#### 3) Scaling 할때 주의점.\n",
    "\n"
   ]
  },
  {
   "cell_type": "code",
   "execution_count": 47,
   "id": "fd81dc06",
   "metadata": {},
   "outputs": [
    {
     "name": "stdout",
     "output_type": "stream",
     "text": [
      "[[ 0]\n",
      " [ 1]\n",
      " [ 2]\n",
      " [ 3]\n",
      " [ 4]\n",
      " [ 5]\n",
      " [ 6]\n",
      " [ 7]\n",
      " [ 8]\n",
      " [ 9]\n",
      " [10]]\n",
      "[[0]\n",
      " [1]\n",
      " [2]\n",
      " [3]\n",
      " [4]\n",
      " [5]]\n"
     ]
    }
   ],
   "source": [
    "train_data = np.arange(0,11).reshape(-1,1)\n",
    "test_data = np.arange(0,6).reshape(-1,1)\n",
    "\n",
    "print(train_data)\n",
    "print(test_data)"
   ]
  },
  {
   "cell_type": "code",
   "execution_count": 53,
   "id": "c9f81f6e",
   "metadata": {},
   "outputs": [
    {
     "ename": "TypeError",
     "evalue": "fit() missing 1 required positional argument: 'X'",
     "output_type": "error",
     "traceback": [
      "\u001b[1;31m---------------------------------------------------------------------------\u001b[0m",
      "\u001b[1;31mTypeError\u001b[0m                                 Traceback (most recent call last)",
      "\u001b[1;32m<ipython-input-53-5661c93dd04a>\u001b[0m in \u001b[0;36m<module>\u001b[1;34m\u001b[0m\n\u001b[0;32m      1\u001b[0m \u001b[1;31m# 크기를 조절해야하니까 minmaxscaler\u001b[0m\u001b[1;33m\u001b[0m\u001b[1;33m\u001b[0m\u001b[1;33m\u001b[0m\u001b[0m\n\u001b[0;32m      2\u001b[0m \u001b[0mscaler\u001b[0m\u001b[1;33m=\u001b[0m \u001b[0mMinMaxScaler\u001b[0m\u001b[1;33m\u001b[0m\u001b[1;33m\u001b[0m\u001b[0m\n\u001b[1;32m----> 3\u001b[1;33m \u001b[0mscaler\u001b[0m\u001b[1;33m.\u001b[0m\u001b[0mfit\u001b[0m\u001b[1;33m(\u001b[0m\u001b[0mtrain_data\u001b[0m\u001b[1;33m)\u001b[0m\u001b[1;33m\u001b[0m\u001b[1;33m\u001b[0m\u001b[0m\n\u001b[0m\u001b[0;32m      4\u001b[0m \u001b[0mtrain_scaled\u001b[0m \u001b[1;33m=\u001b[0m \u001b[0mscaler\u001b[0m\u001b[1;33m.\u001b[0m\u001b[0mtransform\u001b[0m\u001b[1;33m(\u001b[0m\u001b[0mtrain_data\u001b[0m\u001b[1;33m)\u001b[0m\u001b[1;33m\u001b[0m\u001b[1;33m\u001b[0m\u001b[0m\n\u001b[0;32m      5\u001b[0m \u001b[1;33m\u001b[0m\u001b[0m\n",
      "\u001b[1;31mTypeError\u001b[0m: fit() missing 1 required positional argument: 'X'"
     ]
    }
   ],
   "source": [
    "# 크기를 조절해야하니까 minmaxscaler \n",
    "scaler= MinMaxScaler\n",
    "scaler.fit(train_data)\n",
    "train_scaled = scaler.transform(train_data)\n",
    "\n",
    "print('원본 :', train_data.reshape(-1))\n",
    "print('스케일 :', train_scaled.reshape(-1))"
   ]
  },
  {
   "cell_type": "code",
   "execution_count": 52,
   "id": "d2dca596",
   "metadata": {},
   "outputs": [
    {
     "ename": "TypeError",
     "evalue": "fit() missing 1 required positional argument: 'X'",
     "output_type": "error",
     "traceback": [
      "\u001b[1;31m---------------------------------------------------------------------------\u001b[0m",
      "\u001b[1;31mTypeError\u001b[0m                                 Traceback (most recent call last)",
      "\u001b[1;32m<ipython-input-52-aa9a2934bc24>\u001b[0m in \u001b[0;36m<module>\u001b[1;34m\u001b[0m\n\u001b[1;32m----> 1\u001b[1;33m \u001b[0mscaler\u001b[0m\u001b[1;33m.\u001b[0m\u001b[0mfit\u001b[0m\u001b[1;33m(\u001b[0m\u001b[0mtest_data\u001b[0m\u001b[1;33m)\u001b[0m\u001b[1;33m\u001b[0m\u001b[1;33m\u001b[0m\u001b[0m\n\u001b[0m\u001b[0;32m      2\u001b[0m \u001b[0mtest_scaled\u001b[0m \u001b[1;33m=\u001b[0m \u001b[0mscaler\u001b[0m\u001b[1;33m.\u001b[0m\u001b[0mtransform\u001b[0m\u001b[1;33m(\u001b[0m\u001b[0mtest_data\u001b[0m\u001b[1;33m)\u001b[0m\u001b[1;33m\u001b[0m\u001b[1;33m\u001b[0m\u001b[0m\n\u001b[0;32m      3\u001b[0m \u001b[1;33m\u001b[0m\u001b[0m\n\u001b[0;32m      4\u001b[0m \u001b[0mprint\u001b[0m\u001b[1;33m(\u001b[0m\u001b[1;34m'원본 :'\u001b[0m\u001b[1;33m,\u001b[0m \u001b[0mtest_data\u001b[0m\u001b[1;33m.\u001b[0m\u001b[0mreshape\u001b[0m\u001b[1;33m(\u001b[0m\u001b[1;33m-\u001b[0m\u001b[1;36m1\u001b[0m\u001b[1;33m)\u001b[0m\u001b[1;33m)\u001b[0m\u001b[1;33m\u001b[0m\u001b[1;33m\u001b[0m\u001b[0m\n\u001b[0;32m      5\u001b[0m \u001b[0mprint\u001b[0m\u001b[1;33m(\u001b[0m\u001b[1;34m'스케일 :'\u001b[0m\u001b[1;33m,\u001b[0m \u001b[0mtest_scaled\u001b[0m\u001b[1;33m.\u001b[0m\u001b[0mreshape\u001b[0m\u001b[1;33m(\u001b[0m\u001b[1;33m-\u001b[0m\u001b[1;36m1\u001b[0m\u001b[1;33m)\u001b[0m\u001b[1;33m)\u001b[0m\u001b[1;33m\u001b[0m\u001b[1;33m\u001b[0m\u001b[0m\n",
      "\u001b[1;31mTypeError\u001b[0m: fit() missing 1 required positional argument: 'X'"
     ]
    }
   ],
   "source": [
    "scaler.fit(test_data)\n",
    "test_scaled = scaler.transform(test_data)\n",
    "\n",
    "print('원본 :', test_data.reshape(-1))\n",
    "print('스케일 :', test_scaled.reshape(-1))"
   ]
  },
  {
   "cell_type": "code",
   "execution_count": 55,
   "id": "505580e8",
   "metadata": {},
   "outputs": [
    {
     "ename": "TypeError",
     "evalue": "fit() missing 1 required positional argument: 'X'",
     "output_type": "error",
     "traceback": [
      "\u001b[1;31m---------------------------------------------------------------------------\u001b[0m",
      "\u001b[1;31mTypeError\u001b[0m                                 Traceback (most recent call last)",
      "\u001b[1;32m<ipython-input-55-fb57dc10afa7>\u001b[0m in \u001b[0;36m<module>\u001b[1;34m\u001b[0m\n\u001b[0;32m      1\u001b[0m \u001b[1;31m#y test의 스케일링 범위가 달라져서 즉 test data는 훈련을 시키면 안됨\u001b[0m\u001b[1;33m\u001b[0m\u001b[1;33m\u001b[0m\u001b[1;33m\u001b[0m\u001b[0m\n\u001b[0;32m      2\u001b[0m \u001b[0mscaler\u001b[0m\u001b[1;33m=\u001b[0m \u001b[0mMinMaxScaler\u001b[0m\u001b[1;33m\u001b[0m\u001b[1;33m\u001b[0m\u001b[0m\n\u001b[1;32m----> 3\u001b[1;33m \u001b[0mscaler\u001b[0m\u001b[1;33m.\u001b[0m\u001b[0mfit\u001b[0m\u001b[1;33m(\u001b[0m\u001b[0mtrain_data\u001b[0m\u001b[1;33m)\u001b[0m\u001b[1;33m\u001b[0m\u001b[1;33m\u001b[0m\u001b[0m\n\u001b[0m\u001b[0;32m      4\u001b[0m \u001b[0mtrain_scaled\u001b[0m \u001b[1;33m=\u001b[0m \u001b[0mscaler\u001b[0m\u001b[1;33m.\u001b[0m\u001b[0mtransform\u001b[0m\u001b[1;33m(\u001b[0m\u001b[0mtrain_data\u001b[0m\u001b[1;33m)\u001b[0m\u001b[1;33m\u001b[0m\u001b[1;33m\u001b[0m\u001b[0m\n\u001b[0;32m      5\u001b[0m \u001b[1;33m\u001b[0m\u001b[0m\n",
      "\u001b[1;31mTypeError\u001b[0m: fit() missing 1 required positional argument: 'X'"
     ]
    }
   ],
   "source": [
    "#y test의 스케일링 범위가 달라져서 즉 test data는 훈련을 시키면 안됨\n",
    "scaler= MinMaxScaler\n",
    "scaler.fit(train_data)\n",
    "train_scaled = scaler.transform(train_data)\n",
    "\n",
    "print('원본 :', train_data.reshape(-1))\n",
    "print('스케일 :', train_scaled.reshape(-1))\n",
    "\n",
    "\n",
    "test_scaled = scaler.transform(test_data)\n",
    "\n",
    "print('원본 :', test_data.reshape(-1))\n",
    "print('스케일 :', test_scaled.reshape(-1))"
   ]
  },
  {
   "cell_type": "code",
   "execution_count": 56,
   "id": "d602f68d",
   "metadata": {},
   "outputs": [
    {
     "name": "stdout",
     "output_type": "stream",
     "text": [
      "원본 :  [ 0  1  2  3  4  5  6  7  8  9 10]\n",
      "스케일 :  [0.  0.1 0.2 0.3 0.4 0.5 0.6 0.7 0.8 0.9 1. ]\n",
      "------------------------------------------------------------\n",
      "원본 :  [0 1 2 3 4 5]\n",
      "스케일 :  [0.  0.2 0.4 0.6 0.8 1. ]\n"
     ]
    }
   ],
   "source": [
    "\n",
    "scaler = MinMaxScaler()\n",
    "scaler.fit(train_data)\n",
    "train_scaled = scaler.transform(train_data)\n",
    "\n",
    "print(\"원본 : \", train_data.reshape(-1))\n",
    "print(\"스케일 : \", train_scaled.reshape(-1))\n",
    "\n",
    "print(\"------------------------------------------------------------\")\n",
    "\n",
    "scaler.fit(test_data)\n",
    "test_scaled = scaler.transform(test_data)\n",
    "\n",
    "print(\"원본 : \", test_data.reshape(-1))\n",
    "print(\"스케일 : \", test_scaled.reshape(-1))"
   ]
  },
  {
   "cell_type": "code",
   "execution_count": 57,
   "id": "4fc59e48",
   "metadata": {},
   "outputs": [
    {
     "name": "stdout",
     "output_type": "stream",
     "text": [
      "원본 :  [ 0  1  2  3  4  5  6  7  8  9 10]\n",
      "스케일 :  [0.  0.1 0.2 0.3 0.4 0.5 0.6 0.7 0.8 0.9 1. ]\n",
      "------------------------------------------------------------\n",
      "원본 :  [0 1 2 3 4 5]\n",
      "스케일 :  [0.  0.1 0.2 0.3 0.4 0.5]\n"
     ]
    }
   ],
   "source": [
    "scaler = MinMaxScaler()\n",
    "scaler.fit(train_data)\n",
    "train_scaled = scaler.transform(train_data)\n",
    "\n",
    "print(\"원본 : \", train_data.reshape(-1))\n",
    "print(\"스케일 : \", train_scaled.reshape(-1))\n",
    "\n",
    "print(\"------------------------------------------------------------\")\n",
    "\n",
    "test_scaled = scaler.transform(test_data)\n",
    "\n",
    "print(\"원본 : \", test_data.reshape(-1))\n",
    "print(\"스케일 : \", test_scaled.reshape(-1))\n"
   ]
  },
  {
   "cell_type": "code",
   "execution_count": null,
   "id": "fb8c1709",
   "metadata": {},
   "outputs": [],
   "source": []
  },
  {
   "cell_type": "code",
   "execution_count": null,
   "id": "785d0e18",
   "metadata": {},
   "outputs": [],
   "source": []
  },
  {
   "cell_type": "code",
   "execution_count": null,
   "id": "65418d43",
   "metadata": {},
   "outputs": [],
   "source": []
  },
  {
   "cell_type": "code",
   "execution_count": null,
   "id": "2a7b653f",
   "metadata": {},
   "outputs": [],
   "source": []
  },
  {
   "cell_type": "code",
   "execution_count": null,
   "id": "77ba1002",
   "metadata": {},
   "outputs": [],
   "source": []
  }
 ],
 "metadata": {
  "kernelspec": {
   "display_name": "Python 3",
   "language": "python",
   "name": "python3"
  },
  "language_info": {
   "codemirror_mode": {
    "name": "ipython",
    "version": 3
   },
   "file_extension": ".py",
   "mimetype": "text/x-python",
   "name": "python",
   "nbconvert_exporter": "python",
   "pygments_lexer": "ipython3",
   "version": "3.8.8"
  }
 },
 "nbformat": 4,
 "nbformat_minor": 5
}
