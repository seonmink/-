{
 "cells": [
  {
   "cell_type": "code",
   "execution_count": 1,
   "id": "c2797e58",
   "metadata": {},
   "outputs": [],
   "source": [
    "import pandas as pd\n",
    "import numpy as np\n",
    "#실제 그래프를 그릴 수 있는 서브 함수\n",
    "import matplotlib.pyplot as plt\n",
    "import seaborn as sns\n",
    "\n",
    "#경고표시 생략(일시적으로 생략하는게 좋음) \n",
    "import warnings\n",
    "warnings.filterwarnings(action='ignore')\n",
    "\n",
    "#한글폰트 지정 \n",
    "import matplotlib.font_manager as fm\n",
    "font_name= fm.FontProperties(fname=\"C:/Windows/Fonts/malgun.ttf\").get_name()\n",
    "plt.rc(\"font\",family=font_name)\n",
    "\n",
    "import matplotlib as mpl\n",
    "mpl.rcParams['axes.unicode_minus']=False\n",
    "\n",
    "# 머신러닝을 위한 모듈 \n",
    "from sklearn.model_selection import train_test_split, cross_val_score,GridSearchCV\n",
    "\n",
    "import mglearn\n",
    "\n",
    "from sklearn.model_selection import KFold \n",
    "from sklearn.neighbors import KNeighborsClassifier\n",
    "from sklearn.metrics import accuracy_score, confusion_matrix,classification_report,roc_curve\n",
    "from sklearn.metrics import precision_score, recall_score\n",
    "from sklearn.datasets import load_breast_cancer, load_boston, load_iris\n",
    "\n",
    "from sklearn.model_selection import StratifiedKFold\n",
    "from sklearn.preprocessing import LabelEncoder\n",
    "from sklearn.preprocessing import OneHotEncoder\n",
    "from sklearn.preprocessing import MinMaxScaler"
   ]
  },
  {
   "cell_type": "code",
   "execution_count": 2,
   "id": "04d8fbe2",
   "metadata": {},
   "outputs": [],
   "source": [
    "from sklearn.linear_model import LinearRegression\n",
    "from sklearn.linear_model import LogisticRegression\n",
    "\n",
    "# LinearSVC 분류알고리즘 중에서도 가장 어렵지만 성공률이 높은 서포프백터머신(SVM)\n",
    "from sklearn.svm import LinearSVC\n",
    "\n",
    "import statsmodels.api as am\n"
   ]
  },
  {
   "cell_type": "markdown",
   "id": "de1441f5",
   "metadata": {},
   "source": [
    "## 1. 선형회귀모델 \n",
    "\n",
    "- hypothesis\n",
    "    - y=w[0]*x[0] + w[1]+x[1]+...+ b\n",
    "    \n",
    "+ 종류 \n",
    "    - 일반 선형회귀 모델\n",
    "    \n",
    "    - 성능이 안나올 때  이 모델들을 사용\n",
    "        - 릿지 선형회귀 모델\n",
    "        - 라쏘 선형회귀 모델 \n",
    "        - 엘라스틱넷 선형회귀 모델 "
   ]
  },
  {
   "cell_type": "code",
   "execution_count": 3,
   "id": "f295c86a",
   "metadata": {},
   "outputs": [
    {
     "name": "stdout",
     "output_type": "stream",
     "text": [
      "w[0]: 0.393906  b: -0.031804\n"
     ]
    },
    {
     "data": {
      "image/png": "[encoded data removed]",
      "text/plain": [
       "<Figure size 576x576 with 1 Axes>"
      ]
     },
     "metadata": {
      "needs_background": "light"
     },
     "output_type": "display_data"
    }
   ],
   "source": [
    "# 선형회귀 예제\n",
    "mglearn.plots.plot_linear_regression_wave()"
   ]
  },
  {
   "cell_type": "code",
   "execution_count": 4,
   "id": "e02443c4",
   "metadata": {},
   "outputs": [],
   "source": [
    "#직접 위 그래프를 그릴 수 있게 머신러닝 코드를 작성해보자\n",
    "X,y=mglearn.datasets.make_wave(n_samples=60)\n",
    "X_train,X_test,y_train,y_test=train_test_split(X,y,random_state=42)"
   ]
  },
  {
   "cell_type": "code",
   "execution_count": 5,
   "id": "8f174f25",
   "metadata": {},
   "outputs": [
    {
     "data": {
      "text/plain": [
       "LinearRegression()"
      ]
     },
     "execution_count": 5,
     "metadata": {},
     "output_type": "execute_result"
    }
   ],
   "source": [
    "from sklearn.linear_model import LinearRegression\n",
    "lr=LinearRegression()\n",
    "lr.fit(X_train, y_train)"
   ]
  },
  {
   "cell_type": "code",
   "execution_count": 6,
   "id": "1064a99f",
   "metadata": {},
   "outputs": [
    {
     "name": "stdout",
     "output_type": "stream",
     "text": [
      "훈련 점수: 0.6700890315075756\n",
      "테스트 점수: 0.65933685968637\n",
      "기울기: [0.39390555],절편:-0.031804343026759746\n"
     ]
    }
   ],
   "source": [
    "print('훈련 점수:',lr.score(X_train,y_train))\n",
    "print('테스트 점수:',lr.score(X_test,y_test))\n",
    "\n",
    "# 회귀선 기울기와 절편 구하기(테스트 점수를 구했으니)\n",
    "print('기울기: {},절편:{}'.format(lr.coef_,lr.intercept_))"
   ]
  },
  {
   "cell_type": "code",
   "execution_count": 7,
   "id": "50a3b8bd",
   "metadata": {},
   "outputs": [
    {
     "data": {
      "text/plain": [
       "LinregressResult(slope=0.39390555116733944, intercept=-0.031804343026759774, rvalue=0.8185896600297219, pvalue=6.4641460612798074e-12, stderr=0.042149264068325865, intercept_stderr=0.07819620564438914)"
      ]
     },
     "execution_count": 7,
     "metadata": {},
     "output_type": "execute_result"
    }
   ],
   "source": [
    "# 통계적 결과와 비교해보기 \n",
    "from scipy import stats #(1차원으로 넣어야함 )\n",
    "result=stats.linregress(X_train.reshape(-1),y_train)\n",
    "result\n",
    "# 머신러닝과 차이가 있음 -> 이건 통계임 "
   ]
  },
  {
   "cell_type": "markdown",
   "id": "80d555e6",
   "metadata": {},
   "source": [
    "### (1) 사례 1: 전기 생산량과 소비량 \n",
    "- 귀무 가설: 전기 생산량과 소비량은 상관관계가 없다.\n",
    "- 대립 가설: 전기 생산량과 소비량은 상관관계가 있다. "
   ]
  },
  {
   "cell_type": "code",
   "execution_count": 8,
   "id": "482219dd",
   "metadata": {},
   "outputs": [],
   "source": [
    "# 월별 전기 사용량(백만 Kwh)\n",
    "y = [2.48, 2.27, 2.47, 2.77, 2.98, 3.05, 3.18, 3.46, 3.03, 3.25, 2.67, 2.53]\n",
    "\n",
    "# 월별 전기 생산금액(억원)\n",
    "X = [3.52, 2.58, 3.31, 4.07, 4.62, 3.98, 4.29, 4.83, 3.71, 4.61, 3.90, 3.20]\n"
   ]
  },
  {
   "cell_type": "code",
   "execution_count": 9,
   "id": "fca5d9d8",
   "metadata": {},
   "outputs": [
    {
     "data": {
      "text/plain": [
       "LinregressResult(slope=0.4956032360182905, intercept=0.9195814280689418, rvalue=0.8929235125385305, pvalue=9.238421943157891e-05, stderr=0.07901935226531728, intercept_stderr=0.3110591892275586)"
      ]
     },
     "execution_count": 9,
     "metadata": {},
     "output_type": "execute_result"
    }
   ],
   "source": [
    "##### 통계적 분석 \n",
    "\n",
    "result = stats.linregress(X,y)\n",
    "result\n",
    "\n",
    "# p값이 pvalue=9.238421943157891e-05 은 0.05보다 작기때문에 대립가설 , 통계에서는 p값이 제일 중요했지만\n",
    "# 그렇다면 머신러닝에서는 기울기가 제일 중요함(slope)"
   ]
  },
  {
   "cell_type": "code",
   "execution_count": 142,
   "id": "d9e12f92",
   "metadata": {},
   "outputs": [
    {
     "name": "stdout",
     "output_type": "stream",
     "text": [
      "기울기: [0.49560324], 절편: 0.919581428068942\n"
     ]
    }
   ],
   "source": [
    "##### 머신러닝으로 돌려보기 \n",
    "# 데이터가 1차원이기 때문에 일단 배열로 바꿔주고 2차원으로 바꿔줘야함. \n",
    "\n",
    "X_arr= np.array(X)\n",
    "X_arr=X_arr.reshape(-1,1)\n",
    "\n",
    "lr = LinearRegression()\n",
    "lr.fit(X_arr,y)\n",
    "print('기울기: {}, 절편: {}'.format(lr.coef_,lr.intercept_))\n"
   ]
  },
  {
   "cell_type": "code",
   "execution_count": 143,
   "id": "ed15682a",
   "metadata": {
    "scrolled": true
   },
   "outputs": [
    {
     "data": {
      "text/plain": [
       "[<matplotlib.lines.Line2D at 0x204d46e19d0>]"
      ]
     },
     "execution_count": 143,
     "metadata": {},
     "output_type": "execute_result"
    },
    {
     "data": {
      "image/png": "[encoded data removed]",
      "text/plain": [
       "<Figure size 432x288 with 1 Axes>"
      ]
     },
     "metadata": {
      "needs_background": "light"
     },
     "output_type": "display_data"
    }
   ],
   "source": [
    "# 회귀선 그려보기 \n",
    "plt.scatter(X,y) # 데이터 뿌리기\n",
    "# 직선의 방정식 \n",
    "plt.plot(X,lr.coef_ * X + lr.intercept_,c='red')"
   ]
  },
  {
   "cell_type": "code",
   "execution_count": 144,
   "id": "128a0d27",
   "metadata": {
    "scrolled": true
   },
   "outputs": [
    {
     "name": "stdout",
     "output_type": "stream",
     "text": [
      "[3.39759761]\n",
      "[3.39759761]\n"
     ]
    }
   ],
   "source": [
    "##### 생산량이 5일때 사용량은 얼마나 될까? -> 이런 대답을 구하기 위해 머신러닝을 하는 것임\n",
    "print(lr.coef_*5+lr.intercept_)\n",
    "print(lr.predict([[5]])) # 원하는 값을 2차원 배열로 넣어 주기만 하면 됨."
   ]
  },
  {
   "cell_type": "code",
   "execution_count": 148,
   "id": "cfa943c1",
   "metadata": {},
   "outputs": [
    {
     "name": "stdout",
     "output_type": "stream",
     "text": [
      "기울기: [0.49560324], 절편: 0.919581428068942\n",
      "상산량 4일 때 사용량 : [2.90199437]\n"
     ]
    },
    {
     "data": {
      "image/png": "[encoded data removed]",
      "text/plain": [
       "<Figure size 432x288 with 1 Axes>"
      ]
     },
     "metadata": {
      "needs_background": "light"
     },
     "output_type": "display_data"
    }
   ],
   "source": [
    "# p값 확인\n",
    "from scipy import stats\n",
    "result = stats.linregress(X,y)\n",
    "\n",
    "#머신러닝\n",
    "X_arr= np.array(X)\n",
    "X_arr=X_arr.reshape(-1,1)\n",
    "lr = LinearRegression()\n",
    "lr.fit(X_arr,y)\n",
    "print('기울기: {}, 절편: {}'.format(lr.coef_,lr.intercept_))\n",
    "\n",
    "#그래프 그리기\n",
    "plt.scatter(X,y) \n",
    "plt.plot(X,lr.coef_ * X + lr.intercept_,c='red')\n",
    "\n",
    "#생산량이 4일때 사용량 \n",
    "print('상산량 4일 때 사용량 :',lr.predict([[4]]))\n",
    "\n"
   ]
  },
  {
   "cell_type": "markdown",
   "id": "1cbe2190",
   "metadata": {},
   "source": [
    "### (2) 사례2 : 보스턴 주택 가격"
   ]
  },
  {
   "cell_type": "code",
   "execution_count": 3,
   "id": "2bacc8f7",
   "metadata": {},
   "outputs": [
    {
     "name": "stdout",
     "output_type": "stream",
     "text": [
      "(506, 13)\n",
      "['CRIM' 'ZN' 'INDUS' 'CHAS' 'NOX' 'RM' 'AGE' 'DIS' 'RAD' 'TAX' 'PTRATIO'\n",
      " 'B' 'LSTAT']\n"
     ]
    }
   ],
   "source": [
    "boston = load_boston()\n",
    "print(boston.data.shape) # 일단 데이터 개수를 확인하기 \n",
    "# print(boston.target)\n",
    "print(boston.feature_names)"
   ]
  },
  {
   "cell_type": "code",
   "execution_count": 6,
   "id": "293b2e4c",
   "metadata": {},
   "outputs": [],
   "source": [
    "# 변수가 적어진다? -> 과소적함, 변수가 적어지면 단순해 지니까\n",
    "# 변수가 많아진다? -> 과적합, 복잡해지니까"
   ]
  },
  {
   "cell_type": "code",
   "execution_count": 4,
   "id": "8ef87960",
   "metadata": {},
   "outputs": [],
   "source": [
    "X_train,X_test,y_train,y_test=train_test_split(boston.data,boston.target,random_state=0)\n",
    "lr = LinearRegression().fit(X_train,y_train)"
   ]
  },
  {
   "cell_type": "code",
   "execution_count": 5,
   "id": "26f13434",
   "metadata": {},
   "outputs": [
    {
     "name": "stdout",
     "output_type": "stream",
     "text": [
      "훈련점수: 0.7697699488741149\n",
      "테스트 점수: 0.6354638433202129\n"
     ]
    }
   ],
   "source": [
    "\n",
    "# 설명 계수 \n",
    "print('훈련점수:',lr.score(X_train,y_train))\n",
    "print('테스트 점수:',lr.score(X_test,y_test))\n",
    "# 과적합의 경향이 보임. 선형 회귀는 하이퍼파라미터 따로 없음. \n",
    "# 이걸을 해결하기 위한 방법이 뭘까?? "
   ]
  },
  {
   "cell_type": "code",
   "execution_count": 32,
   "id": "3f83417e",
   "metadata": {},
   "outputs": [
    {
     "name": "stdout",
     "output_type": "stream",
     "text": [
      "(506, 104)\n",
      "훈련점수: 0.9520519609032729\n",
      "테스트 점수: 0.607472195966585\n"
     ]
    }
   ],
   "source": [
    "# 같은 수의 데이턴데 변수를 늘림 \n",
    "from mglearn.datasets import load_extended_boston\n",
    "\n",
    "X,y = load_extended_boston()\n",
    "print(X.shape)\n",
    "\n",
    "X_train,X_test,y_train,y_test=train_test_split(X,y,random_state=0)\n",
    "lr = LinearRegression().fit(X_train,y_train)\n",
    "\n",
    "print('훈련점수:',lr.score(X_train,y_train))\n",
    "print('테스트 점수:',lr.score(X_test,y_test))\n"
   ]
  },
  {
   "cell_type": "code",
   "execution_count": 33,
   "id": "382c2fed",
   "metadata": {},
   "outputs": [],
   "source": [
    "# 그렇다면 과적합을 해결하기 위한 방법은? - 원래는  데이터 추가확보, 하이퍼파라미터 조절, 데이터 전처리\n",
    "# 선형회귀 분석의 장점은 간단하다는 것."
   ]
  },
  {
   "cell_type": "markdown",
   "id": "044d17dc",
   "metadata": {},
   "source": [
    "### (3) 릿지(ridge) 회귀 모델 \n",
    "\n",
    "+ L2 규제(Regularization) - 단순화기키기 위해, 복잡해지는 것을 규제하겠다 이런것\n",
    "+ MSE 항에 Penelty 항을 추가 \n",
    "+ 알파를 크게하면 페널티의 효과가 커지고, 작게하면 그 반대가 된다. --> 알파가 하이퍼 파라미터\n",
    "+ 모델을 단순하게 해주고 훈련셋에 대한 성능차이를 절충하는 효과"
   ]
  },
  {
   "cell_type": "code",
   "execution_count": 35,
   "id": "d3866bc3",
   "metadata": {},
   "outputs": [
    {
     "name": "stdout",
     "output_type": "stream",
     "text": [
      "훈련점수: 0.8857966585170941\n",
      "테스트 점수: 0.7527683481744755\n"
     ]
    }
   ],
   "source": [
    "from sklearn.linear_model import Ridge\n",
    "\n",
    "ridge = Ridge().fit(X_train,y_train)# alpha = 1.0 디폴트\n",
    "\n",
    "#확실히 좋아짐\n",
    "print('훈련점수:',ridge.score(X_train,y_train))\n",
    "print('테스트 점수:',ridge.score(X_test,y_test))"
   ]
  },
  {
   "cell_type": "code",
   "execution_count": 36,
   "id": "43dd34da",
   "metadata": {},
   "outputs": [
    {
     "name": "stdout",
     "output_type": "stream",
     "text": [
      "훈련점수: 0.7882787115369614\n",
      "테스트 점수: 0.6359411489177311\n"
     ]
    }
   ],
   "source": [
    "ridge10 = Ridge(alpha=10).fit(X_train,y_train)# alpha = 1.0 디폴트\n",
    "\n",
    "# 모델이 더 단순해지긴 하지만 성능도 작아짐 --> gridsearch 와 같이 최적의 파라미터를 찾을 수 있음\n",
    "print('훈련점수:',ridge10.score(X_train,y_train))\n",
    "print('테스트 점수:',ridge10.score(X_test,y_test))"
   ]
  },
  {
   "cell_type": "code",
   "execution_count": 37,
   "id": "9e04ce3e",
   "metadata": {},
   "outputs": [
    {
     "name": "stdout",
     "output_type": "stream",
     "text": [
      "훈련점수: 0.9282273685001987\n",
      "테스트 점수: 0.7722067936479814\n"
     ]
    }
   ],
   "source": [
    "ridge01 = Ridge(alpha=0.1).fit(X_train,y_train)# alpha = 1.0 디폴트\n",
    "\n",
    "# 규제를 풀어주니까 복잡해짐\n",
    "print('훈련점수:',ridge01.score(X_train,y_train))\n",
    "print('테스트 점수:',ridge01.score(X_test,y_test))"
   ]
  },
  {
   "cell_type": "code",
   "execution_count": 43,
   "id": "3b0f77b4",
   "metadata": {},
   "outputs": [
    {
     "data": {
      "text/plain": [
       "(-25.0, 25.0)"
      ]
     },
     "execution_count": 43,
     "metadata": {},
     "output_type": "execute_result"
    },
    {
     "data": {
      "image/png": "[encoded data removed]",
      "text/plain": [
       "<Figure size 432x288 with 1 Axes>"
      ]
     },
     "metadata": {
      "needs_background": "light"
     },
     "output_type": "display_data"
    }
   ],
   "source": [
    "## 표로 차이를 보자\n",
    "plt.plot(ridge10.coef_,'^',label='Ridge alpha=10')\n",
    "plt.plot(ridge.coef_,'s',label='Ridge alpha=1')\n",
    "plt.plot(ridge01.coef_,'v',label='Ridge alpha=0.1')\n",
    "plt.plot(lr.coef_,'o',label='Linear Regression')\n",
    "plt.legend()\n",
    "plt.xlabel('계수 목록')\n",
    "plt.ylabel('계수 크기')\n",
    "\n",
    "#선 그리기\n",
    "plt.hlines(0,0,len(lr.coef_))\n",
    "plt.ylim(-25,25)\n",
    "# 1일 때와 10일 때의 차이는? 1일때가 0을 기준으로 좀 더 퍼져 있다 그러니 ridge 는 퍼지는 것을 막아줌\n",
    "# 퍼져 있으니까 과적합이 생기는 것. \n",
    "# 즉 가중치(기울기 w)에 a를 곱해서 영향을 제어하는 것. w는 어떤 값인줄 모르니까 "
   ]
  },
  {
   "cell_type": "code",
   "execution_count": 45,
   "id": "e060d1b3",
   "metadata": {
    "scrolled": true
   },
   "outputs": [
    {
     "data": {
      "image/png": "[encoded data removed]",
      "text/plain": [
       "<Figure size 432x288 with 1 Axes>"
      ]
     },
     "metadata": {
      "needs_background": "light"
     },
     "output_type": "display_data"
    }
   ],
   "source": [
    "# 릿지 예시 \n",
    "# 릿지의 경우 알파를 1로 고정 \n",
    "mglearn.plots.plot_ridge_n_samples()\n",
    "\n",
    "# 릿지회귀선은 처음부터 다 나옴 \n",
    "\n",
    "# 회귀 그래프와 릿지와 공통점 \n",
    "# --> 데이터가 많아질 수록 결과값이 수렴(비슷해짐)"
   ]
  },
  {
   "cell_type": "code",
   "execution_count": 56,
   "id": "0f43004d",
   "metadata": {},
   "outputs": [
    {
     "name": "stdout",
     "output_type": "stream",
     "text": [
      "사용한 특성의 수: 104\n",
      "사용한 특성의 수: 104\n",
      "사용한 특성의 수: 104\n"
     ]
    }
   ],
   "source": [
    "print('사용한 특성의 수:', np.sum(ridge.coef_!=0))\n",
    "print('사용한 특성의 수:', np.sum(ridge10.coef_!=0))\n",
    "print('사용한 특성의 수:', np.sum(ridge01.coef_!=0))"
   ]
  },
  {
   "cell_type": "markdown",
   "id": "5dddce24",
   "metadata": {},
   "source": [
    "### (4) 라쏘(Lasso) 회귀모델\n",
    "\n",
    "+ L1 규제 사용(L1 norm)\n",
    "+ 알파를 크게하면 페널티의 효과가 커지고 작게하면 그 반대가 된다. \n",
    "+ 특성 선택이 자동으로 이루어진다. --> 변수를 골라낼 수 있다.\n",
    "+ 라쏘는 가중치들이 0이 되지만 릿지는 가중치들은 0에 가까워질 뿐 0이 되지 않음.\n",
    "------\n",
    "+ 기존의 선형 회귀에선 적절한 가중치와 편향을 찾아내는 것이 관건이었다. 라쏘는 거기에 추가적인 제약 조건을 준다. 바로 MSE가 최소가 되게 하는 가중치와 편향을 찾으면서 동시에, 가중치들의 절댓값의 합이 최소가 되게 한다는 것이다.\n"
   ]
  },
  {
   "cell_type": "code",
   "execution_count": 46,
   "id": "24e03ca7",
   "metadata": {},
   "outputs": [],
   "source": [
    "from sklearn.linear_model import Lasso\n"
   ]
  },
  {
   "cell_type": "code",
   "execution_count": 58,
   "id": "fb37c7ab",
   "metadata": {
    "scrolled": true
   },
   "outputs": [
    {
     "name": "stdout",
     "output_type": "stream",
     "text": [
      "훈련점수: 0.29323768991114607\n",
      "테스트 점수: 0.20937503255272294\n",
      "사용한 특성의 수: 4\n"
     ]
    }
   ],
   "source": [
    "lasso = Lasso().fit(X_train,y_train)\n",
    "print('훈련점수:',lasso.score(X_train,y_train))\n",
    "print('테스트 점수:',lasso.score(X_test,y_test))\n",
    "print('사용한 특성의 수:', np.sum(lasso.coef_!=0))"
   ]
  },
  {
   "cell_type": "code",
   "execution_count": 68,
   "id": "d7973cd8",
   "metadata": {},
   "outputs": [
    {
     "name": "stdout",
     "output_type": "stream",
     "text": [
      "훈련점수: 0.8961122320864717\n",
      "테스트 점수: 0.7677995670886713\n",
      "사용한 특성의 수: 32\n"
     ]
    }
   ],
   "source": [
    "lasso001 = Lasso(alpha=0.01).fit(X_train,y_train)\n",
    "print('훈련점수:',lasso001.score(X_train,y_train))\n",
    "print('테스트 점수:',lasso001.score(X_test,y_test))\n",
    "print('사용한 특성의 수:', np.sum(lasso001.coef_!=0))"
   ]
  },
  {
   "cell_type": "code",
   "execution_count": 64,
   "id": "5500bba4",
   "metadata": {},
   "outputs": [
    {
     "name": "stdout",
     "output_type": "stream",
     "text": [
      "훈련점수: 0.9420931515237063\n",
      "테스트 점수: 0.6976541391663642\n"
     ]
    }
   ],
   "source": [
    "lasso0001 = Lasso(alpha=0.0001).fit(X_train,y_train)\n",
    "print('훈련점수:',lasso0001.score(X_train,y_train))\n",
    "print('테스트 점수:',lasso0001.score(X_test,y_test))\n",
    "# 이래도 과적합...."
   ]
  },
  {
   "cell_type": "code",
   "execution_count": 70,
   "id": "12c0fe14",
   "metadata": {},
   "outputs": [
    {
     "name": "stderr",
     "output_type": "stream",
     "text": [
      "No handles with labels found to put in legend.\n"
     ]
    },
    {
     "data": {
      "text/plain": [
       "[<matplotlib.lines.Line2D at 0x204c953b520>]"
      ]
     },
     "execution_count": 70,
     "metadata": {},
     "output_type": "execute_result"
    },
    {
     "data": {
      "image/png": "[encoded data removed]",
      "text/plain": [
       "<Figure size 432x288 with 1 Axes>"
      ]
     },
     "metadata": {
      "needs_background": "light"
     },
     "output_type": "display_data"
    }
   ],
   "source": [
    "# 표로 그려보자\n",
    "\n",
    "plt.legend()\n",
    "plt.xlabel('계수 목록')\n",
    "plt.ylabel('계수 크기')\n",
    "\n",
    "#선 그리기\n",
    "plt.hlines(0,0,len(lr.coef_))\n",
    "plt.ylim(-25,25)\n",
    "plt.plot(lasso.coef_,\"^\",label='Lasso alpha=1')\n",
    "plt.plot(lasso001.coef_,\"s\",label='Lasso alpha=0.01')\n",
    "plt.plot(lasso0001.coef_,\"v\",label='Lasso alpha=0.0001')\n",
    "plt.plot(ridge01.coef_,'o',label='Ridge alpha=0.1') # --> 라소의 0.01과 비슷, 그러나 둘의 차이는 사용의 특성의 수가 다름, 릿지는 변수 삭제 안함\n",
    "# 과적합 -> 릿지 -> 라소 이런 순으로 과적합 해결\n",
    "# 규제가 힘한 것임"
   ]
  },
  {
   "cell_type": "markdown",
   "id": "9d0d0cae",
   "metadata": {},
   "source": [
    "### (5) 예제\n",
    "\n",
    "#### 1) 키에 따라서 몸무게가 얼마인지 예측하는 프로그램\n"
   ]
  },
  {
   "cell_type": "code",
   "execution_count": 79,
   "id": "f6dd6472",
   "metadata": {
    "scrolled": true
   },
   "outputs": [
    {
     "data": {
      "text/html": [
       "<div>\n",
       "<style scoped>\n",
       "    .dataframe tbody tr th:only-of-type {\n",
       "        vertical-align: middle;\n",
       "    }\n",
       "\n",
       "    .dataframe tbody tr th {\n",
       "        vertical-align: top;\n",
       "    }\n",
       "\n",
       "    .dataframe thead th {\n",
       "        text-align: right;\n",
       "    }\n",
       "</style>\n",
       "<table border=\"1\" class=\"dataframe\">\n",
       "  <thead>\n",
       "    <tr style=\"text-align: right;\">\n",
       "      <th></th>\n",
       "      <th>height</th>\n",
       "      <th>weight</th>\n",
       "    </tr>\n",
       "  </thead>\n",
       "  <tbody>\n",
       "    <tr>\n",
       "      <th>0</th>\n",
       "      <td>65.78</td>\n",
       "      <td>112.99</td>\n",
       "    </tr>\n",
       "    <tr>\n",
       "      <th>1</th>\n",
       "      <td>71.52</td>\n",
       "      <td>136.49</td>\n",
       "    </tr>\n",
       "    <tr>\n",
       "      <th>2</th>\n",
       "      <td>69.40</td>\n",
       "      <td>153.03</td>\n",
       "    </tr>\n",
       "    <tr>\n",
       "      <th>3</th>\n",
       "      <td>68.22</td>\n",
       "      <td>142.34</td>\n",
       "    </tr>\n",
       "    <tr>\n",
       "      <th>4</th>\n",
       "      <td>67.79</td>\n",
       "      <td>144.30</td>\n",
       "    </tr>\n",
       "    <tr>\n",
       "      <th>...</th>\n",
       "      <td>...</td>\n",
       "      <td>...</td>\n",
       "    </tr>\n",
       "    <tr>\n",
       "      <th>195</th>\n",
       "      <td>65.80</td>\n",
       "      <td>120.84</td>\n",
       "    </tr>\n",
       "    <tr>\n",
       "      <th>196</th>\n",
       "      <td>66.11</td>\n",
       "      <td>115.78</td>\n",
       "    </tr>\n",
       "    <tr>\n",
       "      <th>197</th>\n",
       "      <td>68.24</td>\n",
       "      <td>128.30</td>\n",
       "    </tr>\n",
       "    <tr>\n",
       "      <th>198</th>\n",
       "      <td>68.02</td>\n",
       "      <td>127.47</td>\n",
       "    </tr>\n",
       "    <tr>\n",
       "      <th>199</th>\n",
       "      <td>71.39</td>\n",
       "      <td>127.88</td>\n",
       "    </tr>\n",
       "  </tbody>\n",
       "</table>\n",
       "<p>200 rows × 2 columns</p>\n",
       "</div>"
      ],
      "text/plain": [
       "     height  weight\n",
       "0     65.78  112.99\n",
       "1     71.52  136.49\n",
       "2     69.40  153.03\n",
       "3     68.22  142.34\n",
       "4     67.79  144.30\n",
       "..      ...     ...\n",
       "195   65.80  120.84\n",
       "196   66.11  115.78\n",
       "197   68.24  128.30\n",
       "198   68.02  127.47\n",
       "199   71.39  127.88\n",
       "\n",
       "[200 rows x 2 columns]"
      ]
     },
     "execution_count": 79,
     "metadata": {},
     "output_type": "execute_result"
    }
   ],
   "source": [
    "df = pd.read_csv('data/heights.csv')\n",
    "type(df) # 머신러닝 할때는 2차원으로 입력을 받아야함. \n",
    "df\n"
   ]
  },
  {
   "cell_type": "code",
   "execution_count": 82,
   "id": "0c7d8a96",
   "metadata": {
    "scrolled": true
   },
   "outputs": [
    {
     "data": {
      "text/plain": [
       "[<matplotlib.lines.Line2D at 0x204cba27a60>]"
      ]
     },
     "execution_count": 82,
     "metadata": {},
     "output_type": "execute_result"
    },
    {
     "data": {
      "image/png": "[encoded data removed]",
      "text/plain": [
       "<Figure size 432x288 with 1 Axes>"
      ]
     },
     "metadata": {
      "needs_background": "light"
     },
     "output_type": "display_data"
    }
   ],
   "source": [
    "X=df['height']\n",
    "y=df['weight']\n",
    "\n",
    "plt.plot(X,y,'o')"
   ]
  },
  {
   "cell_type": "code",
   "execution_count": 83,
   "id": "62ddadeb",
   "metadata": {},
   "outputs": [
    {
     "data": {
      "text/plain": [
       "LinregressResult(slope=3.432676129271628, intercept=-106.02770644878126, rvalue=0.5568647346122992, pvalue=1.1029015151266264e-17, stderr=0.3638682118583795, intercept_stderr=24.734800508820637)"
      ]
     },
     "execution_count": 83,
     "metadata": {},
     "output_type": "execute_result"
    }
   ],
   "source": [
    "# p값으로 확인해보기\n",
    "from scipy import stats\n",
    "result=stats.linregress(X,y)\n",
    "result # 피값 유의미함 --> 예측해도 무방하다."
   ]
  },
  {
   "cell_type": "code",
   "execution_count": 88,
   "id": "4821fdd6",
   "metadata": {},
   "outputs": [
    {
     "data": {
      "text/plain": [
       "LinearRegression()"
      ]
     },
     "execution_count": 88,
     "metadata": {},
     "output_type": "execute_result"
    }
   ],
   "source": [
    "# 머신러닝으로 돌려보기\n",
    "\n",
    "lr=LinearRegression()\n",
    "\n",
    "# 입력값을 2차원으로 바꿔야함\n",
    "lr.fit(X.values.reshape(-1,1),y)\n"
   ]
  },
  {
   "cell_type": "code",
   "execution_count": 87,
   "id": "5837facc",
   "metadata": {},
   "outputs": [
    {
     "data": {
      "text/plain": [
       "array([134.2596226])"
      ]
     },
     "execution_count": 87,
     "metadata": {},
     "output_type": "execute_result"
    }
   ],
   "source": [
    "##### 키가 70인 사람의 몸무게는 얼마일까?\n",
    "lr.predict([[70]])"
   ]
  },
  {
   "cell_type": "markdown",
   "id": "ac51f626",
   "metadata": {},
   "source": [
    "#### 2) Boston Housing Sample"
   ]
  },
  {
   "cell_type": "code",
   "execution_count": null,
   "id": "afe2bf53",
   "metadata": {},
   "outputs": [],
   "source": [
    "\"\"\"\n",
    "속성\t내용\n",
    "-----------------\n",
    "CRIM\t범죄율\n",
    "ZN\t25,000평방피트당 주거지역의 비율\n",
    "INDUS\t비소매 상업지구 비율(단위: 에이커)\n",
    "CHAS\t찰스강에 인접해 있으면 1, 그렇지 않으면 0\n",
    "NOX\t일산화질소 농도(단위:0.1ppm)\n",
    "RM\t주택당 방의 수\n",
    "AGE\t1940년 이전에 건설된 주택의 비율\n",
    "DIS\t5개의 보스턴 직업고용센터와의 거리(가중 평균)\n",
    "RAD\t고속도로 접근성\n",
    "TAX\t재산세율\n",
    "PTRATIO\t학생/교사비율\n",
    "B\t흑인비율\n",
    "LSTAT\t하위계층비율\n",
    "MEDV\t타운의 주택 가격 중앙값(단위: 1,000달러\n",
    "\"\"\"\n"
   ]
  },
  {
   "cell_type": "code",
   "execution_count": 10,
   "id": "655fe764",
   "metadata": {},
   "outputs": [
    {
     "name": "stdout",
     "output_type": "stream",
     "text": [
      "(379, 13) (127, 13)\n"
     ]
    }
   ],
   "source": [
    "boston = load_boston()\n",
    "X_train,X_test,y_train,y_test=train_test_split(boston.data,boston.target,random_state=0)\n",
    "print(X_train.shape,X_test.shape)"
   ]
  },
  {
   "cell_type": "code",
   "execution_count": 11,
   "id": "12e40be8",
   "metadata": {},
   "outputs": [
    {
     "data": {
      "text/html": [
       "<div>\n",
       "<style scoped>\n",
       "    .dataframe tbody tr th:only-of-type {\n",
       "        vertical-align: middle;\n",
       "    }\n",
       "\n",
       "    .dataframe tbody tr th {\n",
       "        vertical-align: top;\n",
       "    }\n",
       "\n",
       "    .dataframe thead th {\n",
       "        text-align: right;\n",
       "    }\n",
       "</style>\n",
       "<table border=\"1\" class=\"dataframe\">\n",
       "  <thead>\n",
       "    <tr style=\"text-align: right;\">\n",
       "      <th></th>\n",
       "      <th>CRIM</th>\n",
       "      <th>ZN</th>\n",
       "      <th>INDUS</th>\n",
       "      <th>CHAS</th>\n",
       "      <th>NOX</th>\n",
       "      <th>RM</th>\n",
       "      <th>AGE</th>\n",
       "      <th>DIS</th>\n",
       "      <th>RAD</th>\n",
       "      <th>TAX</th>\n",
       "      <th>PTRATIO</th>\n",
       "      <th>B</th>\n",
       "      <th>LSTAT</th>\n",
       "      <th>MEDV</th>\n",
       "    </tr>\n",
       "  </thead>\n",
       "  <tbody>\n",
       "    <tr>\n",
       "      <th>0</th>\n",
       "      <td>0.00632</td>\n",
       "      <td>18.0</td>\n",
       "      <td>2.31</td>\n",
       "      <td>0.0</td>\n",
       "      <td>0.538</td>\n",
       "      <td>6.575</td>\n",
       "      <td>65.2</td>\n",
       "      <td>4.0900</td>\n",
       "      <td>1.0</td>\n",
       "      <td>296.0</td>\n",
       "      <td>15.3</td>\n",
       "      <td>396.90</td>\n",
       "      <td>4.98</td>\n",
       "      <td>24.0</td>\n",
       "    </tr>\n",
       "    <tr>\n",
       "      <th>1</th>\n",
       "      <td>0.02731</td>\n",
       "      <td>0.0</td>\n",
       "      <td>7.07</td>\n",
       "      <td>0.0</td>\n",
       "      <td>0.469</td>\n",
       "      <td>6.421</td>\n",
       "      <td>78.9</td>\n",
       "      <td>4.9671</td>\n",
       "      <td>2.0</td>\n",
       "      <td>242.0</td>\n",
       "      <td>17.8</td>\n",
       "      <td>396.90</td>\n",
       "      <td>9.14</td>\n",
       "      <td>21.6</td>\n",
       "    </tr>\n",
       "    <tr>\n",
       "      <th>2</th>\n",
       "      <td>0.02729</td>\n",
       "      <td>0.0</td>\n",
       "      <td>7.07</td>\n",
       "      <td>0.0</td>\n",
       "      <td>0.469</td>\n",
       "      <td>7.185</td>\n",
       "      <td>61.1</td>\n",
       "      <td>4.9671</td>\n",
       "      <td>2.0</td>\n",
       "      <td>242.0</td>\n",
       "      <td>17.8</td>\n",
       "      <td>392.83</td>\n",
       "      <td>4.03</td>\n",
       "      <td>34.7</td>\n",
       "    </tr>\n",
       "    <tr>\n",
       "      <th>3</th>\n",
       "      <td>0.03237</td>\n",
       "      <td>0.0</td>\n",
       "      <td>2.18</td>\n",
       "      <td>0.0</td>\n",
       "      <td>0.458</td>\n",
       "      <td>6.998</td>\n",
       "      <td>45.8</td>\n",
       "      <td>6.0622</td>\n",
       "      <td>3.0</td>\n",
       "      <td>222.0</td>\n",
       "      <td>18.7</td>\n",
       "      <td>394.63</td>\n",
       "      <td>2.94</td>\n",
       "      <td>33.4</td>\n",
       "    </tr>\n",
       "    <tr>\n",
       "      <th>4</th>\n",
       "      <td>0.06905</td>\n",
       "      <td>0.0</td>\n",
       "      <td>2.18</td>\n",
       "      <td>0.0</td>\n",
       "      <td>0.458</td>\n",
       "      <td>7.147</td>\n",
       "      <td>54.2</td>\n",
       "      <td>6.0622</td>\n",
       "      <td>3.0</td>\n",
       "      <td>222.0</td>\n",
       "      <td>18.7</td>\n",
       "      <td>396.90</td>\n",
       "      <td>5.33</td>\n",
       "      <td>36.2</td>\n",
       "    </tr>\n",
       "    <tr>\n",
       "      <th>5</th>\n",
       "      <td>0.02985</td>\n",
       "      <td>0.0</td>\n",
       "      <td>2.18</td>\n",
       "      <td>0.0</td>\n",
       "      <td>0.458</td>\n",
       "      <td>6.430</td>\n",
       "      <td>58.7</td>\n",
       "      <td>6.0622</td>\n",
       "      <td>3.0</td>\n",
       "      <td>222.0</td>\n",
       "      <td>18.7</td>\n",
       "      <td>394.12</td>\n",
       "      <td>5.21</td>\n",
       "      <td>28.7</td>\n",
       "    </tr>\n",
       "    <tr>\n",
       "      <th>6</th>\n",
       "      <td>0.08829</td>\n",
       "      <td>12.5</td>\n",
       "      <td>7.87</td>\n",
       "      <td>0.0</td>\n",
       "      <td>0.524</td>\n",
       "      <td>6.012</td>\n",
       "      <td>66.6</td>\n",
       "      <td>5.5605</td>\n",
       "      <td>5.0</td>\n",
       "      <td>311.0</td>\n",
       "      <td>15.2</td>\n",
       "      <td>395.60</td>\n",
       "      <td>12.43</td>\n",
       "      <td>22.9</td>\n",
       "    </tr>\n",
       "    <tr>\n",
       "      <th>7</th>\n",
       "      <td>0.14455</td>\n",
       "      <td>12.5</td>\n",
       "      <td>7.87</td>\n",
       "      <td>0.0</td>\n",
       "      <td>0.524</td>\n",
       "      <td>6.172</td>\n",
       "      <td>96.1</td>\n",
       "      <td>5.9505</td>\n",
       "      <td>5.0</td>\n",
       "      <td>311.0</td>\n",
       "      <td>15.2</td>\n",
       "      <td>396.90</td>\n",
       "      <td>19.15</td>\n",
       "      <td>27.1</td>\n",
       "    </tr>\n",
       "    <tr>\n",
       "      <th>8</th>\n",
       "      <td>0.21124</td>\n",
       "      <td>12.5</td>\n",
       "      <td>7.87</td>\n",
       "      <td>0.0</td>\n",
       "      <td>0.524</td>\n",
       "      <td>5.631</td>\n",
       "      <td>100.0</td>\n",
       "      <td>6.0821</td>\n",
       "      <td>5.0</td>\n",
       "      <td>311.0</td>\n",
       "      <td>15.2</td>\n",
       "      <td>386.63</td>\n",
       "      <td>29.93</td>\n",
       "      <td>16.5</td>\n",
       "    </tr>\n",
       "    <tr>\n",
       "      <th>9</th>\n",
       "      <td>0.17004</td>\n",
       "      <td>12.5</td>\n",
       "      <td>7.87</td>\n",
       "      <td>0.0</td>\n",
       "      <td>0.524</td>\n",
       "      <td>6.004</td>\n",
       "      <td>85.9</td>\n",
       "      <td>6.5921</td>\n",
       "      <td>5.0</td>\n",
       "      <td>311.0</td>\n",
       "      <td>15.2</td>\n",
       "      <td>386.71</td>\n",
       "      <td>17.10</td>\n",
       "      <td>18.9</td>\n",
       "    </tr>\n",
       "  </tbody>\n",
       "</table>\n",
       "</div>"
      ],
      "text/plain": [
       "      CRIM    ZN  INDUS  CHAS    NOX     RM    AGE     DIS  RAD    TAX  \\\n",
       "0  0.00632  18.0   2.31   0.0  0.538  6.575   65.2  4.0900  1.0  296.0   \n",
       "1  0.02731   0.0   7.07   0.0  0.469  6.421   78.9  4.9671  2.0  242.0   \n",
       "2  0.02729   0.0   7.07   0.0  0.469  7.185   61.1  4.9671  2.0  242.0   \n",
       "3  0.03237   0.0   2.18   0.0  0.458  6.998   45.8  6.0622  3.0  222.0   \n",
       "4  0.06905   0.0   2.18   0.0  0.458  7.147   54.2  6.0622  3.0  222.0   \n",
       "5  0.02985   0.0   2.18   0.0  0.458  6.430   58.7  6.0622  3.0  222.0   \n",
       "6  0.08829  12.5   7.87   0.0  0.524  6.012   66.6  5.5605  5.0  311.0   \n",
       "7  0.14455  12.5   7.87   0.0  0.524  6.172   96.1  5.9505  5.0  311.0   \n",
       "8  0.21124  12.5   7.87   0.0  0.524  5.631  100.0  6.0821  5.0  311.0   \n",
       "9  0.17004  12.5   7.87   0.0  0.524  6.004   85.9  6.5921  5.0  311.0   \n",
       "\n",
       "   PTRATIO       B  LSTAT  MEDV  \n",
       "0     15.3  396.90   4.98  24.0  \n",
       "1     17.8  396.90   9.14  21.6  \n",
       "2     17.8  392.83   4.03  34.7  \n",
       "3     18.7  394.63   2.94  33.4  \n",
       "4     18.7  396.90   5.33  36.2  \n",
       "5     18.7  394.12   5.21  28.7  \n",
       "6     15.2  395.60  12.43  22.9  \n",
       "7     15.2  396.90  19.15  27.1  \n",
       "8     15.2  386.63  29.93  16.5  \n",
       "9     15.2  386.71  17.10  18.9  "
      ]
     },
     "execution_count": 11,
     "metadata": {},
     "output_type": "execute_result"
    }
   ],
   "source": [
    "df = pd.DataFrame(boston.data,columns=boston.feature_names)\n",
    "df.head(10)\n",
    "\n",
    "df['MEDV']=boston.target\n",
    "df.head(10)"
   ]
  },
  {
   "cell_type": "code",
   "execution_count": 12,
   "id": "1b943c90",
   "metadata": {},
   "outputs": [
    {
     "data": {
      "text/plain": [
       "<seaborn.axisgrid.PairGrid at 0x1c2bb966280>"
      ]
     },
     "execution_count": 12,
     "metadata": {},
     "output_type": "execute_result"
    },
    {
     "data": {
      "image/png": "[encoded data removed]",
      "text/plain": [
       "<Figure size 900x900 with 30 Axes>"
      ]
     },
     "metadata": {
      "needs_background": "light"
     },
     "output_type": "display_data"
    }
   ],
   "source": [
    "sns.pairplot(df[['LSTAT','INDUS','NOX','RM','MEDV']],size=2.5)"
   ]
  },
  {
   "cell_type": "code",
   "execution_count": 13,
   "id": "ed00adfd",
   "metadata": {},
   "outputs": [
    {
     "data": {
      "text/plain": [
       "<matplotlib.collections.PathCollection at 0x1c2bde513a0>"
      ]
     },
     "execution_count": 13,
     "metadata": {},
     "output_type": "execute_result"
    },
    {
     "data": {
      "image/png": "[encoded data removed]",
      "text/plain": [
       "<Figure size 432x288 with 1 Axes>"
      ]
     },
     "metadata": {
      "needs_background": "light"
     },
     "output_type": "display_data"
    }
   ],
   "source": [
    "plt.scatter(df[['AGE']],df[['MEDV']])"
   ]
  },
  {
   "cell_type": "code",
   "execution_count": 14,
   "id": "e195dafb",
   "metadata": {},
   "outputs": [
    {
     "data": {
      "text/plain": [
       "<matplotlib.collections.PathCollection at 0x1c2bdea9580>"
      ]
     },
     "execution_count": 14,
     "metadata": {},
     "output_type": "execute_result"
    },
    {
     "data": {
      "image/png": "[encoded data removed]",
      "text/plain": [
       "<Figure size 432x288 with 1 Axes>"
      ]
     },
     "metadata": {
      "needs_background": "light"
     },
     "output_type": "display_data"
    }
   ],
   "source": [
    "plt.scatter(df[['RM']],df[['MEDV']])"
   ]
  },
  {
   "cell_type": "code",
   "execution_count": 114,
   "id": "e101e298",
   "metadata": {},
   "outputs": [
    {
     "data": {
      "text/plain": [
       "<AxesSubplot:>"
      ]
     },
     "execution_count": 114,
     "metadata": {},
     "output_type": "execute_result"
    },
    {
     "data": {
      "image/png": "[encoded data removed]",
      "text/plain": [
       "<Figure size 432x288 with 2 Axes>"
      ]
     },
     "metadata": {
      "needs_background": "light"
     },
     "output_type": "display_data"
    }
   ],
   "source": [
    "# 히트맵으로 상관관계 파악 \n",
    "cols=['LSTAT','INDUS','NOX','RM','MEDV']\n",
    "heat=np.corrcoef(df[cols].T)\n",
    "sns.heatmap(heat,annot=True,yticklabels=cols,xticklabels=cols,square=True)"
   ]
  },
  {
   "cell_type": "code",
   "execution_count": 116,
   "id": "d1645718",
   "metadata": {},
   "outputs": [
    {
     "data": {
      "text/plain": [
       "LinearRegression()"
      ]
     },
     "execution_count": 116,
     "metadata": {},
     "output_type": "execute_result"
    }
   ],
   "source": [
    "boston_model=LinearRegression()\n",
    "boston_model.fit(X_train,y_train)"
   ]
  },
  {
   "cell_type": "code",
   "execution_count": 117,
   "id": "a86df4ac",
   "metadata": {
    "scrolled": false
   },
   "outputs": [
    {
     "name": "stdout",
     "output_type": "stream",
     "text": [
      "훈련점수: 0.7697699488741149\n",
      "테스트 점수: 0.6354638433202129\n"
     ]
    }
   ],
   "source": [
    "print('훈련점수:',boston_model.score(X_train,y_train))\n",
    "print('테스트 점수:',boston_model.score(X_test,y_test))"
   ]
  },
  {
   "cell_type": "code",
   "execution_count": 126,
   "id": "e373752e",
   "metadata": {},
   "outputs": [
    {
     "data": {
      "text/plain": [
       "array([[1737.81514828]])"
      ]
     },
     "execution_count": 126,
     "metadata": {},
     "output_type": "execute_result"
    }
   ],
   "source": [
    "##### 방이 4개인 주택 가격은 얼마? \n",
    "\n",
    "X= df[['RM']].values\n",
    "y= df[['MEDV']].values\n",
    "\n",
    "lr = LinearRegression().fit(X,y)\n",
    "\n",
    "house_price= lr.predict([[4]])\n",
    "house_price * 1000"
   ]
  },
  {
   "cell_type": "markdown",
   "id": "8805741e",
   "metadata": {},
   "source": [
    "#### 3) Manhattan Housing Sample"
   ]
  },
  {
   "cell_type": "code",
   "execution_count": 127,
   "id": "80b36215",
   "metadata": {},
   "outputs": [
    {
     "name": "stdout",
     "output_type": "stream",
     "text": [
      "<class 'pandas.core.frame.DataFrame'>\n",
      "RangeIndex: 3539 entries, 0 to 3538\n",
      "Data columns (total 18 columns):\n",
      " #   Column            Non-Null Count  Dtype  \n",
      "---  ------            --------------  -----  \n",
      " 0   rental_id         3539 non-null   int64  \n",
      " 1   rent              3539 non-null   int64  \n",
      " 2   bedrooms          3539 non-null   float64\n",
      " 3   bathrooms         3539 non-null   int64  \n",
      " 4   size_sqft         3539 non-null   int64  \n",
      " 5   min_to_subway     3539 non-null   int64  \n",
      " 6   floor             3539 non-null   float64\n",
      " 7   building_age_yrs  3539 non-null   int64  \n",
      " 8   no_fee            3539 non-null   int64  \n",
      " 9   has_roofdeck      3539 non-null   int64  \n",
      " 10  has_washer_dryer  3539 non-null   int64  \n",
      " 11  has_doorman       3539 non-null   int64  \n",
      " 12  has_elevator      3539 non-null   int64  \n",
      " 13  has_dishwasher    3539 non-null   int64  \n",
      " 14  has_patio         3539 non-null   int64  \n",
      " 15  has_gym           3539 non-null   int64  \n",
      " 16  neighborhood      3539 non-null   object \n",
      " 17  borough           3539 non-null   object \n",
      "dtypes: float64(2), int64(14), object(2)\n",
      "memory usage: 497.8+ KB\n"
     ]
    }
   ],
   "source": [
    "df=pd.read_csv('data/manhattan.csv')\n",
    "df.info()"
   ]
  },
  {
   "cell_type": "code",
   "execution_count": null,
   "id": "ee5101ee",
   "metadata": {},
   "outputs": [],
   "source": [
    "\"\"\"\n",
    "rental_id\trental ID\n",
    "rent\t임대료 ($)\n",
    "bedrooms\t침실수\n",
    "bathrooms\t화장실수\n",
    "size_sqft\t평수(feet)\n",
    "min_to_subway\t지하철과의 거리 (minutes)\n",
    "floor\t층수\n",
    "building_age_yrs\t건물 연령\n",
    "no_fee\t중계수수료 (0 for fee, 1 for no fee)\n",
    "has_roofdeck\t옥상 (o for no, 1 for yes)\n",
    "has_washer_dryer\t세탁기/건조기 (0/1)\n",
    "has_doorman\t도어맨 (0/1)\n",
    "has_elevator\t엘리베이터 (0/1)\n",
    "has_dishwasher\t식기세척기 (0/1)\n",
    "has_patio\t안마당(patio) (0/1)\n",
    "has_gym\t헬스장(gym) (0/1)\n",
    "neighborhood\t이웃 (ex: 한인타운)\n",
    "submarket\tsubmarket (ex: North Brooklyn)\n",
    "borough\tborough (ex: Brooklyn)\n",
    "\"\"\"\n"
   ]
  },
  {
   "cell_type": "code",
   "execution_count": null,
   "id": "cbd5700d",
   "metadata": {},
   "outputs": [],
   "source": [
    "#### 변수들의 관계를 시각화\n",
    "#### 설명계수(훈련 결과와 테스트 결과 비교)\n",
    "#### 필요할 경우 릿지나 라쏘 구현\n",
    "#### 임대료 계산(e.g. 1,1,620,16,1,98,1,0,1,0,0,1,1,0 --> 2309$)"
   ]
  },
  {
   "cell_type": "markdown",
   "id": "ad96bb36",
   "metadata": {},
   "source": [
    "### 2. 로지스틱 회귀 모델\n",
    "+ 가설 --> 비용 --> 최소비용 \n",
    "+ 1차 함수를 2차함수로(sigmoid)"
   ]
  },
  {
   "cell_type": "code",
   "execution_count": 3,
   "id": "f1c653a3",
   "metadata": {},
   "outputs": [
    {
     "data": {
      "text/plain": [
       "[<matplotlib.lines.Line2D at 0x2987183d250>]"
      ]
     },
     "execution_count": 3,
     "metadata": {},
     "output_type": "execute_result"
    },
    {
     "data": {
      "image/png": "[encoded data removed]",
      "text/plain": [
       "<Figure size 432x288 with 1 Axes>"
      ]
     },
     "metadata": {
      "needs_background": "light"
     },
     "output_type": "display_data"
    }
   ],
   "source": [
    "##### Sigmoid 그래프 그리기\n",
    "X = np.linspace(-8,8,100) # X의 범위는 -8부터 8까지 100개\n",
    "plt.plot(X)"
   ]
  },
  {
   "cell_type": "code",
   "execution_count": 4,
   "id": "9bf3f5d7",
   "metadata": {},
   "outputs": [
    {
     "data": {
      "text/plain": [
       "[<matplotlib.lines.Line2D at 0x29876583ac0>]"
      ]
     },
     "execution_count": 4,
     "metadata": {},
     "output_type": "execute_result"
    },
    {
     "data": {
      "image/png": "[encoded data removed]",
      "text/plain": [
       "<Figure size 432x288 with 1 Axes>"
      ]
     },
     "metadata": {
      "needs_background": "light"
     },
     "output_type": "display_data"
    }
   ],
   "source": [
    "plt.plot(X,1/(1+np.exp(-X)))\n",
    "# 직선을 곡선으로 바꾸는 로지스틱"
   ]
  },
  {
   "cell_type": "code",
   "execution_count": 142,
   "id": "e78bbb62",
   "metadata": {},
   "outputs": [
    {
     "data": {
      "image/png": "[encoded data removed]",
      "text/plain": [
       "<Figure size 720x216 with 2 Axes>"
      ]
     },
     "metadata": {},
     "output_type": "display_data"
    }
   ],
   "source": [
    "# 예시\n",
    "X,y=mglearn.datasets.make_forge()\n",
    "\n",
    "clf1= LinearSVC(C=1).fit(X,y) # 하이퍼파라미터 C \n",
    "clf2= LogisticRegression(C=1).fit(X,y)\n",
    "# 두 알고리즘이 비슷함\n",
    "\n",
    "_, axes=plt.subplots(1,2,figsize=(10,3))\n",
    "# _(언더바) 의 는 무엇?? 변수에서는 리턴값을 받지 않겠다.\n",
    "mglearn.discrete_scatter(X[:,0],X[:,1],y,ax=axes[0])\n",
    "# 회귀선 그리기\n",
    "mglearn.plots.plot_2d_separator(clf1,X,ax=axes[0])\n",
    "\n",
    "mglearn.discrete_scatter(X[:,0],X[:,1],y,ax=axes[1])\n",
    "mglearn.plots.plot_2d_separator(clf2,X,ax=axes[1])\n",
    "\n",
    "# 두 알고리즘이 굉장히 비슷함.\n",
    "# knn의 단점 데이터가 많으면 시간이 오래 걸림 하지만 로지스틱회귀는 데이터가 많아도 \n",
    "# 상관 없음 기냐 아니냐로 나뉘기에 "
   ]
  },
  {
   "cell_type": "code",
   "execution_count": 8,
   "id": "b8f88d60",
   "metadata": {},
   "outputs": [
    {
     "data": {
      "text/plain": [
       "(<Figure size 720x216 with 2 Axes>,\n",
       " array([<AxesSubplot:>, <AxesSubplot:>], dtype=object))"
      ]
     },
     "execution_count": 8,
     "metadata": {},
     "output_type": "execute_result"
    },
    {
     "data": {
      "image/png": "[encoded data removed]",
      "text/plain": [
       "<Figure size 720x216 with 2 Axes>"
      ]
     },
     "metadata": {
      "needs_background": "light"
     },
     "output_type": "display_data"
    }
   ],
   "source": [
    "plt.subplots(1,2,figsize=(10,3))\n",
    "# 리턴값이 2개임 \n",
    "# 값의 위치정보, 그래프 틀 "
   ]
  },
  {
   "cell_type": "code",
   "execution_count": 15,
   "id": "63b7c4c6",
   "metadata": {},
   "outputs": [
    {
     "data": {
      "image/png": "[encoded data removed]",
      "text/plain": [
       "<Figure size 864x288 with 3 Axes>"
      ]
     },
     "metadata": {},
     "output_type": "display_data"
    }
   ],
   "source": [
    "# 하이퍼 파라미터 C값이 클때 작을때의 차이 살펴보기 \n",
    "# 복잡도는 오른쪽이 제일 높음\n",
    "# 너무 복잡해지는 것을 막아 주는게 규제였는데  왼쪽이 규제가 강해지는것\n",
    "# C값이 작아진다는 것은 규제가 강해져 복잡도 감소, C값이 커지면 규제를 풀어주니 복잡도 증가\n",
    "mglearn.plots.plot_linear_svc_regularization()"
   ]
  },
  {
   "cell_type": "markdown",
   "id": "163a2f88",
   "metadata": {},
   "source": [
    "### (1) C값에 따른 결과"
   ]
  },
  {
   "cell_type": "code",
   "execution_count": 16,
   "id": "d3465b1e",
   "metadata": {},
   "outputs": [],
   "source": [
    "cancer= load_breast_cancer()\n",
    "X_train,X_test,y_train,y_test=train_test_split(cancer.data,cancer.target,\n",
    "                                               random_state=42)"
   ]
  },
  {
   "cell_type": "code",
   "execution_count": 24,
   "id": "2c6d9f51",
   "metadata": {},
   "outputs": [
    {
     "name": "stdout",
     "output_type": "stream",
     "text": [
      "훈련점수 : 0.9624413145539906\n",
      "테스트점수 : 0.965034965034965\n"
     ]
    }
   ],
   "source": [
    "# 선형회귀에서 L1을 쓰는애는 라쏘(변수를 제거), L2규제는 릿지\n",
    "logreg= LogisticRegression(C=1,penalty='l2',max_iter=100000) #패널티(규제) 디폴트는 l2, 생략 가능\n",
    "logreg.fit(X_train,y_train)\n",
    "print('훈련점수 :',logreg.score(X_train,y_train))\n",
    "print('테스트점수 :',logreg.score(X_test,y_test))\n",
    "# 테스트 점수가 오히려 높으면 과소적합의 우려가 있음."
   ]
  },
  {
   "cell_type": "code",
   "execution_count": 28,
   "id": "4503cb3c",
   "metadata": {},
   "outputs": [
    {
     "name": "stdout",
     "output_type": "stream",
     "text": [
      "훈련점수 : 0.9788732394366197\n",
      "테스트점수 : 0.965034965034965\n"
     ]
    }
   ],
   "source": [
    "#max_iter 훈련횟수가 100번으로 고정\n",
    "logreg100= LogisticRegression(C=100,max_iter=100000)\n",
    "logreg100.fit(X_train,y_train)\n",
    "print('훈련점수 :',logreg100.score(X_train,y_train))\n",
    "print('테스트점수 :',logreg100.score(X_test,y_test))\n",
    "# C를 늘리니 과대적합(훈련데이터를 더 잘 맞추려 했다.)"
   ]
  },
  {
   "cell_type": "code",
   "execution_count": 26,
   "id": "c99ef905",
   "metadata": {},
   "outputs": [
    {
     "name": "stdout",
     "output_type": "stream",
     "text": [
      "훈련점수 : 0.9882629107981221\n",
      "테스트점수 : 0.986013986013986\n"
     ]
    }
   ],
   "source": [
    "#max_iter 훈련횟수가 100번으로 고정 되어있음\n",
    "logreg1000= LogisticRegression(C=1000,max_iter=100000)\n",
    "logreg1000.fit(X_train,y_train)\n",
    "print('훈련점수 :',logreg1000.score(X_train,y_train))\n",
    "print('테스트점수 :',logreg1000.score(X_test,y_test))\n",
    "# C를 더 늘리니 오히려 좋아졌다"
   ]
  },
  {
   "cell_type": "code",
   "execution_count": 27,
   "id": "2bd55b8c",
   "metadata": {},
   "outputs": [
    {
     "name": "stdout",
     "output_type": "stream",
     "text": [
      "훈련점수 : 0.9460093896713615\n",
      "테스트점수 : 0.972027972027972\n"
     ]
    }
   ],
   "source": [
    "logreg001= LogisticRegression(C=0.01,max_iter=100000)\n",
    "logreg001.fit(X_train,y_train)\n",
    "print('훈련점수 :',logreg001.score(X_train,y_train))\n",
    "print('테스트점수 :',logreg001.score(X_test,y_test))\n",
    "# 줄이니 과소적합의 경향 "
   ]
  },
  {
   "cell_type": "code",
   "execution_count": 36,
   "id": "ac5bb7c7",
   "metadata": {},
   "outputs": [
    {
     "data": {
      "text/plain": [
       "(-5.0, 5.0)"
      ]
     },
     "execution_count": 36,
     "metadata": {},
     "output_type": "execute_result"
    },
    {
     "data": {
      "image/png": "[encoded data removed]",
      "text/plain": [
       "<Figure size 432x288 with 1 Axes>"
      ]
     },
     "metadata": {
      "needs_background": "light"
     },
     "output_type": "display_data"
    }
   ],
   "source": [
    "# 그래프로 한번 보자\n",
    "plt.plot(logreg.coef_.T,'o',label='C=1')\n",
    "plt.plot(logreg100.coef_.T,'^',label='C=100')\n",
    "plt.plot(logreg1000.coef_.T,'s',label='C=1000')\n",
    "plt.plot(logreg001.coef_.T,'v',label='C=001')\n",
    "plt.legend()\n",
    "plt.xlabel('특성')\n",
    "plt.ylabel('계수크기')\n",
    "\n",
    "# 중간선 그리기\n",
    "plt.hlines(0,0,cancer.data.shape[1])\n",
    "\n",
    "plt.ylim(-5,5)\n",
    "\n",
    "# 하이퍼 파라미터 C는 모델을 단순화하는데 확실히 효과는 있음 하지만 C만 쓴게 아님"
   ]
  },
  {
   "cell_type": "code",
   "execution_count": 40,
   "id": "2aad8d24",
   "metadata": {},
   "outputs": [
    {
     "name": "stdout",
     "output_type": "stream",
     "text": [
      "훈련점수 : 0.960093896713615\n",
      "테스트점수 : 0.958041958041958\n"
     ]
    }
   ],
   "source": [
    "# L1 norm을 쓴다면?\n",
    "logreg_l1= LogisticRegression(C=1,penalty='l1',solver='liblinear'\n",
    "                              ,max_iter=100000) \n",
    "logreg_l1.fit(X_train,y_train)\n",
    "print('훈련점수 :',logreg_l1.score(X_train,y_train))\n",
    "print('테스트점수 :',logreg_l1.score(X_test,y_test))"
   ]
  },
  {
   "cell_type": "code",
   "execution_count": 41,
   "id": "13580d65",
   "metadata": {},
   "outputs": [
    {
     "name": "stdout",
     "output_type": "stream",
     "text": [
      "훈련점수 : 0.9624413145539906\n",
      "테스트점수 : 0.965034965034965\n"
     ]
    }
   ],
   "source": [
    "# 선형회귀에서 L1을 쓰는애는 라쏘(변수를 제거), L2규제는 릿지\n",
    "logreg= LogisticRegression(C=1,penalty='l2',max_iter=100000) #패널티(규제) 디폴트는 l2, 생략 가능\n",
    "logreg.fit(X_train,y_train)\n",
    "print('훈련점수 :',logreg.score(X_train,y_train))\n",
    "print('테스트점수 :',logreg.score(X_test,y_test))\n",
    "# 테스트 점수가 오히려 높으면 과소적합의 우려가 있음."
   ]
  },
  {
   "cell_type": "code",
   "execution_count": null,
   "id": "7772914c",
   "metadata": {},
   "outputs": [],
   "source": [
    "### l1 vs l2 의 경우 l1 이 약간 성능이 낮아짐"
   ]
  },
  {
   "cell_type": "code",
   "execution_count": 42,
   "id": "a0830466",
   "metadata": {},
   "outputs": [
    {
     "name": "stdout",
     "output_type": "stream",
     "text": [
      "훈련점수 : 0.9976525821596244\n",
      "테스트점수 : 0.9370629370629371\n"
     ]
    }
   ],
   "source": [
    "logreg1000_l1= LogisticRegression(C=1000,penalty='l1',solver='liblinear'\n",
    "                              ,max_iter=100000) \n",
    "logreg1000_l1.fit(X_train,y_train)\n",
    "print('훈련점수 :',logreg1000_l1.score(X_train,y_train))\n",
    "print('테스트점수 :',logreg1000_l1.score(X_test,y_test))\n",
    "\n",
    "# 과대 적합"
   ]
  },
  {
   "cell_type": "code",
   "execution_count": 43,
   "id": "07be30a6",
   "metadata": {},
   "outputs": [
    {
     "name": "stdout",
     "output_type": "stream",
     "text": [
      "훈련점수 : 0.9107981220657277\n",
      "테스트점수 : 0.951048951048951\n"
     ]
    }
   ],
   "source": [
    "logreg001_l1= LogisticRegression(C=0.01,penalty='l1',solver='liblinear'\n",
    "                              ,max_iter=100000) \n",
    "logreg001_l1.fit(X_train,y_train)\n",
    "print('훈련점수 :',logreg001_l1.score(X_train,y_train))\n",
    "print('테스트점수 :',logreg001_l1.score(X_test,y_test))\n",
    "# 과소 적합 경향"
   ]
  },
  {
   "cell_type": "code",
   "execution_count": 45,
   "id": "fe9df110",
   "metadata": {},
   "outputs": [
    {
     "data": {
      "text/plain": [
       "(-5.0, 5.0)"
      ]
     },
     "execution_count": 45,
     "metadata": {},
     "output_type": "execute_result"
    },
    {
     "data": {
      "image/png": "[encoded data removed]",
      "text/plain": [
       "<Figure size 432x288 with 1 Axes>"
      ]
     },
     "metadata": {
      "needs_background": "light"
     },
     "output_type": "display_data"
    }
   ],
   "source": [
    "plt.plot(logreg_l1.coef_.T,'o',label='C=1')\n",
    "plt.plot(logreg1000_l1.coef_.T,'s',label='C=1000')\n",
    "plt.plot(logreg001_l1.coef_.T,'v',label='C=001')\n",
    "plt.legend()\n",
    "plt.xlabel('특성')\n",
    "plt.ylabel('계수크기')\n",
    "\n",
    "# 중간선 그리기\n",
    "plt.hlines(0,0,cancer.data.shape[1])\n",
    "\n",
    "plt.ylim(-5,5)"
   ]
  },
  {
   "cell_type": "markdown",
   "id": "cf88f5d3",
   "metadata": {},
   "source": [
    "### (2).분류 모델 3가지 비교(KNN,LogisticRegression,LinearSCV)"
   ]
  },
  {
   "cell_type": "code",
   "execution_count": 50,
   "id": "cdab9b88",
   "metadata": {},
   "outputs": [
    {
     "data": {
      "text/plain": [
       "array([212, 357], dtype=int64)"
      ]
     },
     "execution_count": 50,
     "metadata": {},
     "output_type": "execute_result"
    }
   ],
   "source": [
    "cancer.data.shape\n",
    "cancer.feature_names # 변수가 30개, 변수이름 확인하기 \n",
    "cancer.target_names # 암의 여부, 악성/양성\n",
    "np.bincount(cancer.target) # 크기가 불균형한데?"
   ]
  },
  {
   "cell_type": "code",
   "execution_count": 54,
   "id": "0b064f23",
   "metadata": {},
   "outputs": [
    {
     "data": {
      "text/plain": [
       "0.965034965034965"
      ]
     },
     "execution_count": 54,
     "metadata": {},
     "output_type": "execute_result"
    }
   ],
   "source": [
    "##### LogisticRegression\n",
    "cancer= load_breast_cancer()\n",
    "X_train,X_test,y_train,y_test=train_test_split(cancer.data,cancer.target,\n",
    "                                               random_state=42)\n",
    "model=LogisticRegression(max_iter=10000).fit(X_train,y_train)\n",
    "scores=model.score(X_test,y_test)\n",
    "scores\n"
   ]
  },
  {
   "cell_type": "code",
   "execution_count": 61,
   "id": "6c1dd7bf",
   "metadata": {},
   "outputs": [
    {
     "data": {
      "text/plain": [
       "0.958041958041958"
      ]
     },
     "execution_count": 61,
     "metadata": {},
     "output_type": "execute_result"
    }
   ],
   "source": [
    "##### LinearSVC\n",
    "X_train,X_test,y_train,y_test=train_test_split(cancer.data,cancer.target,\n",
    "                                               random_state=42)\n",
    "model=LinearSVC(max_iter=10000,dual=False).fit(X_train,y_train)\n",
    "scores=model.score(X_test,y_test)\n",
    "scores"
   ]
  },
  {
   "cell_type": "code",
   "execution_count": 66,
   "id": "815b78e2",
   "metadata": {},
   "outputs": [
    {
     "data": {
      "text/plain": [
       "0.965034965034965"
      ]
     },
     "execution_count": 66,
     "metadata": {},
     "output_type": "execute_result"
    }
   ],
   "source": [
    "##### KNN\n",
    "X_train,X_test,y_train,y_test=train_test_split(cancer.data,cancer.target,\n",
    "                                               random_state=42)\n",
    "model=KNeighborsClassifier().fit(X_train,y_train)# 이웃의 갯수 디폴트는 5개\n",
    "scores=model.score(X_test,y_test)\n",
    "scores"
   ]
  },
  {
   "cell_type": "code",
   "execution_count": 74,
   "id": "06c45011",
   "metadata": {},
   "outputs": [
    {
     "data": {
      "text/plain": [
       "([<matplotlib.axis.XTick at 0x2987b7db580>,\n",
       "  <matplotlib.axis.XTick at 0x2987b7db550>,\n",
       "  <matplotlib.axis.XTick at 0x2987b61b280>,\n",
       "  <matplotlib.axis.XTick at 0x2987a2d4670>,\n",
       "  <matplotlib.axis.XTick at 0x2987a2d4f10>,\n",
       "  <matplotlib.axis.XTick at 0x2987a238a90>,\n",
       "  <matplotlib.axis.XTick at 0x2987a238bb0>,\n",
       "  <matplotlib.axis.XTick at 0x2987a217f70>,\n",
       "  <matplotlib.axis.XTick at 0x2987a217d60>,\n",
       "  <matplotlib.axis.XTick at 0x2987a2389d0>,\n",
       "  <matplotlib.axis.XTick at 0x2987a058e50>,\n",
       "  <matplotlib.axis.XTick at 0x2987a240220>,\n",
       "  <matplotlib.axis.XTick at 0x2987a240040>,\n",
       "  <matplotlib.axis.XTick at 0x2987a249340>,\n",
       "  <matplotlib.axis.XTick at 0x2987a24c9a0>,\n",
       "  <matplotlib.axis.XTick at 0x2987a1eb1c0>,\n",
       "  <matplotlib.axis.XTick at 0x2987a1eb970>,\n",
       "  <matplotlib.axis.XTick at 0x2987a2009d0>,\n",
       "  <matplotlib.axis.XTick at 0x2987a1ebeb0>,\n",
       "  <matplotlib.axis.XTick at 0x2987a240a00>,\n",
       "  <matplotlib.axis.XTick at 0x2987a2003a0>,\n",
       "  <matplotlib.axis.XTick at 0x2987a200220>,\n",
       "  <matplotlib.axis.XTick at 0x2987a204400>,\n",
       "  <matplotlib.axis.XTick at 0x2987a204250>,\n",
       "  <matplotlib.axis.XTick at 0x2987a20b250>,\n",
       "  <matplotlib.axis.XTick at 0x2987a20b9a0>,\n",
       "  <matplotlib.axis.XTick at 0x2987a245820>,\n",
       "  <matplotlib.axis.XTick at 0x2987a20bca0>,\n",
       "  <matplotlib.axis.XTick at 0x2987a204940>,\n",
       "  <matplotlib.axis.XTick at 0x2987a249160>],\n",
       " [Text(1, 0, 'mean radius'),\n",
       "  Text(2, 0, 'mean texture'),\n",
       "  Text(3, 0, 'mean perimeter'),\n",
       "  Text(4, 0, 'mean area'),\n",
       "  Text(5, 0, 'mean smoothness'),\n",
       "  Text(6, 0, 'mean compactness'),\n",
       "  Text(7, 0, 'mean concavity'),\n",
       "  Text(8, 0, 'mean concave points'),\n",
       "  Text(9, 0, 'mean symmetry'),\n",
       "  Text(10, 0, 'mean fractal dimension'),\n",
       "  Text(11, 0, 'radius error'),\n",
       "  Text(12, 0, 'texture error'),\n",
       "  Text(13, 0, 'perimeter error'),\n",
       "  Text(14, 0, 'area error'),\n",
       "  Text(15, 0, 'smoothness error'),\n",
       "  Text(16, 0, 'compactness error'),\n",
       "  Text(17, 0, 'concavity error'),\n",
       "  Text(18, 0, 'concave points error'),\n",
       "  Text(19, 0, 'symmetry error'),\n",
       "  Text(20, 0, 'fractal dimension error'),\n",
       "  Text(21, 0, 'worst radius'),\n",
       "  Text(22, 0, 'worst texture'),\n",
       "  Text(23, 0, 'worst perimeter'),\n",
       "  Text(24, 0, 'worst area'),\n",
       "  Text(25, 0, 'worst smoothness'),\n",
       "  Text(26, 0, 'worst compactness'),\n",
       "  Text(27, 0, 'worst concavity'),\n",
       "  Text(28, 0, 'worst concave points'),\n",
       "  Text(29, 0, 'worst symmetry'),\n",
       "  Text(30, 0, 'worst fractal dimension')])"
      ]
     },
     "execution_count": 74,
     "metadata": {},
     "output_type": "execute_result"
    },
    {
     "data": {
      "image/png": "[encoded data removed]",
      "text/plain": [
       "<Figure size 720x1440 with 1 Axes>"
      ]
     },
     "metadata": {
      "needs_background": "light"
     },
     "output_type": "display_data"
    }
   ],
   "source": [
    "##### 이상치 확인\n",
    "plt.figure(figsize=(10,20))\n",
    "plt.boxplot(cancer.data)\n",
    "# 변수명 추가\n",
    "plt.xticks(np.arange(30)+1,cancer.feature_names,rotation=90) # rotation=90 변수를 90도로 회전 "
   ]
  },
  {
   "cell_type": "code",
   "execution_count": 71,
   "id": "b6341472",
   "metadata": {},
   "outputs": [],
   "source": [
    "##### Standardization\n",
    "#먼저 평균 구하기\n",
    "m = cancer.data.mean(axis=0) # 열을 기준으로 평균\n",
    "s = cancer.data.std(axis=0)\n",
    "\n",
    "data1=(cancer.data-m)/s"
   ]
  },
  {
   "cell_type": "code",
   "execution_count": 75,
   "id": "3c68b1aa",
   "metadata": {},
   "outputs": [
    {
     "data": {
      "text/plain": [
       "([<matplotlib.axis.XTick at 0x2987b9ed520>,\n",
       "  <matplotlib.axis.XTick at 0x2987b9ed4f0>,\n",
       "  <matplotlib.axis.XTick at 0x2987b9e93a0>,\n",
       "  <matplotlib.axis.XTick at 0x2987ba1d310>,\n",
       "  <matplotlib.axis.XTick at 0x2987ba1d820>,\n",
       "  <matplotlib.axis.XTick at 0x2987ba1dd30>,\n",
       "  <matplotlib.axis.XTick at 0x2987bf13280>,\n",
       "  <matplotlib.axis.XTick at 0x2987bf13790>,\n",
       "  <matplotlib.axis.XTick at 0x2987bf13ca0>,\n",
       "  <matplotlib.axis.XTick at 0x2987ba1d4f0>,\n",
       "  <matplotlib.axis.XTick at 0x2987bf138e0>,\n",
       "  <matplotlib.axis.XTick at 0x2987bf191f0>,\n",
       "  <matplotlib.axis.XTick at 0x2987bf19700>,\n",
       "  <matplotlib.axis.XTick at 0x2987bf19c10>,\n",
       "  <matplotlib.axis.XTick at 0x2987bf1e160>,\n",
       "  <matplotlib.axis.XTick at 0x2987bf1e670>,\n",
       "  <matplotlib.axis.XTick at 0x2987bf1eb80>,\n",
       "  <matplotlib.axis.XTick at 0x2987bf240d0>,\n",
       "  <matplotlib.axis.XTick at 0x2987bf1e340>,\n",
       "  <matplotlib.axis.XTick at 0x2987bf193d0>,\n",
       "  <matplotlib.axis.XTick at 0x2987bf24220>,\n",
       "  <matplotlib.axis.XTick at 0x2987bf24790>,\n",
       "  <matplotlib.axis.XTick at 0x2987bf24ca0>,\n",
       "  <matplotlib.axis.XTick at 0x2987bf2d1f0>,\n",
       "  <matplotlib.axis.XTick at 0x2987bf2d700>,\n",
       "  <matplotlib.axis.XTick at 0x2987bf2dc10>,\n",
       "  <matplotlib.axis.XTick at 0x2987bf31160>,\n",
       "  <matplotlib.axis.XTick at 0x2987bf2d790>,\n",
       "  <matplotlib.axis.XTick at 0x2987bf24820>,\n",
       "  <matplotlib.axis.XTick at 0x2987bf1e280>],\n",
       " [Text(1, 0, 'mean radius'),\n",
       "  Text(2, 0, 'mean texture'),\n",
       "  Text(3, 0, 'mean perimeter'),\n",
       "  Text(4, 0, 'mean area'),\n",
       "  Text(5, 0, 'mean smoothness'),\n",
       "  Text(6, 0, 'mean compactness'),\n",
       "  Text(7, 0, 'mean concavity'),\n",
       "  Text(8, 0, 'mean concave points'),\n",
       "  Text(9, 0, 'mean symmetry'),\n",
       "  Text(10, 0, 'mean fractal dimension'),\n",
       "  Text(11, 0, 'radius error'),\n",
       "  Text(12, 0, 'texture error'),\n",
       "  Text(13, 0, 'perimeter error'),\n",
       "  Text(14, 0, 'area error'),\n",
       "  Text(15, 0, 'smoothness error'),\n",
       "  Text(16, 0, 'compactness error'),\n",
       "  Text(17, 0, 'concavity error'),\n",
       "  Text(18, 0, 'concave points error'),\n",
       "  Text(19, 0, 'symmetry error'),\n",
       "  Text(20, 0, 'fractal dimension error'),\n",
       "  Text(21, 0, 'worst radius'),\n",
       "  Text(22, 0, 'worst texture'),\n",
       "  Text(23, 0, 'worst perimeter'),\n",
       "  Text(24, 0, 'worst area'),\n",
       "  Text(25, 0, 'worst smoothness'),\n",
       "  Text(26, 0, 'worst compactness'),\n",
       "  Text(27, 0, 'worst concavity'),\n",
       "  Text(28, 0, 'worst concave points'),\n",
       "  Text(29, 0, 'worst symmetry'),\n",
       "  Text(30, 0, 'worst fractal dimension')])"
      ]
     },
     "execution_count": 75,
     "metadata": {},
     "output_type": "execute_result"
    },
    {
     "data": {
      "image/png": "[encoded data removed]",
      "text/plain": [
       "<Figure size 720x1440 with 1 Axes>"
      ]
     },
     "metadata": {
      "needs_background": "light"
     },
     "output_type": "display_data"
    }
   ],
   "source": [
    "plt.figure(figsize=(10,20))\n",
    "plt.boxplot(data1)\n",
    "plt.xticks(np.arange(30)+1,cancer.feature_names,rotation=90)"
   ]
  },
  {
   "cell_type": "code",
   "execution_count": 76,
   "id": "53826c09",
   "metadata": {},
   "outputs": [
    {
     "data": {
      "text/plain": [
       "0.9790209790209791"
      ]
     },
     "execution_count": 76,
     "metadata": {},
     "output_type": "execute_result"
    }
   ],
   "source": [
    "##### 정규화 후 LogisticRegression\n",
    "cancer= load_breast_cancer()\n",
    "X_train,X_test,y_train,y_test=train_test_split(data1,cancer.target,\n",
    "                                               random_state=42)\n",
    "model=LogisticRegression(max_iter=10000).fit(X_train,y_train)\n",
    "scores=model.score(X_test,y_test)\n",
    "scores"
   ]
  },
  {
   "cell_type": "code",
   "execution_count": 143,
   "id": "9bdeb01c",
   "metadata": {},
   "outputs": [
    {
     "data": {
      "text/plain": [
       "0.965034965034965"
      ]
     },
     "execution_count": 143,
     "metadata": {},
     "output_type": "execute_result"
    }
   ],
   "source": [
    "##### 정규화 후 LinearSVC\n",
    "X_train,X_test,y_train,y_test=train_test_split(data1,cancer.target,\n",
    "                                               random_state=42)\n",
    "model=LinearSVC(max_iter=10000,dual=False).fit(X_train,y_train)\n",
    "scores=model.score(X_test,y_test)\n",
    "scores"
   ]
  },
  {
   "cell_type": "code",
   "execution_count": 144,
   "id": "4ea67019",
   "metadata": {},
   "outputs": [
    {
     "data": {
      "text/plain": [
       "0.958041958041958"
      ]
     },
     "execution_count": 144,
     "metadata": {},
     "output_type": "execute_result"
    }
   ],
   "source": [
    "##### 정규화 후 KNN --> 오히려 낮아짐(0.965034965034965)\n",
    "X_train,X_test,y_train,y_test=train_test_split(data1,cancer.target,\n",
    "                                               random_state=42)\n",
    "model=KNeighborsClassifier().fit(X_train,y_train)\n",
    "scores=model.score(X_test,y_test)\n",
    "scores\n",
    "\n",
    "##### 결론은 머신러닝의 성능은 하이퍼파라미터 뿐만아니라 전처리에서도 차이가 날 수 있다. "
   ]
  },
  {
   "cell_type": "code",
   "execution_count": 146,
   "id": "3ba975f6",
   "metadata": {},
   "outputs": [
    {
     "data": {
      "text/plain": [
       "0.986013986013986"
      ]
     },
     "execution_count": 146,
     "metadata": {},
     "output_type": "execute_result"
    }
   ],
   "source": [
    "##### C값 조정 + 전처리(정규화)\n",
    "\n",
    "####LogisticRegression\n",
    "cancer= load_breast_cancer()\n",
    "X_train,X_test,y_train,y_test=train_test_split(data1,cancer.target,\n",
    "                                               random_state=42)\n",
    "model=LogisticRegression(max_iter=10000,C=0.1).fit(X_train,y_train)\n",
    "scores=model.score(X_test,y_test)\n",
    "scores"
   ]
  },
  {
   "cell_type": "code",
   "execution_count": 88,
   "id": "959d61aa",
   "metadata": {},
   "outputs": [
    {
     "data": {
      "text/plain": [
       "0.993006993006993"
      ]
     },
     "execution_count": 88,
     "metadata": {},
     "output_type": "execute_result"
    }
   ],
   "source": [
    "##### 정규화 LinearSVC + C값 조정\n",
    "X_train,X_test,y_train,y_test=train_test_split(data1,cancer.target,\n",
    "                                               random_state=42)\n",
    "model=LinearSVC(max_iter=10000,dual=False,C=0.01).fit(X_train,y_train)\n",
    "scores=model.score(X_test,y_test)\n",
    "scores"
   ]
  },
  {
   "cell_type": "markdown",
   "id": "5f5bf220",
   "metadata": {},
   "source": [
    "-----------------------------\n",
    "\n",
    "### 3. 다중 클래스 분류\n",
    "\n",
    "- 지금까지는 두가지(이진 분류)로 분류를 했음 \n",
    "- 그러나 항상 두가지중 선택하느냐만 있는것은 아님\n",
    "- 로지스틱 회귀는 가능함.\n",
    "- 이진분류를 다중분류로 하는 "
   ]
  },
  {
   "cell_type": "code",
   "execution_count": 89,
   "id": "fc40beb5",
   "metadata": {},
   "outputs": [
    {
     "data": {
      "text/plain": [
       "[<matplotlib.lines.Line2D at 0x2987c723e50>,\n",
       " <matplotlib.lines.Line2D at 0x2987c738cd0>,\n",
       " <matplotlib.lines.Line2D at 0x2987c919b50>]"
      ]
     },
     "execution_count": 89,
     "metadata": {},
     "output_type": "execute_result"
    },
    {
     "data": {
      "image/png": "[encoded data removed]",
      "text/plain": [
       "<Figure size 432x288 with 1 Axes>"
      ]
     },
     "metadata": {
      "needs_background": "light"
     },
     "output_type": "display_data"
    }
   ],
   "source": [
    "from sklearn.datasets import make_blobs\n",
    "\n",
    "# 샘플 \n",
    "X,y = make_blobs(random_state=42)\n",
    "mglearn.discrete_scatter(X[:,0],X[:,1],y)"
   ]
  },
  {
   "cell_type": "code",
   "execution_count": 90,
   "id": "c4382220",
   "metadata": {},
   "outputs": [
    {
     "name": "stdout",
     "output_type": "stream",
     "text": [
      "[[-0.17492068  0.23140526]\n",
      " [ 0.47621802 -0.06937218]\n",
      " [-0.18914259 -0.20399596]]\n"
     ]
    }
   ],
   "source": [
    "model = LinearSVC().fit(X,y)\n",
    "print(model.coef_)\n",
    "# 결과가 3개가 나옴 LinearSVC는 이진분류인데..? \n",
    "# 3개니까 이진분류를 3번을 써야함. 그래서 3개의 기울기가 나온거"
   ]
  },
  {
   "cell_type": "code",
   "execution_count": 101,
   "id": "2c4615e5",
   "metadata": {},
   "outputs": [
    {
     "data": {
      "image/png": "[encoded data removed]",
      "text/plain": [
       "<Figure size 432x288 with 1 Axes>"
      ]
     },
     "metadata": {},
     "output_type": "display_data"
    }
   ],
   "source": [
    "#그래프로 확인하기\n",
    "mglearn.discrete_scatter(X[:,0],X[:,1],y)\n",
    "\n",
    "#입력값 정해주기\n",
    "xline=np.linspace(-15,15)\n",
    "\n",
    "for coef,intercept in zip(model.coef_,model.intercept_):\n",
    "    plt.plot(xline,-(xline*coef[0]+intercept)/coef[1])\n",
    "    \n",
    "mglearn.plots.plot_2d_classification(model,X,fill=True,alpha=0.6)"
   ]
  },
  {
   "cell_type": "markdown",
   "id": "c4705d9d",
   "metadata": {},
   "source": [
    "-----------------\n",
    "# 평가\n",
    "\n",
    "+ 정확도(Accuracy) : 실제 데이터에서 예측데이터가 얼마나 같은지를 판단하는 지표\n",
    "+ 오차 행렬(Confusion Matrix)\n",
    "+ 정밀도(Precision)\n",
    "+ 재현율(Recall)\n",
    "+ F1 score\n",
    "+ ROC,AUC"
   ]
  },
  {
   "cell_type": "markdown",
   "id": "9390f64f",
   "metadata": {},
   "source": [
    "### (1) 정확도 (Accuracy)\n",
    "\n",
    "+ 예측결과가 동일한 데이터 건수(맞은 갯수) / 전체 예측 데이터 건수\n",
    "+ (TP + TN)/(TN+TP+FP+FN) --> 정확도 공식 \n",
    "+ 정확도는 직관적으로 모델 예측 성능을 나타내는 평가지표\n",
    "+ 하지만 이진 분류의 경우 데이터의 구성에 따라 ML 모델의 성능을 왜곡할 수 있기 때문에 정확도 수치 하나만 가지고 성능을 평가하지 않음. "
   ]
  },
  {
   "cell_type": "code",
   "execution_count": 4,
   "id": "a4d3310a",
   "metadata": {},
   "outputs": [
    {
     "name": "stdout",
     "output_type": "stream",
     "text": [
      "(1797, 64)\n",
      "[[ 0.  0.  5. ...  0.  0.  0.]\n",
      " [ 0.  0.  0. ... 10.  0.  0.]\n",
      " [ 0.  0.  0. ... 16.  9.  0.]\n",
      " ...\n",
      " [ 0.  0.  1. ...  6.  0.  0.]\n",
      " [ 0.  0.  2. ... 12.  0.  0.]\n",
      " [ 0.  0. 10. ... 12.  1.  0.]]\n",
      "[0 1 2 ... 8 9 8]\n"
     ]
    }
   ],
   "source": [
    "from sklearn.datasets import load_digits # 0~ 9까지 이미지를 \n",
    "digits=load_digits()\n",
    "print(digits.data.shape)\n",
    "print(digits.data)\n",
    "print(digits.target)"
   ]
  },
  {
   "cell_type": "code",
   "execution_count": 5,
   "id": "e8d1bd77",
   "metadata": {},
   "outputs": [
    {
     "data": {
      "text/plain": [
       "<matplotlib.image.AxesImage at 0x13bf407b460>"
      ]
     },
     "execution_count": 5,
     "metadata": {},
     "output_type": "execute_result"
    },
    {
     "data": {
      "image/png": "[encoded data removed]",
      "text/plain": [
       "<Figure size 432x288 with 1 Axes>"
      ]
     },
     "metadata": {
      "needs_background": "light"
     },
     "output_type": "display_data"
    }
   ],
   "source": [
    "# 타겟이 7인것만 골라 보기\n",
    "digits.data ==7\n",
    "plt.imshow(digits.data[-1].reshape(8,8)) # 이미지의 종류를 2가지로 축소시켜서 --> 데이터의 불균형을 해결하고자함."
   ]
  },
  {
   "cell_type": "code",
   "execution_count": 6,
   "id": "bebaf3d0",
   "metadata": {},
   "outputs": [
    {
     "name": "stdout",
     "output_type": "stream",
     "text": [
      "1347 450\n",
      "[409  41]\n"
     ]
    }
   ],
   "source": [
    "# 2진 분류로 바꾸기\n",
    "y= (digits.target ==7).astype(int) # 숫자로 바꾸기 \n",
    "np.unique(y)\n",
    "np.bincount(y)\n",
    "\n",
    "X_train,X_test,y_train,y_test=train_test_split(digits.data,y,\n",
    "                                               random_state=42)\n",
    "print(len(X_train),len(X_test))\n",
    "print(np.bincount(y_test))"
   ]
  },
  {
   "cell_type": "code",
   "execution_count": 7,
   "id": "fd85ca0d",
   "metadata": {},
   "outputs": [],
   "source": [
    "from sklearn.base import BaseEstimator\n",
    "class MyFakeClassifier(BaseEstimator):\n",
    "    def fit(self,X,y):\n",
    "        pass\n",
    "    def predict(self,X):\n",
    "        return np.zeros((len(X),1),dtype=bool)\n",
    "    "
   ]
  },
  {
   "cell_type": "code",
   "execution_count": 8,
   "id": "1ea3833e",
   "metadata": {},
   "outputs": [
    {
     "data": {
      "text/plain": [
       "array([[0.],\n",
       "       [0.],\n",
       "       [0.],\n",
       "       [0.],\n",
       "       [0.],\n",
       "       [0.],\n",
       "       [0.],\n",
       "       [0.],\n",
       "       [0.],\n",
       "       [0.],\n",
       "       [0.],\n",
       "       [0.],\n",
       "       [0.],\n",
       "       [0.],\n",
       "       [0.],\n",
       "       [0.],\n",
       "       [0.],\n",
       "       [0.],\n",
       "       [0.],\n",
       "       [0.],\n",
       "       [0.],\n",
       "       [0.],\n",
       "       [0.],\n",
       "       [0.],\n",
       "       [0.],\n",
       "       [0.],\n",
       "       [0.],\n",
       "       [0.],\n",
       "       [0.],\n",
       "       [0.],\n",
       "       [0.],\n",
       "       [0.],\n",
       "       [0.],\n",
       "       [0.],\n",
       "       [0.],\n",
       "       [0.],\n",
       "       [0.],\n",
       "       [0.],\n",
       "       [0.],\n",
       "       [0.],\n",
       "       [0.],\n",
       "       [0.],\n",
       "       [0.],\n",
       "       [0.],\n",
       "       [0.],\n",
       "       [0.],\n",
       "       [0.],\n",
       "       [0.],\n",
       "       [0.],\n",
       "       [0.],\n",
       "       [0.],\n",
       "       [0.],\n",
       "       [0.],\n",
       "       [0.],\n",
       "       [0.],\n",
       "       [0.],\n",
       "       [0.],\n",
       "       [0.],\n",
       "       [0.],\n",
       "       [0.],\n",
       "       [0.],\n",
       "       [0.],\n",
       "       [0.],\n",
       "       [0.],\n",
       "       [0.],\n",
       "       [0.],\n",
       "       [0.],\n",
       "       [0.],\n",
       "       [0.],\n",
       "       [0.],\n",
       "       [0.],\n",
       "       [0.],\n",
       "       [0.],\n",
       "       [0.],\n",
       "       [0.],\n",
       "       [0.],\n",
       "       [0.],\n",
       "       [0.],\n",
       "       [0.],\n",
       "       [0.],\n",
       "       [0.],\n",
       "       [0.],\n",
       "       [0.],\n",
       "       [0.],\n",
       "       [0.],\n",
       "       [0.],\n",
       "       [0.],\n",
       "       [0.],\n",
       "       [0.],\n",
       "       [0.],\n",
       "       [0.],\n",
       "       [0.],\n",
       "       [0.],\n",
       "       [0.],\n",
       "       [0.],\n",
       "       [0.],\n",
       "       [0.],\n",
       "       [0.],\n",
       "       [0.],\n",
       "       [0.],\n",
       "       [0.],\n",
       "       [0.],\n",
       "       [0.],\n",
       "       [0.],\n",
       "       [0.],\n",
       "       [0.],\n",
       "       [0.],\n",
       "       [0.],\n",
       "       [0.],\n",
       "       [0.],\n",
       "       [0.],\n",
       "       [0.],\n",
       "       [0.],\n",
       "       [0.],\n",
       "       [0.],\n",
       "       [0.],\n",
       "       [0.],\n",
       "       [0.],\n",
       "       [0.],\n",
       "       [0.],\n",
       "       [0.],\n",
       "       [0.],\n",
       "       [0.],\n",
       "       [0.],\n",
       "       [0.],\n",
       "       [0.],\n",
       "       [0.],\n",
       "       [0.],\n",
       "       [0.],\n",
       "       [0.],\n",
       "       [0.],\n",
       "       [0.],\n",
       "       [0.],\n",
       "       [0.],\n",
       "       [0.],\n",
       "       [0.],\n",
       "       [0.],\n",
       "       [0.],\n",
       "       [0.],\n",
       "       [0.],\n",
       "       [0.],\n",
       "       [0.],\n",
       "       [0.],\n",
       "       [0.],\n",
       "       [0.],\n",
       "       [0.],\n",
       "       [0.],\n",
       "       [0.],\n",
       "       [0.],\n",
       "       [0.],\n",
       "       [0.],\n",
       "       [0.],\n",
       "       [0.],\n",
       "       [0.],\n",
       "       [0.],\n",
       "       [0.],\n",
       "       [0.],\n",
       "       [0.],\n",
       "       [0.],\n",
       "       [0.],\n",
       "       [0.],\n",
       "       [0.],\n",
       "       [0.],\n",
       "       [0.],\n",
       "       [0.],\n",
       "       [0.],\n",
       "       [0.],\n",
       "       [0.],\n",
       "       [0.],\n",
       "       [0.],\n",
       "       [0.],\n",
       "       [0.],\n",
       "       [0.],\n",
       "       [0.],\n",
       "       [0.],\n",
       "       [0.],\n",
       "       [0.],\n",
       "       [0.],\n",
       "       [0.],\n",
       "       [0.],\n",
       "       [0.],\n",
       "       [0.],\n",
       "       [0.],\n",
       "       [0.],\n",
       "       [0.],\n",
       "       [0.],\n",
       "       [0.],\n",
       "       [0.],\n",
       "       [0.],\n",
       "       [0.],\n",
       "       [0.],\n",
       "       [0.],\n",
       "       [0.],\n",
       "       [0.],\n",
       "       [0.],\n",
       "       [0.],\n",
       "       [0.],\n",
       "       [0.],\n",
       "       [0.],\n",
       "       [0.],\n",
       "       [0.],\n",
       "       [0.],\n",
       "       [0.],\n",
       "       [0.],\n",
       "       [0.],\n",
       "       [0.],\n",
       "       [0.],\n",
       "       [0.],\n",
       "       [0.],\n",
       "       [0.],\n",
       "       [0.],\n",
       "       [0.],\n",
       "       [0.],\n",
       "       [0.],\n",
       "       [0.],\n",
       "       [0.],\n",
       "       [0.],\n",
       "       [0.],\n",
       "       [0.],\n",
       "       [0.],\n",
       "       [0.],\n",
       "       [0.],\n",
       "       [0.],\n",
       "       [0.],\n",
       "       [0.],\n",
       "       [0.],\n",
       "       [0.],\n",
       "       [0.],\n",
       "       [0.],\n",
       "       [0.],\n",
       "       [0.],\n",
       "       [0.],\n",
       "       [0.],\n",
       "       [0.],\n",
       "       [0.],\n",
       "       [0.],\n",
       "       [0.],\n",
       "       [0.],\n",
       "       [0.],\n",
       "       [0.],\n",
       "       [0.],\n",
       "       [0.],\n",
       "       [0.],\n",
       "       [0.],\n",
       "       [0.],\n",
       "       [0.],\n",
       "       [0.],\n",
       "       [0.],\n",
       "       [0.],\n",
       "       [0.],\n",
       "       [0.],\n",
       "       [0.],\n",
       "       [0.],\n",
       "       [0.],\n",
       "       [0.],\n",
       "       [0.],\n",
       "       [0.],\n",
       "       [0.],\n",
       "       [0.],\n",
       "       [0.],\n",
       "       [0.],\n",
       "       [0.],\n",
       "       [0.],\n",
       "       [0.],\n",
       "       [0.],\n",
       "       [0.],\n",
       "       [0.],\n",
       "       [0.],\n",
       "       [0.],\n",
       "       [0.],\n",
       "       [0.],\n",
       "       [0.],\n",
       "       [0.],\n",
       "       [0.],\n",
       "       [0.],\n",
       "       [0.],\n",
       "       [0.],\n",
       "       [0.],\n",
       "       [0.],\n",
       "       [0.],\n",
       "       [0.],\n",
       "       [0.],\n",
       "       [0.],\n",
       "       [0.],\n",
       "       [0.],\n",
       "       [0.],\n",
       "       [0.],\n",
       "       [0.],\n",
       "       [0.],\n",
       "       [0.],\n",
       "       [0.],\n",
       "       [0.],\n",
       "       [0.],\n",
       "       [0.],\n",
       "       [0.],\n",
       "       [0.],\n",
       "       [0.],\n",
       "       [0.],\n",
       "       [0.],\n",
       "       [0.],\n",
       "       [0.],\n",
       "       [0.],\n",
       "       [0.],\n",
       "       [0.],\n",
       "       [0.],\n",
       "       [0.],\n",
       "       [0.],\n",
       "       [0.],\n",
       "       [0.],\n",
       "       [0.],\n",
       "       [0.],\n",
       "       [0.],\n",
       "       [0.],\n",
       "       [0.],\n",
       "       [0.],\n",
       "       [0.],\n",
       "       [0.],\n",
       "       [0.],\n",
       "       [0.],\n",
       "       [0.],\n",
       "       [0.],\n",
       "       [0.],\n",
       "       [0.],\n",
       "       [0.],\n",
       "       [0.],\n",
       "       [0.],\n",
       "       [0.],\n",
       "       [0.],\n",
       "       [0.],\n",
       "       [0.],\n",
       "       [0.],\n",
       "       [0.],\n",
       "       [0.],\n",
       "       [0.],\n",
       "       [0.],\n",
       "       [0.],\n",
       "       [0.],\n",
       "       [0.],\n",
       "       [0.],\n",
       "       [0.],\n",
       "       [0.],\n",
       "       [0.],\n",
       "       [0.],\n",
       "       [0.],\n",
       "       [0.],\n",
       "       [0.],\n",
       "       [0.],\n",
       "       [0.],\n",
       "       [0.],\n",
       "       [0.],\n",
       "       [0.],\n",
       "       [0.],\n",
       "       [0.],\n",
       "       [0.],\n",
       "       [0.],\n",
       "       [0.],\n",
       "       [0.],\n",
       "       [0.],\n",
       "       [0.],\n",
       "       [0.],\n",
       "       [0.],\n",
       "       [0.],\n",
       "       [0.],\n",
       "       [0.],\n",
       "       [0.],\n",
       "       [0.],\n",
       "       [0.],\n",
       "       [0.],\n",
       "       [0.],\n",
       "       [0.],\n",
       "       [0.],\n",
       "       [0.],\n",
       "       [0.],\n",
       "       [0.],\n",
       "       [0.],\n",
       "       [0.],\n",
       "       [0.],\n",
       "       [0.],\n",
       "       [0.],\n",
       "       [0.],\n",
       "       [0.],\n",
       "       [0.],\n",
       "       [0.],\n",
       "       [0.],\n",
       "       [0.],\n",
       "       [0.],\n",
       "       [0.],\n",
       "       [0.],\n",
       "       [0.],\n",
       "       [0.],\n",
       "       [0.],\n",
       "       [0.],\n",
       "       [0.],\n",
       "       [0.],\n",
       "       [0.],\n",
       "       [0.],\n",
       "       [0.],\n",
       "       [0.],\n",
       "       [0.],\n",
       "       [0.],\n",
       "       [0.],\n",
       "       [0.],\n",
       "       [0.],\n",
       "       [0.],\n",
       "       [0.],\n",
       "       [0.],\n",
       "       [0.],\n",
       "       [0.],\n",
       "       [0.],\n",
       "       [0.],\n",
       "       [0.],\n",
       "       [0.],\n",
       "       [0.],\n",
       "       [0.],\n",
       "       [0.],\n",
       "       [0.],\n",
       "       [0.],\n",
       "       [0.],\n",
       "       [0.],\n",
       "       [0.],\n",
       "       [0.],\n",
       "       [0.],\n",
       "       [0.],\n",
       "       [0.],\n",
       "       [0.],\n",
       "       [0.],\n",
       "       [0.],\n",
       "       [0.],\n",
       "       [0.],\n",
       "       [0.],\n",
       "       [0.],\n",
       "       [0.],\n",
       "       [0.],\n",
       "       [0.],\n",
       "       [0.],\n",
       "       [0.],\n",
       "       [0.],\n",
       "       [0.],\n",
       "       [0.],\n",
       "       [0.],\n",
       "       [0.],\n",
       "       [0.],\n",
       "       [0.],\n",
       "       [0.],\n",
       "       [0.],\n",
       "       [0.],\n",
       "       [0.],\n",
       "       [0.],\n",
       "       [0.],\n",
       "       [0.]])"
      ]
     },
     "execution_count": 8,
     "metadata": {},
     "output_type": "execute_result"
    }
   ],
   "source": [
    "# 0으로 예측을 하려고 이렇게 만들어 놓은것 \n",
    "np.zeros((len(X_test),1))\n"
   ]
  },
  {
   "cell_type": "code",
   "execution_count": 9,
   "id": "942b6b5c",
   "metadata": {},
   "outputs": [
    {
     "name": "stdout",
     "output_type": "stream",
     "text": [
      "정확도 : 0.9088888888888889\n"
     ]
    }
   ],
   "source": [
    "clf = MyFakeClassifier()\n",
    "clf.fit(X_train,y_train)\n",
    "pred= clf.predict(X_test)\n",
    "print('정확도 :',accuracy_score(y_test,pred))\n",
    "# 실제로 아무런 훈련도 안했는데 정확도가 90퍼나 나옴 그러니 데이터가 한쪽으로 치우쳐져 있을 때 정확도만 가지고 판단을 하면 안됨 "
   ]
  },
  {
   "cell_type": "code",
   "execution_count": 10,
   "id": "89e4ece2",
   "metadata": {},
   "outputs": [],
   "source": [
    "##### 이를 보완하기 위해 정밀도, 재현율이라는 평가지표를 사용함. \n",
    "##### 이것을 사용하기 전에 정답을 맞춘것과 오답을 확인하는 것이 오차행렬"
   ]
  },
  {
   "cell_type": "markdown",
   "id": "e5838dbb",
   "metadata": {},
   "source": [
    "### Confusion Matrix\n",
    "\n",
    "+ 이진 분류의 예측 오류가 얼마인지와 더불어 어떠한 유형의 예측 오류가 발생했는지를 함께 나타내는 지표 \n",
    "+ 얼마나 틀렸는지 얼마나 맞았는지 \n",
    "+ TN, FP,FN,TP "
   ]
  },
  {
   "cell_type": "code",
   "execution_count": 11,
   "id": "cc8cad4d",
   "metadata": {},
   "outputs": [
    {
     "data": {
      "text/plain": [
       "array([[409,   0],\n",
       "       [ 41,   0]], dtype=int64)"
      ]
     },
     "execution_count": 11,
     "metadata": {},
     "output_type": "execute_result"
    }
   ],
   "source": [
    "# 오차 행렬표 만들기 \n",
    "confusion_matrix(y_test,pred)"
   ]
  },
  {
   "cell_type": "markdown",
   "id": "e57027fc",
   "metadata": {},
   "source": [
    "### (3) 정밀도와 재현율 \n",
    "\n",
    "+ Positive의 예측성능에 조금 더 초점을 맞춘 평가지표\n",
    "+ 정밀도 : TP/(FP + TP) : 예측을 Positive로 한 대상 중에 예측과 실제 값이 Positive로 일치한 데이터의 비율\n",
    "+ 정밀도는 예측값을 기준으로\n",
    "+ 정밀도가 상대적으로 더 중요한 지표인 경우는 실제 negative 음성인 데이터 예측을 positve 양성으로 잘못판단하게 되면 업무상 큰 영향이 발생하는 경우 \n",
    "    - 스팸메일 판정\n",
    "\n",
    "\n",
    "+ 재현율 : TP/(FN + TP) : 실제값이 Positive인 대상 중에 예측과 실제값이 Positive로 일치한 데이터 비율 \n",
    "+ 실제값을 기준으로\n",
    "+ 재현율은 민감도(Sensitive) 또는 TPR(True Positive Rate)라고도 한다.\n",
    "+ 재현율이 중요 지표인 경우는 실제 파지티브 양성 데이터를 네거티브로 잘못 판단하게 되면 업무상 큰 영향이 발생하는 경우\n",
    "    - 암환자 판정, 보험사지 판정\n",
    "+ 둘다 positive를 본다는 것이 공통점. "
   ]
  },
  {
   "cell_type": "code",
   "execution_count": 12,
   "id": "99e596d5",
   "metadata": {},
   "outputs": [
    {
     "data": {
      "text/html": [
       "<div>\n",
       "<style scoped>\n",
       "    .dataframe tbody tr th:only-of-type {\n",
       "        vertical-align: middle;\n",
       "    }\n",
       "\n",
       "    .dataframe tbody tr th {\n",
       "        vertical-align: top;\n",
       "    }\n",
       "\n",
       "    .dataframe thead th {\n",
       "        text-align: right;\n",
       "    }\n",
       "</style>\n",
       "<table border=\"1\" class=\"dataframe\">\n",
       "  <thead>\n",
       "    <tr style=\"text-align: right;\">\n",
       "      <th></th>\n",
       "      <th>PassengerId</th>\n",
       "      <th>Survived</th>\n",
       "      <th>Pclass</th>\n",
       "      <th>Name</th>\n",
       "      <th>Sex</th>\n",
       "      <th>Age</th>\n",
       "      <th>SibSp</th>\n",
       "      <th>Parch</th>\n",
       "      <th>Ticket</th>\n",
       "      <th>Fare</th>\n",
       "      <th>Cabin</th>\n",
       "      <th>Embarked</th>\n",
       "    </tr>\n",
       "  </thead>\n",
       "  <tbody>\n",
       "    <tr>\n",
       "      <th>0</th>\n",
       "      <td>1</td>\n",
       "      <td>0</td>\n",
       "      <td>3</td>\n",
       "      <td>Braund, Mr. Owen Harris</td>\n",
       "      <td>male</td>\n",
       "      <td>22.0</td>\n",
       "      <td>1</td>\n",
       "      <td>0</td>\n",
       "      <td>A/5 21171</td>\n",
       "      <td>7.2500</td>\n",
       "      <td>NaN</td>\n",
       "      <td>S</td>\n",
       "    </tr>\n",
       "    <tr>\n",
       "      <th>1</th>\n",
       "      <td>2</td>\n",
       "      <td>1</td>\n",
       "      <td>1</td>\n",
       "      <td>Cumings, Mrs. John Bradley (Florence Briggs Th...</td>\n",
       "      <td>female</td>\n",
       "      <td>38.0</td>\n",
       "      <td>1</td>\n",
       "      <td>0</td>\n",
       "      <td>PC 17599</td>\n",
       "      <td>71.2833</td>\n",
       "      <td>C85</td>\n",
       "      <td>C</td>\n",
       "    </tr>\n",
       "    <tr>\n",
       "      <th>2</th>\n",
       "      <td>3</td>\n",
       "      <td>1</td>\n",
       "      <td>3</td>\n",
       "      <td>Heikkinen, Miss. Laina</td>\n",
       "      <td>female</td>\n",
       "      <td>26.0</td>\n",
       "      <td>0</td>\n",
       "      <td>0</td>\n",
       "      <td>STON/O2. 3101282</td>\n",
       "      <td>7.9250</td>\n",
       "      <td>NaN</td>\n",
       "      <td>S</td>\n",
       "    </tr>\n",
       "    <tr>\n",
       "      <th>3</th>\n",
       "      <td>4</td>\n",
       "      <td>1</td>\n",
       "      <td>1</td>\n",
       "      <td>Futrelle, Mrs. Jacques Heath (Lily May Peel)</td>\n",
       "      <td>female</td>\n",
       "      <td>35.0</td>\n",
       "      <td>1</td>\n",
       "      <td>0</td>\n",
       "      <td>113803</td>\n",
       "      <td>53.1000</td>\n",
       "      <td>C123</td>\n",
       "      <td>S</td>\n",
       "    </tr>\n",
       "    <tr>\n",
       "      <th>4</th>\n",
       "      <td>5</td>\n",
       "      <td>0</td>\n",
       "      <td>3</td>\n",
       "      <td>Allen, Mr. William Henry</td>\n",
       "      <td>male</td>\n",
       "      <td>35.0</td>\n",
       "      <td>0</td>\n",
       "      <td>0</td>\n",
       "      <td>373450</td>\n",
       "      <td>8.0500</td>\n",
       "      <td>NaN</td>\n",
       "      <td>S</td>\n",
       "    </tr>\n",
       "    <tr>\n",
       "      <th>...</th>\n",
       "      <td>...</td>\n",
       "      <td>...</td>\n",
       "      <td>...</td>\n",
       "      <td>...</td>\n",
       "      <td>...</td>\n",
       "      <td>...</td>\n",
       "      <td>...</td>\n",
       "      <td>...</td>\n",
       "      <td>...</td>\n",
       "      <td>...</td>\n",
       "      <td>...</td>\n",
       "      <td>...</td>\n",
       "    </tr>\n",
       "    <tr>\n",
       "      <th>886</th>\n",
       "      <td>887</td>\n",
       "      <td>0</td>\n",
       "      <td>2</td>\n",
       "      <td>Montvila, Rev. Juozas</td>\n",
       "      <td>male</td>\n",
       "      <td>27.0</td>\n",
       "      <td>0</td>\n",
       "      <td>0</td>\n",
       "      <td>211536</td>\n",
       "      <td>13.0000</td>\n",
       "      <td>NaN</td>\n",
       "      <td>S</td>\n",
       "    </tr>\n",
       "    <tr>\n",
       "      <th>887</th>\n",
       "      <td>888</td>\n",
       "      <td>1</td>\n",
       "      <td>1</td>\n",
       "      <td>Graham, Miss. Margaret Edith</td>\n",
       "      <td>female</td>\n",
       "      <td>19.0</td>\n",
       "      <td>0</td>\n",
       "      <td>0</td>\n",
       "      <td>112053</td>\n",
       "      <td>30.0000</td>\n",
       "      <td>B42</td>\n",
       "      <td>S</td>\n",
       "    </tr>\n",
       "    <tr>\n",
       "      <th>888</th>\n",
       "      <td>889</td>\n",
       "      <td>0</td>\n",
       "      <td>3</td>\n",
       "      <td>Johnston, Miss. Catherine Helen \"Carrie\"</td>\n",
       "      <td>female</td>\n",
       "      <td>NaN</td>\n",
       "      <td>1</td>\n",
       "      <td>2</td>\n",
       "      <td>W./C. 6607</td>\n",
       "      <td>23.4500</td>\n",
       "      <td>NaN</td>\n",
       "      <td>S</td>\n",
       "    </tr>\n",
       "    <tr>\n",
       "      <th>889</th>\n",
       "      <td>890</td>\n",
       "      <td>1</td>\n",
       "      <td>1</td>\n",
       "      <td>Behr, Mr. Karl Howell</td>\n",
       "      <td>male</td>\n",
       "      <td>26.0</td>\n",
       "      <td>0</td>\n",
       "      <td>0</td>\n",
       "      <td>111369</td>\n",
       "      <td>30.0000</td>\n",
       "      <td>C148</td>\n",
       "      <td>C</td>\n",
       "    </tr>\n",
       "    <tr>\n",
       "      <th>890</th>\n",
       "      <td>891</td>\n",
       "      <td>0</td>\n",
       "      <td>3</td>\n",
       "      <td>Dooley, Mr. Patrick</td>\n",
       "      <td>male</td>\n",
       "      <td>32.0</td>\n",
       "      <td>0</td>\n",
       "      <td>0</td>\n",
       "      <td>370376</td>\n",
       "      <td>7.7500</td>\n",
       "      <td>NaN</td>\n",
       "      <td>Q</td>\n",
       "    </tr>\n",
       "  </tbody>\n",
       "</table>\n",
       "<p>891 rows × 12 columns</p>\n",
       "</div>"
      ],
      "text/plain": [
       "     PassengerId  Survived  Pclass  \\\n",
       "0              1         0       3   \n",
       "1              2         1       1   \n",
       "2              3         1       3   \n",
       "3              4         1       1   \n",
       "4              5         0       3   \n",
       "..           ...       ...     ...   \n",
       "886          887         0       2   \n",
       "887          888         1       1   \n",
       "888          889         0       3   \n",
       "889          890         1       1   \n",
       "890          891         0       3   \n",
       "\n",
       "                                                  Name     Sex   Age  SibSp  \\\n",
       "0                              Braund, Mr. Owen Harris    male  22.0      1   \n",
       "1    Cumings, Mrs. John Bradley (Florence Briggs Th...  female  38.0      1   \n",
       "2                               Heikkinen, Miss. Laina  female  26.0      0   \n",
       "3         Futrelle, Mrs. Jacques Heath (Lily May Peel)  female  35.0      1   \n",
       "4                             Allen, Mr. William Henry    male  35.0      0   \n",
       "..                                                 ...     ...   ...    ...   \n",
       "886                              Montvila, Rev. Juozas    male  27.0      0   \n",
       "887                       Graham, Miss. Margaret Edith  female  19.0      0   \n",
       "888           Johnston, Miss. Catherine Helen \"Carrie\"  female   NaN      1   \n",
       "889                              Behr, Mr. Karl Howell    male  26.0      0   \n",
       "890                                Dooley, Mr. Patrick    male  32.0      0   \n",
       "\n",
       "     Parch            Ticket     Fare Cabin Embarked  \n",
       "0        0         A/5 21171   7.2500   NaN        S  \n",
       "1        0          PC 17599  71.2833   C85        C  \n",
       "2        0  STON/O2. 3101282   7.9250   NaN        S  \n",
       "3        0            113803  53.1000  C123        S  \n",
       "4        0            373450   8.0500   NaN        S  \n",
       "..     ...               ...      ...   ...      ...  \n",
       "886      0            211536  13.0000   NaN        S  \n",
       "887      0            112053  30.0000   B42        S  \n",
       "888      2        W./C. 6607  23.4500   NaN        S  \n",
       "889      0            111369  30.0000  C148        C  \n",
       "890      0            370376   7.7500   NaN        Q  \n",
       "\n",
       "[891 rows x 12 columns]"
      ]
     },
     "execution_count": 12,
     "metadata": {},
     "output_type": "execute_result"
    }
   ],
   "source": [
    "df = pd.read_csv('data/train.csv')\n",
    "df"
   ]
  },
  {
   "cell_type": "code",
   "execution_count": 13,
   "id": "3fa9b0ca",
   "metadata": {},
   "outputs": [
    {
     "data": {
      "text/plain": [
       "0      0\n",
       "1      1\n",
       "2      1\n",
       "3      1\n",
       "4      0\n",
       "      ..\n",
       "886    0\n",
       "887    1\n",
       "888    0\n",
       "889    1\n",
       "890    0\n",
       "Name: Survived, Length: 891, dtype: int64"
      ]
     },
     "execution_count": 13,
     "metadata": {},
     "output_type": "execute_result"
    }
   ],
   "source": [
    "y= df['Survived']\n",
    "y"
   ]
  },
  {
   "cell_type": "code",
   "execution_count": 17,
   "id": "01ade922",
   "metadata": {},
   "outputs": [
    {
     "data": {
      "text/html": [
       "<div>\n",
       "<style scoped>\n",
       "    .dataframe tbody tr th:only-of-type {\n",
       "        vertical-align: middle;\n",
       "    }\n",
       "\n",
       "    .dataframe tbody tr th {\n",
       "        vertical-align: top;\n",
       "    }\n",
       "\n",
       "    .dataframe thead th {\n",
       "        text-align: right;\n",
       "    }\n",
       "</style>\n",
       "<table border=\"1\" class=\"dataframe\">\n",
       "  <thead>\n",
       "    <tr style=\"text-align: right;\">\n",
       "      <th></th>\n",
       "      <th>Pclass</th>\n",
       "      <th>Sex</th>\n",
       "      <th>Age</th>\n",
       "      <th>SibSp</th>\n",
       "      <th>Parch</th>\n",
       "      <th>Fare</th>\n",
       "      <th>Cabin</th>\n",
       "      <th>Embarked</th>\n",
       "    </tr>\n",
       "  </thead>\n",
       "  <tbody>\n",
       "    <tr>\n",
       "      <th>0</th>\n",
       "      <td>3</td>\n",
       "      <td>1</td>\n",
       "      <td>22.000000</td>\n",
       "      <td>1</td>\n",
       "      <td>0</td>\n",
       "      <td>7.2500</td>\n",
       "      <td>7</td>\n",
       "      <td>3</td>\n",
       "    </tr>\n",
       "    <tr>\n",
       "      <th>1</th>\n",
       "      <td>1</td>\n",
       "      <td>0</td>\n",
       "      <td>38.000000</td>\n",
       "      <td>1</td>\n",
       "      <td>0</td>\n",
       "      <td>71.2833</td>\n",
       "      <td>2</td>\n",
       "      <td>0</td>\n",
       "    </tr>\n",
       "    <tr>\n",
       "      <th>2</th>\n",
       "      <td>3</td>\n",
       "      <td>0</td>\n",
       "      <td>26.000000</td>\n",
       "      <td>0</td>\n",
       "      <td>0</td>\n",
       "      <td>7.9250</td>\n",
       "      <td>7</td>\n",
       "      <td>3</td>\n",
       "    </tr>\n",
       "    <tr>\n",
       "      <th>3</th>\n",
       "      <td>1</td>\n",
       "      <td>0</td>\n",
       "      <td>35.000000</td>\n",
       "      <td>1</td>\n",
       "      <td>0</td>\n",
       "      <td>53.1000</td>\n",
       "      <td>2</td>\n",
       "      <td>3</td>\n",
       "    </tr>\n",
       "    <tr>\n",
       "      <th>4</th>\n",
       "      <td>3</td>\n",
       "      <td>1</td>\n",
       "      <td>35.000000</td>\n",
       "      <td>0</td>\n",
       "      <td>0</td>\n",
       "      <td>8.0500</td>\n",
       "      <td>7</td>\n",
       "      <td>3</td>\n",
       "    </tr>\n",
       "    <tr>\n",
       "      <th>...</th>\n",
       "      <td>...</td>\n",
       "      <td>...</td>\n",
       "      <td>...</td>\n",
       "      <td>...</td>\n",
       "      <td>...</td>\n",
       "      <td>...</td>\n",
       "      <td>...</td>\n",
       "      <td>...</td>\n",
       "    </tr>\n",
       "    <tr>\n",
       "      <th>886</th>\n",
       "      <td>2</td>\n",
       "      <td>1</td>\n",
       "      <td>27.000000</td>\n",
       "      <td>0</td>\n",
       "      <td>0</td>\n",
       "      <td>13.0000</td>\n",
       "      <td>7</td>\n",
       "      <td>3</td>\n",
       "    </tr>\n",
       "    <tr>\n",
       "      <th>887</th>\n",
       "      <td>1</td>\n",
       "      <td>0</td>\n",
       "      <td>19.000000</td>\n",
       "      <td>0</td>\n",
       "      <td>0</td>\n",
       "      <td>30.0000</td>\n",
       "      <td>1</td>\n",
       "      <td>3</td>\n",
       "    </tr>\n",
       "    <tr>\n",
       "      <th>888</th>\n",
       "      <td>3</td>\n",
       "      <td>0</td>\n",
       "      <td>29.699118</td>\n",
       "      <td>1</td>\n",
       "      <td>2</td>\n",
       "      <td>23.4500</td>\n",
       "      <td>7</td>\n",
       "      <td>3</td>\n",
       "    </tr>\n",
       "    <tr>\n",
       "      <th>889</th>\n",
       "      <td>1</td>\n",
       "      <td>1</td>\n",
       "      <td>26.000000</td>\n",
       "      <td>0</td>\n",
       "      <td>0</td>\n",
       "      <td>30.0000</td>\n",
       "      <td>2</td>\n",
       "      <td>0</td>\n",
       "    </tr>\n",
       "    <tr>\n",
       "      <th>890</th>\n",
       "      <td>3</td>\n",
       "      <td>1</td>\n",
       "      <td>32.000000</td>\n",
       "      <td>0</td>\n",
       "      <td>0</td>\n",
       "      <td>7.7500</td>\n",
       "      <td>7</td>\n",
       "      <td>2</td>\n",
       "    </tr>\n",
       "  </tbody>\n",
       "</table>\n",
       "<p>891 rows × 8 columns</p>\n",
       "</div>"
      ],
      "text/plain": [
       "     Pclass  Sex        Age  SibSp  Parch     Fare  Cabin  Embarked\n",
       "0         3    1  22.000000      1      0   7.2500      7         3\n",
       "1         1    0  38.000000      1      0  71.2833      2         0\n",
       "2         3    0  26.000000      0      0   7.9250      7         3\n",
       "3         1    0  35.000000      1      0  53.1000      2         3\n",
       "4         3    1  35.000000      0      0   8.0500      7         3\n",
       "..      ...  ...        ...    ...    ...      ...    ...       ...\n",
       "886       2    1  27.000000      0      0  13.0000      7         3\n",
       "887       1    0  19.000000      0      0  30.0000      1         3\n",
       "888       3    0  29.699118      1      2  23.4500      7         3\n",
       "889       1    1  26.000000      0      0  30.0000      2         0\n",
       "890       3    1  32.000000      0      0   7.7500      7         2\n",
       "\n",
       "[891 rows x 8 columns]"
      ]
     },
     "execution_count": 17,
     "metadata": {},
     "output_type": "execute_result"
    }
   ],
   "source": [
    "##### 결측치 처리함수--> 결측치를 미리 파악하고(그래프나 등등으로) 진행할것\n",
    "def fillna(df):\n",
    "    df['Age'].fillna(df['Age'].mean(),inplace=True)\n",
    "    df['Cabin'].fillna('N',inplace=True)\n",
    "    df['Embarked'].fillna('N',inplace=True)\n",
    "    df['Fare'].fillna(0,inplace=True)\n",
    "    return df\n",
    "\n",
    "##### 머신러닝에서 불필요한 변수 제거(문자로 된 변수들)\n",
    "def drop_features(df):\n",
    "    df.drop(['PassengerId','Name','Ticket'],axis=1,inplace=True)\n",
    "    return df\n",
    "\n",
    "##### 문자로 된것은 숫자로 바꾸기 : 레이불 인코딩 --> 문자로 되어있지만 중요한 변수들\n",
    "def format_features(df):\n",
    "    df['Cabin'] = df['Cabin'].str[:1]\n",
    "    feature = ['Cabin','Sex','Embarked']\n",
    "    \n",
    "    for f in feature:\n",
    "        le = LabelEncoder()\n",
    "        le= le.fit(df[f])\n",
    "        df[f] = le.transform(df[f])\n",
    "    return df\n",
    "\n",
    "##### 전처리 한번에 실행 \n",
    "def transform_features(df):\n",
    "    df= fillna(df)\n",
    "    df=drop_features(df)\n",
    "    df= format_features(df)\n",
    "    \n",
    "    return df\n",
    "\n",
    "X= df.drop('Survived',axis=1) # y값 빼주기\n",
    "X=transform_features(X)\n",
    "X"
   ]
  },
  {
   "cell_type": "code",
   "execution_count": 18,
   "id": "c0449111",
   "metadata": {},
   "outputs": [],
   "source": [
    "X_train,X_test,y_train,y_test=train_test_split(X,y,random_state=11,test_size=0.20)"
   ]
  },
  {
   "cell_type": "code",
   "execution_count": 19,
   "id": "d0b80e4c",
   "metadata": {},
   "outputs": [],
   "source": [
    "lr = LogisticRegression(max_iter=1200000).fit(X_train,y_train)"
   ]
  },
  {
   "cell_type": "code",
   "execution_count": 20,
   "id": "7754b025",
   "metadata": {},
   "outputs": [
    {
     "data": {
      "text/plain": [
       "0.8491620111731844"
      ]
     },
     "execution_count": 20,
     "metadata": {},
     "output_type": "execute_result"
    }
   ],
   "source": [
    "lr.score(X_test,y_test)"
   ]
  },
  {
   "cell_type": "code",
   "execution_count": 22,
   "id": "d589bf14",
   "metadata": {},
   "outputs": [
    {
     "data": {
      "text/plain": [
       "array([1, 0, 0, 0, 0, 0, 0, 1, 0, 1, 0, 0, 0, 0, 1, 0, 0, 0, 0, 1, 0, 0,\n",
       "       0, 0, 0, 0, 0, 0, 0, 0, 1, 1, 0, 1, 0, 0, 0, 1, 0, 0, 0, 0, 1, 1,\n",
       "       1, 1, 1, 0, 1, 0, 1, 0, 0, 1, 0, 0, 0, 0, 0, 0, 0, 0, 1, 1, 0, 0,\n",
       "       1, 1, 1, 0, 0, 0, 0, 1, 0, 0, 0, 0, 1, 0, 1, 1, 1, 0, 1, 1, 0, 0,\n",
       "       1, 0, 0, 0, 0, 0, 1, 0, 1, 0, 1, 1, 1, 0, 1, 0, 1, 0, 0, 0, 0, 0,\n",
       "       0, 0, 0, 1, 0, 0, 0, 0, 1, 0, 0, 0, 0, 0, 0, 0, 0, 0, 1, 0, 1, 0,\n",
       "       1, 0, 1, 0, 1, 0, 0, 1, 1, 0, 0, 0, 0, 1, 0, 0, 1, 0, 0, 1, 1, 0,\n",
       "       1, 1, 0, 0, 1, 1, 0, 1, 0, 1, 0, 1, 1, 0, 0, 1, 0, 1, 0, 0, 0, 0,\n",
       "       0, 1, 1], dtype=int64)"
      ]
     },
     "execution_count": 22,
     "metadata": {},
     "output_type": "execute_result"
    }
   ],
   "source": [
    "pred = lr.predict(X_test)\n",
    "pred"
   ]
  },
  {
   "cell_type": "code",
   "execution_count": 23,
   "id": "5c7b2e21",
   "metadata": {},
   "outputs": [
    {
     "name": "stdout",
     "output_type": "stream",
     "text": [
      "오차행렬 \n",
      " [[104  14]\n",
      " [ 13  48]]\n"
     ]
    }
   ],
   "source": [
    "confusion=confusion_matrix(y_test, pred)\n",
    "print('오차행렬 \\n',confusion)\n",
    "# 네거티브를 네거티브라 잘 맞춘게 104, 네거티브를 파지티브로 잘못 맞춘게 14개\n",
    "# 파지티브를 네거티브라 잘못맞춘게 13개 파지티브를 파지티브라 잘 맞춘개 48개"
   ]
  },
  {
   "cell_type": "code",
   "execution_count": 25,
   "id": "94e65f68",
   "metadata": {},
   "outputs": [
    {
     "name": "stdout",
     "output_type": "stream",
     "text": [
      "정확도 : 0.8491620111731844\n"
     ]
    }
   ],
   "source": [
    "accuracy=accuracy_score(y_test,pred)\n",
    "print('정확도 :',accuracy)\n",
    "# 정말 제대로 맞췄는지 "
   ]
  },
  {
   "cell_type": "code",
   "execution_count": 30,
   "id": "6201fa08",
   "metadata": {},
   "outputs": [
    {
     "name": "stdout",
     "output_type": "stream",
     "text": [
      "정밀도:  0.7741935483870968\n"
     ]
    }
   ],
   "source": [
    "##### 정밀도 \n",
    "precision = precision_score(y_test,pred)\n",
    "print('정밀도: ',precision)"
   ]
  },
  {
   "cell_type": "code",
   "execution_count": 32,
   "id": "424d3719",
   "metadata": {},
   "outputs": [
    {
     "name": "stdout",
     "output_type": "stream",
     "text": [
      "재현율:  0.7868852459016393\n"
     ]
    }
   ],
   "source": [
    "##### 재현율 \n",
    "recall = recall_score(y_test,pred)\n",
    "print('재현율: ', recall)"
   ]
  },
  {
   "cell_type": "code",
   "execution_count": null,
   "id": "a6299954",
   "metadata": {},
   "outputs": [],
   "source": [
    "#### 한쪽으로 치우친 것은 좋지 않음 --> 둘다 비슷한 수준이어야 좋음 "
   ]
  },
  {
   "cell_type": "markdown",
   "id": "c1642524",
   "metadata": {},
   "source": [
    "### (4) 다중분류에서의 Consusion Matrix"
   ]
  },
  {
   "cell_type": "code",
   "execution_count": 34,
   "id": "2f0667b6",
   "metadata": {},
   "outputs": [
    {
     "data": {
      "text/html": [
       "<div>\n",
       "<style scoped>\n",
       "    .dataframe tbody tr th:only-of-type {\n",
       "        vertical-align: middle;\n",
       "    }\n",
       "\n",
       "    .dataframe tbody tr th {\n",
       "        vertical-align: top;\n",
       "    }\n",
       "\n",
       "    .dataframe thead th {\n",
       "        text-align: right;\n",
       "    }\n",
       "</style>\n",
       "<table border=\"1\" class=\"dataframe\">\n",
       "  <thead>\n",
       "    <tr style=\"text-align: right;\">\n",
       "      <th></th>\n",
       "      <th>A</th>\n",
       "      <th>B</th>\n",
       "      <th>C</th>\n",
       "      <th>D</th>\n",
       "    </tr>\n",
       "  </thead>\n",
       "  <tbody>\n",
       "    <tr>\n",
       "      <th>A</th>\n",
       "      <td>5</td>\n",
       "      <td>0</td>\n",
       "      <td>0</td>\n",
       "      <td>0</td>\n",
       "    </tr>\n",
       "    <tr>\n",
       "      <th>B</th>\n",
       "      <td>0</td>\n",
       "      <td>10</td>\n",
       "      <td>0</td>\n",
       "      <td>0</td>\n",
       "    </tr>\n",
       "    <tr>\n",
       "      <th>C</th>\n",
       "      <td>0</td>\n",
       "      <td>0</td>\n",
       "      <td>15</td>\n",
       "      <td>0</td>\n",
       "    </tr>\n",
       "    <tr>\n",
       "      <th>D</th>\n",
       "      <td>5</td>\n",
       "      <td>0</td>\n",
       "      <td>0</td>\n",
       "      <td>5</td>\n",
       "    </tr>\n",
       "  </tbody>\n",
       "</table>\n",
       "</div>"
      ],
      "text/plain": [
       "   A   B   C  D\n",
       "A  5   0   0  0\n",
       "B  0  10   0  0\n",
       "C  0   0  15  0\n",
       "D  5   0   0  5"
      ]
     },
     "execution_count": 34,
     "metadata": {},
     "output_type": "execute_result"
    }
   ],
   "source": [
    "data = [\n",
    "    [5,0,0,0],\n",
    "    [0,10,0,0],\n",
    "    [0,0,15,0],\n",
    "    [5,0,0,5]\n",
    "]\n",
    "df = pd.DataFrame(data, index=[i for i in 'ABCD'],columns=[i for i in 'ABCD'])\n",
    "df"
   ]
  },
  {
   "cell_type": "code",
   "execution_count": 35,
   "id": "875af57c",
   "metadata": {},
   "outputs": [
    {
     "data": {
      "text/plain": [
       "<AxesSubplot:>"
      ]
     },
     "execution_count": 35,
     "metadata": {},
     "output_type": "execute_result"
    },
    {
     "data": {
      "image/png": "[encoded data removed]",
      "text/plain": [
       "<Figure size 432x288 with 2 Axes>"
      ]
     },
     "metadata": {
      "needs_background": "light"
     },
     "output_type": "display_data"
    }
   ],
   "source": [
    "sns.heatmap(df,annot =True)"
   ]
  },
  {
   "cell_type": "code",
   "execution_count": 36,
   "id": "4acf7d96",
   "metadata": {},
   "outputs": [
    {
     "data": {
      "text/plain": [
       "<AxesSubplot:>"
      ]
     },
     "execution_count": 36,
     "metadata": {},
     "output_type": "execute_result"
    },
    {
     "data": {
      "image/png": "[encoded data removed]",
      "text/plain": [
       "<Figure size 432x288 with 2 Axes>"
      ]
     },
     "metadata": {
      "needs_background": "light"
     },
     "output_type": "display_data"
    }
   ],
   "source": [
    "data = [[9,1,0,0],\n",
    "       [1,15,3,1],\n",
    "       [5,0,24,1],\n",
    "       [0,4,1,15]]\n",
    "\n",
    "df = pd.DataFrame(data, index=[i for i in 'ABCD'],columns=[i for i in 'ABCD'])\n",
    "sns.heatmap(df,annot =True)"
   ]
  },
  {
   "cell_type": "code",
   "execution_count": 38,
   "id": "fce75983",
   "metadata": {},
   "outputs": [
    {
     "data": {
      "text/plain": [
       "array([[0.9       , 0.1       , 0.        , 0.        ],\n",
       "       [0.05      , 0.75      , 0.15      , 0.05      ],\n",
       "       [0.16666667, 0.        , 0.8       , 0.03333333],\n",
       "       [0.        , 0.2       , 0.05      , 0.75      ]])"
      ]
     },
     "execution_count": 38,
     "metadata": {},
     "output_type": "execute_result"
    }
   ],
   "source": [
    "##### 정규화 \n",
    "\n",
    "total = np.sum(data,axis=1)\n",
    "data = data/total[:,None]\n",
    "data"
   ]
  },
  {
   "cell_type": "code",
   "execution_count": 39,
   "id": "e2e4009d",
   "metadata": {},
   "outputs": [
    {
     "data": {
      "text/plain": [
       "array([[2, 0, 0],\n",
       "       [0, 0, 1],\n",
       "       [1, 0, 2]], dtype=int64)"
      ]
     },
     "execution_count": 39,
     "metadata": {},
     "output_type": "execute_result"
    }
   ],
   "source": [
    "y_true=[2,0,2,2,0,1]\n",
    "y_pred=[0,0,2,2,0,2]\n",
    "\n",
    "confusion_matrix(y_true,y_pred)"
   ]
  },
  {
   "cell_type": "markdown",
   "id": "fddd0719",
   "metadata": {},
   "source": [
    "### (5) F1 Score\n",
    "\n",
    "+ 재현율과 정밀도의 조화평균 \n",
    "+ 재현율과 정밀도의 불균형을 맞춰주기 위해 \n",
    "+ F1 Score는 정밀도와 재현율을 결합한 것\n",
    "+ 정밀도와 재현율이 어느 한 쪽으로 치우치지 않는 수치를 나타낼 때 상대적으로 높은 값을 가짐."
   ]
  },
  {
   "cell_type": "code",
   "execution_count": 41,
   "id": "5febc164",
   "metadata": {},
   "outputs": [
    {
     "name": "stdout",
     "output_type": "stream",
     "text": [
      "              precision    recall  f1-score   support\n",
      "\n",
      "     class 0       0.75      0.60      0.67         5\n",
      "     class 1       0.33      0.50      0.40         2\n",
      "\n",
      "    accuracy                           0.57         7\n",
      "   macro avg       0.54      0.55      0.53         7\n",
      "weighted avg       0.63      0.57      0.59         7\n",
      "\n"
     ]
    }
   ],
   "source": [
    "y_true=[0,0,0,1,1,0,0]\n",
    "y_pred=[0,0,0,0,1,1,1]\n",
    "print(classification_report(y_true,y_pred,target_names=['class 0','class 1']))"
   ]
  },
  {
   "cell_type": "markdown",
   "id": "5ecb4d79",
   "metadata": {},
   "source": [
    "### (6) ROC 와 AUC \n",
    "\n",
    "+ 지금까지는 수치로만 봤는데 시각화를 하자 --> 평가 결과를 시각화\n",
    "+ 반드시 해야하는 것은 아닌데 하면 좋음 \n",
    "+ 이진 분류에서 사용"
   ]
  },
  {
   "cell_type": "code",
   "execution_count": 42,
   "id": "dcde857a",
   "metadata": {},
   "outputs": [],
   "source": [
    "# 샘플로 살펴보기 \n",
    "\n",
    "from sklearn.datasets import make_classification\n",
    "\n",
    "X,y=make_classification(n_samples=1000,n_features=2,n_informative=2,n_redundant=0,random_state=0) # 샘플의 갯수, 변수의 갯수 \n"
   ]
  },
  {
   "cell_type": "code",
   "execution_count": 43,
   "id": "23c65372",
   "metadata": {},
   "outputs": [],
   "source": [
    "model = LogisticRegression().fit(X,y)"
   ]
  },
  {
   "cell_type": "code",
   "execution_count": 46,
   "id": "f7811b97",
   "metadata": {},
   "outputs": [],
   "source": [
    "y_hat = model.predict(X)\n"
   ]
  },
  {
   "cell_type": "code",
   "execution_count": 48,
   "id": "9ca2381d",
   "metadata": {},
   "outputs": [
    {
     "name": "stdout",
     "output_type": "stream",
     "text": [
      "[0 1 1 1 1 1 0 1 1 0 1 1 1 0 0 0 1 1 1 1 0 0 0 0 1 0 0 1 0 1 0 1 1 1 1 0 1\n",
      " 0 0 1]\n",
      "[0 1 1 1 1 1 0 1 1 0 1 1 1 0 0 0 1 1 1 1 0 0 0 0 0 0 0 1 0 1 0 1 1 1 1 0 1\n",
      " 0 0 1]\n"
     ]
    }
   ],
   "source": [
    "# 성능 비교 --> 1나 빼고 다 맞음 \n",
    "print(y_hat[:40])\n",
    "print(y[:40])"
   ]
  },
  {
   "cell_type": "code",
   "execution_count": 49,
   "id": "64bc05ae",
   "metadata": {},
   "outputs": [
    {
     "data": {
      "text/plain": [
       "array([[477,  20],\n",
       "       [ 28, 475]], dtype=int64)"
      ]
     },
     "execution_count": 49,
     "metadata": {},
     "output_type": "execute_result"
    }
   ],
   "source": [
    "# 한눈에 보기 위해 오차표를 만들어 보자 \n",
    "confusion_matrix(y,y_hat)"
   ]
  },
  {
   "cell_type": "code",
   "execution_count": 50,
   "id": "3dd10e42",
   "metadata": {},
   "outputs": [
    {
     "name": "stdout",
     "output_type": "stream",
     "text": [
      "              precision    recall  f1-score   support\n",
      "\n",
      "           0       0.94      0.96      0.95       497\n",
      "           1       0.96      0.94      0.95       503\n",
      "\n",
      "    accuracy                           0.95      1000\n",
      "   macro avg       0.95      0.95      0.95      1000\n",
      "weighted avg       0.95      0.95      0.95      1000\n",
      "\n"
     ]
    }
   ],
   "source": [
    "print(classification_report(y,y_hat))"
   ]
  },
  {
   "cell_type": "code",
   "execution_count": 56,
   "id": "9a26c0c0",
   "metadata": {},
   "outputs": [
    {
     "data": {
      "text/plain": [
       "Text(0, 0.5, 'True Positivie Rate(Recall)')"
      ]
     },
     "execution_count": 56,
     "metadata": {},
     "output_type": "execute_result"
    },
    {
     "data": {
      "image/png": "[encoded data removed]",
      "text/plain": [
       "<Figure size 432x288 with 1 Axes>"
      ]
     },
     "metadata": {
      "needs_background": "light"
     },
     "output_type": "display_data"
    }
   ],
   "source": [
    "fpr,tpr,threshold=roc_curve(y,model.decision_function(X)) \n",
    "# 나온 값을 그래프로 그리자\n",
    "# 첫번째 값은 fpr --> 파지티브를 잘못 예측한 값\n",
    "# 두번째 값은 tpr --> 파지티브를 잘 예측한 값 \n",
    "# 세번째 값은 기준선 \n",
    "\n",
    "plt.plot([0,1],[0,1],'k--') # 일단 기준선 잡아 놓기\n",
    "plt.plot(fpr,tpr,'o-',label='Logistic Regression')\n",
    "plt.xlabel('False Positive Rate(fall-out)')\n",
    "plt.ylabel('True Positivie Rate(Recall)')"
   ]
  },
  {
   "cell_type": "markdown",
   "id": "5d95ddd9",
   "metadata": {},
   "source": [
    "### 사례1: 타이타닉\n",
    "+ 성능을 제대로 측정했는지에 대한 관점 "
   ]
  },
  {
   "cell_type": "code",
   "execution_count": 3,
   "id": "b9b8292d",
   "metadata": {},
   "outputs": [
    {
     "data": {
      "text/html": [
       "<div>\n",
       "<style scoped>\n",
       "    .dataframe tbody tr th:only-of-type {\n",
       "        vertical-align: middle;\n",
       "    }\n",
       "\n",
       "    .dataframe tbody tr th {\n",
       "        vertical-align: top;\n",
       "    }\n",
       "\n",
       "    .dataframe thead th {\n",
       "        text-align: right;\n",
       "    }\n",
       "</style>\n",
       "<table border=\"1\" class=\"dataframe\">\n",
       "  <thead>\n",
       "    <tr style=\"text-align: right;\">\n",
       "      <th></th>\n",
       "      <th>PassengerId</th>\n",
       "      <th>Survived</th>\n",
       "      <th>Pclass</th>\n",
       "      <th>Name</th>\n",
       "      <th>Sex</th>\n",
       "      <th>Age</th>\n",
       "      <th>SibSp</th>\n",
       "      <th>Parch</th>\n",
       "      <th>Ticket</th>\n",
       "      <th>Fare</th>\n",
       "      <th>Cabin</th>\n",
       "      <th>Embarked</th>\n",
       "    </tr>\n",
       "  </thead>\n",
       "  <tbody>\n",
       "    <tr>\n",
       "      <th>0</th>\n",
       "      <td>1</td>\n",
       "      <td>0</td>\n",
       "      <td>3</td>\n",
       "      <td>Braund, Mr. Owen Harris</td>\n",
       "      <td>male</td>\n",
       "      <td>22.0</td>\n",
       "      <td>1</td>\n",
       "      <td>0</td>\n",
       "      <td>A/5 21171</td>\n",
       "      <td>7.2500</td>\n",
       "      <td>NaN</td>\n",
       "      <td>S</td>\n",
       "    </tr>\n",
       "    <tr>\n",
       "      <th>1</th>\n",
       "      <td>2</td>\n",
       "      <td>1</td>\n",
       "      <td>1</td>\n",
       "      <td>Cumings, Mrs. John Bradley (Florence Briggs Th...</td>\n",
       "      <td>female</td>\n",
       "      <td>38.0</td>\n",
       "      <td>1</td>\n",
       "      <td>0</td>\n",
       "      <td>PC 17599</td>\n",
       "      <td>71.2833</td>\n",
       "      <td>C85</td>\n",
       "      <td>C</td>\n",
       "    </tr>\n",
       "    <tr>\n",
       "      <th>2</th>\n",
       "      <td>3</td>\n",
       "      <td>1</td>\n",
       "      <td>3</td>\n",
       "      <td>Heikkinen, Miss. Laina</td>\n",
       "      <td>female</td>\n",
       "      <td>26.0</td>\n",
       "      <td>0</td>\n",
       "      <td>0</td>\n",
       "      <td>STON/O2. 3101282</td>\n",
       "      <td>7.9250</td>\n",
       "      <td>NaN</td>\n",
       "      <td>S</td>\n",
       "    </tr>\n",
       "    <tr>\n",
       "      <th>3</th>\n",
       "      <td>4</td>\n",
       "      <td>1</td>\n",
       "      <td>1</td>\n",
       "      <td>Futrelle, Mrs. Jacques Heath (Lily May Peel)</td>\n",
       "      <td>female</td>\n",
       "      <td>35.0</td>\n",
       "      <td>1</td>\n",
       "      <td>0</td>\n",
       "      <td>113803</td>\n",
       "      <td>53.1000</td>\n",
       "      <td>C123</td>\n",
       "      <td>S</td>\n",
       "    </tr>\n",
       "    <tr>\n",
       "      <th>4</th>\n",
       "      <td>5</td>\n",
       "      <td>0</td>\n",
       "      <td>3</td>\n",
       "      <td>Allen, Mr. William Henry</td>\n",
       "      <td>male</td>\n",
       "      <td>35.0</td>\n",
       "      <td>0</td>\n",
       "      <td>0</td>\n",
       "      <td>373450</td>\n",
       "      <td>8.0500</td>\n",
       "      <td>NaN</td>\n",
       "      <td>S</td>\n",
       "    </tr>\n",
       "    <tr>\n",
       "      <th>...</th>\n",
       "      <td>...</td>\n",
       "      <td>...</td>\n",
       "      <td>...</td>\n",
       "      <td>...</td>\n",
       "      <td>...</td>\n",
       "      <td>...</td>\n",
       "      <td>...</td>\n",
       "      <td>...</td>\n",
       "      <td>...</td>\n",
       "      <td>...</td>\n",
       "      <td>...</td>\n",
       "      <td>...</td>\n",
       "    </tr>\n",
       "    <tr>\n",
       "      <th>886</th>\n",
       "      <td>887</td>\n",
       "      <td>0</td>\n",
       "      <td>2</td>\n",
       "      <td>Montvila, Rev. Juozas</td>\n",
       "      <td>male</td>\n",
       "      <td>27.0</td>\n",
       "      <td>0</td>\n",
       "      <td>0</td>\n",
       "      <td>211536</td>\n",
       "      <td>13.0000</td>\n",
       "      <td>NaN</td>\n",
       "      <td>S</td>\n",
       "    </tr>\n",
       "    <tr>\n",
       "      <th>887</th>\n",
       "      <td>888</td>\n",
       "      <td>1</td>\n",
       "      <td>1</td>\n",
       "      <td>Graham, Miss. Margaret Edith</td>\n",
       "      <td>female</td>\n",
       "      <td>19.0</td>\n",
       "      <td>0</td>\n",
       "      <td>0</td>\n",
       "      <td>112053</td>\n",
       "      <td>30.0000</td>\n",
       "      <td>B42</td>\n",
       "      <td>S</td>\n",
       "    </tr>\n",
       "    <tr>\n",
       "      <th>888</th>\n",
       "      <td>889</td>\n",
       "      <td>0</td>\n",
       "      <td>3</td>\n",
       "      <td>Johnston, Miss. Catherine Helen \"Carrie\"</td>\n",
       "      <td>female</td>\n",
       "      <td>NaN</td>\n",
       "      <td>1</td>\n",
       "      <td>2</td>\n",
       "      <td>W./C. 6607</td>\n",
       "      <td>23.4500</td>\n",
       "      <td>NaN</td>\n",
       "      <td>S</td>\n",
       "    </tr>\n",
       "    <tr>\n",
       "      <th>889</th>\n",
       "      <td>890</td>\n",
       "      <td>1</td>\n",
       "      <td>1</td>\n",
       "      <td>Behr, Mr. Karl Howell</td>\n",
       "      <td>male</td>\n",
       "      <td>26.0</td>\n",
       "      <td>0</td>\n",
       "      <td>0</td>\n",
       "      <td>111369</td>\n",
       "      <td>30.0000</td>\n",
       "      <td>C148</td>\n",
       "      <td>C</td>\n",
       "    </tr>\n",
       "    <tr>\n",
       "      <th>890</th>\n",
       "      <td>891</td>\n",
       "      <td>0</td>\n",
       "      <td>3</td>\n",
       "      <td>Dooley, Mr. Patrick</td>\n",
       "      <td>male</td>\n",
       "      <td>32.0</td>\n",
       "      <td>0</td>\n",
       "      <td>0</td>\n",
       "      <td>370376</td>\n",
       "      <td>7.7500</td>\n",
       "      <td>NaN</td>\n",
       "      <td>Q</td>\n",
       "    </tr>\n",
       "  </tbody>\n",
       "</table>\n",
       "<p>891 rows × 12 columns</p>\n",
       "</div>"
      ],
      "text/plain": [
       "     PassengerId  Survived  Pclass  \\\n",
       "0              1         0       3   \n",
       "1              2         1       1   \n",
       "2              3         1       3   \n",
       "3              4         1       1   \n",
       "4              5         0       3   \n",
       "..           ...       ...     ...   \n",
       "886          887         0       2   \n",
       "887          888         1       1   \n",
       "888          889         0       3   \n",
       "889          890         1       1   \n",
       "890          891         0       3   \n",
       "\n",
       "                                                  Name     Sex   Age  SibSp  \\\n",
       "0                              Braund, Mr. Owen Harris    male  22.0      1   \n",
       "1    Cumings, Mrs. John Bradley (Florence Briggs Th...  female  38.0      1   \n",
       "2                               Heikkinen, Miss. Laina  female  26.0      0   \n",
       "3         Futrelle, Mrs. Jacques Heath (Lily May Peel)  female  35.0      1   \n",
       "4                             Allen, Mr. William Henry    male  35.0      0   \n",
       "..                                                 ...     ...   ...    ...   \n",
       "886                              Montvila, Rev. Juozas    male  27.0      0   \n",
       "887                       Graham, Miss. Margaret Edith  female  19.0      0   \n",
       "888           Johnston, Miss. Catherine Helen \"Carrie\"  female   NaN      1   \n",
       "889                              Behr, Mr. Karl Howell    male  26.0      0   \n",
       "890                                Dooley, Mr. Patrick    male  32.0      0   \n",
       "\n",
       "     Parch            Ticket     Fare Cabin Embarked  \n",
       "0        0         A/5 21171   7.2500   NaN        S  \n",
       "1        0          PC 17599  71.2833   C85        C  \n",
       "2        0  STON/O2. 3101282   7.9250   NaN        S  \n",
       "3        0            113803  53.1000  C123        S  \n",
       "4        0            373450   8.0500   NaN        S  \n",
       "..     ...               ...      ...   ...      ...  \n",
       "886      0            211536  13.0000   NaN        S  \n",
       "887      0            112053  30.0000   B42        S  \n",
       "888      2        W./C. 6607  23.4500   NaN        S  \n",
       "889      0            111369  30.0000  C148        C  \n",
       "890      0            370376   7.7500   NaN        Q  \n",
       "\n",
       "[891 rows x 12 columns]"
      ]
     },
     "execution_count": 3,
     "metadata": {},
     "output_type": "execute_result"
    }
   ],
   "source": [
    "df = pd.read_csv('data/train.csv')\n",
    "df"
   ]
  },
  {
   "cell_type": "code",
   "execution_count": 4,
   "id": "56beb4c8",
   "metadata": {},
   "outputs": [],
   "source": [
    "#따로 모아두기 - 별도의 처리 없이 그대로 쓰는 변수 \n",
    "\n",
    "cols_to_keep = ['Survived','Age','Fare']\n"
   ]
  },
  {
   "cell_type": "code",
   "execution_count": 5,
   "id": "e65086ba",
   "metadata": {},
   "outputs": [
    {
     "data": {
      "text/html": [
       "<div>\n",
       "<style scoped>\n",
       "    .dataframe tbody tr th:only-of-type {\n",
       "        vertical-align: middle;\n",
       "    }\n",
       "\n",
       "    .dataframe tbody tr th {\n",
       "        vertical-align: top;\n",
       "    }\n",
       "\n",
       "    .dataframe thead th {\n",
       "        text-align: right;\n",
       "    }\n",
       "</style>\n",
       "<table border=\"1\" class=\"dataframe\">\n",
       "  <thead>\n",
       "    <tr style=\"text-align: right;\">\n",
       "      <th></th>\n",
       "      <th>Pclass_1</th>\n",
       "      <th>Pclass_2</th>\n",
       "      <th>Pclass_3</th>\n",
       "    </tr>\n",
       "  </thead>\n",
       "  <tbody>\n",
       "    <tr>\n",
       "      <th>0</th>\n",
       "      <td>0</td>\n",
       "      <td>0</td>\n",
       "      <td>1</td>\n",
       "    </tr>\n",
       "    <tr>\n",
       "      <th>1</th>\n",
       "      <td>1</td>\n",
       "      <td>0</td>\n",
       "      <td>0</td>\n",
       "    </tr>\n",
       "    <tr>\n",
       "      <th>2</th>\n",
       "      <td>0</td>\n",
       "      <td>0</td>\n",
       "      <td>1</td>\n",
       "    </tr>\n",
       "    <tr>\n",
       "      <th>3</th>\n",
       "      <td>1</td>\n",
       "      <td>0</td>\n",
       "      <td>0</td>\n",
       "    </tr>\n",
       "    <tr>\n",
       "      <th>4</th>\n",
       "      <td>0</td>\n",
       "      <td>0</td>\n",
       "      <td>1</td>\n",
       "    </tr>\n",
       "    <tr>\n",
       "      <th>...</th>\n",
       "      <td>...</td>\n",
       "      <td>...</td>\n",
       "      <td>...</td>\n",
       "    </tr>\n",
       "    <tr>\n",
       "      <th>886</th>\n",
       "      <td>0</td>\n",
       "      <td>1</td>\n",
       "      <td>0</td>\n",
       "    </tr>\n",
       "    <tr>\n",
       "      <th>887</th>\n",
       "      <td>1</td>\n",
       "      <td>0</td>\n",
       "      <td>0</td>\n",
       "    </tr>\n",
       "    <tr>\n",
       "      <th>888</th>\n",
       "      <td>0</td>\n",
       "      <td>0</td>\n",
       "      <td>1</td>\n",
       "    </tr>\n",
       "    <tr>\n",
       "      <th>889</th>\n",
       "      <td>1</td>\n",
       "      <td>0</td>\n",
       "      <td>0</td>\n",
       "    </tr>\n",
       "    <tr>\n",
       "      <th>890</th>\n",
       "      <td>0</td>\n",
       "      <td>0</td>\n",
       "      <td>1</td>\n",
       "    </tr>\n",
       "  </tbody>\n",
       "</table>\n",
       "<p>891 rows × 3 columns</p>\n",
       "</div>"
      ],
      "text/plain": [
       "     Pclass_1  Pclass_2  Pclass_3\n",
       "0           0         0         1\n",
       "1           1         0         0\n",
       "2           0         0         1\n",
       "3           1         0         0\n",
       "4           0         0         1\n",
       "..        ...       ...       ...\n",
       "886         0         1         0\n",
       "887         1         0         0\n",
       "888         0         0         1\n",
       "889         1         0         0\n",
       "890         0         0         1\n",
       "\n",
       "[891 rows x 3 columns]"
      ]
     },
     "execution_count": 5,
     "metadata": {},
     "output_type": "execute_result"
    }
   ],
   "source": [
    "# Pclass 는 One Hot Encoding으로 처리 --> 1이 좋은 건데 컴퓨터는 숫자가 큰것에 가중치를 두기에\n",
    "dummy_class = pd.get_dummies(df['Pclass'],prefix='Pclass')\n",
    "dummy_class\n"
   ]
  },
  {
   "cell_type": "code",
   "execution_count": 6,
   "id": "d3ed8e87",
   "metadata": {},
   "outputs": [
    {
     "data": {
      "text/html": [
       "<div>\n",
       "<style scoped>\n",
       "    .dataframe tbody tr th:only-of-type {\n",
       "        vertical-align: middle;\n",
       "    }\n",
       "\n",
       "    .dataframe tbody tr th {\n",
       "        vertical-align: top;\n",
       "    }\n",
       "\n",
       "    .dataframe thead th {\n",
       "        text-align: right;\n",
       "    }\n",
       "</style>\n",
       "<table border=\"1\" class=\"dataframe\">\n",
       "  <thead>\n",
       "    <tr style=\"text-align: right;\">\n",
       "      <th></th>\n",
       "      <th>Sex_female</th>\n",
       "      <th>Sex_male</th>\n",
       "    </tr>\n",
       "  </thead>\n",
       "  <tbody>\n",
       "    <tr>\n",
       "      <th>0</th>\n",
       "      <td>0</td>\n",
       "      <td>1</td>\n",
       "    </tr>\n",
       "    <tr>\n",
       "      <th>1</th>\n",
       "      <td>1</td>\n",
       "      <td>0</td>\n",
       "    </tr>\n",
       "    <tr>\n",
       "      <th>2</th>\n",
       "      <td>1</td>\n",
       "      <td>0</td>\n",
       "    </tr>\n",
       "    <tr>\n",
       "      <th>3</th>\n",
       "      <td>1</td>\n",
       "      <td>0</td>\n",
       "    </tr>\n",
       "    <tr>\n",
       "      <th>4</th>\n",
       "      <td>0</td>\n",
       "      <td>1</td>\n",
       "    </tr>\n",
       "    <tr>\n",
       "      <th>...</th>\n",
       "      <td>...</td>\n",
       "      <td>...</td>\n",
       "    </tr>\n",
       "    <tr>\n",
       "      <th>886</th>\n",
       "      <td>0</td>\n",
       "      <td>1</td>\n",
       "    </tr>\n",
       "    <tr>\n",
       "      <th>887</th>\n",
       "      <td>1</td>\n",
       "      <td>0</td>\n",
       "    </tr>\n",
       "    <tr>\n",
       "      <th>888</th>\n",
       "      <td>1</td>\n",
       "      <td>0</td>\n",
       "    </tr>\n",
       "    <tr>\n",
       "      <th>889</th>\n",
       "      <td>0</td>\n",
       "      <td>1</td>\n",
       "    </tr>\n",
       "    <tr>\n",
       "      <th>890</th>\n",
       "      <td>0</td>\n",
       "      <td>1</td>\n",
       "    </tr>\n",
       "  </tbody>\n",
       "</table>\n",
       "<p>891 rows × 2 columns</p>\n",
       "</div>"
      ],
      "text/plain": [
       "     Sex_female  Sex_male\n",
       "0             0         1\n",
       "1             1         0\n",
       "2             1         0\n",
       "3             1         0\n",
       "4             0         1\n",
       "..          ...       ...\n",
       "886           0         1\n",
       "887           1         0\n",
       "888           1         0\n",
       "889           0         1\n",
       "890           0         1\n",
       "\n",
       "[891 rows x 2 columns]"
      ]
     },
     "execution_count": 6,
     "metadata": {},
     "output_type": "execute_result"
    }
   ],
   "source": [
    "##### Sex도 one hot encoding으로 처리\n",
    "dummy_sex = pd.get_dummies(df['Sex'],prefix='Sex')\n",
    "dummy_sex"
   ]
  },
  {
   "cell_type": "code",
   "execution_count": 7,
   "id": "d3183253",
   "metadata": {},
   "outputs": [
    {
     "data": {
      "text/html": [
       "<div>\n",
       "<style scoped>\n",
       "    .dataframe tbody tr th:only-of-type {\n",
       "        vertical-align: middle;\n",
       "    }\n",
       "\n",
       "    .dataframe tbody tr th {\n",
       "        vertical-align: top;\n",
       "    }\n",
       "\n",
       "    .dataframe thead th {\n",
       "        text-align: right;\n",
       "    }\n",
       "</style>\n",
       "<table border=\"1\" class=\"dataframe\">\n",
       "  <thead>\n",
       "    <tr style=\"text-align: right;\">\n",
       "      <th></th>\n",
       "      <th>Survived</th>\n",
       "      <th>Age</th>\n",
       "      <th>Fare</th>\n",
       "      <th>Pclass_1</th>\n",
       "      <th>Pclass_2</th>\n",
       "      <th>Pclass_3</th>\n",
       "      <th>Sex_male</th>\n",
       "    </tr>\n",
       "  </thead>\n",
       "  <tbody>\n",
       "    <tr>\n",
       "      <th>0</th>\n",
       "      <td>0</td>\n",
       "      <td>22.0</td>\n",
       "      <td>7.2500</td>\n",
       "      <td>0</td>\n",
       "      <td>0</td>\n",
       "      <td>1</td>\n",
       "      <td>1</td>\n",
       "    </tr>\n",
       "    <tr>\n",
       "      <th>1</th>\n",
       "      <td>1</td>\n",
       "      <td>38.0</td>\n",
       "      <td>71.2833</td>\n",
       "      <td>1</td>\n",
       "      <td>0</td>\n",
       "      <td>0</td>\n",
       "      <td>0</td>\n",
       "    </tr>\n",
       "    <tr>\n",
       "      <th>2</th>\n",
       "      <td>1</td>\n",
       "      <td>26.0</td>\n",
       "      <td>7.9250</td>\n",
       "      <td>0</td>\n",
       "      <td>0</td>\n",
       "      <td>1</td>\n",
       "      <td>0</td>\n",
       "    </tr>\n",
       "    <tr>\n",
       "      <th>3</th>\n",
       "      <td>1</td>\n",
       "      <td>35.0</td>\n",
       "      <td>53.1000</td>\n",
       "      <td>1</td>\n",
       "      <td>0</td>\n",
       "      <td>0</td>\n",
       "      <td>0</td>\n",
       "    </tr>\n",
       "    <tr>\n",
       "      <th>4</th>\n",
       "      <td>0</td>\n",
       "      <td>35.0</td>\n",
       "      <td>8.0500</td>\n",
       "      <td>0</td>\n",
       "      <td>0</td>\n",
       "      <td>1</td>\n",
       "      <td>1</td>\n",
       "    </tr>\n",
       "    <tr>\n",
       "      <th>...</th>\n",
       "      <td>...</td>\n",
       "      <td>...</td>\n",
       "      <td>...</td>\n",
       "      <td>...</td>\n",
       "      <td>...</td>\n",
       "      <td>...</td>\n",
       "      <td>...</td>\n",
       "    </tr>\n",
       "    <tr>\n",
       "      <th>886</th>\n",
       "      <td>0</td>\n",
       "      <td>27.0</td>\n",
       "      <td>13.0000</td>\n",
       "      <td>0</td>\n",
       "      <td>1</td>\n",
       "      <td>0</td>\n",
       "      <td>1</td>\n",
       "    </tr>\n",
       "    <tr>\n",
       "      <th>887</th>\n",
       "      <td>1</td>\n",
       "      <td>19.0</td>\n",
       "      <td>30.0000</td>\n",
       "      <td>1</td>\n",
       "      <td>0</td>\n",
       "      <td>0</td>\n",
       "      <td>0</td>\n",
       "    </tr>\n",
       "    <tr>\n",
       "      <th>888</th>\n",
       "      <td>0</td>\n",
       "      <td>NaN</td>\n",
       "      <td>23.4500</td>\n",
       "      <td>0</td>\n",
       "      <td>0</td>\n",
       "      <td>1</td>\n",
       "      <td>0</td>\n",
       "    </tr>\n",
       "    <tr>\n",
       "      <th>889</th>\n",
       "      <td>1</td>\n",
       "      <td>26.0</td>\n",
       "      <td>30.0000</td>\n",
       "      <td>1</td>\n",
       "      <td>0</td>\n",
       "      <td>0</td>\n",
       "      <td>1</td>\n",
       "    </tr>\n",
       "    <tr>\n",
       "      <th>890</th>\n",
       "      <td>0</td>\n",
       "      <td>32.0</td>\n",
       "      <td>7.7500</td>\n",
       "      <td>0</td>\n",
       "      <td>0</td>\n",
       "      <td>1</td>\n",
       "      <td>1</td>\n",
       "    </tr>\n",
       "  </tbody>\n",
       "</table>\n",
       "<p>891 rows × 7 columns</p>\n",
       "</div>"
      ],
      "text/plain": [
       "     Survived   Age     Fare  Pclass_1  Pclass_2  Pclass_3  Sex_male\n",
       "0           0  22.0   7.2500         0         0         1         1\n",
       "1           1  38.0  71.2833         1         0         0         0\n",
       "2           1  26.0   7.9250         0         0         1         0\n",
       "3           1  35.0  53.1000         1         0         0         0\n",
       "4           0  35.0   8.0500         0         0         1         1\n",
       "..        ...   ...      ...       ...       ...       ...       ...\n",
       "886         0  27.0  13.0000         0         1         0         1\n",
       "887         1  19.0  30.0000         1         0         0         0\n",
       "888         0   NaN  23.4500         0         0         1         0\n",
       "889         1  26.0  30.0000         1         0         0         1\n",
       "890         0  32.0   7.7500         0         0         1         1\n",
       "\n",
       "[891 rows x 7 columns]"
      ]
     },
     "execution_count": 7,
     "metadata": {},
     "output_type": "execute_result"
    }
   ],
   "source": [
    "#### 지금까지 전처리한 필드들을 하나의 데이터프레임으로 합치기\n",
    "df1=df[cols_to_keep].join(dummy_class.loc[:,'Pclass_1':])\n",
    "df1\n",
    "\n",
    "# 성별은 하나만 있어도 됨 \n",
    "df1 = df1.join(dummy_sex.loc[:,'Sex_male'])\n",
    "df1"
   ]
  },
  {
   "cell_type": "code",
   "execution_count": 8,
   "id": "566eea4b",
   "metadata": {},
   "outputs": [
    {
     "data": {
      "text/plain": [
       "Index(['Age', 'Fare', 'Pclass_1', 'Pclass_2', 'Pclass_3', 'Sex_male'], dtype='object')"
      ]
     },
     "execution_count": 8,
     "metadata": {},
     "output_type": "execute_result"
    }
   ],
   "source": [
    "##### Survived 필드 제외 \n",
    "train_col = df1.columns[1:]\n",
    "train_col"
   ]
  },
  {
   "cell_type": "code",
   "execution_count": 9,
   "id": "305b5da1",
   "metadata": {},
   "outputs": [
    {
     "name": "stdout",
     "output_type": "stream",
     "text": [
      "<class 'pandas.core.frame.DataFrame'>\n",
      "RangeIndex: 891 entries, 0 to 890\n",
      "Data columns (total 7 columns):\n",
      " #   Column    Non-Null Count  Dtype  \n",
      "---  ------    --------------  -----  \n",
      " 0   Survived  891 non-null    int64  \n",
      " 1   Age       714 non-null    float64\n",
      " 2   Fare      891 non-null    float64\n",
      " 3   Pclass_1  891 non-null    uint8  \n",
      " 4   Pclass_2  891 non-null    uint8  \n",
      " 5   Pclass_3  891 non-null    uint8  \n",
      " 6   Sex_male  891 non-null    uint8  \n",
      "dtypes: float64(2), int64(1), uint8(4)\n",
      "memory usage: 24.5 KB\n"
     ]
    }
   ],
   "source": [
    "##### 결측치 확인 \n",
    "np.isnan(df1[train_col])\n",
    "df1.info() # --> 나이에 있음을 확인\n",
    "\n",
    "##### if 결측치  삭제한다면\n",
    "# df1[train_col].dropna(axis=0)\n",
    "# df1['Survived'].dropna(axis=0)\n",
    "\n",
    "# 0으로 대체 \n",
    "df1[train_col]=df1[train_col].fillna(0)\n",
    "df1['Survived']=df1['Survived'].fillna(0)"
   ]
  },
  {
   "cell_type": "code",
   "execution_count": 15,
   "id": "557ef026",
   "metadata": {},
   "outputs": [
    {
     "name": "stdout",
     "output_type": "stream",
     "text": [
      "<class 'pandas.core.frame.DataFrame'>\n",
      "RangeIndex: 891 entries, 0 to 890\n",
      "Data columns (total 7 columns):\n",
      " #   Column    Non-Null Count  Dtype  \n",
      "---  ------    --------------  -----  \n",
      " 0   Survived  891 non-null    int64  \n",
      " 1   Age       891 non-null    float64\n",
      " 2   Fare      891 non-null    float64\n",
      " 3   Pclass_1  891 non-null    uint8  \n",
      " 4   Pclass_2  891 non-null    uint8  \n",
      " 5   Pclass_3  891 non-null    uint8  \n",
      " 6   Sex_male  891 non-null    uint8  \n",
      "dtypes: float64(2), int64(1), uint8(4)\n",
      "memory usage: 24.5 KB\n"
     ]
    }
   ],
   "source": [
    "df1.info()"
   ]
  },
  {
   "cell_type": "code",
   "execution_count": 18,
   "id": "8a385cc9",
   "metadata": {},
   "outputs": [
    {
     "name": "stdout",
     "output_type": "stream",
     "text": [
      "Optimization terminated successfully.\n",
      "         Current function value: 0.458488\n",
      "         Iterations 6\n"
     ]
    },
    {
     "data": {
      "text/html": [
       "<table class=\"simpletable\">\n",
       "<tr>\n",
       "        <td>Model:</td>              <td>Logit</td>      <td>Pseudo R-squared:</td>    <td>0.311</td>  \n",
       "</tr>\n",
       "<tr>\n",
       "  <td>Dependent Variable:</td>     <td>Survived</td>           <td>AIC:</td>         <td>829.0250</td> \n",
       "</tr>\n",
       "<tr>\n",
       "         <td>Date:</td>        <td>2021-11-24 10:13</td>       <td>BIC:</td>         <td>857.7791</td> \n",
       "</tr>\n",
       "<tr>\n",
       "   <td>No. Observations:</td>         <td>891</td>        <td>Log-Likelihood:</td>    <td>-408.51</td> \n",
       "</tr>\n",
       "<tr>\n",
       "       <td>Df Model:</td>              <td>5</td>            <td>LL-Null:</td>        <td>-593.33</td> \n",
       "</tr>\n",
       "<tr>\n",
       "     <td>Df Residuals:</td>           <td>885</td>         <td>LLR p-value:</td>    <td>1.0371e-77</td>\n",
       "</tr>\n",
       "<tr>\n",
       "      <td>Converged:</td>           <td>1.0000</td>           <td>Scale:</td>         <td>1.0000</td>  \n",
       "</tr>\n",
       "<tr>\n",
       "    <td>No. Iterations:</td>        <td>6.0000</td>              <td></td>               <td></td>     \n",
       "</tr>\n",
       "</table>\n",
       "<table class=\"simpletable\">\n",
       "<tr>\n",
       "      <td></td>      <th>Coef.</th>  <th>Std.Err.</th>     <th>z</th>     <th>P>|z|</th> <th>[0.025</th>  <th>0.975]</th> \n",
       "</tr>\n",
       "<tr>\n",
       "  <th>Age</th>      <td>-0.0159</td>  <td>0.0053</td>   <td>-2.9843</td> <td>0.0028</td> <td>-0.0264</td> <td>-0.0055</td>\n",
       "</tr>\n",
       "<tr>\n",
       "  <th>Fare</th>     <td>0.0015</td>   <td>0.0021</td>   <td>0.7370</td>  <td>0.4611</td> <td>-0.0026</td> <td>0.0056</td> \n",
       "</tr>\n",
       "<tr>\n",
       "  <th>Pclass_1</th> <td>2.6932</td>   <td>0.3372</td>   <td>7.9875</td>  <td>0.0000</td> <td>2.0323</td>  <td>3.3540</td> \n",
       "</tr>\n",
       "<tr>\n",
       "  <th>Pclass_2</th> <td>1.8519</td>   <td>0.2670</td>   <td>6.9358</td>  <td>0.0000</td> <td>1.3286</td>  <td>2.3752</td> \n",
       "</tr>\n",
       "<tr>\n",
       "  <th>Pclass_3</th> <td>0.6215</td>   <td>0.1808</td>   <td>3.4377</td>  <td>0.0006</td> <td>0.2672</td>  <td>0.9758</td> \n",
       "</tr>\n",
       "<tr>\n",
       "  <th>Sex_male</th> <td>-2.6151</td>  <td>0.1860</td>  <td>-14.0594</td> <td>0.0000</td> <td>-2.9797</td> <td>-2.2505</td>\n",
       "</tr>\n",
       "</table>"
      ],
      "text/plain": [
       "<class 'statsmodels.iolib.summary2.Summary'>\n",
       "\"\"\"\n",
       "                         Results: Logit\n",
       "=================================================================\n",
       "Model:              Logit            Pseudo R-squared: 0.311     \n",
       "Dependent Variable: Survived         AIC:              829.0250  \n",
       "Date:               2021-11-24 10:13 BIC:              857.7791  \n",
       "No. Observations:   891              Log-Likelihood:   -408.51   \n",
       "Df Model:           5                LL-Null:          -593.33   \n",
       "Df Residuals:       885              LLR p-value:      1.0371e-77\n",
       "Converged:          1.0000           Scale:            1.0000    \n",
       "No. Iterations:     6.0000                                       \n",
       "------------------------------------------------------------------\n",
       "              Coef.   Std.Err.     z      P>|z|    [0.025   0.975]\n",
       "------------------------------------------------------------------\n",
       "Age          -0.0159    0.0053   -2.9843  0.0028  -0.0264  -0.0055\n",
       "Fare          0.0015    0.0021    0.7370  0.4611  -0.0026   0.0056\n",
       "Pclass_1      2.6932    0.3372    7.9875  0.0000   2.0323   3.3540\n",
       "Pclass_2      1.8519    0.2670    6.9358  0.0000   1.3286   2.3752\n",
       "Pclass_3      0.6215    0.1808    3.4377  0.0006   0.2672   0.9758\n",
       "Sex_male     -2.6151    0.1860  -14.0594  0.0000  -2.9797  -2.2505\n",
       "=================================================================\n",
       "\n",
       "\"\"\""
      ]
     },
     "execution_count": 18,
     "metadata": {},
     "output_type": "execute_result"
    }
   ],
   "source": [
    "# 통계 모델 구하기\n",
    "import statsmodels.api as sm\n",
    "model=sm.Logit(df1['Survived'],df1[train_col]).fit()\n",
    "model.summary2()\n",
    "# 기울기를 보고 대략적인 부분을 파악해 볼 수 있음."
   ]
  },
  {
   "cell_type": "code",
   "execution_count": 19,
   "id": "49636659",
   "metadata": {},
   "outputs": [],
   "source": [
    "model2 = LogisticRegression().fit(df1[train_col],df1['Survived'])"
   ]
  },
  {
   "cell_type": "code",
   "execution_count": 20,
   "id": "7b798e8d",
   "metadata": {},
   "outputs": [
    {
     "data": {
      "text/html": [
       "<div>\n",
       "<style scoped>\n",
       "    .dataframe tbody tr th:only-of-type {\n",
       "        vertical-align: middle;\n",
       "    }\n",
       "\n",
       "    .dataframe tbody tr th {\n",
       "        vertical-align: top;\n",
       "    }\n",
       "\n",
       "    .dataframe thead th {\n",
       "        text-align: right;\n",
       "    }\n",
       "</style>\n",
       "<table border=\"1\" class=\"dataframe\">\n",
       "  <thead>\n",
       "    <tr style=\"text-align: right;\">\n",
       "      <th></th>\n",
       "      <th>Survived</th>\n",
       "      <th>Age</th>\n",
       "      <th>Fare</th>\n",
       "      <th>Pclass_1</th>\n",
       "      <th>Pclass_2</th>\n",
       "      <th>Pclass_3</th>\n",
       "      <th>Sex_male</th>\n",
       "      <th>predict</th>\n",
       "    </tr>\n",
       "  </thead>\n",
       "  <tbody>\n",
       "    <tr>\n",
       "      <th>0</th>\n",
       "      <td>0</td>\n",
       "      <td>22.0</td>\n",
       "      <td>7.2500</td>\n",
       "      <td>0</td>\n",
       "      <td>0</td>\n",
       "      <td>1</td>\n",
       "      <td>1</td>\n",
       "      <td>0</td>\n",
       "    </tr>\n",
       "    <tr>\n",
       "      <th>1</th>\n",
       "      <td>1</td>\n",
       "      <td>38.0</td>\n",
       "      <td>71.2833</td>\n",
       "      <td>1</td>\n",
       "      <td>0</td>\n",
       "      <td>0</td>\n",
       "      <td>0</td>\n",
       "      <td>1</td>\n",
       "    </tr>\n",
       "    <tr>\n",
       "      <th>2</th>\n",
       "      <td>1</td>\n",
       "      <td>26.0</td>\n",
       "      <td>7.9250</td>\n",
       "      <td>0</td>\n",
       "      <td>0</td>\n",
       "      <td>1</td>\n",
       "      <td>0</td>\n",
       "      <td>1</td>\n",
       "    </tr>\n",
       "    <tr>\n",
       "      <th>3</th>\n",
       "      <td>1</td>\n",
       "      <td>35.0</td>\n",
       "      <td>53.1000</td>\n",
       "      <td>1</td>\n",
       "      <td>0</td>\n",
       "      <td>0</td>\n",
       "      <td>0</td>\n",
       "      <td>1</td>\n",
       "    </tr>\n",
       "    <tr>\n",
       "      <th>4</th>\n",
       "      <td>0</td>\n",
       "      <td>35.0</td>\n",
       "      <td>8.0500</td>\n",
       "      <td>0</td>\n",
       "      <td>0</td>\n",
       "      <td>1</td>\n",
       "      <td>1</td>\n",
       "      <td>0</td>\n",
       "    </tr>\n",
       "    <tr>\n",
       "      <th>5</th>\n",
       "      <td>0</td>\n",
       "      <td>0.0</td>\n",
       "      <td>8.4583</td>\n",
       "      <td>0</td>\n",
       "      <td>0</td>\n",
       "      <td>1</td>\n",
       "      <td>1</td>\n",
       "      <td>0</td>\n",
       "    </tr>\n",
       "    <tr>\n",
       "      <th>6</th>\n",
       "      <td>0</td>\n",
       "      <td>54.0</td>\n",
       "      <td>51.8625</td>\n",
       "      <td>1</td>\n",
       "      <td>0</td>\n",
       "      <td>0</td>\n",
       "      <td>1</td>\n",
       "      <td>0</td>\n",
       "    </tr>\n",
       "    <tr>\n",
       "      <th>7</th>\n",
       "      <td>0</td>\n",
       "      <td>2.0</td>\n",
       "      <td>21.0750</td>\n",
       "      <td>0</td>\n",
       "      <td>0</td>\n",
       "      <td>1</td>\n",
       "      <td>1</td>\n",
       "      <td>0</td>\n",
       "    </tr>\n",
       "    <tr>\n",
       "      <th>8</th>\n",
       "      <td>1</td>\n",
       "      <td>27.0</td>\n",
       "      <td>11.1333</td>\n",
       "      <td>0</td>\n",
       "      <td>0</td>\n",
       "      <td>1</td>\n",
       "      <td>0</td>\n",
       "      <td>1</td>\n",
       "    </tr>\n",
       "    <tr>\n",
       "      <th>9</th>\n",
       "      <td>1</td>\n",
       "      <td>14.0</td>\n",
       "      <td>30.0708</td>\n",
       "      <td>0</td>\n",
       "      <td>1</td>\n",
       "      <td>0</td>\n",
       "      <td>0</td>\n",
       "      <td>1</td>\n",
       "    </tr>\n",
       "  </tbody>\n",
       "</table>\n",
       "</div>"
      ],
      "text/plain": [
       "   Survived   Age     Fare  Pclass_1  Pclass_2  Pclass_3  Sex_male  predict\n",
       "0         0  22.0   7.2500         0         0         1         1        0\n",
       "1         1  38.0  71.2833         1         0         0         0        1\n",
       "2         1  26.0   7.9250         0         0         1         0        1\n",
       "3         1  35.0  53.1000         1         0         0         0        1\n",
       "4         0  35.0   8.0500         0         0         1         1        0\n",
       "5         0   0.0   8.4583         0         0         1         1        0\n",
       "6         0  54.0  51.8625         1         0         0         1        0\n",
       "7         0   2.0  21.0750         0         0         1         1        0\n",
       "8         1  27.0  11.1333         0         0         1         0        1\n",
       "9         1  14.0  30.0708         0         1         0         0        1"
      ]
     },
     "execution_count": 20,
     "metadata": {},
     "output_type": "execute_result"
    }
   ],
   "source": [
    "df1['predict']=model2.predict(df1[train_col])\n",
    "df1.head(10)"
   ]
  },
  {
   "cell_type": "code",
   "execution_count": 26,
   "id": "df3dcffe",
   "metadata": {
    "scrolled": true
   },
   "outputs": [
    {
     "name": "stdout",
     "output_type": "stream",
     "text": [
      "[[456  93]\n",
      " [100 242]]\n",
      "              precision    recall  f1-score   support\n",
      "\n",
      "           0       0.82      0.83      0.83       549\n",
      "           1       0.72      0.71      0.71       342\n",
      "\n",
      "    accuracy                           0.78       891\n",
      "   macro avg       0.77      0.77      0.77       891\n",
      "weighted avg       0.78      0.78      0.78       891\n",
      "\n"
     ]
    },
    {
     "data": {
      "text/plain": [
       "Text(0, 0.5, 'True Positivie Rate(Recall)')"
      ]
     },
     "execution_count": 26,
     "metadata": {},
     "output_type": "execute_result"
    },
    {
     "data": {
      "image/png": "[encoded data removed]",
      "text/plain": [
       "<Figure size 432x288 with 1 Axes>"
      ]
     },
     "metadata": {
      "needs_background": "light"
     },
     "output_type": "display_data"
    }
   ],
   "source": [
    "##### 오차표\n",
    "print(confusion_matrix(df1['Survived'],df1['predict']))\n",
    "\n",
    "#####  분류 레포트(정확도와 정밀도 재현율 한번에 보여주는)\n",
    "print(classification_report(df1['Survived'],df1['predict']))\n",
    "\n",
    "##### ROC\n",
    "fpr,tpr,threshold=roc_curve(df1['Survived'],model2.decision_function(df1[train_col])) \n",
    "# 나온 값을 그래프로 그리자\n",
    "# 첫번째 값은 fpr --> 파지티브를 잘못 예측한 값\n",
    "# 두번째 값은 tpr --> 파지티브를 잘 예측한 값 \n",
    "# 세번째 값은 기준선 \n",
    "\n",
    "plt.plot([0,1],[0,1],'k--') # 일단 기준선 잡아 놓기\n",
    "plt.plot(fpr,tpr,'o-',label='Logistic Regression')\n",
    "plt.xlabel('False Positive Rate(fall-out)')\n",
    "plt.ylabel('True Positivie Rate(Recall)')\n",
    "# 곡선이 1에 가까울 수록 좋은 것임 "
   ]
  },
  {
   "cell_type": "markdown",
   "id": "57595ba7",
   "metadata": {},
   "source": [
    "### 사례 2: 유방암 데이터셋\n",
    "+ 좋은 성능을 뽑아내기 위한 방법에 대한 관점 "
   ]
  },
  {
   "cell_type": "code",
   "execution_count": 27,
   "id": "2a4897a2",
   "metadata": {},
   "outputs": [
    {
     "data": {
      "text/html": [
       "<div>\n",
       "<style scoped>\n",
       "    .dataframe tbody tr th:only-of-type {\n",
       "        vertical-align: middle;\n",
       "    }\n",
       "\n",
       "    .dataframe tbody tr th {\n",
       "        vertical-align: top;\n",
       "    }\n",
       "\n",
       "    .dataframe thead th {\n",
       "        text-align: right;\n",
       "    }\n",
       "</style>\n",
       "<table border=\"1\" class=\"dataframe\">\n",
       "  <thead>\n",
       "    <tr style=\"text-align: right;\">\n",
       "      <th></th>\n",
       "      <th>mean radius</th>\n",
       "      <th>mean texture</th>\n",
       "      <th>mean perimeter</th>\n",
       "      <th>mean area</th>\n",
       "      <th>mean smoothness</th>\n",
       "      <th>mean compactness</th>\n",
       "      <th>mean concavity</th>\n",
       "      <th>mean concave points</th>\n",
       "      <th>mean symmetry</th>\n",
       "      <th>mean fractal dimension</th>\n",
       "      <th>...</th>\n",
       "      <th>worst radius</th>\n",
       "      <th>worst texture</th>\n",
       "      <th>worst perimeter</th>\n",
       "      <th>worst area</th>\n",
       "      <th>worst smoothness</th>\n",
       "      <th>worst compactness</th>\n",
       "      <th>worst concavity</th>\n",
       "      <th>worst concave points</th>\n",
       "      <th>worst symmetry</th>\n",
       "      <th>worst fractal dimension</th>\n",
       "    </tr>\n",
       "  </thead>\n",
       "  <tbody>\n",
       "    <tr>\n",
       "      <th>0</th>\n",
       "      <td>17.99</td>\n",
       "      <td>10.38</td>\n",
       "      <td>122.80</td>\n",
       "      <td>1001.0</td>\n",
       "      <td>0.11840</td>\n",
       "      <td>0.27760</td>\n",
       "      <td>0.3001</td>\n",
       "      <td>0.14710</td>\n",
       "      <td>0.2419</td>\n",
       "      <td>0.07871</td>\n",
       "      <td>...</td>\n",
       "      <td>25.38</td>\n",
       "      <td>17.33</td>\n",
       "      <td>184.60</td>\n",
       "      <td>2019.0</td>\n",
       "      <td>0.1622</td>\n",
       "      <td>0.6656</td>\n",
       "      <td>0.7119</td>\n",
       "      <td>0.2654</td>\n",
       "      <td>0.4601</td>\n",
       "      <td>0.11890</td>\n",
       "    </tr>\n",
       "    <tr>\n",
       "      <th>1</th>\n",
       "      <td>20.57</td>\n",
       "      <td>17.77</td>\n",
       "      <td>132.90</td>\n",
       "      <td>1326.0</td>\n",
       "      <td>0.08474</td>\n",
       "      <td>0.07864</td>\n",
       "      <td>0.0869</td>\n",
       "      <td>0.07017</td>\n",
       "      <td>0.1812</td>\n",
       "      <td>0.05667</td>\n",
       "      <td>...</td>\n",
       "      <td>24.99</td>\n",
       "      <td>23.41</td>\n",
       "      <td>158.80</td>\n",
       "      <td>1956.0</td>\n",
       "      <td>0.1238</td>\n",
       "      <td>0.1866</td>\n",
       "      <td>0.2416</td>\n",
       "      <td>0.1860</td>\n",
       "      <td>0.2750</td>\n",
       "      <td>0.08902</td>\n",
       "    </tr>\n",
       "    <tr>\n",
       "      <th>2</th>\n",
       "      <td>19.69</td>\n",
       "      <td>21.25</td>\n",
       "      <td>130.00</td>\n",
       "      <td>1203.0</td>\n",
       "      <td>0.10960</td>\n",
       "      <td>0.15990</td>\n",
       "      <td>0.1974</td>\n",
       "      <td>0.12790</td>\n",
       "      <td>0.2069</td>\n",
       "      <td>0.05999</td>\n",
       "      <td>...</td>\n",
       "      <td>23.57</td>\n",
       "      <td>25.53</td>\n",
       "      <td>152.50</td>\n",
       "      <td>1709.0</td>\n",
       "      <td>0.1444</td>\n",
       "      <td>0.4245</td>\n",
       "      <td>0.4504</td>\n",
       "      <td>0.2430</td>\n",
       "      <td>0.3613</td>\n",
       "      <td>0.08758</td>\n",
       "    </tr>\n",
       "    <tr>\n",
       "      <th>3</th>\n",
       "      <td>11.42</td>\n",
       "      <td>20.38</td>\n",
       "      <td>77.58</td>\n",
       "      <td>386.1</td>\n",
       "      <td>0.14250</td>\n",
       "      <td>0.28390</td>\n",
       "      <td>0.2414</td>\n",
       "      <td>0.10520</td>\n",
       "      <td>0.2597</td>\n",
       "      <td>0.09744</td>\n",
       "      <td>...</td>\n",
       "      <td>14.91</td>\n",
       "      <td>26.50</td>\n",
       "      <td>98.87</td>\n",
       "      <td>567.7</td>\n",
       "      <td>0.2098</td>\n",
       "      <td>0.8663</td>\n",
       "      <td>0.6869</td>\n",
       "      <td>0.2575</td>\n",
       "      <td>0.6638</td>\n",
       "      <td>0.17300</td>\n",
       "    </tr>\n",
       "    <tr>\n",
       "      <th>4</th>\n",
       "      <td>20.29</td>\n",
       "      <td>14.34</td>\n",
       "      <td>135.10</td>\n",
       "      <td>1297.0</td>\n",
       "      <td>0.10030</td>\n",
       "      <td>0.13280</td>\n",
       "      <td>0.1980</td>\n",
       "      <td>0.10430</td>\n",
       "      <td>0.1809</td>\n",
       "      <td>0.05883</td>\n",
       "      <td>...</td>\n",
       "      <td>22.54</td>\n",
       "      <td>16.67</td>\n",
       "      <td>152.20</td>\n",
       "      <td>1575.0</td>\n",
       "      <td>0.1374</td>\n",
       "      <td>0.2050</td>\n",
       "      <td>0.4000</td>\n",
       "      <td>0.1625</td>\n",
       "      <td>0.2364</td>\n",
       "      <td>0.07678</td>\n",
       "    </tr>\n",
       "  </tbody>\n",
       "</table>\n",
       "<p>5 rows × 30 columns</p>\n",
       "</div>"
      ],
      "text/plain": [
       "   mean radius  mean texture  mean perimeter  mean area  mean smoothness  \\\n",
       "0        17.99         10.38          122.80     1001.0          0.11840   \n",
       "1        20.57         17.77          132.90     1326.0          0.08474   \n",
       "2        19.69         21.25          130.00     1203.0          0.10960   \n",
       "3        11.42         20.38           77.58      386.1          0.14250   \n",
       "4        20.29         14.34          135.10     1297.0          0.10030   \n",
       "\n",
       "   mean compactness  mean concavity  mean concave points  mean symmetry  \\\n",
       "0           0.27760          0.3001              0.14710         0.2419   \n",
       "1           0.07864          0.0869              0.07017         0.1812   \n",
       "2           0.15990          0.1974              0.12790         0.2069   \n",
       "3           0.28390          0.2414              0.10520         0.2597   \n",
       "4           0.13280          0.1980              0.10430         0.1809   \n",
       "\n",
       "   mean fractal dimension  ...  worst radius  worst texture  worst perimeter  \\\n",
       "0                 0.07871  ...         25.38          17.33           184.60   \n",
       "1                 0.05667  ...         24.99          23.41           158.80   \n",
       "2                 0.05999  ...         23.57          25.53           152.50   \n",
       "3                 0.09744  ...         14.91          26.50            98.87   \n",
       "4                 0.05883  ...         22.54          16.67           152.20   \n",
       "\n",
       "   worst area  worst smoothness  worst compactness  worst concavity  \\\n",
       "0      2019.0            0.1622             0.6656           0.7119   \n",
       "1      1956.0            0.1238             0.1866           0.2416   \n",
       "2      1709.0            0.1444             0.4245           0.4504   \n",
       "3       567.7            0.2098             0.8663           0.6869   \n",
       "4      1575.0            0.1374             0.2050           0.4000   \n",
       "\n",
       "   worst concave points  worst symmetry  worst fractal dimension  \n",
       "0                0.2654          0.4601                  0.11890  \n",
       "1                0.1860          0.2750                  0.08902  \n",
       "2                0.2430          0.3613                  0.08758  \n",
       "3                0.2575          0.6638                  0.17300  \n",
       "4                0.1625          0.2364                  0.07678  \n",
       "\n",
       "[5 rows x 30 columns]"
      ]
     },
     "execution_count": 27,
     "metadata": {},
     "output_type": "execute_result"
    }
   ],
   "source": [
    "cancer = load_breast_cancer()\n",
    "data=pd.DataFrame(cancer.data,columns=cancer.feature_names) # x 변수만 가져오기 \n",
    "data.head()"
   ]
  },
  {
   "cell_type": "code",
   "execution_count": 29,
   "id": "bf71b984",
   "metadata": {},
   "outputs": [
    {
     "data": {
      "text/html": [
       "<div>\n",
       "<style scoped>\n",
       "    .dataframe tbody tr th:only-of-type {\n",
       "        vertical-align: middle;\n",
       "    }\n",
       "\n",
       "    .dataframe tbody tr th {\n",
       "        vertical-align: top;\n",
       "    }\n",
       "\n",
       "    .dataframe thead th {\n",
       "        text-align: right;\n",
       "    }\n",
       "</style>\n",
       "<table border=\"1\" class=\"dataframe\">\n",
       "  <thead>\n",
       "    <tr style=\"text-align: right;\">\n",
       "      <th></th>\n",
       "      <th>mean radius</th>\n",
       "      <th>mean texture</th>\n",
       "      <th>mean perimeter</th>\n",
       "      <th>mean area</th>\n",
       "      <th>mean smoothness</th>\n",
       "      <th>mean compactness</th>\n",
       "      <th>mean concavity</th>\n",
       "      <th>mean concave points</th>\n",
       "      <th>mean symmetry</th>\n",
       "      <th>mean fractal dimension</th>\n",
       "      <th>...</th>\n",
       "      <th>worst texture</th>\n",
       "      <th>worst perimeter</th>\n",
       "      <th>worst area</th>\n",
       "      <th>worst smoothness</th>\n",
       "      <th>worst compactness</th>\n",
       "      <th>worst concavity</th>\n",
       "      <th>worst concave points</th>\n",
       "      <th>worst symmetry</th>\n",
       "      <th>worst fractal dimension</th>\n",
       "      <th>class</th>\n",
       "    </tr>\n",
       "  </thead>\n",
       "  <tbody>\n",
       "    <tr>\n",
       "      <th>564</th>\n",
       "      <td>21.56</td>\n",
       "      <td>22.39</td>\n",
       "      <td>142.00</td>\n",
       "      <td>1479.0</td>\n",
       "      <td>0.11100</td>\n",
       "      <td>0.11590</td>\n",
       "      <td>0.24390</td>\n",
       "      <td>0.13890</td>\n",
       "      <td>0.1726</td>\n",
       "      <td>0.05623</td>\n",
       "      <td>...</td>\n",
       "      <td>26.40</td>\n",
       "      <td>166.10</td>\n",
       "      <td>2027.0</td>\n",
       "      <td>0.14100</td>\n",
       "      <td>0.21130</td>\n",
       "      <td>0.4107</td>\n",
       "      <td>0.2216</td>\n",
       "      <td>0.2060</td>\n",
       "      <td>0.07115</td>\n",
       "      <td>0</td>\n",
       "    </tr>\n",
       "    <tr>\n",
       "      <th>565</th>\n",
       "      <td>20.13</td>\n",
       "      <td>28.25</td>\n",
       "      <td>131.20</td>\n",
       "      <td>1261.0</td>\n",
       "      <td>0.09780</td>\n",
       "      <td>0.10340</td>\n",
       "      <td>0.14400</td>\n",
       "      <td>0.09791</td>\n",
       "      <td>0.1752</td>\n",
       "      <td>0.05533</td>\n",
       "      <td>...</td>\n",
       "      <td>38.25</td>\n",
       "      <td>155.00</td>\n",
       "      <td>1731.0</td>\n",
       "      <td>0.11660</td>\n",
       "      <td>0.19220</td>\n",
       "      <td>0.3215</td>\n",
       "      <td>0.1628</td>\n",
       "      <td>0.2572</td>\n",
       "      <td>0.06637</td>\n",
       "      <td>0</td>\n",
       "    </tr>\n",
       "    <tr>\n",
       "      <th>566</th>\n",
       "      <td>16.60</td>\n",
       "      <td>28.08</td>\n",
       "      <td>108.30</td>\n",
       "      <td>858.1</td>\n",
       "      <td>0.08455</td>\n",
       "      <td>0.10230</td>\n",
       "      <td>0.09251</td>\n",
       "      <td>0.05302</td>\n",
       "      <td>0.1590</td>\n",
       "      <td>0.05648</td>\n",
       "      <td>...</td>\n",
       "      <td>34.12</td>\n",
       "      <td>126.70</td>\n",
       "      <td>1124.0</td>\n",
       "      <td>0.11390</td>\n",
       "      <td>0.30940</td>\n",
       "      <td>0.3403</td>\n",
       "      <td>0.1418</td>\n",
       "      <td>0.2218</td>\n",
       "      <td>0.07820</td>\n",
       "      <td>0</td>\n",
       "    </tr>\n",
       "    <tr>\n",
       "      <th>567</th>\n",
       "      <td>20.60</td>\n",
       "      <td>29.33</td>\n",
       "      <td>140.10</td>\n",
       "      <td>1265.0</td>\n",
       "      <td>0.11780</td>\n",
       "      <td>0.27700</td>\n",
       "      <td>0.35140</td>\n",
       "      <td>0.15200</td>\n",
       "      <td>0.2397</td>\n",
       "      <td>0.07016</td>\n",
       "      <td>...</td>\n",
       "      <td>39.42</td>\n",
       "      <td>184.60</td>\n",
       "      <td>1821.0</td>\n",
       "      <td>0.16500</td>\n",
       "      <td>0.86810</td>\n",
       "      <td>0.9387</td>\n",
       "      <td>0.2650</td>\n",
       "      <td>0.4087</td>\n",
       "      <td>0.12400</td>\n",
       "      <td>0</td>\n",
       "    </tr>\n",
       "    <tr>\n",
       "      <th>568</th>\n",
       "      <td>7.76</td>\n",
       "      <td>24.54</td>\n",
       "      <td>47.92</td>\n",
       "      <td>181.0</td>\n",
       "      <td>0.05263</td>\n",
       "      <td>0.04362</td>\n",
       "      <td>0.00000</td>\n",
       "      <td>0.00000</td>\n",
       "      <td>0.1587</td>\n",
       "      <td>0.05884</td>\n",
       "      <td>...</td>\n",
       "      <td>30.37</td>\n",
       "      <td>59.16</td>\n",
       "      <td>268.6</td>\n",
       "      <td>0.08996</td>\n",
       "      <td>0.06444</td>\n",
       "      <td>0.0000</td>\n",
       "      <td>0.0000</td>\n",
       "      <td>0.2871</td>\n",
       "      <td>0.07039</td>\n",
       "      <td>1</td>\n",
       "    </tr>\n",
       "  </tbody>\n",
       "</table>\n",
       "<p>5 rows × 31 columns</p>\n",
       "</div>"
      ],
      "text/plain": [
       "     mean radius  mean texture  mean perimeter  mean area  mean smoothness  \\\n",
       "564        21.56         22.39          142.00     1479.0          0.11100   \n",
       "565        20.13         28.25          131.20     1261.0          0.09780   \n",
       "566        16.60         28.08          108.30      858.1          0.08455   \n",
       "567        20.60         29.33          140.10     1265.0          0.11780   \n",
       "568         7.76         24.54           47.92      181.0          0.05263   \n",
       "\n",
       "     mean compactness  mean concavity  mean concave points  mean symmetry  \\\n",
       "564           0.11590         0.24390              0.13890         0.1726   \n",
       "565           0.10340         0.14400              0.09791         0.1752   \n",
       "566           0.10230         0.09251              0.05302         0.1590   \n",
       "567           0.27700         0.35140              0.15200         0.2397   \n",
       "568           0.04362         0.00000              0.00000         0.1587   \n",
       "\n",
       "     mean fractal dimension  ...  worst texture  worst perimeter  worst area  \\\n",
       "564                 0.05623  ...          26.40           166.10      2027.0   \n",
       "565                 0.05533  ...          38.25           155.00      1731.0   \n",
       "566                 0.05648  ...          34.12           126.70      1124.0   \n",
       "567                 0.07016  ...          39.42           184.60      1821.0   \n",
       "568                 0.05884  ...          30.37            59.16       268.6   \n",
       "\n",
       "     worst smoothness  worst compactness  worst concavity  \\\n",
       "564           0.14100            0.21130           0.4107   \n",
       "565           0.11660            0.19220           0.3215   \n",
       "566           0.11390            0.30940           0.3403   \n",
       "567           0.16500            0.86810           0.9387   \n",
       "568           0.08996            0.06444           0.0000   \n",
       "\n",
       "     worst concave points  worst symmetry  worst fractal dimension  class  \n",
       "564                0.2216          0.2060                  0.07115      0  \n",
       "565                0.1628          0.2572                  0.06637      0  \n",
       "566                0.1418          0.2218                  0.07820      0  \n",
       "567                0.2650          0.4087                  0.12400      0  \n",
       "568                0.0000          0.2871                  0.07039      1  \n",
       "\n",
       "[5 rows x 31 columns]"
      ]
     },
     "execution_count": 29,
     "metadata": {},
     "output_type": "execute_result"
    }
   ],
   "source": [
    "# y변수 추가 \n",
    "data['class']=pd.Series(cancer.target,dtype='category')\n",
    "data.tail()"
   ]
  },
  {
   "cell_type": "code",
   "execution_count": 30,
   "id": "4a5813c1",
   "metadata": {},
   "outputs": [],
   "source": [
    "X= data.loc[:,'mean radius':'worst fractal dimension']\n",
    "y= data['class']"
   ]
  },
  {
   "cell_type": "code",
   "execution_count": 32,
   "id": "3cd38841",
   "metadata": {},
   "outputs": [
    {
     "name": "stdout",
     "output_type": "stream",
     "text": [
      "(426, 30) (143, 30) (426,) (143,)\n"
     ]
    }
   ],
   "source": [
    "X_train,X_test,y_train,y_test=train_test_split(X,y,random_state=0)\n",
    "print(X_train.shape,X_test.shape,y_train.shape,y_test.shape)"
   ]
  },
  {
   "cell_type": "code",
   "execution_count": 34,
   "id": "ced37d46",
   "metadata": {},
   "outputs": [
    {
     "name": "stdout",
     "output_type": "stream",
     "text": [
      "                            OLS Regression Results                            \n",
      "==============================================================================\n",
      "Dep. Variable:                  class   R-squared:                       0.774\n",
      "Model:                            OLS   Adj. R-squared:                  0.762\n",
      "Method:                 Least Squares   F-statistic:                     61.53\n",
      "Date:                Wed, 24 Nov 2021   Prob (F-statistic):          6.05e-153\n",
      "Time:                        11:00:37   Log-Likelihood:                 29.650\n",
      "No. Observations:                 569   AIC:                             2.699\n",
      "Df Residuals:                     538   BIC:                             137.4\n",
      "Df Model:                          30                                         \n",
      "Covariance Type:            nonrobust                                         \n",
      "===========================================================================================\n",
      "                              coef    std err          t      P>|t|      [0.025      0.975]\n",
      "-------------------------------------------------------------------------------------------\n",
      "const                       3.0218      0.428      7.060      0.000       2.181       3.863\n",
      "mean radius                 0.2178      0.174      1.255      0.210      -0.123       0.559\n",
      "mean texture               -0.0045      0.008     -0.572      0.567      -0.020       0.011\n",
      "mean perimeter             -0.0237      0.025     -0.946      0.345      -0.073       0.026\n",
      "mean area                  -0.0003      0.001     -0.605      0.545      -0.001       0.001\n",
      "mean smoothness            -0.0847      2.017     -0.042      0.967      -4.047       3.878\n",
      "mean compactness            4.2220      1.334      3.166      0.002       1.602       6.842\n",
      "mean concavity             -1.3980      1.046     -1.337      0.182      -3.452       0.656\n",
      "mean concave points        -2.1418      1.979     -1.082      0.280      -6.030       1.746\n",
      "mean symmetry              -0.1027      0.743     -0.138      0.890      -1.562       1.356\n",
      "mean fractal dimension     -0.0333      5.572     -0.006      0.995     -10.979      10.913\n",
      "radius error               -0.4350      0.310     -1.401      0.162      -1.045       0.175\n",
      "texture error               0.0068      0.037      0.183      0.855      -0.066       0.079\n",
      "perimeter error             0.0225      0.041      0.548      0.584      -0.058       0.103\n",
      "area error                  0.0009      0.001      0.660      0.509      -0.002       0.004\n",
      "smoothness error          -15.8543      6.625     -2.393      0.017     -28.868      -2.841\n",
      "compactness error          -0.0649      2.169     -0.030      0.976      -4.327       4.197\n",
      "concavity error             3.5655      1.301      2.741      0.006       1.010       6.121\n",
      "concave points error      -10.5680      5.452     -1.938      0.053     -21.278       0.142\n",
      "symmetry error             -1.6973      2.728     -0.622      0.534      -7.055       3.661\n",
      "fractal dimension error     7.1464     11.676      0.612      0.541     -15.791      30.083\n",
      "worst radius               -0.1952      0.058     -3.367      0.001      -0.309      -0.081\n",
      "worst texture              -0.0072      0.007     -1.030      0.303      -0.021       0.006\n",
      "worst perimeter             0.0024      0.006      0.410      0.682      -0.009       0.014\n",
      "worst area                  0.0010      0.000      3.163      0.002       0.000       0.002\n",
      "worst smoothness           -0.5429      1.435     -0.378      0.705      -3.361       2.275\n",
      "worst compactness          -0.0672      0.383     -0.175      0.861      -0.820       0.685\n",
      "worst concavity            -0.3812      0.269     -1.419      0.156      -0.909       0.146\n",
      "worst concave points       -0.4643      0.914     -0.508      0.612      -2.260       1.332\n",
      "worst symmetry             -0.5568      0.494     -1.126      0.260      -1.528       0.414\n",
      "worst fractal dimension    -4.3035      2.383     -1.806      0.072      -8.985       0.378\n",
      "==============================================================================\n",
      "Omnibus:                       32.654   Durbin-Watson:                   1.794\n",
      "Prob(Omnibus):                  0.000   Jarque-Bera (JB):               36.690\n",
      "Skew:                          -0.603   Prob(JB):                     1.08e-08\n",
      "Kurtosis:                       3.302   Cond. No.                     1.54e+06\n",
      "==============================================================================\n",
      "\n",
      "Notes:\n",
      "[1] Standard Errors assume that the covariance matrix of the errors is correctly specified.\n",
      "[2] The condition number is large, 1.54e+06. This might indicate that there are\n",
      "strong multicollinearity or other numerical problems.\n"
     ]
    }
   ],
   "source": [
    "##상수 추가하기\n",
    "X1=sm.add_constant(X)\n",
    "model=sm.OLS(y,X1).fit()\n",
    "print(model.summary())"
   ]
  },
  {
   "cell_type": "code",
   "execution_count": 35,
   "id": "2fa7fefe",
   "metadata": {},
   "outputs": [],
   "source": [
    "# 다 때려 넣었을 때 성능 비교 \n",
    "log_reg = LogisticRegression(max_iter=100000).fit(X_train,y_train)"
   ]
  },
  {
   "cell_type": "code",
   "execution_count": 36,
   "id": "fc880dc0",
   "metadata": {},
   "outputs": [
    {
     "data": {
      "text/plain": [
       "array([[52,  1],\n",
       "       [ 6, 84]], dtype=int64)"
      ]
     },
     "execution_count": 36,
     "metadata": {},
     "output_type": "execute_result"
    }
   ],
   "source": [
    "# 오차표 만들기\n",
    "pred = log_reg.predict(X_test)\n",
    "confusion_matrix(y_test,pred)"
   ]
  },
  {
   "cell_type": "code",
   "execution_count": 38,
   "id": "505ac142",
   "metadata": {},
   "outputs": [
    {
     "name": "stdout",
     "output_type": "stream",
     "text": [
      "              precision    recall  f1-score   support\n",
      "\n",
      "           0       0.90      0.98      0.94        53\n",
      "           1       0.99      0.93      0.96        90\n",
      "\n",
      "    accuracy                           0.95       143\n",
      "   macro avg       0.94      0.96      0.95       143\n",
      "weighted avg       0.95      0.95      0.95       143\n",
      "\n"
     ]
    }
   ],
   "source": [
    "print(classification_report(y_test,pred))"
   ]
  },
  {
   "cell_type": "code",
   "execution_count": 40,
   "id": "74c3f6b5",
   "metadata": {},
   "outputs": [
    {
     "name": "stdout",
     "output_type": "stream",
     "text": [
      "                            OLS Regression Results                            \n",
      "==============================================================================\n",
      "Dep. Variable:                  class   R-squared:                       0.681\n",
      "Model:                            OLS   Adj. R-squared:                  0.678\n",
      "Method:                 Least Squares   F-statistic:                     239.8\n",
      "Date:                Wed, 24 Nov 2021   Prob (F-statistic):          6.37e-137\n",
      "Time:                        11:11:55   Log-Likelihood:                -69.240\n",
      "No. Observations:                 569   AIC:                             150.5\n",
      "Df Residuals:                     563   BIC:                             176.5\n",
      "Df Model:                           5                                         \n",
      "Covariance Type:            nonrobust                                         \n",
      "====================================================================================\n",
      "                       coef    std err          t      P>|t|      [0.025      0.975]\n",
      "------------------------------------------------------------------------------------\n",
      "const                2.9459      0.145     20.373      0.000       2.662       3.230\n",
      "mean compactness    -1.8144      0.325     -5.575      0.000      -2.454      -1.175\n",
      "smoothness error   -18.9853      4.436     -4.280      0.000     -27.698     -10.272\n",
      "concavity error      0.2791      0.481      0.580      0.562      -0.666       1.224\n",
      "worst radius        -0.1696      0.015    -11.417      0.000      -0.199      -0.140\n",
      "worst area           0.0009      0.000      7.113      0.000       0.001       0.001\n",
      "==============================================================================\n",
      "Omnibus:                       20.352   Durbin-Watson:                   1.760\n",
      "Prob(Omnibus):                  0.000   Jarque-Bera (JB):               21.684\n",
      "Skew:                          -0.475   Prob(JB):                     1.96e-05\n",
      "Kurtosis:                       3.109   Cond. No.                     4.04e+05\n",
      "==============================================================================\n",
      "\n",
      "Notes:\n",
      "[1] Standard Errors assume that the covariance matrix of the errors is correctly specified.\n",
      "[2] The condition number is large, 4.04e+05. This might indicate that there are\n",
      "strong multicollinearity or other numerical problems.\n",
      "[[47  6]\n",
      " [ 6 84]]\n",
      "              precision    recall  f1-score   support\n",
      "\n",
      "           0       0.89      0.89      0.89        53\n",
      "           1       0.93      0.93      0.93        90\n",
      "\n",
      "    accuracy                           0.92       143\n",
      "   macro avg       0.91      0.91      0.91       143\n",
      "weighted avg       0.92      0.92      0.92       143\n",
      "\n"
     ]
    }
   ],
   "source": [
    "##### p_value가 0.05 보다 작은 feature\n",
    "X= data[['mean compactness','smoothness error','concavity error','worst radius'\n",
    "        ,'worst area']]\n",
    "y=data['class']\n",
    "X_train,X_test,y_train,y_test=train_test_split(X,y,random_state=0)\n",
    "log_reg=LogisticRegression(max_iter=100000).fit(X_train,y_train)\n",
    "\n",
    "X1=sm.add_constant(X)\n",
    "model=sm.OLS(y,X1).fit()\n",
    "print(model.summary())\n",
    "\n",
    "pred = log_reg.predict(X_test)\n",
    "print(confusion_matrix(y_test,pred))\n",
    "print(classification_report(y_test,pred))"
   ]
  },
  {
   "cell_type": "code",
   "execution_count": null,
   "id": "2894552b",
   "metadata": {},
   "outputs": [],
   "source": []
  },
  {
   "cell_type": "code",
   "execution_count": null,
   "id": "e8668615",
   "metadata": {},
   "outputs": [],
   "source": []
  },
  {
   "cell_type": "code",
   "execution_count": null,
   "id": "13017ece",
   "metadata": {},
   "outputs": [],
   "source": []
  },
  {
   "cell_type": "code",
   "execution_count": null,
   "id": "d1d03119",
   "metadata": {},
   "outputs": [],
   "source": []
  },
  {
   "cell_type": "code",
   "execution_count": null,
   "id": "9a767eb2",
   "metadata": {},
   "outputs": [],
   "source": []
  },
  {
   "cell_type": "code",
   "execution_count": null,
   "id": "68f472b5",
   "metadata": {},
   "outputs": [],
   "source": []
  },
  {
   "cell_type": "code",
   "execution_count": null,
   "id": "30a008bd",
   "metadata": {},
   "outputs": [],
   "source": []
  },
  {
   "cell_type": "code",
   "execution_count": null,
   "id": "69b298e1",
   "metadata": {},
   "outputs": [],
   "source": []
  },
  {
   "cell_type": "code",
   "execution_count": null,
   "id": "6d82c5a7",
   "metadata": {},
   "outputs": [],
   "source": []
  }
 ],
 "metadata": {
  "kernelspec": {
   "display_name": "Python 3",
   "language": "python",
   "name": "python3"
  },
  "language_info": {
   "codemirror_mode": {
    "name": "ipython",
    "version": 3
   },
   "file_extension": ".py",
   "mimetype": "text/x-python",
   "name": "python",
   "nbconvert_exporter": "python",
   "pygments_lexer": "ipython3",
   "version": "3.8.8"
  }
 },
 "nbformat": 4,
 "nbformat_minor": 5
}
