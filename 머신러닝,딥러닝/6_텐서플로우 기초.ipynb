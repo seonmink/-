{
 "cells": [
  {
   "cell_type": "code",
   "execution_count": 1,
   "id": "7a0582fe",
   "metadata": {},
   "outputs": [
    {
     "name": "stdout",
     "output_type": "stream",
     "text": [
      "3.7.11 (default, Jul 27 2021, 09:42:29) [MSC v.1916 64 bit (AMD64)]\n",
      "1.15.0\n"
     ]
    }
   ],
   "source": [
    "import sys\n",
    "import tensorflow as tf\n",
    "\n",
    "print(sys.version)\n",
    "print(tf.__version__)"
   ]
  },
  {
   "cell_type": "markdown",
   "id": "a552941a",
   "metadata": {},
   "source": [
    "- activate tf1 : 가상환경으로 변경 \n",
    "- 변경후 jupyter notebook 실행 "
   ]
  },
  {
   "cell_type": "markdown",
   "id": "5bc2194c",
   "metadata": {},
   "source": [
    "3. Tensorflow\n",
    "    - http://www.tensorflow.org\n",
    "    - http://hunkim.github.io/ml\n",
    "\n",
    "(0) 프레임워크 \n",
    "    - Tensorflow\n",
    "    - Theano\n",
    "    - Pytorch\n",
    "    - Caffe\n",
    "    - Keras\n",
    "    - ...\n",
    "\n",
    "1). 특징 \n",
    "    - 구글에서 만든 오픈 소스 머신러닝 프레임워크 \n",
    "    - 다양한 언어를 제공하며 그중에서 파이썬이 가장 많이 사용됨 \n",
    "    - 기본적으로 텐서를 활용한 그래프 수치 연산을 하는 도구\n",
    "\n",
    "2). 가상환경    \n",
    "(1) 가상환경 준비 \n",
    "    conda info --envs --> 가상환경 확인\n",
    "    \n",
    "    - 가상환경 만들기 --> conda create -n tf1 python = 3.7 anaconda\n",
    "   \n",
    "(2)  가상환경 전환 \n",
    "    activate 가장환경 이름\n",
    "    다시 돌아가고 싶을때는: conda deactivate\n",
    "\n",
    "(3) 삭제 \n",
    "    conda remove --name 가상환경이름 --all\n",
    "        \n",
    "3).텐서플로우 설치 \n",
    "    (1). tf1으로 가상환경 전환 --> activate 가장환경 이름\n",
    "    (2). pip install tensorflow --> 이렇게 하면 최신버전 설치됨 2점대\n",
    "         pip install tensorflow==1.15.0"
   ]
  },
  {
   "cell_type": "code",
   "execution_count": 2,
   "id": "4ac579d7",
   "metadata": {},
   "outputs": [],
   "source": [
    "import pandas as pd\n",
    "import numpy as np\n",
    "#실제 그래프를 그릴 수 있는 서브 함수\n",
    "import matplotlib.pyplot as plt\n",
    "import seaborn as sns\n",
    "\n",
    "#경고표시 생략(일시적으로 생략하는게 좋음) \n",
    "import warnings\n",
    "warnings.filterwarnings(action='ignore')\n",
    "\n",
    "#한글폰트 지정 \n",
    "import matplotlib.font_manager as fm\n",
    "font_name= fm.FontProperties(fname=\"C:/Windows/Fonts/malgun.ttf\").get_name()\n",
    "plt.rc(\"font\",family=font_name)\n",
    "\n",
    "import matplotlib as mpl\n",
    "mpl.rcParams['axes.unicode_minus']=False\n",
    "\n",
    "# 머신러닝을 위한 모듈 \n",
    "from sklearn.model_selection import train_test_split"
   ]
  },
  {
   "cell_type": "markdown",
   "id": "faad165e",
   "metadata": {},
   "source": [
    "+ 텐서플로는 머신러닝을 위한 오픈 소스 플랫폼 "
   ]
  },
  {
   "cell_type": "markdown",
   "id": "7de30a58",
   "metadata": {},
   "source": [
    "## 1. 텐서 \n",
    "- 주로 다차원 데이터를 이야기함 \n",
    "- 0차원을 주로 파이썬에서는 스칼라라함 \n",
    "- 텐서 플로에서는 0D tensor, 1D tensor, 3D tensor, 고차원 tensor (1차원, 2차원, 3차원, 고차원)\n",
    "- 딥러닝에서는 0D ~ 4D(주로 이미지 데이터) 까지 주로 사용 \n",
    "    + 이미지 : 가로, 세로, 색상, 갯수 --> 4차원 \n",
    "- 동영상을 다룰때에는 5D텐서 까지 사용 \n",
    "- tensorflow에서 tensor는 데이터의 기본 단위\n",
    "    - 실제 코드에서는 tensor를 numpy로 나타냄 "
   ]
  },
  {
   "cell_type": "markdown",
   "id": "70af93a1",
   "metadata": {},
   "source": [
    "## 2. 기본 구성요소\n",
    "\n",
    "+ placeholder()\n",
    "+ constant()\n",
    "+ Variable()"
   ]
  },
  {
   "cell_type": "markdown",
   "id": "05e58f0f",
   "metadata": {},
   "source": [
    "### (1) constant\n",
    "- 상수 - constant : 메모리 안에 데이터가 변하지 않는 유지되는, 값을 보호하기 위한 개념  \n",
    "       - literal : 10 숫자 그대로 의미 \n",
    "       \n",
    " ---------------------------\n",
    " + 절대 변하지 않는 상수\n",
    " + 자체적으로 그래프를 갖는다.\n",
    " + 메서드\n",
    " + 기본적 함수 사용법 : tf.constant(\n",
    "    value, dtype=None, shape=None, name='Const', verify_shape=False) value은 필수, 나머지는 필요시"
   ]
  },
  {
   "cell_type": "code",
   "execution_count": 5,
   "id": "065c48d1",
   "metadata": {},
   "outputs": [
    {
     "name": "stdout",
     "output_type": "stream",
     "text": [
      "Tensor(\"Const_1:0\", shape=(), dtype=int32)\n"
     ]
    }
   ],
   "source": [
    "a = tf.constant(10) # 다른 값으로 바꿀 수 없게  막아준다는 것\n",
    "print(a) # 근데 10이라는 것은 어디에도 찾아 볼 수 없어, 저장 위치만 나오고 \n",
    "# 텐서플로 초창기는 미리 처리하지 않음 --> 즉 실제로 a를 10이라는 상수라고 저장해둔 것이 아니라 예약만 걸어논것, 실제로 메모리가 \n",
    "#사용되지 않았음. "
   ]
  },
  {
   "cell_type": "code",
   "execution_count": 7,
   "id": "0d6e7ae3",
   "metadata": {},
   "outputs": [
    {
     "name": "stdout",
     "output_type": "stream",
     "text": [
      "Tensor(\"Const_3:0\", shape=(), dtype=int32)\n"
     ]
    },
    {
     "data": {
      "text/plain": [
       "<tf.Tensor 'Add:0' shape=() dtype=int32>"
      ]
     },
     "execution_count": 7,
     "metadata": {},
     "output_type": "execute_result"
    }
   ],
   "source": [
    "b=tf.constant(20)\n",
    "print(b) # 값의 형식만 나타내는 것이지 실제 저장된게 아님\n",
    "\n",
    "c = tf.add(a,b)\n",
    "c"
   ]
  },
  {
   "cell_type": "code",
   "execution_count": 8,
   "id": "cb14ada2",
   "metadata": {},
   "outputs": [
    {
     "data": {
      "text/plain": [
       "<tf.Tensor 'add_1:0' shape=() dtype=int32>"
      ]
     },
     "execution_count": 8,
     "metadata": {},
     "output_type": "execute_result"
    }
   ],
   "source": [
    "c= a+b\n",
    "c"
   ]
  },
  {
   "cell_type": "code",
   "execution_count": 12,
   "id": "33ce04c2",
   "metadata": {},
   "outputs": [
    {
     "name": "stdout",
     "output_type": "stream",
     "text": [
      "30\n"
     ]
    }
   ],
   "source": [
    "sess=tf.Session() # 여기에 먼저 담아 둬야 run을 쓸 수 있음 \n",
    "# print(sess.run(a)) # run을 사용하면 실행까지 가능 \n",
    "# print(sess.run(b))\n",
    "print(sess.run(c))\n",
    "# c 만 실행하면 자동적으로 a,b실행됨"
   ]
  },
  {
   "cell_type": "code",
   "execution_count": 13,
   "id": "ed18389e",
   "metadata": {},
   "outputs": [
    {
     "data": {
      "text/plain": [
       "<tensorflow.python.summary.writer.writer.FileWriter at 0x179a7653808>"
      ]
     },
     "execution_count": 13,
     "metadata": {},
     "output_type": "execute_result"
    }
   ],
   "source": [
    "##### Tensorboard  --> 대시보드 같은 시각화\n",
    "# tensorboard --logdir=log_dir\n",
    "# http://localhost:6006\n",
    "\n",
    "tf.summary.FileWriter('log_dir', graph=sess.graph) # 현재 위치에 요 폴더를 저장 "
   ]
  },
  {
   "cell_type": "code",
   "execution_count": 14,
   "id": "4f2e2c25",
   "metadata": {},
   "outputs": [],
   "source": [
    "# 다했으면 닫아주는것이 필요 --> 메모리 소모가 심함\n",
    "sess.close()"
   ]
  },
  {
   "cell_type": "code",
   "execution_count": 15,
   "id": "5c2ff91c",
   "metadata": {},
   "outputs": [],
   "source": [
    "##### (5+2) *3\n",
    "\n",
    "a = tf.constant(5)\n",
    "b = tf.constant(2)\n",
    "c = tf.add(a,b)\n",
    "d = tf.constant(3)\n",
    "e = tf.multiply(c,d)"
   ]
  },
  {
   "cell_type": "code",
   "execution_count": 16,
   "id": "2a52875e",
   "metadata": {},
   "outputs": [
    {
     "data": {
      "text/plain": [
       "21"
      ]
     },
     "execution_count": 16,
     "metadata": {},
     "output_type": "execute_result"
    }
   ],
   "source": [
    "sess=tf.Session()\n",
    "sess.run(e)"
   ]
  },
  {
   "cell_type": "code",
   "execution_count": 17,
   "id": "cc0e0ebe",
   "metadata": {},
   "outputs": [
    {
     "data": {
      "text/plain": [
       "<tensorflow.python.summary.writer.writer.FileWriter at 0x179aa4f68c8>"
      ]
     },
     "execution_count": 17,
     "metadata": {},
     "output_type": "execute_result"
    }
   ],
   "source": [
    "tf.summary.FileWriter('log_dir', graph=sess.graph)"
   ]
  },
  {
   "cell_type": "code",
   "execution_count": 18,
   "id": "d91d801e",
   "metadata": {},
   "outputs": [],
   "source": [
    "sess.close()"
   ]
  },
  {
   "cell_type": "markdown",
   "id": "58b9d01f",
   "metadata": {},
   "source": [
    "### (2) Variable \n",
    "\n",
    "+ 객체로 정의되어 있다. \n",
    "+ weight(가중치)를 저장하는 함수\n",
    "+ 사용전에 반드시 초기화를 해야한다.(global_variables_initializer() 호출\n",
    "+ tf.Variable(\n",
    "    initial_value=None, trainable=None, collections=None, validate_shape=True,\n",
    "    caching_device=None, name=None, variable_def=None, dtype=None,\n",
    "    expected_shape=None, import_scope=None, constraint=None, use_resource=None,\n",
    "    synchronization=tf.VariableSynchronization.AUTO,\n",
    "    aggregation=tf.VariableAggregation.NONE, shape=None)"
   ]
  },
  {
   "cell_type": "code",
   "execution_count": 19,
   "id": "c04e1fca",
   "metadata": {},
   "outputs": [
    {
     "data": {
      "text/plain": [
       "<tf.Tensor 'add_4:0' shape=() dtype=int32>"
      ]
     },
     "execution_count": 19,
     "metadata": {},
     "output_type": "execute_result"
    }
   ],
   "source": [
    "v1= tf.Variable(initial_value=5)\n",
    "v2= tf.Variable(initial_value=3)\n",
    "v3= tf.Variable(initial_value=2)\n",
    "v4 = v1+v2+v3\n",
    "v4"
   ]
  },
  {
   "cell_type": "code",
   "execution_count": 21,
   "id": "30d3bf99",
   "metadata": {},
   "outputs": [
    {
     "name": "stdout",
     "output_type": "stream",
     "text": [
      "WARNING:tensorflow:From C:\\Users\\ADMINI~1\\AppData\\Local\\Temp/ipykernel_39816/1581731885.py:2: The name tf.global_variables_initializer is deprecated. Please use tf.compat.v1.global_variables_initializer instead.\n",
      "\n",
      "10\n"
     ]
    }
   ],
   "source": [
    "sess=tf.Session()\n",
    "sess.run(tf.global_variables_initializer()) \n",
    "print(sess.run(v4)) # --> 이것만 쓰면 에러가 남 , 사용전에는 반드시 초기화를 해야함 \n"
   ]
  },
  {
   "cell_type": "code",
   "execution_count": 22,
   "id": "928ee9ee",
   "metadata": {},
   "outputs": [
    {
     "data": {
      "text/plain": [
       "<tensorflow.python.summary.writer.writer.FileWriter at 0x179aa79fa48>"
      ]
     },
     "execution_count": 22,
     "metadata": {},
     "output_type": "execute_result"
    }
   ],
   "source": [
    "# 그래프로 그려보기\n",
    "tf.summary.FileWriter('log_dir', graph=sess.graph)"
   ]
  },
  {
   "cell_type": "code",
   "execution_count": 23,
   "id": "bc56a254",
   "metadata": {},
   "outputs": [],
   "source": [
    "sess.close()"
   ]
  },
  {
   "cell_type": "markdown",
   "id": "fdc1c1b3",
   "metadata": {},
   "source": [
    "### (3) placeholder\n",
    "\n",
    "+ 그래프를 만들지 않는다. \n",
    "+ 입력된 데이터를 텐서와 매핑하는 역할 \n",
    "+ 텐서플로 버전 1에서는 필요하지만 2에서는 필요하지 않음."
   ]
  },
  {
   "cell_type": "code",
   "execution_count": 24,
   "id": "9d7d0c49",
   "metadata": {},
   "outputs": [
    {
     "name": "stdout",
     "output_type": "stream",
     "text": [
      "WARNING:tensorflow:From C:\\Users\\ADMINI~1\\AppData\\Local\\Temp/ipykernel_39816/2297901837.py:1: The name tf.placeholder is deprecated. Please use tf.compat.v1.placeholder instead.\n",
      "\n",
      "Tensor(\"add_6:0\", dtype=float32)\n"
     ]
    }
   ],
   "source": [
    "v1= tf.placeholder(dtype=tf.float32) # 어떤 값이 들어올지 모를때 \n",
    "v2= tf.placeholder(dtype=tf.float32)\n",
    "v3= tf.placeholder(dtype=tf.float32)\n",
    "v4 = v1+v2+v3\n",
    "print(v4) # shape이란 것 조차 없음. "
   ]
  },
  {
   "cell_type": "code",
   "execution_count": 25,
   "id": "0b2fc986",
   "metadata": {},
   "outputs": [
    {
     "data": {
      "text/plain": [
       "10.0"
      ]
     },
     "execution_count": 25,
     "metadata": {},
     "output_type": "execute_result"
    }
   ],
   "source": [
    "a,b,c = 5,3,2 # 값이 나중에 들어와서 넘겨줘야 하는데 어떻게?\n",
    "sess= tf.Session()\n",
    "sess.run(v4,feed_dict={v1:a,v2:b,v3:c})\n"
   ]
  },
  {
   "cell_type": "code",
   "execution_count": 26,
   "id": "abd19221",
   "metadata": {},
   "outputs": [],
   "source": [
    "sess.close()"
   ]
  },
  {
   "cell_type": "code",
   "execution_count": 27,
   "id": "197e61fb",
   "metadata": {},
   "outputs": [],
   "source": [
    "#####  구구단 프로그램 \n",
    "def gugudan(dan):\n",
    "    left=tf.placeholder(tf.int32)\n",
    "    right = tf.placeholder(tf.int32)\n",
    "    op = tf.multiply(left,right)\n",
    "    \n",
    "    sess=tf.Session()\n",
    "    for i in range(1,10):\n",
    "        result = sess.run(op,feed_dict={left:dan,right:i})\n",
    "        print('{}*{}={}'.format(dan,i,result))\n",
    "    sess.close()"
   ]
  },
  {
   "cell_type": "code",
   "execution_count": 28,
   "id": "c9a97d5e",
   "metadata": {},
   "outputs": [
    {
     "name": "stdout",
     "output_type": "stream",
     "text": [
      "5*1=5\n",
      "5*2=10\n",
      "5*3=15\n",
      "5*4=20\n",
      "5*5=25\n",
      "5*6=30\n",
      "5*7=35\n",
      "5*8=40\n",
      "5*9=45\n"
     ]
    }
   ],
   "source": [
    "gugudan(5)"
   ]
  },
  {
   "cell_type": "code",
   "execution_count": null,
   "id": "2493518b",
   "metadata": {},
   "outputs": [],
   "source": []
  },
  {
   "cell_type": "code",
   "execution_count": null,
   "id": "349667c8",
   "metadata": {},
   "outputs": [],
   "source": []
  },
  {
   "cell_type": "code",
   "execution_count": null,
   "id": "baf86beb",
   "metadata": {},
   "outputs": [],
   "source": []
  },
  {
   "cell_type": "code",
   "execution_count": null,
   "id": "c7352a68",
   "metadata": {},
   "outputs": [],
   "source": []
  },
  {
   "cell_type": "code",
   "execution_count": null,
   "id": "c7f25a9d",
   "metadata": {},
   "outputs": [],
   "source": []
  },
  {
   "cell_type": "code",
   "execution_count": null,
   "id": "98b0b4b6",
   "metadata": {},
   "outputs": [],
   "source": []
  },
  {
   "cell_type": "code",
   "execution_count": null,
   "id": "6671cf0f",
   "metadata": {},
   "outputs": [],
   "source": []
  },
  {
   "cell_type": "code",
   "execution_count": null,
   "id": "5588ffea",
   "metadata": {},
   "outputs": [],
   "source": []
  },
  {
   "cell_type": "code",
   "execution_count": null,
   "id": "fb11957d",
   "metadata": {},
   "outputs": [],
   "source": []
  },
  {
   "cell_type": "code",
   "execution_count": null,
   "id": "93aeedfb",
   "metadata": {},
   "outputs": [],
   "source": []
  },
  {
   "cell_type": "code",
   "execution_count": null,
   "id": "847e44b4",
   "metadata": {},
   "outputs": [],
   "source": []
  },
  {
   "cell_type": "code",
   "execution_count": null,
   "id": "8bf9fdbf",
   "metadata": {},
   "outputs": [],
   "source": []
  },
  {
   "cell_type": "code",
   "execution_count": null,
   "id": "db7aea79",
   "metadata": {},
   "outputs": [],
   "source": []
  },
  {
   "cell_type": "code",
   "execution_count": null,
   "id": "1bbc482c",
   "metadata": {},
   "outputs": [],
   "source": []
  },
  {
   "cell_type": "code",
   "execution_count": null,
   "id": "ab4ba64e",
   "metadata": {},
   "outputs": [],
   "source": []
  },
  {
   "cell_type": "code",
   "execution_count": null,
   "id": "99d74fa6",
   "metadata": {},
   "outputs": [],
   "source": []
  },
  {
   "cell_type": "code",
   "execution_count": null,
   "id": "24c7afad",
   "metadata": {},
   "outputs": [],
   "source": []
  },
  {
   "cell_type": "code",
   "execution_count": null,
   "id": "1980e588",
   "metadata": {},
   "outputs": [],
   "source": []
  },
  {
   "cell_type": "code",
   "execution_count": null,
   "id": "5eb5f52e",
   "metadata": {},
   "outputs": [],
   "source": []
  },
  {
   "cell_type": "code",
   "execution_count": null,
   "id": "3a65fd5b",
   "metadata": {},
   "outputs": [],
   "source": []
  },
  {
   "cell_type": "code",
   "execution_count": null,
   "id": "02a2e1bc",
   "metadata": {},
   "outputs": [],
   "source": []
  },
  {
   "cell_type": "code",
   "execution_count": null,
   "id": "044cd85b",
   "metadata": {},
   "outputs": [],
   "source": []
  },
  {
   "cell_type": "code",
   "execution_count": null,
   "id": "c3574177",
   "metadata": {},
   "outputs": [],
   "source": []
  },
  {
   "cell_type": "code",
   "execution_count": null,
   "id": "0e824d0a",
   "metadata": {},
   "outputs": [],
   "source": []
  },
  {
   "cell_type": "code",
   "execution_count": null,
   "id": "810401f9",
   "metadata": {},
   "outputs": [],
   "source": []
  },
  {
   "cell_type": "code",
   "execution_count": null,
   "id": "4b955ea8",
   "metadata": {},
   "outputs": [],
   "source": []
  },
  {
   "cell_type": "code",
   "execution_count": null,
   "id": "9ca40383",
   "metadata": {},
   "outputs": [],
   "source": []
  },
  {
   "cell_type": "code",
   "execution_count": null,
   "id": "cfdfba4e",
   "metadata": {},
   "outputs": [],
   "source": []
  },
  {
   "cell_type": "code",
   "execution_count": null,
   "id": "6c1d5b63",
   "metadata": {},
   "outputs": [],
   "source": []
  },
  {
   "cell_type": "code",
   "execution_count": null,
   "id": "47edf40b",
   "metadata": {},
   "outputs": [],
   "source": []
  },
  {
   "cell_type": "code",
   "execution_count": null,
   "id": "64c30ed4",
   "metadata": {},
   "outputs": [],
   "source": []
  },
  {
   "cell_type": "code",
   "execution_count": null,
   "id": "e0f934bb",
   "metadata": {},
   "outputs": [],
   "source": []
  },
  {
   "cell_type": "code",
   "execution_count": null,
   "id": "60257cce",
   "metadata": {},
   "outputs": [],
   "source": []
  },
  {
   "cell_type": "code",
   "execution_count": null,
   "id": "c5fcac66",
   "metadata": {},
   "outputs": [],
   "source": []
  },
  {
   "cell_type": "code",
   "execution_count": null,
   "id": "9529bb0b",
   "metadata": {},
   "outputs": [],
   "source": []
  },
  {
   "cell_type": "code",
   "execution_count": null,
   "id": "324fa90d",
   "metadata": {},
   "outputs": [],
   "source": []
  },
  {
   "cell_type": "code",
   "execution_count": null,
   "id": "fd5a3c38",
   "metadata": {},
   "outputs": [],
   "source": []
  },
  {
   "cell_type": "code",
   "execution_count": null,
   "id": "b514488d",
   "metadata": {},
   "outputs": [],
   "source": []
  },
  {
   "cell_type": "code",
   "execution_count": null,
   "id": "d4957144",
   "metadata": {},
   "outputs": [],
   "source": []
  }
 ],
 "metadata": {
  "kernelspec": {
   "display_name": "Python 3 (ipykernel)",
   "language": "python",
   "name": "python3"
  },
  "language_info": {
   "codemirror_mode": {
    "name": "ipython",
    "version": 3
   },
   "file_extension": ".py",
   "mimetype": "text/x-python",
   "name": "python",
   "nbconvert_exporter": "python",
   "pygments_lexer": "ipython3",
   "version": "3.7.11"
  }
 },
 "nbformat": 4,
 "nbformat_minor": 5
}
