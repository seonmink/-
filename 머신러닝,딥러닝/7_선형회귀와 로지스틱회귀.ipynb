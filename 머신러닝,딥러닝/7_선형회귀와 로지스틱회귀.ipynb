{
 "cells": [
  {
   "cell_type": "code",
   "execution_count": 1,
   "id": "0ab76bfd",
   "metadata": {},
   "outputs": [],
   "source": [
    "import pandas as pd\n",
    "import numpy as np\n",
    "#실제 그래프를 그릴 수 있는 서브 함수\n",
    "import matplotlib.pyplot as plt\n",
    "import seaborn as sns\n",
    "\n",
    "#경고표시 생략(일시적으로 생략하는게 좋음) \n",
    "import warnings\n",
    "warnings.filterwarnings(action='ignore')\n",
    "\n",
    "#한글폰트 지정 \n",
    "import matplotlib.font_manager as fm\n",
    "font_name= fm.FontProperties(fname=\"C:/Windows/Fonts/malgun.ttf\").get_name()\n",
    "plt.rc(\"font\",family=font_name)\n",
    "\n",
    "import matplotlib as mpl\n",
    "mpl.rcParams['axes.unicode_minus']=False\n",
    "\n",
    "# 머신러닝을 위한 모듈 \n",
    "from sklearn.model_selection import train_test_split\n",
    "\n",
    "import tensorflow as tf"
   ]
  },
  {
   "cell_type": "code",
   "execution_count": null,
   "id": "00b0eebb",
   "metadata": {},
   "outputs": [],
   "source": [
    "### 모두의 딥러닝 - 선형 회귀 보기"
   ]
  },
  {
   "cell_type": "markdown",
   "id": "25600866",
   "metadata": {},
   "source": [
    "### 1. 단순 선형회귀 모델의 비용 구하기"
   ]
  },
  {
   "cell_type": "code",
   "execution_count": 2,
   "id": "935f55d5",
   "metadata": {},
   "outputs": [
    {
     "name": "stdout",
     "output_type": "stream",
     "text": [
      "WARNING:tensorflow:From C:\\Users\\ADMINI~1\\AppData\\Local\\Temp/ipykernel_26804/291031952.py:4: The name tf.placeholder is deprecated. Please use tf.compat.v1.placeholder instead.\n",
      "\n",
      "WARNING:tensorflow:From C:\\Users\\ADMINI~1\\AppData\\Local\\Temp/ipykernel_26804/291031952.py:14: The name tf.Session is deprecated. Please use tf.compat.v1.Session instead.\n",
      "\n"
     ]
    },
    {
     "data": {
      "image/png": "[encoded data removed]",
      "text/plain": [
       "<Figure size 432x288 with 1 Axes>"
      ]
     },
     "metadata": {
      "needs_background": "light"
     },
     "output_type": "display_data"
    }
   ],
   "source": [
    "##### 데이터 준비 \n",
    "x_train = [1,2,3] # 입력 데이터 \n",
    "y_train = [1,2,3]\n",
    "W =tf.placeholder(tf.float32)\n",
    "\n",
    "##### 가설 준비 (y=Wx) --> W 의 값을 알아내기 단순해서 이미 알고있음 \n",
    "hypot = W *x_train\n",
    "\n",
    "##### 비용이 얼마나 들지 - 비용 공식  MSE \n",
    "cost = tf.reduce_mean(tf.square(hypot-y_train))\n",
    "\n",
    "#  --------------------- 그래프 완성 ------------------------------#\n",
    "\n",
    "sess = tf.Session()\n",
    "\n",
    "cost_val=[]\n",
    "for i in range(-30,50):\n",
    "    result = sess.run(cost,feed_dict={W:i})\n",
    "    cost_val.append(result)\n",
    "    \n",
    "plt.plot(cost_val)\n",
    "sess.close() # w가 가장 작은 것을 구하는 경사하강법 "
   ]
  },
  {
   "cell_type": "markdown",
   "id": "279b2e7a",
   "metadata": {},
   "source": [
    "## 2. 경사 하강 알고리즘을 이용한  가중치 학습"
   ]
  },
  {
   "cell_type": "code",
   "execution_count": 3,
   "id": "809aae15",
   "metadata": {},
   "outputs": [
    {
     "name": "stdout",
     "output_type": "stream",
     "text": [
      "WARNING:tensorflow:From C:\\Users\\ADMINI~1\\AppData\\Local\\Temp/ipykernel_26804/1569540010.py:4: The name tf.random_normal is deprecated. Please use tf.random.normal instead.\n",
      "\n",
      "WARNING:tensorflow:From C:\\Users\\ADMINI~1\\AppData\\Local\\Temp/ipykernel_26804/1569540010.py:22: The name tf.global_variables_initializer is deprecated. Please use tf.compat.v1.global_variables_initializer instead.\n",
      "\n",
      "0 [0.8038976] 0.1974618\n",
      "1 [0.8130491] 0.179462\n",
      "2 [0.82177347] 0.16310303\n",
      "3 [0.8300907] 0.14823528\n",
      "4 [0.8380198] 0.13472281\n",
      "5 [0.84557885] 0.122442104\n",
      "6 [0.85278517] 0.11128085\n",
      "7 [0.8596552] 0.101136945\n",
      "8 [0.8662046] 0.09191773\n",
      "9 [0.8724484] 0.08353899\n",
      "10 [0.8784008] 0.07592395\n",
      "11 [0.8840754] 0.06900304\n",
      "12 [0.88948524] 0.06271306\n",
      "13 [0.8946426] 0.056996416\n",
      "14 [0.89955926] 0.05180086\n",
      "15 [0.9042465] 0.047078934\n",
      "16 [0.908715] 0.04278742\n",
      "17 [0.91297495] 0.0388871\n",
      "18 [0.9170361] 0.03534232\n",
      "19 [0.92090774] 0.032120686\n",
      "20 [0.9245987] 0.029192736\n",
      "21 [0.9281174] 0.026531667\n",
      "22 [0.93147194] 0.024113158\n",
      "23 [0.9346699] 0.021915091\n",
      "24 [0.93771863] 0.019917436\n",
      "25 [0.9406251] 0.018101854\n",
      "26 [0.9433959] 0.016451797\n",
      "27 [0.9460374] 0.014952098\n",
      "28 [0.94855565] 0.013589137\n",
      "29 [0.9509564] 0.01235044\n",
      "30 [0.9532451] 0.011224608\n",
      "31 [0.955427] 0.010201435\n",
      "32 [0.9575071] 0.009271509\n",
      "33 [0.95949006] 0.008426365\n",
      "34 [0.96138054] 0.0076582576\n",
      "35 [0.9631828] 0.006960154\n",
      "36 [0.964901] 0.0063257017\n",
      "37 [0.9665389] 0.005749062\n",
      "38 [0.9681004] 0.005225009\n",
      "39 [0.96958905] 0.0047487267\n",
      "40 [0.97100824] 0.0043158494\n",
      "41 [0.9723612] 0.0039224396\n",
      "42 [0.973651] 0.0035648737\n",
      "43 [0.97488064] 0.0032399248\n",
      "44 [0.9760529] 0.0029445877\n",
      "45 [0.9771704] 0.0026761622\n",
      "46 [0.9782358] 0.002432224\n",
      "47 [0.97925144] 0.0022105097\n",
      "48 [0.9802197] 0.0020090095\n",
      "49 [0.9811428] 0.001825882\n",
      "50 [0.9820228] 0.001659433\n",
      "51 [0.98286176] 0.0015081662\n",
      "52 [0.98366153] 0.0013706904\n",
      "53 [0.984424] 0.0012457496\n",
      "54 [0.9851509] 0.0011321927\n",
      "55 [0.98584384] 0.0010289821\n",
      "56 [0.98650444] 0.0009351874\n",
      "57 [0.9871342] 0.00084994436\n",
      "58 [0.9877346] 0.00077246566\n",
      "59 [0.988307] 0.0007020502\n",
      "60 [0.9888527] 0.0006380559\n",
      "61 [0.9893729] 0.0005798941\n",
      "62 [0.9898688] 0.00052703155\n",
      "63 [0.9903416] 0.0004789917\n",
      "64 [0.99079233] 0.00043532936\n",
      "65 [0.991222] 0.00039564408\n",
      "66 [0.9916317] 0.00035957794\n",
      "67 [0.9920222] 0.00032680147\n",
      "68 [0.9923945] 0.0002970111\n",
      "69 [0.99274945] 0.00026993555\n",
      "70 [0.9930878] 0.0002453287\n",
      "71 [0.9934104] 0.00022296375\n",
      "72 [0.9937179] 0.00020263856\n",
      "73 [0.99401104] 0.00018416846\n",
      "74 [0.99429053] 0.00016738065\n",
      "75 [0.99455696] 0.00015212486\n",
      "76 [0.994811] 0.00013825703\n",
      "77 [0.9950532] 0.00012565406\n",
      "78 [0.995284] 0.000114199676\n",
      "79 [0.9955041] 0.000103789374\n",
      "80 [0.9957139] 9.43292e-05\n",
      "81 [0.9959139] 8.573065e-05\n",
      "82 [0.9961046] 7.791528e-05\n",
      "83 [0.9962864] 7.081366e-05\n",
      "84 [0.9964597] 6.435745e-05\n",
      "85 [0.99662495] 5.8489968e-05\n",
      "86 [0.9967824] 5.315793e-05\n",
      "87 [0.99693257] 4.8312333e-05\n",
      "88 [0.99707574] 4.3909004e-05\n",
      "89 [0.99721223] 3.9906492e-05\n",
      "90 [0.99734235] 3.626739e-05\n",
      "91 [0.9974664] 3.2961198e-05\n",
      "92 [0.99758464] 2.9955982e-05\n",
      "93 [0.99769735] 2.7224856e-05\n",
      "94 [0.9978048] 2.4743515e-05\n",
      "95 [0.9979073] 2.2488055e-05\n",
      "96 [0.9980049] 2.0437043e-05\n",
      "97 [0.998098] 1.8575063e-05\n",
      "98 [0.99818677] 1.6881417e-05\n",
      "99 [0.9982714] 1.5343345e-05\n"
     ]
    }
   ],
   "source": [
    "##### 데이터 준비 \n",
    "x_train = [1,2,3] # 입력 데이터 \n",
    "y_train = [1,2,3]\n",
    "W =tf.Variable(tf.random_normal([1]),dtype =tf.float32)\n",
    "b =tf.Variable(tf.random_normal([1]),dtype =tf.float32)\n",
    "\n",
    "##### 가설 준비 (y=Wx) --> W 의 값을 알아내기 단순해서 이미 알고있음 \n",
    "hypot = W *x_train\n",
    "\n",
    "##### 비용이 얼마나 들지 - 비용 공식  MSE \n",
    "cost = tf.reduce_mean(tf.square(hypot-y_train))\n",
    "\n",
    "##### 최저 비용학습을 위한 경사하강 알고리즘(Gradient Descent)\n",
    "gradient = tf.reduce_mean((hypot-y_train)*x_train)\n",
    "learning_rate = 0.01 # 알파값 \n",
    "descent = W -(learning_rate * gradient)\n",
    "update=W.assign(descent)\n",
    "\n",
    "#--------------- 그래프 완성 -----------------# \n",
    "\n",
    "sess = tf.Session()\n",
    "sess.run(tf.global_variables_initializer())\n",
    "\n",
    "for step in range(100): # 훈련 횟수 \n",
    "    _, weight,c=sess.run([update,W,cost]) # 실험이 잘되고 있나 모니터링 하기 위해 \n",
    "    print(step,weight,c)\n",
    "    \n",
    "sess.close()\n"
   ]
  },
  {
   "cell_type": "code",
   "execution_count": 4,
   "id": "3541d513",
   "metadata": {},
   "outputs": [
    {
     "name": "stdout",
     "output_type": "stream",
     "text": [
      "0 [0.01576622] 30.272379\n",
      "1 [0.21261297] 19.374323\n",
      "2 [0.37009037] 12.399567\n",
      "3 [0.4960723] 7.9357233\n",
      "4 [0.59685785] 5.0788627\n",
      "5 [0.6774863] 3.2504718\n",
      "6 [0.741989] 2.080302\n",
      "7 [0.7935912] 1.3313935\n",
      "8 [0.83487296] 0.8520918\n",
      "9 [0.86789834] 0.5453388\n",
      "10 [0.8943187] 0.349017\n",
      "11 [0.915455] 0.22337069\n",
      "12 [0.932364] 0.14295714\n",
      "13 [0.9458912] 0.0914926\n",
      "14 [0.95671296] 0.05855525\n",
      "15 [0.96537036] 0.037475348\n",
      "16 [0.9722963] 0.023984237\n",
      "17 [0.977837] 0.015349885\n",
      "18 [0.98226964] 0.009823962\n",
      "19 [0.9858157] 0.0062873205\n",
      "20 [0.9886526] 0.0040238826\n",
      "21 [0.9909221] 0.0025752822\n",
      "22 [0.99273765] 0.0016481625\n",
      "23 [0.9941901] 0.0010548384\n",
      "24 [0.9953521] 0.0006751028\n",
      "25 [0.9962817] 0.00043206234\n",
      "26 [0.9970254] 0.00027651523\n",
      "27 [0.9976203] 0.00017697013\n",
      "28 [0.9980962] 0.00011326047\n",
      "29 [0.998477] 7.2487244e-05\n",
      "30 [0.99878156] 4.639167e-05\n",
      "31 [0.9990252] 2.9692537e-05\n",
      "32 [0.9992202] 1.9004265e-05\n",
      "33 [0.9993762] 1.2162143e-05\n",
      "34 [0.99950093] 7.783444e-06\n",
      "35 [0.99960077] 4.9813175e-06\n",
      "36 [0.99968064] 3.1879536e-06\n",
      "37 [0.99974453] 2.0396528e-06\n",
      "38 [0.9997956] 1.3051047e-06\n",
      "39 [0.9998365] 8.354208e-07\n",
      "40 [0.9998692] 5.345128e-07\n",
      "41 [0.9998954] 3.4210512e-07\n",
      "42 [0.9999163] 2.1886854e-07\n",
      "43 [0.99993306] 1.4005194e-07\n",
      "44 [0.9999465] 8.962115e-08\n",
      "45 [0.9999572] 5.7329455e-08\n",
      "46 [0.9999658] 3.6605417e-08\n",
      "47 [0.99997264] 2.3390882e-08\n",
      "48 [0.9999781] 1.4974917e-08\n",
      "49 [0.9999825] 9.5564525e-09\n",
      "50 [0.999986] 6.131515e-09\n",
      "51 [0.9999888] 3.926604e-09\n",
      "52 [0.99999106] 2.509832e-09\n",
      "53 [0.99999285] 1.5935585e-09\n",
      "54 [0.9999943] 1.0231815e-09\n",
      "55 [0.9999954] 6.548362e-10\n",
      "56 [0.9999963] 4.2042864e-10\n",
      "57 [0.999997] 2.7100708e-10\n",
      "58 [0.9999976] 1.793755e-10\n",
      "59 [0.9999981] 1.1368684e-10\n",
      "60 [0.99999845] 7.2759576e-11\n",
      "61 [0.99999875] 4.8944213e-11\n",
      "62 [0.999999] 3.1108068e-11\n",
      "63 [0.99999917] 2.118077e-11\n",
      "64 [0.99999934] 1.3457679e-11\n",
      "65 [0.99999946] 8.728003e-12\n",
      "66 [0.9999996] 6.1010246e-12\n",
      "67 [0.99999964] 3.2263716e-12\n",
      "68 [0.9999997] 2.3650923e-12\n",
      "69 [0.99999976] 1.7281414e-12\n",
      "70 [0.9999998] 1.1855913e-12\n",
      "71 [0.9999999] 6.805984e-13\n",
      "72 [0.9999999] 3.674521e-13\n",
      "73 [0.9999999] 3.674521e-13\n",
      "74 [0.9999999] 3.674521e-13\n",
      "75 [0.9999999] 3.674521e-13\n",
      "76 [0.9999999] 3.674521e-13\n",
      "77 [0.9999999] 3.674521e-13\n",
      "78 [0.9999999] 3.674521e-13\n",
      "79 [0.9999999] 3.674521e-13\n",
      "80 [0.9999999] 3.674521e-13\n",
      "81 [0.9999999] 3.674521e-13\n",
      "82 [0.9999999] 3.674521e-13\n",
      "83 [0.9999999] 3.674521e-13\n",
      "84 [0.9999999] 3.674521e-13\n",
      "85 [0.9999999] 3.674521e-13\n",
      "86 [0.9999999] 3.674521e-13\n",
      "87 [0.9999999] 3.674521e-13\n",
      "88 [0.9999999] 3.674521e-13\n",
      "89 [0.9999999] 3.674521e-13\n",
      "90 [0.9999999] 3.674521e-13\n",
      "91 [0.9999999] 3.674521e-13\n",
      "92 [0.9999999] 3.674521e-13\n",
      "93 [0.9999999] 3.674521e-13\n",
      "94 [0.9999999] 3.674521e-13\n",
      "95 [0.9999999] 3.674521e-13\n",
      "96 [0.9999999] 3.674521e-13\n",
      "97 [0.9999999] 3.674521e-13\n",
      "98 [0.9999999] 3.674521e-13\n",
      "99 [0.9999999] 3.674521e-13\n"
     ]
    }
   ],
   "source": [
    "##### 데이터 준비 \n",
    "x_train = tf.placeholder(tf.float32,shape=[None]) # 값을 모를때\n",
    "y_train = tf.placeholder(tf.float32,shape=[None]) \n",
    "W =tf.Variable(tf.random_normal([1]),dtype =tf.float32)\n",
    "b =tf.Variable(tf.random_normal([1]),dtype =tf.float32)\n",
    "\n",
    "##### 가설 준비 (y=Wx) --> W 의 값을 알아내기 단순해서 이미 알고있음 \n",
    "hypot = W *x_train\n",
    "\n",
    "##### 비용이 얼마나 들지 - 비용 공식  MSE \n",
    "cost = tf.reduce_mean(tf.square(hypot-y_train))\n",
    "\n",
    "##### 최저 비용학습을 위한 경사하강 알고리즘(Gradient Descent)\n",
    "gradient = tf.reduce_mean((hypot-y_train)*x_train)\n",
    "learning_rate = 0.01 # 알파값 \n",
    "descent = W -(learning_rate * gradient)\n",
    "update=W.assign(descent)\n",
    "\n",
    "#--------------- 그래프 완성 -----------------# \n",
    "\n",
    "sess = tf.Session()\n",
    "sess.run(tf.global_variables_initializer())\n",
    "\n",
    "for step in range(100): # 훈련 횟수 ,데이터 가져오기(데이터 갯수가 늘어나면 shape를 바꿔줘야함 매번 그러면 불편하지 않나?None으로 하면 댐)\n",
    "    _, weight,c=sess.run([update,W,cost],feed_dict={x_train:[1,2,3,4,5,6,7],y_train:[1,2,3,4,5,6,7]}) # 실험이 잘되고 있나 모니터링 하기 위해 \n",
    "    print(step,weight,c)\n",
    "    \n",
    "sess.close()\n"
   ]
  },
  {
   "cell_type": "code",
   "execution_count": 5,
   "id": "121cf48f",
   "metadata": {},
   "outputs": [
    {
     "name": "stdout",
     "output_type": "stream",
     "text": [
      "WARNING:tensorflow:From C:\\Users\\ADMINI~1\\AppData\\Local\\Temp/ipykernel_26804/3574185533.py:14: The name tf.train.GradientDescentOptimizer is deprecated. Please use tf.compat.v1.train.GradientDescentOptimizer instead.\n",
      "\n",
      "0 [0.96805334] 2.212232 [0.50369763]\n",
      "1 [1.0410815] 1.4320743 [0.50369763]\n",
      "2 [1.0980436] 0.95742625 [0.50369763]\n",
      "3 [1.1424739] 0.66865027 [0.50369763]\n",
      "4 [1.1771296] 0.49295893 [0.50369763]\n",
      "5 [1.204161] 0.3860683 [0.50369763]\n",
      "6 [1.2252456] 0.32103604 [0.50369763]\n",
      "7 [1.2416916] 0.28147036 [0.50369763]\n",
      "8 [1.2545195] 0.2573985 [0.50369763]\n",
      "9 [1.2645252] 0.24275322 [0.50369763]\n",
      "10 [1.2723296] 0.23384306 [0.50369763]\n",
      "11 [1.2784171] 0.22842209 [0.50369763]\n",
      "12 [1.2831653] 0.22512397 [0.50369763]\n",
      "13 [1.2868689] 0.22311744 [0.50369763]\n",
      "14 [1.2897577] 0.22189665 [0.50369763]\n",
      "15 [1.292011] 0.2211539 [0.50369763]\n",
      "16 [1.2937686] 0.22070205 [0.50369763]\n",
      "17 [1.2951396] 0.22042713 [0.50369763]\n",
      "18 [1.2962089] 0.22025982 [0.50369763]\n",
      "19 [1.2970428] 0.22015806 [0.50369763]\n",
      "20 [1.2976934] 0.22009616 [0.50369763]\n",
      "21 [1.2982008] 0.22005847 [0.50369763]\n",
      "22 [1.2985966] 0.22003555 [0.50369763]\n",
      "23 [1.2989054] 0.22002158 [0.50369763]\n",
      "24 [1.2991462] 0.22001314 [0.50369763]\n",
      "25 [1.299334] 0.22000799 [0.50369763]\n",
      "26 [1.2994806] 0.22000484 [0.50369763]\n",
      "27 [1.2995949] 0.22000292 [0.50369763]\n",
      "28 [1.299684] 0.22000177 [0.50369763]\n",
      "29 [1.2997535] 0.22000107 [0.50369763]\n",
      "30 [1.2998078] 0.22000065 [0.50369763]\n",
      "31 [1.2998501] 0.22000031 [0.50369763]\n",
      "32 [1.2998831] 0.22000019 [0.50369763]\n",
      "33 [1.2999089] 0.22000007 [0.50369763]\n",
      "34 [1.2999289] 0.22000003 [0.50369763]\n",
      "35 [1.2999445] 0.21999998 [0.50369763]\n",
      "36 [1.2999567] 0.21999998 [0.50369763]\n",
      "37 [1.2999662] 0.22000003 [0.50369763]\n",
      "38 [1.2999736] 0.22 [0.50369763]\n",
      "39 [1.2999794] 0.21999994 [0.50369763]\n",
      "40 [1.299984] 0.21999994 [0.50369763]\n",
      "41 [1.2999876] 0.21999998 [0.50369763]\n",
      "42 [1.2999903] 0.22 [0.50369763]\n",
      "43 [1.2999924] 0.21999994 [0.50369763]\n",
      "44 [1.2999941] 0.22 [0.50369763]\n",
      "45 [1.2999954] 0.21999994 [0.50369763]\n",
      "46 [1.2999964] 0.21999995 [0.50369763]\n",
      "47 [1.2999972] 0.21999995 [0.50369763]\n",
      "48 [1.2999978] 0.22 [0.50369763]\n",
      "49 [1.2999983] 0.21999995 [0.50369763]\n",
      "50 [1.2999986] 0.21999995 [0.50369763]\n",
      "51 [1.2999989] 0.21999998 [0.50369763]\n",
      "52 [1.2999991] 0.21999994 [0.50369763]\n",
      "53 [1.2999994] 0.22 [0.50369763]\n",
      "54 [1.2999995] 0.21999994 [0.50369763]\n",
      "55 [1.2999996] 0.21999994 [0.50369763]\n",
      "56 [1.2999997] 0.22 [0.50369763]\n",
      "57 [1.2999997] 0.21999995 [0.50369763]\n",
      "58 [1.2999997] 0.21999995 [0.50369763]\n",
      "59 [1.2999997] 0.21999995 [0.50369763]\n",
      "60 [1.2999997] 0.21999995 [0.50369763]\n",
      "61 [1.2999997] 0.21999995 [0.50369763]\n",
      "62 [1.2999997] 0.21999995 [0.50369763]\n",
      "63 [1.2999997] 0.21999995 [0.50369763]\n",
      "64 [1.2999997] 0.21999995 [0.50369763]\n",
      "65 [1.2999997] 0.21999995 [0.50369763]\n",
      "66 [1.2999997] 0.21999995 [0.50369763]\n",
      "67 [1.2999997] 0.21999995 [0.50369763]\n",
      "68 [1.2999997] 0.21999995 [0.50369763]\n",
      "69 [1.2999997] 0.21999995 [0.50369763]\n",
      "70 [1.2999997] 0.21999995 [0.50369763]\n",
      "71 [1.2999997] 0.21999995 [0.50369763]\n",
      "72 [1.2999997] 0.21999995 [0.50369763]\n",
      "73 [1.2999997] 0.21999995 [0.50369763]\n",
      "74 [1.2999997] 0.21999995 [0.50369763]\n",
      "75 [1.2999997] 0.21999995 [0.50369763]\n",
      "76 [1.2999997] 0.21999995 [0.50369763]\n",
      "77 [1.2999997] 0.21999995 [0.50369763]\n",
      "78 [1.2999997] 0.21999995 [0.50369763]\n",
      "79 [1.2999997] 0.21999995 [0.50369763]\n",
      "80 [1.2999997] 0.21999995 [0.50369763]\n",
      "81 [1.2999997] 0.21999995 [0.50369763]\n",
      "82 [1.2999997] 0.21999995 [0.50369763]\n",
      "83 [1.2999997] 0.21999995 [0.50369763]\n",
      "84 [1.2999997] 0.21999995 [0.50369763]\n",
      "85 [1.2999997] 0.21999995 [0.50369763]\n",
      "86 [1.2999997] 0.21999995 [0.50369763]\n",
      "87 [1.2999997] 0.21999995 [0.50369763]\n",
      "88 [1.2999997] 0.21999995 [0.50369763]\n",
      "89 [1.2999997] 0.21999995 [0.50369763]\n",
      "90 [1.2999997] 0.21999995 [0.50369763]\n",
      "91 [1.2999997] 0.21999995 [0.50369763]\n",
      "92 [1.2999997] 0.21999995 [0.50369763]\n",
      "93 [1.2999997] 0.21999995 [0.50369763]\n",
      "94 [1.2999997] 0.21999995 [0.50369763]\n",
      "95 [1.2999997] 0.21999995 [0.50369763]\n",
      "96 [1.2999997] 0.21999995 [0.50369763]\n",
      "97 [1.2999997] 0.21999995 [0.50369763]\n",
      "98 [1.2999997] 0.21999995 [0.50369763]\n",
      "99 [1.2999997] 0.21999995 [0.50369763]\n"
     ]
    }
   ],
   "source": [
    "##### 데이터 준비 \n",
    "x_train = tf.placeholder(tf.float32,shape=[None]) # 값을 모를때\n",
    "y_train = tf.placeholder(tf.float32,shape=[None]) \n",
    "W =tf.Variable(tf.random_normal([1]),dtype =tf.float32)\n",
    "b =tf.Variable(tf.random_normal([1]),dtype =tf.float32)\n",
    "\n",
    "##### 가설 준비 (y=Wx) --> W 의 값을 알아내기 단순해서 이미 알고있음 \n",
    "hypot = W *x_train\n",
    "\n",
    "##### 비용이 얼마나 들지 - 비용 공식  MSE \n",
    "cost = tf.reduce_mean(tf.square(hypot-y_train))\n",
    "\n",
    "##### 최저 비용학습을 위한 경사하강 알고리즘(Gradient Descent)\n",
    "update = tf.train.GradientDescentOptimizer(learning_rate=0.01).minimize(cost)\n",
    "\n",
    "#--------------- 그래프 완성 -----------------# \n",
    "\n",
    "sess = tf.Session()\n",
    "sess.run(tf.global_variables_initializer())\n",
    "\n",
    "for step in range(100): # 훈련 횟수 ,데이터 가져오기(데이터 갯수가 늘어나면 shape를 바꿔줘야함 매번 그러면 불편하지 않나?None으로 하면 댐)\n",
    "    _, weight,c,bias=sess.run([update,W,cost,b],feed_dict={x_train:[1,2,3,4,5],y_train:[2.1,3.1,4.1,5.1,6.1]}) # 실험이 잘되고 있나 모니터링 하기 위해 \n",
    "    print(step,weight,c,bias)\n",
    "    \n",
    "# sess.close()\n"
   ]
  },
  {
   "cell_type": "code",
   "execution_count": 6,
   "id": "2c5e905d",
   "metadata": {},
   "outputs": [
    {
     "data": {
      "text/plain": [
       "array([3.2499993, 4.809999 ], dtype=float32)"
      ]
     },
     "execution_count": 6,
     "metadata": {},
     "output_type": "execute_result"
    }
   ],
   "source": [
    "#### Testing\n",
    "\n",
    "sess.run(hypot,feed_dict={x_train:[27]})\n",
    "sess.run(hypot,feed_dict={x_train:[2.5,3.7]})"
   ]
  },
  {
   "cell_type": "code",
   "execution_count": 7,
   "id": "8c9b7859",
   "metadata": {},
   "outputs": [],
   "source": [
    "sess.close()"
   ]
  },
  {
   "cell_type": "code",
   "execution_count": 8,
   "id": "e5ba47d2",
   "metadata": {},
   "outputs": [
    {
     "name": "stdout",
     "output_type": "stream",
     "text": [
      "0 [-1.3355459] 151.79109\n",
      "1 [-0.8948865] 97.17778\n",
      "2 [-0.5423591] 62.225254\n",
      "3 [-0.26033714] 39.855644\n",
      "4 [-0.03471957] 25.539097\n",
      "5 [0.1457745] 16.376505\n",
      "6 [0.29016978] 10.5124445\n",
      "7 [0.40568596] 6.759446\n",
      "8 [0.4980989] 4.3575273\n",
      "9 [0.5720293] 2.8202996\n",
      "10 [0.6311736] 1.8364736\n",
      "11 [0.678489] 1.2068247\n",
      "12 [0.7163414] 0.8038499\n",
      "13 [0.7466233] 0.54594576\n",
      "14 [0.77084875] 0.38088682\n",
      "15 [0.79022914] 0.2752495\n",
      "16 [0.8057335] 0.20764153\n",
      "17 [0.818137] 0.16437225\n",
      "18 [0.82805973] 0.13667993\n",
      "19 [0.83599794] 0.118956886\n",
      "20 [0.8423485] 0.10761421\n",
      "21 [0.847429] 0.10035484\n",
      "22 [0.85149336] 0.0957088\n",
      "23 [0.85474485] 0.092735395\n",
      "24 [0.85734606] 0.0908324\n",
      "25 [0.85942703] 0.08961447\n",
      "26 [0.8610918] 0.08883498\n",
      "27 [0.8624236] 0.08833611\n",
      "28 [0.86348903] 0.08801685\n",
      "29 [0.8643414] 0.08781254\n",
      "30 [0.86502326] 0.08768175\n",
      "31 [0.86556876] 0.08759805\n",
      "32 [0.8660052] 0.08754449\n",
      "33 [0.8663543] 0.08751021\n",
      "34 [0.8666336] 0.08748829\n",
      "35 [0.86685705] 0.087474234\n",
      "36 [0.8670358] 0.08746527\n",
      "37 [0.8671788] 0.0874595\n",
      "38 [0.8672932] 0.087455824\n",
      "39 [0.86738473] 0.08745348\n",
      "40 [0.8674579] 0.08745197\n",
      "41 [0.8675165] 0.08745099\n",
      "42 [0.86756337] 0.087450385\n",
      "43 [0.86760086] 0.08744996\n",
      "44 [0.86763084] 0.08744973\n",
      "45 [0.86765486] 0.08744957\n",
      "46 [0.86767405] 0.087449454\n",
      "47 [0.86768943] 0.08744937\n",
      "48 [0.8677017] 0.08744937\n",
      "49 [0.86771154] 0.08744932\n"
     ]
    }
   ],
   "source": [
    "##### 데이터 준비\n",
    "x_train = tf.placeholder(tf.float32, shape=[None])\n",
    "y_train = tf.placeholder(tf.float32, shape=[None])\n",
    "\n",
    "W = tf.Variable(tf.random_normal([1]), dtype=tf.float32)\n",
    "b = tf.Variable(tf.random_normal([1]), dtype=tf.float32)\n",
    "\n",
    "##### 가설 준비(y = Wx + b)\n",
    "hypot = W * x_train + b\n",
    "\n",
    "##### 비용 함수\n",
    "cost = tf.reduce_mean(tf.square(hypot-y_train))\n",
    "\n",
    "##### 최저 비용 학습을 위한 경사 하강 알고리즘(Gradient Descent)\n",
    "gradient = tf.reduce_mean((hypot-y_train) * x_train)\n",
    "learning_rate = 0.01\n",
    "descent = W - (learning_rate * gradient)\n",
    "update = W.assign(descent)\n",
    "\n",
    "# -------------------------- 그래프 완성 ---------------------------- #\n",
    "\n",
    "sess = tf.Session()\n",
    "sess.run(tf.global_variables_initializer())\n",
    "\n",
    "for step in range(50):\n",
    "    _, weight, c = sess.run([update, W, cost], feed_dict={x_train:[1, 2, 3, 4, 5, 6, 7], \n",
    "                                                          y_train:[1, 2, 3, 4, 5, 6, 7]})\n",
    "    print(step, weight, c)\n",
    "    \n",
    "sess.close()"
   ]
  },
  {
   "cell_type": "code",
   "execution_count": 9,
   "id": "dcf64859",
   "metadata": {},
   "outputs": [
    {
     "name": "stdout",
     "output_type": "stream",
     "text": [
      "0 [-0.13416949] 51.426502 [-0.7461513]\n",
      "1 [0.22611687] 30.121113 [-0.64117813]\n",
      "2 [0.50084186] 17.704357 [-0.55992156]\n",
      "3 [0.7102519] 10.467466 [-0.49677366]\n",
      "4 [0.86980295] 6.249152 [-0.44745332]\n",
      "5 [0.9912935] 3.7899182 [-0.40869242]\n",
      "6 [1.0837305] 2.3557987 [-0.37799618]\n",
      "7 [1.1539896] 1.5190712 [-0.35346007]\n",
      "8 [1.2073195] 1.0304806 [-0.33363023]\n",
      "9 [1.247727] 0.7447736 [-0.3173968]\n",
      "10 [1.2782708] 0.577304 [-0.3039125]\n",
      "11 [1.301286] 0.47874397 [-0.2925305]\n",
      "12 [1.3185549] 0.4203473 [-0.28275704]\n",
      "13 [1.3314382] 0.3853623 [-0.2742152]\n",
      "14 [1.3409747] 0.36402696 [-0.26661718]\n",
      "15 [1.3479573] 0.35065237 [-0.25974333]\n",
      "16 [1.3529912] 0.34192327 [-0.2534259]\n",
      "17 [1.3565387] 0.3359076 [-0.24753685]\n",
      "18 [1.3589524] 0.33147973 [-0.24197844]\n",
      "19 [1.3605015] 0.32798284 [-0.23667601]\n",
      "20 [1.3613918] 0.32503498 [-0.23157258]\n",
      "21 [1.3617799] 0.32241347 [-0.22662464]\n",
      "22 [1.3617858] 0.31998786 [-0.22179894]\n",
      "23 [1.3615009] 0.31768247 [-0.21707012]\n",
      "24 [1.3609948] 0.31545335 [-0.21241876]\n",
      "25 [1.360321] 0.31327465 [-0.20783009]\n",
      "26 [1.3595202] 0.31113115 [-0.20329276]\n",
      "27 [1.3586233] 0.309014 [-0.19879812]\n",
      "28 [1.357654] 0.3069184 [-0.19433956]\n",
      "29 [1.3566304] 0.30484068 [-0.189912]\n",
      "30 [1.3555665] 0.30277961 [-0.18551159]\n",
      "31 [1.3544725] 0.30073377 [-0.18113536]\n",
      "32 [1.3533567] 0.29870263 [-0.176781]\n",
      "33 [1.3522251] 0.2966855 [-0.17244679]\n",
      "34 [1.3510823] 0.29468235 [-0.16813137]\n",
      "35 [1.3499321] 0.29269284 [-0.16383368]\n",
      "36 [1.348777] 0.29071695 [-0.15955293]\n",
      "37 [1.3476193] 0.28875428 [-0.1552885]\n",
      "38 [1.3464603] 0.2868049 [-0.1510399]\n",
      "39 [1.3453015] 0.2848689 [-0.14680672]\n",
      "40 [1.3441436] 0.28294596 [-0.14258868]\n",
      "41 [1.3429873] 0.28103596 [-0.13838552]\n",
      "42 [1.3418332] 0.2791388 [-0.13419706]\n",
      "43 [1.3406818] 0.27725437 [-0.1300231]\n",
      "44 [1.3395332] 0.27538294 [-0.12586355]\n",
      "45 [1.3383877] 0.27352393 [-0.12171827]\n",
      "46 [1.3372455] 0.27167735 [-0.11758717]\n",
      "47 [1.3361067] 0.26984352 [-0.11347016]\n",
      "48 [1.3349714] 0.268022 [-0.10936716]\n",
      "49 [1.3338398] 0.26621258 [-0.1052781]\n",
      "50 [1.3327117] 0.26441562 [-0.10120293]\n",
      "51 [1.3315873] 0.26263064 [-0.09714158]\n",
      "52 [1.3304666] 0.26085776 [-0.09309399]\n",
      "53 [1.3293496] 0.25909692 [-0.08906011]\n",
      "54 [1.3282363] 0.2573477 [-0.08503989]\n",
      "55 [1.3271267] 0.2556106 [-0.08103327]\n",
      "56 [1.3260208] 0.25388506 [-0.07704022]\n",
      "57 [1.3249186] 0.25217122 [-0.07306067]\n",
      "58 [1.3238201] 0.25046906 [-0.06909458]\n",
      "59 [1.3227254] 0.2487782 [-0.06514189]\n",
      "60 [1.3216343] 0.24709885 [-0.06120259]\n",
      "61 [1.3205469] 0.24543075 [-0.0572766]\n",
      "62 [1.3194631] 0.24377398 [-0.05336388]\n",
      "63 [1.3183831] 0.24212845 [-0.04946439]\n",
      "64 [1.3173066] 0.24049398 [-0.0455781]\n",
      "65 [1.3162339] 0.23887043 [-0.04170493]\n",
      "66 [1.3151647] 0.23725787 [-0.03784487]\n",
      "67 [1.3140992] 0.23565638 [-0.03399785]\n",
      "68 [1.3130373] 0.23406556 [-0.03016385]\n",
      "69 [1.3119789] 0.23248553 [-0.02634281]\n",
      "70 [1.3109242] 0.23091611 [-0.02253469]\n",
      "71 [1.309873] 0.22935724 [-0.01873945]\n",
      "72 [1.3088253] 0.22780915 [-0.01495704]\n",
      "73 [1.3077811] 0.2262713 [-0.01118742]\n",
      "74 [1.3067405] 0.22474377 [-0.00743054]\n",
      "75 [1.3057034] 0.22322671 [-0.00368636]\n",
      "76 [1.3046699] 0.22171971 [4.5158202e-05]\n",
      "77 [1.3036398] 0.2202231 [0.00376406]\n",
      "78 [1.3026131] 0.21873645 [0.00747039]\n",
      "79 [1.30159] 0.21725993 [0.01116419]\n",
      "80 [1.3005704] 0.21579325 [0.01484551]\n",
      "81 [1.2995541] 0.21433651 [0.01851437]\n",
      "82 [1.2985413] 0.21288955 [0.02217084]\n",
      "83 [1.297532] 0.21145256 [0.02581494]\n",
      "84 [1.2965261] 0.21002516 [0.02944672]\n",
      "85 [1.2955235] 0.20860729 [0.03306622]\n",
      "86 [1.2945243] 0.20719917 [0.03667348]\n",
      "87 [1.2935286] 0.20580044 [0.04026855]\n",
      "88 [1.2925361] 0.20441118 [0.04385146]\n",
      "89 [1.2915471] 0.20303135 [0.04742227]\n",
      "90 [1.2905613] 0.20166075 [0.050981]\n",
      "91 [1.2895789] 0.20029941 [0.05452769]\n",
      "92 [1.2885998] 0.19894734 [0.0580624]\n",
      "93 [1.2876241] 0.19760439 [0.06158516]\n",
      "94 [1.2866517] 0.19627038 [0.06509601]\n",
      "95 [1.2856826] 0.19494544 [0.06859498]\n",
      "96 [1.2847167] 0.19362953 [0.07208213]\n",
      "97 [1.2837541] 0.19232237 [0.07555749]\n",
      "98 [1.2827947] 0.19102421 [0.07902108]\n",
      "99 [1.2818387] 0.18973467 [0.08247297]\n"
     ]
    }
   ],
   "source": [
    "##### 데이터 준비\n",
    "x_train = tf.placeholder(tf.float32, shape=[None])\n",
    "y_train = tf.placeholder(tf.float32, shape=[None])\n",
    "\n",
    "W = tf.Variable(tf.random_normal([1]), dtype=tf.float32)\n",
    "b = tf.Variable(tf.random_normal([1]), dtype=tf.float32)\n",
    "\n",
    "##### 가설 준비(y = Wx + b)\n",
    "hypot = W * x_train + b\n",
    "\n",
    "##### 비용 함수\n",
    "cost = tf.reduce_mean(tf.square(hypot-y_train))\n",
    "\n",
    "##### 최저 비용 학습을 위한 경사 하강 알고리즘(Gradient Descent)\n",
    "update = tf.train.GradientDescentOptimizer(learning_rate=0.01).minimize(cost)\n",
    "\n",
    "# -------------------------- 그래프 완성 ---------------------------- #\n",
    "\n",
    "sess = tf.Session()\n",
    "sess.run(tf.global_variables_initializer())\n",
    "\n",
    "for step in range(100):\n",
    "    _, weight, c, bias = sess.run([update, W, cost, b], feed_dict={x_train:[1, 2, 3, 4, 5], \n",
    "                                                          y_train:[2.1, 3.1, 4.1, 5.1, 6.1]})\n",
    "    print(step, weight, c, bias)"
   ]
  },
  {
   "cell_type": "code",
   "execution_count": 10,
   "id": "7847b6cb",
   "metadata": {},
   "outputs": [
    {
     "name": "stdout",
     "output_type": "stream",
     "text": [
      "[34.692116]\n",
      "[3.2870696 4.825276 ]\n"
     ]
    }
   ],
   "source": [
    "##### Testing\n",
    "\n",
    "print(sess.run(hypot, feed_dict={x_train:[27]}))\n",
    "print(sess.run(hypot, feed_dict={x_train:[2.5, 3.7]}))"
   ]
  },
  {
   "cell_type": "code",
   "execution_count": 11,
   "id": "e2b35838",
   "metadata": {},
   "outputs": [],
   "source": [
    "sess.close()"
   ]
  },
  {
   "cell_type": "code",
   "execution_count": null,
   "id": "a22ff8e0",
   "metadata": {},
   "outputs": [],
   "source": []
  },
  {
   "cell_type": "markdown",
   "id": "8ab4200f",
   "metadata": {},
   "source": [
    "### (3) 응용 예제\n",
    "\n",
    "+ 아래의 데이터를 가지고 하루 8시간을 일할 때 매출액이 얼마인지 예측하시오"
   ]
  },
  {
   "cell_type": "code",
   "execution_count": 12,
   "id": "70702f76",
   "metadata": {},
   "outputs": [
    {
     "name": "stdout",
     "output_type": "stream",
     "text": [
      "0 13454005000.0\n",
      "100 9833571.0\n",
      "200 9188455.0\n",
      "300 8889887.0\n",
      "400 8751707.0\n",
      "500 8687753.0\n",
      "600 8658150.0\n",
      "700 8644457.0\n",
      "800 8638115.0\n",
      "900 8635187.0\n",
      "1000 8633825.0\n",
      "1100 8633197.0\n",
      "1200 8632903.0\n",
      "1300 8632773.0\n",
      "1400 8632708.0\n",
      "1500 8632673.0\n",
      "1600 8632661.0\n",
      "1700 8632662.0\n",
      "1800 8632654.0\n",
      "1900 8632652.0\n"
     ]
    }
   ],
   "source": [
    "##### 데이터 준비\n",
    "x_train = tf.placeholder(tf.float32, shape=[None])\n",
    "y_train = tf.placeholder(tf.float32, shape=[None])\n",
    "\n",
    "W = tf.Variable(tf.random_normal([1]), dtype=tf.float32)\n",
    "b = tf.Variable(tf.random_normal([1]), dtype=tf.float32)\n",
    "\n",
    "##### 가설 준비(y = Wx + b)\n",
    "hypot = W * x_train + b\n",
    "\n",
    "##### 비용 함수\n",
    "cost = tf.reduce_mean(tf.square(hypot-y_train))\n",
    "\n",
    "##### 최저 비용 학습을 위한 경사 하강 알고리즘(Gradient Descent)\n",
    "update = tf.train.GradientDescentOptimizer(learning_rate=0.01).minimize(cost)\n",
    "\n",
    "# -------------------------- 그래프 완성 ---------------------------- #\n",
    "\n",
    "sess = tf.Session()\n",
    "sess.run(tf.global_variables_initializer())\n",
    "\n",
    "for step in range(2000):\n",
    "    _, c = sess.run([update, cost], feed_dict={x_train:[1, 2, 3, 4, 5,6,7], \n",
    "                                                          y_train:[25000, 55000, 75000, 110000, 128000, 155000, 180000]})\n",
    "    if step % 100 ==0:\n",
    "        print(step, c)"
   ]
  },
  {
   "cell_type": "code",
   "execution_count": 13,
   "id": "54fab670",
   "metadata": {},
   "outputs": [
    {
     "name": "stdout",
     "output_type": "stream",
     "text": [
      "[206570.42]\n"
     ]
    }
   ],
   "source": [
    "#### Testing\n",
    "\n",
    "print(sess.run(hypot, feed_dict={x_train:[8]}))"
   ]
  },
  {
   "cell_type": "code",
   "execution_count": 14,
   "id": "45ab4164",
   "metadata": {},
   "outputs": [],
   "source": [
    "sess.close()"
   ]
  },
  {
   "cell_type": "markdown",
   "id": "8ece6025",
   "metadata": {},
   "source": [
    "## 2. 다중 선형회귀 모델 "
   ]
  },
  {
   "cell_type": "code",
   "execution_count": 15,
   "id": "12c4eb72",
   "metadata": {},
   "outputs": [],
   "source": [
    "x1_data = [73., 93., 89., 96., 73.]\n",
    "x2_data = [80., 88., 91., 98., 66.]\n",
    "x3_data = [75., 93., 90., 100., 70.]\n",
    "y_data = [152., 185., 180., 196., 142.]"
   ]
  },
  {
   "cell_type": "markdown",
   "id": "0fe91656",
   "metadata": {},
   "source": [
    "### (1) 단순하게 처리하는 경우"
   ]
  },
  {
   "cell_type": "code",
   "execution_count": 16,
   "id": "44055a75",
   "metadata": {},
   "outputs": [],
   "source": [
    "X1 = tf.placeholder(tf.float32,shape = [None])\n",
    "X2 = tf.placeholder(tf.float32,shape = [None])\n",
    "X3 = tf.placeholder(tf.float32,shape = [None])\n",
    "\n",
    "y = tf.placeholder(tf.float32,shape = [None])\n",
    "\n",
    "##### 가설 설정 : y = W1*X1+W2*X2+W3*X3+b\n",
    "W1 = tf.Variable(tf.random_normal([1])) # 초기값이 정규분포를 이루는 랜덤값\n",
    "W2 = tf.Variable(tf.random_normal([1]))\n",
    "W3 = tf.Variable(tf.random_normal([1]))\n",
    "b = tf.Variable(tf.random_normal([1]))\n",
    "\n",
    "hypot = W1*X1+W2*X2+W3*X3+b\n",
    "\n",
    "##### 비용계산 --> 선형회귀니까 평균제곱 오차 MSE\n",
    "cost=tf.reduce_mean(tf.square(hypot-y))\n",
    "\n",
    "##### 최소비용계산 \n",
    "train=tf.train.GradientDescentOptimizer(learning_rate=0.00001)\n",
    "train=train.minimize(cost)\n"
   ]
  },
  {
   "cell_type": "code",
   "execution_count": 17,
   "id": "86b40166",
   "metadata": {},
   "outputs": [
    {
     "name": "stdout",
     "output_type": "stream",
     "text": [
      "0 12798.07 [250.8771  305.36432 298.66605 330.14197 229.46657]\n",
      "500 8.563263 [150.3663  184.8799  179.78847 200.63739 137.68922]\n",
      "1000 8.172247 [150.22379 184.98415 179.75314 200.5471  137.88066]\n",
      "1500 7.8358865 [150.10274 185.07358 179.72426 200.46227 138.05202]\n",
      "2000 7.5421934 [150.0004  185.15015 179.70105 200.38232 138.20581]\n",
      "2500 7.2818594 [149.9143  185.21547 179.68271 200.30664 138.3442 ]\n",
      "3000 7.047905 [149.84239 185.27097 179.66858 200.23479 138.46906]\n",
      "3500 6.8348336 [149.78288 185.31796 179.65822 200.1664  138.58214]\n",
      "4000 6.638611 [149.73407 185.35751 179.65099 200.10103 138.6848 ]\n",
      "4500 6.4559507 [149.69461 185.39055 179.64655 200.03836 138.77834]\n",
      "5000 6.2845116 [149.66328 185.41798 179.64452 199.97821 138.8639 ]\n",
      "5500 6.1223745 [149.63896 185.44048 179.64449 199.9202  138.94238]\n",
      "6000 5.9680266 [149.62085 185.45876 179.64633 199.86424 139.01472]\n",
      "6500 5.820409 [149.608   185.47325 179.64969 199.81003 139.08154]\n",
      "7000 5.6786118 [149.59976 185.48456 179.65436 199.75748 139.1436 ]\n",
      "7500 5.541999 [149.59549 185.49306 179.66014 199.70642 139.2014 ]\n",
      "8000 5.4099646 [149.5947  185.49916 179.66695 199.65675 139.25548]\n",
      "8500 5.282122 [149.59685 185.50314 179.67455 199.60832 139.30623]\n",
      "9000 5.15812 [149.60156 185.50528 179.68282 199.56104 139.35402]\n",
      "9500 5.0376787 [149.60849 185.50586 179.69173 199.51485 139.39923]\n"
     ]
    }
   ],
   "source": [
    "sess =tf.Session()\n",
    "sess.run(tf.global_variables_initializer())\n",
    "\n",
    "# 훈련횟수\n",
    "for step in range(10000):\n",
    "    _,c,h=sess.run([train,cost,hypot],feed_dict={X1:x1_data,X2:x2_data,X3:x3_data,y:y_data})\n",
    "    if step % 500 ==0:\n",
    "           print(step, c,h)\n",
    "    \n",
    "    "
   ]
  },
  {
   "cell_type": "code",
   "execution_count": 18,
   "id": "2016a66a",
   "metadata": {},
   "outputs": [],
   "source": [
    "sess.close()"
   ]
  },
  {
   "cell_type": "markdown",
   "id": "765a518c",
   "metadata": {},
   "source": [
    "### (2) Matrix로 처리"
   ]
  },
  {
   "cell_type": "code",
   "execution_count": 19,
   "id": "8bf20919",
   "metadata": {},
   "outputs": [
    {
     "data": {
      "text/plain": [
       "'\\nx1_data = [73., 93., 89., 96., 73.]\\nx2_data = [80., 88., 91., 98., 66.]\\nx3_data = [75., 93., 90., 100., 70.]\\ny_data = [152., 185., 180., 196., 142.]\\n을 \\n\\nx1_data = [[73., 93., 89., 96., 73.],\\n            [80., 88., 91., 98., 66.],\\n            [75., 93., 90., 100., 70.]]\\ny_data = [152., 185., 180., 196., 142.]\\n\\n'"
      ]
     },
     "execution_count": 19,
     "metadata": {},
     "output_type": "execute_result"
    }
   ],
   "source": [
    "\"\"\"\n",
    "x1_data = [73., 93., 89., 96., 73.]\n",
    "x2_data = [80., 88., 91., 98., 66.]\n",
    "x3_data = [75., 93., 90., 100., 70.]\n",
    "y_data = [152., 185., 180., 196., 142.]\n",
    "을 \n",
    "\n",
    "x1_data = [[73., 93., 89., 96., 73.],\n",
    "            [80., 88., 91., 98., 66.],\n",
    "            [75., 93., 90., 100., 70.]]\n",
    "y_data = [152., 185., 180., 196., 142.]\n",
    "\n",
    "\"\"\""
   ]
  },
  {
   "cell_type": "markdown",
   "id": "1f891d6f",
   "metadata": {},
   "source": [
    "#### 1차원을 2차원으로 묶기\n"
   ]
  },
  {
   "cell_type": "code",
   "execution_count": 21,
   "id": "36970697",
   "metadata": {},
   "outputs": [
    {
     "name": "stdout",
     "output_type": "stream",
     "text": [
      "[[ 73.  93.  89.  96.  73.]\n",
      " [ 80.  88.  91.  98.  66.]\n",
      " [ 75.  93.  90. 100.  70.]]\n",
      "[[152. 185. 180. 196. 142.]]\n"
     ]
    }
   ],
   "source": [
    "x1_data = [73.,93.,89.,96.,73.]\n",
    "x2_data = [80.,88.,91.,98.,66.]\n",
    "x3_data = [75.,93.,90.,100.,70.]\n",
    "y_data = [152.,185.,180.,196.,142.]\n",
    "\n",
    "x_data = np.array([x1_data,x2_data,x3_data])\n",
    "y_data = np.array([y_data])\n",
    "\n",
    "print(x_data)\n",
    "print(y_data)\n"
   ]
  },
  {
   "cell_type": "code",
   "execution_count": 22,
   "id": "70cf5ddc",
   "metadata": {},
   "outputs": [
    {
     "name": "stdout",
     "output_type": "stream",
     "text": [
      "[[[ 73.  80.  75.]\n",
      "  [ 93.  88.  93.]\n",
      "  [ 89.  91.  90.]\n",
      "  [ 96.  98. 100.]\n",
      "  [ 73.  66.  70.]]]\n",
      "[[152.]\n",
      " [185.]\n",
      " [180.]\n",
      " [ 96.]\n",
      " [142.]]\n"
     ]
    }
   ],
   "source": [
    "x1_data = [73., 93., 89., 96., 73.]\n",
    "x2_data = [80., 88., 91., 98., 66.]\n",
    "x3_data = [75., 93., 90., 100., 70.]\n",
    "y_data = [152., 185., 180., 96., 142.]\n",
    "\n",
    "x_data = np.dstack([x1_data, x2_data, x3_data])\n",
    "print(x_data)\n",
    "\n",
    "y_data = np.array([y_data]).reshape((-1,1))\n",
    "print(y_data)\n"
   ]
  },
  {
   "cell_type": "code",
   "execution_count": 23,
   "id": "eb058a7b",
   "metadata": {},
   "outputs": [
    {
     "data": {
      "text/plain": [
       "array([[ 73.,  80.,  75.],\n",
       "       [ 93.,  88.,  93.],\n",
       "       [ 89.,  91.,  90.],\n",
       "       [ 96.,  98., 100.],\n",
       "       [ 73.,  66.,  70.]])"
      ]
     },
     "execution_count": 23,
     "metadata": {},
     "output_type": "execute_result"
    }
   ],
   "source": [
    "pd.DataFrame(zip(x1_data,x2_data,x3_data)).values"
   ]
  },
  {
   "cell_type": "code",
   "execution_count": 24,
   "id": "c5e83a2e",
   "metadata": {},
   "outputs": [
    {
     "data": {
      "text/plain": [
       "array([[ 73.,  80.,  75.],\n",
       "       [ 93.,  88.,  93.],\n",
       "       [ 89.,  91.,  90.],\n",
       "       [ 96.,  98., 100.],\n",
       "       [ 73.,  66.,  70.]])"
      ]
     },
     "execution_count": 24,
     "metadata": {},
     "output_type": "execute_result"
    }
   ],
   "source": [
    "np.reshape([x1_data,x2_data,x3_data],(3,5)).T"
   ]
  },
  {
   "cell_type": "code",
   "execution_count": 25,
   "id": "0645fa42",
   "metadata": {},
   "outputs": [
    {
     "data": {
      "text/plain": [
       "array([[ 73.,  80.,  75.],\n",
       "       [ 93.,  88.,  93.],\n",
       "       [ 89.,  91.,  90.],\n",
       "       [ 96.,  98., 100.],\n",
       "       [ 73.,  66.,  70.]], dtype=float32)"
      ]
     },
     "execution_count": 25,
     "metadata": {},
     "output_type": "execute_result"
    }
   ],
   "source": [
    "sess=tf.Session()\n",
    "tf.stack([x1_data,x2_data,x3_data],axis=1).eval(session=sess)"
   ]
  },
  {
   "cell_type": "code",
   "execution_count": 26,
   "id": "52332ae1",
   "metadata": {},
   "outputs": [],
   "source": [
    "x_data = [[73., 80., 75.], [93., 88., 93.],\n",
    "         [89., 91., 90.], [96., 98., 100.], [73., 66., 70.]]\n",
    "y_data = [[152.], [185.], [180.], [196.], [142.]]\n",
    "X = tf.placeholder(tf.float32,shape = [5,3]) # [5,3] 5는 데이터 갯수, 3은 변수 갯수\n",
    "y = tf.placeholder(tf.float32,shape = [5,1])\n",
    "\n",
    "##### 가설 설정 : y = W1*X1+W2*X2+W3*X3+b\n",
    "W1 = tf.Variable(tf.random_normal([1])) # 초기값이 정규분포를 이루는 랜덤값\n",
    "W2 = tf.Variable(tf.random_normal([1]))\n",
    "W3 = tf.Variable(tf.random_normal([1]))\n",
    "b = tf.Variable(tf.random_normal([1]))\n",
    "\n",
    "hypot = W1*X1+W2*X2+W3*X3+b\n",
    "\n",
    "##### 비용계산 --> 선형회귀니까 평균제곱 오차 MSE\n",
    "cost=tf.reduce_mean(tf.square(hypot-y))\n",
    "\n",
    "##### 최소비용계산 \n",
    "train=tf.train.GradientDescentOptimizer(learning_rate=0.00001)\n",
    "train=train.minimize(cost)"
   ]
  },
  {
   "cell_type": "code",
   "execution_count": 27,
   "id": "84cff68d",
   "metadata": {},
   "outputs": [],
   "source": [
    "X = tf.placeholder(tf.float32,shape = [None,3]) # 데이터 갯수는 몇개가 될지 모르니 None이라 하자 \n",
    "y = tf.placeholder(tf.float32,shape = [None,1])\n",
    "\n",
    "##### 가설 설정 : y = W1*X1+W2*X2+W3*X3+b\n",
    "W = tf.Variable(tf.random_normal([3,1])) # 초기값이 정규분포를 이루는 랜덤값\n",
    "b = tf.Variable(tf.random_normal([1]))\n",
    "\n",
    "hypot = tf.matmul(X,W)+b\n",
    "\n",
    "##### 비용계산 --> 선형회귀니까 평균제곱 오차 MSE\n",
    "cost=tf.reduce_mean(tf.square(hypot-y))\n",
    "\n",
    "##### 최소비용계산 \n",
    "train=tf.train.GradientDescentOptimizer(learning_rate=0.00001)\n",
    "train=train.minimize(cost)"
   ]
  },
  {
   "cell_type": "code",
   "execution_count": 28,
   "id": "662a9cda",
   "metadata": {},
   "outputs": [
    {
     "name": "stdout",
     "output_type": "stream",
     "text": [
      "0 43227.727 [[-33.352398]\n",
      " [-36.747314]\n",
      " [-37.93627 ]\n",
      " [-42.59735 ]\n",
      " [-25.88783 ]]\n",
      "500 0.5308458 [[151.22585]\n",
      " [184.9155 ]\n",
      " [180.56812]\n",
      " [195.3472 ]\n",
      " [143.13968]]\n",
      "1000 0.46978045 [[151.31122]\n",
      " [184.85605]\n",
      " [180.59308]\n",
      " [195.37447]\n",
      " [143.05391]]\n",
      "1500 0.42245468 [[151.38528]\n",
      " [184.80435]\n",
      " [180.61458]\n",
      " [195.39911]\n",
      " [142.97844]]\n",
      "2000 0.38561004 [[151.44948]\n",
      " [184.75941]\n",
      " [180.63307]\n",
      " [195.42146]\n",
      " [142.91193]]\n",
      "2500 0.35677308 [[151.50508]\n",
      " [184.72044]\n",
      " [180.64897]\n",
      " [195.44185]\n",
      " [142.85327]]\n",
      "3000 0.33407563 [[151.55315]\n",
      " [184.68657]\n",
      " [180.66257]\n",
      " [195.46045]\n",
      " [142.80147]]\n",
      "3500 0.3160634 [[151.5947 ]\n",
      " [184.65723]\n",
      " [180.67415]\n",
      " [195.47748]\n",
      " [142.75568]]\n",
      "4000 0.30165368 [[151.63052]\n",
      " [184.63179]\n",
      " [180.68402]\n",
      " [195.49315]\n",
      " [142.71512]]\n",
      "4500 0.28999415 [[151.66138]\n",
      " [184.60982]\n",
      " [180.69238]\n",
      " [195.50766]\n",
      " [142.67917]]\n",
      "5000 0.28044817 [[151.68785]\n",
      " [184.5908 ]\n",
      " [180.69939]\n",
      " [195.52107]\n",
      " [142.64719]]\n",
      "5500 0.27254826 [[151.71056]\n",
      " [184.57442]\n",
      " [180.70529]\n",
      " [195.53358]\n",
      " [142.61876]]\n",
      "6000 0.26589522 [[151.72992]\n",
      " [184.5603 ]\n",
      " [180.71016]\n",
      " [195.54524]\n",
      " [142.59335]]\n",
      "6500 0.2602246 [[151.74643]\n",
      " [184.54817]\n",
      " [180.71417]\n",
      " [195.5562 ]\n",
      " [142.57068]]\n",
      "7000 0.25530797 [[151.76042]\n",
      " [184.53778]\n",
      " [180.71742]\n",
      " [195.56651]\n",
      " [142.55035]]\n",
      "7500 0.25099078 [[151.7722 ]\n",
      " [184.52888]\n",
      " [180.72   ]\n",
      " [195.57622]\n",
      " [142.53209]]\n",
      "8000 0.24713078 [[151.78214]\n",
      " [184.52133]\n",
      " [180.72203]\n",
      " [195.58545]\n",
      " [142.51564]]\n",
      "8500 0.24365611 [[151.79036]\n",
      " [184.5149 ]\n",
      " [180.72357]\n",
      " [195.59421]\n",
      " [142.50078]]\n",
      "9000 0.24045737 [[151.79718]\n",
      " [184.50949]\n",
      " [180.72467]\n",
      " [195.60258]\n",
      " [142.4873 ]]\n",
      "9500 0.2375007 [[151.8027 ]\n",
      " [184.50494]\n",
      " [180.72539]\n",
      " [195.6106 ]\n",
      " [142.47505]]\n"
     ]
    }
   ],
   "source": [
    "sess =tf.Session()\n",
    "sess.run(tf.global_variables_initializer())\n",
    "\n",
    "# 훈련횟수\n",
    "for step in range(10000):\n",
    "    _,c,h=sess.run([train,cost,hypot],feed_dict={X:x_data,y:y_data})\n",
    "    if step % 500 ==0:\n",
    "           print(step, c,h)\n",
    "    "
   ]
  },
  {
   "cell_type": "markdown",
   "id": "b0cd89f6",
   "metadata": {},
   "source": [
    "## 3. 대용량 데이터 처리"
   ]
  },
  {
   "cell_type": "markdown",
   "id": "2f1cb383",
   "metadata": {},
   "source": [
    "### (1) DASK \n",
    "\n",
    "+ 가상의 데이터 프레임\n",
    "+ 병렬처리용 작업 스케줄러 \n",
    "+ 파이썬에서 제공하는 "
   ]
  },
  {
   "cell_type": "code",
   "execution_count": 29,
   "id": "26eeb0cc",
   "metadata": {},
   "outputs": [
    {
     "name": "stdout",
     "output_type": "stream",
     "text": [
      "Overwriting data/sample1.csv\n"
     ]
    }
   ],
   "source": [
    "%%writefile 'data/sample1.csv'\n",
    "c1, c2, c3\n",
    "1, 1.11, one\n",
    "2, 2.11, two\n",
    "3, 3.11, three\n",
    "4, 4.11, four\n",
    "5, 5.11, five\n",
    "6, 6.11, six\n"
   ]
  },
  {
   "cell_type": "code",
   "execution_count": 30,
   "id": "f9adacac",
   "metadata": {},
   "outputs": [
    {
     "data": {
      "text/plain": [
       "3.61"
      ]
     },
     "execution_count": 30,
     "metadata": {},
     "output_type": "execute_result"
    }
   ],
   "source": [
    "df1 = pd.read_csv('data/sample1.csv')\n",
    "df1\n",
    "df1[' c2'].mean()"
   ]
  },
  {
   "cell_type": "code",
   "execution_count": 2,
   "id": "4aea2db7",
   "metadata": {},
   "outputs": [],
   "source": [
    "import dask.dataframe as dd"
   ]
  },
  {
   "cell_type": "code",
   "execution_count": 32,
   "id": "f575035e",
   "metadata": {},
   "outputs": [
    {
     "data": {
      "text/html": [
       "<div><strong>Dask DataFrame Structure:</strong></div>\n",
       "<div>\n",
       "<style scoped>\n",
       "    .dataframe tbody tr th:only-of-type {\n",
       "        vertical-align: middle;\n",
       "    }\n",
       "\n",
       "    .dataframe tbody tr th {\n",
       "        vertical-align: top;\n",
       "    }\n",
       "\n",
       "    .dataframe thead th {\n",
       "        text-align: right;\n",
       "    }\n",
       "</style>\n",
       "<table border=\"1\" class=\"dataframe\">\n",
       "  <thead>\n",
       "    <tr style=\"text-align: right;\">\n",
       "      <th></th>\n",
       "      <th>c1</th>\n",
       "      <th>c2</th>\n",
       "      <th>c3</th>\n",
       "    </tr>\n",
       "    <tr>\n",
       "      <th>npartitions=1</th>\n",
       "      <th></th>\n",
       "      <th></th>\n",
       "      <th></th>\n",
       "    </tr>\n",
       "  </thead>\n",
       "  <tbody>\n",
       "    <tr>\n",
       "      <th></th>\n",
       "      <td>int64</td>\n",
       "      <td>float64</td>\n",
       "      <td>object</td>\n",
       "    </tr>\n",
       "    <tr>\n",
       "      <th></th>\n",
       "      <td>...</td>\n",
       "      <td>...</td>\n",
       "      <td>...</td>\n",
       "    </tr>\n",
       "  </tbody>\n",
       "</table>\n",
       "</div>\n",
       "<div>Dask Name: read-csv, 1 tasks</div>"
      ],
      "text/plain": [
       "Dask DataFrame Structure:\n",
       "                  c1       c2      c3\n",
       "npartitions=1                        \n",
       "               int64  float64  object\n",
       "                 ...      ...     ...\n",
       "Dask Name: read-csv, 1 tasks"
      ]
     },
     "execution_count": 32,
     "metadata": {},
     "output_type": "execute_result"
    }
   ],
   "source": [
    "df2 = dd.read_csv('data/sample1.csv')\n",
    "df2 # 실제 데이터를 불러온게 아니라 형태만 가져옴, 가상의 데이터 프레임 \n"
   ]
  },
  {
   "cell_type": "code",
   "execution_count": 33,
   "id": "825b7d77",
   "metadata": {},
   "outputs": [
    {
     "data": {
      "text/html": [
       "<div>\n",
       "<style scoped>\n",
       "    .dataframe tbody tr th:only-of-type {\n",
       "        vertical-align: middle;\n",
       "    }\n",
       "\n",
       "    .dataframe tbody tr th {\n",
       "        vertical-align: top;\n",
       "    }\n",
       "\n",
       "    .dataframe thead th {\n",
       "        text-align: right;\n",
       "    }\n",
       "</style>\n",
       "<table border=\"1\" class=\"dataframe\">\n",
       "  <thead>\n",
       "    <tr style=\"text-align: right;\">\n",
       "      <th></th>\n",
       "      <th>c1</th>\n",
       "      <th>c2</th>\n",
       "      <th>c3</th>\n",
       "    </tr>\n",
       "  </thead>\n",
       "  <tbody>\n",
       "    <tr>\n",
       "      <th>0</th>\n",
       "      <td>1</td>\n",
       "      <td>1.11</td>\n",
       "      <td>one</td>\n",
       "    </tr>\n",
       "    <tr>\n",
       "      <th>1</th>\n",
       "      <td>2</td>\n",
       "      <td>2.11</td>\n",
       "      <td>two</td>\n",
       "    </tr>\n",
       "    <tr>\n",
       "      <th>2</th>\n",
       "      <td>3</td>\n",
       "      <td>3.11</td>\n",
       "      <td>three</td>\n",
       "    </tr>\n",
       "    <tr>\n",
       "      <th>3</th>\n",
       "      <td>4</td>\n",
       "      <td>4.11</td>\n",
       "      <td>four</td>\n",
       "    </tr>\n",
       "    <tr>\n",
       "      <th>4</th>\n",
       "      <td>5</td>\n",
       "      <td>5.11</td>\n",
       "      <td>five</td>\n",
       "    </tr>\n",
       "  </tbody>\n",
       "</table>\n",
       "</div>"
      ],
      "text/plain": [
       "   c1    c2      c3\n",
       "0   1  1.11     one\n",
       "1   2  2.11     two\n",
       "2   3  3.11   three\n",
       "3   4  4.11    four\n",
       "4   5  5.11    five"
      ]
     },
     "execution_count": 33,
     "metadata": {},
     "output_type": "execute_result"
    }
   ],
   "source": [
    "df2.head() # head()와 같은 연산자 일 때 연산자에 필요한 데이터만 가져옴 \n",
    "# 이렇게 해서 빠르고, 대량의 데이터도 처리할 수 있음. \n",
    "# 판다스에서 썼던 함수나 메소드를 그대로 쓸 수 있음. "
   ]
  },
  {
   "cell_type": "code",
   "execution_count": 34,
   "id": "05ae4861",
   "metadata": {},
   "outputs": [
    {
     "data": {
      "text/plain": [
       "3.61"
      ]
     },
     "execution_count": 34,
     "metadata": {},
     "output_type": "execute_result"
    }
   ],
   "source": [
    "df2[' c2'].mean().compute() # compute()를 써야 계산이 됨 "
   ]
  },
  {
   "cell_type": "code",
   "execution_count": 35,
   "id": "e57e7482",
   "metadata": {},
   "outputs": [
    {
     "data": {
      "text/html": [
       "<div>\n",
       "<style scoped>\n",
       "    .dataframe tbody tr th:only-of-type {\n",
       "        vertical-align: middle;\n",
       "    }\n",
       "\n",
       "    .dataframe tbody tr th {\n",
       "        vertical-align: top;\n",
       "    }\n",
       "\n",
       "    .dataframe thead th {\n",
       "        text-align: right;\n",
       "    }\n",
       "</style>\n",
       "<table border=\"1\" class=\"dataframe\">\n",
       "  <thead>\n",
       "    <tr style=\"text-align: right;\">\n",
       "      <th></th>\n",
       "      <th>c1</th>\n",
       "      <th>c2</th>\n",
       "      <th>c3</th>\n",
       "      <th>c4</th>\n",
       "    </tr>\n",
       "  </thead>\n",
       "  <tbody>\n",
       "    <tr>\n",
       "      <th>0</th>\n",
       "      <td>1</td>\n",
       "      <td>100</td>\n",
       "      <td>one</td>\n",
       "      <td>200</td>\n",
       "    </tr>\n",
       "    <tr>\n",
       "      <th>1</th>\n",
       "      <td>2</td>\n",
       "      <td>100</td>\n",
       "      <td>two</td>\n",
       "      <td>200</td>\n",
       "    </tr>\n",
       "    <tr>\n",
       "      <th>2</th>\n",
       "      <td>3</td>\n",
       "      <td>100</td>\n",
       "      <td>three</td>\n",
       "      <td>200</td>\n",
       "    </tr>\n",
       "    <tr>\n",
       "      <th>3</th>\n",
       "      <td>4</td>\n",
       "      <td>100</td>\n",
       "      <td>four</td>\n",
       "      <td>200</td>\n",
       "    </tr>\n",
       "    <tr>\n",
       "      <th>4</th>\n",
       "      <td>5</td>\n",
       "      <td>100</td>\n",
       "      <td>five</td>\n",
       "      <td>200</td>\n",
       "    </tr>\n",
       "  </tbody>\n",
       "</table>\n",
       "</div>"
      ],
      "text/plain": [
       "   c1   c2      c3   c4\n",
       "0   1  100     one  200\n",
       "1   2  100     two  200\n",
       "2   3  100   three  200\n",
       "3   4  100    four  200\n",
       "4   5  100    five  200"
      ]
     },
     "execution_count": 35,
     "metadata": {},
     "output_type": "execute_result"
    }
   ],
   "source": [
    "df2[' c2']= 100\n",
    "df2.head()\n",
    "\n",
    "df2[' c4'] = 200\n",
    "df2.head()"
   ]
  },
  {
   "cell_type": "code",
   "execution_count": 36,
   "id": "3e3aeec5",
   "metadata": {},
   "outputs": [
    {
     "data": {
      "text/html": [
       "<div><strong>Dask DataFrame Structure:</strong></div>\n",
       "<div>\n",
       "<style scoped>\n",
       "    .dataframe tbody tr th:only-of-type {\n",
       "        vertical-align: middle;\n",
       "    }\n",
       "\n",
       "    .dataframe tbody tr th {\n",
       "        vertical-align: top;\n",
       "    }\n",
       "\n",
       "    .dataframe thead th {\n",
       "        text-align: right;\n",
       "    }\n",
       "</style>\n",
       "<table border=\"1\" class=\"dataframe\">\n",
       "  <thead>\n",
       "    <tr style=\"text-align: right;\">\n",
       "      <th></th>\n",
       "      <th>c1</th>\n",
       "      <th>c2</th>\n",
       "      <th>c3</th>\n",
       "      <th>c4</th>\n",
       "    </tr>\n",
       "    <tr>\n",
       "      <th>npartitions=1</th>\n",
       "      <th></th>\n",
       "      <th></th>\n",
       "      <th></th>\n",
       "      <th></th>\n",
       "    </tr>\n",
       "  </thead>\n",
       "  <tbody>\n",
       "    <tr>\n",
       "      <th></th>\n",
       "      <td>int64</td>\n",
       "      <td>int64</td>\n",
       "      <td>object</td>\n",
       "      <td>int64</td>\n",
       "    </tr>\n",
       "    <tr>\n",
       "      <th></th>\n",
       "      <td>...</td>\n",
       "      <td>...</td>\n",
       "      <td>...</td>\n",
       "      <td>...</td>\n",
       "    </tr>\n",
       "  </tbody>\n",
       "</table>\n",
       "</div>\n",
       "<div>Dask Name: assign, 3 tasks</div>"
      ],
      "text/plain": [
       "Dask DataFrame Structure:\n",
       "                  c1     c2      c3     c4\n",
       "npartitions=1                             \n",
       "               int64  int64  object  int64\n",
       "                 ...    ...     ...    ...\n",
       "Dask Name: assign, 3 tasks"
      ]
     },
     "execution_count": 36,
     "metadata": {},
     "output_type": "execute_result"
    }
   ],
   "source": [
    "df2"
   ]
  },
  {
   "cell_type": "code",
   "execution_count": 37,
   "id": "8bd7e844",
   "metadata": {},
   "outputs": [
    {
     "data": {
      "text/html": [
       "<div><strong>Dask DataFrame Structure:</strong></div>\n",
       "<div>\n",
       "<style scoped>\n",
       "    .dataframe tbody tr th:only-of-type {\n",
       "        vertical-align: middle;\n",
       "    }\n",
       "\n",
       "    .dataframe tbody tr th {\n",
       "        vertical-align: top;\n",
       "    }\n",
       "\n",
       "    .dataframe thead th {\n",
       "        text-align: right;\n",
       "    }\n",
       "</style>\n",
       "<table border=\"1\" class=\"dataframe\">\n",
       "  <thead>\n",
       "    <tr style=\"text-align: right;\">\n",
       "      <th></th>\n",
       "      <th>ID</th>\n",
       "      <th>Case Number</th>\n",
       "      <th>Date</th>\n",
       "      <th>Block</th>\n",
       "      <th>IUCR</th>\n",
       "      <th>Primary Type</th>\n",
       "      <th>Description</th>\n",
       "      <th>Location Description</th>\n",
       "      <th>Arrest</th>\n",
       "      <th>Domestic</th>\n",
       "      <th>Beat</th>\n",
       "      <th>District</th>\n",
       "      <th>Ward</th>\n",
       "      <th>Community Area</th>\n",
       "      <th>FBI Code</th>\n",
       "      <th>X Coordinate</th>\n",
       "      <th>Y Coordinate</th>\n",
       "      <th>Year</th>\n",
       "      <th>Updated On</th>\n",
       "      <th>Latitude</th>\n",
       "      <th>Longitude</th>\n",
       "      <th>Location</th>\n",
       "      <th>Historical Wards 2003-2015</th>\n",
       "      <th>Zip Codes</th>\n",
       "      <th>Community Areas</th>\n",
       "      <th>Census Tracts</th>\n",
       "      <th>Wards</th>\n",
       "      <th>Boundaries - ZIP Codes</th>\n",
       "      <th>Police Districts</th>\n",
       "      <th>Police Beats</th>\n",
       "    </tr>\n",
       "    <tr>\n",
       "      <th>npartitions=29</th>\n",
       "      <th></th>\n",
       "      <th></th>\n",
       "      <th></th>\n",
       "      <th></th>\n",
       "      <th></th>\n",
       "      <th></th>\n",
       "      <th></th>\n",
       "      <th></th>\n",
       "      <th></th>\n",
       "      <th></th>\n",
       "      <th></th>\n",
       "      <th></th>\n",
       "      <th></th>\n",
       "      <th></th>\n",
       "      <th></th>\n",
       "      <th></th>\n",
       "      <th></th>\n",
       "      <th></th>\n",
       "      <th></th>\n",
       "      <th></th>\n",
       "      <th></th>\n",
       "      <th></th>\n",
       "      <th></th>\n",
       "      <th></th>\n",
       "      <th></th>\n",
       "      <th></th>\n",
       "      <th></th>\n",
       "      <th></th>\n",
       "      <th></th>\n",
       "      <th></th>\n",
       "    </tr>\n",
       "  </thead>\n",
       "  <tbody>\n",
       "    <tr>\n",
       "      <th></th>\n",
       "      <td>object</td>\n",
       "      <td>object</td>\n",
       "      <td>object</td>\n",
       "      <td>object</td>\n",
       "      <td>object</td>\n",
       "      <td>object</td>\n",
       "      <td>object</td>\n",
       "      <td>object</td>\n",
       "      <td>object</td>\n",
       "      <td>object</td>\n",
       "      <td>object</td>\n",
       "      <td>object</td>\n",
       "      <td>object</td>\n",
       "      <td>object</td>\n",
       "      <td>object</td>\n",
       "      <td>object</td>\n",
       "      <td>object</td>\n",
       "      <td>object</td>\n",
       "      <td>object</td>\n",
       "      <td>object</td>\n",
       "      <td>object</td>\n",
       "      <td>object</td>\n",
       "      <td>object</td>\n",
       "      <td>object</td>\n",
       "      <td>object</td>\n",
       "      <td>object</td>\n",
       "      <td>object</td>\n",
       "      <td>object</td>\n",
       "      <td>object</td>\n",
       "      <td>object</td>\n",
       "    </tr>\n",
       "    <tr>\n",
       "      <th></th>\n",
       "      <td>...</td>\n",
       "      <td>...</td>\n",
       "      <td>...</td>\n",
       "      <td>...</td>\n",
       "      <td>...</td>\n",
       "      <td>...</td>\n",
       "      <td>...</td>\n",
       "      <td>...</td>\n",
       "      <td>...</td>\n",
       "      <td>...</td>\n",
       "      <td>...</td>\n",
       "      <td>...</td>\n",
       "      <td>...</td>\n",
       "      <td>...</td>\n",
       "      <td>...</td>\n",
       "      <td>...</td>\n",
       "      <td>...</td>\n",
       "      <td>...</td>\n",
       "      <td>...</td>\n",
       "      <td>...</td>\n",
       "      <td>...</td>\n",
       "      <td>...</td>\n",
       "      <td>...</td>\n",
       "      <td>...</td>\n",
       "      <td>...</td>\n",
       "      <td>...</td>\n",
       "      <td>...</td>\n",
       "      <td>...</td>\n",
       "      <td>...</td>\n",
       "      <td>...</td>\n",
       "    </tr>\n",
       "    <tr>\n",
       "      <th>...</th>\n",
       "      <td>...</td>\n",
       "      <td>...</td>\n",
       "      <td>...</td>\n",
       "      <td>...</td>\n",
       "      <td>...</td>\n",
       "      <td>...</td>\n",
       "      <td>...</td>\n",
       "      <td>...</td>\n",
       "      <td>...</td>\n",
       "      <td>...</td>\n",
       "      <td>...</td>\n",
       "      <td>...</td>\n",
       "      <td>...</td>\n",
       "      <td>...</td>\n",
       "      <td>...</td>\n",
       "      <td>...</td>\n",
       "      <td>...</td>\n",
       "      <td>...</td>\n",
       "      <td>...</td>\n",
       "      <td>...</td>\n",
       "      <td>...</td>\n",
       "      <td>...</td>\n",
       "      <td>...</td>\n",
       "      <td>...</td>\n",
       "      <td>...</td>\n",
       "      <td>...</td>\n",
       "      <td>...</td>\n",
       "      <td>...</td>\n",
       "      <td>...</td>\n",
       "      <td>...</td>\n",
       "    </tr>\n",
       "    <tr>\n",
       "      <th></th>\n",
       "      <td>...</td>\n",
       "      <td>...</td>\n",
       "      <td>...</td>\n",
       "      <td>...</td>\n",
       "      <td>...</td>\n",
       "      <td>...</td>\n",
       "      <td>...</td>\n",
       "      <td>...</td>\n",
       "      <td>...</td>\n",
       "      <td>...</td>\n",
       "      <td>...</td>\n",
       "      <td>...</td>\n",
       "      <td>...</td>\n",
       "      <td>...</td>\n",
       "      <td>...</td>\n",
       "      <td>...</td>\n",
       "      <td>...</td>\n",
       "      <td>...</td>\n",
       "      <td>...</td>\n",
       "      <td>...</td>\n",
       "      <td>...</td>\n",
       "      <td>...</td>\n",
       "      <td>...</td>\n",
       "      <td>...</td>\n",
       "      <td>...</td>\n",
       "      <td>...</td>\n",
       "      <td>...</td>\n",
       "      <td>...</td>\n",
       "      <td>...</td>\n",
       "      <td>...</td>\n",
       "    </tr>\n",
       "    <tr>\n",
       "      <th></th>\n",
       "      <td>...</td>\n",
       "      <td>...</td>\n",
       "      <td>...</td>\n",
       "      <td>...</td>\n",
       "      <td>...</td>\n",
       "      <td>...</td>\n",
       "      <td>...</td>\n",
       "      <td>...</td>\n",
       "      <td>...</td>\n",
       "      <td>...</td>\n",
       "      <td>...</td>\n",
       "      <td>...</td>\n",
       "      <td>...</td>\n",
       "      <td>...</td>\n",
       "      <td>...</td>\n",
       "      <td>...</td>\n",
       "      <td>...</td>\n",
       "      <td>...</td>\n",
       "      <td>...</td>\n",
       "      <td>...</td>\n",
       "      <td>...</td>\n",
       "      <td>...</td>\n",
       "      <td>...</td>\n",
       "      <td>...</td>\n",
       "      <td>...</td>\n",
       "      <td>...</td>\n",
       "      <td>...</td>\n",
       "      <td>...</td>\n",
       "      <td>...</td>\n",
       "      <td>...</td>\n",
       "    </tr>\n",
       "  </tbody>\n",
       "</table>\n",
       "</div>\n",
       "<div>Dask Name: read-csv, 29 tasks</div>"
      ],
      "text/plain": [
       "Dask DataFrame Structure:\n",
       "                    ID Case Number    Date   Block    IUCR Primary Type Description Location Description  Arrest Domestic    Beat District    Ward Community Area FBI Code X Coordinate Y Coordinate    Year Updated On Latitude Longitude Location Historical Wards 2003-2015 Zip Codes Community Areas Census Tracts   Wards Boundaries - ZIP Codes Police Districts Police Beats\n",
       "npartitions=29                                                                                                                                                                                                                                                                                                                                                                     \n",
       "                object      object  object  object  object       object      object               object  object   object  object   object  object         object   object       object       object  object     object   object    object   object                     object    object          object        object  object                 object           object       object\n",
       "                   ...         ...     ...     ...     ...          ...         ...                  ...     ...      ...     ...      ...     ...            ...      ...          ...          ...     ...        ...      ...       ...      ...                        ...       ...             ...           ...     ...                    ...              ...          ...\n",
       "...                ...         ...     ...     ...     ...          ...         ...                  ...     ...      ...     ...      ...     ...            ...      ...          ...          ...     ...        ...      ...       ...      ...                        ...       ...             ...           ...     ...                    ...              ...          ...\n",
       "                   ...         ...     ...     ...     ...          ...         ...                  ...     ...      ...     ...      ...     ...            ...      ...          ...          ...     ...        ...      ...       ...      ...                        ...       ...             ...           ...     ...                    ...              ...          ...\n",
       "                   ...         ...     ...     ...     ...          ...         ...                  ...     ...      ...     ...      ...     ...            ...      ...          ...          ...     ...        ...      ...       ...      ...                        ...       ...             ...           ...     ...                    ...              ...          ...\n",
       "Dask Name: read-csv, 29 tasks"
      ]
     },
     "execution_count": 37,
     "metadata": {},
     "output_type": "execute_result"
    }
   ],
   "source": [
    "df3=dd.read_csv('data/crime.csv',dtype=str,error_bad_lines=False,warn_bad_lines=False)\n",
    "df3 # 1.7기가짜리 파일인데 형태만 가져오는 거라 금방 끝남. "
   ]
  },
  {
   "cell_type": "code",
   "execution_count": 38,
   "id": "f8c797a5",
   "metadata": {},
   "outputs": [
    {
     "data": {
      "text/plain": [
       "ID                            6954279\n",
       "Case Number                   6954275\n",
       "Date                          6954279\n",
       "Block                         6954279\n",
       "IUCR                          6954279\n",
       "Primary Type                  6954279\n",
       "Description                   6954279\n",
       "Location Description          6948835\n",
       "Arrest                        6954279\n",
       "Domestic                      6954279\n",
       "Beat                          6954279\n",
       "District                      6954232\n",
       "Ward                          6339453\n",
       "Community Area                6340784\n",
       "FBI Code                      6954279\n",
       "X Coordinate                  6888372\n",
       "Y Coordinate                  6888372\n",
       "Year                          6954279\n",
       "Updated On                    6954279\n",
       "Latitude                      6888372\n",
       "Longitude                     6888372\n",
       "Location                      6888372\n",
       "Historical Wards 2003-2015    6868367\n",
       "Zip Codes                     6888372\n",
       "Community Areas               6871115\n",
       "Census Tracts                 6873256\n",
       "Wards                         6871227\n",
       "Boundaries - ZIP Codes        6871162\n",
       "Police Districts              6872194\n",
       "Police Beats                  6872217\n",
       "dtype: int64"
      ]
     },
     "execution_count": 38,
     "metadata": {},
     "output_type": "execute_result"
    }
   ],
   "source": [
    "df3.head()\n",
    "df3.tail()\n",
    "df3.count().compute()"
   ]
  },
  {
   "cell_type": "code",
   "execution_count": 39,
   "id": "c2bacef0",
   "metadata": {},
   "outputs": [],
   "source": [
    "from dask.diagnostics import ProgressBar\n",
    "pbar = ProgressBar()\n",
    "pbar.register() # 오래 걸리는 작업 같은 경우 얼마나 걸리는지 표시해줌. "
   ]
  },
  {
   "cell_type": "code",
   "execution_count": 76,
   "id": "0ca8b275",
   "metadata": {},
   "outputs": [
    {
     "name": "stdout",
     "output_type": "stream",
     "text": [
      "[########################################] | 100% Completed | 49.2s\n",
      "Wall time: 49.2 s\n"
     ]
    },
    {
     "data": {
      "text/plain": [
       "ID                            6954279\n",
       "Case Number                   6954275\n",
       "Date                          6954279\n",
       "Block                         6954279\n",
       "IUCR                          6954279\n",
       "Primary Type                  6954279\n",
       "Description                   6954279\n",
       "Location Description          6948835\n",
       "Arrest                        6954279\n",
       "Domestic                      6954279\n",
       "Beat                          6954279\n",
       "District                      6954232\n",
       "Ward                          6339453\n",
       "Community Area                6340784\n",
       "FBI Code                      6954279\n",
       "X Coordinate                  6888372\n",
       "Y Coordinate                  6888372\n",
       "Year                          6954279\n",
       "Updated On                    6954279\n",
       "Latitude                      6888372\n",
       "Longitude                     6888372\n",
       "Location                      6888372\n",
       "Historical Wards 2003-2015    6868367\n",
       "Zip Codes                     6888372\n",
       "Community Areas               6871115\n",
       "Census Tracts                 6873256\n",
       "Wards                         6871227\n",
       "Boundaries - ZIP Codes        6871162\n",
       "Police Districts              6872194\n",
       "Police Beats                  6872217\n",
       "dtype: int64"
      ]
     },
     "execution_count": 76,
     "metadata": {},
     "output_type": "execute_result"
    }
   ],
   "source": [
    "%%time\n",
    "df3.count().compute()"
   ]
  },
  {
   "cell_type": "code",
   "execution_count": 47,
   "id": "8f2dbd43",
   "metadata": {},
   "outputs": [
    {
     "name": "stdout",
     "output_type": "stream",
     "text": [
      "[########################################] | 100% Completed | 34.7s\n"
     ]
    },
    {
     "data": {
      "text/plain": [
       "ID                            6954279\n",
       "Case Number                   6954275\n",
       "Date                          6954279\n",
       "Block                         6954279\n",
       "IUCR                          6954279\n",
       "Primary Type                  6954279\n",
       "Description                   6954279\n",
       "Location Description          6948835\n",
       "Arrest                        6954279\n",
       "Domestic                      6954279\n",
       "Beat                          6954279\n",
       "District                      6954232\n",
       "Ward                          6339453\n",
       "Community Area                6340784\n",
       "FBI Code                      6954279\n",
       "X Coordinate                  6888372\n",
       "Y Coordinate                  6888372\n",
       "Year                          6954279\n",
       "Updated On                    6954279\n",
       "Latitude                      6888372\n",
       "Longitude                     6888372\n",
       "Location                      6888372\n",
       "Historical Wards 2003-2015    6868367\n",
       "Zip Codes                     6888372\n",
       "Community Areas               6871115\n",
       "Census Tracts                 6873256\n",
       "Wards                         6871227\n",
       "Boundaries - ZIP Codes        6871162\n",
       "Police Districts              6872194\n",
       "Police Beats                  6872217\n",
       "dtype: int64"
      ]
     },
     "execution_count": 47,
     "metadata": {},
     "output_type": "execute_result"
    }
   ],
   "source": [
    "# 병렬처리로 했을 때 살펴보기 \n",
    "\n",
    "df3.count().compute(scheduler=\"processes\",num_workers=8)\n"
   ]
  },
  {
   "cell_type": "code",
   "execution_count": 40,
   "id": "8eebe769",
   "metadata": {},
   "outputs": [
    {
     "name": "stdout",
     "output_type": "stream",
     "text": [
      "Overwriting data/sample2.csv\n"
     ]
    }
   ],
   "source": [
    "%%writefile 'data/sample2.csv'\n",
    "c1, c2, c3\n",
    "7, 7.7, seven\n",
    "8, 8.7, eight\n",
    "9, 9.7, nine"
   ]
  },
  {
   "cell_type": "code",
   "execution_count": 41,
   "id": "493340d0",
   "metadata": {},
   "outputs": [],
   "source": [
    "df4=dd.read_csv('data/sample*.csv')"
   ]
  },
  {
   "cell_type": "code",
   "execution_count": 42,
   "id": "524186df",
   "metadata": {},
   "outputs": [
    {
     "name": "stdout",
     "output_type": "stream",
     "text": [
      "[########################################] | 100% Completed |  0.1s\n"
     ]
    },
    {
     "data": {
      "text/plain": [
       "c1     9\n",
       " c2    9\n",
       " c3    9\n",
       "dtype: int64"
      ]
     },
     "execution_count": 42,
     "metadata": {},
     "output_type": "execute_result"
    }
   ],
   "source": [
    "df4.count().compute()"
   ]
  },
  {
   "cell_type": "code",
   "execution_count": 43,
   "id": "9f3e9b1e",
   "metadata": {},
   "outputs": [],
   "source": [
    "### 한쪽 막아 놓고 쓰는 것은 stack이고 막지 않는 것은 Queue 사용 \n",
    "# 비벤트 처리할때 queue사용\n",
    "# queue는 메모리 저장하는 - 임시데이터를 저장하는 용도 "
   ]
  },
  {
   "cell_type": "markdown",
   "id": "e70709dc",
   "metadata": {},
   "source": [
    "### (2) Queue Runners"
   ]
  },
  {
   "cell_type": "markdown",
   "id": "91d56108",
   "metadata": {},
   "source": [
    "#### 1) enqueue_many & dequeue"
   ]
  },
  {
   "cell_type": "code",
   "execution_count": 44,
   "id": "2a1ca109",
   "metadata": {},
   "outputs": [
    {
     "name": "stdout",
     "output_type": "stream",
     "text": [
      "WARNING:tensorflow:From C:\\Users\\ADMINI~1\\AppData\\Local\\Temp/ipykernel_26804/159818313.py:2: The name tf.FIFOQueue is deprecated. Please use tf.queue.FIFOQueue instead.\n",
      "\n",
      "WARNING:tensorflow:From C:\\Users\\ADMINI~1\\AppData\\Local\\Temp/ipykernel_26804/159818313.py:5: QueueRunner.__init__ (from tensorflow.python.training.queue_runner_impl) is deprecated and will be removed in a future version.\n",
      "Instructions for updating:\n",
      "To construct input pipelines, use the `tf.data` module.\n",
      "1.0\n",
      "2.0\n",
      "3.0\n",
      "4.0\n",
      "1.0\n",
      "2.0\n",
      "3.0\n",
      "4.0\n",
      "1.0\n",
      "2.0\n",
      "3.0\n",
      "4.0\n",
      "1.0\n",
      "2.0\n",
      "3.0\n",
      "4.0\n",
      "1.0\n",
      "2.0\n",
      "3.0\n",
      "4.0\n"
     ]
    }
   ],
   "source": [
    "# queue의 길리와 저장될 데이터 형식 \n",
    "q=tf.FIFOQueue(20,'float') # 큐를 저장할 \n",
    "\n",
    "enc_ops = q.enqueue_many(([1.0,2.0,3.0,4.0],))\n",
    "qr=tf.train.QueueRunner(q,[enc_ops]*3) # 같은 데이터 3개를 동시에 입력하겠다는 뜻. \n",
    "# 비동기\n",
    "sess =tf.Session()\n",
    "coordi=tf.train.Coordinator()\n",
    "threads=qr.create_threads(sess,coord=coordi,start=True)# 현재 작업이 끝나지 않아도 다른 작업을 할 수 있게\n",
    "for step in range(20):\n",
    "    print(sess.run(q.dequeue()))\n",
    "coordi.request_stop()\n",
    "coordi.join(threads)\n",
    "sess.close()"
   ]
  },
  {
   "cell_type": "code",
   "execution_count": 45,
   "id": "674c07ed",
   "metadata": {},
   "outputs": [
    {
     "name": "stdout",
     "output_type": "stream",
     "text": [
      "1.0\n",
      "2.0\n",
      "3.0\n",
      "7.0\n",
      "8.0\n",
      "9.0\n",
      "7.0\n",
      "8.0\n",
      "9.0\n",
      "1.0\n",
      "2.0\n",
      "3.0\n",
      "4.0\n",
      "5.0\n",
      "6.0\n",
      "4.0\n",
      "5.0\n",
      "6.0\n",
      "1.0\n",
      "2.0\n"
     ]
    }
   ],
   "source": [
    "# queue의 길리와 저장될 데이터 형식 \n",
    "q=tf.FIFOQueue(20,'float') # 큐를 저장할 \n",
    "\n",
    "enc_ops1 = q.enqueue_many(([1.0, 2.0, 3.0],))\n",
    "enc_ops2 = q.enqueue_many(([4.0, 5.0, 6.0],))\n",
    "enc_ops3 = q.enqueue_many(([7.0, 8.0, 9.0],))\n",
    "qr=tf.train.QueueRunner(q,[enc_ops1,enc_ops2,enc_ops3]) # 같은 데이터 3개를 동시에 입력하겠다는 뜻. \n",
    "# 비동기\n",
    "sess =tf.Session()\n",
    "coordi=tf.train.Coordinator()\n",
    "threads=qr.create_threads(sess,coord=coordi,start=True)# 현재 작업이 끝나지 않아도 다른 작업을 할 수 있게\n",
    "for step in range(20):\n",
    "    print(sess.run(q.dequeue()))\n",
    "coordi.request_stop()\n",
    "coordi.join(threads)\n",
    "sess.close()"
   ]
  },
  {
   "cell_type": "markdown",
   "id": "b5d616e1",
   "metadata": {},
   "source": [
    "### # 2) decodoing"
   ]
  },
  {
   "cell_type": "code",
   "execution_count": 46,
   "id": "f6507a1e",
   "metadata": {},
   "outputs": [
    {
     "name": "stdout",
     "output_type": "stream",
     "text": [
      "WARNING:tensorflow:From C:\\Users\\ADMINI~1\\AppData\\Local\\Temp/ipykernel_26804/3885717392.py:2: string_input_producer (from tensorflow.python.training.input) is deprecated and will be removed in a future version.\n",
      "Instructions for updating:\n",
      "Queue-based input pipelines have been replaced by `tf.data`. Use `tf.data.Dataset.from_tensor_slices(string_tensor).shuffle(tf.shape(input_tensor, out_type=tf.int64)[0]).repeat(num_epochs)`. If `shuffle=False`, omit the `.shuffle(...)`.\n",
      "WARNING:tensorflow:From C:\\ProgramData\\Anaconda3\\envs\\tf1\\lib\\site-packages\\tensorflow_core\\python\\training\\input.py:277: input_producer (from tensorflow.python.training.input) is deprecated and will be removed in a future version.\n",
      "Instructions for updating:\n",
      "Queue-based input pipelines have been replaced by `tf.data`. Use `tf.data.Dataset.from_tensor_slices(input_tensor).shuffle(tf.shape(input_tensor, out_type=tf.int64)[0]).repeat(num_epochs)`. If `shuffle=False`, omit the `.shuffle(...)`.\n",
      "WARNING:tensorflow:From C:\\ProgramData\\Anaconda3\\envs\\tf1\\lib\\site-packages\\tensorflow_core\\python\\training\\input.py:189: limit_epochs (from tensorflow.python.training.input) is deprecated and will be removed in a future version.\n",
      "Instructions for updating:\n",
      "Queue-based input pipelines have been replaced by `tf.data`. Use `tf.data.Dataset.from_tensors(tensor).repeat(num_epochs)`.\n",
      "WARNING:tensorflow:From C:\\ProgramData\\Anaconda3\\envs\\tf1\\lib\\site-packages\\tensorflow_core\\python\\training\\input.py:198: add_queue_runner (from tensorflow.python.training.queue_runner_impl) is deprecated and will be removed in a future version.\n",
      "Instructions for updating:\n",
      "To construct input pipelines, use the `tf.data` module.\n",
      "WARNING:tensorflow:From C:\\Users\\ADMINI~1\\AppData\\Local\\Temp/ipykernel_26804/3885717392.py:3: TextLineReader.__init__ (from tensorflow.python.ops.io_ops) is deprecated and will be removed in a future version.\n",
      "Instructions for updating:\n",
      "Queue-based input pipelines have been replaced by `tf.data`. Use `tf.data.TextLineDataset`.\n",
      "WARNING:tensorflow:From C:\\Users\\ADMINI~1\\AppData\\Local\\Temp/ipykernel_26804/3885717392.py:5: The name tf.decode_csv is deprecated. Please use tf.io.decode_csv instead.\n",
      "\n"
     ]
    }
   ],
   "source": [
    "filename_queue=tf.train.string_input_producer(['[data/sample1.csb]','data/sample2.csv'],shuffle=False,\n",
    "                              name = 'filename_queue')\n",
    "reader = tf.TextLineReader()\n",
    "key,value=reader.read(filename_queue)\n",
    "a1,a2,a3=tf.decode_csv(value,record_defaults=[[0],[0.0],['null']],field_delim=',')"
   ]
  },
  {
   "cell_type": "code",
   "execution_count": null,
   "id": "8a0a2003",
   "metadata": {
    "scrolled": true
   },
   "outputs": [
    {
     "name": "stdout",
     "output_type": "stream",
     "text": [
      "WARNING:tensorflow:From C:\\Users\\ADMINI~1\\AppData\\Local\\Temp/ipykernel_26804/2143805567.py:3: start_queue_runners (from tensorflow.python.training.queue_runner_impl) is deprecated and will be removed in a future version.\n",
      "Instructions for updating:\n",
      "To construct input pipelines, use the `tf.data` module.\n"
     ]
    }
   ],
   "source": [
    "sess=tf.Session()\n",
    "coordi=tf.train.Coordinator()\n",
    "threads=tf.train.start_queue_runners(sess=sess,coord=coordi)\n",
    "\n",
    "for i in range(30):\n",
    "    print(sess.run([a1,a2,a3]))\n",
    "    \n",
    "coordi.request_stop()\n",
    "coordi.join(threads)\n",
    "sess.close()"
   ]
  },
  {
   "cell_type": "code",
   "execution_count": null,
   "id": "ab4fef29",
   "metadata": {},
   "outputs": [],
   "source": []
  },
  {
   "cell_type": "markdown",
   "id": "78e28b4c",
   "metadata": {},
   "source": [
    "#### 3) lab 슬라이드 코드"
   ]
  },
  {
   "cell_type": "code",
   "execution_count": null,
   "id": "66f764e9",
   "metadata": {},
   "outputs": [],
   "source": [
    "filename_queue = tf.train.string_input_producer(\n",
    "   ['data-01-test-score.csv', 'data-02-test-score.csv', ... ], \n",
    "   shuffle=False, name='filename_queue')\n",
    "\n",
    "reader = tf.TextLineReader()\n",
    "key,value=reader.read(filename_queue)\n",
    "a1,a2,a3=tf.decode_csv(value,record_defaults=[[0],[0.0],['null']],field_delim=',')\n"
   ]
  },
  {
   "cell_type": "code",
   "execution_count": null,
   "id": "eabecd18",
   "metadata": {},
   "outputs": [],
   "source": []
  },
  {
   "cell_type": "markdown",
   "id": "065c1421",
   "metadata": {},
   "source": [
    "## 4. Batch"
   ]
  },
  {
   "cell_type": "code",
   "execution_count": null,
   "id": "7490ec07",
   "metadata": {},
   "outputs": [],
   "source": [
    "\"\"\"\n",
    "1. Full Batch or Batch : 전체 데이터를 의미 - 덩어리를 나누지 않고 전체 덩어리로 훈련 \n",
    "    - 샘플 전체를 계산하므로 시간이 많이 걸린다.\n",
    "    - 데이터가 많을 경우(한번에 데이터를 메모리에 로드하지 못할 경우) 사용이 불가\n",
    "    - 오차율이 적다\n",
    "    \n",
    "2. Stochastic Gradient Descent : 한개의 데이터를 확률로\n",
    "    - 데이터를 한개씩 추출해서 처리해보고 이를 모든 데이터에 반복을 돌린다. \n",
    "    - 오차율이 클 수 있다. \n",
    "    - 속도가 엄청나게 느리다. \n",
    "    - 하드웨어 성능을 제대로 발휘할 수 없다(특히 GPU).\n",
    "\n",
    "3. Mini Batch\n",
    "    - 전체 훈련데이터를 배치 사이즈로 등분하여 각 배치셋을 순차적으로 수행\n",
    "    - Full Batch 보다 빠르고 SGD보다 오차율도 낮다. \n",
    "\n",
    "4. Epoch(or Interation) : 배치의 수행 횟수\n",
    "\n",
    "\"\"\""
   ]
  },
  {
   "cell_type": "code",
   "execution_count": 18,
   "id": "0d1c0677",
   "metadata": {},
   "outputs": [
    {
     "data": {
      "text/plain": [
       "[<tf.Tensor 'DecodeCSV_4:0' shape=() dtype=float32>,\n",
       " <tf.Tensor 'DecodeCSV_4:1' shape=() dtype=float32>,\n",
       " <tf.Tensor 'DecodeCSV_4:2' shape=() dtype=int32>,\n",
       " <tf.Tensor 'DecodeCSV_4:3' shape=() dtype=int32>]"
      ]
     },
     "execution_count": 18,
     "metadata": {},
     "output_type": "execute_result"
    }
   ],
   "source": [
    "filename_queue = tf.train.string_input_producer(\n",
    "   ['data-01-test-score.csv'],shuffle=False, name='filename_queue')\n",
    "\n",
    "reader = tf.TextLineReader()\n",
    "key,value=reader.read(filename_queue)\n",
    "record_defaults=[[0.],[0.],[0,],[0,]]\n",
    "xy= tf.decode_csv(value, record_defaults=record_defaults)                       \n",
    "xy                       "
   ]
  },
  {
   "cell_type": "code",
   "execution_count": 17,
   "id": "9d1ad5a7",
   "metadata": {
    "scrolled": true
   },
   "outputs": [],
   "source": [
    "train_x_batch,train_y_batch = tf.train.batch([xy[0:-1],xy[-1:]],batch_size=10)"
   ]
  },
  {
   "cell_type": "code",
   "execution_count": 16,
   "id": "0c23b0c6",
   "metadata": {},
   "outputs": [],
   "source": [
    "# 모델 만들기 \n",
    "# placeholders for a tensor that will be always fed.\n",
    "X = tf.placeholder(tf.float32, shape=[None, 3])\n",
    "Y = tf.placeholder(tf.float32, shape=[None, 1])\n",
    "\n",
    "W = tf.Variable(tf.random_normal([3, 1]), name='weight')\n",
    "b = tf.Variable(tf.random_normal([1]), name='bias')\n",
    "\n",
    "# Hypothesis\n",
    "hypothesis = tf.matmul(X, W) + b\n",
    "\n",
    "# Simplified cost/loss function\n",
    "cost = tf.reduce_mean(tf.square(hypothesis - Y))\n",
    "\n",
    "# Minimize\n",
    "optimizer = tf.train.GradientDescentOptimizer(learning_rate=1e-5)\n",
    "train = optimizer.minimize(cost)\n"
   ]
  },
  {
   "cell_type": "code",
   "execution_count": 20,
   "id": "2b5efdf4",
   "metadata": {},
   "outputs": [],
   "source": [
    "import tensorflow as tf\n",
    "filename_queue = tf.train.string_input_producer(\n",
    "   ['data-01-test-score.csv'], shuffle=False, name='filename_queue')\n",
    "\n",
    "reader = tf.TextLineReader()\n",
    "key, value = reader.read(filename_queue)\n",
    "\n",
    "# Default values, in case of empty columns. Also specifies the type of the\n",
    "# decoded result.\n",
    "record_defaults = [[0.], [0.], [0.], [0.]]\n",
    "xy = tf.decode_csv(value, record_defaults=record_defaults)\n",
    "\n",
    "# collect batches of csv in\n",
    "train_x_batch, train_y_batch = \\\n",
    "   tf.train.batch([xy[0:-1], xy[-1:]], batch_size=10)\n",
    "\n",
    "# placeholders for a tensor that will be always fed.\n",
    "X = tf.placeholder(tf.float32, shape=[None, 3])\n",
    "Y = tf.placeholder(tf.float32, shape=[None, 1])\n",
    "\n",
    "W = tf.Variable(tf.random_normal([3, 1]), name='weight')\n",
    "b = tf.Variable(tf.random_normal([1]), name='bias')\n",
    "\n",
    "# Hypothesis\n",
    "hypothesis = tf.matmul(X, W) + b\n",
    "\n",
    "# Simplified cost/loss function\n",
    "cost = tf.reduce_mean(tf.square(hypothesis - Y))\n",
    "\n",
    "# Minimize\n",
    "optimizer = tf.train.GradientDescentOptimizer(learning_rate=1e-5)\n",
    "train = optimizer.minimize(cost)\n"
   ]
  },
  {
   "cell_type": "code",
   "execution_count": null,
   "id": "3a25bc38",
   "metadata": {},
   "outputs": [
    {
     "name": "stdout",
     "output_type": "stream",
     "text": [
      "WARNING:tensorflow:From C:\\Users\\ADMINI~1\\AppData\\Local\\Temp/ipykernel_39744/411661694.py:2: The name tf.Session is deprecated. Please use tf.compat.v1.Session instead.\n",
      "\n",
      "WARNING:tensorflow:From C:\\Users\\ADMINI~1\\AppData\\Local\\Temp/ipykernel_39744/411661694.py:4: The name tf.global_variables_initializer is deprecated. Please use tf.compat.v1.global_variables_initializer instead.\n",
      "\n",
      "WARNING:tensorflow:From C:\\Users\\ADMINI~1\\AppData\\Local\\Temp/ipykernel_39744/411661694.py:8: start_queue_runners (from tensorflow.python.training.queue_runner_impl) is deprecated and will be removed in a future version.\n",
      "Instructions for updating:\n",
      "To construct input pipelines, use the `tf.data` module.\n"
     ]
    }
   ],
   "source": [
    "# Launch the graph in a session.\n",
    "sess = tf.Session()\n",
    "# Initializes global variables in the graph.\n",
    "sess.run(tf.global_variables_initializer())\n",
    "\n",
    "# Start populating the filename queue.\n",
    "coord = tf.train.Coordinator()\n",
    "threads = tf.train.start_queue_runners(sess=sess, coord=coord)#병렬 처리\n",
    "\n",
    "for step in range(2001):\n",
    "    x_batch, y_batch = sess.run([train_x_batch, train_y_batch])\n",
    "    cost_val, hy_val, _ = sess.run(\n",
    "        [cost, hypothesis, train], feed_dict={X: x_batch, Y: y_batch})\n",
    "    if step % 10 == 0:\n",
    "        print(step, \"Cost: \", cost_val, \"\\nPrediction:\\n\", hy_val)\n",
    "\n",
    "coord.request_stop()\n",
    "coord.join(threads)\n",
    "\n",
    "# Ask my score\n",
    "print(\"Your score will be \",\n",
    "      sess.run(hypothesis, feed_dict={X: [[100, 70, 101]]}))\n",
    "\n"
   ]
  },
  {
   "cell_type": "code",
   "execution_count": null,
   "id": "ee17aa6d",
   "metadata": {},
   "outputs": [],
   "source": []
  },
  {
   "cell_type": "markdown",
   "id": "06ae3870",
   "metadata": {},
   "source": [
    "## 5. 로지스틱 회귀\n",
    "+ 연속변수 값을 처리해서 명목변수로 변환(직선읜 방정식을 시그모이드로 바꿔주는)"
   ]
  },
  {
   "cell_type": "code",
   "execution_count": 2,
   "id": "7d202d2d",
   "metadata": {},
   "outputs": [],
   "source": [
    "x_data = [[1, 2], [2, 3], [3, 1], [4, 3], [5, 3], [6, 2]]\n",
    "y_data = [[0], [0], [0], [1], [1], [1]]"
   ]
  },
  {
   "cell_type": "code",
   "execution_count": 11,
   "id": "d50da55e",
   "metadata": {},
   "outputs": [
    {
     "name": "stdout",
     "output_type": "stream",
     "text": [
      "---------선형회귀랑 여기까진 같음-------------\n"
     ]
    }
   ],
   "source": [
    "X = tf.placeholder(tf.float32,shape=[None,2])\n",
    "y = tf.placeholder(tf.float32,shape=[None,1])\n",
    "\n",
    "W = tf.Variable(tf.random_normal([2,1])) # x,y 출력갯수\n",
    "b = tf.Variable(tf.random_normal([1])) # 출력의 갯수\n",
    "\n",
    "print('---------선형회귀랑 여기까진 같음-------------') \n",
    "\n",
    "# 가설\n",
    "hypot = tf.sigmoid(tf.matmul(X,W)+b)\n",
    "\n",
    "# 비용 - 오차값이 얼마인지\n",
    "# y 값이 0일때 1일때를 합친 공식\n",
    "cost = -tf.reduce_mean(y * tf.math.log(hypot) + (1 - y) * tf.math.log(1 - hypot)) \n",
    "\n",
    "# 최소비용 \n",
    "train = tf.train.GradientDescentOptimizer(learning_rate=0.01).minimize(cost)\n",
    "\n",
    "\n",
    "\n",
    "\n",
    "\n"
   ]
  },
  {
   "cell_type": "code",
   "execution_count": 15,
   "id": "f52ba0e4",
   "metadata": {},
   "outputs": [
    {
     "name": "stdout",
     "output_type": "stream",
     "text": [
      "0 [[0.96424925]\n",
      " [0.97799337]\n",
      " [0.8611905 ]\n",
      " [0.95880514]\n",
      " [0.943958  ]\n",
      " [0.84261405]]\n",
      "200 [[0.7818273 ]\n",
      " [0.7466065 ]\n",
      " [0.71693313]\n",
      " [0.672327  ]\n",
      " [0.6312994 ]\n",
      " [0.5918652 ]]\n",
      "400 [[0.60848814]\n",
      " [0.5403636 ]\n",
      " [0.7603417 ]\n",
      " [0.61097944]\n",
      " [0.6447963 ]\n",
      " [0.7622442 ]]\n",
      "600 [[0.4824707 ]\n",
      " [0.41211018]\n",
      " [0.7846861 ]\n",
      " [0.58990455]\n",
      " [0.673263  ]\n",
      " [0.8490159 ]]\n",
      "800 [[0.39932755]\n",
      " [0.3393635 ]\n",
      " [0.79550385]\n",
      " [0.584131  ]\n",
      " [0.6990332 ]\n",
      " [0.89152837]]\n",
      "1000 [[0.3429082]\n",
      " [0.2960997]\n",
      " [0.7979881]\n",
      " [0.5841319]\n",
      " [0.7196261]\n",
      " [0.9140317]]\n",
      "1200 [[0.30269262]\n",
      " [0.26889297]\n",
      " [0.79520357]\n",
      " [0.5866147 ]\n",
      " [0.73596597]\n",
      " [0.9269719 ]]\n",
      "1400 [[0.27264538]\n",
      " [0.25103608]\n",
      " [0.7888962 ]\n",
      " [0.5903363 ]\n",
      " [0.74924344]\n",
      " [0.9349224 ]]\n",
      "1600 [[0.24924839]\n",
      " [0.23895393]\n",
      " [0.78011525]\n",
      " [0.594762  ]\n",
      " [0.7603759 ]\n",
      " [0.94006276]]\n",
      "1800 [[0.23036745]\n",
      " [0.23059961]\n",
      " [0.76953906]\n",
      " [0.5996265 ]\n",
      " [0.7700029 ]\n",
      " [0.9435267 ]]\n",
      "2000 [[0.21465658]\n",
      " [0.22472754]\n",
      " [0.75763834]\n",
      " [0.6047785 ]\n",
      " [0.7785588 ]\n",
      " [0.94594955]]\n",
      "2200 [[0.20123704]\n",
      " [0.22054015]\n",
      " [0.74476147]\n",
      " [0.61011964]\n",
      " [0.7863367 ]\n",
      " [0.9477109 ]]\n",
      "2400 [[0.18951948]\n",
      " [0.21750695]\n",
      " [0.7311775 ]\n",
      " [0.6155794 ]\n",
      " [0.7935351 ]\n",
      " [0.9490476 ]]\n",
      "2600 [[0.17909935]\n",
      " [0.21526454]\n",
      " [0.7171018 ]\n",
      " [0.6211042 ]\n",
      " [0.800288  ]\n",
      " [0.95011336]]\n",
      "2800 [[0.16969427]\n",
      " [0.21355933]\n",
      " [0.70270926]\n",
      " [0.6266514 ]\n",
      " [0.80668586]\n",
      " [0.95100987]]\n",
      "3000 [[0.16110365]\n",
      " [0.21221139]\n",
      " [0.6881439 ]\n",
      " [0.63218725]\n",
      " [0.81278986]\n",
      " [0.9518051 ]]\n",
      "3200 [[0.15318307]\n",
      " [0.21109273]\n",
      " [0.6735242 ]\n",
      " [0.6376844 ]\n",
      " [0.81864095]\n",
      " [0.9525446 ]]\n",
      "3400 [[0.1458271 ]\n",
      " [0.21011198]\n",
      " [0.6589468 ]\n",
      " [0.6431206 ]\n",
      " [0.82426673]\n",
      " [0.9532584 ]]\n",
      "3600 [[0.13895759]\n",
      " [0.20920445]\n",
      " [0.64449084]\n",
      " [0.6484791 ]\n",
      " [0.8296861 ]\n",
      " [0.95396584]]\n",
      "3800 [[0.1325154 ]\n",
      " [0.20832466]\n",
      " [0.63021934]\n",
      " [0.65374637]\n",
      " [0.83491206]\n",
      " [0.954679  ]]\n",
      "4000 [[0.12645517]\n",
      " [0.20744139]\n",
      " [0.61618274]\n",
      " [0.6589123 ]\n",
      " [0.8399539 ]\n",
      " [0.95540434]]\n",
      "4200 [[0.1207412 ]\n",
      " [0.20653395]\n",
      " [0.6024198 ]\n",
      " [0.66396964]\n",
      " [0.84481835]\n",
      " [0.9561451 ]]\n",
      "4400 [[0.11534461]\n",
      " [0.20558907]\n",
      " [0.58895975]\n",
      " [0.66891325]\n",
      " [0.84951115]\n",
      " [0.9569016 ]]\n",
      "4600 [[0.11024151]\n",
      " [0.20459922]\n",
      " [0.575826  ]\n",
      " [0.6737411 ]\n",
      " [0.8540379 ]\n",
      " [0.9576735 ]]\n",
      "4800 [[0.10541151]\n",
      " [0.20356031]\n",
      " [0.56303215]\n",
      " [0.6784502 ]\n",
      " [0.85840225]\n",
      " [0.9584583 ]]\n",
      "5000 [[0.10083696]\n",
      " [0.20247135]\n",
      " [0.5505879 ]\n",
      " [0.68303996]\n",
      " [0.8626085 ]\n",
      " [0.95925343]]\n",
      "5200 [[0.09650217]\n",
      " [0.20133325]\n",
      " [0.53849787]\n",
      " [0.68751025]\n",
      " [0.8666605 ]\n",
      " [0.9600558 ]]\n",
      "5400 [[0.09239342]\n",
      " [0.20014983]\n",
      " [0.52676654]\n",
      " [0.6918656 ]\n",
      " [0.8705649 ]\n",
      " [0.9608636 ]]\n",
      "5600 [[0.08849721]\n",
      " [0.19892286]\n",
      " [0.51539004]\n",
      " [0.6961049 ]\n",
      " [0.8743244 ]\n",
      " [0.96167296]]\n",
      "5800 [[0.08480187]\n",
      " [0.19765697]\n",
      " [0.50436646]\n",
      " [0.70023197]\n",
      " [0.87794435]\n",
      " [0.96248186]]\n",
      "6000 [[0.08129597]\n",
      " [0.19635546]\n",
      " [0.49368855]\n",
      " [0.70424765]\n",
      " [0.8814284 ]\n",
      " [0.9632873 ]]\n",
      "6200 [[0.07796917]\n",
      " [0.19502333]\n",
      " [0.4833514 ]\n",
      " [0.7081572 ]\n",
      " [0.8847828 ]\n",
      " [0.9640875 ]]\n",
      "6400 [[0.07481145]\n",
      " [0.19366403]\n",
      " [0.4733459 ]\n",
      " [0.71196187]\n",
      " [0.88801116]\n",
      " [0.9648802 ]]\n",
      "6600 [[0.07181356]\n",
      " [0.19228207]\n",
      " [0.46366456]\n",
      " [0.715666  ]\n",
      " [0.8911189 ]\n",
      " [0.9656641 ]]\n",
      "6800 [[0.06896652]\n",
      " [0.19088043]\n",
      " [0.4542964 ]\n",
      " [0.7192711 ]\n",
      " [0.8941096 ]\n",
      " [0.96643716]]\n",
      "7000 [[0.06626206]\n",
      " [0.18946332]\n",
      " [0.44523337]\n",
      " [0.7227819 ]\n",
      " [0.8969887 ]\n",
      " [0.96719855]]\n",
      "7200 [[0.06369227]\n",
      " [0.18803379]\n",
      " [0.4364651 ]\n",
      " [0.7262009 ]\n",
      " [0.89976054]\n",
      " [0.9679472 ]]\n",
      "7400 [[0.06124967]\n",
      " [0.18659493]\n",
      " [0.42798185]\n",
      " [0.72953147]\n",
      " [0.90242946]\n",
      " [0.9686821 ]]\n",
      "7600 [[0.0589271 ]\n",
      " [0.18514934]\n",
      " [0.41977343]\n",
      " [0.7327762 ]\n",
      " [0.90499943]\n",
      " [0.9694027 ]]\n",
      "7800 [[0.05671803]\n",
      " [0.18369997]\n",
      " [0.4118303 ]\n",
      " [0.73593855]\n",
      " [0.907475  ]\n",
      " [0.9701085 ]]\n",
      "8000 [[0.05461604]\n",
      " [0.18224874]\n",
      " [0.4041426 ]\n",
      " [0.739021  ]\n",
      " [0.9098597 ]\n",
      " [0.97079897]]\n",
      "8200 [[0.05261522]\n",
      " [0.1807981 ]\n",
      " [0.39670125]\n",
      " [0.74202716]\n",
      " [0.9121579 ]\n",
      " [0.9714741 ]]\n",
      "8400 [[0.05070991]\n",
      " [0.17934945]\n",
      " [0.38949597]\n",
      " [0.74495834]\n",
      " [0.9143726 ]\n",
      " [0.9721334 ]]\n",
      "8600 [[0.04889494]\n",
      " [0.17790504]\n",
      " [0.3825189 ]\n",
      " [0.7478184 ]\n",
      " [0.9165079 ]\n",
      " [0.97277695]]\n",
      "8800 [[0.04716523]\n",
      " [0.17646608]\n",
      " [0.3757607 ]\n",
      " [0.75060934]\n",
      " [0.91856706]\n",
      " [0.9734048 ]]\n",
      "9000 [[0.04551616]\n",
      " [0.17503415]\n",
      " [0.3692133 ]\n",
      " [0.75333416]\n",
      " [0.92055357]\n",
      " [0.97401696]]\n",
      "9200 [[0.04394324]\n",
      " [0.17361023]\n",
      " [0.36286843]\n",
      " [0.7559946 ]\n",
      " [0.9224703 ]\n",
      " [0.97461355]]\n",
      "9400 [[0.0424424 ]\n",
      " [0.17219555]\n",
      " [0.35671794]\n",
      " [0.75859314]\n",
      " [0.9243201 ]\n",
      " [0.9751948 ]]\n",
      "9600 [[0.0410096 ]\n",
      " [0.1707907 ]\n",
      " [0.35075402]\n",
      " [0.76113147]\n",
      " [0.9261059 ]\n",
      " [0.9757607 ]]\n",
      "9800 [[0.03964131]\n",
      " [0.16939703]\n",
      " [0.34497014]\n",
      " [0.76361233]\n",
      " [0.9278307 ]\n",
      " [0.97631174]]\n",
      "10000 [[0.03833396]\n",
      " [0.16801488]\n",
      " [0.3393588 ]\n",
      " [0.76603746]\n",
      " [0.92949677]\n",
      " [0.976848  ]]\n",
      "10200 [[0.0370843 ]\n",
      " [0.16664508]\n",
      " [0.33391353]\n",
      " [0.76840883]\n",
      " [0.931107  ]\n",
      " [0.97736984]]\n",
      "10400 [[0.03588933]\n",
      " [0.16528809]\n",
      " [0.328628  ]\n",
      " [0.77072847]\n",
      " [0.93266344]\n",
      " [0.9778776 ]]\n",
      "10600 [[0.03474608]\n",
      " [0.16394411]\n",
      " [0.3234951 ]\n",
      " [0.772997  ]\n",
      " [0.93416816]\n",
      " [0.9783716 ]]\n",
      "10800 [[0.03365191]\n",
      " [0.16261388]\n",
      " [0.3185102 ]\n",
      " [0.7752175 ]\n",
      " [0.93562376]\n",
      " [0.97885203]]\n",
      "11000 [[0.03260427]\n",
      " [0.16129778]\n",
      " [0.31366742]\n",
      " [0.77739114]\n",
      " [0.93703216]\n",
      " [0.9793194 ]]\n",
      "11200 [[0.0316007 ]\n",
      " [0.15999573]\n",
      " [0.3089606 ]\n",
      " [0.77951884]\n",
      " [0.93839496]\n",
      " [0.9797738 ]]\n",
      "11400 [[0.03063896]\n",
      " [0.15870817]\n",
      " [0.30438545]\n",
      " [0.78160304]\n",
      " [0.93971455]\n",
      " [0.98021597]]\n",
      "11600 [[0.02971691]\n",
      " [0.15743501]\n",
      " [0.29993606]\n",
      " [0.78364414]\n",
      " [0.9409921 ]\n",
      " [0.98064584]]\n",
      "11800 [[0.02883256]\n",
      " [0.15617678]\n",
      " [0.29560888]\n",
      " [0.7856446 ]\n",
      " [0.94223017]\n",
      " [0.98106384]]\n",
      "12000 [[0.02798404]\n",
      " [0.15493332]\n",
      " [0.29139856]\n",
      " [0.78760487]\n",
      " [0.94342947]\n",
      " [0.9814704 ]]\n",
      "12200 [[0.02716948]\n",
      " [0.15370448]\n",
      " [0.2873005 ]\n",
      " [0.78952616]\n",
      " [0.9445918 ]\n",
      " [0.9818658 ]]\n",
      "12400 [[0.02638731]\n",
      " [0.15249072]\n",
      " [0.2833115 ]\n",
      " [0.79141027]\n",
      " [0.945719  ]\n",
      " [0.9822504 ]]\n",
      "12600 [[0.02563589]\n",
      " [0.15129194]\n",
      " [0.2794273 ]\n",
      " [0.7932584 ]\n",
      " [0.94681215]\n",
      " [0.9826245 ]]\n",
      "12800 [[0.0249137 ]\n",
      " [0.15010777]\n",
      " [0.27564383]\n",
      " [0.795071  ]\n",
      " [0.9478726 ]\n",
      " [0.9829884 ]]\n",
      "13000 [[0.02421936]\n",
      " [0.14893837]\n",
      " [0.27195734]\n",
      " [0.79684913]\n",
      " [0.9489016 ]\n",
      " [0.9833423 ]]\n",
      "13200 [[0.02355155]\n",
      " [0.14778373]\n",
      " [0.2683645 ]\n",
      " [0.7985943 ]\n",
      " [0.9499003 ]\n",
      " [0.98368675]]\n",
      "13400 [[0.022909  ]\n",
      " [0.14664376]\n",
      " [0.2648623 ]\n",
      " [0.8003073 ]\n",
      " [0.95087004]\n",
      " [0.9840217 ]]\n",
      "13600 [[0.02229052]\n",
      " [0.1455182 ]\n",
      " [0.2614472 ]\n",
      " [0.8019889 ]\n",
      " [0.95181185]\n",
      " [0.9843477 ]]\n",
      "13800 [[0.02169494]\n",
      " [0.14440683]\n",
      " [0.25811592]\n",
      " [0.8036397 ]\n",
      " [0.9527266 ]\n",
      " [0.98466486]]\n",
      "14000 [[0.0211213 ]\n",
      " [0.14331001]\n",
      " [0.25486648]\n",
      " [0.80526143]\n",
      " [0.95361555]\n",
      " [0.98497367]]\n",
      "14200 [[0.02056854]\n",
      " [0.14222753]\n",
      " [0.25169584]\n",
      " [0.80685496]\n",
      " [0.9544798 ]\n",
      " [0.9852742 ]]\n",
      "14400 [[0.02003568]\n",
      " [0.1411587 ]\n",
      " [0.24860074]\n",
      " [0.80842006]\n",
      " [0.9553198 ]\n",
      " [0.98556685]]\n",
      "14600 [[0.01952185]\n",
      " [0.14010365]\n",
      " [0.2455785 ]\n",
      " [0.8099578 ]\n",
      " [0.95613647]\n",
      " [0.9858517 ]]\n",
      "14800 [[0.01902622]\n",
      " [0.13906248]\n",
      " [0.24262764]\n",
      " [0.8114696 ]\n",
      " [0.9569312 ]\n",
      " [0.986129  ]]\n"
     ]
    }
   ],
   "source": [
    "sess = tf.Session()\n",
    "sess.run(tf.global_variables_initializer())\n",
    "\n",
    "for step in range(15000):\n",
    "    _,h=sess.run([train,hypot],feed_dict={X:x_data,y:y_data})\n",
    "    if step%200 ==0 :# 200 개의 1개씩 보여주기 \n",
    "        print(step,h)\n",
    "        \n",
    "# 성능을 개선 하기 위해서는 learning_rate 를 조절하거나 학습의 수 조절\n"
   ]
  },
  {
   "cell_type": "code",
   "execution_count": 18,
   "id": "a851748b",
   "metadata": {},
   "outputs": [
    {
     "data": {
      "text/plain": [
       "<tf.Tensor 'Mean_4:0' shape=() dtype=float32>"
      ]
     },
     "execution_count": 18,
     "metadata": {},
     "output_type": "execute_result"
    }
   ],
   "source": [
    "# 예측값 # 0.5보다 크면 1 작으면 0\n",
    "preds =tf.cast(hypot > 0.5,dtype=tf.float32)\n",
    "sess.run(preds,feed_dict={X:x_data,y:y_data})\n",
    "\n",
    "# 맞은 갯수 평균\n",
    "accuracy=tf.reduce_mean(tf.cast(tf.equal(preds,y),dtype=tf.float32))\n",
    "accuracy"
   ]
  },
  {
   "cell_type": "code",
   "execution_count": 19,
   "id": "79773346",
   "metadata": {},
   "outputs": [
    {
     "name": "stdout",
     "output_type": "stream",
     "text": [
      "[[0.01854796]\n",
      " [0.13803476]\n",
      " [0.2397451 ]\n",
      " [0.8129555 ]\n",
      " [0.9577041 ]\n",
      " [0.98639905]]\n",
      "[[0.]\n",
      " [0.]\n",
      " [0.]\n",
      " [1.]\n",
      " [1.]\n",
      " [1.]]\n",
      "1.0\n"
     ]
    }
   ],
   "source": [
    "# 측정결과 테스트\n",
    "h,p,a=sess.run([hypot,preds,accuracy],feed_dict={X:x_data,y:y_data})\n",
    "print(h)\n",
    "print(p)\n",
    "print(a)"
   ]
  },
  {
   "cell_type": "markdown",
   "id": "08b31905",
   "metadata": {},
   "source": [
    "### (1) Softmax"
   ]
  },
  {
   "cell_type": "code",
   "execution_count": 29,
   "id": "c620ad64",
   "metadata": {},
   "outputs": [],
   "source": [
    "x_data = [[1, 2, 1, 1], [2, 1, 3, 2], [3, 1, 3, 4], [4, 1, 5, 5], [1, 7, 5, 5], \n",
    "                                                        [1, 2, 5, 6], [1, 6, 6, 6], [1, 7, 7, 7]]\n",
    "y_data = [[0, 0, 1], [0, 0, 1], [0, 0, 1], [0, 1, 0], [0, 1, 0], [0, 1, 0], [1, 0, 0], [1, 0, 0]]\n",
    "\n"
   ]
  },
  {
   "cell_type": "code",
   "execution_count": 31,
   "id": "34a1a551",
   "metadata": {},
   "outputs": [],
   "source": [
    "X = tf.placeholder(tf.float32,shape=[None,4])\n",
    "y = tf.placeholder(tf.float32,shape=[None,3])\n",
    "\n",
    "W = tf.Variable(tf.random_normal([4,3])) # x,y 출력갯수\n",
    "b = tf.Variable(tf.random_normal([3])) # 출력의 갯수\n",
    "\n",
    "# 가설\n",
    "hypot = tf.nn.softmax(tf.matmul(X,W)+b)\n",
    "\n",
    "# 비용 - 오차값이 얼마인지\n",
    "# y 값이 0일때 1일때를 합친 공식\n",
    "cost = tf.reduce_mean(-tf.reduce_sum(y * tf.log(hypot), axis=1)) \n",
    "\n",
    "# 최소비용 \n",
    "train = tf.train.GradientDescentOptimizer(learning_rate=0.01).minimize(cost)"
   ]
  },
  {
   "cell_type": "code",
   "execution_count": 33,
   "id": "d246f139",
   "metadata": {},
   "outputs": [
    {
     "name": "stdout",
     "output_type": "stream",
     "text": [
      "0 10.58654\n",
      "100 2.219711\n",
      "200 1.4197065\n",
      "300 0.96451634\n",
      "400 0.798724\n",
      "500 0.7214823\n",
      "600 0.67265105\n",
      "700 0.6371629\n",
      "800 0.6094035\n",
      "900 0.5866956\n",
      "1000 0.56755316\n",
      "1100 0.55106086\n",
      "1200 0.53661203\n",
      "1300 0.523782\n",
      "1400 0.5122622\n",
      "1500 0.50182116\n",
      "1600 0.49228138\n",
      "1700 0.4835037\n",
      "1800 0.47537738\n",
      "1900 0.4678132\n",
      "2000 0.46073806\n",
      "2100 0.45409167\n",
      "2200 0.4478234\n",
      "2300 0.441891\n",
      "2400 0.43625855\n",
      "2500 0.4308951\n",
      "2600 0.42577425\n",
      "2700 0.42087305\n",
      "2800 0.4161716\n",
      "2900 0.4116524\n",
      "3000 0.40730017\n",
      "3100 0.40310147\n",
      "3200 0.39904436\n",
      "3300 0.39511797\n",
      "3400 0.39131302\n",
      "3500 0.38762105\n",
      "3600 0.38403422\n",
      "3700 0.38054597\n",
      "3800 0.37714982\n",
      "3900 0.37384042\n",
      "4000 0.37061256\n",
      "4100 0.36746162\n",
      "4200 0.36438346\n",
      "4300 0.36137402\n",
      "4400 0.35842997\n",
      "4500 0.35554802\n",
      "4600 0.3527252\n",
      "4700 0.34995872\n",
      "4800 0.34724614\n",
      "4900 0.34458503\n"
     ]
    }
   ],
   "source": [
    "sess = tf.Session()\n",
    "sess.run(tf.global_variables_initializer())\n",
    "\n",
    "for step in range(5000):\n",
    "    _,c=sess.run([train,cost],feed_dict={X:x_data,y:y_data})\n",
    "    if step%100 ==0 :# 200 개의 1개씩 보여주기 \n",
    "        print(step,c)\n",
    "        "
   ]
  },
  {
   "cell_type": "code",
   "execution_count": 39,
   "id": "4093ef5f",
   "metadata": {},
   "outputs": [
    {
     "name": "stdout",
     "output_type": "stream",
     "text": [
      "[ 3 10  1]\n",
      "1\n",
      "[2 1]\n"
     ]
    }
   ],
   "source": [
    "##### argmax\n",
    "\n",
    "a=tf.constant([3,10,1])\n",
    "print(a.eval(session=sess))\n",
    "print(tf.argmax(a,0).eval(session=sess))#제일 큰 값을 위치로 알려줌\n",
    "# 0은 차원을 뜻함\n",
    "\n",
    "b= tf.constant([[5,10,17],[4,50,6]])\n",
    "print(tf.argmax(b,1).eval(session=sess))\n"
   ]
  },
  {
   "cell_type": "code",
   "execution_count": 41,
   "id": "c4c09129",
   "metadata": {},
   "outputs": [
    {
     "data": {
      "text/plain": [
       "array([2, 2, 2, 1, 1, 1, 0, 0], dtype=int64)"
      ]
     },
     "execution_count": 41,
     "metadata": {},
     "output_type": "execute_result"
    }
   ],
   "source": [
    "preds=tf.argmax(hypot,1)\n",
    "sess.run(preds,feed_dict={X:x_data,y:y_data})"
   ]
  },
  {
   "cell_type": "code",
   "execution_count": 46,
   "id": "d64aeb2c",
   "metadata": {},
   "outputs": [
    {
     "data": {
      "text/plain": [
       "array([ True,  True,  True,  True,  True,  True,  True,  True])"
      ]
     },
     "execution_count": 46,
     "metadata": {},
     "output_type": "execute_result"
    }
   ],
   "source": [
    "##### 실제값과 예측 \n",
    "correct=tf.equal(preds,tf.argmax(y,1))\n",
    "sess.run(correct,feed_dict={X:x_data,y:y_data})"
   ]
  },
  {
   "cell_type": "code",
   "execution_count": 47,
   "id": "a869826f",
   "metadata": {},
   "outputs": [
    {
     "data": {
      "text/plain": [
       "1.0"
      ]
     },
     "execution_count": 47,
     "metadata": {},
     "output_type": "execute_result"
    }
   ],
   "source": [
    "##### 숫자로 바꿔줘야 평균을 내지 cast \n",
    "accuracy=tf.reduce_mean(tf.cast(correct,dtype=tf.float32))\n",
    "sess.run(accuracy,feed_dict={X:x_data,y:y_data})"
   ]
  },
  {
   "cell_type": "code",
   "execution_count": 51,
   "id": "fcfe3657",
   "metadata": {
    "scrolled": true
   },
   "outputs": [
    {
     "name": "stdout",
     "output_type": "stream",
     "text": [
      "[[4.5061147e-01 5.4918176e-01 2.0683487e-04]]\n",
      "[1]\n"
     ]
    }
   ],
   "source": [
    "##### 테스트 : [1,11,7,9] 이렇게 넣었을 때는 어떻게 나올까?\n",
    "result=sess.run(hypot,feed_dict={X:[[1,11,7,9]]})\n",
    "print(result)\n",
    "print(sess.run(tf.argmax(result,1)))\n",
    "\n"
   ]
  },
  {
   "cell_type": "markdown",
   "id": "186d9e43",
   "metadata": {},
   "source": [
    "### (2)  softmax_cross_entropy_with_logits"
   ]
  },
  {
   "cell_type": "code",
   "execution_count": 54,
   "id": "f4ec1f7a",
   "metadata": {},
   "outputs": [
    {
     "name": "stdout",
     "output_type": "stream",
     "text": [
      "0 [2.5658305e+00 4.5316582e+00 4.6540642e+00 7.9669352e+00 7.8186140e+00\n",
      " 1.0590739e+01 3.5046916e-05 3.8146900e-06]\n",
      "100 [0.39999524 1.021636   0.37747097 0.71850955 1.124048   0.2711685\n",
      " 0.53564274 0.3312847 ]\n",
      "200 [0.17054056 0.63471234 0.41274354 0.60466725 0.9787975  0.26700518\n",
      " 0.51256436 0.31461477]\n",
      "300 [0.0946089  0.4574746  0.42882302 0.5289561  0.870832   0.27308375\n",
      " 0.49512944 0.29428458]\n",
      "400 [0.05943687 0.3607136  0.4271945  0.47567657 0.794368   0.2726567\n",
      " 0.48006994 0.2745442 ]\n",
      "500 [0.04019187 0.30138674 0.41564775 0.43479013 0.7358115  0.2682131\n",
      " 0.4664836  0.2562589 ]\n",
      "600 [0.02856016 0.26162338 0.3993936  0.40155056 0.6881525  0.26168507\n",
      " 0.4538895  0.23945121]\n",
      "700 [0.02104535 0.23305549 0.38137466 0.3735492  0.6477186  0.25416097\n",
      " 0.44202074 0.22400415]\n",
      "800 [0.01594964 0.21138339 0.363154   0.34942284 0.61246276 0.24623999\n",
      " 0.4307215  0.20979188]\n",
      "900 [0.01236381 0.19422641 0.34551895 0.3283162  0.5811511  0.23825459\n",
      " 0.4199038  0.19670448]\n",
      "1000 [0.00976465 0.18018198 0.3288341  0.3096455  0.5529914  0.23039128\n",
      " 0.4095156  0.18464516]\n",
      "1100 [0.00783442 0.16837989 0.31323943 0.2929855  0.52743834 0.2227559\n",
      " 0.3995224  0.17352681]\n",
      "1200 [0.00637119 0.15825443 0.29875442 0.27801436 0.50409937 0.21540484\n",
      " 0.38990095 0.16327044]\n",
      "1300 [0.00524241 0.1494237  0.28533885 0.26447934 0.4826724  0.20836625\n",
      " 0.3806333  0.15380348]\n",
      "1400 [0.00435855 0.14162026 0.27292505 0.25217882 0.46291995 0.20164993\n",
      " 0.37170646 0.1450588 ]\n",
      "1500 [0.00365708 0.13465077 0.2614347  0.24094865 0.44464886 0.19525525\n",
      " 0.36310676 0.1369754 ]\n",
      "1600 [0.00309382 0.12837169 0.25078756 0.23065303 0.42769882 0.18917544\n",
      " 0.35482132 0.12949596]\n",
      "1700 [0.00263689 0.12267315 0.24090743 0.22117849 0.41193247 0.18339936\n",
      " 0.34683922 0.12256929]\n",
      "1800 [0.00226253 0.11747082 0.23172395 0.21243078 0.39723274 0.17791337\n",
      " 0.3391486  0.11614731]\n",
      "1900 [0.00195324 0.11269636 0.22317196 0.20432857 0.38349876 0.17270288\n",
      " 0.3317376  0.11018739]\n",
      "2000 [0.00169586 0.10829499 0.2151931  0.19680297 0.37063968 0.16775301\n",
      " 0.32459652 0.10464974]\n",
      "2100 [0.00148008 0.10422213 0.20773481 0.18979454 0.35857716 0.16304827\n",
      " 0.31771383 0.09949888]\n",
      "2200 [0.00129794 0.10044003 0.20075086 0.1832517  0.34724313 0.15857482\n",
      " 0.31107792 0.09470183]\n",
      "2300 [0.00114328 0.09691726 0.19419903 0.1771303  0.3365756  0.15431872\n",
      " 0.30467838 0.0902293 ]\n",
      "2400 [0.00101122 0.09362728 0.18804204 0.17139047 0.3265186  0.15026663\n",
      " 0.29850656 0.08605457]\n",
      "2500 [0.00089796 0.09054676 0.18224649 0.16599868 0.31702307 0.14640588\n",
      " 0.29255122 0.08215327]\n",
      "2600 [0.00080029 0.08765614 0.17678262 0.16092362 0.30804482 0.14272492\n",
      " 0.28680357 0.07850266]\n",
      "2700 [0.00071571 0.08493795 0.17162356 0.15613902 0.2995439  0.13921268\n",
      " 0.2812546  0.07508354]\n",
      "2800 [0.00064209 0.08237725 0.16674523 0.15162086 0.29148433 0.13585865\n",
      " 0.27589476 0.07187748]\n",
      "2900 [0.00057776 0.07996032 0.16212544 0.14734796 0.28383398 0.13265331\n",
      " 0.2707161  0.06886721]\n",
      "3000 [0.0005214  0.07767574 0.15774539 0.14330043 0.27656302 0.1295876\n",
      " 0.26571178 0.06603859]\n",
      "3100 [0.00047184 0.07551263 0.15358718 0.13946158 0.26964363 0.12665366\n",
      " 0.2608731  0.06337717]\n",
      "3200 [0.00042811 0.0734618  0.14963445 0.13581598 0.2630534  0.12384325\n",
      " 0.25619245 0.06087075]\n",
      "3300 [0.00038938 0.07151464 0.14587305 0.13234945 0.25676805 0.12114923\n",
      " 0.25166538 0.05850792]\n",
      "3400 [0.00035494 0.06966364 0.1422897  0.1290493  0.2507688  0.11856506\n",
      " 0.24728222 0.05627821]\n",
      "3500 [0.00032432 0.06790198 0.1388717  0.1259042  0.24503672 0.11608447\n",
      " 0.24303807 0.05417216]\n",
      "3600 [0.00029691 0.06622337 0.13560897 0.12290374 0.23955421 0.11370157\n",
      " 0.23892696 0.05218092]\n",
      "3700 [0.00027236 0.06462206 0.13249084 0.12003805 0.23430596 0.11141077\n",
      " 0.2349429  0.05029636]\n",
      "3800 [0.00025043 0.06309293 0.12950823 0.11729834 0.22927752 0.10920749\n",
      " 0.23108144 0.04851124]\n",
      "3900 [0.00023052 0.06163142 0.1266528  0.11467697 0.22445524 0.10708652\n",
      " 0.22733589 0.04681907]\n",
      "4000 [2.12765939e-04 6.02332018e-02 1.23916760e-01 1.12166256e-01\n",
      " 2.19827473e-01 1.05043791e-01 2.23703489e-01 4.52133566e-02]\n",
      "4100 [1.96556794e-04 5.88941686e-02 1.21292539e-01 1.09759569e-01\n",
      " 2.15382636e-01 1.03075184e-01 2.20177799e-01 4.36883681e-02]\n",
      "4200 [1.81896830e-04 5.76108508e-02 1.18773833e-01 1.07450925e-01\n",
      " 2.11109772e-01 1.01176582e-01 2.16755688e-01 4.22391035e-02]\n",
      "4300 [1.6866691e-04 5.6379739e-02 1.1635490e-01 1.0523406e-01 2.0700023e-01\n",
      " 9.9344872e-02 2.1343143e-01 4.0860750e-02]\n",
      "4400 [1.5662874e-04 5.5197991e-02 1.1402944e-01 1.0310432e-01 2.0304440e-01\n",
      " 9.7576074e-02 2.1020284e-01 3.9548676e-02]\n",
      "4500 [1.4554395e-04 5.4062728e-02 1.1179227e-01 1.0105613e-01 1.9923346e-01\n",
      " 9.5867731e-02 2.0706536e-01 3.8298789e-02]\n",
      "4600 [1.35531780e-04 5.29711731e-02 1.09638855e-01 9.90853608e-02\n",
      " 1.95561260e-01 9.42165628e-02 2.04014823e-01 3.71072926e-02]\n",
      "4700 [1.2635386e-04 5.1921099e-02 1.0756463e-01 9.7187608e-02 1.9201888e-01\n",
      " 9.2619933e-02 2.0104876e-01 3.5970502e-02]\n",
      "4800 [1.1801023e-04 5.0909907e-02 1.0556514e-01 9.5359296e-02 1.8859987e-01\n",
      " 9.1074839e-02 1.9816412e-01 3.4885257e-02]\n",
      "4900 [1.1026251e-04 4.9935915e-02 1.0363678e-01 9.3596131e-02 1.8529887e-01\n",
      " 8.9579463e-02 1.9535576e-01 3.3848733e-02]\n",
      "[[5.3735025e-04 9.9946195e-01 6.9160939e-07]]\n",
      "[1]\n"
     ]
    }
   ],
   "source": [
    "X = tf.placeholder(tf.float32,shape=[None,4])\n",
    "y = tf.placeholder(tf.float32,shape=[None,3])\n",
    "\n",
    "W = tf.Variable(tf.random_normal([4,3])) # x,y 출력갯수\n",
    "b = tf.Variable(tf.random_normal([3])) # 출력의 갯수\n",
    "\n",
    "# 가설, 비용\n",
    "logit = tf.matmul(X,W)+b\n",
    "hypot = tf.nn.softmax(logit)\n",
    "cost = tf.nn.softmax_cross_entropy_with_logits_v2(logits=logit,labels=y_data)\n",
    "\n",
    "# 최소비용 \n",
    "train = tf.train.GradientDescentOptimizer(learning_rate=0.01).minimize(cost)\n",
    "\n",
    "# ---------------------------------------------------------\n",
    "\n",
    "sess = tf.Session()\n",
    "sess.run(tf.global_variables_initializer())\n",
    "\n",
    "for step in range(5000):\n",
    "    _,c=sess.run([train,cost],feed_dict={X:x_data,y:y_data})\n",
    "    if step%100 ==0 : \n",
    "        print(step,c)\n",
    "        \n",
    "\n",
    "result=sess.run(hypot,feed_dict={X:[[1,11,7,9]]})\n",
    "print(result)\n",
    "print(sess.run(tf.argmax(result,1)))"
   ]
  },
  {
   "cell_type": "markdown",
   "id": "175f07c4",
   "metadata": {},
   "source": [
    "### (3) 사례 1: 동물 분류"
   ]
  },
  {
   "cell_type": "code",
   "execution_count": 59,
   "id": "06de65f8",
   "metadata": {},
   "outputs": [
    {
     "name": "stdout",
     "output_type": "stream",
     "text": [
      "(101, 17)\n",
      "(101, 16) (101, 1)\n",
      "[[0.]\n",
      " [0.]\n",
      " [3.]\n",
      " [0.]\n",
      " [0.]\n",
      " [0.]\n",
      " [0.]\n",
      " [3.]\n",
      " [3.]\n",
      " [0.]\n",
      " [0.]\n",
      " [1.]\n",
      " [3.]\n",
      " [6.]\n",
      " [6.]\n",
      " [6.]\n",
      " [1.]\n",
      " [0.]\n",
      " [3.]\n",
      " [0.]\n",
      " [1.]\n",
      " [1.]\n",
      " [0.]\n",
      " [1.]\n",
      " [5.]\n",
      " [4.]\n",
      " [4.]\n",
      " [0.]\n",
      " [0.]\n",
      " [0.]\n",
      " [5.]\n",
      " [0.]\n",
      " [0.]\n",
      " [1.]\n",
      " [3.]\n",
      " [0.]\n",
      " [0.]\n",
      " [1.]\n",
      " [3.]\n",
      " [5.]\n",
      " [5.]\n",
      " [1.]\n",
      " [5.]\n",
      " [1.]\n",
      " [0.]\n",
      " [0.]\n",
      " [6.]\n",
      " [0.]\n",
      " [0.]\n",
      " [0.]\n",
      " [0.]\n",
      " [5.]\n",
      " [4.]\n",
      " [6.]\n",
      " [0.]\n",
      " [0.]\n",
      " [1.]\n",
      " [1.]\n",
      " [1.]\n",
      " [1.]\n",
      " [3.]\n",
      " [3.]\n",
      " [2.]\n",
      " [0.]\n",
      " [0.]\n",
      " [0.]\n",
      " [0.]\n",
      " [0.]\n",
      " [0.]\n",
      " [0.]\n",
      " [0.]\n",
      " [1.]\n",
      " [6.]\n",
      " [3.]\n",
      " [0.]\n",
      " [0.]\n",
      " [2.]\n",
      " [6.]\n",
      " [1.]\n",
      " [1.]\n",
      " [2.]\n",
      " [6.]\n",
      " [3.]\n",
      " [1.]\n",
      " [0.]\n",
      " [6.]\n",
      " [3.]\n",
      " [1.]\n",
      " [5.]\n",
      " [4.]\n",
      " [2.]\n",
      " [2.]\n",
      " [3.]\n",
      " [0.]\n",
      " [0.]\n",
      " [1.]\n",
      " [0.]\n",
      " [5.]\n",
      " [0.]\n",
      " [6.]\n",
      " [1.]]\n"
     ]
    }
   ],
   "source": [
    "xy = np.loadtxt('data/data-04-zoo.csv',dtype=np.float32,delimiter=',')\n",
    "print(xy.shape)\n",
    "\n",
    "x_data = xy[:,0:-1]\n",
    "y_data = xy[:,[-1]]\n",
    "print(x_data.shape,y_data.shape)\n",
    "print(y_data)"
   ]
  },
  {
   "cell_type": "code",
   "execution_count": 74,
   "id": "f9a30d6a",
   "metadata": {},
   "outputs": [],
   "source": [
    "# 위의 데이터는 원핫인코딩이고 이거는 아니기에 다를 수 밖에 없음(7가지 종류)\n",
    "X = tf.placeholder(tf.float32,shape=[None,16])\n",
    "y = tf.placeholder(tf.int32,shape=[None,1])\n",
    "\n",
    "W = tf.Variable(tf.random_normal([16,7])) # 원핫 인코딩으로 바꾸고 계산해야함.\n",
    "b = tf.Variable(tf.random_normal([7])) \n",
    "\n",
    "# 우선 y 를 OneHot Encoding으로 처리 해줘야 함 \n",
    "y_one_hot = tf.one_hot(y,7)\n",
    "# sess = tf.Session()\n",
    "# print(sess.run(y_one_hot,feed_dict={y:y_data})) --> 1 차원이 됨 \n",
    "y_one_hot = tf.reshape(y_one_hot,[-1,7])\n",
    "\n",
    "# 가설, 비용\n",
    "logit = tf.matmul(X,W)+b\n",
    "hypot = tf.nn.softmax(logit)\n",
    "cost = tf.nn.softmax_cross_entropy_with_logits_v2(logits=logit,labels=y_one_hot)\n",
    "\n",
    "# 최소비용 \n",
    "train = tf.train.GradientDescentOptimizer(learning_rate=0.01).minimize(cost)"
   ]
  },
  {
   "cell_type": "code",
   "execution_count": 75,
   "id": "07cbb338",
   "metadata": {
    "scrolled": true
   },
   "outputs": [
    {
     "name": "stdout",
     "output_type": "stream",
     "text": [
      "0 11.270531\n",
      "100 0.09620222\n",
      "200 0.050705373\n",
      "300 0.03464055\n"
     ]
    }
   ],
   "source": [
    "sess = tf.Session()\n",
    "sess.run(tf.global_variables_initializer())\n",
    "\n",
    "for step in range(301):\n",
    "    _,c=sess.run([train,tf.reduce_mean(cost)],feed_dict={X:x_data,y:y_data})\n",
    "    if step%100 ==0 : \n",
    "        print(step,c)"
   ]
  },
  {
   "cell_type": "code",
   "execution_count": 76,
   "id": "d07bd290",
   "metadata": {},
   "outputs": [
    {
     "data": {
      "text/plain": [
       "1.0"
      ]
     },
     "execution_count": 76,
     "metadata": {},
     "output_type": "execute_result"
    }
   ],
   "source": [
    "preds=tf.argmax(hypot,1)\n",
    "correct=tf.equal(preds,tf.argmax(y_one_hot,1))\n",
    "accuracy=tf.reduce_mean(tf.cast(correct,dtype=tf.float32))\n",
    "sess.run(accuracy,feed_dict={X:x_data,y:y_data})"
   ]
  },
  {
   "cell_type": "markdown",
   "id": "e2dd6076",
   "metadata": {},
   "source": [
    "### (4) 사례 2: MNIST 이미지 데이터셋 "
   ]
  },
  {
   "cell_type": "code",
   "execution_count": 2,
   "id": "72bb2a4b",
   "metadata": {},
   "outputs": [],
   "source": [
    "from tensorflow.examples.tutorials.mnist import input_data"
   ]
  },
  {
   "cell_type": "code",
   "execution_count": 42,
   "id": "02f101ae",
   "metadata": {},
   "outputs": [
    {
     "name": "stdout",
     "output_type": "stream",
     "text": [
      "Extracting data/mnist/train-images-idx3-ubyte.gz\n",
      "Extracting data/mnist/train-labels-idx1-ubyte.gz\n",
      "Extracting data/mnist/t10k-images-idx3-ubyte.gz\n",
      "Extracting data/mnist/t10k-labels-idx1-ubyte.gz\n"
     ]
    },
    {
     "data": {
      "text/plain": [
       "Datasets(train=<tensorflow.contrib.learn.python.learn.datasets.mnist.DataSet object at 0x0000018D54306188>, validation=<tensorflow.contrib.learn.python.learn.datasets.mnist.DataSet object at 0x0000018D54311088>, test=<tensorflow.contrib.learn.python.learn.datasets.mnist.DataSet object at 0x0000018D5433D588>)"
      ]
     },
     "execution_count": 42,
     "metadata": {},
     "output_type": "execute_result"
    }
   ],
   "source": [
    "# 데이터를 자동으로 준비해주고, 원핫인코딩까지 해주는 \n",
    "mnist=input_data.read_data_sets('data/mnist/',one_hot=True)\n",
    "mnist"
   ]
  },
  {
   "cell_type": "code",
   "execution_count": 84,
   "id": "d1984d4b",
   "metadata": {},
   "outputs": [
    {
     "name": "stdout",
     "output_type": "stream",
     "text": [
      "<class 'tensorflow.contrib.learn.python.learn.datasets.base.Datasets'>\n",
      "[[0. 0. 0. ... 1. 0. 0.]\n",
      " [0. 0. 0. ... 0. 0. 0.]\n",
      " [0. 0. 0. ... 0. 0. 0.]\n",
      " ...\n",
      " [0. 0. 0. ... 0. 0. 0.]\n",
      " [0. 0. 0. ... 0. 0. 0.]\n",
      " [0. 0. 0. ... 0. 1. 0.]]\n",
      "55000\n",
      "10000\n",
      "(784,)\n"
     ]
    }
   ],
   "source": [
    "# 데이터 확인해보기\n",
    "print(type(mnist))\n",
    "print(mnist.train.labels)\n",
    "print(mnist.train.num_examples)\n",
    "print(mnist.test.num_examples)\n",
    "print(mnist.train.images[0].shape)"
   ]
  },
  {
   "cell_type": "code",
   "execution_count": 43,
   "id": "829d351d",
   "metadata": {},
   "outputs": [],
   "source": [
    "X = tf.placeholder(tf.float32,shape=[None,28*28])\n",
    "y = tf.placeholder(tf.int32,shape=[None,10])\n",
    "\n",
    "W = tf.Variable(tf.random_normal([28*28,10])) # 원핫 인코딩으로 바꾸고 계산해야함.\n",
    "b = tf.Variable(tf.random_normal([10])) \n",
    "\n",
    "# 가설, 비용\n",
    "logit = tf.matmul(X,W)+b\n",
    "hypot = tf.nn.softmax(logit)\n",
    "cost = tf.nn.softmax_cross_entropy_with_logits_v2(logits=logit,labels=y)\n",
    "\n",
    "# 최소비용 \n",
    "train = tf.train.GradientDescentOptimizer(learning_rate=0.001).minimize(cost)"
   ]
  },
  {
   "cell_type": "code",
   "execution_count": 94,
   "id": "7e812227",
   "metadata": {},
   "outputs": [
    {
     "name": "stdout",
     "output_type": "stream",
     "text": [
      "0 17.310568\n",
      "100 1.1769103\n",
      "200 1.0171628\n",
      "300 0.5031558\n",
      "400 0.47784323\n"
     ]
    }
   ],
   "source": [
    "##### Full Batch\n",
    "sess = tf.Session()\n",
    "sess.run(tf.global_variables_initializer())\n",
    "\n",
    "\n",
    "for step in range(401):\n",
    "    _,c=sess.run([train,tf.reduce_mean(cost)],feed_dict={X:mnist.train.images,\n",
    "                                                         y:mnist.train.labels})\n",
    "    if step%100 ==0 : \n",
    "        print(step,c)"
   ]
  },
  {
   "cell_type": "code",
   "execution_count": 92,
   "id": "420bcf1f",
   "metadata": {},
   "outputs": [
    {
     "data": {
      "text/plain": [
       "0.9197091"
      ]
     },
     "execution_count": 92,
     "metadata": {},
     "output_type": "execute_result"
    }
   ],
   "source": [
    "preds=tf.argmax(hypot,1)\n",
    "correct=tf.equal(preds,tf.argmax(y,1))\n",
    "accuracy=tf.reduce_mean(tf.cast(correct,dtype=tf.float32))\n",
    "sess.run(accuracy,feed_dict={X:mnist.train.images,\n",
    "                             y:mnist.train.labels})"
   ]
  },
  {
   "cell_type": "code",
   "execution_count": 44,
   "id": "9186ba6b",
   "metadata": {},
   "outputs": [
    {
     "name": "stdout",
     "output_type": "stream",
     "text": [
      "549 2.9502943005345084\n",
      "549 1.0598113960569562\n",
      "549 0.8437259337035096\n",
      "549 0.7384440154649997\n",
      "549 0.6719676132364708\n",
      "549 0.625220179476521\n",
      "549 0.5899648502198133\n",
      "549 0.5621651900356466\n",
      "549 0.5390281542322856\n",
      "549 0.519499183432622\n"
     ]
    }
   ],
   "source": [
    "##### mini batch\n",
    "\n",
    "sess = tf.Session()\n",
    "sess.run(tf.global_variables_initializer())\n",
    "\n",
    "training_epochs = 10\n",
    "batch_size = 100\n",
    "\n",
    "for epoch in range(training_epochs):\n",
    "    total_batch = int(mnist.train.num_examples / batch_size)\n",
    "    avg_cost = 0\n",
    "    \n",
    "    for i in range(total_batch):\n",
    "        batch_x, batch_y = mnist.train.next_batch(batch_size)\n",
    "        _, c = sess.run([train, tf.reduce_mean(cost)], \n",
    "                        feed_dict={X:batch_x, y:batch_y})\n",
    "        \n",
    "        avg_cost += c / total_batch\n",
    "        \n",
    "    print(i, avg_cost)"
   ]
  },
  {
   "cell_type": "code",
   "execution_count": 45,
   "id": "2d4026ef",
   "metadata": {},
   "outputs": [
    {
     "data": {
      "text/plain": [
       "0.87929094"
      ]
     },
     "execution_count": 45,
     "metadata": {},
     "output_type": "execute_result"
    }
   ],
   "source": [
    "preds=tf.argmax(hypot,1)\n",
    "correct=tf.equal(preds,tf.argmax(y,1))\n",
    "accuracy=tf.reduce_mean(tf.cast(correct,dtype=tf.float32))\n",
    "sess.run(accuracy,feed_dict={X:mnist.train.images,\n",
    "                             y:mnist.train.labels})"
   ]
  },
  {
   "cell_type": "code",
   "execution_count": 46,
   "id": "caada98e",
   "metadata": {},
   "outputs": [
    {
     "data": {
      "text/plain": [
       "6929"
      ]
     },
     "execution_count": 46,
     "metadata": {},
     "output_type": "execute_result"
    }
   ],
   "source": [
    "import random \n",
    "\n",
    "r= random.randint(0,mnist.test.num_examples-1)\n",
    "r"
   ]
  },
  {
   "cell_type": "code",
   "execution_count": 56,
   "id": "7bcf7ecb",
   "metadata": {},
   "outputs": [
    {
     "name": "stdout",
     "output_type": "stream",
     "text": [
      "Label : 0\n"
     ]
    }
   ],
   "source": [
    "print('Label :', sess.run(tf.argmax(mnist.test.labels[r:r+1,1])))"
   ]
  },
  {
   "cell_type": "code",
   "execution_count": 57,
   "id": "461c426f",
   "metadata": {},
   "outputs": [
    {
     "data": {
      "text/plain": [
       "<matplotlib.image.AxesImage at 0x18d73d55908>"
      ]
     },
     "execution_count": 57,
     "metadata": {},
     "output_type": "execute_result"
    },
    {
     "data": {
      "image/png": "[encoded data removed]",
      "text/plain": [
       "<Figure size 432x288 with 1 Axes>"
      ]
     },
     "metadata": {
      "needs_background": "light"
     },
     "output_type": "display_data"
    }
   ],
   "source": [
    "# 이미지로 그려보기\n",
    "plt.imshow(mnist.test.images[r:r+1].reshape(28,28))"
   ]
  },
  {
   "cell_type": "code",
   "execution_count": 58,
   "id": "f1263adf",
   "metadata": {},
   "outputs": [
    {
     "name": "stdout",
     "output_type": "stream",
     "text": [
      "Prediction : [2]\n"
     ]
    }
   ],
   "source": [
    "print('Prediction :',sess.run(tf.argmax(hypot,1),feed_dict={X:mnist.test.images[r:r+1]}))"
   ]
  },
  {
   "cell_type": "code",
   "execution_count": null,
   "id": "b694ff2e",
   "metadata": {},
   "outputs": [],
   "source": []
  },
  {
   "cell_type": "code",
   "execution_count": null,
   "id": "fc94bdc1",
   "metadata": {},
   "outputs": [],
   "source": []
  },
  {
   "cell_type": "code",
   "execution_count": null,
   "id": "66d6384f",
   "metadata": {},
   "outputs": [],
   "source": []
  },
  {
   "cell_type": "code",
   "execution_count": null,
   "id": "f465d876",
   "metadata": {},
   "outputs": [],
   "source": []
  },
  {
   "cell_type": "code",
   "execution_count": null,
   "id": "905f91e0",
   "metadata": {},
   "outputs": [],
   "source": []
  },
  {
   "cell_type": "code",
   "execution_count": null,
   "id": "30baf58f",
   "metadata": {},
   "outputs": [],
   "source": []
  },
  {
   "cell_type": "code",
   "execution_count": null,
   "id": "908b6a68",
   "metadata": {},
   "outputs": [],
   "source": []
  },
  {
   "cell_type": "code",
   "execution_count": null,
   "id": "0400e5a6",
   "metadata": {},
   "outputs": [],
   "source": []
  },
  {
   "cell_type": "code",
   "execution_count": null,
   "id": "c8de2a7a",
   "metadata": {},
   "outputs": [],
   "source": []
  },
  {
   "cell_type": "code",
   "execution_count": null,
   "id": "49602806",
   "metadata": {},
   "outputs": [],
   "source": []
  },
  {
   "cell_type": "code",
   "execution_count": null,
   "id": "d7662c35",
   "metadata": {},
   "outputs": [],
   "source": []
  }
 ],
 "metadata": {
  "kernelspec": {
   "display_name": "Python 3",
   "language": "python",
   "name": "python3"
  },
  "language_info": {
   "codemirror_mode": {
    "name": "ipython",
    "version": 3
   },
   "file_extension": ".py",
   "mimetype": "text/x-python",
   "name": "python",
   "nbconvert_exporter": "python",
   "pygments_lexer": "ipython3",
   "version": "3.8.8"
  }
 },
 "nbformat": 4,
 "nbformat_minor": 5
}
