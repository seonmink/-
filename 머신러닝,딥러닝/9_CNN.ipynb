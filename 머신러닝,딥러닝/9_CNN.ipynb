{
 "cells": [
  {
   "cell_type": "code",
   "execution_count": 1,
   "id": "0b14b117",
   "metadata": {},
   "outputs": [],
   "source": [
    "import pandas as pd\n",
    "import numpy as np\n",
    "#실제 그래프를 그릴 수 있는 서브 함수\n",
    "import matplotlib.pyplot as plt\n",
    "import seaborn as sns\n",
    "\n",
    "#경고표시 생략(일시적으로 생략하는게 좋음) \n",
    "import warnings\n",
    "warnings.filterwarnings(action='ignore')\n",
    "\n",
    "#한글폰트 지정 \n",
    "import matplotlib.font_manager as fm\n",
    "font_name= fm.FontProperties(fname=\"C:/Windows/Fonts/malgun.ttf\").get_name()\n",
    "plt.rc(\"font\",family=font_name)\n",
    "\n",
    "import matplotlib as mpl\n",
    "mpl.rcParams['axes.unicode_minus']=False\n",
    "\n",
    "# 머신러닝을 위한 모듈 \n",
    "from sklearn.model_selection import train_test_split\n",
    "\n",
    "import tensorflow as tf"
   ]
  },
  {
   "cell_type": "code",
   "execution_count": 2,
   "id": "6e05a9bf",
   "metadata": {},
   "outputs": [
    {
     "ename": "SyntaxError",
     "evalue": "invalid syntax (Temp/ipykernel_25188/2961494756.py, line 1)",
     "output_type": "error",
     "traceback": [
      "\u001b[1;36m  File \u001b[1;32m\"C:\\Users\\ADMINI~1\\AppData\\Local\\Temp/ipykernel_25188/2961494756.py\"\u001b[1;36m, line \u001b[1;32m1\u001b[0m\n\u001b[1;33m    가장 중요한 변수를 알아서 가져옴\u001b[0m\n\u001b[1;37m         ^\u001b[0m\n\u001b[1;31mSyntaxError\u001b[0m\u001b[1;31m:\u001b[0m invalid syntax\n"
     ]
    }
   ],
   "source": [
    "가장 중요한 변수를 알아서 가져옴 \n",
    "필요한 데이터를 스스로 수집 \n",
    "32X32X3 3은 RGB"
   ]
  },
  {
   "cell_type": "markdown",
   "id": "0c3512ff",
   "metadata": {},
   "source": [
    "## 1. 기본 예제"
   ]
  },
  {
   "cell_type": "markdown",
   "id": "cf2ec97d",
   "metadata": {},
   "source": [
    "### (1) 샘플 1 \n",
    "\n",
    "+ 3 * 3 * 1 * 1 이미지 준비\n",
    "+ 2 * 2 * 1 필터 준비"
   ]
  },
  {
   "cell_type": "code",
   "execution_count": 3,
   "id": "93d91aa1",
   "metadata": {},
   "outputs": [
    {
     "name": "stdout",
     "output_type": "stream",
     "text": [
      "(1, 3, 3, 1)\n"
     ]
    },
    {
     "data": {
      "text/plain": [
       "<matplotlib.image.AxesImage at 0x1a8bd58c948>"
      ]
     },
     "execution_count": 3,
     "metadata": {},
     "output_type": "execute_result"
    },
    {
     "data": {
      "image/png": "[encoded data removed]",
      "text/plain": [
       "<Figure size 432x288 with 1 Axes>"
      ]
     },
     "metadata": {
      "needs_background": "light"
     },
     "output_type": "display_data"
    }
   ],
   "source": [
    "image = np.array([[ [[1],[2],[3]],\n",
    "                [[4],[5],[6]],\n",
    "                [[7],[8],[9]]]], dtype=np.float32)\n",
    "print(image.shape)\n",
    "plt.imshow(image.reshape(3,3),cmap='Greys')"
   ]
  },
  {
   "cell_type": "code",
   "execution_count": 4,
   "id": "516eef48",
   "metadata": {},
   "outputs": [
    {
     "name": "stdout",
     "output_type": "stream",
     "text": [
      "(2, 2, 1, 1)\n",
      "WARNING:tensorflow:From C:\\Users\\ADMINI~1\\AppData\\Local\\Temp/ipykernel_25188/3816382894.py:8: The name tf.Session is deprecated. Please use tf.compat.v1.Session instead.\n",
      "\n",
      "(1, 2, 2, 1)\n",
      "[[12. 16.]\n",
      " [24. 28.]]\n"
     ]
    },
    {
     "data": {
      "image/png": "[encoded data removed]",
      "text/plain": [
       "<Figure size 432x288 with 1 Axes>"
      ]
     },
     "metadata": {
      "needs_background": "light"
     },
     "output_type": "display_data"
    }
   ],
   "source": [
    "# 필터 = 가중치\n",
    "# 패딩 = 이미지가 작아지는 것을 방지하는 것 \n",
    "filter = tf.constant([[ [[1.]],[[1.] ]],\n",
    "                      [[[1.]],[[1.]]]])\n",
    "print(filter.shape)\n",
    "\n",
    "conv2d= tf.nn.conv2d(image, filter, strides=[1,1,1,1],padding='VALID') # 처음과 끝은 무조건 1 ,padding='VALID' --> 패딩 안한다\n",
    "sess = tf.Session()\n",
    "conv2d_img = sess.run(conv2d)\n",
    "print(conv2d_img.shape)\n",
    "\n",
    "conv2d_img =np.swapaxes(conv2d_img,0,3)\n",
    "for i, one_img in enumerate(conv2d_img):\n",
    "    print(one_img.reshape(2,2))\n",
    "    plt.subplot(1,2,i+1)\n",
    "    plt.imshow(one_img.reshape(2,2),cmap='Greys')"
   ]
  },
  {
   "cell_type": "code",
   "execution_count": 5,
   "id": "5d7ada00",
   "metadata": {},
   "outputs": [
    {
     "name": "stdout",
     "output_type": "stream",
     "text": [
      "(2, 2, 1, 1)\n",
      "(1, 3, 3, 1)\n",
      "[[12. 16.  9.]\n",
      " [24. 28. 15.]\n",
      " [15. 17.  9.]]\n"
     ]
    },
    {
     "data": {
      "image/png": "[encoded data removed]",
      "text/plain": [
       "<Figure size 432x288 with 1 Axes>"
      ]
     },
     "metadata": {
      "needs_background": "light"
     },
     "output_type": "display_data"
    }
   ],
   "source": [
    "##### padding을 이용한 Convolution Layer 추출 \n",
    "filter = tf.constant([[ [[1.]],[[1.] ]],\n",
    "                      [[[1.]],[[1.]]]])\n",
    "print(filter.shape)\n",
    "\n",
    "conv2d= tf.nn.conv2d(image, filter, strides=[1,1,1,1],padding='SAME') # 패딩 하겠다.\n",
    "sess = tf.Session()\n",
    "conv2d_img = sess.run(conv2d)\n",
    "print(conv2d_img.shape)\n",
    "\n",
    "conv2d_img =np.swapaxes(conv2d_img,0,3)\n",
    "for i, one_img in enumerate(conv2d_img):\n",
    "    print(one_img.reshape(3,3))\n",
    "    plt.subplot(1,2,i+1)\n",
    "    plt.imshow(one_img.reshape(3,3),cmap='Greys') # 이미지 크기는 그대로니까 \n",
    "    # 이미지 크기는 바뀌지 않으면서 특징을 가져오는 \n",
    "    # 패딩을 하는 것은 원본 이미지 크기와 동일하게 가겠다. "
   ]
  },
  {
   "cell_type": "markdown",
   "id": "32e71e71",
   "metadata": {},
   "source": [
    "+ 3개의 필터 사용 :2 * 2 * 1 * 3"
   ]
  },
  {
   "cell_type": "code",
   "execution_count": 6,
   "id": "92f48d9d",
   "metadata": {},
   "outputs": [
    {
     "name": "stdout",
     "output_type": "stream",
     "text": [
      "(2, 2, 1, 3)\n",
      "(1, 3, 3, 3)\n",
      "[[12. 16.  9.]\n",
      " [24. 28. 15.]\n",
      " [15. 17.  9.]]\n",
      "[[120. 160.  90.]\n",
      " [240. 280. 150.]\n",
      " [150. 170.  90.]]\n",
      "[[-12. -16.  -9.]\n",
      " [-24. -28. -15.]\n",
      " [-15. -17.  -9.]]\n"
     ]
    },
    {
     "data": {
      "image/png": "[encoded data removed]",
      "text/plain": [
       "<Figure size 432x288 with 3 Axes>"
      ]
     },
     "metadata": {
      "needs_background": "light"
     },
     "output_type": "display_data"
    }
   ],
   "source": [
    "filter = tf.constant([[ [[1.,10,-1]],[[1.,10,-1] ]],\n",
    "                      [[[1.,10,-1]],[[1.,10,-1]]]])\n",
    "print(filter.shape)\n",
    "\n",
    "conv2d= tf.nn.conv2d(image, filter, strides=[1,1,1,1],padding='SAME')\n",
    "sess = tf.Session()\n",
    "conv2d_img = sess.run(conv2d)\n",
    "print(conv2d_img.shape)\n",
    "\n",
    "conv2d_img =np.swapaxes(conv2d_img,0,3)\n",
    "for i, one_img in enumerate(conv2d_img):\n",
    "    print(one_img.reshape(3,3))\n",
    "    plt.subplot(1,3,i+1)\n",
    "    plt.imshow(one_img.reshape(3,3),cmap='Greys')\n"
   ]
  },
  {
   "cell_type": "markdown",
   "id": "370a269b",
   "metadata": {},
   "source": [
    "+ MaxPooling : 2 * 2 필터 \n",
    "+ padding 없음 "
   ]
  },
  {
   "cell_type": "code",
   "execution_count": 7,
   "id": "d7bc03ad",
   "metadata": {},
   "outputs": [
    {
     "name": "stdout",
     "output_type": "stream",
     "text": [
      "(1, 2, 2, 1)\n",
      "WARNING:tensorflow:From C:\\Users\\ADMINI~1\\AppData\\Local\\Temp/ipykernel_25188/2578830061.py:5: The name tf.nn.max_pool is deprecated. Please use tf.nn.max_pool2d instead.\n",
      "\n",
      "(1, 1, 1, 1)\n",
      "[[[[4]]]]\n"
     ]
    }
   ],
   "source": [
    "image2 = tf.constant([[[[4],[3]],\n",
    "                      [[2], [1]]]])\n",
    "print(image2.shape)\n",
    "\n",
    "pool=tf.nn.max_pool(image2,ksize=[1,2,2,1],strides =[1,1,1,1],padding='VALID')\n",
    "\n",
    "sedd = tf.Session()\n",
    "p = sess.run(pool)\n",
    "print(p.shape)\n",
    "print(p)"
   ]
  },
  {
   "cell_type": "code",
   "execution_count": 8,
   "id": "86d4435a",
   "metadata": {},
   "outputs": [
    {
     "name": "stdout",
     "output_type": "stream",
     "text": [
      "(1, 2, 2, 1)\n",
      "(1, 2, 2, 1)\n",
      "[[[[4]\n",
      "   [3]]\n",
      "\n",
      "  [[2]\n",
      "   [1]]]]\n"
     ]
    }
   ],
   "source": [
    "image2 = tf.constant([[[[4],[3]],\n",
    "                      [[2], [1]]]])\n",
    "print(image2.shape)\n",
    "\n",
    "pool=tf.nn.max_pool(image2,ksize=[1,2,2,1],strides =[1,1,1,1],padding='SAME')\n",
    "\n",
    "sedd = tf.Session()\n",
    "p = sess.run(pool)\n",
    "print(p.shape)\n",
    "print(p)"
   ]
  },
  {
   "cell_type": "markdown",
   "id": "b5f57fc8",
   "metadata": {},
   "source": [
    "## 2. 응용 예제 1:ㅡMNIST를 이용한 Simple CNN"
   ]
  },
  {
   "cell_type": "code",
   "execution_count": 2,
   "id": "45e15bd3",
   "metadata": {},
   "outputs": [
    {
     "name": "stdout",
     "output_type": "stream",
     "text": [
      "WARNING:tensorflow:From C:\\Users\\ADMINI~1\\AppData\\Local\\Temp/ipykernel_15516/3011945775.py:2: read_data_sets (from tensorflow.contrib.learn.python.learn.datasets.mnist) is deprecated and will be removed in a future version.\n",
      "Instructions for updating:\n",
      "Please use alternatives such as official/mnist/dataset.py from tensorflow/models.\n",
      "WARNING:tensorflow:From C:\\ProgramData\\Anaconda3\\envs\\tf1\\lib\\site-packages\\tensorflow_core\\contrib\\learn\\python\\learn\\datasets\\mnist.py:260: maybe_download (from tensorflow.contrib.learn.python.learn.datasets.base) is deprecated and will be removed in a future version.\n",
      "Instructions for updating:\n",
      "Please write your own downloading logic.\n",
      "WARNING:tensorflow:From C:\\ProgramData\\Anaconda3\\envs\\tf1\\lib\\site-packages\\tensorflow_core\\contrib\\learn\\python\\learn\\datasets\\mnist.py:262: extract_images (from tensorflow.contrib.learn.python.learn.datasets.mnist) is deprecated and will be removed in a future version.\n",
      "Instructions for updating:\n",
      "Please use tf.data to implement this functionality.\n",
      "Extracting data/mnist\\train-images-idx3-ubyte.gz\n",
      "WARNING:tensorflow:From C:\\ProgramData\\Anaconda3\\envs\\tf1\\lib\\site-packages\\tensorflow_core\\contrib\\learn\\python\\learn\\datasets\\mnist.py:267: extract_labels (from tensorflow.contrib.learn.python.learn.datasets.mnist) is deprecated and will be removed in a future version.\n",
      "Instructions for updating:\n",
      "Please use tf.data to implement this functionality.\n",
      "Extracting data/mnist\\train-labels-idx1-ubyte.gz\n",
      "WARNING:tensorflow:From C:\\ProgramData\\Anaconda3\\envs\\tf1\\lib\\site-packages\\tensorflow_core\\contrib\\learn\\python\\learn\\datasets\\mnist.py:110: dense_to_one_hot (from tensorflow.contrib.learn.python.learn.datasets.mnist) is deprecated and will be removed in a future version.\n",
      "Instructions for updating:\n",
      "Please use tf.one_hot on tensors.\n",
      "Extracting data/mnist\\t10k-images-idx3-ubyte.gz\n",
      "Extracting data/mnist\\t10k-labels-idx1-ubyte.gz\n",
      "WARNING:tensorflow:From C:\\ProgramData\\Anaconda3\\envs\\tf1\\lib\\site-packages\\tensorflow_core\\contrib\\learn\\python\\learn\\datasets\\mnist.py:290: DataSet.__init__ (from tensorflow.contrib.learn.python.learn.datasets.mnist) is deprecated and will be removed in a future version.\n",
      "Instructions for updating:\n",
      "Please use alternatives such as official/mnist/dataset.py from tensorflow/models.\n"
     ]
    }
   ],
   "source": [
    "from tensorflow.examples.tutorials.mnist import input_data\n",
    "mnist = input_data.read_data_sets('data/mnist',one_hot=True)"
   ]
  },
  {
   "cell_type": "code",
   "execution_count": 3,
   "id": "d4e9f5b4",
   "metadata": {},
   "outputs": [
    {
     "name": "stdout",
     "output_type": "stream",
     "text": [
      "(784,)\n"
     ]
    },
    {
     "data": {
      "text/plain": [
       "<matplotlib.image.AxesImage at 0x22be33b6a48>"
      ]
     },
     "execution_count": 3,
     "metadata": {},
     "output_type": "execute_result"
    },
    {
     "data": {
      "image/png": "[encoded data removed]",
      "text/plain": [
       "<Figure size 432x288 with 1 Axes>"
      ]
     },
     "metadata": {
      "needs_background": "light"
     },
     "output_type": "display_data"
    }
   ],
   "source": [
    "##### 데이터 확인 \n",
    "img = mnist.train.images[0]\n",
    "print(img.shape)\n",
    "\n",
    "plt.imshow(img.reshape(28,28)) # 이차원으로 불러와야하니까 28,28 "
   ]
  },
  {
   "cell_type": "code",
   "execution_count": 4,
   "id": "aa7aba8d",
   "metadata": {},
   "outputs": [
    {
     "name": "stdout",
     "output_type": "stream",
     "text": [
      "WARNING:tensorflow:From C:\\Users\\ADMINI~1\\AppData\\Local\\Temp/ipykernel_15516/3244644935.py:1: The name tf.reset_default_graph is deprecated. Please use tf.compat.v1.reset_default_graph instead.\n",
      "\n",
      "WARNING:tensorflow:From C:\\Users\\ADMINI~1\\AppData\\Local\\Temp/ipykernel_15516/3244644935.py:2: The name tf.placeholder is deprecated. Please use tf.compat.v1.placeholder instead.\n",
      "\n"
     ]
    }
   ],
   "source": [
    "tf.reset_default_graph()\n",
    "X = tf.placeholder(tf.float32,shape=[None,784])\n",
    "y = tf.placeholder(tf.float32,shape=[None,10])\n"
   ]
  },
  {
   "cell_type": "markdown",
   "id": "3173798a",
   "metadata": {},
   "source": [
    "### (1) 첫번째 Convolution Layer\n",
    "\n",
    "+ 필터\n",
    "    - 크기 : 3 * 3 \n",
    "    - 갯수 : 32 \n",
    "    - 색상 수: 1"
   ]
  },
  {
   "cell_type": "code",
   "execution_count": 5,
   "id": "f451d91c",
   "metadata": {},
   "outputs": [
    {
     "name": "stdout",
     "output_type": "stream",
     "text": [
      "WARNING:tensorflow:From C:\\Users\\ADMINI~1\\AppData\\Local\\Temp/ipykernel_15516/3607428694.py:5: The name tf.random_normal is deprecated. Please use tf.random.normal instead.\n",
      "\n",
      "Tensor(\"Conv2D:0\", shape=(?, 28, 28, 32), dtype=float32)\n",
      "Tensor(\"Relu:0\", shape=(?, 28, 28, 32), dtype=float32)\n"
     ]
    }
   ],
   "source": [
    "# 원본이미지 준비 \n",
    "origin_X = tf.reshape(X,[-1,28,28,1])\n",
    "\n",
    "# 필터 준비 \n",
    "W1 = tf.Variable(tf.random_normal([3,3,1,32]))\n",
    "\n",
    "# Convolution Layer : stride = 1칸 ,패딩 있음 \n",
    "layer1 = tf.nn.conv2d(origin_X,W1,strides=[1,1,1,1],padding='SAME')\n",
    "print(layer1)\n",
    "\n",
    "layer1 = tf.nn.relu(layer1)\n",
    "print(layer1)"
   ]
  },
  {
   "cell_type": "markdown",
   "id": "7ae5caa2",
   "metadata": {},
   "source": [
    "### (2) 첫 번째 pooling\n",
    "\n",
    "+ 필터크기 : 2*2 \n",
    "+ stride : 2 \n",
    "+ paddin 사용 "
   ]
  },
  {
   "cell_type": "code",
   "execution_count": 6,
   "id": "1eec59ba",
   "metadata": {},
   "outputs": [
    {
     "name": "stdout",
     "output_type": "stream",
     "text": [
      "WARNING:tensorflow:From C:\\Users\\ADMINI~1\\AppData\\Local\\Temp/ipykernel_15516/3072360171.py:1: The name tf.nn.max_pool is deprecated. Please use tf.nn.max_pool2d instead.\n",
      "\n",
      "Tensor(\"MaxPool:0\", shape=(?, 14, 14, 32), dtype=float32)\n"
     ]
    }
   ],
   "source": [
    "layer1 = tf.nn.max_pool(layer1,ksize=[1,2,2,1],strides =[1,2,2,1],padding='SAME')\n",
    "print(layer1)"
   ]
  },
  {
   "cell_type": "markdown",
   "id": "f2e8a24a",
   "metadata": {},
   "source": [
    "### (3) 두 번째 Convolution Layer \n",
    "\n",
    "+ 필터 : 3*3\n",
    "+ 갯수:,64\n",
    "+ 색상수: 1"
   ]
  },
  {
   "cell_type": "code",
   "execution_count": 7,
   "id": "7764beed",
   "metadata": {},
   "outputs": [
    {
     "name": "stdout",
     "output_type": "stream",
     "text": [
      "Tensor(\"Conv2D_1:0\", shape=(?, 14, 14, 64), dtype=float32)\n",
      "Tensor(\"Relu_1:0\", shape=(?, 14, 14, 64), dtype=float32)\n"
     ]
    }
   ],
   "source": [
    "# 필터 준비 \n",
    "W2 = tf.Variable(tf.random_normal([3,3,32,64],stddev = 0.01))\n",
    "\n",
    "# convolution layer\n",
    "layer2 = tf.nn.conv2d(layer1,W2,strides=[1,1,1,1],padding = 'SAME')\n",
    "print(layer2)\n",
    "\n",
    "layer2 = tf.nn.relu(layer2)\n",
    "print(layer2)\n"
   ]
  },
  {
   "cell_type": "markdown",
   "id": "715bcb7e",
   "metadata": {},
   "source": [
    "### (4) 두 번쨰: pooling \n",
    "+ 필터크기 :2*2 \n",
    "+ stride : 2 \n",
    "+ padding 사용 "
   ]
  },
  {
   "cell_type": "code",
   "execution_count": 8,
   "id": "a28b5e19",
   "metadata": {},
   "outputs": [
    {
     "name": "stdout",
     "output_type": "stream",
     "text": [
      "Tensor(\"MaxPool_1:0\", shape=(?, 7, 7, 64), dtype=float32)\n"
     ]
    }
   ],
   "source": [
    "layer2 = tf.nn.max_pool(layer2,ksize=[1,2,2,1],strides =[1,2,2,1],padding='SAME')\n",
    "print(layer2)"
   ]
  },
  {
   "cell_type": "markdown",
   "id": "08abe4db",
   "metadata": {},
   "source": [
    "### (5) FC(Fully Connected : Dense layer\n"
   ]
  },
  {
   "cell_type": "code",
   "execution_count": 15,
   "id": "53bb5026",
   "metadata": {
    "scrolled": false
   },
   "outputs": [
    {
     "name": "stdout",
     "output_type": "stream",
     "text": [
      "WARNING:tensorflow:From C:\\Users\\ADMINI~1\\AppData\\Local\\Temp/ipykernel_28584/1873759341.py:17: The name tf.train.AdamOptimizer is deprecated. Please use tf.compat.v1.train.AdamOptimizer instead.\n",
      "\n",
      "WARNING:tensorflow:From C:\\Users\\ADMINI~1\\AppData\\Local\\Temp/ipykernel_28584/1873759341.py:21: The name tf.global_variables_initializer is deprecated. Please use tf.compat.v1.global_variables_initializer instead.\n",
      "\n",
      "1 1.4571835539557716\n",
      "2 0.2671777654777874\n",
      "3 0.1969143632460723\n",
      "4 0.16362347000024527\n",
      "5 0.1451091336255724\n",
      "6 0.12317433086308564\n",
      "7 0.11816075295209878\n",
      "8 0.09765431325544012\n",
      "9 0.09381195858798241\n",
      "10 0.08725525946779687\n",
      "11 0.07984087683937767\n",
      "12 0.07364840260283513\n",
      "13 0.06731156578118148\n",
      "14 0.06120944099331444\n",
      "15 0.05703341292048043\n",
      "16 0.055351928274401205\n",
      "17 0.05639814201065085\n",
      "18 0.04729803199456496\n",
      "19 0.04258143213492902\n",
      "20 0.04101778311993587\n"
     ]
    }
   ],
   "source": [
    "##### Hyper Parameter 준비\n",
    "lr = 0.001\n",
    "training_epochs = 20\n",
    "batch_size = 500\n",
    "\n",
    "##### Tensorflow Graph\n",
    "train_X = tf.reshape(layer2, [-1, 7*7*64])\n",
    "\n",
    "W = tf.Variable(tf.random_normal([7*7*64, 10]))\n",
    "b = tf.Variable(tf.random_normal([10]))\n",
    "\n",
    "# 비용\n",
    "logit = tf.matmul(train_X, W) + b\n",
    "cost = tf.reduce_mean(tf.nn.softmax_cross_entropy_with_logits_v2(logits=logit, labels=y))\n",
    "\n",
    "# 최저 비용\n",
    "train = tf.train.AdamOptimizer(learning_rate=lr).minimize(cost)\n",
    "\n",
    "##### Tensor Graph 실행\n",
    "sess = tf.Session()\n",
    "sess.run(tf.global_variables_initializer())\n",
    "\n",
    "for epoch in range(training_epochs):\n",
    "    total_batch = int(mnist.train.num_examples / batch_size)\n",
    "    avg_cost = 0\n",
    "    \n",
    "    for i in range(total_batch):\n",
    "        batch_x, batch_y = mnist.train.next_batch(batch_size)\n",
    "        _, c = sess.run([train, cost], \n",
    "                        feed_dict={X:batch_x, y:batch_y})\n",
    "        \n",
    "        avg_cost += c / total_batch\n",
    "        \n",
    "    print(epoch+1, avg_cost)"
   ]
  },
  {
   "cell_type": "code",
   "execution_count": 16,
   "id": "ffbe2caa",
   "metadata": {},
   "outputs": [
    {
     "data": {
      "text/plain": [
       "0.98945457"
      ]
     },
     "execution_count": 16,
     "metadata": {},
     "output_type": "execute_result"
    }
   ],
   "source": [
    "preds=tf.argmax(logit,1)\n",
    "correct=tf.equal(preds,tf.argmax(y,1))\n",
    "accuracy=tf.reduce_mean(tf.cast(correct,dtype=tf.float32))\n",
    "\n",
    "sess.run(accuracy,feed_dict={X:mnist.train.images, y:mnist.train.labels})"
   ]
  },
  {
   "cell_type": "markdown",
   "id": "1ad3cce5",
   "metadata": {},
   "source": [
    "### (6) Deep & Wide FC\n",
    "+ 레이어는 총 3개 사용, 입출력 갯수는 128개 사용 \n",
    "+ Xavier 초기화 사용 \n",
    "+ dropout 사용(70%)\n",
    "+ traing_epochs : 15\n",
    "+ batch_size : 100"
   ]
  },
  {
   "cell_type": "code",
   "execution_count": 9,
   "id": "1ff79c8e",
   "metadata": {},
   "outputs": [
    {
     "name": "stdout",
     "output_type": "stream",
     "text": [
      "WARNING:tensorflow:From C:\\Users\\ADMINI~1\\AppData\\Local\\Temp/ipykernel_15516/3092929239.py:12: The name tf.get_variable is deprecated. Please use tf.compat.v1.get_variable instead.\n",
      "\n",
      "WARNING:tensorflow:\n",
      "The TensorFlow contrib module will not be included in TensorFlow 2.0.\n",
      "For more information, please see:\n",
      "  * https://github.com/tensorflow/community/blob/master/rfcs/20180907-contrib-sunset.md\n",
      "  * https://github.com/tensorflow/addons\n",
      "  * https://github.com/tensorflow/io (for I/O related ops)\n",
      "If you depend on functionality not listed there, please file an issue.\n",
      "\n",
      "WARNING:tensorflow:From C:\\Users\\ADMINI~1\\AppData\\Local\\Temp/ipykernel_15516/3092929239.py:16: calling dropout (from tensorflow.python.ops.nn_ops) with keep_prob is deprecated and will be removed in a future version.\n",
      "Instructions for updating:\n",
      "Please use `rate` instead of `keep_prob`. Rate should be set to `rate = 1 - keep_prob`.\n",
      "WARNING:tensorflow:From C:\\Users\\ADMINI~1\\AppData\\Local\\Temp/ipykernel_15516/3092929239.py:34: The name tf.train.AdamOptimizer is deprecated. Please use tf.compat.v1.train.AdamOptimizer instead.\n",
      "\n",
      "WARNING:tensorflow:From C:\\Users\\ADMINI~1\\AppData\\Local\\Temp/ipykernel_15516/3092929239.py:37: The name tf.Session is deprecated. Please use tf.compat.v1.Session instead.\n",
      "\n",
      "WARNING:tensorflow:From C:\\Users\\ADMINI~1\\AppData\\Local\\Temp/ipykernel_15516/3092929239.py:38: The name tf.global_variables_initializer is deprecated. Please use tf.compat.v1.global_variables_initializer instead.\n",
      "\n",
      "1 0.3210103149441157\n",
      "2 0.09413264829665419\n",
      "3 0.07038463924503464\n",
      "4 0.054899519315751454\n",
      "5 0.0449407199719413\n",
      "6 0.03936510086525233\n",
      "7 0.03528035564231688\n",
      "8 0.03247851109023693\n",
      "9 0.028888112105090513\n",
      "10 0.02444640067898117\n",
      "11 0.025419241714566436\n",
      "12 0.022229327186254207\n",
      "13 0.020268993018689802\n",
      "14 0.017680415187079985\n",
      "15 0.01599091523148343\n"
     ]
    }
   ],
   "source": [
    "##### Hyper Parameter 준비\n",
    "lr = 0.001\n",
    "training_epochs = 15\n",
    "batch_size = 100\n",
    "prob = tf.placeholder(tf.float32)\n",
    "\n",
    "##### Tensorflow Graph\n",
    "train_X = tf.reshape(layer2, [-1, 7*7*64])\n",
    "\n",
    "\n",
    "# Layer1\n",
    "W1 = tf.get_variable(\"W1\", shape=[7*7*64, 128], initializer=tf.contrib.layers.xavier_initializer())\n",
    "b1 = tf.Variable(tf.random_normal([128]))\n",
    "logit1 = tf.matmul(train_X, W1) + b1\n",
    "train_X = tf.nn.relu(logit1)\n",
    "l1 = tf.nn.dropout(train_X, keep_prob=prob)\n",
    "\n",
    "# Layer2\n",
    "W2 = tf.get_variable(\"W2\", shape=[128, 128], initializer=tf.contrib.layers.xavier_initializer())\n",
    "b2 = tf.Variable(tf.random_normal([128]))\n",
    "logit2 = tf.matmul(l1, W2) + b2\n",
    "l2 = tf.nn.relu(logit2)\n",
    "l2 = tf.nn.dropout(l2, keep_prob=prob)\n",
    "\n",
    "# Layer3\n",
    "W_out = tf.get_variable(\"W_out\", shape=[128, 10], initializer=tf.contrib.layers.xavier_initializer())\n",
    "b_out = tf.Variable(tf.random_normal([10]))\n",
    "logit = tf.matmul(l2, W_out) + b_out\n",
    "\n",
    "# 비용\n",
    "cost = tf.reduce_mean(tf.nn.softmax_cross_entropy_with_logits_v2(logits=logit, labels=y))\n",
    "\n",
    "# 최저 비용\n",
    "train = tf.train.AdamOptimizer(learning_rate=lr).minimize(cost)\n",
    "\n",
    "##### Tensor Graph 실행\n",
    "sess = tf.Session()\n",
    "sess.run(tf.global_variables_initializer())\n",
    "\n",
    "for epoch in range(training_epochs):\n",
    "    total_batch = int(mnist.train.num_examples / batch_size)\n",
    "    avg_cost = 0\n",
    "    \n",
    "    for i in range(total_batch):\n",
    "        batch_x, batch_y = mnist.train.next_batch(batch_size)\n",
    "        _, c = sess.run([train, cost], \n",
    "                        feed_dict={X:batch_x, y:batch_y, prob:0.7})\n",
    "        \n",
    "        avg_cost += c / total_batch\n",
    "        \n",
    "    print(epoch+1, avg_cost)"
   ]
  },
  {
   "cell_type": "code",
   "execution_count": 12,
   "id": "f7481722",
   "metadata": {},
   "outputs": [
    {
     "ename": "SyntaxError",
     "evalue": "invalid syntax (Temp/ipykernel_15516/2072937192.py, line 5)",
     "output_type": "error",
     "traceback": [
      "\u001b[1;36m  File \u001b[1;32m\"C:\\Users\\ADMINI~1\\AppData\\Local\\Temp/ipykernel_15516/2072937192.py\"\u001b[1;36m, line \u001b[1;32m5\u001b[0m\n\u001b[1;33m    sess.run(accuracy,feed_dict={X:mnist.train.images, y:mnist.train.labels},prob:1.0)\u001b[0m\n\u001b[1;37m                                                                                 ^\u001b[0m\n\u001b[1;31mSyntaxError\u001b[0m\u001b[1;31m:\u001b[0m invalid syntax\n"
     ]
    }
   ],
   "source": [
    "preds=tf.argmax(logit,1)\n",
    "correct=tf.equal(preds,tf.argmax(y,1))\n",
    "accuracy=tf.reduce_mean(tf.cast(correct,dtype=tf.float32))\n",
    "\n",
    "sess.run(accuracy,feed_dict={X:mnist.train.images, y:mnist.train.labels},prob:1.0)"
   ]
  },
  {
   "cell_type": "markdown",
   "id": "c3fed977",
   "metadata": {},
   "source": [
    "## 3. 응용 예제2 : 교통 표지만을 이용한 CNN\n",
    "\n",
    "+ https://benchmark.ini.rub.de/gtsrb_dataset.html\n",
    "        - GTSRB_Final_Test_Image.zip\n",
    "         -  GTSRB_FinalTraing_Image.zip\n",
    "         \n",
    "+ simple cnn\n",
    "    -이밎미지(2*32) ->Conv Layer1(Pooling) --->Conv Leter2(Pooling) -< FC"
   ]
  },
  {
   "cell_type": "markdown",
   "id": "1521be15",
   "metadata": {},
   "source": [
    "### (1) 이미지 전처리와 데이터 준비 "
   ]
  },
  {
   "cell_type": "code",
   "execution_count": 2,
   "id": "8ce21b7e",
   "metadata": {},
   "outputs": [],
   "source": [
    "import glob\n",
    "from skimage.color import rgb2lab\n",
    "from skimage.transform import resize \n",
    "from collections import namedtuple\n",
    "np.random.seed(101)"
   ]
  },
  {
   "cell_type": "code",
   "execution_count": 3,
   "id": "e75e4fb1",
   "metadata": {},
   "outputs": [],
   "source": [
    "##### 상수 정의\n",
    "N_CLASSES = 43\n",
    "RESIZED_IMAGE = (32,32)"
   ]
  },
  {
   "cell_type": "code",
   "execution_count": 4,
   "id": "e124fa97",
   "metadata": {},
   "outputs": [],
   "source": [
    "# 값의 수정을 방지하기 위해\n",
    "Dataset=namedtuple('Dataset',['X','y']) #  상수해 벌이는"
   ]
  },
  {
   "cell_type": "code",
   "execution_count": 8,
   "id": "f8fecc3e",
   "metadata": {},
   "outputs": [
    {
     "name": "stdout",
     "output_type": "stream",
     "text": [
      "(39209, 32, 32, 1)\n",
      "(39209, 43)\n"
     ]
    }
   ],
   "source": [
    "##### 이미지 크기 재조정하고 색상은 회색조로 변경, one-hot encoding\n",
    "\n",
    "def to_tf_format(imgs):\n",
    "    return np.stack([img[:, :, np.newaxis] for img in imgs], axis=0).astype(np.float32)\n",
    "\n",
    "def read_ppm(data, n_labels, resize_to):\n",
    "    images = []\n",
    "    labels = []\n",
    "    \n",
    "    for c in range(n_labels):\n",
    "        full_path = data + \"/\" + format(c, '05d') + \"/\"\n",
    "        \n",
    "        for img_name in glob.glob(full_path + \"*.ppm\"):\n",
    "            img = plt.imread(img_name).astype(np.float32)\n",
    "\n",
    "            img = rgb2lab(img/255.0)[:, :, 0]\n",
    "            \n",
    "            img = resize(img, resize_to, mode=\"reflect\")\n",
    "            \n",
    "            label = np.zeros((n_labels,), dtype=np.float32)\n",
    "            label[c] = 1.0\n",
    "            \n",
    "            images.append(img.astype(np.float32))\n",
    "            labels.append(label)\n",
    "            \n",
    "    return Dataset(X=to_tf_format(images), y=np.array(labels))\n",
    "# --------------------------------------------------\n",
    "\n",
    "ds = read_ppm(\"data/GTSRB/Final_Training/Images\", N_CLASSES, RESIZED_IMAGE)\n",
    "print(ds.X.shape)\n",
    "print(ds.y.shape)"
   ]
  },
  {
   "cell_type": "code",
   "execution_count": null,
   "id": "8ba86860",
   "metadata": {},
   "outputs": [],
   "source": [
    "jupyter notebook --NotebookApp.iopub_data_rate_limit=1.0e10"
   ]
  },
  {
   "cell_type": "code",
   "execution_count": 9,
   "id": "6f1be9bb",
   "metadata": {},
   "outputs": [
    {
     "name": "stdout",
     "output_type": "stream",
     "text": [
      "[1. 0. 0. 0. 0. 0. 0. 0. 0. 0. 0. 0. 0. 0. 0. 0. 0. 0. 0. 0. 0. 0. 0. 0.\n",
      " 0. 0. 0. 0. 0. 0. 0. 0. 0. 0. 0. 0. 0. 0. 0. 0. 0. 0. 0.]\n",
      "[0. 0. 0. 0. 0. 0. 0. 0. 0. 0. 0. 0. 0. 0. 0. 0. 0. 0. 0. 0. 0. 0. 0. 0.\n",
      " 0. 0. 0. 0. 0. 0. 0. 0. 0. 0. 0. 0. 0. 0. 0. 0. 0. 0. 1.]\n"
     ]
    },
    {
     "data": {
      "image/png": "[encoded data removed]",
      "text/plain": [
       "<Figure size 432x288 with 1 Axes>"
      ]
     },
     "metadata": {
      "needs_background": "light"
     },
     "output_type": "display_data"
    }
   ],
   "source": [
    "##### 전처리된 이미지 확인 \n",
    "\n",
    "plt.imshow(ds.X[0,:,:,:].reshape(RESIZED_IMAGE))\n",
    "print(ds.y[0,:])\n",
    "\n",
    "# 마지막 이미지 가져오기 \n",
    "plt.imshow(ds.X[-1,:,:,:].reshape(RESIZED_IMAGE))\n",
    "print(ds.y[-1,:])"
   ]
  },
  {
   "cell_type": "code",
   "execution_count": 12,
   "id": "446e78d5",
   "metadata": {},
   "outputs": [
    {
     "name": "stdout",
     "output_type": "stream",
     "text": [
      "29406 9803\n"
     ]
    },
    {
     "ename": "AttributeError",
     "evalue": "'list' object has no attribute 'shape'",
     "output_type": "error",
     "traceback": [
      "\u001b[1;31m---------------------------------------------------------------------------\u001b[0m",
      "\u001b[1;31mAttributeError\u001b[0m                            Traceback (most recent call last)",
      "\u001b[1;32mC:\\Users\\ADMINI~1\\AppData\\Local\\Temp/ipykernel_19516/2787350745.py\u001b[0m in \u001b[0;36m<module>\u001b[1;34m\u001b[0m\n\u001b[0;32m      9\u001b[0m \u001b[0mprint\u001b[0m\u001b[1;33m(\u001b[0m\u001b[0mlen\u001b[0m\u001b[1;33m(\u001b[0m\u001b[0mX_train\u001b[0m\u001b[1;33m)\u001b[0m\u001b[1;33m,\u001b[0m\u001b[0mlen\u001b[0m\u001b[1;33m(\u001b[0m\u001b[0mX_test\u001b[0m\u001b[1;33m)\u001b[0m\u001b[1;33m)\u001b[0m\u001b[1;33m\u001b[0m\u001b[1;33m\u001b[0m\u001b[0m\n\u001b[0;32m     10\u001b[0m \u001b[0mtype\u001b[0m\u001b[1;33m(\u001b[0m\u001b[0mX_train\u001b[0m\u001b[1;33m)\u001b[0m\u001b[1;33m\u001b[0m\u001b[1;33m\u001b[0m\u001b[0m\n\u001b[1;32m---> 11\u001b[1;33m \u001b[0mX_train\u001b[0m\u001b[1;33m.\u001b[0m\u001b[0mshape\u001b[0m\u001b[1;33m\u001b[0m\u001b[1;33m\u001b[0m\u001b[0m\n\u001b[0m",
      "\u001b[1;31mAttributeError\u001b[0m: 'list' object has no attribute 'shape'"
     ]
    }
   ],
   "source": [
    "##### 훈련 데이터와 테스트 데이터의 분히 \n",
    "\n",
    "from sklearn.model_selection import train_test_split\n",
    "\n",
    "X_train,X_test,y_train,y_test = train_test_split(range(ds.X.shape[0]),ds.y,\n",
    "                                                 test_size=.25, random_state=101)\n",
    "\n",
    "#이렇게 하면 조금 문제가 있음\n",
    "print(len(X_train),len(X_test))\n",
    "type(X_train)\n",
    "X_train.shape#--> 배열로 바꿔야하는 번거로움이 있음"
   ]
  },
  {
   "cell_type": "code",
   "execution_count": 13,
   "id": "61531e01",
   "metadata": {},
   "outputs": [
    {
     "data": {
      "text/plain": [
       "(29406,)"
      ]
     },
     "execution_count": 13,
     "metadata": {},
     "output_type": "execute_result"
    }
   ],
   "source": [
    "np.array(X_train).shape# 이건 또 1차원이야;; 4차원으로 바꿔줘야 함"
   ]
  },
  {
   "cell_type": "code",
   "execution_count": 19,
   "id": "d4db140b",
   "metadata": {},
   "outputs": [
    {
     "name": "stdout",
     "output_type": "stream",
     "text": [
      "29406\n",
      "[271, 23055, 34387, 28229, 26437, 3760, 30266, 11625, 24743, 6505]\n",
      "(29406, 32, 32, 1)\n",
      "(9803, 32, 32, 1)\n",
      "(29406, 43)\n",
      "(9803, 43)\n"
     ]
    }
   ],
   "source": [
    "# 일단 훈련 데이터만 \n",
    "idx_train,idx_test = train_test_split(range(ds.X.shape[0]),test_size=.25, random_state=101)\n",
    "print(len(idx_train))\n",
    "print(idx_train[:10])\n",
    "\n",
    "X_train = ds.X[idx_train,:,:,:]\n",
    "print(X_train.shape)\n",
    "\n",
    "# test 데이터 \n",
    "X_test = ds.X[idx_test,:,:,:]\n",
    "print(X_test.shape)\n",
    "\n",
    "# y 데이터 \n",
    "y_train = ds.y[idx_train,:]\n",
    "print(y_train.shape)\n",
    "\n",
    "y_test = ds.y[idx_test,:]\n",
    "print(y_test.shape)"
   ]
  },
  {
   "cell_type": "markdown",
   "id": "98c4e024",
   "metadata": {},
   "source": [
    "### (2)  훈련을 위한 함수 준비 "
   ]
  },
  {
   "cell_type": "code",
   "execution_count": 24,
   "id": "100412ad",
   "metadata": {},
   "outputs": [],
   "source": [
    "##### 미니 배치 준비 \n",
    "\n",
    "def minibatcher(X,y, batch_size, shuffle):\n",
    "    # 검증을 해봐야 함. x,y 데이터 갯수가 같아야 함. \n",
    "    assert X.shape[0] == y.shape[0]\n",
    "    \n",
    "    n_samples = X.shape[0]\n",
    "    \n",
    "    if shuffle:\n",
    "        idx = np.random.permutation(n_samples)\n",
    "    else:\n",
    "        idx = list(range(n_samples))\n",
    "    \n",
    "    for i in range(int(np.ceil(n_samples/batch_size))):\n",
    "        from_idx = i *batch_size\n",
    "        to_idx = (i+1) * batch_size\n",
    "        \n",
    "        yield X[idx[from_idx:to_idx],:,:,:],y[idx[from_idx:to_idx],:]\n",
    "    "
   ]
  },
  {
   "cell_type": "code",
   "execution_count": 25,
   "id": "9fe20899",
   "metadata": {},
   "outputs": [
    {
     "name": "stdout",
     "output_type": "stream",
     "text": [
      "(10000, 32, 32, 1) (10000, 43)\n",
      "(10000, 32, 32, 1) (10000, 43)\n",
      "(9406, 32, 32, 1) (9406, 43)\n"
     ]
    }
   ],
   "source": [
    "##### 미니 배치 테스트 코드\n",
    "for i in minibatcher(X_train,y_train, 10000,True):\n",
    "    print(i[0].shape,i[1].shape)"
   ]
  },
  {
   "cell_type": "code",
   "execution_count": 59,
   "id": "43a948f3",
   "metadata": {},
   "outputs": [],
   "source": [
    "# W1 = tf.get_variable(\"W1\", shape=[7*7*64, 128], initializer=tf.contrib.layers.xavier_initializer())\n",
    "# b1 = tf.Variable(tf.random_normal([128]))\n",
    "# logit1 = tf.matmul(train_X, W1) + b1\n",
    "\n",
    "def fc_no_activation_layer(in_tensors, n_units):\n",
    "    W = tf.get_variable(\"fc_W\", [in_tensors.get_shape()[1], n_units], \n",
    "                       initializer=tf.contrib.layers.xavier_initializer())\n",
    "    \n",
    "    b = tf.get_variable(\"fc_b\", [n_units], initializer=tf.constant_initializer(0.0))\n",
    "    \n",
    "    return tf.matmul(in_tensors, W) + b"
   ]
  },
  {
   "cell_type": "code",
   "execution_count": 60,
   "id": "0636e7e3",
   "metadata": {},
   "outputs": [],
   "source": [
    "def fc_layer(in_tensors, n_units):\n",
    "    return tf.nn.leaky_relu(fc_no_activation_layer(in_tensors, n_units))"
   ]
  },
  {
   "cell_type": "code",
   "execution_count": 61,
   "id": "68a0d1bc",
   "metadata": {},
   "outputs": [],
   "source": [
    "def conv_layer(in_tensors, kernel_size, n_units):\n",
    "    W = tf.get_variable(\"conv_W\", [kernel_size, kernel_size, in_tensors.get_shape()[3], n_units], \n",
    "                       initializer=tf.contrib.layers.xavier_initializer())\n",
    "    \n",
    "    b = tf.get_variable(\"conv_b\", [n_units], initializer=tf.constant_initializer(0.0))\n",
    "    \n",
    "    conv = tf.nn.conv2d(in_tensors, W, [1, 1, 1, 1], \"SAME\")\n",
    "    \n",
    "    return tf.nn.leaky_relu(conv + b)"
   ]
  },
  {
   "cell_type": "code",
   "execution_count": 62,
   "id": "88d1b895",
   "metadata": {},
   "outputs": [],
   "source": [
    "def maxpool_layer(in_tensors, sampling):\n",
    "    return tf.nn.max_pool(in_tensors, [1, sampling, sampling, 1], \n",
    "                          [1, sampling, sampling, 1], \"SAME\")"
   ]
  },
  {
   "cell_type": "code",
   "execution_count": 63,
   "id": "f15e8358",
   "metadata": {},
   "outputs": [],
   "source": [
    "def dropout(in_tensors, keep_proba, is_training):\n",
    "    return tf.cond(is_training, lambda:tf.nn.dropout(in_tensors, keep_proba), lambda:in_tensors)"
   ]
  },
  {
   "cell_type": "markdown",
   "id": "2daa5359",
   "metadata": {},
   "source": [
    "### (3) Model 구현 \n",
    "\n",
    "+ Specification\n",
    "    - 2차원 Convolutin 5*5,32  필러 \n",
    "    - 2차원 Convolutin 5*5,64  필러 \n",
    "    - 평면화 계층(Flat Layer)\n",
    "    - Full Connected Layer,1024개의 unut\n",
    "    - Dropdout 40%\n",
    "    - softmax\n",
    "    "
   ]
  },
  {
   "cell_type": "code",
   "execution_count": 64,
   "id": "09dd5824",
   "metadata": {},
   "outputs": [],
   "source": [
    "def model(in_tensors, is_training):\n",
    "    # First Layer : 5*5 2d convolution layer, 32 filter, 2x maxpool, 20% dropout\n",
    "    with tf.variable_scope(\"L1\"):\n",
    "        l1 = maxpool_layer(conv_layer(in_tensors, 5, 32), 2)\n",
    "        l1_out = dropout(l1, 0.8, is_training)\n",
    "        \n",
    "    # Second Layer : 5*5 2d convolution layer, 64 filter, 2x maxpool, 20% dropout\n",
    "    with tf.variable_scope(\"L2\"):\n",
    "        l2 = maxpool_layer(conv_layer(l1_out, 5, 64), 2)\n",
    "        l2_out = dropout(l2, 0.8, is_training)\n",
    "        \n",
    "    # Flat Layer\n",
    "    with tf.variable_scope(\"Flatten\"):\n",
    "        l2_out_flat = tf.layers.flatten(l2_out)\n",
    "        \n",
    "    # FC Layer, 1024 neurons, 40% dropout\n",
    "    with tf.variable_scope(\"L3\"):\n",
    "        l3 = fc_layer(l2_out_flat, 1024)\n",
    "        l3_out = dropout(l3, 0.6, is_training)\n",
    "        \n",
    "    # out\n",
    "    with tf.variable_scope(\"out\"):\n",
    "        out_tensors = fc_no_activation_layer(l3_out, N_CLASSES)\n",
    "        \n",
    "    return out_tensors\n",
    "        \n",
    "    "
   ]
  },
  {
   "cell_type": "code",
   "execution_count": 65,
   "id": "79d81cbc",
   "metadata": {},
   "outputs": [],
   "source": [
    "from sklearn.metrics import classification_report, confusion_matrix\n",
    "\n",
    "def train_model(X_train, y_train, lr, max_epochs, batch_size):\n",
    "    in_X_tensors_batch = tf.placeholder(tf.float32, shape=(None, RESIZED_IMAGE[0], \n",
    "                                                           RESIZED_IMAGE[1], 1))\n",
    "    in_y_tensors_batch = tf.placeholder(tf.float32, shape=(None, N_CLASSES))\n",
    "    is_training = tf.placeholder(tf.bool)\n",
    "    \n",
    "    logit = model(in_X_tensors_batch, is_training)\n",
    "    cost = tf.reduce_mean(tf.nn.softmax_cross_entropy_with_logits_v2(logits=logit, \n",
    "                                                                    labels=in_y_tensors_batch))\n",
    "    train = tf.train.AdamOptimizer(learning_rate=lr).minimize(cost)\n",
    "    \n",
    "    with tf.Session() as sess:\n",
    "        sess.run(tf.global_variables_initializer())\n",
    "        \n",
    "        for epoch in range(max_epochs):\n",
    "            print(\"Epoch=\", epoch)\n",
    "            tf_scores = []\n",
    "            \n",
    "            for mb in minibatcher(X_train, y_train, batch_size, shuffle=True):\n",
    "                _, c = sess.run([train, cost], feed_dict={in_X_tensors_batch:mb[0],\n",
    "                                                         in_y_tensors_batch:mb[1],\n",
    "                                                         is_training:True})\n",
    "                tf_scores.append(c)\n",
    "                \n",
    "            print(\"train loss score=\", np.mean(tf_scores))\n",
    "            \n",
    "        # 훈련이 끝나고 난 후 테스트\n",
    "        print(\"TEST SET PERFORMANCE\")\n",
    "        \n",
    "        out_y_pred = tf.nn.softmax(logit)\n",
    "        y_test_pred, test_cost = sess.run([out_y_pred, cost], feed_dict={in_X_tensors_batch:X_test,\n",
    "                                                         in_y_tensors_batch:y_test,\n",
    "                                                         is_training:False})\n",
    "        \n",
    "        print(\"test_loss_score=\", test_cost)\n",
    "        y_test_pred_classified = np.argmax(y_test_pred, axis=1).astype(np.int32)\n",
    "        y_test_true_classified = np.argmax(y_test, axis=1).astype(np.int32)\n",
    "        print(classification_report(y_test_true_classified, y_test_pred_classified))"
   ]
  },
  {
   "cell_type": "code",
   "execution_count": 66,
   "id": "e6e16f07",
   "metadata": {
    "scrolled": true
   },
   "outputs": [
    {
     "name": "stdout",
     "output_type": "stream",
     "text": [
      "WARNING:tensorflow:\n",
      "The TensorFlow contrib module will not be included in TensorFlow 2.0.\n",
      "For more information, please see:\n",
      "  * https://github.com/tensorflow/community/blob/master/rfcs/20180907-contrib-sunset.md\n",
      "  * https://github.com/tensorflow/addons\n",
      "  * https://github.com/tensorflow/io (for I/O related ops)\n",
      "If you depend on functionality not listed there, please file an issue.\n",
      "\n",
      "WARNING:tensorflow:From C:\\Users\\ADMINI~1\\AppData\\Local\\Temp/ipykernel_19516/2019877378.py:2: calling dropout (from tensorflow.python.ops.nn_ops) with keep_prob is deprecated and will be removed in a future version.\n",
      "Instructions for updating:\n",
      "Please use `rate` instead of `keep_prob`. Rate should be set to `rate = 1 - keep_prob`.\n",
      "WARNING:tensorflow:From C:\\Users\\ADMINI~1\\AppData\\Local\\Temp/ipykernel_19516/4024362237.py:14: flatten (from tensorflow.python.layers.core) is deprecated and will be removed in a future version.\n",
      "Instructions for updating:\n",
      "Use keras.layers.flatten instead.\n",
      "WARNING:tensorflow:From C:\\ProgramData\\Anaconda3\\envs\\tf1\\lib\\site-packages\\tensorflow_core\\python\\layers\\core.py:332: Layer.apply (from tensorflow.python.keras.engine.base_layer) is deprecated and will be removed in a future version.\n",
      "Instructions for updating:\n",
      "Please use `layer.__call__` method instead.\n",
      "WARNING:tensorflow:From C:\\Users\\ADMINI~1\\AppData\\Local\\Temp/ipykernel_19516/1893671115.py:14: The name tf.Session is deprecated. Please use tf.compat.v1.Session instead.\n",
      "\n",
      "Epoch= 0\n",
      "train loss score= 3.7396832\n",
      "Epoch= 1\n",
      "train loss score= 0.6279049\n",
      "Epoch= 2\n",
      "train loss score= 0.28281513\n",
      "Epoch= 3\n",
      "train loss score= 0.17083934\n",
      "Epoch= 4\n",
      "train loss score= 0.12687491\n",
      "Epoch= 5\n",
      "train loss score= 0.092866965\n",
      "Epoch= 6\n",
      "train loss score= 0.07870735\n",
      "Epoch= 7\n",
      "train loss score= 0.06759294\n",
      "Epoch= 8\n",
      "train loss score= 0.060002577\n",
      "Epoch= 9\n",
      "train loss score= 0.057070546\n",
      "TEST SET PERFORMANCE\n",
      "test_loss_score= 0.048147798\n",
      "              precision    recall  f1-score   support\n",
      "\n",
      "           0       0.99      0.99      0.99        67\n",
      "           1       0.98      0.99      0.99       539\n",
      "           2       0.99      0.99      0.99       558\n",
      "           3       0.96      0.98      0.97       364\n",
      "           4       1.00      1.00      1.00       487\n",
      "           5       0.99      0.95      0.97       479\n",
      "           6       1.00      1.00      1.00       105\n",
      "           7       0.99      0.98      0.98       364\n",
      "           8       0.99      1.00      0.99       340\n",
      "           9       0.99      0.99      0.99       384\n",
      "          10       0.99      0.99      0.99       513\n",
      "          11       0.99      0.99      0.99       334\n",
      "          12       0.99      1.00      0.99       545\n",
      "          13       0.98      1.00      0.99       537\n",
      "          14       1.00      1.00      1.00       213\n",
      "          15       0.99      0.99      0.99       164\n",
      "          16       1.00      1.00      1.00        98\n",
      "          17       1.00      1.00      1.00       281\n",
      "          18       0.99      1.00      0.99       286\n",
      "          19       1.00      1.00      1.00        56\n",
      "          20       1.00      0.97      0.99        78\n",
      "          21       0.99      0.94      0.96        95\n",
      "          22       1.00      1.00      1.00        97\n",
      "          23       0.98      1.00      0.99       123\n",
      "          24       1.00      1.00      1.00        77\n",
      "          25       0.99      0.99      0.99       401\n",
      "          26       0.98      0.99      0.99       135\n",
      "          27       1.00      1.00      1.00        60\n",
      "          28       1.00      0.99      1.00       123\n",
      "          29       1.00      1.00      1.00        69\n",
      "          30       0.99      0.97      0.98       115\n",
      "          31       0.97      0.99      0.98       178\n",
      "          32       0.98      0.96      0.97        55\n",
      "          33       1.00      1.00      1.00       177\n",
      "          34       0.99      0.99      0.99       103\n",
      "          35       0.99      0.99      0.99       277\n",
      "          36       1.00      1.00      1.00        78\n",
      "          37       1.00      0.97      0.98        63\n",
      "          38       1.00      0.99      0.99       540\n",
      "          39       1.00      0.98      0.99        60\n",
      "          40       0.99      1.00      0.99        85\n",
      "          41       0.98      1.00      0.99        47\n",
      "          42       1.00      1.00      1.00        53\n",
      "\n",
      "    accuracy                           0.99      9803\n",
      "   macro avg       0.99      0.99      0.99      9803\n",
      "weighted avg       0.99      0.99      0.99      9803\n",
      "\n"
     ]
    }
   ],
   "source": [
    "tf.reset_default_graph()\n",
    "train_model(X_train, y_train, 0.001, 10, 256)"
   ]
  },
  {
   "cell_type": "code",
   "execution_count": 46,
   "id": "cb7d30a9",
   "metadata": {},
   "outputs": [
    {
     "data": {
      "text/plain": [
       "(29406, 32, 32, 1)"
      ]
     },
     "execution_count": 46,
     "metadata": {},
     "output_type": "execute_result"
    }
   ],
   "source": [
    "X_train.shape"
   ]
  },
  {
   "cell_type": "code",
   "execution_count": 47,
   "id": "ddb88253",
   "metadata": {},
   "outputs": [
    {
     "data": {
      "text/plain": [
       "(29406, 43)"
      ]
     },
     "execution_count": 47,
     "metadata": {},
     "output_type": "execute_result"
    }
   ],
   "source": [
    "y_train.shape"
   ]
  },
  {
   "cell_type": "code",
   "execution_count": null,
   "id": "f845e561",
   "metadata": {},
   "outputs": [],
   "source": [
    "\"\"\"\n",
    "1. 일부  cnn계층과 fc 계층을 추가해서 성능이 어떻게 변하는지 확인 \n",
    "2. dropout의 비율을 변경해 보면서 결과가 과소적합 또는 과대적합이 되는지 확인 \n",
    "3. 전체epoch 수와  batch_size 도 변경해서 결과 확인\n",
    "4. 실제 테스트 이미지를 통해 사용할 수 있는 간단한 프로그램 작성 \n",
    "\n",
    "\"\"\""
   ]
  },
  {
   "cell_type": "code",
   "execution_count": null,
   "id": "1b1f3c5b",
   "metadata": {},
   "outputs": [],
   "source": []
  },
  {
   "cell_type": "code",
   "execution_count": null,
   "id": "15abb1cd",
   "metadata": {},
   "outputs": [],
   "source": []
  },
  {
   "cell_type": "code",
   "execution_count": null,
   "id": "d0ced2c5",
   "metadata": {},
   "outputs": [],
   "source": []
  },
  {
   "cell_type": "code",
   "execution_count": null,
   "id": "5ca85f63",
   "metadata": {},
   "outputs": [],
   "source": []
  },
  {
   "cell_type": "code",
   "execution_count": null,
   "id": "7c20eb35",
   "metadata": {},
   "outputs": [],
   "source": []
  },
  {
   "cell_type": "code",
   "execution_count": null,
   "id": "68c60e64",
   "metadata": {},
   "outputs": [],
   "source": []
  },
  {
   "cell_type": "code",
   "execution_count": null,
   "id": "d036ff82",
   "metadata": {},
   "outputs": [],
   "source": []
  },
  {
   "cell_type": "code",
   "execution_count": null,
   "id": "25306ef2",
   "metadata": {},
   "outputs": [],
   "source": []
  },
  {
   "cell_type": "code",
   "execution_count": null,
   "id": "1c819d7d",
   "metadata": {},
   "outputs": [],
   "source": []
  },
  {
   "cell_type": "code",
   "execution_count": null,
   "id": "9d421f69",
   "metadata": {},
   "outputs": [],
   "source": []
  },
  {
   "cell_type": "code",
   "execution_count": null,
   "id": "4ae13b9e",
   "metadata": {},
   "outputs": [],
   "source": []
  },
  {
   "cell_type": "code",
   "execution_count": null,
   "id": "a648b361",
   "metadata": {},
   "outputs": [],
   "source": []
  },
  {
   "cell_type": "code",
   "execution_count": null,
   "id": "91157c71",
   "metadata": {},
   "outputs": [],
   "source": []
  },
  {
   "cell_type": "code",
   "execution_count": null,
   "id": "a3a3655f",
   "metadata": {},
   "outputs": [],
   "source": []
  },
  {
   "cell_type": "code",
   "execution_count": null,
   "id": "9acb2736",
   "metadata": {},
   "outputs": [],
   "source": []
  },
  {
   "cell_type": "code",
   "execution_count": null,
   "id": "988646cb",
   "metadata": {},
   "outputs": [],
   "source": []
  },
  {
   "cell_type": "code",
   "execution_count": null,
   "id": "78ac7092",
   "metadata": {},
   "outputs": [],
   "source": []
  },
  {
   "cell_type": "code",
   "execution_count": null,
   "id": "9e8ac8ea",
   "metadata": {},
   "outputs": [],
   "source": []
  },
  {
   "cell_type": "code",
   "execution_count": null,
   "id": "c511af83",
   "metadata": {},
   "outputs": [],
   "source": []
  },
  {
   "cell_type": "code",
   "execution_count": null,
   "id": "2299f10d",
   "metadata": {},
   "outputs": [],
   "source": []
  },
  {
   "cell_type": "code",
   "execution_count": null,
   "id": "6be34422",
   "metadata": {},
   "outputs": [],
   "source": []
  },
  {
   "cell_type": "code",
   "execution_count": null,
   "id": "3ed92f63",
   "metadata": {},
   "outputs": [],
   "source": []
  },
  {
   "cell_type": "code",
   "execution_count": null,
   "id": "aff60a65",
   "metadata": {},
   "outputs": [],
   "source": []
  }
 ],
 "metadata": {
  "kernelspec": {
   "display_name": "Python 3 (ipykernel)",
   "language": "python",
   "name": "python3"
  },
  "language_info": {
   "codemirror_mode": {
    "name": "ipython",
    "version": 3
   },
   "file_extension": ".py",
   "mimetype": "text/x-python",
   "name": "python",
   "nbconvert_exporter": "python",
   "pygments_lexer": "ipython3",
   "version": "3.7.11"
  }
 },
 "nbformat": 4,
 "nbformat_minor": 5
}
