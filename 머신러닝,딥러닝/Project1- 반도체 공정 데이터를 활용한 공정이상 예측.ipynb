{
 "cells": [
  {
   "cell_type": "markdown",
   "id": "0e6720df",
   "metadata": {},
   "source": [
    "## 프로젝트 목표 \n",
    "- 반도체 공정 데이터 분석을 통해 공정 이상을 예측하는 분류모델 수행\n",
    "- 공정 이상에 영향을 미치는 요소들에 대한 데이터 분석 "
   ]
  },
  {
   "cell_type": "markdown",
   "id": "e611b2c9",
   "metadata": {},
   "source": [
    "#### 데이터 출처\n",
    "- https://archive.ics.uci.edu/ml/datasets/SECOM\n"
   ]
  },
  {
   "cell_type": "code",
   "execution_count": 1,
   "id": "c4b41450",
   "metadata": {},
   "outputs": [],
   "source": [
    "import numpy as np\n",
    "import pandas as pd\n",
    "import matplotlib.pyplot as plt\n",
    "import seaborn as sns "
   ]
  },
  {
   "cell_type": "code",
   "execution_count": 2,
   "id": "ab5da7dd",
   "metadata": {},
   "outputs": [
    {
     "data": {
      "text/html": [
       "<div>\n",
       "<style scoped>\n",
       "    .dataframe tbody tr th:only-of-type {\n",
       "        vertical-align: middle;\n",
       "    }\n",
       "\n",
       "    .dataframe tbody tr th {\n",
       "        vertical-align: top;\n",
       "    }\n",
       "\n",
       "    .dataframe thead th {\n",
       "        text-align: right;\n",
       "    }\n",
       "</style>\n",
       "<table border=\"1\" class=\"dataframe\">\n",
       "  <thead>\n",
       "    <tr style=\"text-align: right;\">\n",
       "      <th></th>\n",
       "      <th>Time</th>\n",
       "      <th>0</th>\n",
       "      <th>1</th>\n",
       "      <th>2</th>\n",
       "      <th>3</th>\n",
       "      <th>4</th>\n",
       "      <th>5</th>\n",
       "      <th>6</th>\n",
       "      <th>7</th>\n",
       "      <th>8</th>\n",
       "      <th>...</th>\n",
       "      <th>581</th>\n",
       "      <th>582</th>\n",
       "      <th>583</th>\n",
       "      <th>584</th>\n",
       "      <th>585</th>\n",
       "      <th>586</th>\n",
       "      <th>587</th>\n",
       "      <th>588</th>\n",
       "      <th>589</th>\n",
       "      <th>Pass/Fail</th>\n",
       "    </tr>\n",
       "  </thead>\n",
       "  <tbody>\n",
       "    <tr>\n",
       "      <th>0</th>\n",
       "      <td>2008-07-19 11:55:00</td>\n",
       "      <td>3030.93</td>\n",
       "      <td>2564.00</td>\n",
       "      <td>2187.7333</td>\n",
       "      <td>1411.1265</td>\n",
       "      <td>1.3602</td>\n",
       "      <td>100.0</td>\n",
       "      <td>97.6133</td>\n",
       "      <td>0.1242</td>\n",
       "      <td>1.5005</td>\n",
       "      <td>...</td>\n",
       "      <td>NaN</td>\n",
       "      <td>0.5005</td>\n",
       "      <td>0.0118</td>\n",
       "      <td>0.0035</td>\n",
       "      <td>2.3630</td>\n",
       "      <td>NaN</td>\n",
       "      <td>NaN</td>\n",
       "      <td>NaN</td>\n",
       "      <td>NaN</td>\n",
       "      <td>-1</td>\n",
       "    </tr>\n",
       "    <tr>\n",
       "      <th>1</th>\n",
       "      <td>2008-07-19 12:32:00</td>\n",
       "      <td>3095.78</td>\n",
       "      <td>2465.14</td>\n",
       "      <td>2230.4222</td>\n",
       "      <td>1463.6606</td>\n",
       "      <td>0.8294</td>\n",
       "      <td>100.0</td>\n",
       "      <td>102.3433</td>\n",
       "      <td>0.1247</td>\n",
       "      <td>1.4966</td>\n",
       "      <td>...</td>\n",
       "      <td>208.2045</td>\n",
       "      <td>0.5019</td>\n",
       "      <td>0.0223</td>\n",
       "      <td>0.0055</td>\n",
       "      <td>4.4447</td>\n",
       "      <td>0.0096</td>\n",
       "      <td>0.0201</td>\n",
       "      <td>0.0060</td>\n",
       "      <td>208.2045</td>\n",
       "      <td>-1</td>\n",
       "    </tr>\n",
       "    <tr>\n",
       "      <th>2</th>\n",
       "      <td>2008-07-19 13:17:00</td>\n",
       "      <td>2932.61</td>\n",
       "      <td>2559.94</td>\n",
       "      <td>2186.4111</td>\n",
       "      <td>1698.0172</td>\n",
       "      <td>1.5102</td>\n",
       "      <td>100.0</td>\n",
       "      <td>95.4878</td>\n",
       "      <td>0.1241</td>\n",
       "      <td>1.4436</td>\n",
       "      <td>...</td>\n",
       "      <td>82.8602</td>\n",
       "      <td>0.4958</td>\n",
       "      <td>0.0157</td>\n",
       "      <td>0.0039</td>\n",
       "      <td>3.1745</td>\n",
       "      <td>0.0584</td>\n",
       "      <td>0.0484</td>\n",
       "      <td>0.0148</td>\n",
       "      <td>82.8602</td>\n",
       "      <td>1</td>\n",
       "    </tr>\n",
       "    <tr>\n",
       "      <th>3</th>\n",
       "      <td>2008-07-19 14:43:00</td>\n",
       "      <td>2988.72</td>\n",
       "      <td>2479.90</td>\n",
       "      <td>2199.0333</td>\n",
       "      <td>909.7926</td>\n",
       "      <td>1.3204</td>\n",
       "      <td>100.0</td>\n",
       "      <td>104.2367</td>\n",
       "      <td>0.1217</td>\n",
       "      <td>1.4882</td>\n",
       "      <td>...</td>\n",
       "      <td>73.8432</td>\n",
       "      <td>0.4990</td>\n",
       "      <td>0.0103</td>\n",
       "      <td>0.0025</td>\n",
       "      <td>2.0544</td>\n",
       "      <td>0.0202</td>\n",
       "      <td>0.0149</td>\n",
       "      <td>0.0044</td>\n",
       "      <td>73.8432</td>\n",
       "      <td>-1</td>\n",
       "    </tr>\n",
       "    <tr>\n",
       "      <th>4</th>\n",
       "      <td>2008-07-19 15:22:00</td>\n",
       "      <td>3032.24</td>\n",
       "      <td>2502.87</td>\n",
       "      <td>2233.3667</td>\n",
       "      <td>1326.5200</td>\n",
       "      <td>1.5334</td>\n",
       "      <td>100.0</td>\n",
       "      <td>100.3967</td>\n",
       "      <td>0.1235</td>\n",
       "      <td>1.5031</td>\n",
       "      <td>...</td>\n",
       "      <td>NaN</td>\n",
       "      <td>0.4800</td>\n",
       "      <td>0.4766</td>\n",
       "      <td>0.1045</td>\n",
       "      <td>99.3032</td>\n",
       "      <td>0.0202</td>\n",
       "      <td>0.0149</td>\n",
       "      <td>0.0044</td>\n",
       "      <td>73.8432</td>\n",
       "      <td>-1</td>\n",
       "    </tr>\n",
       "  </tbody>\n",
       "</table>\n",
       "<p>5 rows × 592 columns</p>\n",
       "</div>"
      ],
      "text/plain": [
       "                  Time        0        1          2          3       4      5  \\\n",
       "0  2008-07-19 11:55:00  3030.93  2564.00  2187.7333  1411.1265  1.3602  100.0   \n",
       "1  2008-07-19 12:32:00  3095.78  2465.14  2230.4222  1463.6606  0.8294  100.0   \n",
       "2  2008-07-19 13:17:00  2932.61  2559.94  2186.4111  1698.0172  1.5102  100.0   \n",
       "3  2008-07-19 14:43:00  2988.72  2479.90  2199.0333   909.7926  1.3204  100.0   \n",
       "4  2008-07-19 15:22:00  3032.24  2502.87  2233.3667  1326.5200  1.5334  100.0   \n",
       "\n",
       "          6       7       8  ...       581     582     583     584      585  \\\n",
       "0   97.6133  0.1242  1.5005  ...       NaN  0.5005  0.0118  0.0035   2.3630   \n",
       "1  102.3433  0.1247  1.4966  ...  208.2045  0.5019  0.0223  0.0055   4.4447   \n",
       "2   95.4878  0.1241  1.4436  ...   82.8602  0.4958  0.0157  0.0039   3.1745   \n",
       "3  104.2367  0.1217  1.4882  ...   73.8432  0.4990  0.0103  0.0025   2.0544   \n",
       "4  100.3967  0.1235  1.5031  ...       NaN  0.4800  0.4766  0.1045  99.3032   \n",
       "\n",
       "      586     587     588       589  Pass/Fail  \n",
       "0     NaN     NaN     NaN       NaN         -1  \n",
       "1  0.0096  0.0201  0.0060  208.2045         -1  \n",
       "2  0.0584  0.0484  0.0148   82.8602          1  \n",
       "3  0.0202  0.0149  0.0044   73.8432         -1  \n",
       "4  0.0202  0.0149  0.0044   73.8432         -1  \n",
       "\n",
       "[5 rows x 592 columns]"
      ]
     },
     "execution_count": 2,
     "metadata": {},
     "output_type": "execute_result"
    }
   ],
   "source": [
    "data = pd.read_csv('data/uci-secom.csv')\n",
    "data.head()"
   ]
  },
  {
   "cell_type": "code",
   "execution_count": 3,
   "id": "f90a7fdf",
   "metadata": {},
   "outputs": [
    {
     "name": "stdout",
     "output_type": "stream",
     "text": [
      "<class 'pandas.core.frame.DataFrame'>\n",
      "RangeIndex: 1567 entries, 0 to 1566\n",
      "Columns: 592 entries, Time to Pass/Fail\n",
      "dtypes: float64(590), int64(1), object(1)\n",
      "memory usage: 7.1+ MB\n"
     ]
    },
    {
     "data": {
      "text/plain": [
       "(1567, 592)"
      ]
     },
     "execution_count": 3,
     "metadata": {},
     "output_type": "execute_result"
    }
   ],
   "source": [
    "# 데이터 확인 \n",
    "data.info()\n",
    "data.shape"
   ]
  },
  {
   "cell_type": "code",
   "execution_count": 4,
   "id": "be5dfddc",
   "metadata": {},
   "outputs": [
    {
     "data": {
      "text/html": [
       "<div>\n",
       "<style scoped>\n",
       "    .dataframe tbody tr th:only-of-type {\n",
       "        vertical-align: middle;\n",
       "    }\n",
       "\n",
       "    .dataframe tbody tr th {\n",
       "        vertical-align: top;\n",
       "    }\n",
       "\n",
       "    .dataframe thead th {\n",
       "        text-align: right;\n",
       "    }\n",
       "</style>\n",
       "<table border=\"1\" class=\"dataframe\">\n",
       "  <thead>\n",
       "    <tr style=\"text-align: right;\">\n",
       "      <th></th>\n",
       "      <th>0</th>\n",
       "      <th>1</th>\n",
       "      <th>2</th>\n",
       "      <th>3</th>\n",
       "      <th>4</th>\n",
       "      <th>5</th>\n",
       "      <th>6</th>\n",
       "      <th>7</th>\n",
       "      <th>8</th>\n",
       "      <th>9</th>\n",
       "      <th>...</th>\n",
       "      <th>581</th>\n",
       "      <th>582</th>\n",
       "      <th>583</th>\n",
       "      <th>584</th>\n",
       "      <th>585</th>\n",
       "      <th>586</th>\n",
       "      <th>587</th>\n",
       "      <th>588</th>\n",
       "      <th>589</th>\n",
       "      <th>Pass/Fail</th>\n",
       "    </tr>\n",
       "  </thead>\n",
       "  <tbody>\n",
       "    <tr>\n",
       "      <th>count</th>\n",
       "      <td>1561.000000</td>\n",
       "      <td>1560.000000</td>\n",
       "      <td>1553.000000</td>\n",
       "      <td>1553.000000</td>\n",
       "      <td>1553.000000</td>\n",
       "      <td>1553.0</td>\n",
       "      <td>1553.000000</td>\n",
       "      <td>1558.000000</td>\n",
       "      <td>1565.000000</td>\n",
       "      <td>1565.000000</td>\n",
       "      <td>...</td>\n",
       "      <td>618.000000</td>\n",
       "      <td>1566.000000</td>\n",
       "      <td>1566.000000</td>\n",
       "      <td>1566.000000</td>\n",
       "      <td>1566.000000</td>\n",
       "      <td>1566.000000</td>\n",
       "      <td>1566.000000</td>\n",
       "      <td>1566.000000</td>\n",
       "      <td>1566.000000</td>\n",
       "      <td>1567.000000</td>\n",
       "    </tr>\n",
       "    <tr>\n",
       "      <th>mean</th>\n",
       "      <td>3014.452896</td>\n",
       "      <td>2495.850231</td>\n",
       "      <td>2200.547318</td>\n",
       "      <td>1396.376627</td>\n",
       "      <td>4.197013</td>\n",
       "      <td>100.0</td>\n",
       "      <td>101.112908</td>\n",
       "      <td>0.121822</td>\n",
       "      <td>1.462862</td>\n",
       "      <td>-0.000841</td>\n",
       "      <td>...</td>\n",
       "      <td>97.934373</td>\n",
       "      <td>0.500096</td>\n",
       "      <td>0.015318</td>\n",
       "      <td>0.003847</td>\n",
       "      <td>3.067826</td>\n",
       "      <td>0.021458</td>\n",
       "      <td>0.016475</td>\n",
       "      <td>0.005283</td>\n",
       "      <td>99.670066</td>\n",
       "      <td>-0.867262</td>\n",
       "    </tr>\n",
       "    <tr>\n",
       "      <th>std</th>\n",
       "      <td>73.621787</td>\n",
       "      <td>80.407705</td>\n",
       "      <td>29.513152</td>\n",
       "      <td>441.691640</td>\n",
       "      <td>56.355540</td>\n",
       "      <td>0.0</td>\n",
       "      <td>6.237214</td>\n",
       "      <td>0.008961</td>\n",
       "      <td>0.073897</td>\n",
       "      <td>0.015116</td>\n",
       "      <td>...</td>\n",
       "      <td>87.520966</td>\n",
       "      <td>0.003404</td>\n",
       "      <td>0.017180</td>\n",
       "      <td>0.003720</td>\n",
       "      <td>3.578033</td>\n",
       "      <td>0.012358</td>\n",
       "      <td>0.008808</td>\n",
       "      <td>0.002867</td>\n",
       "      <td>93.891919</td>\n",
       "      <td>0.498010</td>\n",
       "    </tr>\n",
       "    <tr>\n",
       "      <th>min</th>\n",
       "      <td>2743.240000</td>\n",
       "      <td>2158.750000</td>\n",
       "      <td>2060.660000</td>\n",
       "      <td>0.000000</td>\n",
       "      <td>0.681500</td>\n",
       "      <td>100.0</td>\n",
       "      <td>82.131100</td>\n",
       "      <td>0.000000</td>\n",
       "      <td>1.191000</td>\n",
       "      <td>-0.053400</td>\n",
       "      <td>...</td>\n",
       "      <td>0.000000</td>\n",
       "      <td>0.477800</td>\n",
       "      <td>0.006000</td>\n",
       "      <td>0.001700</td>\n",
       "      <td>1.197500</td>\n",
       "      <td>-0.016900</td>\n",
       "      <td>0.003200</td>\n",
       "      <td>0.001000</td>\n",
       "      <td>0.000000</td>\n",
       "      <td>-1.000000</td>\n",
       "    </tr>\n",
       "    <tr>\n",
       "      <th>25%</th>\n",
       "      <td>2966.260000</td>\n",
       "      <td>2452.247500</td>\n",
       "      <td>2181.044400</td>\n",
       "      <td>1081.875800</td>\n",
       "      <td>1.017700</td>\n",
       "      <td>100.0</td>\n",
       "      <td>97.920000</td>\n",
       "      <td>0.121100</td>\n",
       "      <td>1.411200</td>\n",
       "      <td>-0.010800</td>\n",
       "      <td>...</td>\n",
       "      <td>46.184900</td>\n",
       "      <td>0.497900</td>\n",
       "      <td>0.011600</td>\n",
       "      <td>0.003100</td>\n",
       "      <td>2.306500</td>\n",
       "      <td>0.013425</td>\n",
       "      <td>0.010600</td>\n",
       "      <td>0.003300</td>\n",
       "      <td>44.368600</td>\n",
       "      <td>-1.000000</td>\n",
       "    </tr>\n",
       "    <tr>\n",
       "      <th>50%</th>\n",
       "      <td>3011.490000</td>\n",
       "      <td>2499.405000</td>\n",
       "      <td>2201.066700</td>\n",
       "      <td>1285.214400</td>\n",
       "      <td>1.316800</td>\n",
       "      <td>100.0</td>\n",
       "      <td>101.512200</td>\n",
       "      <td>0.122400</td>\n",
       "      <td>1.461600</td>\n",
       "      <td>-0.001300</td>\n",
       "      <td>...</td>\n",
       "      <td>72.288900</td>\n",
       "      <td>0.500200</td>\n",
       "      <td>0.013800</td>\n",
       "      <td>0.003600</td>\n",
       "      <td>2.757650</td>\n",
       "      <td>0.020500</td>\n",
       "      <td>0.014800</td>\n",
       "      <td>0.004600</td>\n",
       "      <td>71.900500</td>\n",
       "      <td>-1.000000</td>\n",
       "    </tr>\n",
       "    <tr>\n",
       "      <th>75%</th>\n",
       "      <td>3056.650000</td>\n",
       "      <td>2538.822500</td>\n",
       "      <td>2218.055500</td>\n",
       "      <td>1591.223500</td>\n",
       "      <td>1.525700</td>\n",
       "      <td>100.0</td>\n",
       "      <td>104.586700</td>\n",
       "      <td>0.123800</td>\n",
       "      <td>1.516900</td>\n",
       "      <td>0.008400</td>\n",
       "      <td>...</td>\n",
       "      <td>116.539150</td>\n",
       "      <td>0.502375</td>\n",
       "      <td>0.016500</td>\n",
       "      <td>0.004100</td>\n",
       "      <td>3.295175</td>\n",
       "      <td>0.027600</td>\n",
       "      <td>0.020300</td>\n",
       "      <td>0.006400</td>\n",
       "      <td>114.749700</td>\n",
       "      <td>-1.000000</td>\n",
       "    </tr>\n",
       "    <tr>\n",
       "      <th>max</th>\n",
       "      <td>3356.350000</td>\n",
       "      <td>2846.440000</td>\n",
       "      <td>2315.266700</td>\n",
       "      <td>3715.041700</td>\n",
       "      <td>1114.536600</td>\n",
       "      <td>100.0</td>\n",
       "      <td>129.252200</td>\n",
       "      <td>0.128600</td>\n",
       "      <td>1.656400</td>\n",
       "      <td>0.074900</td>\n",
       "      <td>...</td>\n",
       "      <td>737.304800</td>\n",
       "      <td>0.509800</td>\n",
       "      <td>0.476600</td>\n",
       "      <td>0.104500</td>\n",
       "      <td>99.303200</td>\n",
       "      <td>0.102800</td>\n",
       "      <td>0.079900</td>\n",
       "      <td>0.028600</td>\n",
       "      <td>737.304800</td>\n",
       "      <td>1.000000</td>\n",
       "    </tr>\n",
       "  </tbody>\n",
       "</table>\n",
       "<p>8 rows × 591 columns</p>\n",
       "</div>"
      ],
      "text/plain": [
       "                 0            1            2            3            4  \\\n",
       "count  1561.000000  1560.000000  1553.000000  1553.000000  1553.000000   \n",
       "mean   3014.452896  2495.850231  2200.547318  1396.376627     4.197013   \n",
       "std      73.621787    80.407705    29.513152   441.691640    56.355540   \n",
       "min    2743.240000  2158.750000  2060.660000     0.000000     0.681500   \n",
       "25%    2966.260000  2452.247500  2181.044400  1081.875800     1.017700   \n",
       "50%    3011.490000  2499.405000  2201.066700  1285.214400     1.316800   \n",
       "75%    3056.650000  2538.822500  2218.055500  1591.223500     1.525700   \n",
       "max    3356.350000  2846.440000  2315.266700  3715.041700  1114.536600   \n",
       "\n",
       "            5            6            7            8            9  ...  \\\n",
       "count  1553.0  1553.000000  1558.000000  1565.000000  1565.000000  ...   \n",
       "mean    100.0   101.112908     0.121822     1.462862    -0.000841  ...   \n",
       "std       0.0     6.237214     0.008961     0.073897     0.015116  ...   \n",
       "min     100.0    82.131100     0.000000     1.191000    -0.053400  ...   \n",
       "25%     100.0    97.920000     0.121100     1.411200    -0.010800  ...   \n",
       "50%     100.0   101.512200     0.122400     1.461600    -0.001300  ...   \n",
       "75%     100.0   104.586700     0.123800     1.516900     0.008400  ...   \n",
       "max     100.0   129.252200     0.128600     1.656400     0.074900  ...   \n",
       "\n",
       "              581          582          583          584          585  \\\n",
       "count  618.000000  1566.000000  1566.000000  1566.000000  1566.000000   \n",
       "mean    97.934373     0.500096     0.015318     0.003847     3.067826   \n",
       "std     87.520966     0.003404     0.017180     0.003720     3.578033   \n",
       "min      0.000000     0.477800     0.006000     0.001700     1.197500   \n",
       "25%     46.184900     0.497900     0.011600     0.003100     2.306500   \n",
       "50%     72.288900     0.500200     0.013800     0.003600     2.757650   \n",
       "75%    116.539150     0.502375     0.016500     0.004100     3.295175   \n",
       "max    737.304800     0.509800     0.476600     0.104500    99.303200   \n",
       "\n",
       "               586          587          588          589    Pass/Fail  \n",
       "count  1566.000000  1566.000000  1566.000000  1566.000000  1567.000000  \n",
       "mean      0.021458     0.016475     0.005283    99.670066    -0.867262  \n",
       "std       0.012358     0.008808     0.002867    93.891919     0.498010  \n",
       "min      -0.016900     0.003200     0.001000     0.000000    -1.000000  \n",
       "25%       0.013425     0.010600     0.003300    44.368600    -1.000000  \n",
       "50%       0.020500     0.014800     0.004600    71.900500    -1.000000  \n",
       "75%       0.027600     0.020300     0.006400   114.749700    -1.000000  \n",
       "max       0.102800     0.079900     0.028600   737.304800     1.000000  \n",
       "\n",
       "[8 rows x 591 columns]"
      ]
     },
     "execution_count": 4,
     "metadata": {},
     "output_type": "execute_result"
    }
   ],
   "source": [
    "data.describe()"
   ]
  },
  {
   "cell_type": "markdown",
   "id": "741d6d46",
   "metadata": {},
   "source": [
    "### 2. 데이터 전처리 \n",
    "#### (1) 결측치 처리 "
   ]
  },
  {
   "cell_type": "code",
   "execution_count": 5,
   "id": "ee93c819",
   "metadata": {},
   "outputs": [
    {
     "data": {
      "text/plain": [
       "41951"
      ]
     },
     "execution_count": 5,
     "metadata": {},
     "output_type": "execute_result"
    }
   ],
   "source": [
    "data.isnull().sum()\n",
    "data.isnull().sum().sum()"
   ]
  },
  {
   "cell_type": "code",
   "execution_count": 6,
   "id": "451c2e61",
   "metadata": {},
   "outputs": [],
   "source": [
    "##### 모든 결측치는 0으로 대체\n",
    "# DataFrame.fillna(값, inplace=True)\n",
    "data = data.replace(np.NaN, 0)"
   ]
  },
  {
   "cell_type": "code",
   "execution_count": 7,
   "id": "19dfed28",
   "metadata": {},
   "outputs": [
    {
     "data": {
      "text/plain": [
       "Time         0\n",
       "0            0\n",
       "1            0\n",
       "2            0\n",
       "3            0\n",
       "            ..\n",
       "586          0\n",
       "587          0\n",
       "588          0\n",
       "589          0\n",
       "Pass/Fail    0\n",
       "Length: 592, dtype: int64"
      ]
     },
     "execution_count": 7,
     "metadata": {},
     "output_type": "execute_result"
    }
   ],
   "source": [
    "\n",
    "data.isnull().sum()"
   ]
  },
  {
   "cell_type": "markdown",
   "id": "b5631064",
   "metadata": {},
   "source": [
    "#### (2) 변수 제거 "
   ]
  },
  {
   "cell_type": "code",
   "execution_count": 8,
   "id": "9d67b096",
   "metadata": {},
   "outputs": [
    {
     "data": {
      "text/plain": [
       "(1567, 591)"
      ]
     },
     "execution_count": 8,
     "metadata": {},
     "output_type": "execute_result"
    }
   ],
   "source": [
    "##### Time 변수 제거\n",
    "\n",
    "data = data.drop(columns=[\"Time\"], axis=1)\n",
    "data.shape"
   ]
  },
  {
   "cell_type": "markdown",
   "id": "00880189",
   "metadata": {},
   "source": [
    "### 3. 시각화 "
   ]
  },
  {
   "cell_type": "code",
   "execution_count": 9,
   "id": "ac02bee0",
   "metadata": {},
   "outputs": [
    {
     "data": {
      "text/plain": [
       "-1    1463\n",
       " 1     104\n",
       "Name: Pass/Fail, dtype: int64"
      ]
     },
     "execution_count": 9,
     "metadata": {},
     "output_type": "execute_result"
    },
    {
     "data": {
      "image/png": "[encoded data removed]",
      "text/plain": [
       "<Figure size 432x288 with 1 Axes>"
      ]
     },
     "metadata": {
      "needs_background": "light"
     },
     "output_type": "display_data"
    }
   ],
   "source": [
    "data[\"Pass/Fail\"].value_counts().plot(kind=\"bar\")\n",
    "data[\"Pass/Fail\"].value_counts()"
   ]
  },
  {
   "cell_type": "code",
   "execution_count": 10,
   "id": "b57e727c",
   "metadata": {},
   "outputs": [
    {
     "data": {
      "text/html": [
       "<div>\n",
       "<style scoped>\n",
       "    .dataframe tbody tr th:only-of-type {\n",
       "        vertical-align: middle;\n",
       "    }\n",
       "\n",
       "    .dataframe tbody tr th {\n",
       "        vertical-align: top;\n",
       "    }\n",
       "\n",
       "    .dataframe thead th {\n",
       "        text-align: right;\n",
       "    }\n",
       "</style>\n",
       "<table border=\"1\" class=\"dataframe\">\n",
       "  <thead>\n",
       "    <tr style=\"text-align: right;\">\n",
       "      <th></th>\n",
       "      <th>3</th>\n",
       "      <th>4</th>\n",
       "      <th>5</th>\n",
       "      <th>Pass/Fail</th>\n",
       "    </tr>\n",
       "  </thead>\n",
       "  <tbody>\n",
       "    <tr>\n",
       "      <th>0</th>\n",
       "      <td>1411.1265</td>\n",
       "      <td>1.3602</td>\n",
       "      <td>100.0</td>\n",
       "      <td>-1</td>\n",
       "    </tr>\n",
       "    <tr>\n",
       "      <th>1</th>\n",
       "      <td>1463.6606</td>\n",
       "      <td>0.8294</td>\n",
       "      <td>100.0</td>\n",
       "      <td>-1</td>\n",
       "    </tr>\n",
       "    <tr>\n",
       "      <th>2</th>\n",
       "      <td>1698.0172</td>\n",
       "      <td>1.5102</td>\n",
       "      <td>100.0</td>\n",
       "      <td>1</td>\n",
       "    </tr>\n",
       "    <tr>\n",
       "      <th>3</th>\n",
       "      <td>909.7926</td>\n",
       "      <td>1.3204</td>\n",
       "      <td>100.0</td>\n",
       "      <td>-1</td>\n",
       "    </tr>\n",
       "    <tr>\n",
       "      <th>4</th>\n",
       "      <td>1326.5200</td>\n",
       "      <td>1.5334</td>\n",
       "      <td>100.0</td>\n",
       "      <td>-1</td>\n",
       "    </tr>\n",
       "    <tr>\n",
       "      <th>...</th>\n",
       "      <td>...</td>\n",
       "      <td>...</td>\n",
       "      <td>...</td>\n",
       "      <td>...</td>\n",
       "    </tr>\n",
       "    <tr>\n",
       "      <th>1562</th>\n",
       "      <td>3085.3781</td>\n",
       "      <td>1.4843</td>\n",
       "      <td>100.0</td>\n",
       "      <td>-1</td>\n",
       "    </tr>\n",
       "    <tr>\n",
       "      <th>1563</th>\n",
       "      <td>1124.6595</td>\n",
       "      <td>0.8763</td>\n",
       "      <td>100.0</td>\n",
       "      <td>-1</td>\n",
       "    </tr>\n",
       "    <tr>\n",
       "      <th>1564</th>\n",
       "      <td>1110.4967</td>\n",
       "      <td>0.8236</td>\n",
       "      <td>100.0</td>\n",
       "      <td>-1</td>\n",
       "    </tr>\n",
       "    <tr>\n",
       "      <th>1565</th>\n",
       "      <td>1183.7287</td>\n",
       "      <td>1.5726</td>\n",
       "      <td>100.0</td>\n",
       "      <td>-1</td>\n",
       "    </tr>\n",
       "    <tr>\n",
       "      <th>1566</th>\n",
       "      <td>2914.1792</td>\n",
       "      <td>1.5978</td>\n",
       "      <td>100.0</td>\n",
       "      <td>-1</td>\n",
       "    </tr>\n",
       "  </tbody>\n",
       "</table>\n",
       "<p>1567 rows × 4 columns</p>\n",
       "</div>"
      ],
      "text/plain": [
       "              3       4      5  Pass/Fail\n",
       "0     1411.1265  1.3602  100.0         -1\n",
       "1     1463.6606  0.8294  100.0         -1\n",
       "2     1698.0172  1.5102  100.0          1\n",
       "3      909.7926  1.3204  100.0         -1\n",
       "4     1326.5200  1.5334  100.0         -1\n",
       "...         ...     ...    ...        ...\n",
       "1562  3085.3781  1.4843  100.0         -1\n",
       "1563  1124.6595  0.8763  100.0         -1\n",
       "1564  1110.4967  0.8236  100.0         -1\n",
       "1565  1183.7287  1.5726  100.0         -1\n",
       "1566  2914.1792  1.5978  100.0         -1\n",
       "\n",
       "[1567 rows x 4 columns]"
      ]
     },
     "execution_count": 10,
     "metadata": {},
     "output_type": "execute_result"
    }
   ],
   "source": [
    "data_test = data[['3', '4', '5', 'Pass/Fail']]\n",
    "data_test"
   ]
  },
  {
   "cell_type": "code",
   "execution_count": 11,
   "id": "76bf535b",
   "metadata": {},
   "outputs": [
    {
     "data": {
      "text/plain": [
       "<seaborn.axisgrid.PairGrid at 0x1ce20398d60>"
      ]
     },
     "execution_count": 11,
     "metadata": {},
     "output_type": "execute_result"
    },
    {
     "data": {
      "image/png": "[encoded data removed]",
      "text/plain": [
       "<Figure size 720x720 with 20 Axes>"
      ]
     },
     "metadata": {
      "needs_background": "light"
     },
     "output_type": "display_data"
    }
   ],
   "source": [
    "sns.pairplot(data_test)"
   ]
  },
  {
   "cell_type": "code",
   "execution_count": 12,
   "id": "7a445037",
   "metadata": {},
   "outputs": [
    {
     "data": {
      "text/plain": [
       "<seaborn.axisgrid.PairGrid at 0x1ce20329f40>"
      ]
     },
     "execution_count": 12,
     "metadata": {},
     "output_type": "execute_result"
    },
    {
     "data": {
      "image/png": "[encoded data removed]",
      "text/plain": [
       "<Figure size 720x720 with 6 Axes>"
      ]
     },
     "metadata": {
      "needs_background": "light"
     },
     "output_type": "display_data"
    }
   ],
   "source": [
    "sns.pairplot(data_test, vars=['3', '4'], height=5)"
   ]
  },
  {
   "cell_type": "markdown",
   "id": "b7a318a8",
   "metadata": {},
   "source": [
    "#### (1) 59 번 센서 시각화 "
   ]
  },
  {
   "cell_type": "code",
   "execution_count": 13,
   "id": "beb02ed9",
   "metadata": {},
   "outputs": [
    {
     "name": "stderr",
     "output_type": "stream",
     "text": [
      "C:\\ProgramData\\Anaconda3\\lib\\site-packages\\seaborn\\distributions.py:2557: FutureWarning: `distplot` is a deprecated function and will be removed in a future version. Please adapt your code to use either `displot` (a figure-level function with similar flexibility) or `histplot` (an axes-level function for histograms).\n",
      "  warnings.warn(msg, FutureWarning)\n"
     ]
    },
    {
     "data": {
      "text/plain": [
       "Text(0.5, 1.0, '59 Sensor Measurements')"
      ]
     },
     "execution_count": 13,
     "metadata": {},
     "output_type": "execute_result"
    },
    {
     "data": {
      "image/png": "[encoded data removed]",
      "text/plain": [
       "<Figure size 576x432 with 1 Axes>"
      ]
     },
     "metadata": {
      "needs_background": "light"
     },
     "output_type": "display_data"
    }
   ],
   "source": [
    "fig, ax = plt.subplots(figsize=(8, 6))\n",
    "\n",
    "sns.set(style=\"darkgrid\")\n",
    "sns.distplot(data[\"59\"], color=\"darkblue\")\n",
    "plt.title(\"59 Sensor Measurements\", fontsize=20)"
   ]
  },
  {
   "cell_type": "code",
   "execution_count": 14,
   "id": "47a540e0",
   "metadata": {},
   "outputs": [
    {
     "name": "stderr",
     "output_type": "stream",
     "text": [
      "C:\\ProgramData\\Anaconda3\\lib\\site-packages\\seaborn\\distributions.py:2557: FutureWarning: `distplot` is a deprecated function and will be removed in a future version. Please adapt your code to use either `displot` (a figure-level function with similar flexibility) or `histplot` (an axes-level function for histograms).\n",
      "  warnings.warn(msg, FutureWarning)\n",
      "C:\\ProgramData\\Anaconda3\\lib\\site-packages\\seaborn\\distributions.py:2557: FutureWarning: `distplot` is a deprecated function and will be removed in a future version. Please adapt your code to use either `displot` (a figure-level function with similar flexibility) or `histplot` (an axes-level function for histograms).\n",
      "  warnings.warn(msg, FutureWarning)\n",
      "C:\\ProgramData\\Anaconda3\\lib\\site-packages\\seaborn\\distributions.py:2557: FutureWarning: `distplot` is a deprecated function and will be removed in a future version. Please adapt your code to use either `displot` (a figure-level function with similar flexibility) or `histplot` (an axes-level function for histograms).\n",
      "  warnings.warn(msg, FutureWarning)\n"
     ]
    },
    {
     "data": {
      "text/plain": [
       "Text(0.5, 1.0, '59 Sensor Measurements')"
      ]
     },
     "execution_count": 14,
     "metadata": {},
     "output_type": "execute_result"
    },
    {
     "data": {
      "image/png": "[encoded data removed]",
      "text/plain": [
       "<Figure size 720x1152 with 3 Axes>"
      ]
     },
     "metadata": {},
     "output_type": "display_data"
    }
   ],
   "source": [
    "plt.rcParams[\"figure.figsize\"] = (10, 16)\n",
    "\n",
    "plt.subplot(3, 1, 1)\n",
    "sns.distplot(data[\"59\"], color=\"darkblue\")\n",
    "plt.title(\"59 Sensor Measurements\", fontsize=20)\n",
    "\n",
    "plt.subplot(3, 1, 2)\n",
    "sns.distplot(data[data['Pass/Fail']==1][\"59\"], color=\"darkgreen\")\n",
    "plt.title(\"59 Sensor Measurements\", fontsize=20)\n",
    "\n",
    "\n",
    "plt.subplot(3, 1, 3)\n",
    "sns.distplot(data[data['Pass/Fail']==-1][\"59\"], color=\"red\")\n",
    "plt.title(\"59 Sensor Measurements\", fontsize=20)"
   ]
  },
  {
   "cell_type": "code",
   "execution_count": 15,
   "id": "0b8c2d58",
   "metadata": {},
   "outputs": [
    {
     "name": "stderr",
     "output_type": "stream",
     "text": [
      "C:\\ProgramData\\Anaconda3\\lib\\site-packages\\seaborn\\distributions.py:2557: FutureWarning: `distplot` is a deprecated function and will be removed in a future version. Please adapt your code to use either `displot` (a figure-level function with similar flexibility) or `histplot` (an axes-level function for histograms).\n",
      "  warnings.warn(msg, FutureWarning)\n",
      "C:\\ProgramData\\Anaconda3\\lib\\site-packages\\seaborn\\distributions.py:2557: FutureWarning: `distplot` is a deprecated function and will be removed in a future version. Please adapt your code to use either `displot` (a figure-level function with similar flexibility) or `histplot` (an axes-level function for histograms).\n",
      "  warnings.warn(msg, FutureWarning)\n",
      "C:\\ProgramData\\Anaconda3\\lib\\site-packages\\seaborn\\distributions.py:2557: FutureWarning: `distplot` is a deprecated function and will be removed in a future version. Please adapt your code to use either `displot` (a figure-level function with similar flexibility) or `histplot` (an axes-level function for histograms).\n",
      "  warnings.warn(msg, FutureWarning)\n"
     ]
    },
    {
     "data": {
      "text/plain": [
       "Text(0.5, 1.0, '59 Sensor Measurements')"
      ]
     },
     "execution_count": 15,
     "metadata": {},
     "output_type": "execute_result"
    },
    {
     "data": {
      "image/png": "[encoded data removed]",
      "text/plain": [
       "<Figure size 1080x720 with 1 Axes>"
      ]
     },
     "metadata": {},
     "output_type": "display_data"
    }
   ],
   "source": [
    "plt.rcParams[\"figure.figsize\"] = (15, 10)\n",
    "\n",
    "sns.distplot(data[\"59\"], color=\"darkblue\")\n",
    "sns.distplot(data[data['Pass/Fail']==1][\"59\"], color=\"darkgreen\")\n",
    "sns.distplot(data[data['Pass/Fail']==-1][\"59\"], color=\"red\")\n",
    "\n",
    "plt.title(\"59 Sensor Measurements\", fontsize=20)"
   ]
  },
  {
   "cell_type": "markdown",
   "id": "18c4e23f",
   "metadata": {},
   "source": [
    "### 4. 데이터 전처리 \n",
    "- 데이터를 X, y로 분리\n",
    "- Scaling"
   ]
  },
  {
   "cell_type": "markdown",
   "id": "cbcca0ac",
   "metadata": {},
   "source": [
    "#### (1)  X와 y로 분리"
   ]
  },
  {
   "cell_type": "code",
   "execution_count": 16,
   "id": "22b1b23c",
   "metadata": {},
   "outputs": [
    {
     "data": {
      "text/plain": [
       "array([-1, -1,  1, ..., -1, -1, -1], dtype=int64)"
      ]
     },
     "execution_count": 16,
     "metadata": {},
     "output_type": "execute_result"
    }
   ],
   "source": [
    "X = data.drop(columns=[\"Pass/Fail\"], axis=1)\n",
    "y = data[\"Pass/Fail\"]\n",
    "\n",
    "X\n",
    "y = y.to_numpy()\n",
    "y"
   ]
  },
  {
   "cell_type": "code",
   "execution_count": 17,
   "id": "cd9be20b",
   "metadata": {},
   "outputs": [],
   "source": [
    "data_test = pd.read_csv(\"data/uci-secom-test.csv\")\n",
    "data_test\n",
    "\n",
    "X_test = data_test.drop(columns=[\"Pass/Fail\"], axis=1)\n",
    "y_test = data_test[\"Pass/Fail\"].to_numpy()\n"
   ]
  },
  {
   "cell_type": "markdown",
   "id": "ad639003",
   "metadata": {},
   "source": [
    "#### (2) 데이터 표준화 "
   ]
  },
  {
   "cell_type": "code",
   "execution_count": 19,
   "id": "33063631",
   "metadata": {},
   "outputs": [],
   "source": [
    "from sklearn.preprocessing import StandardScaler\n",
    "\n",
    "sc = StandardScaler()\n",
    "X_train = sc.fit_transform(X)\n",
    "X_test = sc.transform(X_test)\n",
    "y_train = y"
   ]
  },
  {
   "cell_type": "code",
   "execution_count": 20,
   "id": "d87ecee7",
   "metadata": {},
   "outputs": [
    {
     "name": "stdout",
     "output_type": "stream",
     "text": [
      "1.921362031951641e-17\n",
      "0.8101694915254235\n"
     ]
    }
   ],
   "source": [
    "print(X_train.mean())\n",
    "print(X_train.var())"
   ]
  },
  {
   "cell_type": "markdown",
   "id": "835d064e",
   "metadata": {},
   "source": [
    "### 5. 머신러닝 모델 학습\n",
    "#### (1) 로지스틱 회귀"
   ]
  },
  {
   "cell_type": "code",
   "execution_count": 21,
   "id": "6d6f3aa9",
   "metadata": {},
   "outputs": [
    {
     "name": "stdout",
     "output_type": "stream",
     "text": [
      "0.9738353541799617\n",
      "0.845\n"
     ]
    }
   ],
   "source": [
    "from sklearn.linear_model import LogisticRegression\n",
    "\n",
    "model = LogisticRegression(max_iter=5000)\n",
    "model.fit(X_train, y_train)\n",
    "\n",
    "print(model.score(X_train, y_train))\n",
    "print(model.score(X_test, y_test))"
   ]
  },
  {
   "cell_type": "code",
   "execution_count": null,
   "id": "0481bf96",
   "metadata": {},
   "outputs": [],
   "source": [
    "?LogisticRegression"
   ]
  },
  {
   "cell_type": "code",
   "execution_count": 22,
   "id": "92f08fab",
   "metadata": {},
   "outputs": [
    {
     "data": {
      "text/plain": [
       "array([1.96682789e-02, 1.55756063e-01, 2.29955033e-01, 2.39605031e-01,\n",
       "       3.19462241e-02, 4.46658622e-01, 1.24395601e-01, 4.99525774e-01,\n",
       "       1.51342744e-01, 3.26898803e-01, 1.82663397e-01, 3.35659345e-02,\n",
       "       2.09853488e-01, 0.00000000e+00, 5.07612050e-01, 2.70213146e-01,\n",
       "       5.76780438e-01, 2.80705786e-01, 3.48519454e-01, 1.46528822e-01,\n",
       "       2.63969594e-01, 5.32753580e-01, 1.51831824e-02, 1.55647934e-01,\n",
       "       2.19286277e-01, 9.30175127e-01, 5.00519254e-01, 5.95375699e-02,\n",
       "       1.27481116e-01, 8.99996400e-01, 6.57573874e-01, 7.48744789e-02,\n",
       "       2.56378901e-01, 4.32843887e-01, 3.15019351e-02, 4.05789020e-01,\n",
       "       1.99508467e-01, 9.98011400e-02, 1.11919873e-01, 2.00450072e-01,\n",
       "       4.39557643e-01, 1.75575443e-01, 1.91559225e-04, 1.88364550e-01,\n",
       "       1.88397800e-02, 5.38515281e-01, 2.55548872e-01, 2.44571868e-01,\n",
       "       3.85345374e-01, 1.91559225e-04, 2.45838587e-01, 2.00998759e-01,\n",
       "       0.00000000e+00, 4.37555278e-01, 6.24844161e-01, 2.74686919e-01,\n",
       "       4.21811957e-01, 2.60269675e-01, 8.11946370e-01, 1.53746870e+00,\n",
       "       3.37994471e-01, 4.23519773e-01, 6.37241426e-01, 4.98905630e-01,\n",
       "       1.12518586e+00, 9.34346836e-01, 2.48585898e-01, 5.72230188e-01,\n",
       "       5.03266614e-01, 5.00634278e-03, 1.14608516e-01, 4.64265119e-01,\n",
       "       2.76054924e-01, 5.08403254e-02, 2.13575027e-04, 3.66744378e-01,\n",
       "       3.73069432e-02, 3.33686995e-01, 1.08405772e-01, 6.49765290e-02,\n",
       "       2.45704135e-01, 2.19542698e-01, 5.43828805e-02, 1.97665684e-01,\n",
       "       3.16956924e-01, 3.90945384e-01, 3.18715829e-01, 4.76702827e-02,\n",
       "       2.45152578e-01, 3.43330949e-01, 4.96934239e-02, 2.94803087e-01,\n",
       "       5.25419938e-01, 6.21501322e-02, 4.65521246e-01, 7.17000747e-02,\n",
       "       2.74500989e-01, 0.00000000e+00, 3.25774463e-01, 7.58930504e-01,\n",
       "       3.26891565e-01, 3.06334349e-01, 4.00855908e-01, 1.31128413e-01,\n",
       "       6.99256940e-02, 4.51137058e-01, 8.23384884e-03, 2.98217398e-01,\n",
       "       3.90619679e-01, 4.27690006e-01, 5.01709645e-01, 3.71018791e-01,\n",
       "       2.06192559e-01, 1.64086171e-01, 1.84490366e-01, 3.79127052e-01,\n",
       "       1.48651497e-01, 1.03890820e+00, 1.73882392e-01, 4.54904450e-01,\n",
       "       5.18670386e-02, 4.11221088e-01, 9.22690562e-02, 2.31650615e-01,\n",
       "       1.92651927e-01, 8.97218128e-02, 1.94979696e-01, 3.02822240e-01,\n",
       "       2.46246900e-01, 6.60097307e-01, 6.69994277e-01, 3.90165899e-01,\n",
       "       1.26542518e+00, 5.16713066e-01, 1.78680426e-01, 2.49070035e-01,\n",
       "       4.08991854e-01, 2.30373813e-01, 3.62938071e-01, 1.50467202e-01,\n",
       "       1.92143619e-03, 0.00000000e+00, 6.54598310e-01, 2.07045880e-01,\n",
       "       2.78960292e-01, 2.35672209e-01, 3.36403028e-01, 5.86613126e-02,\n",
       "       3.28569607e-01, 0.00000000e+00, 2.15888146e-01, 5.57660887e-01,\n",
       "       2.13541080e-01, 1.24532011e-01, 9.72965934e-02, 7.12044949e-01,\n",
       "       1.02848769e-01, 5.95445982e-01, 2.34568390e-01, 3.48465978e-01,\n",
       "       2.11688643e-02, 5.65685236e-01, 7.88312861e-02, 5.30679940e-02,\n",
       "       3.31584664e-01, 1.42228987e-02, 1.09847866e-01, 1.02632091e-01,\n",
       "       7.66456262e-01, 1.28843647e-01, 3.46599020e-01, 2.29061364e-01,\n",
       "       3.43220993e-01, 1.25583982e-01, 3.48028269e-01, 2.18155614e-01,\n",
       "       3.29731129e-01, 1.88903790e-01, 0.00000000e+00, 0.00000000e+00,\n",
       "       2.26208911e-01, 7.74053541e-02, 3.01756545e-01, 9.63591852e-02,\n",
       "       1.21364818e-01, 5.56737113e-02, 0.00000000e+00, 1.31293450e-01,\n",
       "       2.35218354e-01, 0.00000000e+00, 0.00000000e+00, 0.00000000e+00,\n",
       "       0.00000000e+00, 0.00000000e+00, 0.00000000e+00, 3.01675553e-01,\n",
       "       4.97383926e-01, 2.59639476e-01, 1.28912786e-02, 3.15654289e-01,\n",
       "       3.92422404e-01, 2.52985082e-01, 2.93951169e-01, 1.11763213e-01,\n",
       "       4.23945004e-01, 5.58783659e-01, 2.13575027e-04, 3.66106712e-01,\n",
       "       1.45285975e-01, 2.13575027e-04, 1.87354607e-03, 3.34846111e-02,\n",
       "       1.34367432e-01, 2.31829764e-01, 5.63587658e-01, 1.74839500e-01,\n",
       "       1.05056827e+00, 2.10591181e-01, 4.85332141e-02, 3.88694012e-05,\n",
       "       3.37740372e-02, 4.56136838e-01, 5.40303290e-02, 3.73027541e-01,\n",
       "       2.75849534e-01, 7.61031087e-02, 0.00000000e+00, 2.12212318e-01,\n",
       "       4.71487126e-01, 0.00000000e+00, 0.00000000e+00, 0.00000000e+00,\n",
       "       0.00000000e+00, 0.00000000e+00, 0.00000000e+00, 0.00000000e+00,\n",
       "       0.00000000e+00, 0.00000000e+00, 2.41665776e-01, 7.07583328e-01,\n",
       "       0.00000000e+00, 0.00000000e+00, 0.00000000e+00, 0.00000000e+00,\n",
       "       4.42536816e-02, 1.54958799e-01, 2.63463106e-01, 2.78837731e-01,\n",
       "       3.63686712e-01, 6.55062799e-01, 2.93967394e-01, 3.18705726e-01,\n",
       "       4.00781804e-02, 1.60190446e-01, 2.45465007e-01, 7.56725060e-02,\n",
       "       0.00000000e+00, 0.00000000e+00, 0.00000000e+00, 0.00000000e+00,\n",
       "       0.00000000e+00, 0.00000000e+00, 0.00000000e+00, 0.00000000e+00,\n",
       "       0.00000000e+00, 0.00000000e+00, 0.00000000e+00, 2.38290645e-01,\n",
       "       4.09229295e-01, 1.34017896e-01, 2.91305849e-01, 6.26681953e-01,\n",
       "       5.36579039e-01, 5.58406210e-01, 3.70485937e-01, 1.55563020e-03,\n",
       "       0.00000000e+00, 4.91524705e-01, 2.10238577e-01, 3.55872855e-01,\n",
       "       2.27864714e-01, 1.48798435e-01, 2.14419335e-01, 4.38072462e-01,\n",
       "       0.00000000e+00, 6.18762721e-04, 4.05064457e-01, 2.51456288e-01,\n",
       "       6.58340477e-02, 3.69663576e-01, 2.96058690e-01, 4.85514544e-01,\n",
       "       3.23066461e-02, 1.44071312e-01, 1.29801922e-01, 1.72874461e-01,\n",
       "       2.45204498e-01, 1.64617229e-01, 1.47554909e-01, 1.06981113e-01,\n",
       "       9.91125869e-02, 8.43249799e-03, 3.85842243e-01, 2.80250059e-01,\n",
       "       2.04054459e-01, 7.32458209e-01, 2.41476690e-01, 1.83999303e-01,\n",
       "       1.08520760e-01, 1.81012376e-01, 3.35238985e-01, 7.00318469e-01,\n",
       "       2.39730163e-01, 0.00000000e+00, 0.00000000e+00, 0.00000000e+00,\n",
       "       6.02366185e-01, 1.60294396e-01, 6.23992927e-01, 4.63451278e-02,\n",
       "       2.71992303e-01, 2.99834693e-01, 0.00000000e+00, 1.67147507e-01,\n",
       "       3.45428129e-01, 0.00000000e+00, 0.00000000e+00, 0.00000000e+00,\n",
       "       0.00000000e+00, 0.00000000e+00, 0.00000000e+00, 1.09534766e-01,\n",
       "       7.51022838e-01, 8.40606176e-01, 2.25892602e-01, 2.79431984e-01,\n",
       "       2.18978546e-01, 1.91566897e-01, 4.92822486e-01, 2.94645017e-01,\n",
       "       4.23158158e-01, 3.84952046e-01, 2.13575027e-04, 2.05801091e-01,\n",
       "       4.82347731e-01, 3.53645432e-01, 3.28108362e-01, 2.13575027e-04,\n",
       "       3.80402336e-01, 6.19558086e-01, 2.44117628e-01, 2.02817609e-01,\n",
       "       1.15704861e-01, 7.42647343e-02, 6.64010960e-01, 1.77886327e-01,\n",
       "       7.47963230e-02, 4.96318957e-01, 2.40541869e-01, 4.48623374e-01,\n",
       "       3.21112193e-02, 7.64632890e-01, 5.60382454e-02, 5.07340357e-01,\n",
       "       0.00000000e+00, 8.96010282e-01, 3.94567254e-01, 6.20564889e-01,\n",
       "       9.96440733e-02, 0.00000000e+00, 0.00000000e+00, 0.00000000e+00,\n",
       "       0.00000000e+00, 0.00000000e+00, 0.00000000e+00, 0.00000000e+00,\n",
       "       2.12318922e-01, 6.54469060e-01, 0.00000000e+00, 0.00000000e+00,\n",
       "       0.00000000e+00, 0.00000000e+00, 6.45373978e-02, 1.99226478e-01,\n",
       "       6.76903485e-02, 1.99544541e-01, 5.21783092e-01, 6.16814728e-01,\n",
       "       8.40773142e-01, 3.13559234e-01, 9.31280477e-02, 3.63177689e-01,\n",
       "       2.25242987e-01, 3.77008503e-01, 0.00000000e+00, 0.00000000e+00,\n",
       "       0.00000000e+00, 0.00000000e+00, 0.00000000e+00, 0.00000000e+00,\n",
       "       0.00000000e+00, 0.00000000e+00, 0.00000000e+00, 0.00000000e+00,\n",
       "       0.00000000e+00, 2.28781344e-01, 5.58780934e-01, 2.15406194e-02,\n",
       "       2.01138077e-01, 1.29750929e-01, 4.12313514e-01, 4.26885654e-01,\n",
       "       8.00926602e-02, 3.24169777e-01, 0.00000000e+00, 7.12744548e-01,\n",
       "       2.78715029e-01, 5.25570287e-02, 1.22354387e-01, 8.38440879e-03,\n",
       "       1.94951692e-02, 3.14952057e-01, 0.00000000e+00, 1.98484876e-01,\n",
       "       6.26831696e-01, 1.08204383e+00, 1.30523788e-01, 4.65179618e-02,\n",
       "       6.14708342e-01, 1.70615747e-01, 3.41733110e-01, 6.73981687e-02,\n",
       "       1.75773408e-01, 4.97089435e-02, 1.24972423e-01, 1.02057625e-01,\n",
       "       3.31347320e-01, 4.98757473e-01, 1.38674672e-01, 4.16641818e-01,\n",
       "       2.02161543e-01, 3.99634172e-01, 5.38021641e-03, 2.94520539e-01,\n",
       "       1.31354509e-01, 3.77235728e-01, 1.94967738e-01, 3.18231638e-01,\n",
       "       1.90867430e-01, 0.00000000e+00, 0.00000000e+00, 0.00000000e+00,\n",
       "       1.53345848e-01, 5.14918756e-02, 6.04682221e-01, 1.51498233e-01,\n",
       "       1.87359251e-01, 1.65491249e-01, 0.00000000e+00, 1.69260267e-01,\n",
       "       6.75500831e-01, 0.00000000e+00, 0.00000000e+00, 0.00000000e+00,\n",
       "       0.00000000e+00, 0.00000000e+00, 0.00000000e+00, 2.04025211e-01,\n",
       "       5.58923320e-02, 1.18289950e-01, 1.38854215e-01, 9.50229381e-01,\n",
       "       3.22235397e-02, 1.81383534e-01, 3.56567994e-01, 1.08854855e-01,\n",
       "       1.08989070e-02, 3.22326192e-01, 2.13575027e-04, 2.67712173e-01,\n",
       "       2.85252839e-02, 0.00000000e+00, 1.58848589e-01, 1.17557394e-01,\n",
       "       1.48621840e-01, 3.60774205e-01, 4.03262621e-01, 2.22724683e-01,\n",
       "       5.85688134e-01, 8.56255441e-02, 6.84439586e-02, 6.97321517e-01,\n",
       "       1.56301323e-02, 4.22971598e-01, 7.54398786e-02, 4.24271548e-01,\n",
       "       1.59591710e-01, 8.83401650e-02, 0.00000000e+00, 6.20235921e-02,\n",
       "       3.56813724e-01, 0.00000000e+00, 0.00000000e+00, 0.00000000e+00,\n",
       "       0.00000000e+00, 0.00000000e+00, 0.00000000e+00, 0.00000000e+00,\n",
       "       0.00000000e+00, 0.00000000e+00, 5.47152954e-02, 2.34483526e-01,\n",
       "       0.00000000e+00, 0.00000000e+00, 0.00000000e+00, 0.00000000e+00,\n",
       "       4.44011759e-02, 1.63201614e-01, 2.60009327e-01, 3.72718336e-02,\n",
       "       3.35319030e-01, 1.07106950e-01, 7.60301972e-02, 3.33449210e-01,\n",
       "       1.86248184e-01, 1.02710274e-02, 2.88133818e-01, 1.24740702e-01,\n",
       "       0.00000000e+00, 0.00000000e+00, 0.00000000e+00, 0.00000000e+00,\n",
       "       0.00000000e+00, 0.00000000e+00, 0.00000000e+00, 0.00000000e+00,\n",
       "       0.00000000e+00, 0.00000000e+00, 0.00000000e+00, 4.26868082e-02,\n",
       "       4.33976446e-01, 1.27724736e-01, 2.45893770e-02, 5.52134717e-01,\n",
       "       3.81804733e-01, 1.65326134e-01, 5.68123611e-01, 5.65018558e-02,\n",
       "       1.28006028e-01, 2.94224807e-01, 1.74941239e-01, 5.59356807e-02,\n",
       "       1.65322219e-01, 1.31024073e-01, 2.93331675e-01, 1.29031661e-01,\n",
       "       3.48605417e-01, 7.16009929e-02, 3.70669861e-01, 1.17754974e-01,\n",
       "       5.17928475e-01, 3.67299295e-01, 2.69881567e-02, 3.27836888e-01,\n",
       "       3.71550028e-01, 8.96474673e-02, 7.57629823e-01, 1.46043589e-01,\n",
       "       5.52814947e-01, 8.75637163e-02, 4.56294019e-02, 8.72579650e-02,\n",
       "       8.49991637e-03, 6.76572554e-02, 3.97483740e-01, 1.50590167e-01,\n",
       "       2.42234470e-01, 4.04818625e-01, 4.84302700e-01, 3.03704032e-01,\n",
       "       2.13308727e-01, 3.89404339e-01, 5.67644126e-01, 4.42202231e-02,\n",
       "       1.00637545e-01, 1.68143562e-02, 5.85607121e-02, 1.64606857e-01,\n",
       "       7.44611078e-02, 9.81112466e-02])"
      ]
     },
     "execution_count": 22,
     "metadata": {},
     "output_type": "execute_result"
    }
   ],
   "source": [
    "##### 변수 중요도 확인\n",
    "\n",
    "abs_coef = np.abs(model.coef_).ravel()\n",
    "abs_coef"
   ]
  },
  {
   "cell_type": "code",
   "execution_count": 23,
   "id": "425fe44a",
   "metadata": {},
   "outputs": [
    {
     "data": {
      "text/plain": [
       "Text(0, 0.5, 'Weight absolute values')"
      ]
     },
     "execution_count": 23,
     "metadata": {},
     "output_type": "execute_result"
    },
    {
     "data": {
      "image/png": "[encoded data removed]",
      "text/plain": [
       "<Figure size 1080x720 with 1 Axes>"
      ]
     },
     "metadata": {},
     "output_type": "display_data"
    }
   ],
   "source": [
    "lr_import_x = [str(i[0]) for i in sorted(enumerate(abs_coef), key=lambda x:x[1], reverse=True)]\n",
    "lr_import_x\n",
    "\n",
    "plt.bar(lr_import_x[:20], sorted(abs_coef, reverse=True)[:20])\n",
    "plt.rcParams[\"figure.figsize\"] = (15, 10)\n",
    "plt.xlabel(\"Features\")\n",
    "plt.ylabel(\"Weight absolute values\")"
   ]
  },
  {
   "cell_type": "code",
   "execution_count": 24,
   "id": "b7137940",
   "metadata": {},
   "outputs": [
    {
     "name": "stdout",
     "output_type": "stream",
     "text": [
      "0.6550627994933893\n",
      "249\n"
     ]
    }
   ],
   "source": [
    "# 만약 30번째 센서의 가중치값을 알고 싶을 때\n",
    "print(sorted(abs_coef, reverse=True)[30])\n",
    "print(lr_import_x[30])"
   ]
  },
  {
   "cell_type": "markdown",
   "id": "01699615",
   "metadata": {},
   "source": [
    "#### (2) 다양한 분류모델 학습 "
   ]
  },
  {
   "cell_type": "code",
   "execution_count": 25,
   "id": "dc4c9559",
   "metadata": {},
   "outputs": [],
   "source": [
    "from sklearn.neighbors import KNeighborsClassifier\n",
    "from sklearn.tree import DecisionTreeClassifier\n",
    "from sklearn.naive_bayes import GaussianNB\n",
    "from sklearn.ensemble import RandomForestClassifier\n",
    "from sklearn.svm import SVC\n",
    "import xgboost as xgb  # pip install xgboost\n",
    "from xgboost.sklearn import XGBClassifier\n",
    "from sklearn.discriminant_analysis import LinearDiscriminantAnalysis"
   ]
  },
  {
   "cell_type": "code",
   "execution_count": 26,
   "id": "a5011aac",
   "metadata": {},
   "outputs": [],
   "source": [
    "models = []\n",
    "models.append((\"KNN\", KNeighborsClassifier()))\n",
    "models.append((\"NB\", GaussianNB()))\n",
    "models.append((\"CART\", DecisionTreeClassifier()))\n",
    "models.append((\"RF\", RandomForestClassifier()))\n",
    "models.append((\"LDA\", LinearDiscriminantAnalysis()))\n",
    "models.append((\"SVM\", SVC(gamma=\"auto\")))\n",
    "models.append((\"XGB\", XGBClassifier()))"
   ]
  },
  {
   "cell_type": "code",
   "execution_count": 27,
   "id": "852aaba6",
   "metadata": {},
   "outputs": [
    {
     "name": "stdout",
     "output_type": "stream",
     "text": [
      "KNN - train score : 0.9342693044033185, test score : 0.5483333333333333\n",
      "NB - train score : 0.18123803446075304, test score : 0.57\n",
      "CART - train score : 1.0, test score : 0.65\n",
      "RF - train score : 1.0, test score : 0.5033333333333333\n",
      "LDA - train score : 0.9719208679004467, test score : 0.8833333333333333\n",
      "SVM - train score : 0.9380982769623485, test score : 0.48833333333333334\n",
      "[09:43:25] WARNING: ..\\src\\learner.cc:1061: Starting in XGBoost 1.3.0, the default evaluation metric used with the objective 'binary:logistic' was changed from 'error' to 'logloss'. Explicitly set eval_metric if you'd like to restore the old behavior.\n"
     ]
    },
    {
     "name": "stderr",
     "output_type": "stream",
     "text": [
      "C:\\ProgramData\\Anaconda3\\lib\\site-packages\\xgboost\\sklearn.py:888: UserWarning: The use of label encoder in XGBClassifier is deprecated and will be removed in a future release. To remove this warning, do the following: 1) Pass option use_label_encoder=False when constructing XGBClassifier object; and 2) Encode your labels (y) as integers starting with 0, i.e. 0, 1, 2, ..., [num_class - 1].\n",
      "  warnings.warn(label_encoder_deprecation_msg, UserWarning)\n"
     ]
    },
    {
     "name": "stdout",
     "output_type": "stream",
     "text": [
      "XGB - train score : 1.0, test score : 0.6883333333333334\n"
     ]
    }
   ],
   "source": [
    "for name, model in models:\n",
    "    model.fit(X_train, y_train)\n",
    "    \n",
    "    msg = \"{} - train score : {}, test score : {}\".format(name, model.score(X_train, y_train),\n",
    "                                                         model.score(X_test, y_test))\n",
    "    print(msg)"
   ]
  },
  {
   "cell_type": "markdown",
   "id": "4329d239",
   "metadata": {},
   "source": [
    "### 6. 평가 및 예측 \n",
    "#### (1) Confusion Matrix"
   ]
  },
  {
   "cell_type": "code",
   "execution_count": 29,
   "id": "6fa1cf9d",
   "metadata": {},
   "outputs": [],
   "source": [
    "\n",
    "from sklearn.metrics import confusion_matrix"
   ]
  },
  {
   "cell_type": "code",
   "execution_count": 30,
   "id": "026f968e",
   "metadata": {},
   "outputs": [
    {
     "data": {
      "text/plain": [
       "array([[1448,   15],\n",
       "       [  29,   75]], dtype=int64)"
      ]
     },
     "execution_count": 30,
     "metadata": {},
     "output_type": "execute_result"
    }
   ],
   "source": [
    "model_prediction_train = models[4][1].predict(X_train)\n",
    "cm_train = confusion_matrix(y_train, model_prediction_train)\n",
    "cm_train"
   ]
  },
  {
   "cell_type": "code",
   "execution_count": null,
   "id": "ec80fff9",
   "metadata": {},
   "outputs": [],
   "source": [
    "### 오차표 확인 \n",
    "plt.rcParams"
   ]
  },
  {
   "cell_type": "code",
   "execution_count": 32,
   "id": "66fe8a71",
   "metadata": {},
   "outputs": [
    {
     "name": "stdout",
     "output_type": "stream",
     "text": [
      "재현율 : 0.7795527156549521\n",
      "정밀도 : 0.9959183673469387\n"
     ]
    }
   ],
   "source": [
    "from sklearn.metrics import recall_score\n",
    "from sklearn.metrics import precision_score\n",
    "\n",
    "print('재현율 :',recall_score(y_test, models[4][1].predict(X_test)))\n",
    "print('정밀도 :',precision_score(y_test, models[4][1].predict(X_test)))"
   ]
  },
  {
   "cell_type": "markdown",
   "id": "eff075cd",
   "metadata": {},
   "source": [
    "#### (2) 테스트 데이터의 예측값 출력 "
   ]
  },
  {
   "cell_type": "code",
   "execution_count": 38,
   "id": "823e68d9",
   "metadata": {},
   "outputs": [
    {
     "name": "stdout",
     "output_type": "stream",
     "text": [
      "실제 데이터 : 1,예측결과 :1\n",
      "실제 데이터 : -1,예측결과 :1\n",
      "실제 데이터 : -1,예측결과 :-1\n",
      "실제 데이터 : 1,예측결과 :-1\n",
      "실제 데이터 : 1,예측결과 :1\n",
      "실제 데이터 : -1,예측결과 :-1\n",
      "실제 데이터 : -1,예측결과 :-1\n",
      "실제 데이터 : 1,예측결과 :1\n",
      "실제 데이터 : 1,예측결과 :1\n",
      "실제 데이터 : 1,예측결과 :1\n"
     ]
    }
   ],
   "source": [
    "for i in range(10):\n",
    "    prediction=models[4][1].predict(X_test[i].reshape(1,-1))\n",
    "    print('실제 데이터 : {},예측결과 :{}'.format(y_test[i],prediction[0]))\n",
    "    "
   ]
  },
  {
   "cell_type": "code",
   "execution_count": null,
   "id": "cfd9e3fa",
   "metadata": {},
   "outputs": [],
   "source": []
  },
  {
   "cell_type": "code",
   "execution_count": null,
   "id": "e6cd6156",
   "metadata": {},
   "outputs": [],
   "source": []
  },
  {
   "cell_type": "code",
   "execution_count": null,
   "id": "2c6f48a3",
   "metadata": {},
   "outputs": [],
   "source": []
  },
  {
   "cell_type": "code",
   "execution_count": null,
   "id": "9b125ae3",
   "metadata": {},
   "outputs": [],
   "source": []
  },
  {
   "cell_type": "code",
   "execution_count": null,
   "id": "1a9456b6",
   "metadata": {},
   "outputs": [],
   "source": []
  },
  {
   "cell_type": "code",
   "execution_count": null,
   "id": "39e6e6a8",
   "metadata": {},
   "outputs": [],
   "source": []
  },
  {
   "cell_type": "code",
   "execution_count": null,
   "id": "b201623e",
   "metadata": {},
   "outputs": [],
   "source": []
  },
  {
   "cell_type": "code",
   "execution_count": null,
   "id": "347ec38a",
   "metadata": {},
   "outputs": [],
   "source": []
  },
  {
   "cell_type": "code",
   "execution_count": null,
   "id": "cda48776",
   "metadata": {},
   "outputs": [],
   "source": []
  },
  {
   "cell_type": "code",
   "execution_count": null,
   "id": "076227c8",
   "metadata": {},
   "outputs": [],
   "source": []
  },
  {
   "cell_type": "code",
   "execution_count": null,
   "id": "ad98b9f6",
   "metadata": {},
   "outputs": [],
   "source": []
  },
  {
   "cell_type": "code",
   "execution_count": null,
   "id": "a0e2eba1",
   "metadata": {},
   "outputs": [],
   "source": []
  },
  {
   "cell_type": "code",
   "execution_count": null,
   "id": "33cbabf6",
   "metadata": {},
   "outputs": [],
   "source": []
  },
  {
   "cell_type": "code",
   "execution_count": null,
   "id": "51724519",
   "metadata": {},
   "outputs": [],
   "source": []
  },
  {
   "cell_type": "code",
   "execution_count": null,
   "id": "a0f51fd9",
   "metadata": {},
   "outputs": [],
   "source": []
  },
  {
   "cell_type": "code",
   "execution_count": null,
   "id": "1833c976",
   "metadata": {},
   "outputs": [],
   "source": []
  },
  {
   "cell_type": "code",
   "execution_count": null,
   "id": "c081f5fe",
   "metadata": {},
   "outputs": [],
   "source": []
  },
  {
   "cell_type": "code",
   "execution_count": null,
   "id": "4764f021",
   "metadata": {},
   "outputs": [],
   "source": []
  },
  {
   "cell_type": "code",
   "execution_count": null,
   "id": "74bca0bd",
   "metadata": {},
   "outputs": [],
   "source": []
  },
  {
   "cell_type": "code",
   "execution_count": null,
   "id": "e9abbf5e",
   "metadata": {},
   "outputs": [],
   "source": []
  },
  {
   "cell_type": "code",
   "execution_count": null,
   "id": "c6edd030",
   "metadata": {},
   "outputs": [],
   "source": []
  },
  {
   "cell_type": "code",
   "execution_count": null,
   "id": "146cbc04",
   "metadata": {},
   "outputs": [],
   "source": []
  }
 ],
 "metadata": {
  "kernelspec": {
   "display_name": "Python 3",
   "language": "python",
   "name": "python3"
  },
  "language_info": {
   "codemirror_mode": {
    "name": "ipython",
    "version": 3
   },
   "file_extension": ".py",
   "mimetype": "text/x-python",
   "name": "python",
   "nbconvert_exporter": "python",
   "pygments_lexer": "ipython3",
   "version": "3.8.8"
  }
 },
 "nbformat": 4,
 "nbformat_minor": 5
}
